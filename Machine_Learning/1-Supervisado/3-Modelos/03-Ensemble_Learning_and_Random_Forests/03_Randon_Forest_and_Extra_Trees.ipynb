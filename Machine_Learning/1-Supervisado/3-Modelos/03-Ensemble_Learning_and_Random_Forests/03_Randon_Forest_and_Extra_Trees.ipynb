{
 "cells": [
  {
   "cell_type": "markdown",
   "metadata": {},
   "source": [
    "# **Capitulo 6 – Ensemble Learning and Random Forests**"
   ]
  },
  {
   "cell_type": "markdown",
   "metadata": {
    "tags": []
   },
   "source": [
    "# Setup"
   ]
  },
  {
   "cell_type": "markdown",
   "metadata": {},
   "source": [
    "Como hicimos en NoteBooks anteriores, vamos a definir los tamaños de fuente por defecto para que las figuras queden más bonitas:"
   ]
  },
  {
   "cell_type": "code",
   "execution_count": 1,
   "metadata": {},
   "outputs": [],
   "source": [
    "import matplotlib.pyplot as plt\n",
    "\n",
    "plt.rc('font', size=14)\n",
    "plt.rc('axes', labelsize=14, titlesize=14)\n",
    "plt.rc('legend', fontsize=14)\n",
    "plt.rc('xtick', labelsize=10)\n",
    "plt.rc('ytick', labelsize=10)"
   ]
  },
  {
   "cell_type": "markdown",
   "metadata": {},
   "source": [
    "Y vamos a crear la carpeta `images/ensembles` (si no existe ya), y definir la función `save_fig()` que se utiliza a través de este Notebook para guardar las figuras:"
   ]
  },
  {
   "cell_type": "code",
   "execution_count": 2,
   "metadata": {},
   "outputs": [],
   "source": [
    "from pathlib import Path\n",
    "\n",
    "IMAGES_PATH = Path() / \"images\" / \"ensembles\"\n",
    "IMAGES_PATH.mkdir(parents=True, exist_ok=True)\n",
    "\n",
    "def save_fig(fig_id, tight_layout=True, fig_extension=\"png\", resolution=300):\n",
    "    path = IMAGES_PATH / f\"{fig_id}.{fig_extension}\"\n",
    "    if tight_layout:\n",
    "        plt.tight_layout()\n",
    "    plt.savefig(path, format=fig_extension, dpi=resolution)"
   ]
  },
  {
   "cell_type": "code",
   "execution_count": 5,
   "metadata": {},
   "outputs": [],
   "source": [
    "import numpy as np\n",
    "from sklearn.datasets import make_moons\n",
    "from sklearn.ensemble import RandomForestClassifier, VotingClassifier, BaggingClassifier\n",
    "from sklearn.linear_model import LogisticRegression\n",
    "from sklearn.model_selection import train_test_split\n",
    "from sklearn.tree import DecisionTreeClassifier\n",
    "from sklearn.svm import SVC\n",
    "\n",
    "X, y = make_moons(n_samples=500, noise=0.30, random_state=42)\n",
    "X_train, X_test, y_train, y_test = train_test_split(X, y, random_state=42)"
   ]
  },
  {
   "cell_type": "markdown",
   "metadata": {},
   "source": [
    "## Random Patches and Random Subspaces"
   ]
  },
  {
   "cell_type": "markdown",
   "metadata": {},
   "source": [
    "La clase BaggingClassifier también admite el muestreo de las características. El muestreo se controla mediante dos hiperparámetros: max_features y bootstrap_features. Funcionan del mismo modo que max_sample y bootstrap, pero para el muestreo de características en lugar del muestreo de instancias. Así, cada predictor se entrenará con un subconjunto aleatorio de las características de entrada.\n",
    "\n",
    "Esta técnica es especialmente útil cuando se trabaja con entradas de alta dimensión (como imágenes), ya que puede acelerar considerablemente el entrenamiento. El muestreo tanto de las instancias de entrenamiento como de las características se denomina método de parches aleatorios. Mantener todas las instancias de entrenamiento (estableciendo bootstrap=False y max_samples=1.0) pero muestrear las características (estableciendo bootstrap_features a True y/o max_features a un valor menor que 1.0) se denomina método de subespacios aleatorios.\n",
    "\n",
    "El muestreo de características da como resultado una mayor diversidad de predictores, cambiando un poco más de sesgo por una menor varianza."
   ]
  },
  {
   "cell_type": "markdown",
   "metadata": {},
   "source": [
    "# Random Forests"
   ]
  },
  {
   "cell_type": "markdown",
   "metadata": {},
   "source": [
    "Como ya hemos comentado, un random forest es un conjunto de árboles de decisión, generalmente entrenados mediante el método bagging (o a veces pasting), normalmente con max_samples fijado al tamaño del conjunto de entrenamiento. En lugar de construir un BaggingClassifier y pasarle un DecisionTreeClassifier, puedes usar la clase RandomForestClassifier, que es más conveniente y está optimizada para árboles de decisión (de forma similar, hay una clase RandomForestRegressor para tareas de regresión). El siguiente código entrena un clasificador de random forest con 500 árboles, cada uno limitado a un máximo de 16 nodos hoja, utilizando todos los núcleos de CPU disponibles:\n"
   ]
  },
  {
   "cell_type": "code",
   "execution_count": 4,
   "metadata": {},
   "outputs": [],
   "source": [
    "from sklearn.ensemble import RandomForestClassifier\n",
    "\n",
    "rnd_clf = RandomForestClassifier(n_estimators=500, max_leaf_nodes=16,\n",
    "                                 n_jobs=-1, random_state=42)\n",
    "rnd_clf.fit(X_train, y_train)\n",
    "y_pred_rf = rnd_clf.predict(X_test)"
   ]
  },
  {
   "cell_type": "markdown",
   "metadata": {},
   "source": [
    "Con algunas excepciones, un RandomForestClassifier tiene todos los hiperparámetros de un DecisionTreeClassifier (para controlar cómo crecen los árboles), además de todos los hiperparámetros de un BaggingClassifier para controlar el conjunto en sí.\n",
    "\n",
    "El algoritmo de random forest introduce una aleatoriedad adicional en el crecimiento de los árboles; en lugar de buscar la mejor característica al dividir un nodo, busca la mejor característica entre un subconjunto aleatorio de características. Por defecto, muestrea n características (donde n es el número total de características). El algoritmo da como resultado una mayor diversidad del árbol, que (de nuevo) cambia un mayor sesgo por una menor varianza, lo que generalmente produce un modelo globalmente mejor. Así pues, el siguiente BaggingClassifier es equivalente al anterior RandomForestClassifier:"
   ]
  },
  {
   "cell_type": "markdown",
   "metadata": {},
   "source": [
    "Un Random Forest equivale a una bolsa de árboles de decisión:"
   ]
  },
  {
   "cell_type": "code",
   "execution_count": 6,
   "metadata": {},
   "outputs": [],
   "source": [
    "bag_clf = BaggingClassifier(\n",
    "    DecisionTreeClassifier(max_features=\"sqrt\", max_leaf_nodes=16),\n",
    "    n_estimators=500, n_jobs=-1, random_state=42)"
   ]
  },
  {
   "cell_type": "code",
   "execution_count": 7,
   "metadata": {},
   "outputs": [
    {
     "data": {
      "text/plain": [
       "True"
      ]
     },
     "execution_count": 7,
     "metadata": {},
     "output_type": "execute_result"
    }
   ],
   "source": [
    "bag_clf.fit(X_train, y_train)\n",
    "y_pred_bag = bag_clf.predict(X_test)\n",
    "np.all(y_pred_bag == y_pred_rf)"
   ]
  },
  {
   "cell_type": "markdown",
   "metadata": {},
   "source": [
    "## Extra-Trees"
   ]
  },
  {
   "cell_type": "markdown",
   "metadata": {},
   "source": [
    "Cuando se hace crecer un árbol en un random forest, en cada nodo sólo se considera un subconjunto aleatorio de las características para la división (como se ha comentado antes). Es posible hacer árboles aún más aleatorios utilizando también umbrales aleatorios para cada característica en lugar de buscar los mejores umbrales posibles (como hacen los árboles de decisión normales). Para ello, basta con establecer splitter=\"random\" al crear un DecisionTreeClassifier.\n",
    "\n",
    "Un bosque de estos árboles extremadamente aleatorios se denomina conjunto de árboles extremadamente aleatorios (o extra-árboles para abreviar). Una vez más, esta técnica cambia un mayor sesgo por una menor varianza. También hace que los clasificadores extra-árboles sean mucho más rápidos de entrenar que los random forest normales, porque encontrar el mejor umbral posible para cada característica en cada nodo es una de las tareas que más tiempo consume en el crecimiento de un árbol. Puede crear un clasificador extra-trees utilizando la clase ExtraTreesClassifier de Scikit-Learn. Su API es idéntica a la de la clase RandomForestClassifier, excepto que el valor predeterminado de bootstrap es False. Del mismo modo, la clase ExtraTreesRegressor tiene la misma API que la clase RandomForestRegressor, excepto que el valor predeterminado de bootstrap es False.\n"
   ]
  },
  {
   "cell_type": "markdown",
   "metadata": {},
   "source": [
    "Es difícil saber de antemano si un RandomForestClassifier funcionará mejor o peor que un ExtraTreesClassifier. Por lo general, la única forma de saberlo es probar ambos y compararlos mediante cross validation."
   ]
  },
  {
   "cell_type": "markdown",
   "metadata": {},
   "source": [
    "## Feature Importance"
   ]
  },
  {
   "cell_type": "markdown",
   "metadata": {},
   "source": [
    "Otra gran cualidad de los Random Forest es que facilitan la medición de la importancia relativa de cada característica. Scikit-Learn mide la importancia de una característica observando en qué medida los nodos del árbol que utilizan esa característica reducen la impureza de media, en todos los árboles del bosque. Más concretamente, se trata de una media ponderada, en la que el peso de cada nodo es igual al número de muestras de entrenamiento asociadas a él.\n",
    "\n",
    "Scikit-Learn calcula esta puntuación automáticamente para cada característica después del entrenamiento, y luego escala los resultados para que la suma de todas las importancias sea igual a 1. Puede acceder al resultado utilizando la variable feature_importances_. Por ejemplo, el siguiente código entrena un RandomForestClassifier en el conjunto de datos del iris y muestra la importancia de cada característica. Parece que las características más importantes son la longitud (44%) y la anchura (42%) de los pétalos, mientras que la longitud y la anchura de los sépalos son poco importantes en comparación (11% y 2%, respectivamente):"
   ]
  },
  {
   "cell_type": "code",
   "execution_count": 8,
   "metadata": {},
   "outputs": [
    {
     "name": "stdout",
     "output_type": "stream",
     "text": [
      "0.11 sepal length (cm)\n",
      "0.02 sepal width (cm)\n",
      "0.44 petal length (cm)\n",
      "0.42 petal width (cm)\n"
     ]
    }
   ],
   "source": [
    "from sklearn.datasets import load_iris\n",
    "\n",
    "iris = load_iris(as_frame=True)\n",
    "rnd_clf = RandomForestClassifier(n_estimators=500, random_state=42)\n",
    "rnd_clf.fit(iris.data, iris.target)\n",
    "for score, name in zip(rnd_clf.feature_importances_, iris.data.columns):\n",
    "    print(round(score, 2), name)"
   ]
  },
  {
   "cell_type": "markdown",
   "metadata": {},
   "source": [
    "Del mismo modo, si se entrena un clasificador de random forest en el conjunto de datos MNIST y se representa gráficamente la importancia de cada píxel, se obtiene la imagen representada en la Figura."
   ]
  },
  {
   "cell_type": "code",
   "execution_count": 22,
   "metadata": {},
   "outputs": [
    {
     "data": {
      "image/png": "[encoded data removed]",
      "text/plain": [
       "<Figure size 432x288 with 2 Axes>"
      ]
     },
     "metadata": {
      "needs_background": "light"
     },
     "output_type": "display_data"
    }
   ],
   "source": [
    "from sklearn.datasets import fetch_openml\n",
    "\n",
    "X_mnist, y_mnist = fetch_openml('mnist_784', return_X_y=True, as_frame=False,\n",
    "                                parser='auto')\n",
    "\n",
    "rnd_clf = RandomForestClassifier(n_estimators=100, random_state=42)\n",
    "rnd_clf.fit(X_mnist, y_mnist)\n",
    "\n",
    "heatmap_image = rnd_clf.feature_importances_.reshape(28, 28)\n",
    "plt.imshow(heatmap_image, cmap=\"hot\")\n",
    "cbar = plt.colorbar(ticks=[rnd_clf.feature_importances_.min(),\n",
    "                           rnd_clf.feature_importances_.max()])\n",
    "cbar.ax.set_yticklabels(['Not important', 'Very important'], fontsize=14)\n",
    "plt.axis(\"off\")\n",
    "save_fig(\"mnist_feature_importance_plot\")\n",
    "plt.show()"
   ]
  },
  {
   "cell_type": "markdown",
   "metadata": {},
   "source": [
    "Los random forest son muy útiles para comprender rápidamente qué características son realmente importantes, en particular si necesita realizar una selección de características."
   ]
  },
  {
   "cell_type": "code",
   "execution_count": null,
   "metadata": {},
   "outputs": [],
   "source": []
  }
 ],
 "metadata": {
  "kernelspec": {
   "display_name": "Python 3 (ipykernel)",
   "language": "python",
   "name": "python3"
  },
  "language_info": {
   "codemirror_mode": {
    "name": "ipython",
    "version": 3
   },
   "file_extension": ".py",
   "mimetype": "text/x-python",
   "name": "python",
   "nbconvert_exporter": "python",
   "pygments_lexer": "ipython3",
   "version": "3.11.6"
  },
  "nav_menu": {
   "height": "252px",
   "width": "333px"
  },
  "toc": {
   "navigate_menu": true,
   "number_sections": true,
   "sideBar": true,
   "threshold": 6,
   "toc_cell": false,
   "toc_section_display": "block",
   "toc_window_display": false
  }
 },
 "nbformat": 4,
 "nbformat_minor": 4
}
