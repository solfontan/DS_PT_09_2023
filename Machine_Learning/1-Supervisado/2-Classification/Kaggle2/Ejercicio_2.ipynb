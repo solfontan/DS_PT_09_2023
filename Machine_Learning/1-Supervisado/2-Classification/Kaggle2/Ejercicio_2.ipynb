{
 "cells": [
  {
   "cell_type": "markdown",
   "metadata": {},
   "source": [
    "### Librerías"
   ]
  },
  {
   "cell_type": "code",
   "execution_count": 1,
   "metadata": {},
   "outputs": [],
   "source": [
    "# Manipulación de datos\n",
    "import numpy as pd\n",
    "import pandas as pd\n",
    "# Visualización de datos\n",
    "import matplotlib.pyplot as plt\n",
    "import seaborn as sns\n",
    "import prettytable\n",
    "\n",
    "# Preparación de datos \n",
    "from sklearn.model_selection import train_test_split, cross_validate\n",
    "from sklearn.preprocessing import OneHotEncoder, StandardScaler, LabelEncoder, MinMaxScaler\n",
    "from sklearn.compose import ColumnTransformer\n",
    "from sklearn.pipeline import make_pipeline\n",
    "\n",
    "# Modelos\n",
    "from sklearn.linear_model import LogisticRegression, LinearRegression\n",
    "from sklearn.ensemble import  RandomForestClassifier,  GradientBoostingClassifier, VotingClassifier,  AdaBoostClassifier, StackingClassifier\n",
    "from sklearn.tree import DecisionTreeClassifier\n",
    "from sklearn.svm import SVC\n",
    "from sklearn.metrics import  classification_report, confusion_matrix,  accuracy_score, f1_score,  precision_score, recall_score, \\\n",
    "roc_curve, roc_auc_score, ConfusionMatrixDisplay, multilabel_confusion_matrix, make_scorer\n",
    "# Ignorar warnings\n",
    "import warnings\n",
    "warnings.filterwarnings('ignore')\n"
   ]
  },
  {
   "cell_type": "markdown",
   "metadata": {},
   "source": [
    "##### Evaluation : f-score macro"
   ]
  },
  {
   "cell_type": "markdown",
   "metadata": {},
   "source": [
    "### Datos"
   ]
  },
  {
   "cell_type": "code",
   "execution_count": 2,
   "metadata": {},
   "outputs": [
    {
     "data": {
      "text/html": [
       "<div>\n",
       "<style scoped>\n",
       "    .dataframe tbody tr th:only-of-type {\n",
       "        vertical-align: middle;\n",
       "    }\n",
       "\n",
       "    .dataframe tbody tr th {\n",
       "        vertical-align: top;\n",
       "    }\n",
       "\n",
       "    .dataframe thead th {\n",
       "        text-align: right;\n",
       "    }\n",
       "</style>\n",
       "<table border=\"1\" class=\"dataframe\">\n",
       "  <thead>\n",
       "    <tr style=\"text-align: right;\">\n",
       "      <th></th>\n",
       "      <th>Id</th>\n",
       "      <th>target</th>\n",
       "      <th>RevolvingUtilizationOfUnsecuredLines</th>\n",
       "      <th>age</th>\n",
       "      <th>NumberOfTime30-59DaysPastDueNotWorse</th>\n",
       "      <th>DebtRatio</th>\n",
       "      <th>MonthlyIncome</th>\n",
       "      <th>NumberOfOpenCreditLinesAndLoans</th>\n",
       "      <th>NumberOfTimes90DaysLate</th>\n",
       "      <th>NumberRealEstateLoansOrLines</th>\n",
       "      <th>NumberOfTime60-89DaysPastDueNotWorse</th>\n",
       "      <th>NumberOfDependents</th>\n",
       "    </tr>\n",
       "  </thead>\n",
       "  <tbody>\n",
       "    <tr>\n",
       "      <th>0</th>\n",
       "      <td>44164</td>\n",
       "      <td>0</td>\n",
       "      <td>0.768219</td>\n",
       "      <td>68y</td>\n",
       "      <td>1</td>\n",
       "      <td>0.687930</td>\n",
       "      <td>2178.0</td>\n",
       "      <td>12</td>\n",
       "      <td>0</td>\n",
       "      <td>1</td>\n",
       "      <td>0</td>\n",
       "      <td>0.0</td>\n",
       "    </tr>\n",
       "    <tr>\n",
       "      <th>1</th>\n",
       "      <td>95356</td>\n",
       "      <td>0</td>\n",
       "      <td>0.289873</td>\n",
       "      <td>52y</td>\n",
       "      <td>0</td>\n",
       "      <td>0.385497</td>\n",
       "      <td>3750.0</td>\n",
       "      <td>16</td>\n",
       "      <td>0</td>\n",
       "      <td>1</td>\n",
       "      <td>0</td>\n",
       "      <td>1.0</td>\n",
       "    </tr>\n",
       "    <tr>\n",
       "      <th>2</th>\n",
       "      <td>108917</td>\n",
       "      <td>0</td>\n",
       "      <td>0.000000</td>\n",
       "      <td>54y</td>\n",
       "      <td>0</td>\n",
       "      <td>0.346503</td>\n",
       "      <td>6833.0</td>\n",
       "      <td>8</td>\n",
       "      <td>0</td>\n",
       "      <td>1</td>\n",
       "      <td>0</td>\n",
       "      <td>0.0</td>\n",
       "    </tr>\n",
       "    <tr>\n",
       "      <th>3</th>\n",
       "      <td>99039</td>\n",
       "      <td>0</td>\n",
       "      <td>0.046064</td>\n",
       "      <td>66y</td>\n",
       "      <td>1</td>\n",
       "      <td>0.407614</td>\n",
       "      <td>5200.0</td>\n",
       "      <td>6</td>\n",
       "      <td>0</td>\n",
       "      <td>1</td>\n",
       "      <td>0</td>\n",
       "      <td>1.0</td>\n",
       "    </tr>\n",
       "    <tr>\n",
       "      <th>4</th>\n",
       "      <td>116168</td>\n",
       "      <td>0</td>\n",
       "      <td>0.168771</td>\n",
       "      <td>45y</td>\n",
       "      <td>0</td>\n",
       "      <td>4702.000000</td>\n",
       "      <td>NaN</td>\n",
       "      <td>10</td>\n",
       "      <td>0</td>\n",
       "      <td>3</td>\n",
       "      <td>0</td>\n",
       "      <td>1.0</td>\n",
       "    </tr>\n",
       "  </tbody>\n",
       "</table>\n",
       "</div>"
      ],
      "text/plain": [
       "       Id  target  RevolvingUtilizationOfUnsecuredLines  age  \\\n",
       "0   44164       0                              0.768219  68y   \n",
       "1   95356       0                              0.289873  52y   \n",
       "2  108917       0                              0.000000  54y   \n",
       "3   99039       0                              0.046064  66y   \n",
       "4  116168       0                              0.168771  45y   \n",
       "\n",
       "   NumberOfTime30-59DaysPastDueNotWorse    DebtRatio  MonthlyIncome  \\\n",
       "0                                     1     0.687930         2178.0   \n",
       "1                                     0     0.385497         3750.0   \n",
       "2                                     0     0.346503         6833.0   \n",
       "3                                     1     0.407614         5200.0   \n",
       "4                                     0  4702.000000            NaN   \n",
       "\n",
       "   NumberOfOpenCreditLinesAndLoans  NumberOfTimes90DaysLate  \\\n",
       "0                               12                        0   \n",
       "1                               16                        0   \n",
       "2                                8                        0   \n",
       "3                                6                        0   \n",
       "4                               10                        0   \n",
       "\n",
       "   NumberRealEstateLoansOrLines  NumberOfTime60-89DaysPastDueNotWorse  \\\n",
       "0                             1                                     0   \n",
       "1                             1                                     0   \n",
       "2                             1                                     0   \n",
       "3                             1                                     0   \n",
       "4                             3                                     0   \n",
       "\n",
       "   NumberOfDependents  \n",
       "0                 0.0  \n",
       "1                 1.0  \n",
       "2                 0.0  \n",
       "3                 1.0  \n",
       "4                 1.0  "
      ]
     },
     "execution_count": 2,
     "metadata": {},
     "output_type": "execute_result"
    }
   ],
   "source": [
    "df_train = pd.read_csv(\"./data/train.csv\")\n",
    "df_train.head()"
   ]
  },
  {
   "cell_type": "markdown",
   "metadata": {},
   "source": [
    "| **Nombre de Variable**                  | **Descripción**                                                                                                           | **Tipo**       |\n",
    "|----------------------------------------|---------------------------------------------------------------------------------------------------------------------------|----------------|\n",
    "| SeriousDlqin2yrs                       | Indica si la persona experimentó una morosidad de 90 días o peor en los últimos 2 años.                                  | *Sí/No*        |\n",
    "| RevolvingUtilizationOfUnsecuredLines   | Saldo total en tarjetas de crédito y líneas de crédito personales excepto bienes raíces y sin deudas de préstamos        | Porcentaje     |\n",
    "| edad                                   | Edad del prestatario en años                                                                                              | Entero         |\n",
    "| NumberOfTime30-59DaysPastDueNotWorse   | Número de veces que el prestatario ha estado entre 30 y 59 días de retraso, pero no peor, en los últimos 2 años.          | Entero         |\n",
    "| DebtRatio                              | Pagos de deuda mensuales, pensión alimenticia, costos de vida divididos por ingresos brutos mensuales                      | Porcentaje     |\n",
    "| MonthlyIncome                          | Ingreso mensual                                                                                                           | Real           |\n",
    "| NumberOfOpenCreditLinesAndLoans        | Número de préstamos abiertos (como préstamos para automóviles o hipotecas) y líneas de crédito (por ejemplo, tarjetas de crédito) | Entero         |\n",
    "| NumberOfTimes90DaysLate                | Número de veces que el prestatario ha estado 90 días o más de retraso.                                                     | Entero         |\n",
    "| NumberRealEstateLoansOrLines           | Número de préstamos hipotecarios y de bienes raíces, incluyendo líneas de crédito con garantía hipotecaria.              | Entero         |\n",
    "| NumberOfTime60-89DaysPastDueNotWorse   | Número de veces que el prestatario ha estado entre 60 y 89 días de retraso, pero no peor, en los últimos 2 años.          | Entero         |\n",
    "| NumberOfDependents                     | Número de dependientes en la familia excluyéndose a sí mismos (cónyuge, hijos, etc.)                                       | Entero         |\n"
   ]
  },
  {
   "cell_type": "markdown",
   "metadata": {},
   "source": [
    "### Primera exploración"
   ]
  },
  {
   "cell_type": "code",
   "execution_count": 3,
   "metadata": {},
   "outputs": [
    {
     "data": {
      "text/html": [
       "<div>\n",
       "<style scoped>\n",
       "    .dataframe tbody tr th:only-of-type {\n",
       "        vertical-align: middle;\n",
       "    }\n",
       "\n",
       "    .dataframe tbody tr th {\n",
       "        vertical-align: top;\n",
       "    }\n",
       "\n",
       "    .dataframe thead th {\n",
       "        text-align: right;\n",
       "    }\n",
       "</style>\n",
       "<table border=\"1\" class=\"dataframe\">\n",
       "  <thead>\n",
       "    <tr style=\"text-align: right;\">\n",
       "      <th></th>\n",
       "      <th>Id</th>\n",
       "      <th>target</th>\n",
       "      <th>RevolvingUtilizationOfUnsecuredLines</th>\n",
       "      <th>age</th>\n",
       "      <th>NumberOfTime30-59DaysPastDueNotWorse</th>\n",
       "      <th>DebtRatio</th>\n",
       "      <th>MonthlyIncome</th>\n",
       "      <th>NumberOfOpenCreditLinesAndLoans</th>\n",
       "      <th>NumberOfTimes90DaysLate</th>\n",
       "      <th>NumberRealEstateLoansOrLines</th>\n",
       "      <th>NumberOfTime60-89DaysPastDueNotWorse</th>\n",
       "      <th>NumberOfDependents</th>\n",
       "    </tr>\n",
       "  </thead>\n",
       "  <tbody>\n",
       "    <tr>\n",
       "      <th>0</th>\n",
       "      <td>44164</td>\n",
       "      <td>0</td>\n",
       "      <td>0.768219</td>\n",
       "      <td>68y</td>\n",
       "      <td>1</td>\n",
       "      <td>0.687930</td>\n",
       "      <td>2178.0</td>\n",
       "      <td>12</td>\n",
       "      <td>0</td>\n",
       "      <td>1</td>\n",
       "      <td>0</td>\n",
       "      <td>0.0</td>\n",
       "    </tr>\n",
       "    <tr>\n",
       "      <th>1</th>\n",
       "      <td>95356</td>\n",
       "      <td>0</td>\n",
       "      <td>0.289873</td>\n",
       "      <td>52y</td>\n",
       "      <td>0</td>\n",
       "      <td>0.385497</td>\n",
       "      <td>3750.0</td>\n",
       "      <td>16</td>\n",
       "      <td>0</td>\n",
       "      <td>1</td>\n",
       "      <td>0</td>\n",
       "      <td>1.0</td>\n",
       "    </tr>\n",
       "    <tr>\n",
       "      <th>2</th>\n",
       "      <td>108917</td>\n",
       "      <td>0</td>\n",
       "      <td>0.000000</td>\n",
       "      <td>54y</td>\n",
       "      <td>0</td>\n",
       "      <td>0.346503</td>\n",
       "      <td>6833.0</td>\n",
       "      <td>8</td>\n",
       "      <td>0</td>\n",
       "      <td>1</td>\n",
       "      <td>0</td>\n",
       "      <td>0.0</td>\n",
       "    </tr>\n",
       "    <tr>\n",
       "      <th>3</th>\n",
       "      <td>99039</td>\n",
       "      <td>0</td>\n",
       "      <td>0.046064</td>\n",
       "      <td>66y</td>\n",
       "      <td>1</td>\n",
       "      <td>0.407614</td>\n",
       "      <td>5200.0</td>\n",
       "      <td>6</td>\n",
       "      <td>0</td>\n",
       "      <td>1</td>\n",
       "      <td>0</td>\n",
       "      <td>1.0</td>\n",
       "    </tr>\n",
       "    <tr>\n",
       "      <th>4</th>\n",
       "      <td>116168</td>\n",
       "      <td>0</td>\n",
       "      <td>0.168771</td>\n",
       "      <td>45y</td>\n",
       "      <td>0</td>\n",
       "      <td>4702.000000</td>\n",
       "      <td>NaN</td>\n",
       "      <td>10</td>\n",
       "      <td>0</td>\n",
       "      <td>3</td>\n",
       "      <td>0</td>\n",
       "      <td>1.0</td>\n",
       "    </tr>\n",
       "  </tbody>\n",
       "</table>\n",
       "</div>"
      ],
      "text/plain": [
       "       Id  target  RevolvingUtilizationOfUnsecuredLines  age  \\\n",
       "0   44164       0                              0.768219  68y   \n",
       "1   95356       0                              0.289873  52y   \n",
       "2  108917       0                              0.000000  54y   \n",
       "3   99039       0                              0.046064  66y   \n",
       "4  116168       0                              0.168771  45y   \n",
       "\n",
       "   NumberOfTime30-59DaysPastDueNotWorse    DebtRatio  MonthlyIncome  \\\n",
       "0                                     1     0.687930         2178.0   \n",
       "1                                     0     0.385497         3750.0   \n",
       "2                                     0     0.346503         6833.0   \n",
       "3                                     1     0.407614         5200.0   \n",
       "4                                     0  4702.000000            NaN   \n",
       "\n",
       "   NumberOfOpenCreditLinesAndLoans  NumberOfTimes90DaysLate  \\\n",
       "0                               12                        0   \n",
       "1                               16                        0   \n",
       "2                                8                        0   \n",
       "3                                6                        0   \n",
       "4                               10                        0   \n",
       "\n",
       "   NumberRealEstateLoansOrLines  NumberOfTime60-89DaysPastDueNotWorse  \\\n",
       "0                             1                                     0   \n",
       "1                             1                                     0   \n",
       "2                             1                                     0   \n",
       "3                             1                                     0   \n",
       "4                             3                                     0   \n",
       "\n",
       "   NumberOfDependents  \n",
       "0                 0.0  \n",
       "1                 1.0  \n",
       "2                 0.0  \n",
       "3                 1.0  \n",
       "4                 1.0  "
      ]
     },
     "execution_count": 3,
     "metadata": {},
     "output_type": "execute_result"
    }
   ],
   "source": [
    "df_train.head()"
   ]
  },
  {
   "cell_type": "code",
   "execution_count": 4,
   "metadata": {},
   "outputs": [
    {
     "data": {
      "text/html": [
       "<div>\n",
       "<style scoped>\n",
       "    .dataframe tbody tr th:only-of-type {\n",
       "        vertical-align: middle;\n",
       "    }\n",
       "\n",
       "    .dataframe tbody tr th {\n",
       "        vertical-align: top;\n",
       "    }\n",
       "\n",
       "    .dataframe thead th {\n",
       "        text-align: right;\n",
       "    }\n",
       "</style>\n",
       "<table border=\"1\" class=\"dataframe\">\n",
       "  <thead>\n",
       "    <tr style=\"text-align: right;\">\n",
       "      <th></th>\n",
       "      <th>Id</th>\n",
       "      <th>target</th>\n",
       "      <th>RevolvingUtilizationOfUnsecuredLines</th>\n",
       "      <th>age</th>\n",
       "      <th>NumberOfTime30-59DaysPastDueNotWorse</th>\n",
       "      <th>DebtRatio</th>\n",
       "      <th>MonthlyIncome</th>\n",
       "      <th>NumberOfOpenCreditLinesAndLoans</th>\n",
       "      <th>NumberOfTimes90DaysLate</th>\n",
       "      <th>NumberRealEstateLoansOrLines</th>\n",
       "      <th>NumberOfTime60-89DaysPastDueNotWorse</th>\n",
       "      <th>NumberOfDependents</th>\n",
       "    </tr>\n",
       "  </thead>\n",
       "  <tbody>\n",
       "    <tr>\n",
       "      <th>73358</th>\n",
       "      <td>25055</td>\n",
       "      <td>0</td>\n",
       "      <td>0.010468</td>\n",
       "      <td>45y</td>\n",
       "      <td>0</td>\n",
       "      <td>0.211663</td>\n",
       "      <td>12500.0</td>\n",
       "      <td>15</td>\n",
       "      <td>0</td>\n",
       "      <td>1</td>\n",
       "      <td>0</td>\n",
       "      <td>3.0</td>\n",
       "    </tr>\n",
       "    <tr>\n",
       "      <th>73359</th>\n",
       "      <td>105554</td>\n",
       "      <td>0</td>\n",
       "      <td>0.131250</td>\n",
       "      <td>42y</td>\n",
       "      <td>0</td>\n",
       "      <td>0.311538</td>\n",
       "      <td>5000.0</td>\n",
       "      <td>9</td>\n",
       "      <td>0</td>\n",
       "      <td>0</td>\n",
       "      <td>0</td>\n",
       "      <td>0.0</td>\n",
       "    </tr>\n",
       "    <tr>\n",
       "      <th>73360</th>\n",
       "      <td>129050</td>\n",
       "      <td>0</td>\n",
       "      <td>0.550527</td>\n",
       "      <td>59y</td>\n",
       "      <td>0</td>\n",
       "      <td>2777.000000</td>\n",
       "      <td>NaN</td>\n",
       "      <td>12</td>\n",
       "      <td>0</td>\n",
       "      <td>1</td>\n",
       "      <td>0</td>\n",
       "      <td>0.0</td>\n",
       "    </tr>\n",
       "    <tr>\n",
       "      <th>73361</th>\n",
       "      <td>94633</td>\n",
       "      <td>0</td>\n",
       "      <td>0.678651</td>\n",
       "      <td>31y</td>\n",
       "      <td>0</td>\n",
       "      <td>0.436990</td>\n",
       "      <td>3800.0</td>\n",
       "      <td>12</td>\n",
       "      <td>0</td>\n",
       "      <td>1</td>\n",
       "      <td>0</td>\n",
       "      <td>0.0</td>\n",
       "    </tr>\n",
       "    <tr>\n",
       "      <th>73362</th>\n",
       "      <td>88136</td>\n",
       "      <td>0</td>\n",
       "      <td>0.136699</td>\n",
       "      <td>58y</td>\n",
       "      <td>0</td>\n",
       "      <td>0.179301</td>\n",
       "      <td>16000.0</td>\n",
       "      <td>16</td>\n",
       "      <td>0</td>\n",
       "      <td>2</td>\n",
       "      <td>0</td>\n",
       "      <td>0.0</td>\n",
       "    </tr>\n",
       "  </tbody>\n",
       "</table>\n",
       "</div>"
      ],
      "text/plain": [
       "           Id  target  RevolvingUtilizationOfUnsecuredLines  age  \\\n",
       "73358   25055       0                              0.010468  45y   \n",
       "73359  105554       0                              0.131250  42y   \n",
       "73360  129050       0                              0.550527  59y   \n",
       "73361   94633       0                              0.678651  31y   \n",
       "73362   88136       0                              0.136699  58y   \n",
       "\n",
       "       NumberOfTime30-59DaysPastDueNotWorse    DebtRatio  MonthlyIncome  \\\n",
       "73358                                     0     0.211663        12500.0   \n",
       "73359                                     0     0.311538         5000.0   \n",
       "73360                                     0  2777.000000            NaN   \n",
       "73361                                     0     0.436990         3800.0   \n",
       "73362                                     0     0.179301        16000.0   \n",
       "\n",
       "       NumberOfOpenCreditLinesAndLoans  NumberOfTimes90DaysLate  \\\n",
       "73358                               15                        0   \n",
       "73359                                9                        0   \n",
       "73360                               12                        0   \n",
       "73361                               12                        0   \n",
       "73362                               16                        0   \n",
       "\n",
       "       NumberRealEstateLoansOrLines  NumberOfTime60-89DaysPastDueNotWorse  \\\n",
       "73358                             1                                     0   \n",
       "73359                             0                                     0   \n",
       "73360                             1                                     0   \n",
       "73361                             1                                     0   \n",
       "73362                             2                                     0   \n",
       "\n",
       "       NumberOfDependents  \n",
       "73358                 3.0  \n",
       "73359                 0.0  \n",
       "73360                 0.0  \n",
       "73361                 0.0  \n",
       "73362                 0.0  "
      ]
     },
     "execution_count": 4,
     "metadata": {},
     "output_type": "execute_result"
    }
   ],
   "source": [
    "df_train.tail()"
   ]
  },
  {
   "cell_type": "code",
   "execution_count": 5,
   "metadata": {},
   "outputs": [
    {
     "data": {
      "text/plain": [
       "(73363, 12)"
      ]
     },
     "execution_count": 5,
     "metadata": {},
     "output_type": "execute_result"
    }
   ],
   "source": [
    "df_train.shape"
   ]
  },
  {
   "cell_type": "code",
   "execution_count": 6,
   "metadata": {},
   "outputs": [
    {
     "name": "stdout",
     "output_type": "stream",
     "text": [
      "<class 'pandas.core.frame.DataFrame'>\n",
      "RangeIndex: 73363 entries, 0 to 73362\n",
      "Data columns (total 12 columns):\n",
      " #   Column                                Non-Null Count  Dtype  \n",
      "---  ------                                --------------  -----  \n",
      " 0   Id                                    73363 non-null  int64  \n",
      " 1   target                                73363 non-null  int64  \n",
      " 2   RevolvingUtilizationOfUnsecuredLines  73363 non-null  float64\n",
      " 3   age                                   73363 non-null  object \n",
      " 4   NumberOfTime30-59DaysPastDueNotWorse  73363 non-null  int64  \n",
      " 5   DebtRatio                             73363 non-null  float64\n",
      " 6   MonthlyIncome                         58796 non-null  float64\n",
      " 7   NumberOfOpenCreditLinesAndLoans       73363 non-null  int64  \n",
      " 8   NumberOfTimes90DaysLate               73363 non-null  int64  \n",
      " 9   NumberRealEstateLoansOrLines          73363 non-null  int64  \n",
      " 10  NumberOfTime60-89DaysPastDueNotWorse  73363 non-null  int64  \n",
      " 11  NumberOfDependents                    71421 non-null  float64\n",
      "dtypes: float64(4), int64(7), object(1)\n",
      "memory usage: 6.7+ MB\n"
     ]
    }
   ],
   "source": [
    "df_train.info()"
   ]
  },
  {
   "cell_type": "markdown",
   "metadata": {},
   "source": [
    "- 'Age' de tipo object -> pasar al tipo de dato correcto"
   ]
  },
  {
   "cell_type": "code",
   "execution_count": 7,
   "metadata": {},
   "outputs": [
    {
     "data": {
      "text/html": [
       "<div>\n",
       "<style scoped>\n",
       "    .dataframe tbody tr th:only-of-type {\n",
       "        vertical-align: middle;\n",
       "    }\n",
       "\n",
       "    .dataframe tbody tr th {\n",
       "        vertical-align: top;\n",
       "    }\n",
       "\n",
       "    .dataframe thead th {\n",
       "        text-align: right;\n",
       "    }\n",
       "</style>\n",
       "<table border=\"1\" class=\"dataframe\">\n",
       "  <thead>\n",
       "    <tr style=\"text-align: right;\">\n",
       "      <th></th>\n",
       "      <th>Id</th>\n",
       "      <th>target</th>\n",
       "      <th>RevolvingUtilizationOfUnsecuredLines</th>\n",
       "      <th>NumberOfTime30-59DaysPastDueNotWorse</th>\n",
       "      <th>DebtRatio</th>\n",
       "      <th>MonthlyIncome</th>\n",
       "      <th>NumberOfOpenCreditLinesAndLoans</th>\n",
       "      <th>NumberOfTimes90DaysLate</th>\n",
       "      <th>NumberRealEstateLoansOrLines</th>\n",
       "      <th>NumberOfTime60-89DaysPastDueNotWorse</th>\n",
       "      <th>NumberOfDependents</th>\n",
       "    </tr>\n",
       "  </thead>\n",
       "  <tbody>\n",
       "    <tr>\n",
       "      <th>count</th>\n",
       "      <td>73363.000000</td>\n",
       "      <td>73363.000000</td>\n",
       "      <td>73363.000000</td>\n",
       "      <td>73363.000000</td>\n",
       "      <td>73363.000000</td>\n",
       "      <td>5.879600e+04</td>\n",
       "      <td>73363.000000</td>\n",
       "      <td>73363.000000</td>\n",
       "      <td>73363.000000</td>\n",
       "      <td>73363.000000</td>\n",
       "      <td>71421.000000</td>\n",
       "    </tr>\n",
       "    <tr>\n",
       "      <th>mean</th>\n",
       "      <td>75035.459564</td>\n",
       "      <td>0.065919</td>\n",
       "      <td>5.884904</td>\n",
       "      <td>0.410507</td>\n",
       "      <td>359.752537</td>\n",
       "      <td>6.649145e+03</td>\n",
       "      <td>8.443916</td>\n",
       "      <td>0.256546</td>\n",
       "      <td>1.019928</td>\n",
       "      <td>0.231847</td>\n",
       "      <td>0.755506</td>\n",
       "    </tr>\n",
       "    <tr>\n",
       "      <th>std</th>\n",
       "      <td>43303.736606</td>\n",
       "      <td>0.248142</td>\n",
       "      <td>235.508449</td>\n",
       "      <td>4.090014</td>\n",
       "      <td>2477.648064</td>\n",
       "      <td>1.046163e+04</td>\n",
       "      <td>5.142232</td>\n",
       "      <td>4.066573</td>\n",
       "      <td>1.136357</td>\n",
       "      <td>4.052280</td>\n",
       "      <td>1.111715</td>\n",
       "    </tr>\n",
       "    <tr>\n",
       "      <th>min</th>\n",
       "      <td>2.000000</td>\n",
       "      <td>0.000000</td>\n",
       "      <td>0.000000</td>\n",
       "      <td>0.000000</td>\n",
       "      <td>0.000000</td>\n",
       "      <td>0.000000e+00</td>\n",
       "      <td>0.000000</td>\n",
       "      <td>0.000000</td>\n",
       "      <td>0.000000</td>\n",
       "      <td>0.000000</td>\n",
       "      <td>0.000000</td>\n",
       "    </tr>\n",
       "    <tr>\n",
       "      <th>25%</th>\n",
       "      <td>37449.000000</td>\n",
       "      <td>0.000000</td>\n",
       "      <td>0.029752</td>\n",
       "      <td>0.000000</td>\n",
       "      <td>0.173446</td>\n",
       "      <td>3.400000e+03</td>\n",
       "      <td>5.000000</td>\n",
       "      <td>0.000000</td>\n",
       "      <td>0.000000</td>\n",
       "      <td>0.000000</td>\n",
       "      <td>0.000000</td>\n",
       "    </tr>\n",
       "    <tr>\n",
       "      <th>50%</th>\n",
       "      <td>75032.000000</td>\n",
       "      <td>0.000000</td>\n",
       "      <td>0.154688</td>\n",
       "      <td>0.000000</td>\n",
       "      <td>0.365737</td>\n",
       "      <td>5.400000e+03</td>\n",
       "      <td>8.000000</td>\n",
       "      <td>0.000000</td>\n",
       "      <td>1.000000</td>\n",
       "      <td>0.000000</td>\n",
       "      <td>0.000000</td>\n",
       "    </tr>\n",
       "    <tr>\n",
       "      <th>75%</th>\n",
       "      <td>112628.500000</td>\n",
       "      <td>0.000000</td>\n",
       "      <td>0.558686</td>\n",
       "      <td>0.000000</td>\n",
       "      <td>0.863514</td>\n",
       "      <td>8.300000e+03</td>\n",
       "      <td>11.000000</td>\n",
       "      <td>0.000000</td>\n",
       "      <td>2.000000</td>\n",
       "      <td>0.000000</td>\n",
       "      <td>1.000000</td>\n",
       "    </tr>\n",
       "    <tr>\n",
       "      <th>max</th>\n",
       "      <td>149998.000000</td>\n",
       "      <td>1.000000</td>\n",
       "      <td>29110.000000</td>\n",
       "      <td>98.000000</td>\n",
       "      <td>329664.000000</td>\n",
       "      <td>1.560100e+06</td>\n",
       "      <td>57.000000</td>\n",
       "      <td>98.000000</td>\n",
       "      <td>32.000000</td>\n",
       "      <td>98.000000</td>\n",
       "      <td>13.000000</td>\n",
       "    </tr>\n",
       "  </tbody>\n",
       "</table>\n",
       "</div>"
      ],
      "text/plain": [
       "                  Id        target  RevolvingUtilizationOfUnsecuredLines  \\\n",
       "count   73363.000000  73363.000000                          73363.000000   \n",
       "mean    75035.459564      0.065919                              5.884904   \n",
       "std     43303.736606      0.248142                            235.508449   \n",
       "min         2.000000      0.000000                              0.000000   \n",
       "25%     37449.000000      0.000000                              0.029752   \n",
       "50%     75032.000000      0.000000                              0.154688   \n",
       "75%    112628.500000      0.000000                              0.558686   \n",
       "max    149998.000000      1.000000                          29110.000000   \n",
       "\n",
       "       NumberOfTime30-59DaysPastDueNotWorse      DebtRatio  MonthlyIncome  \\\n",
       "count                          73363.000000   73363.000000   5.879600e+04   \n",
       "mean                               0.410507     359.752537   6.649145e+03   \n",
       "std                                4.090014    2477.648064   1.046163e+04   \n",
       "min                                0.000000       0.000000   0.000000e+00   \n",
       "25%                                0.000000       0.173446   3.400000e+03   \n",
       "50%                                0.000000       0.365737   5.400000e+03   \n",
       "75%                                0.000000       0.863514   8.300000e+03   \n",
       "max                               98.000000  329664.000000   1.560100e+06   \n",
       "\n",
       "       NumberOfOpenCreditLinesAndLoans  NumberOfTimes90DaysLate  \\\n",
       "count                     73363.000000             73363.000000   \n",
       "mean                          8.443916                 0.256546   \n",
       "std                           5.142232                 4.066573   \n",
       "min                           0.000000                 0.000000   \n",
       "25%                           5.000000                 0.000000   \n",
       "50%                           8.000000                 0.000000   \n",
       "75%                          11.000000                 0.000000   \n",
       "max                          57.000000                98.000000   \n",
       "\n",
       "       NumberRealEstateLoansOrLines  NumberOfTime60-89DaysPastDueNotWorse  \\\n",
       "count                  73363.000000                          73363.000000   \n",
       "mean                       1.019928                              0.231847   \n",
       "std                        1.136357                              4.052280   \n",
       "min                        0.000000                              0.000000   \n",
       "25%                        0.000000                              0.000000   \n",
       "50%                        1.000000                              0.000000   \n",
       "75%                        2.000000                              0.000000   \n",
       "max                       32.000000                             98.000000   \n",
       "\n",
       "       NumberOfDependents  \n",
       "count        71421.000000  \n",
       "mean             0.755506  \n",
       "std              1.111715  \n",
       "min              0.000000  \n",
       "25%              0.000000  \n",
       "50%              0.000000  \n",
       "75%              1.000000  \n",
       "max             13.000000  "
      ]
     },
     "execution_count": 7,
     "metadata": {},
     "output_type": "execute_result"
    }
   ],
   "source": [
    "df_train.describe()"
   ]
  },
  {
   "cell_type": "markdown",
   "metadata": {},
   "source": [
    "- 'Id' puros únicos, por ende no tendría mucha relevancia en nuestro modelo\n",
    "- 'RevolvingUtilizationOfUnsecuredLines', 'DebtRatio' -> Valores máximos incoherentes "
   ]
  },
  {
   "cell_type": "code",
   "execution_count": 8,
   "metadata": {},
   "outputs": [
    {
     "data": {
      "text/html": [
       "<div>\n",
       "<style scoped>\n",
       "    .dataframe tbody tr th:only-of-type {\n",
       "        vertical-align: middle;\n",
       "    }\n",
       "\n",
       "    .dataframe tbody tr th {\n",
       "        vertical-align: top;\n",
       "    }\n",
       "\n",
       "    .dataframe thead th {\n",
       "        text-align: right;\n",
       "    }\n",
       "</style>\n",
       "<table border=\"1\" class=\"dataframe\">\n",
       "  <thead>\n",
       "    <tr style=\"text-align: right;\">\n",
       "      <th></th>\n",
       "      <th>Porcentaje</th>\n",
       "      <th>Cantidad</th>\n",
       "    </tr>\n",
       "  </thead>\n",
       "  <tbody>\n",
       "    <tr>\n",
       "      <th>Id</th>\n",
       "      <td>0.00</td>\n",
       "      <td>0</td>\n",
       "    </tr>\n",
       "    <tr>\n",
       "      <th>target</th>\n",
       "      <td>0.00</td>\n",
       "      <td>0</td>\n",
       "    </tr>\n",
       "    <tr>\n",
       "      <th>RevolvingUtilizationOfUnsecuredLines</th>\n",
       "      <td>0.00</td>\n",
       "      <td>0</td>\n",
       "    </tr>\n",
       "    <tr>\n",
       "      <th>age</th>\n",
       "      <td>0.00</td>\n",
       "      <td>0</td>\n",
       "    </tr>\n",
       "    <tr>\n",
       "      <th>NumberOfTime30-59DaysPastDueNotWorse</th>\n",
       "      <td>0.00</td>\n",
       "      <td>0</td>\n",
       "    </tr>\n",
       "    <tr>\n",
       "      <th>DebtRatio</th>\n",
       "      <td>0.00</td>\n",
       "      <td>0</td>\n",
       "    </tr>\n",
       "    <tr>\n",
       "      <th>MonthlyIncome</th>\n",
       "      <td>19.86</td>\n",
       "      <td>14567</td>\n",
       "    </tr>\n",
       "    <tr>\n",
       "      <th>NumberOfOpenCreditLinesAndLoans</th>\n",
       "      <td>0.00</td>\n",
       "      <td>0</td>\n",
       "    </tr>\n",
       "    <tr>\n",
       "      <th>NumberOfTimes90DaysLate</th>\n",
       "      <td>0.00</td>\n",
       "      <td>0</td>\n",
       "    </tr>\n",
       "    <tr>\n",
       "      <th>NumberRealEstateLoansOrLines</th>\n",
       "      <td>0.00</td>\n",
       "      <td>0</td>\n",
       "    </tr>\n",
       "    <tr>\n",
       "      <th>NumberOfTime60-89DaysPastDueNotWorse</th>\n",
       "      <td>0.00</td>\n",
       "      <td>0</td>\n",
       "    </tr>\n",
       "    <tr>\n",
       "      <th>NumberOfDependents</th>\n",
       "      <td>2.65</td>\n",
       "      <td>1942</td>\n",
       "    </tr>\n",
       "  </tbody>\n",
       "</table>\n",
       "</div>"
      ],
      "text/plain": [
       "                                      Porcentaje  Cantidad\n",
       "Id                                          0.00         0\n",
       "target                                      0.00         0\n",
       "RevolvingUtilizationOfUnsecuredLines        0.00         0\n",
       "age                                         0.00         0\n",
       "NumberOfTime30-59DaysPastDueNotWorse        0.00         0\n",
       "DebtRatio                                   0.00         0\n",
       "MonthlyIncome                              19.86     14567\n",
       "NumberOfOpenCreditLinesAndLoans             0.00         0\n",
       "NumberOfTimes90DaysLate                     0.00         0\n",
       "NumberRealEstateLoansOrLines                0.00         0\n",
       "NumberOfTime60-89DaysPastDueNotWorse        0.00         0\n",
       "NumberOfDependents                          2.65      1942"
      ]
     },
     "execution_count": 8,
     "metadata": {},
     "output_type": "execute_result"
    }
   ],
   "source": [
    "df_nulos = pd.DataFrame(columns=['Porcentaje', 'Cantidad'])\n",
    "df_nulos['Porcentaje'] = round((df_train.isna().sum() / len(df_train) * 100),2)\n",
    "df_nulos['Cantidad'] = df_train.isna().sum()\n",
    "df_nulos"
   ]
  },
  {
   "cell_type": "code",
   "execution_count": 9,
   "metadata": {},
   "outputs": [
    {
     "data": {
      "text/html": [
       "<div>\n",
       "<style scoped>\n",
       "    .dataframe tbody tr th:only-of-type {\n",
       "        vertical-align: middle;\n",
       "    }\n",
       "\n",
       "    .dataframe tbody tr th {\n",
       "        vertical-align: top;\n",
       "    }\n",
       "\n",
       "    .dataframe thead th {\n",
       "        text-align: right;\n",
       "    }\n",
       "</style>\n",
       "<table border=\"1\" class=\"dataframe\">\n",
       "  <thead>\n",
       "    <tr style=\"text-align: right;\">\n",
       "      <th></th>\n",
       "      <th>Id</th>\n",
       "      <th>target</th>\n",
       "      <th>RevolvingUtilizationOfUnsecuredLines</th>\n",
       "      <th>age</th>\n",
       "      <th>NumberOfTime30-59DaysPastDueNotWorse</th>\n",
       "      <th>DebtRatio</th>\n",
       "      <th>MonthlyIncome</th>\n",
       "      <th>NumberOfOpenCreditLinesAndLoans</th>\n",
       "      <th>NumberOfTimes90DaysLate</th>\n",
       "      <th>NumberRealEstateLoansOrLines</th>\n",
       "      <th>NumberOfTime60-89DaysPastDueNotWorse</th>\n",
       "      <th>NumberOfDependents</th>\n",
       "    </tr>\n",
       "  </thead>\n",
       "  <tbody>\n",
       "  </tbody>\n",
       "</table>\n",
       "</div>"
      ],
      "text/plain": [
       "Empty DataFrame\n",
       "Columns: [Id, target, RevolvingUtilizationOfUnsecuredLines, age, NumberOfTime30-59DaysPastDueNotWorse, DebtRatio, MonthlyIncome, NumberOfOpenCreditLinesAndLoans, NumberOfTimes90DaysLate, NumberRealEstateLoansOrLines, NumberOfTime60-89DaysPastDueNotWorse, NumberOfDependents]\n",
       "Index: []"
      ]
     },
     "execution_count": 9,
     "metadata": {},
     "output_type": "execute_result"
    }
   ],
   "source": [
    "df_train[df_train.duplicated()]"
   ]
  },
  {
   "cell_type": "code",
   "execution_count": 10,
   "metadata": {},
   "outputs": [
    {
     "data": {
      "text/plain": [
       "<Axes: >"
      ]
     },
     "execution_count": 10,
     "metadata": {},
     "output_type": "execute_result"
    },
    {
     "data": {
      "image/png": "[encoded data removed]",
      "text/plain": [
       "<Figure size 640x480 with 2 Axes>"
      ]
     },
     "metadata": {},
     "output_type": "display_data"
    }
   ],
   "source": [
    "sns.heatmap(df_train.corr(numeric_only=True, method='spearman'), annot=True,  cbar=True)"
   ]
  },
  {
   "cell_type": "markdown",
   "metadata": {},
   "source": [
    "### EDA"
   ]
  },
  {
   "cell_type": "code",
   "execution_count": 11,
   "metadata": {},
   "outputs": [],
   "source": [
    "from clases import CategoricalReport, NumericReport"
   ]
  },
  {
   "cell_type": "code",
   "execution_count": 12,
   "metadata": {},
   "outputs": [
    {
     "name": "stdout",
     "output_type": "stream",
     "text": [
      "\n",
      " ************************************************************************************************************** \n",
      "\n",
      "Variable : AGE\n",
      "\n",
      "+----------------+---------------------------+\n",
      "| Valores Únicos | Frecuencia de Mayor Valor |\n",
      "+----------------+---------------------------+\n",
      "|      48y       |            1885           |\n",
      "|      49y       |            1878           |\n",
      "|      63y       |            1857           |\n",
      "|      50y       |            1836           |\n",
      "|      47y       |            1816           |\n",
      "|      46y       |            1809           |\n",
      "|      62y       |            1786           |\n",
      "|      52y       |            1752           |\n",
      "|      56y       |            1738           |\n",
      "|      53y       |            1729           |\n",
      "+----------------+---------------------------+\n",
      "\n",
      "Nulos: 0 (0.00%) sobre el total: 73363 rows\n",
      "\n",
      "+------+-----------------------+\n",
      "| Moda | Frecuencia de la moda |\n",
      "+------+-----------------------+\n",
      "| 48y  |           1           |\n",
      "+------+-----------------------+\n"
     ]
    },
    {
     "data": {
      "image/png": "[encoded data removed]",
      "text/plain": [
       "<Figure size 1000x600 with 1 Axes>"
      ]
     },
     "metadata": {},
     "output_type": "display_data"
    }
   ],
   "source": [
    "# Crear una instancia de la clase\n",
    "categorical_reporter = CategoricalReport(df_train)\n",
    "# Generar informe para la columna 'Category'\n",
    "categorical_reporter.generate_report('age', color= \"orange\")"
   ]
  },
  {
   "cell_type": "code",
   "execution_count": 13,
   "metadata": {},
   "outputs": [
    {
     "name": "stdout",
     "output_type": "stream",
     "text": [
      "\n",
      " ************************************************************************************************************** \n",
      "\n",
      "Variable : TARGET\n",
      "\n",
      "+----------------+------------+\n",
      "| Valores Únicos | Frecuencia |\n",
      "+----------------+------------+\n",
      "|       0        |   68527    |\n",
      "|       1        |    4836    |\n",
      "+----------------+------------+\n",
      "\n",
      "Nulos: 0 (0.00%) sobre el total: 73363 rows\n",
      "\n",
      "+---------------------+-------+\n",
      "|  Medidas Centrales  | Valor |\n",
      "+---------------------+-------+\n",
      "|        Media        |  0.07 |\n",
      "|       Mediana       |  0.00 |\n",
      "| Desviación Estándar |  0.25 |\n",
      "+---------------------+-------+\n",
      "\n",
      "+--------------------------+-------+\n",
      "| Forma de la Distribución | Valor |\n",
      "+--------------------------+-------+\n",
      "|         Curtosis         | 10.24 |\n",
      "|        Asimetría         |  3.50 |\n",
      "+--------------------------+-------+\n",
      "\n",
      " ************************************************************************************************************** \n",
      "\n"
     ]
    },
    {
     "data": {
      "image/png": "[encoded data removed]",
      "text/plain": [
       "<Figure size 1000x600 with 1 Axes>"
      ]
     },
     "metadata": {},
     "output_type": "display_data"
    },
    {
     "name": "stdout",
     "output_type": "stream",
     "text": [
      "\n",
      " ************************************************************************************************************** \n",
      "\n",
      "Variable : REVOLVINGUTILIZATIONOFUNSECUREDLINES\n",
      "\n",
      "+----------------+------------+\n",
      "| Valores Únicos | Frecuencia |\n",
      "+----------------+------------+\n",
      "|      0.0       |    5298    |\n",
      "|   0.9999999    |    5020    |\n",
      "|      1.0       |     9      |\n",
      "|  0.954091816   |     5      |\n",
      "|   0.9500998    |     4      |\n",
      "|  0.037498125   |     4      |\n",
      "|  0.035964036   |     4      |\n",
      "|    0.004999    |     4      |\n",
      "|   0.00179991   |     4      |\n",
      "|  0.921078921   |     4      |\n",
      "+----------------+------------+\n",
      "\n",
      "Nulos: 0 (0.00%) sobre el total: 73363 rows\n",
      "\n",
      "+---------------------+--------+\n",
      "|  Medidas Centrales  | Valor  |\n",
      "+---------------------+--------+\n",
      "|        Media        |  5.88  |\n",
      "|       Mediana       |  0.15  |\n",
      "| Desviación Estándar | 235.51 |\n",
      "+---------------------+--------+\n",
      "\n",
      "+--------------------------+---------+\n",
      "| Forma de la Distribución |  Valor  |\n",
      "+--------------------------+---------+\n",
      "|         Curtosis         | 6461.24 |\n",
      "|        Asimetría         |  71.41  |\n",
      "+--------------------------+---------+\n",
      "\n",
      " ************************************************************************************************************** \n",
      "\n"
     ]
    },
    {
     "data": {
      "image/png": "[encoded data removed]",
      "text/plain": [
       "<Figure size 1000x600 with 1 Axes>"
      ]
     },
     "metadata": {},
     "output_type": "display_data"
    },
    {
     "name": "stdout",
     "output_type": "stream",
     "text": [
      "\n",
      " ************************************************************************************************************** \n",
      "\n",
      "Variable : NUMBEROFTIME30-59DAYSPASTDUENOTWORSE\n",
      "\n",
      "+----------------+------------+\n",
      "| Valores Únicos | Frecuencia |\n",
      "+----------------+------------+\n",
      "|       0        |   61695    |\n",
      "|       1        |    7795    |\n",
      "|       2        |    2259    |\n",
      "|       3        |    859     |\n",
      "|       4        |    364     |\n",
      "|       5        |    156     |\n",
      "|       98       |    124     |\n",
      "|       6        |     63     |\n",
      "|       7        |     31     |\n",
      "|       8        |     8      |\n",
      "+----------------+------------+\n",
      "\n",
      "Nulos: 0 (0.00%) sobre el total: 73363 rows\n",
      "\n",
      "+---------------------+-------+\n",
      "|  Medidas Centrales  | Valor |\n",
      "+---------------------+-------+\n",
      "|        Media        |  0.41 |\n",
      "|       Mediana       |  0.00 |\n",
      "| Desviación Estándar |  4.09 |\n",
      "+---------------------+-------+\n",
      "\n",
      "+--------------------------+--------+\n",
      "| Forma de la Distribución | Valor  |\n",
      "+--------------------------+--------+\n",
      "|         Curtosis         | 548.99 |\n",
      "|        Asimetría         | 23.15  |\n",
      "+--------------------------+--------+\n",
      "\n",
      " ************************************************************************************************************** \n",
      "\n"
     ]
    },
    {
     "data": {
      "image/png": "[encoded data removed]",
      "text/plain": [
       "<Figure size 1000x600 with 1 Axes>"
      ]
     },
     "metadata": {},
     "output_type": "display_data"
    },
    {
     "name": "stdout",
     "output_type": "stream",
     "text": [
      "\n",
      " ************************************************************************************************************** \n",
      "\n",
      "Variable : DEBTRATIO\n",
      "\n",
      "+----------------+------------+\n",
      "| Valores Únicos | Frecuencia |\n",
      "+----------------+------------+\n",
      "|      0.0       |    2085    |\n",
      "|      1.0       |    126     |\n",
      "|      4.0       |     87     |\n",
      "|      2.0       |     80     |\n",
      "|      5.0       |     72     |\n",
      "|      3.0       |     71     |\n",
      "|      9.0       |     66     |\n",
      "|      10.0      |     60     |\n",
      "|      15.0      |     57     |\n",
      "|      13.0      |     57     |\n",
      "+----------------+------------+\n",
      "\n",
      "Nulos: 0 (0.00%) sobre el total: 73363 rows\n",
      "\n",
      "+---------------------+---------+\n",
      "|  Medidas Centrales  |  Valor  |\n",
      "+---------------------+---------+\n",
      "|        Media        |  359.75 |\n",
      "|       Mediana       |   0.37  |\n",
      "| Desviación Estándar | 2477.65 |\n",
      "+---------------------+---------+\n",
      "\n",
      "+--------------------------+----------+\n",
      "| Forma de la Distribución |  Valor   |\n",
      "+--------------------------+----------+\n",
      "|         Curtosis         | 11886.42 |\n",
      "|        Asimetría         |  95.37   |\n",
      "+--------------------------+----------+\n",
      "\n",
      " ************************************************************************************************************** \n",
      "\n"
     ]
    },
    {
     "data": {
      "image/png": "[encoded data removed]",
      "text/plain": [
       "<Figure size 1000x600 with 1 Axes>"
      ]
     },
     "metadata": {},
     "output_type": "display_data"
    },
    {
     "name": "stdout",
     "output_type": "stream",
     "text": [
      "\n",
      " ************************************************************************************************************** \n",
      "\n",
      "Variable : MONTHLYINCOME\n",
      "\n",
      "+----------------+------------+\n",
      "| Valores Únicos | Frecuencia |\n",
      "+----------------+------------+\n",
      "|     5000.0     |    1346    |\n",
      "|     4000.0     |    1025    |\n",
      "|     6000.0     |    943     |\n",
      "|     3000.0     |    843     |\n",
      "|      0.0       |    784     |\n",
      "|     2500.0     |    759     |\n",
      "|    10000.0     |    716     |\n",
      "|     3500.0     |    665     |\n",
      "|     7000.0     |    586     |\n",
      "|     4500.0     |    581     |\n",
      "+----------------+------------+\n",
      "\n",
      "Nulos: 14567 (19.86%) sobre el total: 73363 rows\n",
      "\n",
      "+---------------------+----------+\n",
      "|  Medidas Centrales  |  Valor   |\n",
      "+---------------------+----------+\n",
      "|        Media        | 6649.14  |\n",
      "|       Mediana       | 5400.00  |\n",
      "| Desviación Estándar | 10461.63 |\n",
      "+---------------------+----------+\n",
      "\n",
      "+--------------------------+---------+\n",
      "| Forma de la Distribución |  Valor  |\n",
      "+--------------------------+---------+\n",
      "|         Curtosis         | 9109.21 |\n",
      "|        Asimetría         |  72.10  |\n",
      "+--------------------------+---------+\n",
      "\n",
      " ************************************************************************************************************** \n",
      "\n"
     ]
    },
    {
     "data": {
      "image/png": "[encoded data removed]",
      "text/plain": [
       "<Figure size 1000x600 with 1 Axes>"
      ]
     },
     "metadata": {},
     "output_type": "display_data"
    },
    {
     "name": "stdout",
     "output_type": "stream",
     "text": [
      "\n",
      " ************************************************************************************************************** \n",
      "\n",
      "Variable : NUMBEROFOPENCREDITLINESANDLOANS\n",
      "\n",
      "+----------------+------------+\n",
      "| Valores Únicos | Frecuencia |\n",
      "+----------------+------------+\n",
      "|       6        |    6643    |\n",
      "|       7        |    6464    |\n",
      "|       5        |    6287    |\n",
      "|       8        |    6224    |\n",
      "|       4        |    5724    |\n",
      "|       9        |    5604    |\n",
      "|       10       |    4672    |\n",
      "|       3        |    4384    |\n",
      "|       11       |    4070    |\n",
      "|       12       |    3430    |\n",
      "+----------------+------------+\n",
      "\n",
      "Nulos: 0 (0.00%) sobre el total: 73363 rows\n",
      "\n",
      "+---------------------+-------+\n",
      "|  Medidas Centrales  | Valor |\n",
      "+---------------------+-------+\n",
      "|        Media        |  8.44 |\n",
      "|       Mediana       |  8.00 |\n",
      "| Desviación Estándar |  5.14 |\n",
      "+---------------------+-------+\n",
      "\n",
      "+--------------------------+-------+\n",
      "| Forma de la Distribución | Valor |\n",
      "+--------------------------+-------+\n",
      "|         Curtosis         |  3.17 |\n",
      "|        Asimetría         |  1.22 |\n",
      "+--------------------------+-------+\n",
      "\n",
      " ************************************************************************************************************** \n",
      "\n"
     ]
    },
    {
     "data": {
      "image/png": "[encoded data removed]",
      "text/plain": [
       "<Figure size 1000x600 with 1 Axes>"
      ]
     },
     "metadata": {},
     "output_type": "display_data"
    },
    {
     "name": "stdout",
     "output_type": "stream",
     "text": [
      "\n",
      " ************************************************************************************************************** \n",
      "\n",
      "Variable : NUMBEROFTIMES90DAYSLATE\n",
      "\n",
      "+----------------+------------+\n",
      "| Valores Únicos | Frecuencia |\n",
      "+----------------+------------+\n",
      "|       0        |   69342    |\n",
      "|       1        |    2534    |\n",
      "|       2        |    739     |\n",
      "|       3        |    318     |\n",
      "|       4        |    147     |\n",
      "|       98       |    124     |\n",
      "|       5        |     68     |\n",
      "|       6        |     36     |\n",
      "|       7        |     22     |\n",
      "|       8        |     11     |\n",
      "+----------------+------------+\n",
      "\n",
      "Nulos: 0 (0.00%) sobre el total: 73363 rows\n",
      "\n",
      "+---------------------+-------+\n",
      "|  Medidas Centrales  | Valor |\n",
      "+---------------------+-------+\n",
      "|        Media        |  0.26 |\n",
      "|       Mediana       |  0.00 |\n",
      "| Desviación Estándar |  4.07 |\n",
      "+---------------------+-------+\n",
      "\n",
      "+--------------------------+--------+\n",
      "| Forma de la Distribución | Valor  |\n",
      "+--------------------------+--------+\n",
      "|         Curtosis         | 565.40 |\n",
      "|        Asimetría         | 23.66  |\n",
      "+--------------------------+--------+\n",
      "\n",
      " ************************************************************************************************************** \n",
      "\n"
     ]
    },
    {
     "data": {
      "image/png": "[encoded data removed]",
      "text/plain": [
       "<Figure size 1000x600 with 1 Axes>"
      ]
     },
     "metadata": {},
     "output_type": "display_data"
    },
    {
     "name": "stdout",
     "output_type": "stream",
     "text": [
      "\n",
      " ************************************************************************************************************** \n",
      "\n",
      "Variable : NUMBERREALESTATELOANSORLINES\n",
      "\n",
      "+----------------+------------+\n",
      "| Valores Únicos | Frecuencia |\n",
      "+----------------+------------+\n",
      "|       0        |   27561    |\n",
      "|       1        |   25441    |\n",
      "|       2        |   15416    |\n",
      "|       3        |    3166    |\n",
      "|       4        |    1071    |\n",
      "|       5        |    311     |\n",
      "|       6        |    158     |\n",
      "|       7        |     82     |\n",
      "|       8        |     51     |\n",
      "|       9        |     36     |\n",
      "+----------------+------------+\n",
      "\n",
      "Nulos: 0 (0.00%) sobre el total: 73363 rows\n",
      "\n",
      "+---------------------+-------+\n",
      "|  Medidas Centrales  | Valor |\n",
      "+---------------------+-------+\n",
      "|        Media        |  1.02 |\n",
      "|       Mediana       |  1.00 |\n",
      "| Desviación Estándar |  1.14 |\n",
      "+---------------------+-------+\n",
      "\n",
      "+--------------------------+-------+\n",
      "| Forma de la Distribución | Valor |\n",
      "+--------------------------+-------+\n",
      "|         Curtosis         | 36.03 |\n",
      "|        Asimetría         |  3.18 |\n",
      "+--------------------------+-------+\n",
      "\n",
      " ************************************************************************************************************** \n",
      "\n"
     ]
    },
    {
     "data": {
      "image/png": "[encoded data removed]",
      "text/plain": [
       "<Figure size 1000x600 with 1 Axes>"
      ]
     },
     "metadata": {},
     "output_type": "display_data"
    },
    {
     "name": "stdout",
     "output_type": "stream",
     "text": [
      "\n",
      " ************************************************************************************************************** \n",
      "\n",
      "Variable : NUMBEROFTIME60-89DAYSPASTDUENOTWORSE\n",
      "\n",
      "+----------------+------------+\n",
      "| Valores Únicos | Frecuencia |\n",
      "+----------------+------------+\n",
      "|       0        |   69677    |\n",
      "|       1        |    2766    |\n",
      "|       2        |    539     |\n",
      "|       3        |    169     |\n",
      "|       98       |    124     |\n",
      "|       4        |     55     |\n",
      "|       5        |     16     |\n",
      "|       6        |     8      |\n",
      "|       7        |     6      |\n",
      "|       9        |     1      |\n",
      "+----------------+------------+\n",
      "\n",
      "Nulos: 0 (0.00%) sobre el total: 73363 rows\n",
      "\n",
      "+---------------------+-------+\n",
      "|  Medidas Centrales  | Valor |\n",
      "+---------------------+-------+\n",
      "|        Media        |  0.23 |\n",
      "|       Mediana       |  0.00 |\n",
      "| Desviación Estándar |  4.05 |\n",
      "+---------------------+-------+\n",
      "\n",
      "+--------------------------+--------+\n",
      "| Forma de la Distribución | Valor  |\n",
      "+--------------------------+--------+\n",
      "|         Curtosis         | 574.02 |\n",
      "|        Asimetría         | 23.92  |\n",
      "+--------------------------+--------+\n",
      "\n",
      " ************************************************************************************************************** \n",
      "\n"
     ]
    },
    {
     "data": {
      "image/png": "[encoded data removed]",
      "text/plain": [
       "<Figure size 1000x600 with 1 Axes>"
      ]
     },
     "metadata": {},
     "output_type": "display_data"
    },
    {
     "name": "stdout",
     "output_type": "stream",
     "text": [
      "\n",
      " ************************************************************************************************************** \n",
      "\n",
      "Variable : NUMBEROFDEPENDENTS\n",
      "\n",
      "+----------------+------------+\n",
      "| Valores Únicos | Frecuencia |\n",
      "+----------------+------------+\n",
      "|      0.0       |   42515    |\n",
      "|      1.0       |   12910    |\n",
      "|      2.0       |    9476    |\n",
      "|      3.0       |    4614    |\n",
      "|      4.0       |    1442    |\n",
      "|      5.0       |    353     |\n",
      "|      6.0       |     74     |\n",
      "|      7.0       |     26     |\n",
      "|      8.0       |     7      |\n",
      "|      9.0       |     3      |\n",
      "+----------------+------------+\n",
      "\n",
      "Nulos: 1942 (2.65%) sobre el total: 73363 rows\n",
      "\n",
      "+---------------------+-------+\n",
      "|  Medidas Centrales  | Valor |\n",
      "+---------------------+-------+\n",
      "|        Media        |  0.76 |\n",
      "|       Mediana       |  0.00 |\n",
      "| Desviación Estándar |  1.11 |\n",
      "+---------------------+-------+\n",
      "\n",
      "+--------------------------+-------+\n",
      "| Forma de la Distribución | Valor |\n",
      "+--------------------------+-------+\n",
      "|         Curtosis         |  2.31 |\n",
      "|        Asimetría         |  1.55 |\n",
      "+--------------------------+-------+\n",
      "\n",
      " ************************************************************************************************************** \n",
      "\n"
     ]
    },
    {
     "data": {
      "image/png": "[encoded data removed]",
      "text/plain": [
       "<Figure size 1000x600 with 1 Axes>"
      ]
     },
     "metadata": {},
     "output_type": "display_data"
    }
   ],
   "source": [
    "# Crear una instancia de la clase\n",
    "numeric_reporter = NumericReport(df_train)\n",
    "# Generar informe para la columna 'Numeric'\n",
    "numeric_reporter.generate_report('target', 'histograma', color= \"orange\")\n",
    "numeric_reporter.generate_report('RevolvingUtilizationOfUnsecuredLines', 'histograma', color= \"orange\")\n",
    "numeric_reporter.generate_report('NumberOfTime30-59DaysPastDueNotWorse', 'histograma', color= \"orange\")\n",
    "numeric_reporter.generate_report('DebtRatio', 'histograma', color= \"orange\")\n",
    "numeric_reporter.generate_report('MonthlyIncome', 'densidad',color= \"orange\")\n",
    "numeric_reporter.generate_report('NumberOfOpenCreditLinesAndLoans', 'histograma', color= \"orange\")\n",
    "numeric_reporter.generate_report('NumberOfTimes90DaysLate', 'histograma',  color= \"orange\")\n",
    "numeric_reporter.generate_report('NumberRealEstateLoansOrLines', 'boxplot', color= \"orange\")\n",
    "numeric_reporter.generate_report('NumberOfTime60-89DaysPastDueNotWorse', 'boxplot', color= \"orange\")\n",
    "numeric_reporter.generate_report('NumberOfDependents', 'boxplot', color= \"orange\")\n"
   ]
  },
  {
   "cell_type": "markdown",
   "metadata": {},
   "source": [
    "1. La target se encuentra desvalanceada\n",
    "\n",
    "2.       0.0       |    5298    | |   0.9999999    |    5020    | |      1.0       |     9   -> se usó todo o nada.\n",
    "3. La gran mayoría no pasó de los 30 días sin pagar.\n",
    "\n",
    "4.         Media        |  359.75 | |       Mediana       |   0.37  || Desviación Estándar | 2477.65 | -> la dispersión de las deudas es bastante.\n",
    "5. Presenta nulos\n",
    "6. Prsenta un comportamiento exponencial\n",
    "7. La gran mayoría no se pasó del límite de 90 días\n",
    "8. Se encuentra entre 0 y 5 bienes y raíces, 30 aparece como un outlier.\n",
    "9. La gran mayoría no superó los 89 días sin pagar\n",
    "10. Se encuentran agrupados entre 0 y 2 con outliers de 12 "
   ]
  },
  {
   "cell_type": "markdown",
   "metadata": {},
   "source": [
    "### Valores atípicos y tratamiento de missings 1"
   ]
  },
  {
   "cell_type": "code",
   "execution_count": 14,
   "metadata": {},
   "outputs": [],
   "source": [
    "# age hay que pasarla al tipo de dato correcto\n",
    "df_train['age'] = df_train['age'].str.replace('y', '').astype(int)"
   ]
  },
  {
   "cell_type": "code",
   "execution_count": 15,
   "metadata": {},
   "outputs": [],
   "source": [
    "# Imputaremos el monthlyIncome con la media\n",
    "df_train['MonthlyIncome'].fillna( df_train['MonthlyIncome'].mean(), inplace=True)\n",
    "MEDIA = round(df_train['NumberOfDependents'].mean(),0)\n",
    "df_train['NumberOfDependents'].fillna( MEDIA , inplace=True)"
   ]
  },
  {
   "cell_type": "code",
   "execution_count": 16,
   "metadata": {},
   "outputs": [
    {
     "data": {
      "text/plain": [
       "Id                                      0\n",
       "target                                  0\n",
       "RevolvingUtilizationOfUnsecuredLines    0\n",
       "age                                     0\n",
       "NumberOfTime30-59DaysPastDueNotWorse    0\n",
       "DebtRatio                               0\n",
       "MonthlyIncome                           0\n",
       "NumberOfOpenCreditLinesAndLoans         0\n",
       "NumberOfTimes90DaysLate                 0\n",
       "NumberRealEstateLoansOrLines            0\n",
       "NumberOfTime60-89DaysPastDueNotWorse    0\n",
       "NumberOfDependents                      0\n",
       "dtype: int64"
      ]
     },
     "execution_count": 16,
     "metadata": {},
     "output_type": "execute_result"
    }
   ],
   "source": [
    "df_train.isna().sum()"
   ]
  },
  {
   "cell_type": "markdown",
   "metadata": {},
   "source": [
    "### Feature Engineer"
   ]
  },
  {
   "cell_type": "code",
   "execution_count": 17,
   "metadata": {},
   "outputs": [
    {
     "data": {
      "text/html": [
       "<div>\n",
       "<style scoped>\n",
       "    .dataframe tbody tr th:only-of-type {\n",
       "        vertical-align: middle;\n",
       "    }\n",
       "\n",
       "    .dataframe tbody tr th {\n",
       "        vertical-align: top;\n",
       "    }\n",
       "\n",
       "    .dataframe thead th {\n",
       "        text-align: right;\n",
       "    }\n",
       "</style>\n",
       "<table border=\"1\" class=\"dataframe\">\n",
       "  <thead>\n",
       "    <tr style=\"text-align: right;\">\n",
       "      <th></th>\n",
       "      <th>Id</th>\n",
       "      <th>target</th>\n",
       "      <th>RevolvingUtilizationOfUnsecuredLines</th>\n",
       "      <th>age</th>\n",
       "      <th>NumberOfTime30-59DaysPastDueNotWorse</th>\n",
       "      <th>DebtRatio</th>\n",
       "      <th>MonthlyIncome</th>\n",
       "      <th>NumberOfOpenCreditLinesAndLoans</th>\n",
       "      <th>NumberOfTimes90DaysLate</th>\n",
       "      <th>NumberRealEstateLoansOrLines</th>\n",
       "      <th>NumberOfTime60-89DaysPastDueNotWorse</th>\n",
       "      <th>NumberOfDependents</th>\n",
       "    </tr>\n",
       "  </thead>\n",
       "  <tbody>\n",
       "    <tr>\n",
       "      <th>0</th>\n",
       "      <td>44164</td>\n",
       "      <td>0</td>\n",
       "      <td>0.768219</td>\n",
       "      <td>68</td>\n",
       "      <td>1</td>\n",
       "      <td>0.687930</td>\n",
       "      <td>2178.0</td>\n",
       "      <td>12</td>\n",
       "      <td>0</td>\n",
       "      <td>1</td>\n",
       "      <td>0</td>\n",
       "      <td>0.0</td>\n",
       "    </tr>\n",
       "    <tr>\n",
       "      <th>1</th>\n",
       "      <td>95356</td>\n",
       "      <td>0</td>\n",
       "      <td>0.289873</td>\n",
       "      <td>52</td>\n",
       "      <td>0</td>\n",
       "      <td>0.385497</td>\n",
       "      <td>3750.0</td>\n",
       "      <td>16</td>\n",
       "      <td>0</td>\n",
       "      <td>1</td>\n",
       "      <td>0</td>\n",
       "      <td>1.0</td>\n",
       "    </tr>\n",
       "  </tbody>\n",
       "</table>\n",
       "</div>"
      ],
      "text/plain": [
       "      Id  target  RevolvingUtilizationOfUnsecuredLines  age  \\\n",
       "0  44164       0                              0.768219   68   \n",
       "1  95356       0                              0.289873   52   \n",
       "\n",
       "   NumberOfTime30-59DaysPastDueNotWorse  DebtRatio  MonthlyIncome  \\\n",
       "0                                     1   0.687930         2178.0   \n",
       "1                                     0   0.385497         3750.0   \n",
       "\n",
       "   NumberOfOpenCreditLinesAndLoans  NumberOfTimes90DaysLate  \\\n",
       "0                               12                        0   \n",
       "1                               16                        0   \n",
       "\n",
       "   NumberRealEstateLoansOrLines  NumberOfTime60-89DaysPastDueNotWorse  \\\n",
       "0                             1                                     0   \n",
       "1                             1                                     0   \n",
       "\n",
       "   NumberOfDependents  \n",
       "0                 0.0  \n",
       "1                 1.0  "
      ]
     },
     "execution_count": 17,
     "metadata": {},
     "output_type": "execute_result"
    }
   ],
   "source": [
    "df_train.head(2)"
   ]
  },
  {
   "cell_type": "code",
   "execution_count": 18,
   "metadata": {},
   "outputs": [],
   "source": [
    "# Ratio de Deuda con respecto a los Ingresos Mensuales: Esta columna podría representar la proporción de la deuda en relación con los ingresos mensuales.\n",
    "# df_train['DebtToIncomeRatio'] = round(df_train['DebtRatio'] / df_train['MonthlyIncome'],3) -> valores muy grandes\n",
    "# Proporción de Líneas de Crédito Abiertas al Número de Dependientes: Esta columna podría representar la relación entre el número de líneas de crédito abiertas y el número de dependientes.\n",
    "df_train['CreditLinesPerDependent'] = round(df_train['NumberOfOpenCreditLinesAndLoans'] / (df_train['NumberOfDependents'] + 1),2)  # Se suma 1 para evitar divisiones por cero\n",
    "# df_train['DebtToIncomeRatio'].fillna(0, inplace = True)"
   ]
  },
  {
   "cell_type": "code",
   "execution_count": 19,
   "metadata": {},
   "outputs": [
    {
     "data": {
      "text/plain": [
       "Id                                      0\n",
       "target                                  0\n",
       "RevolvingUtilizationOfUnsecuredLines    0\n",
       "age                                     0\n",
       "NumberOfTime30-59DaysPastDueNotWorse    0\n",
       "DebtRatio                               0\n",
       "MonthlyIncome                           0\n",
       "NumberOfOpenCreditLinesAndLoans         0\n",
       "NumberOfTimes90DaysLate                 0\n",
       "NumberRealEstateLoansOrLines            0\n",
       "NumberOfTime60-89DaysPastDueNotWorse    0\n",
       "NumberOfDependents                      0\n",
       "CreditLinesPerDependent                 0\n",
       "dtype: int64"
      ]
     },
     "execution_count": 19,
     "metadata": {},
     "output_type": "execute_result"
    }
   ],
   "source": [
    "df_train.isna().sum()"
   ]
  },
  {
   "cell_type": "markdown",
   "metadata": {},
   "source": [
    "### División de datos"
   ]
  },
  {
   "cell_type": "code",
   "execution_count": 20,
   "metadata": {},
   "outputs": [
    {
     "data": {
      "text/plain": [
       "Index(['Id', 'target', 'RevolvingUtilizationOfUnsecuredLines', 'age',\n",
       "       'NumberOfTime30-59DaysPastDueNotWorse', 'DebtRatio', 'MonthlyIncome',\n",
       "       'NumberOfOpenCreditLinesAndLoans', 'NumberOfTimes90DaysLate',\n",
       "       'NumberRealEstateLoansOrLines', 'NumberOfTime60-89DaysPastDueNotWorse',\n",
       "       'NumberOfDependents', 'CreditLinesPerDependent'],\n",
       "      dtype='object')"
      ]
     },
     "execution_count": 20,
     "metadata": {},
     "output_type": "execute_result"
    }
   ],
   "source": [
    "df_train.columns"
   ]
  },
  {
   "cell_type": "code",
   "execution_count": 21,
   "metadata": {},
   "outputs": [],
   "source": [
    "from imblearn.over_sampling import SMOTE\n",
    "X = df_train.drop(columns=['Id', 'target'])\n",
    "y = df_train['target']\n",
    "\n",
    "smote = SMOTE(random_state=42)\n",
    "X_resampled, y_resampled = smote.fit_resample(X, y)\n",
    "x_train, x_test, y_train, y_test = train_test_split(X_resampled, y_resampled, test_size=0.2, random_state= 24)"
   ]
  },
  {
   "cell_type": "code",
   "execution_count": 22,
   "metadata": {},
   "outputs": [
    {
     "data": {
      "text/plain": [
       "<Axes: xlabel='target', ylabel='Count'>"
      ]
     },
     "execution_count": 22,
     "metadata": {},
     "output_type": "execute_result"
    },
    {
     "data": {
      "image/png": "[encoded data removed]",
      "text/plain": [
       "<Figure size 640x480 with 1 Axes>"
      ]
     },
     "metadata": {},
     "output_type": "display_data"
    }
   ],
   "source": [
    "sns.histplot(y_resampled)"
   ]
  },
  {
   "cell_type": "code",
   "execution_count": 23,
   "metadata": {},
   "outputs": [
    {
     "data": {
      "text/html": [
       "<div>\n",
       "<style scoped>\n",
       "    .dataframe tbody tr th:only-of-type {\n",
       "        vertical-align: middle;\n",
       "    }\n",
       "\n",
       "    .dataframe tbody tr th {\n",
       "        vertical-align: top;\n",
       "    }\n",
       "\n",
       "    .dataframe thead th {\n",
       "        text-align: right;\n",
       "    }\n",
       "</style>\n",
       "<table border=\"1\" class=\"dataframe\">\n",
       "  <thead>\n",
       "    <tr style=\"text-align: right;\">\n",
       "      <th></th>\n",
       "      <th>RevolvingUtilizationOfUnsecuredLines</th>\n",
       "      <th>age</th>\n",
       "      <th>NumberOfTime30-59DaysPastDueNotWorse</th>\n",
       "      <th>DebtRatio</th>\n",
       "      <th>MonthlyIncome</th>\n",
       "      <th>NumberOfOpenCreditLinesAndLoans</th>\n",
       "      <th>NumberOfTimes90DaysLate</th>\n",
       "      <th>NumberRealEstateLoansOrLines</th>\n",
       "      <th>NumberOfTime60-89DaysPastDueNotWorse</th>\n",
       "      <th>NumberOfDependents</th>\n",
       "      <th>CreditLinesPerDependent</th>\n",
       "    </tr>\n",
       "  </thead>\n",
       "  <tbody>\n",
       "    <tr>\n",
       "      <th>59556</th>\n",
       "      <td>0.133706</td>\n",
       "      <td>57</td>\n",
       "      <td>0</td>\n",
       "      <td>0.122251</td>\n",
       "      <td>3500.000000</td>\n",
       "      <td>7</td>\n",
       "      <td>0</td>\n",
       "      <td>0</td>\n",
       "      <td>0</td>\n",
       "      <td>2.000000</td>\n",
       "      <td>2.330000</td>\n",
       "    </tr>\n",
       "    <tr>\n",
       "      <th>31535</th>\n",
       "      <td>0.000000</td>\n",
       "      <td>49</td>\n",
       "      <td>0</td>\n",
       "      <td>0.148337</td>\n",
       "      <td>4900.000000</td>\n",
       "      <td>5</td>\n",
       "      <td>0</td>\n",
       "      <td>0</td>\n",
       "      <td>0</td>\n",
       "      <td>1.000000</td>\n",
       "      <td>2.500000</td>\n",
       "    </tr>\n",
       "    <tr>\n",
       "      <th>112199</th>\n",
       "      <td>0.957113</td>\n",
       "      <td>43</td>\n",
       "      <td>0</td>\n",
       "      <td>0.094980</td>\n",
       "      <td>4718.887171</td>\n",
       "      <td>2</td>\n",
       "      <td>0</td>\n",
       "      <td>0</td>\n",
       "      <td>0</td>\n",
       "      <td>3.852138</td>\n",
       "      <td>0.518289</td>\n",
       "    </tr>\n",
       "    <tr>\n",
       "      <th>84333</th>\n",
       "      <td>0.699871</td>\n",
       "      <td>66</td>\n",
       "      <td>0</td>\n",
       "      <td>0.846199</td>\n",
       "      <td>1000.000000</td>\n",
       "      <td>6</td>\n",
       "      <td>0</td>\n",
       "      <td>0</td>\n",
       "      <td>0</td>\n",
       "      <td>0.000000</td>\n",
       "      <td>6.346346</td>\n",
       "    </tr>\n",
       "    <tr>\n",
       "      <th>106760</th>\n",
       "      <td>0.660278</td>\n",
       "      <td>50</td>\n",
       "      <td>0</td>\n",
       "      <td>0.718890</td>\n",
       "      <td>3500.000000</td>\n",
       "      <td>20</td>\n",
       "      <td>0</td>\n",
       "      <td>1</td>\n",
       "      <td>0</td>\n",
       "      <td>2.000000</td>\n",
       "      <td>6.738375</td>\n",
       "    </tr>\n",
       "    <tr>\n",
       "      <th>...</th>\n",
       "      <td>...</td>\n",
       "      <td>...</td>\n",
       "      <td>...</td>\n",
       "      <td>...</td>\n",
       "      <td>...</td>\n",
       "      <td>...</td>\n",
       "      <td>...</td>\n",
       "      <td>...</td>\n",
       "      <td>...</td>\n",
       "      <td>...</td>\n",
       "      <td>...</td>\n",
       "    </tr>\n",
       "    <tr>\n",
       "      <th>36731</th>\n",
       "      <td>1.000000</td>\n",
       "      <td>31</td>\n",
       "      <td>0</td>\n",
       "      <td>18.000000</td>\n",
       "      <td>6649.144670</td>\n",
       "      <td>0</td>\n",
       "      <td>0</td>\n",
       "      <td>0</td>\n",
       "      <td>0</td>\n",
       "      <td>0.000000</td>\n",
       "      <td>0.000000</td>\n",
       "    </tr>\n",
       "    <tr>\n",
       "      <th>7563</th>\n",
       "      <td>0.045217</td>\n",
       "      <td>62</td>\n",
       "      <td>0</td>\n",
       "      <td>1247.000000</td>\n",
       "      <td>0.000000</td>\n",
       "      <td>12</td>\n",
       "      <td>0</td>\n",
       "      <td>2</td>\n",
       "      <td>0</td>\n",
       "      <td>2.000000</td>\n",
       "      <td>4.000000</td>\n",
       "    </tr>\n",
       "    <tr>\n",
       "      <th>45039</th>\n",
       "      <td>0.145429</td>\n",
       "      <td>46</td>\n",
       "      <td>0</td>\n",
       "      <td>0.223276</td>\n",
       "      <td>8325.000000</td>\n",
       "      <td>7</td>\n",
       "      <td>0</td>\n",
       "      <td>2</td>\n",
       "      <td>0</td>\n",
       "      <td>2.000000</td>\n",
       "      <td>2.330000</td>\n",
       "    </tr>\n",
       "    <tr>\n",
       "      <th>6500</th>\n",
       "      <td>0.229622</td>\n",
       "      <td>29</td>\n",
       "      <td>0</td>\n",
       "      <td>0.056305</td>\n",
       "      <td>5558.000000</td>\n",
       "      <td>7</td>\n",
       "      <td>0</td>\n",
       "      <td>0</td>\n",
       "      <td>0</td>\n",
       "      <td>0.000000</td>\n",
       "      <td>7.000000</td>\n",
       "    </tr>\n",
       "    <tr>\n",
       "      <th>899</th>\n",
       "      <td>0.900309</td>\n",
       "      <td>74</td>\n",
       "      <td>0</td>\n",
       "      <td>0.519323</td>\n",
       "      <td>3130.000000</td>\n",
       "      <td>7</td>\n",
       "      <td>0</td>\n",
       "      <td>1</td>\n",
       "      <td>0</td>\n",
       "      <td>0.000000</td>\n",
       "      <td>7.000000</td>\n",
       "    </tr>\n",
       "  </tbody>\n",
       "</table>\n",
       "<p>109643 rows × 11 columns</p>\n",
       "</div>"
      ],
      "text/plain": [
       "        RevolvingUtilizationOfUnsecuredLines  age  \\\n",
       "59556                               0.133706   57   \n",
       "31535                               0.000000   49   \n",
       "112199                              0.957113   43   \n",
       "84333                               0.699871   66   \n",
       "106760                              0.660278   50   \n",
       "...                                      ...  ...   \n",
       "36731                               1.000000   31   \n",
       "7563                                0.045217   62   \n",
       "45039                               0.145429   46   \n",
       "6500                                0.229622   29   \n",
       "899                                 0.900309   74   \n",
       "\n",
       "        NumberOfTime30-59DaysPastDueNotWorse    DebtRatio  MonthlyIncome  \\\n",
       "59556                                      0     0.122251    3500.000000   \n",
       "31535                                      0     0.148337    4900.000000   \n",
       "112199                                     0     0.094980    4718.887171   \n",
       "84333                                      0     0.846199    1000.000000   \n",
       "106760                                     0     0.718890    3500.000000   \n",
       "...                                      ...          ...            ...   \n",
       "36731                                      0    18.000000    6649.144670   \n",
       "7563                                       0  1247.000000       0.000000   \n",
       "45039                                      0     0.223276    8325.000000   \n",
       "6500                                       0     0.056305    5558.000000   \n",
       "899                                        0     0.519323    3130.000000   \n",
       "\n",
       "        NumberOfOpenCreditLinesAndLoans  NumberOfTimes90DaysLate  \\\n",
       "59556                                 7                        0   \n",
       "31535                                 5                        0   \n",
       "112199                                2                        0   \n",
       "84333                                 6                        0   \n",
       "106760                               20                        0   \n",
       "...                                 ...                      ...   \n",
       "36731                                 0                        0   \n",
       "7563                                 12                        0   \n",
       "45039                                 7                        0   \n",
       "6500                                  7                        0   \n",
       "899                                   7                        0   \n",
       "\n",
       "        NumberRealEstateLoansOrLines  NumberOfTime60-89DaysPastDueNotWorse  \\\n",
       "59556                              0                                     0   \n",
       "31535                              0                                     0   \n",
       "112199                             0                                     0   \n",
       "84333                              0                                     0   \n",
       "106760                             1                                     0   \n",
       "...                              ...                                   ...   \n",
       "36731                              0                                     0   \n",
       "7563                               2                                     0   \n",
       "45039                              2                                     0   \n",
       "6500                               0                                     0   \n",
       "899                                1                                     0   \n",
       "\n",
       "        NumberOfDependents  CreditLinesPerDependent  \n",
       "59556             2.000000                 2.330000  \n",
       "31535             1.000000                 2.500000  \n",
       "112199            3.852138                 0.518289  \n",
       "84333             0.000000                 6.346346  \n",
       "106760            2.000000                 6.738375  \n",
       "...                    ...                      ...  \n",
       "36731             0.000000                 0.000000  \n",
       "7563              2.000000                 4.000000  \n",
       "45039             2.000000                 2.330000  \n",
       "6500              0.000000                 7.000000  \n",
       "899               0.000000                 7.000000  \n",
       "\n",
       "[109643 rows x 11 columns]"
      ]
     },
     "execution_count": 23,
     "metadata": {},
     "output_type": "execute_result"
    }
   ],
   "source": [
    "x_train"
   ]
  },
  {
   "cell_type": "code",
   "execution_count": 24,
   "metadata": {},
   "outputs": [
    {
     "data": {
      "text/html": [
       "<div>\n",
       "<style scoped>\n",
       "    .dataframe tbody tr th:only-of-type {\n",
       "        vertical-align: middle;\n",
       "    }\n",
       "\n",
       "    .dataframe tbody tr th {\n",
       "        vertical-align: top;\n",
       "    }\n",
       "\n",
       "    .dataframe thead th {\n",
       "        text-align: right;\n",
       "    }\n",
       "</style>\n",
       "<table border=\"1\" class=\"dataframe\">\n",
       "  <thead>\n",
       "    <tr style=\"text-align: right;\">\n",
       "      <th></th>\n",
       "      <th>RevolvingUtilizationOfUnsecuredLines</th>\n",
       "      <th>age</th>\n",
       "      <th>NumberOfTime30-59DaysPastDueNotWorse</th>\n",
       "      <th>DebtRatio</th>\n",
       "      <th>MonthlyIncome</th>\n",
       "      <th>NumberOfOpenCreditLinesAndLoans</th>\n",
       "      <th>NumberOfTimes90DaysLate</th>\n",
       "      <th>NumberRealEstateLoansOrLines</th>\n",
       "      <th>NumberOfTime60-89DaysPastDueNotWorse</th>\n",
       "      <th>NumberOfDependents</th>\n",
       "      <th>CreditLinesPerDependent</th>\n",
       "    </tr>\n",
       "  </thead>\n",
       "  <tbody>\n",
       "    <tr>\n",
       "      <th>19589</th>\n",
       "      <td>0.326158</td>\n",
       "      <td>47</td>\n",
       "      <td>0</td>\n",
       "      <td>0.280172</td>\n",
       "      <td>5335.000000</td>\n",
       "      <td>10</td>\n",
       "      <td>0</td>\n",
       "      <td>1</td>\n",
       "      <td>0</td>\n",
       "      <td>0.000000</td>\n",
       "      <td>10.000000</td>\n",
       "    </tr>\n",
       "    <tr>\n",
       "      <th>41157</th>\n",
       "      <td>0.066625</td>\n",
       "      <td>58</td>\n",
       "      <td>0</td>\n",
       "      <td>3423.000000</td>\n",
       "      <td>6649.144670</td>\n",
       "      <td>15</td>\n",
       "      <td>0</td>\n",
       "      <td>4</td>\n",
       "      <td>0</td>\n",
       "      <td>0.000000</td>\n",
       "      <td>15.000000</td>\n",
       "    </tr>\n",
       "    <tr>\n",
       "      <th>88881</th>\n",
       "      <td>0.117129</td>\n",
       "      <td>44</td>\n",
       "      <td>1</td>\n",
       "      <td>1.215622</td>\n",
       "      <td>5015.557250</td>\n",
       "      <td>10</td>\n",
       "      <td>0</td>\n",
       "      <td>3</td>\n",
       "      <td>0</td>\n",
       "      <td>2.295166</td>\n",
       "      <td>3.305470</td>\n",
       "    </tr>\n",
       "    <tr>\n",
       "      <th>36830</th>\n",
       "      <td>0.236288</td>\n",
       "      <td>64</td>\n",
       "      <td>0</td>\n",
       "      <td>0.035392</td>\n",
       "      <td>3983.000000</td>\n",
       "      <td>2</td>\n",
       "      <td>0</td>\n",
       "      <td>0</td>\n",
       "      <td>0</td>\n",
       "      <td>0.000000</td>\n",
       "      <td>2.000000</td>\n",
       "    </tr>\n",
       "    <tr>\n",
       "      <th>73734</th>\n",
       "      <td>1.233456</td>\n",
       "      <td>50</td>\n",
       "      <td>0</td>\n",
       "      <td>0.082266</td>\n",
       "      <td>6422.698099</td>\n",
       "      <td>3</td>\n",
       "      <td>0</td>\n",
       "      <td>0</td>\n",
       "      <td>0</td>\n",
       "      <td>0.543631</td>\n",
       "      <td>2.184553</td>\n",
       "    </tr>\n",
       "    <tr>\n",
       "      <th>...</th>\n",
       "      <td>...</td>\n",
       "      <td>...</td>\n",
       "      <td>...</td>\n",
       "      <td>...</td>\n",
       "      <td>...</td>\n",
       "      <td>...</td>\n",
       "      <td>...</td>\n",
       "      <td>...</td>\n",
       "      <td>...</td>\n",
       "      <td>...</td>\n",
       "      <td>...</td>\n",
       "    </tr>\n",
       "    <tr>\n",
       "      <th>94254</th>\n",
       "      <td>0.567638</td>\n",
       "      <td>47</td>\n",
       "      <td>2</td>\n",
       "      <td>0.628434</td>\n",
       "      <td>5000.000000</td>\n",
       "      <td>14</td>\n",
       "      <td>0</td>\n",
       "      <td>1</td>\n",
       "      <td>0</td>\n",
       "      <td>3.275345</td>\n",
       "      <td>3.814517</td>\n",
       "    </tr>\n",
       "    <tr>\n",
       "      <th>113757</th>\n",
       "      <td>0.249291</td>\n",
       "      <td>33</td>\n",
       "      <td>0</td>\n",
       "      <td>2403.710801</td>\n",
       "      <td>0.000000</td>\n",
       "      <td>5</td>\n",
       "      <td>0</td>\n",
       "      <td>1</td>\n",
       "      <td>0</td>\n",
       "      <td>0.989560</td>\n",
       "      <td>2.578302</td>\n",
       "    </tr>\n",
       "    <tr>\n",
       "      <th>66185</th>\n",
       "      <td>0.077386</td>\n",
       "      <td>33</td>\n",
       "      <td>1</td>\n",
       "      <td>0.977503</td>\n",
       "      <td>2666.000000</td>\n",
       "      <td>20</td>\n",
       "      <td>0</td>\n",
       "      <td>1</td>\n",
       "      <td>0</td>\n",
       "      <td>1.000000</td>\n",
       "      <td>10.000000</td>\n",
       "    </tr>\n",
       "    <tr>\n",
       "      <th>94038</th>\n",
       "      <td>0.628087</td>\n",
       "      <td>58</td>\n",
       "      <td>0</td>\n",
       "      <td>0.301341</td>\n",
       "      <td>5421.927257</td>\n",
       "      <td>10</td>\n",
       "      <td>0</td>\n",
       "      <td>0</td>\n",
       "      <td>0</td>\n",
       "      <td>1.461158</td>\n",
       "      <td>4.499286</td>\n",
       "    </tr>\n",
       "    <tr>\n",
       "      <th>16790</th>\n",
       "      <td>0.000488</td>\n",
       "      <td>47</td>\n",
       "      <td>0</td>\n",
       "      <td>0.067075</td>\n",
       "      <td>3100.000000</td>\n",
       "      <td>10</td>\n",
       "      <td>0</td>\n",
       "      <td>0</td>\n",
       "      <td>0</td>\n",
       "      <td>2.000000</td>\n",
       "      <td>3.330000</td>\n",
       "    </tr>\n",
       "  </tbody>\n",
       "</table>\n",
       "<p>27411 rows × 11 columns</p>\n",
       "</div>"
      ],
      "text/plain": [
       "        RevolvingUtilizationOfUnsecuredLines  age  \\\n",
       "19589                               0.326158   47   \n",
       "41157                               0.066625   58   \n",
       "88881                               0.117129   44   \n",
       "36830                               0.236288   64   \n",
       "73734                               1.233456   50   \n",
       "...                                      ...  ...   \n",
       "94254                               0.567638   47   \n",
       "113757                              0.249291   33   \n",
       "66185                               0.077386   33   \n",
       "94038                               0.628087   58   \n",
       "16790                               0.000488   47   \n",
       "\n",
       "        NumberOfTime30-59DaysPastDueNotWorse    DebtRatio  MonthlyIncome  \\\n",
       "19589                                      0     0.280172    5335.000000   \n",
       "41157                                      0  3423.000000    6649.144670   \n",
       "88881                                      1     1.215622    5015.557250   \n",
       "36830                                      0     0.035392    3983.000000   \n",
       "73734                                      0     0.082266    6422.698099   \n",
       "...                                      ...          ...            ...   \n",
       "94254                                      2     0.628434    5000.000000   \n",
       "113757                                     0  2403.710801       0.000000   \n",
       "66185                                      1     0.977503    2666.000000   \n",
       "94038                                      0     0.301341    5421.927257   \n",
       "16790                                      0     0.067075    3100.000000   \n",
       "\n",
       "        NumberOfOpenCreditLinesAndLoans  NumberOfTimes90DaysLate  \\\n",
       "19589                                10                        0   \n",
       "41157                                15                        0   \n",
       "88881                                10                        0   \n",
       "36830                                 2                        0   \n",
       "73734                                 3                        0   \n",
       "...                                 ...                      ...   \n",
       "94254                                14                        0   \n",
       "113757                                5                        0   \n",
       "66185                                20                        0   \n",
       "94038                                10                        0   \n",
       "16790                                10                        0   \n",
       "\n",
       "        NumberRealEstateLoansOrLines  NumberOfTime60-89DaysPastDueNotWorse  \\\n",
       "19589                              1                                     0   \n",
       "41157                              4                                     0   \n",
       "88881                              3                                     0   \n",
       "36830                              0                                     0   \n",
       "73734                              0                                     0   \n",
       "...                              ...                                   ...   \n",
       "94254                              1                                     0   \n",
       "113757                             1                                     0   \n",
       "66185                              1                                     0   \n",
       "94038                              0                                     0   \n",
       "16790                              0                                     0   \n",
       "\n",
       "        NumberOfDependents  CreditLinesPerDependent  \n",
       "19589             0.000000                10.000000  \n",
       "41157             0.000000                15.000000  \n",
       "88881             2.295166                 3.305470  \n",
       "36830             0.000000                 2.000000  \n",
       "73734             0.543631                 2.184553  \n",
       "...                    ...                      ...  \n",
       "94254             3.275345                 3.814517  \n",
       "113757            0.989560                 2.578302  \n",
       "66185             1.000000                10.000000  \n",
       "94038             1.461158                 4.499286  \n",
       "16790             2.000000                 3.330000  \n",
       "\n",
       "[27411 rows x 11 columns]"
      ]
     },
     "execution_count": 24,
     "metadata": {},
     "output_type": "execute_result"
    }
   ],
   "source": [
    "x_test"
   ]
  },
  {
   "cell_type": "code",
   "execution_count": 25,
   "metadata": {},
   "outputs": [
    {
     "data": {
      "text/plain": [
       "<Axes: xlabel='target', ylabel='Count'>"
      ]
     },
     "execution_count": 25,
     "metadata": {},
     "output_type": "execute_result"
    },
    {
     "data": {
      "image/png": "[encoded data removed]",
      "text/plain": [
       "<Figure size 640x480 with 1 Axes>"
      ]
     },
     "metadata": {},
     "output_type": "display_data"
    }
   ],
   "source": [
    "sns.histplot(y_train)"
   ]
  },
  {
   "cell_type": "markdown",
   "metadata": {},
   "source": [
    "### Escalado"
   ]
  },
  {
   "cell_type": "code",
   "execution_count": 26,
   "metadata": {},
   "outputs": [],
   "source": [
    "col_minmax = ['RevolvingUtilizationOfUnsecuredLines', 'age', 'MonthlyIncome', 'NumberOfOpenCreditLinesAndLoans', 'NumberOfTime30-59DaysPastDueNotWorse', 'NumberOfTimes90DaysLate', 'NumberRealEstateLoansOrLines', 'NumberOfTime60-89DaysPastDueNotWorse', 'NumberOfDependents', 'CreditLinesPerDependent' ]\n",
    "\n",
    "minmax = MinMaxScaler()\n",
    "\n",
    "X_train_minmax = minmax.fit_transform(x_train[col_minmax])\n",
    "x_train[col_minmax] = X_train_minmax\n",
    "\n",
    "X_test_minmax = minmax.transform(x_test[col_minmax])\n",
    "x_test[col_minmax] = X_test_minmax"
   ]
  },
  {
   "cell_type": "markdown",
   "metadata": {},
   "source": [
    "### BaseLine"
   ]
  },
  {
   "cell_type": "code",
   "execution_count": 27,
   "metadata": {},
   "outputs": [],
   "source": [
    "from sklearn.ensemble import GradientBoostingRegressor\n",
    "\n",
    "# modelos = {\n",
    "#     # \"Logistic Regression\": LogisticRegression(random_state=24),\n",
    "#     \"Random Forest\" : RandomForestClassifier(max_depth=10, random_state=24),\n",
    "#     \"Boosting\": AdaBoostClassifier(n_estimators=10, random_state=24),\n",
    "# }\n",
    "\n",
    "# # Define las métricas a usar\n",
    "# metricas = [\"accuracy\", \"f1_macro\", \"roc_auc_ovr\"]\n",
    "\n",
    "# resultados_dict = {}\n",
    "\n",
    "# for nombre_modelo, modelo in modelos.items():\n",
    "#     cv_resultados = cross_validate(modelo, x_train, y_train, cv=5, scoring=metricas)\n",
    "    \n",
    "#     for metrica in metricas:\n",
    "#         clave = f\"{nombre_modelo}_{metrica}\"\n",
    "#         resultados_dict[clave] = cv_resultados[f\"test_{metrica}\"].mean()\n",
    "\n",
    "# # Convertir el diccionario de resultados en DataFrame\n",
    "# resultados_df = pd.DataFrame([resultados_dict])\n",
    "\n",
    "# resultados_df.T"
   ]
  },
  {
   "cell_type": "markdown",
   "metadata": {},
   "source": [
    "### Hiperparámetros"
   ]
  },
  {
   "cell_type": "code",
   "execution_count": 28,
   "metadata": {},
   "outputs": [
    {
     "data": {
      "text/html": [
       "<style>#sk-container-id-1 {color: black;}#sk-container-id-1 pre{padding: 0;}#sk-container-id-1 div.sk-toggleable {background-color: white;}#sk-container-id-1 label.sk-toggleable__label {cursor: pointer;display: block;width: 100%;margin-bottom: 0;padding: 0.3em;box-sizing: border-box;text-align: center;}#sk-container-id-1 label.sk-toggleable__label-arrow:before {content: \"▸\";float: left;margin-right: 0.25em;color: #696969;}#sk-container-id-1 label.sk-toggleable__label-arrow:hover:before {color: black;}#sk-container-id-1 div.sk-estimator:hover label.sk-toggleable__label-arrow:before {color: black;}#sk-container-id-1 div.sk-toggleable__content {max-height: 0;max-width: 0;overflow: hidden;text-align: left;background-color: #f0f8ff;}#sk-container-id-1 div.sk-toggleable__content pre {margin: 0.2em;color: black;border-radius: 0.25em;background-color: #f0f8ff;}#sk-container-id-1 input.sk-toggleable__control:checked~div.sk-toggleable__content {max-height: 200px;max-width: 100%;overflow: auto;}#sk-container-id-1 input.sk-toggleable__control:checked~label.sk-toggleable__label-arrow:before {content: \"▾\";}#sk-container-id-1 div.sk-estimator input.sk-toggleable__control:checked~label.sk-toggleable__label {background-color: #d4ebff;}#sk-container-id-1 div.sk-label input.sk-toggleable__control:checked~label.sk-toggleable__label {background-color: #d4ebff;}#sk-container-id-1 input.sk-hidden--visually {border: 0;clip: rect(1px 1px 1px 1px);clip: rect(1px, 1px, 1px, 1px);height: 1px;margin: -1px;overflow: hidden;padding: 0;position: absolute;width: 1px;}#sk-container-id-1 div.sk-estimator {font-family: monospace;background-color: #f0f8ff;border: 1px dotted black;border-radius: 0.25em;box-sizing: border-box;margin-bottom: 0.5em;}#sk-container-id-1 div.sk-estimator:hover {background-color: #d4ebff;}#sk-container-id-1 div.sk-parallel-item::after {content: \"\";width: 100%;border-bottom: 1px solid gray;flex-grow: 1;}#sk-container-id-1 div.sk-label:hover label.sk-toggleable__label {background-color: #d4ebff;}#sk-container-id-1 div.sk-serial::before {content: \"\";position: absolute;border-left: 1px solid gray;box-sizing: border-box;top: 0;bottom: 0;left: 50%;z-index: 0;}#sk-container-id-1 div.sk-serial {display: flex;flex-direction: column;align-items: center;background-color: white;padding-right: 0.2em;padding-left: 0.2em;position: relative;}#sk-container-id-1 div.sk-item {position: relative;z-index: 1;}#sk-container-id-1 div.sk-parallel {display: flex;align-items: stretch;justify-content: center;background-color: white;position: relative;}#sk-container-id-1 div.sk-item::before, #sk-container-id-1 div.sk-parallel-item::before {content: \"\";position: absolute;border-left: 1px solid gray;box-sizing: border-box;top: 0;bottom: 0;left: 50%;z-index: -1;}#sk-container-id-1 div.sk-parallel-item {display: flex;flex-direction: column;z-index: 1;position: relative;background-color: white;}#sk-container-id-1 div.sk-parallel-item:first-child::after {align-self: flex-end;width: 50%;}#sk-container-id-1 div.sk-parallel-item:last-child::after {align-self: flex-start;width: 50%;}#sk-container-id-1 div.sk-parallel-item:only-child::after {width: 0;}#sk-container-id-1 div.sk-dashed-wrapped {border: 1px dashed gray;margin: 0 0.4em 0.5em 0.4em;box-sizing: border-box;padding-bottom: 0.4em;background-color: white;}#sk-container-id-1 div.sk-label label {font-family: monospace;font-weight: bold;display: inline-block;line-height: 1.2em;}#sk-container-id-1 div.sk-label-container {text-align: center;}#sk-container-id-1 div.sk-container {/* jupyter's `normalize.less` sets `[hidden] { display: none; }` but bootstrap.min.css set `[hidden] { display: none !important; }` so we also need the `!important` here to be able to override the default hidden behavior on the sphinx rendered scikit-learn.org. See: https://github.com/scikit-learn/scikit-learn/issues/21755 */display: inline-block !important;position: relative;}#sk-container-id-1 div.sk-text-repr-fallback {display: none;}</style><div id=\"sk-container-id-1\" class=\"sk-top-container\"><div class=\"sk-text-repr-fallback\"><pre>GridSearchCV(cv=5, estimator=RandomForestClassifier(), n_jobs=-1,\n",
       "             param_grid={&#x27;bootstrap&#x27;: [True, False],\n",
       "                         &#x27;max_depth&#x27;: array([7, 8, 9])},\n",
       "             scoring=&#x27;f1_macro&#x27;)</pre><b>In a Jupyter environment, please rerun this cell to show the HTML representation or trust the notebook. <br />On GitHub, the HTML representation is unable to render, please try loading this page with nbviewer.org.</b></div><div class=\"sk-container\" hidden><div class=\"sk-item sk-dashed-wrapped\"><div class=\"sk-label-container\"><div class=\"sk-label sk-toggleable\"><input class=\"sk-toggleable__control sk-hidden--visually\" id=\"sk-estimator-id-1\" type=\"checkbox\" ><label for=\"sk-estimator-id-1\" class=\"sk-toggleable__label sk-toggleable__label-arrow\">GridSearchCV</label><div class=\"sk-toggleable__content\"><pre>GridSearchCV(cv=5, estimator=RandomForestClassifier(), n_jobs=-1,\n",
       "             param_grid={&#x27;bootstrap&#x27;: [True, False],\n",
       "                         &#x27;max_depth&#x27;: array([7, 8, 9])},\n",
       "             scoring=&#x27;f1_macro&#x27;)</pre></div></div></div><div class=\"sk-parallel\"><div class=\"sk-parallel-item\"><div class=\"sk-item\"><div class=\"sk-label-container\"><div class=\"sk-label sk-toggleable\"><input class=\"sk-toggleable__control sk-hidden--visually\" id=\"sk-estimator-id-2\" type=\"checkbox\" ><label for=\"sk-estimator-id-2\" class=\"sk-toggleable__label sk-toggleable__label-arrow\">estimator: RandomForestClassifier</label><div class=\"sk-toggleable__content\"><pre>RandomForestClassifier()</pre></div></div></div><div class=\"sk-serial\"><div class=\"sk-item\"><div class=\"sk-estimator sk-toggleable\"><input class=\"sk-toggleable__control sk-hidden--visually\" id=\"sk-estimator-id-3\" type=\"checkbox\" ><label for=\"sk-estimator-id-3\" class=\"sk-toggleable__label sk-toggleable__label-arrow\">RandomForestClassifier</label><div class=\"sk-toggleable__content\"><pre>RandomForestClassifier()</pre></div></div></div></div></div></div></div></div></div></div>"
      ],
      "text/plain": [
       "GridSearchCV(cv=5, estimator=RandomForestClassifier(), n_jobs=-1,\n",
       "             param_grid={'bootstrap': [True, False],\n",
       "                         'max_depth': array([7, 8, 9])},\n",
       "             scoring='f1_macro')"
      ]
     },
     "execution_count": 28,
     "metadata": {},
     "output_type": "execute_result"
    }
   ],
   "source": [
    "# La idea del Grid Search es de los mejores modelos que funcionan, aplicarle los mejores hiperparámetros.\n",
    "import numpy as np\n",
    "from sklearn.model_selection import GridSearchCV, RandomizedSearchCV\n",
    "\n",
    "param_grid = {\n",
    "    'bootstrap': [True, False],\n",
    "    'max_depth': np.arange(7,10,1),\n",
    "}\n",
    "\n",
    "rnd_clas = RandomForestClassifier()\n",
    "\n",
    "random_search = GridSearchCV(rnd_clas, # El modelo que quiero entrenar\n",
    "                            param_grid, # El grid de parámetros\n",
    "                                #    random_state=1, # Semilla\n",
    "                                #    n_iter=100, # Nº de iteraciones del random search\n",
    "                            cv=5, # Folds del cross validation\n",
    "                            scoring=\"f1_macro\", # Métrica que quiero optimizar\n",
    "                            n_jobs = -1 # Paralelizar\n",
    "                                  )\n",
    "\n",
    "random_search.fit(x_train, y_train)"
   ]
  },
  {
   "cell_type": "code",
   "execution_count": 29,
   "metadata": {},
   "outputs": [
    {
     "data": {
      "text/plain": [
       "{'bootstrap': True, 'max_depth': 9}"
      ]
     },
     "execution_count": 29,
     "metadata": {},
     "output_type": "execute_result"
    }
   ],
   "source": [
    "# Mejores parámetros del modelo\n",
    "random_search.best_params_"
   ]
  },
  {
   "cell_type": "code",
   "execution_count": 30,
   "metadata": {},
   "outputs": [
    {
     "data": {
      "text/plain": [
       "0.8369632629236438"
      ]
     },
     "execution_count": 30,
     "metadata": {},
     "output_type": "execute_result"
    }
   ],
   "source": [
    "random_search.best_estimator_.score(x_test, y_test)"
   ]
  },
  {
   "cell_type": "markdown",
   "metadata": {},
   "source": [
    "### Seleccionar modelo"
   ]
  },
  {
   "cell_type": "code",
   "execution_count": 31,
   "metadata": {},
   "outputs": [
    {
     "data": {
      "text/html": [
       "<style>#sk-container-id-2 {color: black;}#sk-container-id-2 pre{padding: 0;}#sk-container-id-2 div.sk-toggleable {background-color: white;}#sk-container-id-2 label.sk-toggleable__label {cursor: pointer;display: block;width: 100%;margin-bottom: 0;padding: 0.3em;box-sizing: border-box;text-align: center;}#sk-container-id-2 label.sk-toggleable__label-arrow:before {content: \"▸\";float: left;margin-right: 0.25em;color: #696969;}#sk-container-id-2 label.sk-toggleable__label-arrow:hover:before {color: black;}#sk-container-id-2 div.sk-estimator:hover label.sk-toggleable__label-arrow:before {color: black;}#sk-container-id-2 div.sk-toggleable__content {max-height: 0;max-width: 0;overflow: hidden;text-align: left;background-color: #f0f8ff;}#sk-container-id-2 div.sk-toggleable__content pre {margin: 0.2em;color: black;border-radius: 0.25em;background-color: #f0f8ff;}#sk-container-id-2 input.sk-toggleable__control:checked~div.sk-toggleable__content {max-height: 200px;max-width: 100%;overflow: auto;}#sk-container-id-2 input.sk-toggleable__control:checked~label.sk-toggleable__label-arrow:before {content: \"▾\";}#sk-container-id-2 div.sk-estimator input.sk-toggleable__control:checked~label.sk-toggleable__label {background-color: #d4ebff;}#sk-container-id-2 div.sk-label input.sk-toggleable__control:checked~label.sk-toggleable__label {background-color: #d4ebff;}#sk-container-id-2 input.sk-hidden--visually {border: 0;clip: rect(1px 1px 1px 1px);clip: rect(1px, 1px, 1px, 1px);height: 1px;margin: -1px;overflow: hidden;padding: 0;position: absolute;width: 1px;}#sk-container-id-2 div.sk-estimator {font-family: monospace;background-color: #f0f8ff;border: 1px dotted black;border-radius: 0.25em;box-sizing: border-box;margin-bottom: 0.5em;}#sk-container-id-2 div.sk-estimator:hover {background-color: #d4ebff;}#sk-container-id-2 div.sk-parallel-item::after {content: \"\";width: 100%;border-bottom: 1px solid gray;flex-grow: 1;}#sk-container-id-2 div.sk-label:hover label.sk-toggleable__label {background-color: #d4ebff;}#sk-container-id-2 div.sk-serial::before {content: \"\";position: absolute;border-left: 1px solid gray;box-sizing: border-box;top: 0;bottom: 0;left: 50%;z-index: 0;}#sk-container-id-2 div.sk-serial {display: flex;flex-direction: column;align-items: center;background-color: white;padding-right: 0.2em;padding-left: 0.2em;position: relative;}#sk-container-id-2 div.sk-item {position: relative;z-index: 1;}#sk-container-id-2 div.sk-parallel {display: flex;align-items: stretch;justify-content: center;background-color: white;position: relative;}#sk-container-id-2 div.sk-item::before, #sk-container-id-2 div.sk-parallel-item::before {content: \"\";position: absolute;border-left: 1px solid gray;box-sizing: border-box;top: 0;bottom: 0;left: 50%;z-index: -1;}#sk-container-id-2 div.sk-parallel-item {display: flex;flex-direction: column;z-index: 1;position: relative;background-color: white;}#sk-container-id-2 div.sk-parallel-item:first-child::after {align-self: flex-end;width: 50%;}#sk-container-id-2 div.sk-parallel-item:last-child::after {align-self: flex-start;width: 50%;}#sk-container-id-2 div.sk-parallel-item:only-child::after {width: 0;}#sk-container-id-2 div.sk-dashed-wrapped {border: 1px dashed gray;margin: 0 0.4em 0.5em 0.4em;box-sizing: border-box;padding-bottom: 0.4em;background-color: white;}#sk-container-id-2 div.sk-label label {font-family: monospace;font-weight: bold;display: inline-block;line-height: 1.2em;}#sk-container-id-2 div.sk-label-container {text-align: center;}#sk-container-id-2 div.sk-container {/* jupyter's `normalize.less` sets `[hidden] { display: none; }` but bootstrap.min.css set `[hidden] { display: none !important; }` so we also need the `!important` here to be able to override the default hidden behavior on the sphinx rendered scikit-learn.org. See: https://github.com/scikit-learn/scikit-learn/issues/21755 */display: inline-block !important;position: relative;}#sk-container-id-2 div.sk-text-repr-fallback {display: none;}</style><div id=\"sk-container-id-2\" class=\"sk-top-container\"><div class=\"sk-text-repr-fallback\"><pre>RandomForestClassifier(max_depth=9)</pre><b>In a Jupyter environment, please rerun this cell to show the HTML representation or trust the notebook. <br />On GitHub, the HTML representation is unable to render, please try loading this page with nbviewer.org.</b></div><div class=\"sk-container\" hidden><div class=\"sk-item\"><div class=\"sk-estimator sk-toggleable\"><input class=\"sk-toggleable__control sk-hidden--visually\" id=\"sk-estimator-id-4\" type=\"checkbox\" checked><label for=\"sk-estimator-id-4\" class=\"sk-toggleable__label sk-toggleable__label-arrow\">RandomForestClassifier</label><div class=\"sk-toggleable__content\"><pre>RandomForestClassifier(max_depth=9)</pre></div></div></div></div></div>"
      ],
      "text/plain": [
       "RandomForestClassifier(max_depth=9)"
      ]
     },
     "execution_count": 31,
     "metadata": {},
     "output_type": "execute_result"
    }
   ],
   "source": [
    "# {'bootstrap': True, 'max_depth': 9} RandomForest()\n",
    "random_search = RandomForestClassifier(bootstrap=True, max_depth=9)\n",
    "random_search.fit(x_train, y_train)"
   ]
  },
  {
   "cell_type": "markdown",
   "metadata": {},
   "source": [
    "### Predicción del modelo"
   ]
  },
  {
   "cell_type": "code",
   "execution_count": 33,
   "metadata": {},
   "outputs": [],
   "source": [
    "y_pred = random_search.predict(x_test)"
   ]
  },
  {
   "cell_type": "code",
   "execution_count": 35,
   "metadata": {},
   "outputs": [
    {
     "data": {
      "text/plain": [
       "0.8377765477085506"
      ]
     },
     "execution_count": 35,
     "metadata": {},
     "output_type": "execute_result"
    }
   ],
   "source": [
    "f1_score(y_test, random_search.predict(x_test), average='macro')"
   ]
  },
  {
   "cell_type": "markdown",
   "metadata": {},
   "source": [
    "### Validar modelo"
   ]
  },
  {
   "cell_type": "code",
   "execution_count": 36,
   "metadata": {},
   "outputs": [
    {
     "name": "stdout",
     "output_type": "stream",
     "text": [
      "              precision    recall  f1-score   support\n",
      "\n",
      "           0       0.81      0.88      0.84     13676\n",
      "           1       0.87      0.80      0.83     13735\n",
      "\n",
      "    accuracy                           0.84     27411\n",
      "   macro avg       0.84      0.84      0.84     27411\n",
      "weighted avg       0.84      0.84      0.84     27411\n",
      "\n"
     ]
    }
   ],
   "source": [
    "print(classification_report(y_test, y_pred))"
   ]
  },
  {
   "cell_type": "code",
   "execution_count": null,
   "metadata": {},
   "outputs": [
    {
     "data": {
      "text/plain": [
       "<sklearn.metrics._plot.confusion_matrix.ConfusionMatrixDisplay at 0x18bf52a4790>"
      ]
     },
     "execution_count": 34,
     "metadata": {},
     "output_type": "execute_result"
    },
    {
     "data": {
      "image/png": "[encoded data removed]",
      "text/plain": [
       "<Figure size 640x480 with 2 Axes>"
      ]
     },
     "metadata": {},
     "output_type": "display_data"
    }
   ],
   "source": [
    "ConfusionMatrixDisplay(confusion_matrix(y_test, y_pred)).plot()"
   ]
  },
  {
   "cell_type": "markdown",
   "metadata": {},
   "source": [
    "### Abrimos df_test"
   ]
  },
  {
   "cell_type": "code",
   "execution_count": 37,
   "metadata": {},
   "outputs": [
    {
     "data": {
      "text/plain": [
       "(31442, 2)"
      ]
     },
     "execution_count": 37,
     "metadata": {},
     "output_type": "execute_result"
    }
   ],
   "source": [
    "testeando = pd.read_csv('./data/sample_submission.csv')\n",
    "testeando.shape"
   ]
  },
  {
   "cell_type": "code",
   "execution_count": 38,
   "metadata": {},
   "outputs": [],
   "source": [
    "df_test = pd.read_csv('./data/test.csv')"
   ]
  },
  {
   "cell_type": "code",
   "execution_count": 39,
   "metadata": {},
   "outputs": [],
   "source": [
    "# age hay que pasarla al tipo de dato correcto\n",
    "df_test['age'] = df_test['age'].str.replace('y', '').astype(int)\n",
    "# Imputaremos el monthlyIncome con la media\n",
    "df_test['MonthlyIncome'].fillna( df_test['MonthlyIncome'].mean(), inplace=True)\n",
    "MEDIA = round(df_test['NumberOfDependents'].mean(),0)\n",
    "df_test['NumberOfDependents'].fillna( MEDIA , inplace=True)\n",
    "\n",
    "df_test['CreditLinesPerDependent'] = round(df_test['NumberOfOpenCreditLinesAndLoans'] / (df_test['NumberOfDependents'] + 1),2)  # Se suma 1 para evitar divisiones por cero"
   ]
  },
  {
   "cell_type": "code",
   "execution_count": 40,
   "metadata": {},
   "outputs": [],
   "source": [
    "col_minmax = ['RevolvingUtilizationOfUnsecuredLines', 'age', 'MonthlyIncome', 'NumberOfOpenCreditLinesAndLoans', 'NumberOfTime30-59DaysPastDueNotWorse', 'NumberOfTimes90DaysLate', 'NumberRealEstateLoansOrLines', 'NumberOfTime60-89DaysPastDueNotWorse', 'NumberOfDependents', 'CreditLinesPerDependent' ]\n",
    "\n",
    "minmax = MinMaxScaler()\n",
    "\n",
    "X_test_minmax = minmax.fit_transform(df_test[col_minmax])\n",
    "df_test[col_minmax] = X_test_minmax"
   ]
  },
  {
   "cell_type": "code",
   "execution_count": 47,
   "metadata": {},
   "outputs": [],
   "source": [
    "df_ = df_test[['RevolvingUtilizationOfUnsecuredLines', 'age',\n",
    "       'NumberOfTime30-59DaysPastDueNotWorse', 'DebtRatio', 'MonthlyIncome',\n",
    "       'NumberOfOpenCreditLinesAndLoans', 'NumberOfTimes90DaysLate',\n",
    "       'NumberRealEstateLoansOrLines', 'NumberOfTime60-89DaysPastDueNotWorse',\n",
    "       'NumberOfDependents', 'CreditLinesPerDependent']]"
   ]
  },
  {
   "cell_type": "code",
   "execution_count": 48,
   "metadata": {},
   "outputs": [
    {
     "data": {
      "text/plain": [
       "Index(['RevolvingUtilizationOfUnsecuredLines', 'age',\n",
       "       'NumberOfTime30-59DaysPastDueNotWorse', 'DebtRatio', 'MonthlyIncome',\n",
       "       'NumberOfOpenCreditLinesAndLoans', 'NumberOfTimes90DaysLate',\n",
       "       'NumberRealEstateLoansOrLines', 'NumberOfTime60-89DaysPastDueNotWorse',\n",
       "       'NumberOfDependents', 'CreditLinesPerDependent'],\n",
       "      dtype='object')"
      ]
     },
     "execution_count": 48,
     "metadata": {},
     "output_type": "execute_result"
    }
   ],
   "source": [
    "df_.columns"
   ]
  },
  {
   "cell_type": "code",
   "execution_count": 49,
   "metadata": {},
   "outputs": [
    {
     "data": {
      "text/plain": [
       "Index(['RevolvingUtilizationOfUnsecuredLines', 'age',\n",
       "       'NumberOfTime30-59DaysPastDueNotWorse', 'DebtRatio', 'MonthlyIncome',\n",
       "       'NumberOfOpenCreditLinesAndLoans', 'NumberOfTimes90DaysLate',\n",
       "       'NumberRealEstateLoansOrLines', 'NumberOfTime60-89DaysPastDueNotWorse',\n",
       "       'NumberOfDependents', 'CreditLinesPerDependent'],\n",
       "      dtype='object')"
      ]
     },
     "execution_count": 49,
     "metadata": {},
     "output_type": "execute_result"
    }
   ],
   "source": [
    "x_test.columns"
   ]
  },
  {
   "cell_type": "code",
   "execution_count": 50,
   "metadata": {},
   "outputs": [
    {
     "data": {
      "text/plain": [
       "array([0, 0, 1, ..., 0, 1, 0], dtype=int64)"
      ]
     },
     "execution_count": 50,
     "metadata": {},
     "output_type": "execute_result"
    }
   ],
   "source": [
    "predictions_submit = random_search.predict(df_)\n",
    "predictions_submit"
   ]
  },
  {
   "cell_type": "markdown",
   "metadata": {},
   "source": [
    "### Subir a kaggle"
   ]
  },
  {
   "cell_type": "code",
   "execution_count": 53,
   "metadata": {},
   "outputs": [
    {
     "data": {
      "text/html": [
       "<div>\n",
       "<style scoped>\n",
       "    .dataframe tbody tr th:only-of-type {\n",
       "        vertical-align: middle;\n",
       "    }\n",
       "\n",
       "    .dataframe tbody tr th {\n",
       "        vertical-align: top;\n",
       "    }\n",
       "\n",
       "    .dataframe thead th {\n",
       "        text-align: right;\n",
       "    }\n",
       "</style>\n",
       "<table border=\"1\" class=\"dataframe\">\n",
       "  <thead>\n",
       "    <tr style=\"text-align: right;\">\n",
       "      <th></th>\n",
       "      <th>Id</th>\n",
       "      <th>target</th>\n",
       "    </tr>\n",
       "  </thead>\n",
       "  <tbody>\n",
       "    <tr>\n",
       "      <th>0</th>\n",
       "      <td>15576</td>\n",
       "      <td>0</td>\n",
       "    </tr>\n",
       "    <tr>\n",
       "      <th>1</th>\n",
       "      <td>94308</td>\n",
       "      <td>0</td>\n",
       "    </tr>\n",
       "    <tr>\n",
       "      <th>2</th>\n",
       "      <td>53983</td>\n",
       "      <td>1</td>\n",
       "    </tr>\n",
       "    <tr>\n",
       "      <th>3</th>\n",
       "      <td>61359</td>\n",
       "      <td>0</td>\n",
       "    </tr>\n",
       "    <tr>\n",
       "      <th>4</th>\n",
       "      <td>71383</td>\n",
       "      <td>0</td>\n",
       "    </tr>\n",
       "  </tbody>\n",
       "</table>\n",
       "</div>"
      ],
      "text/plain": [
       "      Id  target\n",
       "0  15576       0\n",
       "1  94308       0\n",
       "2  53983       1\n",
       "3  61359       0\n",
       "4  71383       0"
      ]
     },
     "execution_count": 53,
     "metadata": {},
     "output_type": "execute_result"
    }
   ],
   "source": [
    "submission = pd.DataFrame({\"Id\": df_test['Id'], \"target\": predictions_submit})\n",
    "submission.head()"
   ]
  },
  {
   "cell_type": "code",
   "execution_count": 54,
   "metadata": {},
   "outputs": [
    {
     "data": {
      "text/plain": [
       "(31442, 2)"
      ]
     },
     "execution_count": 54,
     "metadata": {},
     "output_type": "execute_result"
    }
   ],
   "source": [
    "submission.shape"
   ]
  },
  {
   "cell_type": "code",
   "execution_count": 56,
   "metadata": {},
   "outputs": [],
   "source": [
    "def chequeator(df_to_submit):\n",
    "    \"\"\"\n",
    "    Esta función se asegura de que tu submission tenga la forma requerida por Kaggle.\n",
    "    \n",
    "    Si es así, se guardará el dataframe en un `csv` y estará listo para subir a Kaggle.\n",
    "    \n",
    "    Si no, LEE EL MENSAJE Y HAZLE CASO.\n",
    "    \n",
    "    Si aún no:\n",
    "    - apaga tu ordenador, \n",
    "    - date una vuelta, \n",
    "    - enciendelo otra vez, \n",
    "    - abre este notebook y \n",
    "    - leelo todo de nuevo. \n",
    "    Todos nos merecemos una segunda oportunidad. También tú.\n",
    "    \"\"\"\n",
    "    if df_to_submit.shape == df_test.shape:\n",
    "        if df_to_submit.columns.all() == df_test.columns.all():\n",
    "            if df_to_submit.Id.all() == df_test.Id.all():\n",
    "                print(\"You're ready to submit!\")\n",
    "                submission.to_csv(\"submission.csv\", index = False) #muy importante el index = False\n",
    "                urllib.request.urlretrieve(\"https://i.kym-cdn.com/photos/images/facebook/000/747/556/27a.jpg\", \"gfg.png\")     \n",
    "                img = Image.open(\"gfg.png\")\n",
    "                img.show()   \n",
    "            else:\n",
    "                print(\"Check the ids and try again\")\n",
    "        else:\n",
    "            print(\"Check the names of the columns and try again\")\n",
    "    else:\n",
    "        print(\"Check the number of rows and/or columns and try again\")\n",
    "        print(\"\\nMensaje secreto de Clara: No me puedo creer que después de todo este notebook hayas hecho algún cambio en las filas de `diamonds_test.csv`. Lloro.\")\n"
   ]
  },
  {
   "cell_type": "code",
   "execution_count": 57,
   "metadata": {},
   "outputs": [
    {
     "name": "stdout",
     "output_type": "stream",
     "text": [
      "Check the number of rows and/or columns and try again\n",
      "\n",
      "Mensaje secreto de Clara: No me puedo creer que después de todo este notebook hayas hecho algún cambio en las filas de `diamonds_test.csv`. Lloro.\n"
     ]
    }
   ],
   "source": [
    "chequeator(submission)"
   ]
  },
  {
   "cell_type": "code",
   "execution_count": 58,
   "metadata": {},
   "outputs": [],
   "source": [
    "submission.to_csv('./data/Submission_2.csv', index=False)"
   ]
  }
 ],
 "metadata": {
  "kernelspec": {
   "display_name": ".venv",
   "language": "python",
   "name": "python3"
  },
  "language_info": {
   "codemirror_mode": {
    "name": "ipython",
    "version": 3
   },
   "file_extension": ".py",
   "mimetype": "text/x-python",
   "name": "python",
   "nbconvert_exporter": "python",
   "pygments_lexer": "ipython3",
   "version": "3.11.7"
  }
 },
 "nbformat": 4,
 "nbformat_minor": 2
}
