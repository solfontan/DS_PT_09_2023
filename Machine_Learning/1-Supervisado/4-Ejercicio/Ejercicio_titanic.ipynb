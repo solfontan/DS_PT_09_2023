{
 "cells": [
  {
   "cell_type": "markdown",
   "metadata": {},
   "source": [
    "# Librería"
   ]
  },
  {
   "cell_type": "code",
   "execution_count": 43,
   "metadata": {},
   "outputs": [],
   "source": [
    "# Tratamiento de datos\n",
    "import re\n",
    "import pandas as pd\n",
    "import numpy as np\n",
    "# Visualización\n",
    "import matplotlib.pyplot as plt\n",
    "import seaborn as sns\n",
    "# Modelos\n",
    "from sklearn.model_selection import train_test_split, cross_val_score, cross_validate\n",
    "from sklearn.preprocessing import OneHotEncoder, StandardScaler, LabelEncoder, MinMaxScaler\n",
    "from sklearn.compose import ColumnTransformer\n",
    "from sklearn.pipeline import make_pipeline\n",
    "from sklearn.linear_model import LogisticRegression\n",
    "from sklearn.model_selection import GridSearchCV\n",
    "from sklearn.svm import SVC\n",
<<<<<<< HEAD
    "from sklearn.ensemble import  RandomForestClassifier, VotingClassifier\n",
    "from sklearn.tree import DecisionTreeClassifier\n",
=======
    "from sklearn.tree import DecisionTreeClassifier\n",
    "from xgboost import XGBClassifier\n",
    "from catboost import CatBoostClassifier\n",
    "from sklearn.ensemble import RandomForestClassifier, VotingClassifier, BaggingClassifier\n",
>>>>>>> upstream/main
    "from sklearn.metrics import confusion_matrix, classification_report, accuracy_score, f1_score, precision_score, recall_score, \\\n",
    "roc_curve, roc_auc_score, ConfusionMatrixDisplay, multilabel_confusion_matrix\n",
    "\n",
    "import warnings\n",
    "warnings.filterwarnings('ignore')"
   ]
  },
  {
   "cell_type": "markdown",
   "metadata": {},
   "source": [
    "# Data"
   ]
  },
  {
   "cell_type": "code",
   "execution_count": 2,
   "metadata": {},
   "outputs": [],
   "source": [
    "URL = 'https://raw.githubusercontent.com/datasciencedojo/datasets/master/titanic.csv'\n",
    "titanic = pd.read_csv(URL, index_col='PassengerId')"
   ]
  },
  {
   "cell_type": "markdown",
   "metadata": {},
   "source": [
    "PassengerId -> Muestra el id del Pasajero (solamente es un indicador.) \n",
    "\n",
    "Survived -> Se encuentra en 2 valores 0 si murió en la trajedia y 1 si sobrevivió.\n",
    "\n",
    "Pclass -> Determina la clase del pasajero, 1ra, 2da o 3era clase. \n",
    "\n",
    "Name -> Nombre de los Pasajeros. \n",
    "\n",
    "Sex -> Sexo de los Pasajeros.\n",
    "\n",
    "Age -> Edad de los Pasajeros.\n",
    "\n",
    "SibSp -> Número de parientes como Hermano, Hermana, Hermanastra, Hermanastro, Esposo o Esposa. \n",
    "\n",
    "Parch -> Número de parientes como Madre, Padre, Hijo, Hija, Hijastro, Hijastra.\n",
    "\n",
    "Ticket -> Número del ticket o boleto. \n",
    "\n",
    "Fare -> Tarifa del pasaje. \n",
    "\n",
    "Cabin -> Número de cabina del pasajero. \n",
    "\n",
    "Embarked -> Muestra los datos del puerto de embarcaquedero. (C = Cherbourg, Q = Queenston, S = Southapmtpon)"
   ]
  },
  {
   "cell_type": "markdown",
   "metadata": {},
   "source": [
    "# Primera Exploración"
   ]
  },
  {
   "cell_type": "code",
   "execution_count": 3,
   "metadata": {},
   "outputs": [],
   "source": [
    "df = titanic.copy()"
   ]
  },
  {
   "cell_type": "code",
   "execution_count": 4,
   "metadata": {},
   "outputs": [
    {
     "data": {
      "text/html": [
       "<div>\n",
       "<style scoped>\n",
       "    .dataframe tbody tr th:only-of-type {\n",
       "        vertical-align: middle;\n",
       "    }\n",
       "\n",
       "    .dataframe tbody tr th {\n",
       "        vertical-align: top;\n",
       "    }\n",
       "\n",
       "    .dataframe thead th {\n",
       "        text-align: right;\n",
       "    }\n",
       "</style>\n",
       "<table border=\"1\" class=\"dataframe\">\n",
       "  <thead>\n",
       "    <tr style=\"text-align: right;\">\n",
       "      <th></th>\n",
       "      <th>Survived</th>\n",
       "      <th>Pclass</th>\n",
       "      <th>Name</th>\n",
       "      <th>Sex</th>\n",
       "      <th>Age</th>\n",
       "      <th>SibSp</th>\n",
       "      <th>Parch</th>\n",
       "      <th>Ticket</th>\n",
       "      <th>Fare</th>\n",
       "      <th>Cabin</th>\n",
       "      <th>Embarked</th>\n",
       "    </tr>\n",
       "    <tr>\n",
       "      <th>PassengerId</th>\n",
       "      <th></th>\n",
       "      <th></th>\n",
       "      <th></th>\n",
       "      <th></th>\n",
       "      <th></th>\n",
       "      <th></th>\n",
       "      <th></th>\n",
       "      <th></th>\n",
       "      <th></th>\n",
       "      <th></th>\n",
       "      <th></th>\n",
       "    </tr>\n",
       "  </thead>\n",
       "  <tbody>\n",
       "    <tr>\n",
       "      <th>1</th>\n",
       "      <td>0</td>\n",
       "      <td>3</td>\n",
       "      <td>Braund, Mr. Owen Harris</td>\n",
       "      <td>male</td>\n",
       "      <td>22.0</td>\n",
       "      <td>1</td>\n",
       "      <td>0</td>\n",
       "      <td>A/5 21171</td>\n",
       "      <td>7.2500</td>\n",
       "      <td>NaN</td>\n",
       "      <td>S</td>\n",
       "    </tr>\n",
       "    <tr>\n",
       "      <th>2</th>\n",
       "      <td>1</td>\n",
       "      <td>1</td>\n",
       "      <td>Cumings, Mrs. John Bradley (Florence Briggs Th...</td>\n",
       "      <td>female</td>\n",
       "      <td>38.0</td>\n",
       "      <td>1</td>\n",
       "      <td>0</td>\n",
       "      <td>PC 17599</td>\n",
       "      <td>71.2833</td>\n",
       "      <td>C85</td>\n",
       "      <td>C</td>\n",
       "    </tr>\n",
       "    <tr>\n",
       "      <th>3</th>\n",
       "      <td>1</td>\n",
       "      <td>3</td>\n",
       "      <td>Heikkinen, Miss. Laina</td>\n",
       "      <td>female</td>\n",
       "      <td>26.0</td>\n",
       "      <td>0</td>\n",
       "      <td>0</td>\n",
       "      <td>STON/O2. 3101282</td>\n",
       "      <td>7.9250</td>\n",
       "      <td>NaN</td>\n",
       "      <td>S</td>\n",
       "    </tr>\n",
       "    <tr>\n",
       "      <th>4</th>\n",
       "      <td>1</td>\n",
       "      <td>1</td>\n",
       "      <td>Futrelle, Mrs. Jacques Heath (Lily May Peel)</td>\n",
       "      <td>female</td>\n",
       "      <td>35.0</td>\n",
       "      <td>1</td>\n",
       "      <td>0</td>\n",
       "      <td>113803</td>\n",
       "      <td>53.1000</td>\n",
       "      <td>C123</td>\n",
       "      <td>S</td>\n",
       "    </tr>\n",
       "    <tr>\n",
       "      <th>5</th>\n",
       "      <td>0</td>\n",
       "      <td>3</td>\n",
       "      <td>Allen, Mr. William Henry</td>\n",
       "      <td>male</td>\n",
       "      <td>35.0</td>\n",
       "      <td>0</td>\n",
       "      <td>0</td>\n",
       "      <td>373450</td>\n",
       "      <td>8.0500</td>\n",
       "      <td>NaN</td>\n",
       "      <td>S</td>\n",
       "    </tr>\n",
       "  </tbody>\n",
       "</table>\n",
       "</div>"
      ],
      "text/plain": [
       "             Survived  Pclass  \\\n",
       "PassengerId                     \n",
       "1                   0       3   \n",
       "2                   1       1   \n",
       "3                   1       3   \n",
       "4                   1       1   \n",
       "5                   0       3   \n",
       "\n",
       "                                                          Name     Sex   Age  \\\n",
       "PassengerId                                                                    \n",
       "1                                      Braund, Mr. Owen Harris    male  22.0   \n",
       "2            Cumings, Mrs. John Bradley (Florence Briggs Th...  female  38.0   \n",
       "3                                       Heikkinen, Miss. Laina  female  26.0   \n",
       "4                 Futrelle, Mrs. Jacques Heath (Lily May Peel)  female  35.0   \n",
       "5                                     Allen, Mr. William Henry    male  35.0   \n",
       "\n",
       "             SibSp  Parch            Ticket     Fare Cabin Embarked  \n",
       "PassengerId                                                          \n",
       "1                1      0         A/5 21171   7.2500   NaN        S  \n",
       "2                1      0          PC 17599  71.2833   C85        C  \n",
       "3                0      0  STON/O2. 3101282   7.9250   NaN        S  \n",
       "4                1      0            113803  53.1000  C123        S  \n",
       "5                0      0            373450   8.0500   NaN        S  "
      ]
     },
     "execution_count": 4,
     "metadata": {},
     "output_type": "execute_result"
    }
   ],
   "source": [
    "df.head()"
   ]
  },
  {
   "cell_type": "code",
   "execution_count": 5,
   "metadata": {},
   "outputs": [
    {
     "data": {
      "text/html": [
       "<div>\n",
       "<style scoped>\n",
       "    .dataframe tbody tr th:only-of-type {\n",
       "        vertical-align: middle;\n",
       "    }\n",
       "\n",
       "    .dataframe tbody tr th {\n",
       "        vertical-align: top;\n",
       "    }\n",
       "\n",
       "    .dataframe thead th {\n",
       "        text-align: right;\n",
       "    }\n",
       "</style>\n",
       "<table border=\"1\" class=\"dataframe\">\n",
       "  <thead>\n",
       "    <tr style=\"text-align: right;\">\n",
       "      <th></th>\n",
       "      <th>Survived</th>\n",
       "      <th>Pclass</th>\n",
       "      <th>Name</th>\n",
       "      <th>Sex</th>\n",
       "      <th>Age</th>\n",
       "      <th>SibSp</th>\n",
       "      <th>Parch</th>\n",
       "      <th>Ticket</th>\n",
       "      <th>Fare</th>\n",
       "      <th>Cabin</th>\n",
       "      <th>Embarked</th>\n",
       "    </tr>\n",
       "    <tr>\n",
       "      <th>PassengerId</th>\n",
       "      <th></th>\n",
       "      <th></th>\n",
       "      <th></th>\n",
       "      <th></th>\n",
       "      <th></th>\n",
       "      <th></th>\n",
       "      <th></th>\n",
       "      <th></th>\n",
       "      <th></th>\n",
       "      <th></th>\n",
       "      <th></th>\n",
       "    </tr>\n",
       "  </thead>\n",
       "  <tbody>\n",
       "    <tr>\n",
       "      <th>887</th>\n",
       "      <td>0</td>\n",
       "      <td>2</td>\n",
       "      <td>Montvila, Rev. Juozas</td>\n",
       "      <td>male</td>\n",
       "      <td>27.0</td>\n",
       "      <td>0</td>\n",
       "      <td>0</td>\n",
       "      <td>211536</td>\n",
       "      <td>13.00</td>\n",
       "      <td>NaN</td>\n",
       "      <td>S</td>\n",
       "    </tr>\n",
       "    <tr>\n",
       "      <th>888</th>\n",
       "      <td>1</td>\n",
       "      <td>1</td>\n",
       "      <td>Graham, Miss. Margaret Edith</td>\n",
       "      <td>female</td>\n",
       "      <td>19.0</td>\n",
       "      <td>0</td>\n",
       "      <td>0</td>\n",
       "      <td>112053</td>\n",
       "      <td>30.00</td>\n",
       "      <td>B42</td>\n",
       "      <td>S</td>\n",
       "    </tr>\n",
       "    <tr>\n",
       "      <th>889</th>\n",
       "      <td>0</td>\n",
       "      <td>3</td>\n",
       "      <td>Johnston, Miss. Catherine Helen \"Carrie\"</td>\n",
       "      <td>female</td>\n",
       "      <td>NaN</td>\n",
       "      <td>1</td>\n",
       "      <td>2</td>\n",
       "      <td>W./C. 6607</td>\n",
       "      <td>23.45</td>\n",
       "      <td>NaN</td>\n",
       "      <td>S</td>\n",
       "    </tr>\n",
       "    <tr>\n",
       "      <th>890</th>\n",
       "      <td>1</td>\n",
       "      <td>1</td>\n",
       "      <td>Behr, Mr. Karl Howell</td>\n",
       "      <td>male</td>\n",
       "      <td>26.0</td>\n",
       "      <td>0</td>\n",
       "      <td>0</td>\n",
       "      <td>111369</td>\n",
       "      <td>30.00</td>\n",
       "      <td>C148</td>\n",
       "      <td>C</td>\n",
       "    </tr>\n",
       "    <tr>\n",
       "      <th>891</th>\n",
       "      <td>0</td>\n",
       "      <td>3</td>\n",
       "      <td>Dooley, Mr. Patrick</td>\n",
       "      <td>male</td>\n",
       "      <td>32.0</td>\n",
       "      <td>0</td>\n",
       "      <td>0</td>\n",
       "      <td>370376</td>\n",
       "      <td>7.75</td>\n",
       "      <td>NaN</td>\n",
       "      <td>Q</td>\n",
       "    </tr>\n",
       "  </tbody>\n",
       "</table>\n",
       "</div>"
      ],
      "text/plain": [
       "             Survived  Pclass                                      Name  \\\n",
       "PassengerId                                                               \n",
       "887                 0       2                     Montvila, Rev. Juozas   \n",
       "888                 1       1              Graham, Miss. Margaret Edith   \n",
       "889                 0       3  Johnston, Miss. Catherine Helen \"Carrie\"   \n",
       "890                 1       1                     Behr, Mr. Karl Howell   \n",
       "891                 0       3                       Dooley, Mr. Patrick   \n",
       "\n",
       "                Sex   Age  SibSp  Parch      Ticket   Fare Cabin Embarked  \n",
       "PassengerId                                                                \n",
       "887            male  27.0      0      0      211536  13.00   NaN        S  \n",
       "888          female  19.0      0      0      112053  30.00   B42        S  \n",
       "889          female   NaN      1      2  W./C. 6607  23.45   NaN        S  \n",
       "890            male  26.0      0      0      111369  30.00  C148        C  \n",
       "891            male  32.0      0      0      370376   7.75   NaN        Q  "
      ]
     },
     "execution_count": 5,
     "metadata": {},
     "output_type": "execute_result"
    }
   ],
   "source": [
    "df.tail()"
   ]
  },
  {
   "cell_type": "code",
   "execution_count": 6,
   "metadata": {},
   "outputs": [
    {
     "data": {
      "text/plain": [
<<<<<<< HEAD
       "(891, 11)"
=======
       "Survived     0.000000\n",
       "Pclass       0.000000\n",
       "Name         0.000000\n",
       "Sex          0.000000\n",
       "Age         19.865320\n",
       "SibSp        0.000000\n",
       "Parch        0.000000\n",
       "Ticket       0.000000\n",
       "Fare         0.000000\n",
       "Cabin       77.104377\n",
       "Embarked     0.224467\n",
       "dtype: float64"
>>>>>>> upstream/main
      ]
     },
     "execution_count": 6,
     "metadata": {},
     "output_type": "execute_result"
    }
   ],
   "source": [
<<<<<<< HEAD
    "df.shape"
=======
    "df.isna().sum()/len(df)*100"
>>>>>>> upstream/main
   ]
  },
  {
   "cell_type": "code",
   "execution_count": 7,
   "metadata": {},
   "outputs": [
    {
<<<<<<< HEAD
     "name": "stdout",
     "output_type": "stream",
     "text": [
      "<class 'pandas.core.frame.DataFrame'>\n",
      "Index: 891 entries, 1 to 891\n",
      "Data columns (total 11 columns):\n",
      " #   Column    Non-Null Count  Dtype  \n",
      "---  ------    --------------  -----  \n",
      " 0   Survived  891 non-null    int64  \n",
      " 1   Pclass    891 non-null    int64  \n",
      " 2   Name      891 non-null    object \n",
      " 3   Sex       891 non-null    object \n",
      " 4   Age       714 non-null    float64\n",
      " 5   SibSp     891 non-null    int64  \n",
      " 6   Parch     891 non-null    int64  \n",
      " 7   Ticket    891 non-null    object \n",
      " 8   Fare      891 non-null    float64\n",
      " 9   Cabin     204 non-null    object \n",
      " 10  Embarked  889 non-null    object \n",
      "dtypes: float64(2), int64(4), object(5)\n",
      "memory usage: 83.5+ KB\n"
     ]
    }
   ],
   "source": [
    "df.info()"
   ]
  },
  {
   "cell_type": "markdown",
   "metadata": {},
   "source": [
    "- Age - Cabin - Embarked poseen nulos\n",
    "- Tenemos 5 columnas de tipo object -> Pasar a datos númericos."
=======
     "data": {
      "text/html": [
       "<div>\n",
       "<style scoped>\n",
       "    .dataframe tbody tr th:only-of-type {\n",
       "        vertical-align: middle;\n",
       "    }\n",
       "\n",
       "    .dataframe tbody tr th {\n",
       "        vertical-align: top;\n",
       "    }\n",
       "\n",
       "    .dataframe thead th {\n",
       "        text-align: right;\n",
       "    }\n",
       "</style>\n",
       "<table border=\"1\" class=\"dataframe\">\n",
       "  <thead>\n",
       "    <tr style=\"text-align: right;\">\n",
       "      <th></th>\n",
       "      <th>Survived</th>\n",
       "      <th>Pclass</th>\n",
       "      <th>Name</th>\n",
       "      <th>Sex</th>\n",
       "      <th>Age</th>\n",
       "      <th>SibSp</th>\n",
       "      <th>Parch</th>\n",
       "      <th>Ticket</th>\n",
       "      <th>Fare</th>\n",
       "      <th>Cabin</th>\n",
       "      <th>Embarked</th>\n",
       "    </tr>\n",
       "    <tr>\n",
       "      <th>PassengerId</th>\n",
       "      <th></th>\n",
       "      <th></th>\n",
       "      <th></th>\n",
       "      <th></th>\n",
       "      <th></th>\n",
       "      <th></th>\n",
       "      <th></th>\n",
       "      <th></th>\n",
       "      <th></th>\n",
       "      <th></th>\n",
       "      <th></th>\n",
       "    </tr>\n",
       "  </thead>\n",
       "  <tbody>\n",
       "  </tbody>\n",
       "</table>\n",
       "</div>"
      ],
      "text/plain": [
       "Empty DataFrame\n",
       "Columns: [Survived, Pclass, Name, Sex, Age, SibSp, Parch, Ticket, Fare, Cabin, Embarked]\n",
       "Index: []"
      ]
     },
     "execution_count": 7,
     "metadata": {},
     "output_type": "execute_result"
    }
   ],
   "source": [
    "df[df.duplicated()]"
>>>>>>> upstream/main
   ]
  },
  {
   "cell_type": "code",
   "execution_count": 8,
   "metadata": {},
   "outputs": [
    {
     "data": {
      "text/html": [
       "<div>\n",
       "<style scoped>\n",
       "    .dataframe tbody tr th:only-of-type {\n",
       "        vertical-align: middle;\n",
       "    }\n",
       "\n",
       "    .dataframe tbody tr th {\n",
       "        vertical-align: top;\n",
       "    }\n",
       "\n",
       "    .dataframe thead th {\n",
       "        text-align: right;\n",
       "    }\n",
       "</style>\n",
       "<table border=\"1\" class=\"dataframe\">\n",
       "  <thead>\n",
       "    <tr style=\"text-align: right;\">\n",
       "      <th></th>\n",
       "      <th>Survived</th>\n",
       "      <th>Pclass</th>\n",
<<<<<<< HEAD
       "      <th>Age</th>\n",
       "      <th>SibSp</th>\n",
       "      <th>Parch</th>\n",
       "      <th>Fare</th>\n",
       "    </tr>\n",
       "  </thead>\n",
       "  <tbody>\n",
       "    <tr>\n",
       "      <th>count</th>\n",
       "      <td>891.000000</td>\n",
       "      <td>891.000000</td>\n",
       "      <td>714.000000</td>\n",
       "      <td>891.000000</td>\n",
       "      <td>891.000000</td>\n",
       "      <td>891.000000</td>\n",
       "    </tr>\n",
       "    <tr>\n",
       "      <th>mean</th>\n",
       "      <td>0.383838</td>\n",
       "      <td>2.308642</td>\n",
       "      <td>29.699118</td>\n",
       "      <td>0.523008</td>\n",
       "      <td>0.381594</td>\n",
       "      <td>32.204208</td>\n",
       "    </tr>\n",
       "    <tr>\n",
       "      <th>std</th>\n",
       "      <td>0.486592</td>\n",
       "      <td>0.836071</td>\n",
       "      <td>14.526497</td>\n",
       "      <td>1.102743</td>\n",
       "      <td>0.806057</td>\n",
       "      <td>49.693429</td>\n",
       "    </tr>\n",
       "    <tr>\n",
       "      <th>min</th>\n",
       "      <td>0.000000</td>\n",
       "      <td>1.000000</td>\n",
       "      <td>0.420000</td>\n",
       "      <td>0.000000</td>\n",
       "      <td>0.000000</td>\n",
       "      <td>0.000000</td>\n",
       "    </tr>\n",
       "    <tr>\n",
       "      <th>25%</th>\n",
       "      <td>0.000000</td>\n",
       "      <td>2.000000</td>\n",
       "      <td>20.125000</td>\n",
       "      <td>0.000000</td>\n",
       "      <td>0.000000</td>\n",
       "      <td>7.910400</td>\n",
       "    </tr>\n",
       "    <tr>\n",
       "      <th>50%</th>\n",
       "      <td>0.000000</td>\n",
       "      <td>3.000000</td>\n",
       "      <td>28.000000</td>\n",
       "      <td>0.000000</td>\n",
       "      <td>0.000000</td>\n",
       "      <td>14.454200</td>\n",
       "    </tr>\n",
       "    <tr>\n",
       "      <th>75%</th>\n",
       "      <td>1.000000</td>\n",
       "      <td>3.000000</td>\n",
       "      <td>38.000000</td>\n",
       "      <td>1.000000</td>\n",
       "      <td>0.000000</td>\n",
       "      <td>31.000000</td>\n",
       "    </tr>\n",
       "    <tr>\n",
       "      <th>max</th>\n",
       "      <td>1.000000</td>\n",
       "      <td>3.000000</td>\n",
       "      <td>80.000000</td>\n",
       "      <td>8.000000</td>\n",
       "      <td>6.000000</td>\n",
       "      <td>512.329200</td>\n",
       "    </tr>\n",
=======
       "      <th>Name</th>\n",
       "      <th>Sex</th>\n",
       "      <th>Age</th>\n",
       "      <th>SibSp</th>\n",
       "      <th>Parch</th>\n",
       "      <th>Ticket</th>\n",
       "      <th>Fare</th>\n",
       "      <th>Cabin</th>\n",
       "      <th>Embarked</th>\n",
       "    </tr>\n",
       "    <tr>\n",
       "      <th>PassengerId</th>\n",
       "      <th></th>\n",
       "      <th></th>\n",
       "      <th></th>\n",
       "      <th></th>\n",
       "      <th></th>\n",
       "      <th></th>\n",
       "      <th></th>\n",
       "      <th></th>\n",
       "      <th></th>\n",
       "      <th></th>\n",
       "      <th></th>\n",
       "    </tr>\n",
       "  </thead>\n",
       "  <tbody>\n",
>>>>>>> upstream/main
       "  </tbody>\n",
       "</table>\n",
       "</div>"
      ],
      "text/plain": [
<<<<<<< HEAD
       "         Survived      Pclass         Age       SibSp       Parch        Fare\n",
       "count  891.000000  891.000000  714.000000  891.000000  891.000000  891.000000\n",
       "mean     0.383838    2.308642   29.699118    0.523008    0.381594   32.204208\n",
       "std      0.486592    0.836071   14.526497    1.102743    0.806057   49.693429\n",
       "min      0.000000    1.000000    0.420000    0.000000    0.000000    0.000000\n",
       "25%      0.000000    2.000000   20.125000    0.000000    0.000000    7.910400\n",
       "50%      0.000000    3.000000   28.000000    0.000000    0.000000   14.454200\n",
       "75%      1.000000    3.000000   38.000000    1.000000    0.000000   31.000000\n",
       "max      1.000000    3.000000   80.000000    8.000000    6.000000  512.329200"
=======
       "Empty DataFrame\n",
       "Columns: [Survived, Pclass, Name, Sex, Age, SibSp, Parch, Ticket, Fare, Cabin, Embarked]\n",
       "Index: []"
>>>>>>> upstream/main
      ]
     },
     "execution_count": 8,
     "metadata": {},
     "output_type": "execute_result"
    }
   ],
   "source": [
<<<<<<< HEAD
    "df.describe()"
   ]
  },
  {
   "cell_type": "markdown",
   "metadata": {},
   "source": [
    "- Survived es binaria númerica.\n",
    "- Pclass -> podemos observar tres tipos de clases, donde la mayor parte se encuentra en la 3.\n",
    "- Age -> Podemos notar que hiberon niños en el barco.\n",
    "- Fare -> el boleto más caro es de 512."
   ]
  },
  {
   "cell_type": "code",
   "execution_count": 9,
   "metadata": {},
   "outputs": [
    {
     "data": {
      "text/html": [
       "<div>\n",
       "<style scoped>\n",
       "    .dataframe tbody tr th:only-of-type {\n",
       "        vertical-align: middle;\n",
       "    }\n",
       "\n",
       "    .dataframe tbody tr th {\n",
       "        vertical-align: top;\n",
       "    }\n",
       "\n",
       "    .dataframe thead th {\n",
       "        text-align: right;\n",
       "    }\n",
       "</style>\n",
       "<table border=\"1\" class=\"dataframe\">\n",
       "  <thead>\n",
       "    <tr style=\"text-align: right;\">\n",
       "      <th></th>\n",
       "      <th>Name</th>\n",
       "      <th>Sex</th>\n",
       "      <th>Ticket</th>\n",
       "      <th>Cabin</th>\n",
       "      <th>Embarked</th>\n",
       "    </tr>\n",
       "  </thead>\n",
       "  <tbody>\n",
       "    <tr>\n",
       "      <th>count</th>\n",
       "      <td>891</td>\n",
       "      <td>891</td>\n",
       "      <td>891</td>\n",
       "      <td>204</td>\n",
       "      <td>889</td>\n",
       "    </tr>\n",
       "    <tr>\n",
       "      <th>unique</th>\n",
       "      <td>891</td>\n",
       "      <td>2</td>\n",
       "      <td>681</td>\n",
       "      <td>147</td>\n",
       "      <td>3</td>\n",
       "    </tr>\n",
       "    <tr>\n",
       "      <th>top</th>\n",
       "      <td>Braund, Mr. Owen Harris</td>\n",
       "      <td>male</td>\n",
       "      <td>347082</td>\n",
       "      <td>B96 B98</td>\n",
       "      <td>S</td>\n",
       "    </tr>\n",
       "    <tr>\n",
       "      <th>freq</th>\n",
       "      <td>1</td>\n",
       "      <td>577</td>\n",
       "      <td>7</td>\n",
       "      <td>4</td>\n",
       "      <td>644</td>\n",
       "    </tr>\n",
       "  </tbody>\n",
       "</table>\n",
       "</div>"
      ],
      "text/plain": [
       "                           Name   Sex  Ticket    Cabin Embarked\n",
       "count                       891   891     891      204      889\n",
       "unique                      891     2     681      147        3\n",
       "top     Braund, Mr. Owen Harris  male  347082  B96 B98        S\n",
       "freq                          1   577       7        4      644"
      ]
     },
     "execution_count": 9,
     "metadata": {},
     "output_type": "execute_result"
    }
   ],
   "source": [
    "df.describe(include='object')"
   ]
  },
  {
   "cell_type": "markdown",
   "metadata": {},
   "source": [
    "- Name -> no es importante para saber si sobrevivió o no. Corresponde al requisito que son todos únicos.\n",
    "- Ticket -> demasiados únicos, pero hay repetidos por lo que le quita cierto valor.\n",
    "- Cabin -> Posee varios nulos."
   ]
  },
  {
   "cell_type": "code",
   "execution_count": 10,
   "metadata": {},
   "outputs": [
    {
     "data": {
      "text/plain": [
       "<Axes: >"
      ]
     },
     "execution_count": 10,
     "metadata": {},
     "output_type": "execute_result"
    },
    {
     "data": {
      "image/png": "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",
      "text/plain": [
       "<Figure size 640x480 with 2 Axes>"
      ]
     },
     "metadata": {},
     "output_type": "display_data"
    }
   ],
   "source": [
    "sns.heatmap(df.corr(numeric_only=True), annot=True)"
=======
    "df[df['Name'].duplicated()]"
>>>>>>> upstream/main
   ]
  },
  {
   "cell_type": "markdown",
   "metadata": {},
   "source": [
    "# Mini EDA"
   ]
  },
  {
   "cell_type": "code",
<<<<<<< HEAD
   "execution_count": 11,
   "metadata": {},
   "outputs": [],
   "source": [
    "from clases import CategoricalReport, NumericReport"
=======
   "execution_count": 9,
   "metadata": {},
   "outputs": [],
   "source": [
    "# sns.pairplot(df, hue='Survived')"
   ]
  },
  {
   "cell_type": "code",
   "execution_count": 10,
   "metadata": {},
   "outputs": [
    {
     "data": {
      "text/plain": [
       "Ticket\n",
       "347082      7\n",
       "CA. 2343    7\n",
       "1601        7\n",
       "3101295     6\n",
       "CA 2144     6\n",
       "           ..\n",
       "9234        1\n",
       "19988       1\n",
       "2693        1\n",
       "PC 17612    1\n",
       "370376      1\n",
       "Name: count, Length: 681, dtype: int64"
      ]
     },
     "execution_count": 10,
     "metadata": {},
     "output_type": "execute_result"
    }
   ],
   "source": [
    "df['Ticket'].value_counts()"
   ]
  },
  {
   "cell_type": "code",
   "execution_count": 11,
   "metadata": {},
   "outputs": [
    {
     "data": {
      "text/html": [
       "<div>\n",
       "<style scoped>\n",
       "    .dataframe tbody tr th:only-of-type {\n",
       "        vertical-align: middle;\n",
       "    }\n",
       "\n",
       "    .dataframe tbody tr th {\n",
       "        vertical-align: top;\n",
       "    }\n",
       "\n",
       "    .dataframe thead th {\n",
       "        text-align: right;\n",
       "    }\n",
       "</style>\n",
       "<table border=\"1\" class=\"dataframe\">\n",
       "  <thead>\n",
       "    <tr style=\"text-align: right;\">\n",
       "      <th></th>\n",
       "      <th>Survived</th>\n",
       "      <th>Pclass</th>\n",
       "      <th>Name</th>\n",
       "      <th>Sex</th>\n",
       "      <th>Age</th>\n",
       "      <th>SibSp</th>\n",
       "      <th>Parch</th>\n",
       "      <th>Ticket</th>\n",
       "      <th>Fare</th>\n",
       "      <th>Cabin</th>\n",
       "      <th>Embarked</th>\n",
       "    </tr>\n",
       "    <tr>\n",
       "      <th>PassengerId</th>\n",
       "      <th></th>\n",
       "      <th></th>\n",
       "      <th></th>\n",
       "      <th></th>\n",
       "      <th></th>\n",
       "      <th></th>\n",
       "      <th></th>\n",
       "      <th></th>\n",
       "      <th></th>\n",
       "      <th></th>\n",
       "      <th></th>\n",
       "    </tr>\n",
       "  </thead>\n",
       "  <tbody>\n",
       "    <tr>\n",
       "      <th>14</th>\n",
       "      <td>0</td>\n",
       "      <td>3</td>\n",
       "      <td>Andersson, Mr. Anders Johan</td>\n",
       "      <td>male</td>\n",
       "      <td>39.0</td>\n",
       "      <td>1</td>\n",
       "      <td>5</td>\n",
       "      <td>347082</td>\n",
       "      <td>31.275</td>\n",
       "      <td>NaN</td>\n",
       "      <td>S</td>\n",
       "    </tr>\n",
       "    <tr>\n",
       "      <th>120</th>\n",
       "      <td>0</td>\n",
       "      <td>3</td>\n",
       "      <td>Andersson, Miss. Ellis Anna Maria</td>\n",
       "      <td>female</td>\n",
       "      <td>2.0</td>\n",
       "      <td>4</td>\n",
       "      <td>2</td>\n",
       "      <td>347082</td>\n",
       "      <td>31.275</td>\n",
       "      <td>NaN</td>\n",
       "      <td>S</td>\n",
       "    </tr>\n",
       "    <tr>\n",
       "      <th>542</th>\n",
       "      <td>0</td>\n",
       "      <td>3</td>\n",
       "      <td>Andersson, Miss. Ingeborg Constanzia</td>\n",
       "      <td>female</td>\n",
       "      <td>9.0</td>\n",
       "      <td>4</td>\n",
       "      <td>2</td>\n",
       "      <td>347082</td>\n",
       "      <td>31.275</td>\n",
       "      <td>NaN</td>\n",
       "      <td>S</td>\n",
       "    </tr>\n",
       "    <tr>\n",
       "      <th>543</th>\n",
       "      <td>0</td>\n",
       "      <td>3</td>\n",
       "      <td>Andersson, Miss. Sigrid Elisabeth</td>\n",
       "      <td>female</td>\n",
       "      <td>11.0</td>\n",
       "      <td>4</td>\n",
       "      <td>2</td>\n",
       "      <td>347082</td>\n",
       "      <td>31.275</td>\n",
       "      <td>NaN</td>\n",
       "      <td>S</td>\n",
       "    </tr>\n",
       "    <tr>\n",
       "      <th>611</th>\n",
       "      <td>0</td>\n",
       "      <td>3</td>\n",
       "      <td>Andersson, Mrs. Anders Johan (Alfrida Konstant...</td>\n",
       "      <td>female</td>\n",
       "      <td>39.0</td>\n",
       "      <td>1</td>\n",
       "      <td>5</td>\n",
       "      <td>347082</td>\n",
       "      <td>31.275</td>\n",
       "      <td>NaN</td>\n",
       "      <td>S</td>\n",
       "    </tr>\n",
       "    <tr>\n",
       "      <th>814</th>\n",
       "      <td>0</td>\n",
       "      <td>3</td>\n",
       "      <td>Andersson, Miss. Ebba Iris Alfrida</td>\n",
       "      <td>female</td>\n",
       "      <td>6.0</td>\n",
       "      <td>4</td>\n",
       "      <td>2</td>\n",
       "      <td>347082</td>\n",
       "      <td>31.275</td>\n",
       "      <td>NaN</td>\n",
       "      <td>S</td>\n",
       "    </tr>\n",
       "    <tr>\n",
       "      <th>851</th>\n",
       "      <td>0</td>\n",
       "      <td>3</td>\n",
       "      <td>Andersson, Master. Sigvard Harald Elias</td>\n",
       "      <td>male</td>\n",
       "      <td>4.0</td>\n",
       "      <td>4</td>\n",
       "      <td>2</td>\n",
       "      <td>347082</td>\n",
       "      <td>31.275</td>\n",
       "      <td>NaN</td>\n",
       "      <td>S</td>\n",
       "    </tr>\n",
       "  </tbody>\n",
       "</table>\n",
       "</div>"
      ],
      "text/plain": [
       "             Survived  Pclass  \\\n",
       "PassengerId                     \n",
       "14                  0       3   \n",
       "120                 0       3   \n",
       "542                 0       3   \n",
       "543                 0       3   \n",
       "611                 0       3   \n",
       "814                 0       3   \n",
       "851                 0       3   \n",
       "\n",
       "                                                          Name     Sex   Age  \\\n",
       "PassengerId                                                                    \n",
       "14                                 Andersson, Mr. Anders Johan    male  39.0   \n",
       "120                          Andersson, Miss. Ellis Anna Maria  female   2.0   \n",
       "542                       Andersson, Miss. Ingeborg Constanzia  female   9.0   \n",
       "543                          Andersson, Miss. Sigrid Elisabeth  female  11.0   \n",
       "611          Andersson, Mrs. Anders Johan (Alfrida Konstant...  female  39.0   \n",
       "814                         Andersson, Miss. Ebba Iris Alfrida  female   6.0   \n",
       "851                    Andersson, Master. Sigvard Harald Elias    male   4.0   \n",
       "\n",
       "             SibSp  Parch  Ticket    Fare Cabin Embarked  \n",
       "PassengerId                                               \n",
       "14               1      5  347082  31.275   NaN        S  \n",
       "120              4      2  347082  31.275   NaN        S  \n",
       "542              4      2  347082  31.275   NaN        S  \n",
       "543              4      2  347082  31.275   NaN        S  \n",
       "611              1      5  347082  31.275   NaN        S  \n",
       "814              4      2  347082  31.275   NaN        S  \n",
       "851              4      2  347082  31.275   NaN        S  "
      ]
     },
     "execution_count": 11,
     "metadata": {},
     "output_type": "execute_result"
    }
   ],
   "source": [
    "df[df['Ticket'] == '347082']"
>>>>>>> upstream/main
   ]
  },
  {
   "cell_type": "code",
   "execution_count": 12,
   "metadata": {},
   "outputs": [
    {
<<<<<<< HEAD
     "name": "stdout",
     "output_type": "stream",
     "text": [
      "\n",
      " ************************************************************************************************************** \n",
      "\n",
      "Variable : NAME\n",
      "\n",
      "+---------------------------------------------------+---------------------------+\n",
      "|                   Valores Únicos                  | Frecuencia de Mayor Valor |\n",
      "+---------------------------------------------------+---------------------------+\n",
      "|              Braund, Mr. Owen Harris              |             1             |\n",
      "|           Saundercock, Mr. William Henry          |             1             |\n",
      "|            Andersson, Mr. Anders Johan            |             1             |\n",
      "|               Heikkinen, Miss. Laina              |             1             |\n",
      "|    Futrelle, Mrs. Jacques Heath (Lily May Peel)   |             1             |\n",
      "|              Allen, Mr. William Henry             |             1             |\n",
      "|                  Moran, Mr. James                 |             1             |\n",
      "|              McCarthy, Mr. Timothy J              |             1             |\n",
      "|           Palsson, Master. Gosta Leonard          |             1             |\n",
      "| Johnson, Mrs. Oscar W (Elisabeth Vilhelmina Berg) |             1             |\n",
      "+---------------------------------------------------+---------------------------+\n",
      "\n",
      "Nulos: 0 (0.00%) sobre el total: 891 rows\n",
      "\n",
      "+---------------------+-----------------------+\n",
      "|         Moda        | Frecuencia de la moda |\n",
      "+---------------------+-----------------------+\n",
      "| Abbing, Mr. Anthony |          891          |\n",
      "+---------------------+-----------------------+\n"
     ]
    },
    {
     "data": {
      "image/png": "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",
      "text/plain": [
       "<Figure size 1000x600 with 1 Axes>"
      ]
     },
     "metadata": {},
     "output_type": "display_data"
    },
    {
     "name": "stdout",
     "output_type": "stream",
     "text": [
      "\n",
      " ************************************************************************************************************** \n",
      "\n",
      "Variable : SEX\n",
      "\n",
      "+----------------+---------------------------+\n",
      "| Valores Únicos | Frecuencia de Mayor Valor |\n",
      "+----------------+---------------------------+\n",
      "|      male      |            577            |\n",
      "|     female     |            314            |\n",
      "+----------------+---------------------------+\n",
      "\n",
      "Nulos: 0 (0.00%) sobre el total: 891 rows\n",
      "\n",
      "+------+-----------------------+\n",
      "| Moda | Frecuencia de la moda |\n",
      "+------+-----------------------+\n",
      "| male |           1           |\n",
      "+------+-----------------------+\n"
     ]
    },
    {
     "data": {
      "image/png": "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",
      "text/plain": [
       "<Figure size 1000x600 with 1 Axes>"
      ]
     },
     "metadata": {},
     "output_type": "display_data"
    },
    {
     "name": "stdout",
     "output_type": "stream",
     "text": [
      "\n",
      " ************************************************************************************************************** \n",
      "\n",
      "Variable : TICKET\n",
      "\n",
      "+----------------+---------------------------+\n",
      "| Valores Únicos | Frecuencia de Mayor Valor |\n",
      "+----------------+---------------------------+\n",
      "|     347082     |             7             |\n",
      "|      1601      |             7             |\n",
      "|    CA. 2343    |             7             |\n",
      "|    3101295     |             6             |\n",
      "|    CA 2144     |             6             |\n",
      "|     347088     |             6             |\n",
      "|  S.O.C. 14879  |             5             |\n",
      "|     382652     |             5             |\n",
      "|      4133      |             4             |\n",
      "|     347077     |             4             |\n",
      "+----------------+---------------------------+\n",
      "\n",
      "Nulos: 0 (0.00%) sobre el total: 891 rows\n",
      "\n",
      "+------+-----------------------+\n",
      "| Moda | Frecuencia de la moda |\n",
      "+------+-----------------------+\n",
      "| 1601 |           3           |\n",
      "+------+-----------------------+\n"
     ]
    },
    {
     "data": {
      "image/png": "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",
      "text/plain": [
       "<Figure size 1000x600 with 1 Axes>"
      ]
     },
     "metadata": {},
     "output_type": "display_data"
    },
    {
     "name": "stdout",
     "output_type": "stream",
     "text": [
      "\n",
      " ************************************************************************************************************** \n",
      "\n",
      "Variable : CABIN\n",
      "\n",
      "+----------------+---------------------------+\n",
      "| Valores Únicos | Frecuencia de Mayor Valor |\n",
      "+----------------+---------------------------+\n",
      "|    B96 B98     |             4             |\n",
      "|  C23 C25 C27   |             4             |\n",
      "|       G6       |             4             |\n",
      "|    C22 C26     |             3             |\n",
      "|      F33       |             3             |\n",
      "|       F2       |             3             |\n",
      "|      E101      |             3             |\n",
      "|       D        |             3             |\n",
      "|      D26       |             2             |\n",
      "|       F4       |             2             |\n",
      "+----------------+---------------------------+\n",
      "\n",
      "Nulos: 687 (77.10%) sobre el total: 891 rows\n",
      "\n",
      "+---------+-----------------------+\n",
      "|   Moda  | Frecuencia de la moda |\n",
      "+---------+-----------------------+\n",
      "| B96 B98 |           3           |\n",
      "+---------+-----------------------+\n"
     ]
    },
    {
     "data": {
      "image/png": "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",
      "text/plain": [
       "<Figure size 1000x600 with 1 Axes>"
      ]
     },
     "metadata": {},
     "output_type": "display_data"
    },
    {
     "name": "stdout",
     "output_type": "stream",
     "text": [
      "\n",
      " ************************************************************************************************************** \n",
      "\n",
      "Variable : EMBARKED\n",
      "\n",
      "+----------------+---------------------------+\n",
      "| Valores Únicos | Frecuencia de Mayor Valor |\n",
      "+----------------+---------------------------+\n",
      "|       S        |            644            |\n",
      "|       C        |            168            |\n",
      "|       Q        |             77            |\n",
      "+----------------+---------------------------+\n",
      "\n",
      "Nulos: 2 (0.22%) sobre el total: 891 rows\n",
      "\n",
      "+------+-----------------------+\n",
      "| Moda | Frecuencia de la moda |\n",
      "+------+-----------------------+\n",
      "|  S   |           1           |\n",
      "+------+-----------------------+\n"
     ]
    },
    {
     "data": {
      "image/png": "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",
      "text/plain": [
       "<Figure size 1000x600 with 1 Axes>"
      ]
     },
     "metadata": {},
     "output_type": "display_data"
    }
   ],
   "source": [
    "# Crear una instancia de la clase\n",
    "categorical_reporter = CategoricalReport(df)\n",
    "\n",
    "# Generar informe para la columna 'Category'\n",
    "categorical_reporter.generate_report('Name', color= \"orange\")\n",
    "categorical_reporter.generate_report('Sex', color=\"orange\")\n",
    "categorical_reporter.generate_report('Ticket', color=\"orange\")\n",
    "categorical_reporter.generate_report('Cabin', color=\"orange\")\n",
    "categorical_reporter.generate_report('Embarked', color=\"orange\")"
=======
     "data": {
      "text/plain": [
       "21.773972602739725"
      ]
     },
     "execution_count": 12,
     "metadata": {},
     "output_type": "execute_result"
    }
   ],
   "source": [
    "df[df['Name'].str.contains('Miss')]['Age'].mean()"
>>>>>>> upstream/main
   ]
  },
  {
   "cell_type": "code",
   "execution_count": 13,
   "metadata": {},
   "outputs": [
    {
<<<<<<< HEAD
     "name": "stdout",
     "output_type": "stream",
     "text": [
      "\n",
      " ************************************************************************************************************** \n",
      "\n",
      "Variable : SURVIVED\n",
      "\n",
      "+----------------+------------+\n",
      "| Valores Únicos | Frecuencia |\n",
      "+----------------+------------+\n",
      "|       0        |    549     |\n",
      "|       1        |    342     |\n",
      "+----------------+------------+\n",
      "\n",
      "Nulos: 0 (0.00%) sobre el total: 891 rows\n",
      "\n",
      "+---------------------+-------+\n",
      "|  Medidas Centrales  | Valor |\n",
      "+---------------------+-------+\n",
      "|        Media        |  0.38 |\n",
      "|       Mediana       |  0.00 |\n",
      "| Desviación Estándar |  0.49 |\n",
      "+---------------------+-------+\n",
      "\n",
      "+--------------------------+-------+\n",
      "| Forma de la Distribución | Valor |\n",
      "+--------------------------+-------+\n",
      "|         Curtosis         | -1.78 |\n",
      "|        Asimetría         |  0.48 |\n",
      "+--------------------------+-------+\n",
      "\n",
      " ************************************************************************************************************** \n",
      "\n"
     ]
    },
    {
     "data": {
      "image/png": "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",
      "text/plain": [
       "<Figure size 1000x600 with 1 Axes>"
      ]
     },
     "metadata": {},
     "output_type": "display_data"
    },
    {
     "name": "stdout",
     "output_type": "stream",
     "text": [
      "\n",
      " ************************************************************************************************************** \n",
      "\n",
      "Variable : PCLASS\n",
      "\n",
      "+----------------+------------+\n",
      "| Valores Únicos | Frecuencia |\n",
      "+----------------+------------+\n",
      "|       3        |    491     |\n",
      "|       1        |    216     |\n",
      "|       2        |    184     |\n",
      "+----------------+------------+\n",
      "\n",
      "Nulos: 0 (0.00%) sobre el total: 891 rows\n",
      "\n",
      "+---------------------+-------+\n",
      "|  Medidas Centrales  | Valor |\n",
      "+---------------------+-------+\n",
      "|        Media        |  2.31 |\n",
      "|       Mediana       |  3.00 |\n",
      "| Desviación Estándar |  0.84 |\n",
      "+---------------------+-------+\n",
      "\n",
      "+--------------------------+-------+\n",
      "| Forma de la Distribución | Valor |\n",
      "+--------------------------+-------+\n",
      "|         Curtosis         | -1.28 |\n",
      "|        Asimetría         | -0.63 |\n",
      "+--------------------------+-------+\n",
      "\n",
      " ************************************************************************************************************** \n",
      "\n"
     ]
    },
    {
     "data": {
      "image/png": "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",
      "text/plain": [
       "<Figure size 1000x600 with 1 Axes>"
      ]
     },
     "metadata": {},
     "output_type": "display_data"
    },
    {
     "name": "stdout",
     "output_type": "stream",
     "text": [
      "\n",
      " ************************************************************************************************************** \n",
      "\n",
      "Variable : AGE\n",
      "\n",
      "+----------------+------------+\n",
      "| Valores Únicos | Frecuencia |\n",
      "+----------------+------------+\n",
      "|      24.0      |     30     |\n",
      "|      22.0      |     27     |\n",
      "|      18.0      |     26     |\n",
      "|      28.0      |     25     |\n",
      "|      19.0      |     25     |\n",
      "|      30.0      |     25     |\n",
      "|      21.0      |     24     |\n",
      "|      25.0      |     23     |\n",
      "|      36.0      |     22     |\n",
      "|      29.0      |     20     |\n",
      "+----------------+------------+\n",
      "\n",
      "Nulos: 177 (19.87%) sobre el total: 891 rows\n",
      "\n",
      "+---------------------+-------+\n",
      "|  Medidas Centrales  | Valor |\n",
      "+---------------------+-------+\n",
      "|        Media        | 29.70 |\n",
      "|       Mediana       | 28.00 |\n",
      "| Desviación Estándar | 14.53 |\n",
      "+---------------------+-------+\n",
      "\n",
      "+--------------------------+-------+\n",
      "| Forma de la Distribución | Valor |\n",
      "+--------------------------+-------+\n",
      "|         Curtosis         |  0.18 |\n",
      "|        Asimetría         |  0.39 |\n",
      "+--------------------------+-------+\n",
      "\n",
      " ************************************************************************************************************** \n",
      "\n"
     ]
    },
    {
     "data": {
      "image/png": "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",
      "text/plain": [
       "<Figure size 1000x600 with 1 Axes>"
      ]
     },
     "metadata": {},
     "output_type": "display_data"
    },
    {
     "name": "stdout",
     "output_type": "stream",
     "text": [
      "\n",
      " ************************************************************************************************************** \n",
      "\n",
      "Variable : SIBSP\n",
      "\n",
      "+----------------+------------+\n",
      "| Valores Únicos | Frecuencia |\n",
      "+----------------+------------+\n",
      "|       0        |    608     |\n",
      "|       1        |    209     |\n",
      "|       2        |     28     |\n",
      "|       4        |     18     |\n",
      "|       3        |     16     |\n",
      "|       8        |     7      |\n",
      "|       5        |     5      |\n",
      "+----------------+------------+\n",
      "\n",
      "Nulos: 0 (0.00%) sobre el total: 891 rows\n",
      "\n",
      "+---------------------+-------+\n",
      "|  Medidas Centrales  | Valor |\n",
      "+---------------------+-------+\n",
      "|        Media        |  0.52 |\n",
      "|       Mediana       |  0.00 |\n",
      "| Desviación Estándar |  1.10 |\n",
      "+---------------------+-------+\n",
      "\n",
      "+--------------------------+-------+\n",
      "| Forma de la Distribución | Valor |\n",
      "+--------------------------+-------+\n",
      "|         Curtosis         | 17.88 |\n",
      "|        Asimetría         |  3.70 |\n",
      "+--------------------------+-------+\n",
      "\n",
      " ************************************************************************************************************** \n",
      "\n"
     ]
    },
    {
     "data": {
      "image/png": "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",
      "text/plain": [
       "<Figure size 1000x600 with 1 Axes>"
      ]
     },
     "metadata": {},
     "output_type": "display_data"
    },
    {
     "name": "stdout",
     "output_type": "stream",
     "text": [
      "\n",
      " ************************************************************************************************************** \n",
      "\n",
      "Variable : PARCH\n",
      "\n",
      "+----------------+------------+\n",
      "| Valores Únicos | Frecuencia |\n",
      "+----------------+------------+\n",
      "|       0        |    678     |\n",
      "|       1        |    118     |\n",
      "|       2        |     80     |\n",
      "|       5        |     5      |\n",
      "|       3        |     5      |\n",
      "|       4        |     4      |\n",
      "|       6        |     1      |\n",
      "+----------------+------------+\n",
      "\n",
      "Nulos: 0 (0.00%) sobre el total: 891 rows\n",
      "\n",
      "+---------------------+-------+\n",
      "|  Medidas Centrales  | Valor |\n",
      "+---------------------+-------+\n",
      "|        Media        |  0.38 |\n",
      "|       Mediana       |  0.00 |\n",
      "| Desviación Estándar |  0.81 |\n",
      "+---------------------+-------+\n",
      "\n",
      "+--------------------------+-------+\n",
      "| Forma de la Distribución | Valor |\n",
      "+--------------------------+-------+\n",
      "|         Curtosis         |  9.78 |\n",
      "|        Asimetría         |  2.75 |\n",
      "+--------------------------+-------+\n",
      "\n",
      " ************************************************************************************************************** \n",
      "\n"
     ]
    },
    {
     "data": {
      "image/png": "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",
      "text/plain": [
       "<Figure size 1000x600 with 1 Axes>"
      ]
     },
     "metadata": {},
     "output_type": "display_data"
    },
    {
     "name": "stdout",
     "output_type": "stream",
     "text": [
      "\n",
      " ************************************************************************************************************** \n",
      "\n",
      "Variable : FARE\n",
      "\n",
      "+----------------+------------+\n",
      "| Valores Únicos | Frecuencia |\n",
      "+----------------+------------+\n",
      "|      8.05      |     43     |\n",
      "|      13.0      |     42     |\n",
      "|     7.8958     |     38     |\n",
      "|      7.75      |     34     |\n",
      "|      26.0      |     31     |\n",
      "|      10.5      |     24     |\n",
      "|     7.925      |     18     |\n",
      "|     7.775      |     16     |\n",
      "|     26.55      |     15     |\n",
      "|     7.2292     |     15     |\n",
      "+----------------+------------+\n",
      "\n",
      "Nulos: 0 (0.00%) sobre el total: 891 rows\n",
      "\n",
      "+---------------------+-------+\n",
      "|  Medidas Centrales  | Valor |\n",
      "+---------------------+-------+\n",
      "|        Media        | 32.20 |\n",
      "|       Mediana       | 14.45 |\n",
      "| Desviación Estándar | 49.69 |\n",
      "+---------------------+-------+\n",
      "\n",
      "+--------------------------+-------+\n",
      "| Forma de la Distribución | Valor |\n",
      "+--------------------------+-------+\n",
      "|         Curtosis         | 33.40 |\n",
      "|        Asimetría         |  4.79 |\n",
      "+--------------------------+-------+\n",
      "\n",
      " ************************************************************************************************************** \n",
      "\n"
     ]
    },
    {
     "data": {
      "image/png": "iVBORw0KGgoAAAANSUhEUgAAA2gAAAIjCAYAAAB2/jgmAAAAOXRFWHRTb2Z0d2FyZQBNYXRwbG90bGliIHZlcnNpb24zLjguMCwgaHR0cHM6Ly9tYXRwbG90bGliLm9yZy81sbWrAAAACXBIWXMAAA9hAAAPYQGoP6dpAAB6H0lEQVR4nO3deXwU9f3H8ffm2FyQBAgkHAGiIIgg0QAhFK8aCYrFeFREW5CithbxiEfBKnjVqBSLBxWpCrSVH4giRVQUwasauZFDQaAccuSAXJBrk+z8/hh2cU0CSUgyu8nr+XjMY8jMd2c+uyuat9/vfL82wzAMAQAAAAAs52d1AQAAAAAAEwENAAAAALwEAQ0AAAAAvAQBDQAAAAC8BAENAAAAALwEAQ0AAAAAvAQBDQAAAAC8BAENAAAAALwEAQ0AWphPPvlEf/nLX1RcXGx1KQAA4GcIaADQguzatUvXX3+9oqOjFRoaWuX88uXLFR8fr+DgYNlsNuXn5+vWW29V9+7dm77YanhTLU1p7969stlsmjt37mnbNsZnZLPZ9Nhjj9XrtZ999plsNps+++yzBq0JAJorAhoAeKk9e/borrvu0jnnnKPQ0FCFhoaqT58+mjBhgjZv3lzn65WVlenGG2/UxIkTddttt1U5f/ToUd14440KCQnRzJkz9a9//UthYWEN8Va81mOPPSabzebeQkND1bVrV/3qV7/SnDlzVFZWZnWJ+BlXWK1uGzx4sNXlAcAZC7C6AABAVcuWLdOoUaMUEBCgW265Rf3795efn5+2b9+uxYsX65VXXtGePXvUrVu3Wl9z27ZtGjdunCZOnFjt+bVr1+rYsWN68sknlZyc7D7+j3/8Q06n84zfkzd75ZVX1KpVK5WVlengwYP66KOP9Lvf/U4zZszQsmXLFBsba2l93bp1U0lJiQIDAy2tw5uMHj1aV111lcex9u3bW1QNADQcAhoAeJndu3frpptuUrdu3bRy5Up17NjR4/yzzz6rv//97/LzO/UgiKKiIo8esAsvvFAXXnhhje2zs7MlSZGRkR7HW0IouOGGGxQVFeX+ecqUKXrzzTc1ZswY/frXv9Y333xjYXXmEMPg4GBLa/A2F154oX7zm9806DUrKirkdDplt9sb9LoAUBcMcQQAL/Pcc8+pqKhIc+bMqRLOJCkgIEB33323R6/OrbfeqlatWmn37t266qqr1Lp1a91yyy2SpC+//FK//vWv1bVrVwUFBSk2Nlb33XefSkpK3K+/9NJLNXbsWEnSwIEDZbPZdOutt7qv/fNnmpxOp1544QX169dPwcHBat++vYYPH65169a521RUVOjJJ5/U2WefraCgIHXv3l0PP/xwrYcNLlmyRH379lVwcLD69u2rd999t9p2TqdTM2bM0Hnnnafg4GBFR0fr97//vfLy8mp1n5rccsstuu2227R69WqtWLHC49zq1as1fPhwRUREKDQ0VJdccom++uorjzau4ZO7du3SrbfeqsjISEVERGjcuHFVJmhZsWKFhg4dqsjISLVq1Uq9evXSww8/7D5f0zNotf2M/vrXv2rIkCFq166dQkJClJCQoLfffrtKu7KyMt13331q3769WrdurZEjR+rAgQO1/swOHDig1NRUhYWFqUOHDrrvvvtq/L5r8xnWh8Ph0JQpU5SQkKCIiAiFhYXpoosu0qeffurRzvWZ/vWvf9WMGTPc/5x+9913kqTt27frhhtuUNu2bRUcHKwBAwZo6dKlZ1wfAJwOPWgA4GWWLVumHj16KDExsU6vq6ioUEpKioYOHaq//vWv7klAFi1apKKiIt15551q166dVq9erZdeekkHDhzQokWLJEl//vOf1atXL82ePVtPPPGE4uLidPbZZ9d4r/Hjx2vu3Lm68sorddttt6miokJffvmlvvnmGw0YMECSdNttt2nevHm64YYbdP/992v16tVKT0/X999/X2OQcPn44491/fXXq0+fPkpPT9fRo0c1btw4denSpUrb3//+95o7d67GjRunu+++W3v27NHLL7+sjRs36quvvjqjHsDf/va3mj17tj7++GNdccUVkqRVq1bpyiuvVEJCgqZOnSo/Pz/NmTNHv/zlL/Xll19q0KBBHte48cYbFRcXp/T0dG3YsEGvvfaaOnTooGeffVaSOfT06quv1vnnn68nnnhCQUFB2rVr12nDSl0+oxdeeEEjR47ULbfcIofDoQULFujXv/61li1bphEjRrjb3Xbbbfr3v/+tm2++WUOGDNGqVas8zp9KSUmJLr/8cu3fv1933323OnXqpH/9619atWpVlbZ1/QyrU1xcrCNHjngci4iIUGFhoV577TWNHj1at99+u44dO6bXX39dKSkpWrNmjeLj4z1eM2fOHJWWluqOO+5QUFCQ2rZtq23btukXv/iFOnfurEmTJiksLExvvfWWUlNT9c477+jaa6+t1WcCAPViAAC8RkFBgSHJSE1NrXIuLy/PyMnJcW/FxcXuc2PHjjUkGZMmTaryuuPHj1c59tRTTxk2m83Yt2+f+9icOXMMScbatWs92o4dO9bo1q2b++dVq1YZkoy77767ynWdTqdhGIaxadMmQ5Jx2223eZx/4IEHDEnGqlWravgETPHx8UbHjh2N/Px897GPP/7YkORRy5dffmlIMt58802P1y9fvrza4z83depUQ5KRk5NT7fm8vDxDknHttde631/Pnj2NlJQU93s1DMMoLi424uLijCuuuKLKtX/3u995XPPaa6812rVr5/75b3/72ylrMAzD2LNnjyHJmDNnjvtYbT8jV30/5XA4jL59+xq//OUv3cdc39kf//hHj7Y333yzIcmYOnVqjfUZhmHMmDHDkGS89dZb7mNFRUVGjx49DEnGp59+ahhG3T7D6rg+i+q2Tz/91KioqDDKyso8XpOXl2dER0d7fBeu64SHhxvZ2dke7S+//HKjX79+RmlpqfuY0+k0hgwZYvTs2fOU9QHAmWKIIwB4kcLCQklSq1atqpy79NJL1b59e/c2c+bMKm3uvPPOKsd++hya0+lUaWmpUlJSZBiGNm7cWOca33nnHdlsNk2dOrXKOZvNJkn64IMPJElpaWke5++//35J0vvvv1/j9Q8fPqxNmzZp7NixioiIcB+/4oor1KdPH4+2ixYtUkREhK644godOXLEvSUkJKhVq1ZVhrXVlet7OHbsmCRp06ZN2rlzp26++WYdPXrUfb+ioiJdfvnl+uKLL6pMqPKHP/zB4+eLLrpIR48edX/Xrmf+/vOf/9R6Mpa6fEaSFBIS4v5zXl6eCgoKdNFFF2nDhg3u467v7O677/Z47b333lurmj744AN17NhRN9xwg/tYaGio7rjjDo929fkMq3PHHXdoxYoVHlv//v3l7+/vfobM6XQqNzdXFRUVGjBggMf7dbn++us9JhfJzc3VqlWrdOONN+rYsWPu+o4ePaqUlBTt3LlTBw8erNVnAgD1wRBHAPAirVu3liQdP368yrlXX31Vx44dU1ZWVrWTIwQEBFQ7vO3QoUN66qmn9N577+nw4cOqrKx0nysoKKhzjbt371anTp3Utm3bGtvs27dPfn5+6tGjh8fxmJgYRUZGat++fad8rST17NmzyrlevXp5/JK9c+dOFRQUqEOHDtVeyzXxSX25vgfX97Jz505Jcj+vV52CggK1adPG/XPXrl09zrvO5eXlKTw8XKNGjdJrr72m2267TZMmTdLll1+u6667TjfccEONE8HU5TOSzGGzTz31lDZt2uTxTJgrULuu6efnV2Voa69evWp8rz+vqUePHh7XrO719fkMq9OzZ0+P2UZ/at68eZo+fbq2b9+u8vJy9/G4uLgqbX9+bNeuXTIMQ48++qgeffTRaq+fnZ2tzp07n7I+AKgvAhoAeJGIiAh17NhRW7durXLO9Uza3r17q31tUFBQlV/onU6nrrjiCh09elR//vOf1adPH4WFhenHH3/UjTfe2OjT5//8l/WG5nQ61aFDB7355pvVnj/Taddd34MraLo+r2nTplV5lsnl572f/v7+1bYzDEOS2bv1xRdf6NNPP9X777+v5cuXa+HChfrlL3+pjz/+uMbX19aXX36pkSNH6uKLL9bf//53dezYUYGBgZozZ47mz59/Rteuj/p8hnXx73//W7feeqtSU1P14IMPqkOHDvL391d6erp2795dpf1Pexd/Wt8DDzyglJSUau/x8//xAAANiYAGAF5mxIgReu2117RmzZpaTZZwKlu2bNF3332nf//73+5ZHaWTQynr4+yzz9ZHH32k3NzcGnvRunXrJqfTqZ07d+rcc891H8/KylJ+fv4p129znXP1tPzUjh07qtTyySef6Be/+EWVX7Qbwr/+9S9Jcv+i7updCg8Pr7H3pj78/Px0+eWX6/LLL9fzzz+vp59+Wn/+85/16aefVnufunxG77zzjoKDg/XRRx8pKCjIfXzOnDlVrul0OrV7926PXq+fX68m3bp109atW2UYhkcwr+47kxr+M3R5++23ddZZZ2nx4sUedVQ3JLc6Z511liRzeYnGqA8ATodn0ADAyzz00EMKDQ3V7373O2VlZVU57+p5qQ3XL6g/HebldDr1t7/9rd71XX/99TIMQ48//niNtbkWEJ4xY4bH+eeff16STjkzYMeOHRUfH6958+Z5DMFcsWKFewp0lxtvvFGVlZV68sknq1ynoqJC+fn5tXpP1Zk/f75ee+01JSUl6fLLL5ckJSQk6Oyzz9Zf//rXaoeh5uTk1Pk+ubm5VY65epZqmqK+Lp+Rv7+/bDabx9DWvXv3asmSJR7trrzySknSiy++6HH8599hTa666iodOnTIY/r+4uJizZ4926NdY3yGP+Xqcfzp35PVq1crIyOjVq/v0KGDLr30Ur366qs6fPhwg9cHAKdDDxoAeJmePXtq/vz5Gj16tHr16qVbbrlF/fv3l2EY2rNnj+bPny8/P79qnzf7uXPPPVdnnXWWHnjgAR06dEitW7fWO++8c0Y9aJdddpl++9vf6sUXX9TOnTs1fPhwOZ1Offnll7rssst01113qX///ho7dqxmz56t/Px8XXLJJVqzZo3mzZun1NRUXXbZZae8R3p6ukaMGKGhQ4fqd7/7nXJzc/XSSy/pvPPO8/il/pJLLtHvf/97paena9OmTRo2bJgCAwO1c+dOLVq0SC+88ILHpBU1efvtt9WqVSs5HA4dPHhQH330kb766iv179/fvRSBZPZ0vfbaa7ryyit13nnnady4cercubMOHjyoTz/9VOHh4Xrvvffq9Hk+8cQT+uKLLzRixAh169ZN2dnZ+vvf/64uXbpo6NChZ/wZjRgxQs8//7yGDx+um2++WdnZ2Zo5c6Z69OihzZs3u9vFx8dr9OjR+vvf/66CggINGTJEK1eu1K5du2r1Pm6//Xa9/PLLGjNmjNavX6+OHTvqX//6l3u5h8b8DH/q6quv1uLFi3XttddqxIgR2rNnj2bNmqU+ffpUGwirM3PmTA0dOlT9+vXT7bffrrPOOktZWVnKyMjQgQMH9O2339a7PgA4LcvmjwQAnNKuXbuMO++80+jRo4cRHBxshISEGL179zb+8Ic/GJs2bfJoO3bsWCMsLKza62zdutX45S9/abRq1cpo37698Yc//MHYsmVLlWnbazvNvmEYRkVFhTFt2jSjd+/eht1uN9q3b29ceeWVxvr1691tysvLjccff9yIi4szAgMDjdjYWGPy5MkeU5efyjvvvGOce+65RlBQkNGnTx9j8eLF1dZiGIYxe/ZsIyEhwQgJCTFat25t9OvXz3jooYeMQ4cOnfIerqnwXVtwcLDRpUsX4+qrrzbeeOONGmvduHGjcd111xnt2rUzgoKCjG7duhk33nijsXLlyirX/vn0+a7Pec+ePYZhGMbKlSuNa665xujUqZNht9uNTp06GaNHjzZ++OEH92uqm2a/Lp/R66+/bvTs2dMICgoyevfubcyZM8dd30+VlJQYd999t9GuXTsjLCzM+NWvfmX8+OOPtZpm3zAMY9++fcbIkSON0NBQIyoqyrjnnnvcSx64ptmvy2dYHddnMW3atGrPO51O4+mnnza6detmBAUFGRdccIGxbNmyKp/L6a6ze/duY8yYMUZMTIwRGBhodO7c2bj66quNt99++7SfAwCcCZth1GGsDAAAAACg0fAMGgAAAAB4CQIaAAAAAHgJAhoAAAAAeAkCGgAAAAB4CQIaAAAAAHgJAhoAAAAAeAkWqm5ETqfTvTCszWazuhwAAAAAFjEMQ8eOHVOnTp3k51dzPxkBrREdOnRIsbGxVpcBAAAAwEv8+OOP6tKlS43nCWiNqHXr1pLMLyE8PNziagAAAABYpbCwULGxse6MUBMCWiNyDWsMDw8noAEAAAA47aNPTBICAAAAAF6CgAYAAAAAXoKABgAAAABegoAGAAAAAF6CgAYAAAAAXoKABgAAAABegoAGAAAAAF6CgAYAAAAAXoKABgAAAABegoAGAAAAAF6CgAYAAAAAXoKABgAAAABegoAGAAAAAF6CgAYAAAAAXoKABgAAAABegoAGAAAAAF6CgAYAAAAAXoKABgAAAABegoCG5slZLu1baO4BAAAAH0FAQ/O0b4H01U1SxljJWWl1NQAAAECtENDQPB36ULK3MXvR1v5BMgyrKwIAAABOK8DqAoAG56yUDi+XOl0thXaSvntWCmgtXThdstmsrg4AAACoEQENzU/uWsmRJ7UbJEX2lSpKpB1/k8K6Sr3vtbo6AAAAoEYMcUTzc+gDKTBcijjX/Dn2WqnDZdKef1tbFwAAAHAaXhHQZs6cqe7duys4OFiJiYlas2bNKdsvWrRIvXv3VnBwsPr166cPPvjAfa68vFx/+tOf1K9fP4WFhalTp04aM2aMDh065HGN3Nxc3XLLLQoPD1dkZKTGjx+v48ePe7TZvHmzLrroIgUHBys2NlbPPfdcw71pNJ5DH0htEiSb/8ljkedJBVuY1REAAABezfKAtnDhQqWlpWnq1KnasGGD+vfvr5SUFGVnZ1fb/uuvv9bo0aM1fvx4bdy4UampqUpNTdXWrVslScXFxdqwYYMeffRRbdiwQYsXL9aOHTs0cuRIj+vccsst2rZtm1asWKFly5bpiy++0B133OE+X1hYqGHDhqlbt25av369pk2bpscee0yzZ89uvA8DZ640W8pdL0UN8jze+hzJ6ZAKvremLgAAAKAWbIZh7fR2iYmJGjhwoF5++WVJktPpVGxsrCZOnKhJkyZVaT9q1CgVFRVp2bJl7mODBw9WfHy8Zs2aVe091q5dq0GDBmnfvn3q2rWrvv/+e/Xp00dr167VgAEDJEnLly/XVVddpQMHDqhTp0565ZVX9Oc//1mZmZmy2+2SpEmTJmnJkiXavn17rd5bYWGhIiIiVFBQoPDw8Dp9LqinPf+SMsZIQ9+RgtqePF5RLH1+tTT4DemsWy0rDwAAAC1TbbOBpT1oDodD69evV3JysvuYn5+fkpOTlZGRUe1rMjIyPNpLUkpKSo3tJamgoEA2m02RkZHua0RGRrrDmSQlJyfLz89Pq1evdre5+OKL3eHMdZ8dO3YoLy+v2vuUlZWpsLDQY0MTO/Sh2Vv203AmSQGhUmhXKXeDNXUBAAAAtWBpQDty5IgqKysVHR3tcTw6OlqZmZnVviYzM7NO7UtLS/WnP/1Jo0ePdifVzMxMdejQwaNdQECA2rZt675OTfdxnatOenq6IiIi3FtsbGy17dBIXNPrtxtU/fnWZ5vDHwEAAAAvZfkzaI2pvLxcN954owzD0CuvvNLo95s8ebIKCgrc248//tjo98RP/HR6/eq0PkfK+9YMcgAAAIAXsnQdtKioKPn7+ysrK8vjeFZWlmJiYqp9TUxMTK3au8LZvn37tGrVKo9xnjExMVUmIamoqFBubq77OjXdx3WuOkFBQQoKCqrp7aKxHfrQXJA6vE/151v3lCqLpGM7pYjeTVsbAAAAUAuW9qDZ7XYlJCRo5cqV7mNOp1MrV65UUlJSta9JSkryaC9JK1as8GjvCmc7d+7UJ598onbt2lW5Rn5+vtavPzncbdWqVXI6nUpMTHS3+eKLL1RefnJa9hUrVqhXr15q06ZN/d80Gk/mJ1LbBMnPv/rzrXuY+zyeQwMAAIB3snyIY1pamv7xj39o3rx5+v7773XnnXeqqKhI48aNkySNGTNGkydPdre/5557tHz5ck2fPl3bt2/XY489pnXr1umuu+6SZIazG264QevWrdObb76pyspKZWZmKjMzUw6HQ5J07rnnavjw4br99tu1Zs0affXVV7rrrrt00003qVOnTpKkm2++WXa7XePHj9e2bdu0cOFCvfDCC0pLS2viTwi1dmynFNa95vOB4VJwRyYKAQAAgNeydIijZE6bn5OToylTpigzM1Px8fFavny5e0KO/fv3y8/vZI4cMmSI5s+fr0ceeUQPP/ywevbsqSVLlqhv376SpIMHD2rp0qWSpPj4eI97ffrpp7r00kslSW+++abuuusuXX755fLz89P111+vF1980d02IiJCH3/8sSZMmKCEhARFRUVpypQpHmulwYtUFEtlOVJI9cNP3Vr3ZKIQAAAAeC3L10FrzlgHrQkVfC+930e6cIbUpn/N7fb8W/rxbemGPMlma7LyAAAA0LL5xDpoQIMp2mvuQzqeul3rnlJ5wcn2AAAAgBchoKF5OL5HsgVIQe1O3a51T3PPc2gAAADwQgQ0NA9Fe6XgaMlWwwyOLkFtpaAoZnIEAACAVyKgoXlwBbTaaNWDiUIAAADglQhoaB6O76l9QHPN5Mj8OAAAAPAyBDQ0D0V7Tz/Fvkv4OVLZEankUKOWBAAAANQVAQ2+r6LIDFzBtQxoYXHmvvD7xqsJAAAAqAcCGnxf0T5zX9uAFtxeku3k6wAAAAAvQUCD7zu+19zXdoijn92cjp+ABgAAAC9DQIPvK9pbuzXQfio4Wira32glAQAAAPVBQIPvq+0aaD8V1MF8HQAAAOBFCGjwfXVZA80lJJohjgAAAPA6BDT4vrqsgeYS1EEqPiA5KxunJgAAAKAeCGjwfUV7pZCOdXtNSIxkVEilmY1SEgAAAFAfBDT4trqugebi6nFjmCMAAAC8CAENvs0VsGo7xb4LAQ0AAABeiIAG3+ZaA62uPWgBYVJAawIaAAAAvAoBDb7NvQZa27q/NjhaKmYtNAAAAHgPAhp8W9Fes/esLmuguQR3oAcNAAAAXoWABt9WtNdc06w+gqNPDpEEAAAAvAABDb6tPmugubiGOBpGw9YEAAAA1BMBDb7NNcSxPoI7SBXHpfL8hqwIAAAAqDcCGnxXfddAc2GqfQAAAHgZAhp8V33XQHNxBTsCGgAAALwEAQ2+q75roLnYIyU/u1TEVPsAAADwDgQ0+K7Sw5Jskr0ea6BJks2PqfYBAADgVQho8F2l2VJghORXjzXQXIKjCWgAAADwGgQ0+K7SbHOY4pkI6mDOBAkAAAB4AQIafFdZjhQYeWbXCI7mGTQAAAB4DQIafFdplmSPOLNrhERLZdlSZWnD1AQAAACcAQIafFdp9pn3oAW51kKjFw0AAADWI6DBd5VmS/Y2Z3aNEBarBgAAgPcgoME3GYZUdqQBJglpL8kmFdODBgAAAOsR0OCbyvMlo+LMhzj6BZohjR40AAAAeAECGnxTaba5P9MeNInFqgEAAOA1CGjwTaU55v5Mn0GTCGgAAADwGgQ0+KayBuxBC2onlRw+8+sAAAAAZ4iABt9Umi3Z/KWAVmd+LXs7qSTzzK8DAAAAnCECGnxTaY7Ze2ZrgH+E7W2likKpovjMrwUAAACcAQIafFNZthTYAM+fSVJQW3NfSi8aAAAArEVAg28qzZbsEQ1zLfuJgMYwRwAAAFiMgAbfVJotBTZQQAtqZ+6ZKAQAAAAWI6DBN5VmN8wU+5IU0FqyBTLEEQAAAJazPKDNnDlT3bt3V3BwsBITE7VmzZpTtl+0aJF69+6t4OBg9evXTx988IHH+cWLF2vYsGFq166dbDabNm3a5HF+7969stls1W6LFi1yt6vu/IIFCxrsfeMMlWVLgZENcy2bjan2AQAA4BUsDWgLFy5UWlqapk6dqg0bNqh///5KSUlRdnZ2te2//vprjR49WuPHj9fGjRuVmpqq1NRUbd261d2mqKhIQ4cO1bPPPlvtNWJjY3X48GGP7fHHH1erVq105ZVXerSdM2eOR7vU1NQGe+84A85Kqexow6yB5mJvSw8aAAAALGczDMOw6uaJiYkaOHCgXn75ZUmS0+lUbGysJk6cqEmTJlVpP2rUKBUVFWnZsmXuY4MHD1Z8fLxmzZrl0Xbv3r2Ki4vTxo0bFR8ff8o6LrjgAl144YV6/fXX3cdsNpvefffdMwplhYWFioiIUEFBgcLDw+t9HfxMaY60uIN0/pNS+6ENc81vHzEnHbn0/Ya5HgAAAPATtc0GlvWgORwOrV+/XsnJySeL8fNTcnKyMjIyqn1NRkaGR3tJSklJqbF9baxfv16bNm3S+PHjq5ybMGGCoqKiNGjQIL3xxhs6XZYtKytTYWGhx4ZGUHqih7WhhjhK5lT7xYca7noAAABAPVgW0I4cOaLKykpFR0d7HI+OjlZmZvVDzTIzM+vUvjZef/11nXvuuRoyZIjH8SeeeEJvvfWWVqxYoeuvv15//OMf9dJLL53yWunp6YqIiHBvsbGx9a4Lp1B2IqA11CQhkmRvxxBHAAAAWC7A6gKsVFJSovnz5+vRRx+tcu6nxy644AIVFRVp2rRpuvvuu2u83uTJk5WWlub+ubCwkJDWGEpzzH2DPoPWxuyZc1ZKfv4Nd10AAACgDizrQYuKipK/v7+ysrI8jmdlZSkmJqba18TExNSp/em8/fbbKi4u1pgxY07bNjExUQcOHFBZWVmNbYKCghQeHu6xoRGUZkt+dsk/tOGuGdROklMqO9Jw1wQAAADqyLKAZrfblZCQoJUrV7qPOZ1OrVy5UklJSdW+JikpyaO9JK1YsaLG9qfz+uuva+TIkWrfvv1p227atElt2rRRUFBQve6FBlSWbfae2WwNd017W3NfylT7AAAAsI6lQxzT0tI0duxYDRgwQIMGDdKMGTNUVFSkcePGSZLGjBmjzp07Kz09XZJ0zz336JJLLtH06dM1YsQILViwQOvWrdPs2bPd18zNzdX+/ft16JA54cOOHTskmb1vP+1p27Vrl7744osq66hJ0nvvvaesrCwNHjxYwcHBWrFihZ5++mk98MADjfZZoA5Kc6TABnz+TDrRgyapJFNq4EsDAAAAtWVpQBs1apRycnI0ZcoUZWZmKj4+XsuXL3dPBLJ//375+Z3s5BsyZIjmz5+vRx55RA8//LB69uypJUuWqG/fvu42S5cudQc8SbrpppskSVOnTtVjjz3mPv7GG2+oS5cuGjZsWJW6AgMDNXPmTN13330yDEM9evTQ888/r9tvv72hPwLUR1m2OSV+Q3JNOMJi1QAAALCQpeugNXesg9ZIPh4qBYRK5z3csNf9IlXq8yfpvMkNe10AAAC0eF6/DhpQb2XZDTvFvou9HT1oAAAAsBQBDb6nNKdhp9h3CWrDWmgAAACwFAENvqXSIZXnS4GRDX9te1up+FDDXxcAAACoJQIafItrnbLG6EGzt6UHDQAAAJYioMG3lOWY+8Z4Bi2orTnNPgAAAGARAhp8S2m2uW+UIY7tpMoiqfx4w18bAAAAqAUCGnyLK6A19DpokjnEUWImRwAAAFiGgAbfUpYj+YeYW0MLamfuSwloAAAAsAYBDb6ltJHWQJPMZ9AknkMDAACAZQho8C1l2Y3z/Jkk+YdJfkEMcQQAAIBlCGjwLaXZjfP8mSTZbOYwR6baBwAAgEUIaPAtpY3YgyaZE4XQgwYAAACLENDgW0qzG2eRahd7GwIaAAAALENAg29x5EqB4Y13fXrQAAAAYCECGnyHs1IqL5ACWzfePXgGDQAAABYioMF3lOeb+4BGDGj2tlLZEclZ0Xj3AAAAAGpAQIPvcOSZ+8Yc4hjUVpJhPusGAAAANDECGnxHWa65b+weNEkq5Tk0AAAAND0CGnyH40RAa+xn0CQmCgEAAIAlCGjwHe4hjo0Y0FxrrDHEEQAAABYgoMF3OHIlW6DkF9x49/ALkAIjCGgAAACwBAENvqMsV7KHSzZb497HHklAAwAAgCUIaPAdjtzGnSDEJTBSKiOgAQAAoOkR0OA7HHlNE9DskVIJi1UDAACg6RHQ4DscuY07QYiLvQ1DHAEAAGAJAhp8R9lRKaBV49+HIY4AAACwCAENvsORJwWGN/597G2ksiOS4Wz8ewEAAAA/QUCD72jKIY5GpTlrJAAAANCECGjwDYbRtJOESAxzBAAAQJMjoME3VBZLTkfT9aBJTBQCAACAJkdAg29w5Jn7JnkGLdLcl2Y1/r0AAACAnyCgwTe4ngdriiGO/mGSn50eNAAAADQ5Ahp8g+NEQGuKIY42G2uhAQAAwBIENPiGpgxoEmuhAQAAwBIENPgG1zNoTbFQtXSiB41n0AAAANC0CGjwDWW5Zjiz+TfN/eyRUgkBDQAAAE2LgAbf4MhtmhkcXeyRDHEEAABAkyOgwTc01SLVLoFtpNKcprsfAAAAIAIafIUjt+kmCJHMZ9AqjkkVJU13TwAAALR4BDT4BtczaE3FtVg1wxwBAADQhAho8A1lR5v4GbQ25p610AAAANCECGjwDeV5TTzEMdLcE9AAAADQhAho8A1luU08SUikuWctNAAAADQhywPazJkz1b17dwUHBysxMVFr1qw5ZftFixapd+/eCg4OVr9+/fTBBx94nF+8eLGGDRumdu3ayWazadOmTVWucemll8pms3lsf/jDHzza7N+/XyNGjFBoaKg6dOigBx98UBUVFWf8flEPzgpzwo6m7EHzC5ACI+hBAwAAQJOyNKAtXLhQaWlpmjp1qjZs2KD+/fsrJSVF2dnV/1L89ddfa/To0Ro/frw2btyo1NRUpaamauvWre42RUVFGjp0qJ599tlT3vv222/X4cOH3dtzzz3nPldZWakRI0bI4XDo66+/1rx58zR37lxNmTKlYd446saRb+6b8hk0yRzmSEADAABAE7IZhmFYdfPExEQNHDhQL7/8siTJ6XQqNjZWEydO1KRJk6q0HzVqlIqKirRs2TL3scGDBys+Pl6zZs3yaLt3717FxcVp48aNio+P9zh36aWXKj4+XjNmzKi2rg8//FBXX321Dh06pOjoaEnSrFmz9Kc//Uk5OTmy2+21en+FhYWKiIhQQUGBwsObOFw0J4U/SMt6SRf+TWoT33T3XX+fFNFH+sWbTXdPAAAANEu1zQaW9aA5HA6tX79eycnJJ4vx81NycrIyMjKqfU1GRoZHe0lKSUmpsf2pvPnmm4qKilLfvn01efJkFRcXe9ynX79+7nDmuk9hYaG2bdtW4zXLyspUWFjosaEBOHLNfZP3oEXwDBoAAACaVIBVNz5y5IgqKys9QpAkRUdHa/v27dW+JjMzs9r2mZmZdbr3zTffrG7duqlTp07avHmz/vSnP2nHjh1avHjxKe/jOleT9PR0Pf7443WqBbVQdiKgNeUkIZI51f6x3U17TwAAALRolgU0K91xxx3uP/fr108dO3bU5Zdfrt27d+vss8+u93UnT56stLQ098+FhYWKjY09o1ohyZFn7pu6By0wkoWqAQAA0KQsG+IYFRUlf39/ZWV5DiHLyspSTExMta+JiYmpU/vaSkxMlCTt2rXrlPdxnatJUFCQwsPDPTY0AEeu5GeX/IOa9r72NlLZEclwNu19AQAA0GJZFtDsdrsSEhK0cuVK9zGn06mVK1cqKSmp2tckJSV5tJekFStW1Ni+tlxT8Xfs2NF9ny1btnjMJrlixQqFh4erT58+Z3Qv1IMjt+l7zyQzoBmVJ4dYAgAAAI3M0iGOaWlpGjt2rAYMGKBBgwZpxowZKioq0rhx4yRJY8aMUefOnZWeni5Juueee3TJJZdo+vTpGjFihBYsWKB169Zp9uzZ7mvm5uZq//79OnTokCRpx44dksyer5iYGO3evVvz58/XVVddpXbt2mnz5s267777dPHFF+v888+XJA0bNkx9+vTRb3/7Wz333HPKzMzUI488ogkTJigoqIl7cWAOcQywIqBFmvuybCk4qunvDwAAgBbH0oA2atQo5eTkaMqUKcrMzFR8fLyWL1/unpBj//798vM72ck3ZMgQzZ8/X4888ogefvhh9ezZU0uWLFHfvn3dbZYuXeoOeJJ00003SZKmTp2qxx57THa7XZ988ok7DMbGxur666/XI4884n6Nv7+/li1bpjvvvFNJSUkKCwvT2LFj9cQTTzT2R4LqlOVKga2a/r72tua+NNucbh8AAABoZJaug9bcsQ5aA/nsarMXrf9fmva+FUXS51dLv1ggdRvVtPcGAABAs+L166ABtVZ21Jpn0PxDzclJSpnJEQAAAE2DgAbv58iTApt4DTRJstnMiUIIaAAAAGgiBDR4P0du0y9S7WJvI5Vmnb4dAAAA0AAIaPBuhmFdD5rEYtUAAABoUgQ0eLeK45JRYc00+5I51X4JPWgAAABoGgQ0eDdHnrm3Ypp9yQxoDHEEAABAEyGgwbs5cs29FbM4SuYzaGVHrLk3AAAAWhwCGrxb2YmAZtUkIYFtpIpjUkWJNfcHAABAi0JAg3dzD3G0ahbHSHNflmPN/QEAANCiENDg3Ry5kmxSQJg197e3MfeshQYAAIAmQECDd3PkSQGtJJu/Nfd39aAR0AAAANAECGjwbo5862ZwlKTACHPPWmgAAABoAgQ0eDdHnnUThEiSX6A5gyQ9aAAAAGgCBDR4t/J8654/cwlsQ0ADAABAkyCgwbs58s1n0KxkjySgAQAAoEkQ0ODdXJOEWCkwQirNsrYGAAAAtAgENHg3R561k4RI9KABAACgyRDQ4N28YohjG2ZxBAAAQJMgoMG7lRdYO4ujdKIHLUcyDGvrAAAAQLNHQIP3qiiRnGXW96AFtpGMcjMsAgAAAI2IgAbvVZ5v7r3hGTSJ59AAAADQ6Aho8F6OfHNvdQ+avY25J6ABAACgkRHQ4L0ceebe8oAWae6ZKAQAAACNjIAG7+UtPWgBrSRbAD1oAAAAaHQENHgv9zNoFs/iaPNjLTQAAAA0CQIavJcjz+y58guyuhJzJkcCGgAAABoZAQ3ey5Fv9p7ZbFZXItkjeAYNAAAAjY6ABu9Vnm/982cu9kipJMvqKgAAANDMEdDgvRx5UoDFz5+5BEbSgwYAAIBGR0CD93LkSwFhVldhsvMMGgAAABofAQ3ey5HnRQEtUnLkSs4KqysBAABAM0ZAg/dy5Fk/xb6LvY25LztibR0AAABo1gho8F6OfO+ZJCQw0twzzBEAAACNiIAG7+VVszi6etAIaAAAAGg8BDR4J8OQHAVeFNAizD09aAAAAGhEBDR4p4pjkpxSoJcENP8QcyOgAQAAoBER0OCdHPnm3lt60CSm2gcAAECjI6DBO7kDmpfM4iiZU+3zDBoAAAAaEQEN3smRZ+69ZYijZM7kWJJldRUAAABoxgho8E7l+ebeq4Y4RkqlBDQAAAA0HgIavJM3PoMWGMkQRwAAADQqAhq8kyNP8g+W/AKtruQkexupNMfqKgAAANCMEdDgnRz53jVBiGQOcawsliqKrK4EAAAAzZTlAW3mzJnq3r27goODlZiYqDVr1pyy/aJFi9S7d28FBwerX79++uCDDzzOL168WMOGDVO7du1ks9m0adMmj/O5ubmaOHGievXqpZCQEHXt2lV33323CgoKPNrZbLYq24IFCxrkPaMWyvO9MKC1MfdMtQ8AAIBGYmlAW7hwodLS0jR16lRt2LBB/fv3V0pKirKzq/8F+Ouvv9bo0aM1fvx4bdy4UampqUpNTdXWrVvdbYqKijR06FA9++yz1V7j0KFDOnTokP76179q69atmjt3rpYvX67x48dXaTtnzhwdPnzYvaWmpjbI+0YtOPKkgDCrq/AUGGnuCWgAAABoJDbDMAyrbp6YmKiBAwfq5ZdfliQ5nU7FxsZq4sSJmjRpUpX2o0aNUlFRkZYtW+Y+NnjwYMXHx2vWrFkebffu3au4uDht3LhR8fHxp6xj0aJF+s1vfqOioiIFBARIMnvQ3n333TMKZYWFhYqIiFBBQYHCw8PrfZ0W6fNrzCAUn251JSeV5Ur/vV66eKnU5VdWVwMAAAAfUttsYFkPmsPh0Pr165WcnHyyGD8/JScnKyMjo9rXZGRkeLSXpJSUlBrb15brQ3KFM5cJEyYoKipKgwYN0htvvKHTZdmysjIVFhZ6bKgnR54U6GVDHAMjJNmYah8AAACNxrKAduTIEVVWVio6OtrjeHR0tDIzM6t9TWZmZp3a17aOJ598UnfccYfH8SeeeEJvvfWWVqxYoeuvv15//OMf9dJLL53yWunp6YqIiHBvsbGx9a6rxXPkedcU+5Lk52+GNKbaBwAAQCMJOH2T5quwsFAjRoxQnz599Nhjj3mce/TRR91/vuCCC1RUVKRp06bp7rvvrvF6kydPVlpamsf1CWn15Mj3voAmSfa2Ugk9aAAAAGgclvWgRUVFyd/fX1lZnr/sZmVlKSYmptrXxMTE1Kn9qRw7dkzDhw9X69at9e677yow8NTrbSUmJurAgQMqKyursU1QUJDCw8M9NtRTeYGXBrRIqbT+PbYAAADAqVgW0Ox2uxISErRy5Ur3MafTqZUrVyopKana1yQlJXm0l6QVK1bU2L4mhYWFGjZsmOx2u5YuXarg4ODTvmbTpk1q06aNgoKC6nQv1IOzQqo4JgV6aUArIaABAACgcVg6xDEtLU1jx47VgAEDNGjQIM2YMUNFRUUaN26cJGnMmDHq3Lmz0tPNmfzuueceXXLJJZo+fbpGjBihBQsWaN26dZo9e7b7mrm5udq/f78OHTokSdqxY4cks/ctJibGHc6Ki4v173//22Myj/bt28vf31/vvfeesrKyNHjwYAUHB2vFihV6+umn9cADDzTlx9NylZ9Yk84re9DaSvlbrK4CAAAAzZSlAW3UqFHKycnRlClTlJmZqfj4eC1fvtw9Ecj+/fvl53eyk2/IkCGaP3++HnnkET388MPq2bOnlixZor59+7rbLF261B3wJOmmm26SJE2dOlWPPfaYNmzYoNWrV0uSevTo4VHPnj171L17dwUGBmrmzJm67777ZBiGevTooeeff1633357o30W+AlHvrn3yoDWhlkcAQAA0GgsXQetuWMdtHo6uk76aKA0aLbUuqfV1Xg69KH0/XPSqDLJ3251NQAAAPARXr8OGlCj8nxz75U9aG3NPVPtAwAAoBEQ0OB9vH2Io8QwRwAAADSKWj+D5ppIozYYzocz4siXZJMCwqyupCpXQGMmRwAAADSCWge0yMhI2Wy2WrWtrKysd0GAHHlmOLN5YQcvPWgAAABoRLUOaJ9++qn7z3v37tWkSZN06623utcgy8jI0Lx589xT4gP1Vp4vBbS2uorq+QVIgREENAAAADSKWge0Sy65xP3nJ554Qs8//7xGjx7tPjZy5Ej169dPs2fP1tixYxu2SrQsjnzvXKTahan2AQAA0EjqNYYsIyNDAwYMqHJ8wIABWrNmzRkXhRbOkeedE4S4ENAAAADQSOoV0GJjY/WPf/yjyvHXXntNsbGxZ1wUWjhHvndOEOJib8MkIQAAAGgUtR7i+FN/+9vfdP311+vDDz9UYmKiJGnNmjXauXOn3nnnnQYtEC2QI0+yR1pdRc3sbaSC76yuAgAAAM1QvXrQrrrqKu3cuVMjR45Ubm6ucnNz9atf/Uo//PCDrrrqqoauES2NTwxxpAcNAAAADa9ePWiS1KVLF/3lL39pyFoAU3m+9wc0R57kLJf8Aq2uBgAAAM1IvQOaJBUXF2v//v1yOBwex88///wzKgotnKPA+2dxlKTSbCm0s7W1AAAAoFmpV0DLycnRuHHj9OGHH1Z7noWqUW+VpZKz1HvXQZMke1tzX5pFQAMAAECDqtczaPfee6/y8/O1evVqhYSEaPny5Zo3b5569uyppUuXNnSNaEkceeY+0JsDmqsHjan2AQAA0LDq1YO2atUq/ec//9GAAQPk5+enbt266YorrlB4eLjS09M1YsSIhq4TLYUj39x79TNokeaegAYAAIAGVq8etKKiInXo0EGS1KZNG+Xk5EiS+vXrpw0bNjRcdWh5XD1o3hzQ/OxSYDgBDQAAAA2uXgGtV69e2rFjhySpf//+evXVV3Xw4EHNmjVLHTt2bNAC0cL4Qg+axGLVAAAAaBT1GuJ4zz336PDhw5KkqVOnavjw4XrzzTdlt9s1d+7chqwPLY0vPIMmSYFt6EEDAABAg6tXQPvNb37j/nNCQoL27dun7du3q2vXroqKimqw4tACledLtgDJL8jqSk7NHkkPGgAAABrcGa2D5hIaGqoLL7ywIS6Fls6RZz7fZbNZXcmp2dtIhTusrgIAAADNTK0DWlpaWq0v+vzzz9erGECOfO9//kwy10JjiCMAAAAaWK0D2saNGz1+3rBhgyoqKtSrVy9J0g8//CB/f38lJCQ0bIVoWRx5UqAPBLSgNpIjV3JWSH4N0hENAAAA1D6gffrpp+4/P//882rdurXmzZunNm3MRXvz8vI0btw4XXTRRQ1fJVqO8nzJP8zqKk7P3laSIZXlSCHMXAoAAICGUa9p9qdPn6709HR3OJPM9dCeeuopTZ8+vcGKQwtUluv9MzhK5jNoEhOFAAAAoEHVK6AVFha6F6f+qZycHB07duyMi0IL5jPPoJ0IaDyHBgAAgAZUr4B27bXXaty4cVq8eLEOHDigAwcO6J133tH48eN13XXXNXSNaEnK83wjoAUS0AAAANDw6jW7waxZs/TAAw/o5ptvVnl5uXmhgACNHz9e06ZNa9AC0cI48n1jkhB/uxkkCWgAAABoQPUKaKGhofr73/+uadOmaffu3ZKks88+W2FhPjC5A7yX4ZTKC6UAH3gGTWKqfQAAADS4M5ofPCwsTOeff35D1YKWrrxQkuFDAa0NAQ0AAAANqtYB7brrrtPcuXMVHh5+2ufMFi9efMaFoQVy5Jl7XxjiKEn2SGZxBAAAQIOqdUCLiIiQzWZz/xlocK6A5guThEjmEMdjP1hdBQAAAJqRWge0OXPmVPtnoME48s29zwQ0hjgCAACgYdVrmv2SkhIVFxe7f963b59mzJihjz/+uMEKQwvkHuLoI8+gBbWVyo5IznKrKwEAAEAzUa+Ads011+if//ynJCk/P1+DBg3S9OnTdc011+iVV15p0ALRgpTnm/sAH5kN1B5l7ulFAwAAQAOpV0DbsGGDLrroIknS22+/rZiYGO3bt0///Oc/9eKLLzZogWhBHCcWqbb5W11J7QS1M/fFh6ytAwAAAM1GvQJacXGxWrc2h6F9/PHHuu666+Tn56fBgwdr3759DVogWhBHvu88fyadDGilh62tAwAAAM1GvQJajx49tGTJEv3444/66KOPNGzYMElSdna2wsPDG7RAtCCOPN9ZA02SAiMkW4BUQg8aAAAAGka9AtqUKVP0wAMPqHv37kpMTFRSUpIkszftggsuaNAC0YI48n3n+TNJsvmZU+2X0IMGAACAhlHrafZ/6oYbbtDQoUN1+PBh9e/f33388ssv17XXXttgxaGFceT5ziLVLkHt6EEDAABAg6lXQJOkmJgYxcTEeBwbNGjQGReEFsyRJ9kjra6ibuxt6EEDAABAg6lXQCsqKtIzzzyjlStXKjs7W06n0+P8//73vwYpDi2MI08K7WJ1FXUTFCUVMTEOAAAAGka9Atptt92mzz//XL/97W/VsWNH2Wy2hq4LLVF5vm/N4iiZz6Ad+cbqKgAAANBM1Cugffjhh3r//ff1i1/8oqHrQUvmyJcCfWgWR8nsQSvLkZwVkl+9RwwDAAAAkuo5i2ObNm3Utm3bBilg5syZ6t69u4KDg5WYmKg1a9acsv2iRYvUu3dvBQcHq1+/fvrggw88zi9evFjDhg1Tu3btZLPZtGnTpirXKC0t1YQJE9SuXTu1atVK119/vbKysjza7N+/XyNGjFBoaKg6dOigBx98UBUVFWf8flGDylLJWeZ7PWhBbSUZUmnWaZsCAAAAp1OvgPbkk09qypQpKi4uPqObL1y4UGlpaZo6dao2bNig/v37KyUlRdnZ2dW2//rrrzV69GiNHz9eGzduVGpqqlJTU7V161Z3m6KiIg0dOlTPPvtsjfe977779N5772nRokX6/PPPdejQIV133XXu85WVlRoxYoQcDoe+/vprzZs3T3PnztWUKVPO6P3iFBx55t4Xe9AkZnIEAABAg7AZhmHU9UUXXHCBdu/eLcMw1L17dwUGBnqc37BhQ62uk5iYqIEDB+rll1+WJDmdTsXGxmrixImaNGlSlfajRo1SUVGRli1b5j42ePBgxcfHa9asWR5t9+7dq7i4OG3cuFHx8fHu4wUFBWrfvr3mz5+vG264QZK0fft2nXvuucrIyNDgwYP14Ycf6uqrr9ahQ4cUHR0tSZo1a5b+9Kc/KScnR3a7vdr3U1ZWprKyMvfPhYWFio2NVUFBAQt4n07Bd9L750kJL0qR/ayupvbKcqX/Xi9d/B+py0irqwEAAICXKiwsVERExGmzQb0emklNTa1vXW4Oh0Pr16/X5MmT3cf8/PyUnJysjIyMal+TkZGhtLQ0j2MpKSlasmRJre+7fv16lZeXKzk52X2sd+/e6tq1qzugZWRkqF+/fu5w5rrPnXfeqW3bttW4GHd6eroef/zxWteCn3Dkm3tfG+Joj5Bs/vSgAQAAoEHUK6BNnTr1jG985MgRVVZWeoQgSYqOjtb27durfU1mZma17TMzM2t938zMTNntdkVGRtZ4nZru4zpXk8mTJ3sESFcPGmrBV4c42vzNmRxZCw0AAAANoN7TzuXn5+vtt9/W7t279eCDD6pt27basGGDoqOj1blz54as0WcEBQUpKCjI6jJ8k6/2oElSUDt60AAAANAg6hXQNm/erOTkZEVERGjv3r26/fbb1bZtWy1evFj79+/XP//5z9NeIyoqSv7+/lVmT8zKylJMTEy1r4mJialT+5qu4XA4lJ+f79GL9tPrxMTEVJlN0nXfutwLdeDIk2yBkp8PBlx60AAAANBA6jWLY1pamm699Vbt3LlTwcHB7uNXXXWVvvjii1pdw263KyEhQStXrnQfczqdWrlypZKSkqp9TVJSkkd7SVqxYkWN7auTkJCgwMBAj+vs2LFD+/fvd18nKSlJW7Zs8ZhNcsWKFQoPD1efPn1qfS/UQXm+ObzRFxc9t7elBw0AAAANol49aGvXrtWrr75a5Xjnzp3r9DxYWlqaxo4dqwEDBmjQoEGaMWOGioqKNG7cOEnSmDFj1LlzZ6Wnp0uS7rnnHl1yySWaPn26RowYoQULFmjdunWaPXu2+5q5ubnav3+/Dh0yf2HesWOHJLPnKyYmRhERERo/frzS0tLUtm1bhYeHa+LEiUpKStLgwYMlScOGDVOfPn3029/+Vs8995wyMzP1yCOPaMKECQxhbCyOPCnAx54/cwmKknLXWl0FAAAAmoF6BbSgoCAVFhZWOf7DDz+offv2tb7OqFGjlJOToylTpigzM1Px8fFavny5e0KO/fv3y8/vZCffkCFDNH/+fD3yyCN6+OGH1bNnTy1ZskR9+/Z1t1m6dKk74EnSTTfdJMmc2OSxxx6TJP3tb3+Tn5+frr/+epWVlSklJUV///vf3a/x9/fXsmXLdOeddyopKUlhYWEaO3asnnjiiVq/N9SRI18KDLO6ivoJaiuV5kjOCsmv3o91AgAAAPVbB+22227T0aNH9dZbb6lt27bavHmz/P39lZqaqosvvlgzZsxohFJ9T23XOoCkL66TSg5K8TUvMO61jmRI3z4spR6UQjtZXQ0AAAC8UG2zQb2eQZs+fbqOHz+u9u3bq6SkRJdccol69Oih1q1b6y9/+Uu9i0YL5sjzzRkcJfMZNEkqZaIQAAAAnJl6jceKiIjQihUr9NVXX+nbb7/V8ePHdeGFF3os/gzUiSNPCutmdRX1ExRl7osPSW0TrK0FAAAAPq3OAc3pdGru3LlavHix9u7dK5vNpri4OMXExMgwDNl8cRY+WK88Xwo4z+oq6sceKcmPHjQAAACcsToNcTQMQyNHjtRtt92mgwcPql+/fjrvvPO0b98+3Xrrrbr22msbq040d448c5p9X2TzNycKKWaqfQAAAJyZOvWgzZ07V1988YVWrlypyy67zOPcqlWrlJqaqn/+858aM2ZMgxaJZs5wSuXHfPcZNEmyt6MHDQAAAGesTj1o//d//6eHH364SjiTpF/+8peaNGmS3nzzzQYrDi1EeYEkw3fXQZPoQQMAAECDqFNA27x5s4YPH17j+SuvvFLffvvtGReFFsaRb+4DfbkHra1UQkADAADAmalTQMvNzXUvIl2d6Oho5eXlnXFRaGEcJ/6Z8eUhjkFRBDQAAACcsToFtMrKSgUE1PzYmr+/vyoqKs64KLQwzSGg2dtKpdmSs9LqSgAAAODD6jRJiGEYuvXWWxUUFFTt+bKysgYpCi2Me4ijLz+D1k6SUyrLlkI6Wl0NAAAAfFSdAtrYsWNP24YZHFFn7h60MGvrOBOuxapLDhPQAAAAUG91Cmhz5sxprDrQkpXnm8Mbbf5WV1J/9rbmvuSQpAstLQUAAAC+q07PoAGNwpHn28+fSScCms3sQQMAAADqiYAG65XlSoHhVldxZvz8T6yFdtDqSgAAAODDCGiwniPXtycIcQnqIBX/aHUVAAAA8GEENFiv7KgU0BwCWnupaJ/VVQAAAMCHEdBgvbKjvj/EUZKC6UEDAADAmSGgwXrNZYhjcHup+IBkGFZXAgAAAB9FQIP1HHlSQDPoQQvqIFUWn1zXDQAAAKgjAhqs5SyXKo41kx60DuaeYY4AAACoJwIarOXqbWpOAa1ov7V1AAAAwGcR0GCtslxzHxhhbR0Nwd5GsgXQgwYAAIB6I6DBWo4TAa05TLNv8zen2iegAQAAoJ4IaLBW2VFz3xym2ZeYah8AAABnhIAGa7l60AJbWVtHQwmKYrFqAAAA1BsBDdZy5Er+IZKf3epKGgY9aAAAADgDBDRYqyy3+QxvlE48g3ZIMpxWVwIAAAAfRECDtRzNLKAFd5CMcqk0y+pKAAAA4IMIaLCWI7d5zODoEhxt7lkLDQAAAPVAQIO1yo42j0WqXYLbm3ueQwMAAEA9ENBgrbKjzasHLSBc8gsmoAEAAKBeCGiwVnN7Bs1mM59DKyKgAQAAoO4IaLCWI7d5DXGUzGGOxTyDBgAAgLojoME6zgqpvLB59aBJ5lT7TBICAACAeiCgwTqOfHPf3AIai1UDAACgnghosI4j19w3p0lCJCmog7kOWqXD6koAAADgYwhosI4roDXHHjQZUslBqysBAACAjyGgwTplR819s5skpIO5Z5gjAAAA6oiABus05yGOElPtAwAAoM4IaLBOWa65qLN/kNWVNKyAEDN00oMGAACAOiKgwTqOXMnezJ4/cwmOJqABAACgzghosI4jVwpopgEtKIq10AAAAFBnXhHQZs6cqe7duys4OFiJiYlas2bNKdsvWrRIvXv3VnBwsPr166cPPvjA47xhGJoyZYo6duyokJAQJScna+fOne7zn332mWw2W7Xb2rVrJUl79+6t9vw333zT8B9AS1WW2/wmCHEJ7iAVE9AAAABQN5YHtIULFyotLU1Tp07Vhg0b1L9/f6WkpCg7O7va9l9//bVGjx6t8ePHa+PGjUpNTVVqaqq2bt3qbvPcc8/pxRdf1KxZs7R69WqFhYUpJSVFpaWlkqQhQ4bo8OHDHtttt92muLg4DRgwwON+n3zyiUe7hISExvswWhpHrhTQyuoqGkdwe4Y4AgAAoM5shmEYVhaQmJiogQMH6uWXX5YkOZ1OxcbGauLEiZo0aVKV9qNGjVJRUZGWLVvmPjZ48GDFx8dr1qxZMgxDnTp10v33368HHnhAklRQUKDo6GjNnTtXN910U5VrlpeXq3Pnzpo4caIeffRRSWYPWlxcnDZu3Kj4+Ph6vbfCwkJFRESooKBA4eHNdCjfmVg+0HxW69wHrK6k4WWukLY9Lf26oPmt8wYAAIA6q202sLQHzeFwaP369UpOTnYf8/PzU3JysjIyMqp9TUZGhkd7SUpJSXG337NnjzIzMz3aREREKDExscZrLl26VEePHtW4ceOqnBs5cqQ6dOigoUOHaunSpad8P2VlZSosLPTYcAqOZjzEMaSzuT++x9o6AAAA4FMsDWhHjhxRZWWloqOjPY5HR0crMzOz2tdkZmaesr1rX5drvv7660pJSVGXLl3cx1q1aqXp06dr0aJFev/99zV06FClpqaeMqSlp6crIiLCvcXGxtbYFjrxDFoz7V0K6Wjuj++2tg4AAAD4lACrC7DagQMH9NFHH+mtt97yOB4VFaW0tDT3zwMHDtShQ4c0bdo0jRw5stprTZ482eM1hYWFhLSaOCul8oLmO4tjYKTkHyodI6ABAACg9iztQYuKipK/v7+ysrI8jmdlZSkmJqba18TExJyyvWtf22vOmTNH7dq1qzF0/VRiYqJ27dpV4/mgoCCFh4d7bKhBeYEko/kOcbTZzGGO9KABAACgDiwNaHa7XQkJCVq5cqX7mNPp1MqVK5WUlFTta5KSkjzaS9KKFSvc7ePi4hQTE+PRprCwUKtXr65yTcMwNGfOHI0ZM0aBgYGnrXfTpk3q2LFjrd8fTsGRa+6b6xBHSQqJkY7VHOgBAACAn7N8iGNaWprGjh2rAQMGaNCgQZoxY4aKiorcE3aMGTNGnTt3Vnp6uiTpnnvu0SWXXKLp06drxIgRWrBggdatW6fZs2dLkmw2m+6991499dRT6tmzp+Li4vToo4+qU6dOSk1N9bj3qlWrtGfPHt12221V6po3b57sdrsuuOACSdLixYv1xhtv6LXXXmvET6MFKTsR0AKaaQ+aJIV0ko6eek0/AAAA4KcsD2ijRo1STk6OpkyZoszMTMXHx2v58uXuST72798vP7+THX1DhgzR/Pnz9cgjj+jhhx9Wz549tWTJEvXt29fd5qGHHlJRUZHuuOMO5efna+jQoVq+fLmCg4M97v36669ryJAh6t27d7W1Pfnkk9q3b58CAgLUu3dvLVy4UDfccEMjfAotkOOouW/WPWidzMWqneWS3+l7aAEAAADL10FrzlgH7RT2vCll/Ea6dLnkH2R1NY3j6Dpp04PSr3ZJrc+2uhoAAABYyCfWQUML5siV/IKabziTpNBO5p6JQgAAAFBLBDRYw9GM10BzCYqWbAEENAAAANQaAQ3WKMttvlPsu/j5S8ExrIUGAACAWiOgwRqO3OY9g6NLSIx0/H9WVwEAAAAfQUCDNcqONv8eNMmcyZG10AAAAFBLBDRYo+xo838GTTID2vH/SUyWCgAAgFogoMEaLWaIYyepskgqzba6EgAAAPgAAhqs0RJmcZTMgCYxkyMAAABqhYCGpmc4JUd+C3kGraO5Z6IQAAAA1AIBDU3PkS/J2TJ60AJCJXtbetAAAABQKwQ0NL2yHHMfGGlpGU0mpBNroQEAAKBWCGhoeq4JM+xtrK2jqYR0lI4z1T4AAABOj4CGpufqQbNHWFtHU6EHDQAAALVEQEPTK82WbP4tY5p9yexBK8uWKoqsrgQAAABejoCGpleaYz5/Zmsh//i5p9pnJkcAAACcWgv5DRlepSyn5QxvlKSQzuaeYY4AAAA4DQIaml5pdsuZwVEyJ0PxD2GqfQAAAJwWAQ1NrzRbCmxBPWg2mxTSRTr2g9WVAAAAwMsR0ND0yrIle6TVVTStsFgpf6vVVQAAAMDLEdDQ9EpzWmBAi5MKvpMMw+pKAAAA4MUIaGhahlNyHG1Zz6BJUlg3qTxfKs20uhIAAAB4MQIampYjTzIqW14PWqvu5r5gm6VlAAAAwLsR0NC0SnPMfUvrQQvpJPnZpXwCGgAAAGpGQEPTKss29y2tB83mL4V2owcNAAAAp0RAQ9Ny9aC1tIAmSWFdpQJmcgQAAEDNCGhoWmXZki1ACmhldSVNr1V3ZnIEAADAKRHQ0LRKcyR7hGRrgf/ohXWXygukksNWVwIAAAAv1QJ/S4alSrNb3gQhLmHdzT3PoQEAAKAGBDQ0rbIWuEi1S0hHyS+IgAYAAIAaEdDQtEqzpcAIq6uwhs3/xEQhBDQAAABUj4CGptWShzhKUlg3KZ+ZHAEAAFA9AhqaVkse4iiZz6ExkyMAAABqQEBD0zGcUtlRAlpFoVRyyOpKAAAA4IUIaGg6ZbmSnC18iGN3c89zaAAAAKgGAQ1Npyzb3LfkHrSQGGZyBAAAQI0IaGg6pTnmviUHNJu/OVEIAQ0AAADVIKCh6ZSdCGgteYijxEyOAAAAqBEBDU2nNFuyBUgBrayuxFph3aWC75nJEQAAAFUQ0NB0XFPs22xWV2KtVnHmTI5F+6yuBAAAAF6GgIam09IXqXZp3cvcH11jbR0AAADwOgQ0NJ2yHMkeYXUV1gtqKwV3JKABAACgCgIamk5JlhRIQJMkhfeSjnxjdRUAAADwMgQ0NJ2yHMnexuoqvEP4uVLeBslZYXUlAAAA8CJeEdBmzpyp7t27Kzg4WImJiVqz5tRDvxYtWqTevXsrODhY/fr10wcffOBx3jAMTZkyRR07dlRISIiSk5O1c+dOjzbdu3eXzWbz2J555hmPNps3b9ZFF12k4OBgxcbG6rnnnmuYN9xSleXwDJpLeG+pskQqYLp9AAAAnGR5QFu4cKHS0tI0depUbdiwQf3791dKSoqys7Orbf/1119r9OjRGj9+vDZu3KjU1FSlpqZq69aTv+g+99xzevHFFzVr1iytXr1aYWFhSklJUWlpqce1nnjiCR0+fNi9TZw40X2usLBQw4YNU7du3bR+/XpNmzZNjz32mGbPnt04H0Rz56yUyo627EWqfyq8p7loNc+hAQAA4CcsD2jPP/+8br/9do0bN059+vTRrFmzFBoaqjfeeKPa9i+88IKGDx+uBx98UOeee66efPJJXXjhhXr55Zclmb1nM2bM0COPPKJrrrlG559/vv75z3/q0KFDWrJkice1WrdurZiYGPcWFhbmPvfmm2/K4XDojTfe0HnnnaebbrpJd999t55//vlG+yyaNUeuJIOA5uIfIoXFEdAAAADgwdKA5nA4tH79eiUnJ7uP+fn5KTk5WRkZGdW+JiMjw6O9JKWkpLjb79mzR5mZmR5tIiIilJiYWOWazzzzjNq1a6cLLrhA06ZNU0XFyeeBMjIydPHFF8tut3vcZ8eOHcrLy6u2trKyMhUWFnpsOKH0RI8ok4ScFN6biUIAAADgwdKAduTIEVVWVio6OtrjeHR0tDIzM6t9TWZm5inbu/anu+bdd9+tBQsW6NNPP9Xvf/97Pf3003rooYdOe5+f3uPn0tPTFRER4d5iY2NrfO8tTlmOuWeSkJMieksF30nlx6yuBAAAAF4iwOoCrJKWlub+8/nnny+73a7f//73Sk9PV1BQUL2uOXnyZI/rFhYWEtJc3D1okZaW4VXC+0gypNz1UvSlVlcDAAAAL2BpD1pUVJT8/f2VlZXlcTwrK0sxMTHVviYmJuaU7V37ulxTkhITE1VRUaG9e/ee8j4/vcfPBQUFKTw83GPDCWU5ki1ACgg7fduWIqyr5B/Kc2gAAABwszSg2e12JSQkaOXKle5jTqdTK1euVFJSUrWvSUpK8mgvSStWrHC3j4uLU0xMjEebwsJCrV69usZrStKmTZvk5+enDh06uO/zxRdfqLy83OM+vXr1Ups2DNOrs9ITa6DZbFZX4j1s/icWrF5tdSUAAADwEpbP4piWlqZ//OMfmjdvnr7//nvdeeedKioq0rhx4yRJY8aM0eTJk93t77nnHi1fvlzTp0/X9u3b9dhjj2ndunW66667JEk2m0333nuvnnrqKS1dulRbtmzRmDFj1KlTJ6WmpkoyJwCZMWOGvv32W/3vf//Tm2++qfvuu0+/+c1v3OHr5ptvlt1u1/jx47Vt2zYtXLhQL7zwgscQRtRBaRYzOFYnvLd0lIAGAAAAk+XPoI0aNUo5OTmaMmWKMjMzFR8fr+XLl7sn5Ni/f7/8/E7myCFDhmj+/Pl65JFH9PDDD6tnz55asmSJ+vbt627z0EMPqaioSHfccYfy8/M1dOhQLV++XMHBwZLMoYgLFizQY489prKyMsXFxem+++7zCF8RERH6+OOPNWHCBCUkJCgqKkpTpkzRHXfc0USfTDNTclCyt7O6Cu8T3lva939S8SEptJPV1QAAAMBiNsMwDKuLaK4KCwsVERGhgoICnkf78EIppJN07gNWV+JdSnOkr26ULnpXik21uhoAAAA0ktpmA8uHOKKFKD4oBbW3ugrvE9ze/FwY5ggAAAAR0NAUnOXmLI5BUVZX4p0i+kpZq6yuAgAAAF6AgIbGV3JYkkFAq0m7AdLRtVLZUasrAQAAgMUIaGh8JYfMPQGtem0HSjKkzE+srgQAAAAWI6Ch8RUfNPfBBLRqBbeXWp0lHf7I6koAAABgMQIaGl/JQcnPLgW08JksT6XtAOnwcolJVQEAAFo0Ahoan2sGR5vN6kq8V7tB5rN6BVutrgQAAAAWIqCh8ZUc5Pmz04noJ/kFM8wRAACghSOgofEVH5CC2lldhXfzt0tt+kuHlltdCQAAACxEQEPjK6YHrVbaDpByvpQqiqyuBAAAABYhoKFxGYY5zT4B7fTaDZKcDinrc6srAQAAgEUIaGhc5QVSZTEBrTZCY6XgjjyHBgAA0IIR0NC4XGugEdBOz2aT2iZIhz+0uhIAAABYhICGxlXiCmjtra3DV7QbJB3bKR3bbXUlAAAAsAABDY3L3YPGLI610m6A5B8m7f231ZUAAADAAgQ0NK6Sg5K9jeQXaHUlvsE/ROpwsfS/uZLhtLoaAAAANDECGhoXU+zXXccUqWivlPNfqysBAABAEyOgoXGVHJTsDG+sk8h+Ukhn6X/zrK4EAAAATYyAhsZVfIAetLqy+UkxV0j732LRagAAgBaGgIbGxRDH+uk4TKo4Lv34rtWVAAAAoAkR0NB4nOVSWY4UTECrs5COUmS89L85VlcCAACAJkRAQ+MpOSzJkOwEtHrpmCJlfSoV7be6EgAAADQRAhoaj3sNNAJavXS4WPIPkvb8y+pKAAAA0EQIaGg8JScCGkMc6ycgVOpwmbRzplRRYnU1AAAAaAIENDSe4oOSn10KCLe6Et/V/RapNFvaNdvqSgAAANAECGhoPCUHpaD2ks1mdSW+K7SzFJMiffe0VFFsdTUAAABoZAQ0NJ7ig1IQi1SfsbjfSGW50s5XrK4EAAAAjYyAhsbDItUNI6SjOaPjd89I5cetrgYAAACNiICGxlPCItUNpvtvJEe+OWEIAAAAmi0CGhqHYUglhwhoDSUkRup0lfTdc1J5odXVAAAAoJEQ0NA4yvOlyhICWkPq/hvzM92QZnUlAAAAaCQENDSO43vNfXC0pWU0K8HtpZ4TpN2vSweWWl0NAAAAGgEBDY3j+C5zH9rZ2jqam05XSVG/kFaPl0qyrK4GAAAADYyAhsZxbJcUGC4FRlhdSfNis0nn3i8ZTjOkGYbVFQEAAKABEdDQOI7tlELoPWsU9jZS7/ulQ+9Lu2ZbXQ0AAAAaEAENjePYTnP9LjSO9kOkziOldXdJB5dZXQ0AAAAaCAENjePYLim0i9VVNG/n3C1FJUlf3iBlfmJ1NQAAAGgABDQ0vPLjUmkmQxwbm5+/1PcRqU289Pk1UvZ/ra4IAAAAZ4iAhoZ3fLe5ZwbHxudnl/o9LoX3kj67SspcZXVFAAAAOAMENDS8Yyem2A9hiGOT8A+Szv+LGdJWXSFte8ac5REAAAA+h4CGhndspxTQypxmH00jIESKf0bqfrP07WTpi1TJkW91VQAAAKgjAhoa3vFd5vNnNpvVlbQsNn/p7PFS/6elrM+kD/ozwyMAAICPIaCh4RXulEI6WV1FyxWVJA16VQqOlj7/ldmbVrTf6qoAAABQC14R0GbOnKnu3bsrODhYiYmJWrNmzSnbL1q0SL1791ZwcLD69eunDz74wOO8YRiaMmWKOnbsqJCQECUnJ2vnzp3u83v37tX48eMVFxenkJAQnX322Zo6daocDodHG5vNVmX75ptvGvbNN0fHmWLfciEdpfhnpb5TpJyvpGXnSluelCqKrK4MAAAAp2B5QFu4cKHS0tI0depUbdiwQf3791dKSoqys7Orbf/1119r9OjRGj9+vDZu3KjU1FSlpqZq69at7jbPPfecXnzxRc2aNUurV69WWFiYUlJSVFpaKknavn27nE6nXn31VW3btk1/+9vfNGvWLD388MNV7vfJJ5/o8OHD7i0hIaFxPojmoqJYKjkkhdKDZjmbTYq+TBo8V+p8tbTtSWlpD2nXa5KzwurqAAAAUA2bYRiGlQUkJiZq4MCBevnllyVJTqdTsbGxmjhxoiZNmlSl/ahRo1RUVKRly04+WzN48GDFx8dr1qxZMgxDnTp10v33368HHnhAklRQUKDo6GjNnTtXN910U7V1TJs2Ta+88or+97//STJ70OLi4rRx40bFx8fX670VFhYqIiJCBQUFCg9vIRNm5G+RPjhfSnhRiuxndTX4qZLD0u43pKxPpPA+UsLfpI7DrK4KAACgRahtNrC0B83hcGj9+vVKTk52H/Pz81NycrIyMjKqfU1GRoZHe0lKSUlxt9+zZ48yMzM92kRERCgxMbHGa0pmiGvbtm2V4yNHjlSHDh00dOhQLV269JTvp6ysTIWFhR5bi+OaYp8hjt4npKPU98/SwFmSX4D0aYr02dVS4Q9WVwYAAIATLA1oR44cUWVlpaKjoz2OR0dHKzMzs9rXZGZmnrK9a1+Xa+7atUsvvfSSfv/737uPtWrVStOnT9eiRYv0/vvva+jQoUpNTT1lSEtPT1dERIR7i42NrbFts3Vsp+QfJgVGWl0JahLeS7pwhtR3qpS7Xnr/POnbP0uVZVZXBgAA0OIFWF2A1Q4ePKjhw4fr17/+tW6//Xb38aioKKWlpbl/HjhwoA4dOqRp06Zp5MiR1V5r8uTJHq8pLCxseSHt2C4plCn2vZ7NJkVfas74uG+B9N1z0sH3pKR/Sm3ira4OAACgxbK0By0qKkr+/v7KysryOJ6VlaWYmJhqXxMTE3PK9q59ba556NAhXXbZZRoyZIhmz5592noTExO1a9euGs8HBQUpPDzcY2txjjHFvk/xD5LOGisNfMWc4GX5QGnrU5LhtLoyAACAFsnSgGa325WQkKCVK1e6jzmdTq1cuVJJSUnVviYpKcmjvSStWLHC3T4uLk4xMTEebQoLC7V69WqPax48eFCXXnqpEhISNGfOHPn5nf6j2LRpkzp27Fin99jiHNtp9qDBt7TuYYa0bjdJm6dIX1wrlR+zuioAAIAWx/IhjmlpaRo7dqwGDBigQYMGacaMGSoqKtK4ceMkSWPGjFHnzp2Vnp4uSbrnnnt0ySWXaPr06RoxYoQWLFigdevWuXvAbDab7r33Xj311FPq2bOn4uLi9Oijj6pTp05KTU2VdDKcdevWTX/961+Vk5PjrsfVyzZv3jzZ7XZdcMEFkqTFixfrjTfe0GuvvdZUH43vqSiRSg5KIQQ0n+QXKJ09XoroI239i/TxEOmS96RW3a2uDAAAoMWwPKCNGjVKOTk5mjJlijIzMxUfH6/ly5e7J/nYv3+/R+/WkCFDNH/+fD3yyCN6+OGH1bNnTy1ZskR9+/Z1t3nooYdUVFSkO+64Q/n5+Ro6dKiWL1+u4OBgSWaP265du7Rr1y516eI52+BPVx148skntW/fPgUEBKh3795auHChbrjhhsb8OHzbcXOJAmZw9HFRSdKAl6TNj0gfDZAufk9qX32PNgAAABqW5eugNWctbh20H5dIX14rDX1HCqq6ZAF8jKNA2jLFDN6Xfih1GGp1RQAAAD7LJ9ZBQzNzfJfkHyrZ21hdCRqCPUKKf0Zq3VP67Eop+79WVwQAANDsEdDQcFwThDDFfvPhHyL1/wshDQAAoIkQ0NBw8jZLoS1s3beW4OchLXe91RUBAAA0WwQ0NAxnhZS3SQrvZXUlaAyukBbaVfrsKun4XqsrAgAAaJYIaGgYBd9JzlKpNQGt2fIPkfo/JdkCpU+HS448qysCAABodghoaBi56yXZzGFwaL7sbaT4dKk0U/r8GqmyzOqKAAAAmhUCGhpG7joprJsUEGp1JWhsobHS+U9KR1dL34yXWKkDAACgwRDQ0DCOrqX3rCWJ7Ced+ydp35vS93+1uhoAAIBmg4CGM1fpkPI3M0FISxPzS6nbzdKmP0mHlltdDQAAQLNAQMOZK9gmOcuk1udYXQma2tm/k6IGS1/dJBX+YHU1AAAAPo+AhjOXu16Sn9S6h9WVoKnZ/KXzHpbskdLnv5IcBVZXBAAA4NMIaDhzueukVt3NadjR8gS0MicNKTkkfX2z5Ky0uiIAAACfRUDDmTu6luGNLV1orNT3UenQh9KWKVZXAwAA4LMIaDgzlWVS/hYCGqR2g6Qet0vbnpb2L7K6GgAAAJ9EQMOZyd8iGeXM4AhT15uk6MuljFulvG+trgYAAMDnENBwZnLXmxNFtDrb6krgDWw26dwHpNAu5qQhJYetrggAAMCnENBwZnLXSWFxkn+Q1ZXAW/gHS+c/JVWWSp9dLVUUWV0RAACAzyCg4cwcXSuF8/wZfia4vdT/L1Lh99JXo5nZEQAAoJYIaKi/ihJzkerWPH+GarTuKfWdIh18X9r4gNXVAAAA+AQCGuovd51kVDBBCGoWNVjqNVHaMUPalm51NQAAAF4vwOoC4MMOvifZ25o9JUBNuqRKjnzp24clv0BzEhEAAABUi4CG+juwRIpKkmx0xOI04sZKRqW08UHJFiD1vtfqigAAALwSAQ31U7hDOrZTirvV6krgC2w26azfmUNiN9wnySb1vsfqqgAAALwOAQ31c+A/kl+w1DbB6krgK2w26ew7JMOQNtwrFe2RLvir5Me/hgAAAFz4zQj1c+A/Zjhj/TPUhc0m9fyDFBIj/fCy2RP7iwWSPcLqygAAALwCDw+h7kqzpSMZUvtfWF0JfFWXVCn+WSnnK+njwVLB91ZXBAAA4BUIaKi7g++b+6jB1tYB39Y2QRrwslRZIn0YL239i+Qst7oqAAAASxHQUHcH/iNF9JXsbayuBL4urKs0cLYUe4O0Zaq0PEE6utbqqgAAACxDQEPdVBRLmR9L7ZOsrgTNhb9d6nG7NODvUmWp9NEg6fOR0pE1VlcGAADQ5AhoqJvMleaQtCieP0MDCz9HGvCK1GeSlPet9HGitPIKs8e20mF1dQAAAE2CWRxRNweWSKFdzaFpQEPz85c6pkgxyVL2l9K+/5O+SJUCI6Wuv5a63WROTsPsoQAAoJkioKH2SrLMX5i7jrK6EjR3Nn8p+lJzO75HyvxEOvietPsfkn+o1OEiKeYKqf1FUpv+BDYAANBsENBQe9unS/KTYq+1uhK0JK3izGfUzr5NOrZTytsg5W6Qvv2z5CyT/OxSm3ipXaK5b9NfijhP8g+2unIAAIA6I6ChdkpzpB9mmuEsMNzqatAS2Wzmc2rh55hDHZ0O6dhuqfB7czvwH3PxaxlmD1zrnmZQi+gjhfeRwnuax/jnFwAAeDECGmpn+98kGeZzQIA38LNLEeeam0tliTkk8tguqWivuWV9JjmOnmwT1N7slQvrZj5PGRorBUdLwR3MLaidFBgh+YeYoRAAAKAJEdBwemW50g8vSV1SzV9cAW/lH2L2mEX08TxeflwqOSAVH5CKD0qlmWbv25FvpNJsc6jkz9kCpMDW5jNv/iEntmDzeTe/oBN/Dj55LiDU7J0LjDC34PZScEcpJEYKjjGXEwAAADgNAhpOb8cMyaig9wy+K7CVFNhbCu9d9ZxhSJXFkiNfKs+XyguliuPmmn8VRWZ4qywzh1Q6yyRnubk58iWj/OS5ylKpskgqLzL3HvyksFhziGXrc6TIvlKbBKnN+TwrBwAAPBDQcGqOPGn7C1LnkZK9jdXVAA3PZpMCwsxNnRvmmkal5CiQHLnmVpotlRw0e/AOLZd2zTb/p4fNX4roK3W4WOpwibkPbt8wNQAAAJ9EQEPNnJXS17dIcjK1PlAXNn8pqK25VafSIRX9Tyr8wZzg5MfF5jBiSYroJ3W+Sup4pdR+iOQX2HR1AwAAyxHQULOND0qHP5b6p9f8iyaAuvO3m8Mtw3tLGmkeK82R8jdJR9dJu/4hffesFBAudRoudblG6nQlvdgAALQABDRUb9c/pB1/k865W2o30OpqgOYvuL25+HbMFZLhNNd8O/KNdCRD2v+WOWlJ+4vMpS66XCOFdbW64qZjGOZwa0ee+Zygo8B8PtCoMIeTOiskv4CfTN4SYk7YYo88MWlLODNyAgB8hs0wDMPqIpqrwsJCRUREqKCgQOHhPrT2UtZn0qorpE5XSb3u5RcbwGqlOdKRr80td4MZTCLjpS4jpc5XS20TJJuf1VWemfLj5nDPYzvNZRKO7TSXTCg5JJUclpyl9b+2LUCyt5WCoswgHNT+xJIK7c1j9jbmKAF7Gymg1clnEv2CzM/V5ifJdmIymDJzspiKYqm8wJxUprzgRIDMNWe9deSaP5ed2FcWmYGyoti8hnTymq4wGRghBbUxl30IjZVCu0itzjZ7WUM68u9hAGgGapsNCGiNyOcCmrNS2v68tPlRc5a5/s+Y/1cagPeoOC4dXSPlfCUdXStVHJOCOphDIGOukGKSpZBoq6usmbNSOvaDlPetlP+tlL9FKtgqFe072cbeVgrpZC5RENTeXJvOHmUGGVd48g+R/PzN5/3kf6InzXFyqzh+IhQdl8qPnQhR+Sdm6iyQHIUneuPyzdk4z5jtRNBqLQW0PhH0WpkziPqHnlieIfgnzxQaZs+gs/TEjKEn6nQcMQN52RGzjWQOdY3oLbWJl9pcYO4jzzeXdgAA+AyfCmgzZ87UtGnTlJmZqf79++ull17SoEGDamy/aNEiPfroo9q7d6969uypZ599VldddZX7vGEYmjp1qv7xj38oPz9fv/jFL/TKK6+oZ8+e7ja5ubmaOHGi3nvvPfn5+en666/XCy+8oFatWrnbbN68WRMmTNDatWvVvn17TZw4UQ899FCt35dPBbSC7dI3Y81f+LreIJ013vyFAoD3claa4eZIhpS7Tjq+2zwe0decFbL9EClqiLkotxU9MI48KX+rlL/ZDGR5G6WCbeaC4pLZixUWJ4V1P7F4eHez5yggrOlqNAyzR6z8mBl2K0vN+ipLzeUUXEFKTrMnzi/wxBZ8Miy6tobsxXRWSKWHzeBatN9cdP34/8y9UWkG0/De5hD0NglS2wulNv2b9rMDANSJzwS0hQsXasyYMZo1a5YSExM1Y8YMLVq0SDt27FCHDh2qtP/666918cUXKz09XVdffbXmz5+vZ599Vhs2bFDfvn0lSc8++6zS09M1b948xcXF6dFHH9WWLVv03XffKTjYXHPoyiuv1OHDh/Xqq6+qvLxc48aN08CBAzV//nxJ5gd4zjnnKDk5WZMnT9aWLVv0u9/9TjNmzNAdd9xRq/fm9QHNWSllfyrtnW9uwR2kcx+UIvtZXRmA+ijLlfLWm8MgC76Tivebx4M6mGuuRfY3e15a95RanWX+nT/T4FZRLBX/aIaHYzvNrXC7lL/NDBiSGWzC4qTWZ5nD9lqdLbU+m4Xv66PSIRXtOfE57zgxFHS3OexVNnOdvbYXmP8ej+hrjoYI7Wb2NgKAi7Pc7KkvzZbKcqSyoyeHaZcXnOzVryw+uf6ns9z8b4Yt0PyfRP72k6MFAlpJ9gjJ3u7EkPF2J4aUdzBHQTAiS5IPBbTExEQNHDhQL7/8siTJ6XQqNjZWEydO1KRJk6q0HzVqlIqKirRs2TL3scGDBys+Pl6zZs2SYRjq1KmT7r//fj3wwAOSpIKCAkVHR2vu3Lm66aab9P3336tPnz5au3atBgwYIElavny5rrrqKh04cECdOnXSK6+8oj//+c/KzMyU3W6XJE2aNElLlizR9u3ba/XevC6gOQrM/9uev8X8P9kHlph/MUO7mEOjut7IorlAc+LIN4Na4fYTvS8nnuly8Q81//4HtT/xH9Kok89e+dnNniJn+Ylhg+VmD5PrP+BlR8x13crzT17Pzy6FdJZCO5u9YWFxZs9YaBeWC2hMznKzZ+3YD1LhTvN7Pr7H/L4k83sJizsZzEO7nNyCO5x8Ds/Xn2MEWirDMIOU+9nXXDNwleWcGDKdY/6+V5oplWaZmyOv6nVs/ieHkvuHmkPJ/YPM/8lmcw0pl9mLb1Se+O9DmTnqoKLkRKgrlOT8+YXNoevBHaTg6BPD1zuY/91x/zuo3Ynh7G3NoOcf2iyfva1tNrA0zjocDq1fv16TJ092H/Pz81NycrIyMjKqfU1GRobS0tI8jqWkpGjJkiWSpD179igzM1PJycnu8xEREUpMTFRGRoZuuukmZWRkKDIy0h3OJCk5OVl+fn5avXq1rr32WmVkZOjiiy92hzPXfZ599lnl5eWpTZuq012XlZWprKzM/XNBQYEk88uw3IH3pK9/U/V4VJIU3kMqrpS2/1/T1wWgCdikgLOliLOlsBKpJFMqy5RKss1f6vVD/S7rHyoFx5rPhwWf+I+t65f8Ukml+6Sj+055CTS0CCk4Xgrub/6iVrTPDOVZO8ytMdhskvx+tpckm7lV+SXLVsOfAV9nVP2zux/E0Mkh064/O39yrAn5h0j2jmYQCow88fxsuBQQojP+O2kYZmArLzA7BlzP/x7Ll/KPSvr+jMuvNde/k9oNlAbNllp1a7p718CVCU7XP2ZpQDty5IgqKysVHe35QHt0dHSNvVSZmZnVts/MzHSfdx07VZufD58MCAhQ27ZtPdrExcVVuYbrXHUBLT09XY8//niV47GxsdW+F++QcWIDgLoqPrH9aHUhsJQhqdLqIgDUWsmJ7bDVhTQy17+bvpF0vsW1eDp27JgiImoe5s+A0AY0efJkj949p9Op3NxctWvXTrZm2E3bFAoLCxUbG6sff/zRO4aJosHw3TZvfL/NF99t88b327zx/VrLMAwdO3ZMnTp1OmU7SwNaVFSU/P39lZWV5XE8KytLMTEx1b4mJibmlO1d+6ysLHXs2NGjTXx8vLtNdna2xzUqKiqUm5vrcZ3q7vPTe/xcUFCQgoI8Zz6MjIysti3qJjw8nH+RNFN8t80b32/zxXfbvPH9Nm98v9Y5Vc+Zi6VPBNvtdiUkJGjlypXuY06nUytXrlRSUlK1r0lKSvJoL0krVqxwt4+Li1NMTIxHm8LCQq1evdrdJikpSfn5+Vq/fr27zapVq+R0OpWYmOhu88UXX6i8vNzjPr169ap2eCMAAAAAnCnLp2xKS0vTP/7xD82bN0/ff/+97rzzThUVFWncuHGSpDFjxnhMInLPPfdo+fLlmj59urZv367HHntM69at01133SVJstlsuvfee/XUU09p6dKl2rJli8aMGaNOnTopNTVVknTuuedq+PDhuv3227VmzRp99dVXuuuuu3TTTTe5uxxvvvlm2e12jR8/Xtu2bdPChQv1wgsvVJmgBAAAAAAaiuXPoI0aNUo5OTmaMmWKMjMzFR8fr+XLl7sn5Ni/f7/8/E7myCFDhmj+/Pl65JFH9PDDD6tnz55asmSJew00SXrooYdUVFSkO+64Q/n5+Ro6dKiWL1/uXgNNkt58803ddddduvzyy90LVb/44ovu8xEREfr44481YcIEJSQkKCoqSlOmTKn1GmhoGEFBQZo6dWqVoaPwfXy3zRvfb/PFd9u88f02b3y/vsHyddAAAAAAACbLhzgCAAAAAEwENAAAAADwEgQ0AAAAAPASBDQAAAAA8BIENHitmTNnqnv37goODlZiYqLWrFljdUmohS+++EK/+tWv1KlTJ9lsNi1ZssTjvGEYmjJlijp27KiQkBAlJydr586dHm1yc3N1yy23KDw8XJGRkRo/fryOHz/ehO8C1UlPT9fAgQPVunVrdejQQampqdqxY4dHm9LSUk2YMEHt2rVTq1atdP311ysrK8ujzf79+zVixAiFhoaqQ4cOevDBB1VRUdGUbwU/88orr+j88893L16blJSkDz/80H2e77V5eeaZZ9zLErnwHfuuxx57TDabzWPr3bu3+zzfre8hoMErLVy4UGlpaZo6dao2bNig/v37KyUlRdnZ2VaXhtMoKipS//79NXPmzGrPP/fcc3rxxRc1a9YsrV69WmFhYUpJSVFpaam7zS233KJt27ZpxYoVWrZsmb744guWuPACn3/+uSZMmKBvvvlGK1asUHl5uYYNG6aioiJ3m/vuu0/vvfeeFi1apM8//1yHDh3Sdddd5z5fWVmpESNGyOFw6Ouvv9a8efM0d+5cTZkyxYq3hBO6dOmiZ555RuvXr9e6dev0y1/+Utdcc422bdsmie+1OVm7dq1effVVnX/++R7H+Y5923nnnafDhw+7t//+97/uc3y3PsgAvNCgQYOMCRMmuH+urKw0OnXqZKSnp1tYFepKkvHuu++6f3Y6nUZMTIwxbdo097H8/HwjKCjI+L//+z/DMAzju+++MyQZa9eudbf58MMPDZvNZhw8eLDJasfpZWdnG5KMzz//3DAM87sMDAw0Fi1a5G7z/fffG5KMjIwMwzAM44MPPjD8/PyMzMxMd5tXXnnFCA8PN8rKypr2DeCU2rRpY7z22mt8r83IsWPHjJ49exorVqwwLrnkEuOee+4xDIO/u75u6tSpRv/+/as9x3frm+hBg9dxOBxav369kpOT3cf8/PyUnJysjIwMCyvDmdqzZ48yMzM9vtuIiAglJia6v9uMjAxFRkZqwIAB7jbJycny8/PT6tWrm7xm1KygoECS1LZtW0nS+vXrVV5e7vH99u7dW127dvX4fvv166fo6Gh3m5SUFBUWFrp7a2CtyspKLViwQEVFRUpKSuJ7bUYmTJigESNGeHyXEn93m4OdO3eqU6dOOuuss3TLLbdo//79kvhufVWA1QUAP3fkyBFVVlZ6/ItCkqKjo7V9+3aLqkJDyMzMlKRqv1vXuczMTHXo0MHjfEBAgNq2betuA+s5nU7de++9+sUvfqG+fftKMr87u92uyMhIj7Y//36r+/5d52CdLVu2KCkpSaWlpWrVqpXeffdd9enTR5s2beJ7bQYWLFigDRs2aO3atVXO8XfXtyUmJmru3Lnq1auXDh8+rMcff1wXXXSRtm7dynfrowhoAIA6mzBhgrZu3erxnAN8W69evbRp0yYVFBTo7bff1tixY/X5559bXRYawI8//qh77rlHK1asUHBwsNXloIFdeeWV7j+ff/75SkxMVLdu3fTWW28pJCTEwspQXwxxhNeJioqSv79/lRmGsrKyFBMTY1FVaAiu7+9U321MTEyVyWAqKiqUm5vL9+8l7rrrLi1btkyffvqpunTp4j4eExMjh8Oh/Px8j/Y//36r+/5d52Adu92uHj16KCEhQenp6erfv79eeOEFvtdmYP369crOztaFF16ogIAABQQE6PPPP9eLL76ogIAARUdH8x03I5GRkTrnnHO0a9cu/v76KAIavI7dbldCQoJWrlzpPuZ0OrVy5UolJSVZWBnOVFxcnGJiYjy+28LCQq1evdr93SYlJSk/P1/r1693t1m1apWcTqcSExObvGacZBiG7rrrLr377rtatWqV4uLiPM4nJCQoMDDQ4/vdsWOH9u/f7/H9btmyxSOEr1ixQuHh4erTp0/TvBHUitPpVFlZGd9rM3D55Zdry5Yt2rRpk3sbMGCAbrnlFvef+Y6bj+PHj2v37t3q2LEjf399ldWzlADVWbBggREUFGTMnTvX+O6774w77rjDiIyM9JhhCN7p2LFjxsaNG42NGzcakoznn3/e2Lhxo7Fv3z7DMAzjmWeeMSIjI43//Oc/xubNm41rrrnGiIuLM0pKStzXGD58uHHBBRcYq1evNv773/8aPXv2NEaPHm3VW8IJd955pxEREWF89tlnxuHDh91bcXGxu80f/vAHo2vXrsaqVauMdevWGUlJSUZSUpL7fEVFhdG3b19j2LBhxqZNm4zly5cb7du3NyZPnmzFW8IJkyZNMj7//HNjz549xubNm41JkyYZNpvN+Pjjjw3D4Httjn46i6Nh8B37svvvv9/47LPPjD179hhfffWVkZycbERFRRnZ2dmGYfDd+iICGrzWSy+9ZHTt2tWw2+3GoEGDjG+++cbqklALn376qSGpyjZ27FjDMMyp9h999FEjOjraCAoKMi6//HJjx44dHtc4evSoMXr0aKNVq1ZGeHi4MW7cOOPYsWMWvBv8VHXfqyRjzpw57jYlJSXGH//4R6NNmzZGaGioce211xqHDx/2uM7evXuNK6+80ggJCTGioqKM+++/3ygvL2/id4Of+t3vfmd069bNsNvtRvv27Y3LL7/cHc4Mg++1Ofp5QOM79l2jRo0yOnbsaNjtdqNz587GqFGjjF27drnP8936HpthGIY1fXcAAAAAgJ/iGTQAAAAA8BIENAAAAADwEgQ0AAAAAPASBDQAAAAA8BIENAAAAADwEgQ0AAAAAPASBDQAAAAA8BIENAAAAADwEgQ0AAAAAPASBDQAAOrg1ltvlc1mq7Lt2rXL6tIAAM1AgNUFAADga4YPH645c+Z4HGvfvn2drlFZWSmbzSY/P/5fKQDgJP6rAABAHQUFBSkmJsZje+GFF9SvXz+FhYUpNjZWf/zjH3X8+HH3a+bOnavIyEgtXbpUffr0UVBQkPbv36+ysjI98MAD6ty5s8LCwpSYmKjPPvvMujcHALAUAQ0AgAbg5+enF198Udu2bdO8efO0atUqPfTQQx5tiouL9eyzz+q1117Ttm3b1KFDB911113KyMjQggULtHnzZv3617/W8OHDtXPnToveCQDASjbDMAyriwAAwFfceuut+ve//63g4GD3sSuvvFKLFi3yaPf222/rD3/4g44cOSLJ7EEbN26cNm3apP79+0uS9u/fr7POOkv79+9Xp06d3K9NTk7WoEGD9PTTTzfBOwIAeBOeQQMAoI4uu+wyvfLKK+6fw8LC9Mknnyg9PV3bt29XYWGhKioqVFpaquLiYoWGhkqS7Ha7zj//fPfrtmzZosrKSp1zzjke1y8rK1O7du2a5s0AALwKAQ0AgDoKCwtTjx493D/v3btXV199te6880795S9/Udu2bfXf//5X48ePl8PhcAe0kJAQ2Ww29+uOHz8uf39/rV+/Xv7+/h73aNWqVdO8GQCAVyGgAQBwhtavXy+n06np06e7Z2V86623Tvu6Cy64QJWVlcrOztZFF13U2GUCAHwAk4QAAHCGevToofLycr300kv63//+p3/961+aNWvWaV93zjnn6JZbbtGYMWO0ePFi7dmzR2vWrFF6erref//9JqgcAOBtCGgAAJyh/v376/nnn9ezzz6rvn376s0331R6enqtXjtnzhyNGTNG999/v3r16qXU1FStXbtWXbt2beSqAQDeiFkcAQAAAMBL0IMGAAAAAF6CgAYAAAAAXoKABgAAAABegoAGAAAAAF6CgAYAAAAAXoKABgAAAABegoAGAAAAAF6CgAYAAAAAXoKABgAAAABegoAGAAAAAF6CgAYAAAAAXuL/AWVbvn0be/ehAAAAAElFTkSuQmCC",
      "text/plain": [
       "<Figure size 1000x600 with 1 Axes>"
      ]
     },
     "metadata": {},
     "output_type": "display_data"
    }
   ],
   "source": [
    "# Crear una instancia de la clase\n",
    "numeric_reporter = NumericReport(df)\n",
    "\n",
    "numeric_reporter.generate_report('Survived', 'histograma', color='orange')\n",
    "numeric_reporter.generate_report('Pclass', 'histograma', color='orange')\n",
    "numeric_reporter.generate_report('Age', 'boxplot', color='orange')\n",
    "numeric_reporter.generate_report('SibSp', 'histograma', color='orange')\n",
    "numeric_reporter.generate_report('Parch', 'histograma', color='orange')\n",
    "numeric_reporter.generate_report('Fare', 'densidad', color='orange')"
   ]
  },
  {
   "cell_type": "markdown",
   "metadata": {},
   "source": [
    "#### análisis bivariante"
   ]
  },
  {
   "cell_type": "markdown",
   "metadata": {},
   "source": [
    "- Para un modelo de clasificación, generalmente se prefiere utilizar medidas de correlación que capturen relaciones monotónicas y no necesariamente lineales. En este caso, las correlaciones de rango, como la correlación de Spearman o Kendall, podrían ser más apropiadas que la correlación de Pearson, que asume una relación lineal."
=======
     "data": {
      "text/plain": [
       "35.642857142857146"
      ]
     },
     "execution_count": 13,
     "metadata": {},
     "output_type": "execute_result"
    }
   ],
   "source": [
    "df[df['Name'].str.contains('Mrs')]['Age'].mean()"
>>>>>>> upstream/main
   ]
  },
  {
   "cell_type": "code",
   "execution_count": 14,
   "metadata": {},
   "outputs": [
    {
     "data": {
      "text/plain": [
<<<<<<< HEAD
       "Index(['Survived', 'Pclass', 'Name', 'Sex', 'Age', 'SibSp', 'Parch', 'Ticket',\n",
       "       'Fare', 'Cabin', 'Embarked'],\n",
       "      dtype='object')"
=======
       "27.915708812260537"
>>>>>>> upstream/main
      ]
     },
     "execution_count": 14,
     "metadata": {},
     "output_type": "execute_result"
    }
   ],
   "source": [
<<<<<<< HEAD
    "df.columns"
=======
    "df[df['Sex'] == 'female']['Age'].mean()"
>>>>>>> upstream/main
   ]
  },
  {
   "cell_type": "code",
   "execution_count": 15,
   "metadata": {},
   "outputs": [
    {
     "data": {
<<<<<<< HEAD
      "text/plain": [
       "<Axes: xlabel='Survived', ylabel='SibSp'>"
      ]
     },
     "execution_count": 15,
     "metadata": {},
     "output_type": "execute_result"
    },
    {
     "data": {
      "image/png": "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",
      "text/plain": [
       "<Figure size 640x480 with 1 Axes>"
=======
      "image/png": "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",
      "text/plain": [
       "<Figure size 1000x600 with 2 Axes>"
>>>>>>> upstream/main
      ]
     },
     "metadata": {},
     "output_type": "display_data"
    }
   ],
   "source": [
<<<<<<< HEAD
    "sns.boxenplot(data=df, x='Survived', y ='SibSp')"
   ]
  },
  {
   "cell_type": "markdown",
   "metadata": {},
   "source": [
    "- Podemos notar que a mayor familiar, menos se sobrevivía."
=======
    "plt.figure(figsize=(10, 6))\n",
    "sns.heatmap(df.corr(numeric_only=True), annot=True, cmap='Blues');"
>>>>>>> upstream/main
   ]
  },
  {
   "cell_type": "code",
   "execution_count": 16,
   "metadata": {},
   "outputs": [
    {
     "data": {
<<<<<<< HEAD
      "text/plain": [
       "<Axes: xlabel='Embarked', ylabel='Fare'>"
      ]
     },
     "execution_count": 16,
     "metadata": {},
     "output_type": "execute_result"
    },
    {
     "data": {
      "image/png": "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",
      "text/plain": [
       "<Figure size 640x480 with 1 Axes>"
=======
      "image/png": "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",
      "text/plain": [
       "<Figure size 1000x600 with 6 Axes>"
>>>>>>> upstream/main
      ]
     },
     "metadata": {},
     "output_type": "display_data"
    }
   ],
   "source": [
<<<<<<< HEAD
    "sns.scatterplot(data=df, y='Fare', x ='Embarked')"
=======
    "df.hist(figsize=(10, 6));"
>>>>>>> upstream/main
   ]
  },
  {
   "cell_type": "code",
   "execution_count": 17,
   "metadata": {},
   "outputs": [
    {
     "data": {
      "text/plain": [
<<<<<<< HEAD
       "<Axes: xlabel='Pclass', ylabel='Fare'>"
=======
       "<Axes: xlabel='Survived', ylabel='percent'>"
>>>>>>> upstream/main
      ]
     },
     "execution_count": 17,
     "metadata": {},
     "output_type": "execute_result"
    },
    {
     "data": {
<<<<<<< HEAD
      "image/png": "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",
=======
      "image/png": "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",
>>>>>>> upstream/main
      "text/plain": [
       "<Figure size 640x480 with 1 Axes>"
      ]
     },
     "metadata": {},
     "output_type": "display_data"
    }
   ],
   "source": [
<<<<<<< HEAD
    "sns.scatterplot(data=df, y='Fare', x ='Pclass')"
=======
    "sns.countplot(x='Survived',data=df, stat='percent')"
>>>>>>> upstream/main
   ]
  },
  {
   "cell_type": "code",
   "execution_count": 18,
   "metadata": {},
   "outputs": [
    {
     "data": {
<<<<<<< HEAD
      "image/png": "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",
      "text/plain": [
       "<Figure size 581.611x500 with 6 Axes>"
=======
      "text/plain": [
       "<Axes: xlabel='Embarked', ylabel='percent'>"
      ]
     },
     "execution_count": 18,
     "metadata": {},
     "output_type": "execute_result"
    },
    {
     "data": {
      "image/png": "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",
      "text/plain": [
       "<Figure size 640x480 with 1 Axes>"
>>>>>>> upstream/main
      ]
     },
     "metadata": {},
     "output_type": "display_data"
    }
   ],
   "source": [
<<<<<<< HEAD
    "# Crear el gráfico de matriz de dispersión\n",
    "sns.pairplot(data=df, hue='Embarked', vars=['Fare', 'Pclass'], diag_kind='kde')\n",
    "\n",
    "# Mostrar el gráfico\n",
    "plt.show()\n"
   ]
  },
  {
   "cell_type": "markdown",
   "metadata": {},
   "source": [
    "- C -> se pagaron los Fare más caros, pertenecientes la mayoría a primera clase.\n",
    "- Q -> se pagaron los Fare más baratos, pertenecientes a tercera clase. INCORRECTO"
=======
    "sns.countplot(x='Embarked',data=df, hue='Survived', stat='percent')"
   ]
  },
  {
   "cell_type": "code",
   "execution_count": 37,
   "metadata": {},
   "outputs": [
    {
     "data": {
      "text/plain": [
       "<Axes: xlabel='Pclass', ylabel='percent'>"
      ]
     },
     "execution_count": 37,
     "metadata": {},
     "output_type": "execute_result"
    },
    {
     "data": {
      "image/png": "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",
      "text/plain": [
       "<Figure size 640x480 with 1 Axes>"
      ]
     },
     "metadata": {},
     "output_type": "display_data"
    }
   ],
   "source": [
    "sns.countplot(x='Pclass',data=df, hue='Survived', stat='percent')"
>>>>>>> upstream/main
   ]
  },
  {
   "cell_type": "code",
   "execution_count": 19,
   "metadata": {},
   "outputs": [
    {
     "data": {
      "text/plain": [
<<<<<<< HEAD
       "Pclass  Embarked\n",
       "1       C           78.2667\n",
       "        Q           90.0000\n",
       "        S           52.0000\n",
       "2       C           24.0000\n",
       "        Q           12.3500\n",
       "        S           13.5000\n",
       "3       C            7.8958\n",
       "        Q            7.7500\n",
       "        S            8.0500\n",
       "Name: Fare, dtype: float64"
=======
       "<Axes: xlabel='Sex', ylabel='percent'>"
>>>>>>> upstream/main
      ]
     },
     "execution_count": 19,
     "metadata": {},
     "output_type": "execute_result"
<<<<<<< HEAD
    }
   ],
   "source": [
    "df.groupby(['Pclass', 'Embarked'])['Fare'].median()"
   ]
  },
  {
   "cell_type": "markdown",
   "metadata": {},
   "source": [
    "Las tarifas promedio más altas corresponden a los pasajeros de primera clase (Pclass=1), seguidas por la segunda clase (Pclass=2) y luego la tercera clase (Pclass=3). \n",
    "\n",
    "La relación entre la tarifa promedio y el puerto de embarque (Embarked) varía. Por ejemplo:\n",
    "\n",
    "1) Para la primera clase, la tarifa promedio más alta corresponde a los pasajeros que embarcaron desde el puerto de Queenstown (Q), seguida por el puerto de Cherbourg (C) y luego Southampton (S).\n",
    "\n",
    "2) Para la segunda clase, la tarifa promedio más alta también corresponde a los pasajeros que embarcaron desde Queenstown (Q), seguida por Cherbourg (C) y luego Southampton (S).\n",
    "\n",
    "3) Para la tercera clase, la tarifa promedio más alta corresponde a los pasajeros que embarcaron desde Cherbourg (C), seguida por Southampton (S) y luego Queenstown (Q)."
   ]
  },
  {
   "cell_type": "markdown",
   "metadata": {},
   "source": [
    "Supongamos que tenemos los siguientes datos de pasajeros del Titanic:\n",
    "\n",
    "- Pasajero 1: Clase 1, embarcado en C (Cherbourg)\n",
    "- Pasajero 2: Clase 2, embarcado en S (Southampton)\n",
    "- Pasajero 3: Clase 3, embarcado en C (Cherbourg)\n",
    "- Pasajero 4: Clase 1, embarcado en Q (Queenstown)\n",
    "- Pasajero 5: Clase 2, embarcado en S (Southampton)\n",
    "\n",
    "Aquí hay una tabla que muestra estos datos:\n",
    "\n",
    "| Pasajero | Clase | Embarcado |\n",
    "|----------|-------|-----------|\n",
    "| 1        | 1     | C         |\n",
    "| 2        | 2     | S         |\n",
    "| 3        | 3     | C         |\n",
    "| 4        | 1     | Q         |\n",
    "| 5        | 2     | S         |\n",
    "\n",
    "Ahora, vamos a calcular el porcentaje de embarque por clase.\n",
    "\n",
    "1. Primero, agrupamos los datos por clase y puerto de embarque y contamos cuántos pasajeros hay en cada combinación. Entonces, obtenemos algo como esto:\n",
    "\n",
    "```\n",
    "Pclass  Embarked\n",
    "1       C           1\n",
    "        Q           1\n",
    "2       S           2\n",
    "3       C           1\n",
    "dtype: int64\n",
    "```\n",
    "\n",
    "Esto nos dice cuántos pasajeros de cada clase embarcaron desde cada puerto.\n",
    "\n",
    "2. Luego, calculamos el total de pasajeros por clase. En nuestro ejemplo, tenemos:\n",
    "\n",
    "```\n",
    "Pclass\n",
    "1    2\n",
    "2    2\n",
    "3    1\n",
    "dtype: int64\n",
    "```\n",
    "\n",
    "3. Finalmente, dividimos el recuento de embarque por clase y puerto entre el total de pasajeros por clase y lo multiplicamos por 100 para obtener el porcentaje de embarque por clase y puerto. Por ejemplo, para la clase 1:\n",
    "\n",
    "```\n",
    "Porcentaje de embarque para clase 1:\n",
    "C: (1 / 2) * 100 = 50%\n",
    "Q: (1 / 2) * 100 = 50%\n",
    "```\n",
    "\n",
    "Esto significa que el 50% de los pasajeros de clase 1 embarcaron desde el puerto C y el 50% desde el puerto Q.\n"
=======
    },
    {
     "data": {
      "image/png": "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",
      "text/plain": [
       "<Figure size 640x480 with 1 Axes>"
      ]
     },
     "metadata": {},
     "output_type": "display_data"
    }
   ],
   "source": [
    "sns.countplot(x='Sex',data=df, hue='Survived', stat='percent')"
>>>>>>> upstream/main
   ]
  },
  {
   "cell_type": "code",
   "execution_count": 20,
   "metadata": {},
   "outputs": [
    {
<<<<<<< HEAD
     "name": "stdout",
     "output_type": "stream",
     "text": [
      "Porcentaje de embarque por clase y puerto:\n",
      "Pclass  Embarked\n",
      "1       C           39.351852\n",
      "        Q            0.925926\n",
      "        S           58.796296\n",
      "2       C            9.239130\n",
      "        Q            1.630435\n",
      "        S           89.130435\n",
      "3       C           13.441955\n",
      "        Q           14.663951\n",
      "        S           71.894094\n",
      "dtype: float64\n"
     ]
    }
   ],
   "source": [
    "# Agrupar por clase y puerto de embarque y calcular el recuento de pasajeros\n",
    "count_by_class_and_embarked = df.groupby(['Pclass', 'Embarked']).size()\n",
    "\n",
    "# Calcular el total de pasajeros por clase\n",
    "total_passengers_by_class = df.groupby('Pclass').size()\n",
    "\n",
    "# Calcular el porcentaje de embarque por clase\n",
    "percentage_embarked_by_class = (count_by_class_and_embarked / total_passengers_by_class) * 100\n",
    "\n",
    "print(\"Porcentaje de embarque por clase y puerto:\")\n",
    "print(percentage_embarked_by_class)\n"
=======
     "data": {
      "text/plain": [
       "<Axes: xlabel='Fare', ylabel='Count'>"
      ]
     },
     "execution_count": 20,
     "metadata": {},
     "output_type": "execute_result"
    },
    {
     "data": {
      "image/png": "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",
      "text/plain": [
       "<Figure size 640x480 with 1 Axes>"
      ]
     },
     "metadata": {},
     "output_type": "display_data"
    }
   ],
   "source": [
    "sns.histplot(x='Fare',data=df, hue='Survived', kde=True)"
>>>>>>> upstream/main
   ]
  },
  {
   "cell_type": "code",
   "execution_count": 21,
   "metadata": {},
   "outputs": [
    {
     "data": {
      "text/plain": [
<<<<<<< HEAD
       "<Axes: xlabel='Pclass', ylabel='Survived'>"
=======
       "<Axes: xlabel='Survived', ylabel='count'>"
>>>>>>> upstream/main
      ]
     },
     "execution_count": 21,
     "metadata": {},
     "output_type": "execute_result"
    },
    {
     "data": {
<<<<<<< HEAD
      "image/png": "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",
=======
      "image/png": "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",
>>>>>>> upstream/main
      "text/plain": [
       "<Figure size 640x480 with 1 Axes>"
      ]
     },
     "metadata": {},
     "output_type": "display_data"
    }
   ],
   "source": [
<<<<<<< HEAD
    "sns.violinplot(data=df, x='Pclass', y ='Survived', hue=\"Sex\")"
   ]
  },
  {
   "cell_type": "code",
   "execution_count": 22,
   "metadata": {},
   "outputs": [
    {
     "data": {
      "text/plain": [
       "<Axes: xlabel='Fare', ylabel='Age'>"
      ]
     },
     "execution_count": 22,
     "metadata": {},
     "output_type": "execute_result"
    },
    {
     "data": {
      "image/png": "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",
      "text/plain": [
       "<Figure size 640x480 with 1 Axes>"
      ]
     },
     "metadata": {},
     "output_type": "display_data"
    }
   ],
   "source": [
    "sns.scatterplot(data=df, x='Fare', y='Age')"
=======
    "sns.countplot(x='Survived',data=df, hue='Embarked')"
>>>>>>> upstream/main
   ]
  },
  {
   "cell_type": "markdown",
   "metadata": {},
   "source": [
    "# Tratamiento de missing y valores atípicos"
   ]
  },
  {
   "cell_type": "code",
<<<<<<< HEAD
   "execution_count": 36,
   "metadata": {},
   "outputs": [],
   "source": [
    "df = titanic.copy()"
=======
   "execution_count": 22,
   "metadata": {},
   "outputs": [
    {
     "data": {
      "text/plain": [
       "Index(['Survived', 'Pclass', 'Name', 'Sex', 'Age', 'SibSp', 'Parch', 'Ticket',\n",
       "       'Fare', 'Cabin', 'Embarked'],\n",
       "      dtype='object')"
      ]
     },
     "execution_count": 22,
     "metadata": {},
     "output_type": "execute_result"
    }
   ],
   "source": [
    "df.columns"
   ]
  },
  {
   "cell_type": "code",
   "execution_count": 23,
   "metadata": {},
   "outputs": [],
   "source": [
    "df.drop(columns=['Ticket', 'Cabin'], inplace=True)"
>>>>>>> upstream/main
   ]
  },
  {
   "cell_type": "code",
<<<<<<< HEAD
   "execution_count": 37,
   "metadata": {},
   "outputs": [],
   "source": [
    "df.drop(columns=['Cabin', 'Ticket'], inplace=True) # No tiene sentido rellenar la cabina y el ticket"
   ]
  },
  {
   "cell_type": "code",
   "execution_count": 38,
   "metadata": {},
   "outputs": [
    {
     "data": {
      "text/html": [
       "<div>\n",
       "<style scoped>\n",
       "    .dataframe tbody tr th:only-of-type {\n",
       "        vertical-align: middle;\n",
       "    }\n",
       "\n",
       "    .dataframe tbody tr th {\n",
       "        vertical-align: top;\n",
       "    }\n",
       "\n",
       "    .dataframe thead th {\n",
       "        text-align: right;\n",
       "    }\n",
       "</style>\n",
       "<table border=\"1\" class=\"dataframe\">\n",
       "  <thead>\n",
       "    <tr style=\"text-align: right;\">\n",
       "      <th></th>\n",
       "      <th>Survived</th>\n",
       "      <th>Pclass</th>\n",
       "      <th>Name</th>\n",
       "      <th>Sex</th>\n",
       "      <th>Age</th>\n",
       "      <th>SibSp</th>\n",
       "      <th>Parch</th>\n",
       "      <th>Fare</th>\n",
       "      <th>Embarked</th>\n",
       "    </tr>\n",
       "    <tr>\n",
       "      <th>PassengerId</th>\n",
       "      <th></th>\n",
       "      <th></th>\n",
       "      <th></th>\n",
       "      <th></th>\n",
       "      <th></th>\n",
       "      <th></th>\n",
       "      <th></th>\n",
       "      <th></th>\n",
       "      <th></th>\n",
       "    </tr>\n",
       "  </thead>\n",
       "  <tbody>\n",
       "    <tr>\n",
       "      <th>62</th>\n",
       "      <td>1</td>\n",
       "      <td>1</td>\n",
       "      <td>Icard, Miss. Amelie</td>\n",
       "      <td>female</td>\n",
       "      <td>38.0</td>\n",
       "      <td>0</td>\n",
       "      <td>0</td>\n",
       "      <td>80.0</td>\n",
       "      <td>NaN</td>\n",
       "    </tr>\n",
       "    <tr>\n",
       "      <th>830</th>\n",
       "      <td>1</td>\n",
       "      <td>1</td>\n",
       "      <td>Stone, Mrs. George Nelson (Martha Evelyn)</td>\n",
       "      <td>female</td>\n",
       "      <td>62.0</td>\n",
       "      <td>0</td>\n",
       "      <td>0</td>\n",
       "      <td>80.0</td>\n",
       "      <td>NaN</td>\n",
       "    </tr>\n",
       "  </tbody>\n",
       "</table>\n",
       "</div>"
      ],
      "text/plain": [
       "             Survived  Pclass                                       Name  \\\n",
       "PassengerId                                                                \n",
       "62                  1       1                        Icard, Miss. Amelie   \n",
       "830                 1       1  Stone, Mrs. George Nelson (Martha Evelyn)   \n",
       "\n",
       "                Sex   Age  SibSp  Parch  Fare Embarked  \n",
       "PassengerId                                             \n",
       "62           female  38.0      0      0  80.0      NaN  \n",
       "830          female  62.0      0      0  80.0      NaN  "
      ]
     },
     "execution_count": 38,
     "metadata": {},
     "output_type": "execute_result"
    }
   ],
   "source": [
    "df[df['Embarked'].isna()] # -> Pclass = 1 por ende la moda que es S, no sería lo ideal. Luego el Fare, como podemos apreciar"
   ]
  },
  {
   "cell_type": "code",
   "execution_count": 39,
   "metadata": {},
   "outputs": [],
   "source": [
    "df['Embarked'].fillna(df['Embarked'].mode()[0],inplace=True) # Lo llenamos con la métrica central MODA"
   ]
  },
  {
   "cell_type": "code",
   "execution_count": 40,
   "metadata": {},
   "outputs": [],
   "source": [
    "import math\n",
    "df_female = df[df['Sex'] == 'female'] # Según si era niña o mujer rellenamos con la media\n",
    "df_male = df[df['Sex'] == 'male']\n",
    "\n",
    "df_male['Age'].fillna(math.floor( df_male[df_male['Name'].str.contains('Master')]['Age'].mean() ), inplace=True)\n",
    "df_male['Age'].fillna(math.floor( df_male[( (df_male['Name'].str.contains('Mr.')) & (df_male['Sex'] == 'male') )]['Age'].mean() ), inplace=True)\n",
    "\n",
    "df_female['Age'].fillna(math.floor( df_female[df_female['Name'].str.contains('Miss')]['Age'].mean() ), inplace=True)\n",
    "df_female['Age'].fillna(math.floor( df_female[( (df_female['Name'].str.contains('Mrs.'))  &  (df_female['Sex'] == 'female') )]['Age'].mean() ), inplace=True)\n",
    "\n",
    "df = pd.concat((df_male, df_female))"
   ]
  },
  {
   "cell_type": "code",
   "execution_count": 28,
=======
   "execution_count": 24,
>>>>>>> upstream/main
   "metadata": {},
   "outputs": [
    {
     "data": {
      "text/plain": [
<<<<<<< HEAD
       "0"
      ]
     },
     "execution_count": 28,
     "metadata": {},
     "output_type": "execute_result"
    }
   ],
   "source": [
    "df.duplicated().sum()"
   ]
  },
  {
   "cell_type": "code",
   "execution_count": 29,
   "metadata": {},
   "outputs": [
    {
     "data": {
      "text/plain": [
       "(891, 9)"
      ]
     },
     "execution_count": 29,
     "metadata": {},
     "output_type": "execute_result"
    }
   ],
   "source": [
    "df.shape"
   ]
  },
  {
   "cell_type": "code",
   "execution_count": 41,
   "metadata": {},
   "outputs": [
    {
     "data": {
      "text/plain": [
       "Survived    0\n",
       "Pclass      0\n",
       "Name        0\n",
       "Sex         0\n",
       "Age         0\n",
       "SibSp       0\n",
       "Parch       0\n",
       "Fare        0\n",
       "Embarked    0\n",
       "dtype: int64"
      ]
     },
     "execution_count": 41,
=======
       "Survived      0\n",
       "Pclass        0\n",
       "Name          0\n",
       "Sex           0\n",
       "Age         177\n",
       "SibSp         0\n",
       "Parch         0\n",
       "Fare          0\n",
       "Embarked      2\n",
       "dtype: int64"
      ]
     },
     "execution_count": 24,
     "metadata": {},
     "output_type": "execute_result"
    }
   ],
   "source": [
    "df.isna().sum()"
   ]
  },
  {
   "cell_type": "code",
   "execution_count": 25,
   "metadata": {},
   "outputs": [
    {
     "data": {
      "text/plain": [
       "array(['male', 'female'], dtype=object)"
      ]
     },
     "execution_count": 25,
     "metadata": {},
     "output_type": "execute_result"
    }
   ],
   "source": [
    "df.Sex.unique()"
   ]
  },
  {
   "cell_type": "code",
   "execution_count": 26,
   "metadata": {},
   "outputs": [],
   "source": [
    "df['Embarked'].fillna(df['Embarked'].mode()[0], inplace=True)"
   ]
  },
  {
   "cell_type": "code",
   "execution_count": 27,
   "metadata": {},
   "outputs": [
    {
     "data": {
      "text/plain": [
       "Survived      0\n",
       "Pclass        0\n",
       "Name          0\n",
       "Sex           0\n",
       "Age         177\n",
       "SibSp         0\n",
       "Parch         0\n",
       "Fare          0\n",
       "Embarked      0\n",
       "dtype: int64"
      ]
     },
     "execution_count": 27,
>>>>>>> upstream/main
     "metadata": {},
     "output_type": "execute_result"
    }
   ],
   "source": [
    "df.isna().sum()"
   ]
  },
  {
   "cell_type": "markdown",
   "metadata": {},
   "source": [
    "# Feature Engineer"
   ]
  },
  {
   "cell_type": "code",
<<<<<<< HEAD
   "execution_count": 31,
   "metadata": {},
   "outputs": [],
   "source": [
    "# # Creación de columnas\n",
    "# # Una idea (SibSp - Parch) si es mayor a 1, el pasajero fue acompañado. \n",
    "# df['FamilySize'] = np.where(df['SibSp'] + df['Parch'] >= 1, 1, 0)\n",
    "# # Crear una columna adicional, adult@/niñ@\n",
    "# # df['Persona'] = np.where(df['Age'] <= 14, 'niño/a', 'adulto/a')\n",
    "# df['Persona'] = np.where((df['Age'] <= 14) & (df['Sex'] == 'female'), 'niña', \n",
    "#                 np.where((df['Age'] > 14) & (df['Sex'] == 'female'), 'mujer', \n",
    "#                     np.where(df['Age'] <= 14, 'niño', 'hombre')))\n",
    "# df.head(3)"
=======
   "execution_count": 28,
   "metadata": {},
   "outputs": [],
   "source": [
    "df[\"Acompaniantes\"] = df[\"SibSp\"] + df[\"Parch\"]\n",
    "df['Acompaniantes'] = np.where(df['Acompaniantes'] > 0, 1, 0)\n",
    "df.drop(columns=[\"SibSp\", \"Parch\"], inplace=True)"
   ]
  },
  {
   "cell_type": "code",
   "execution_count": 29,
   "metadata": {},
   "outputs": [],
   "source": [
    "def clasificar_nombre(nombre):\n",
    "    if ', Master.' in nombre:\n",
    "        return 'kids'\n",
    "    elif ', Miss.' in nombre:\n",
    "        return 'miss'\n",
    "    else:\n",
    "        return 'adults'\n",
    "\n",
    "df['Rango_edad'] = df['Name'].apply(clasificar_nombre)\n",
    "\n",
    "mean_male = df[df['Sex'] == 'male']['Age'].mean()\n",
    "mean_female = df[df['Sex'] == 'female']['Age'].mean()\n",
    "mean_kids = df[df['Rango_edad'] == 'kids']['Age'].mean()\n",
    "mean_miss = df[df['Rango_edad'] == 'miss']['Age'].mean()\n",
    "\n",
    "is_male = df['Sex'] == 'male'\n",
    "is_female = df['Sex'] == 'female'\n",
    "is_kids = df['Rango_edad'] == 'kids'\n",
    "is_miss = df['Rango_edad'] == 'miss'\n",
    "\n",
    "is_nan = df['Age'].isna()\n",
    "\n",
    "df.loc[is_male & is_nan, 'Age'] = mean_male\n",
    "df.loc[is_female & is_nan, 'Age'] = mean_female\n",
    "df.loc[is_kids & is_nan, 'Age'] = mean_kids\n",
    "df.loc[is_miss & is_nan, 'Age'] = mean_miss\n",
    "\n",
    "df.drop(columns=['Rango_edad','Name'], inplace=True)"
   ]
  },
  {
   "cell_type": "code",
   "execution_count": 31,
   "metadata": {},
   "outputs": [],
   "source": [
    "df['Sex'].replace(['male', 'female'], [1, 0], inplace=True)\n",
    "df.rename(columns={'Sex':'is_male'}, inplace=True)"
   ]
  },
  {
   "cell_type": "code",
   "execution_count": 32,
   "metadata": {},
   "outputs": [
    {
     "data": {
      "text/plain": [
       "Index(['Survived', 'Pclass', 'is_male', 'Age', 'Fare', 'Embarked',\n",
       "       'Acompaniantes'],\n",
       "      dtype='object')"
      ]
     },
     "execution_count": 32,
     "metadata": {},
     "output_type": "execute_result"
    }
   ],
   "source": [
    "df.columns"
>>>>>>> upstream/main
   ]
  },
  {
   "cell_type": "markdown",
   "metadata": {},
   "source": [
    "# Modelo 1"
   ]
  },
  {
<<<<<<< HEAD
=======
   "cell_type": "code",
   "execution_count": 33,
   "metadata": {},
   "outputs": [],
   "source": [
    "X_train, X_test, y_train, y_test = train_test_split(df.drop(columns=['Survived']), df['Survived'], test_size=0.2, random_state=73)"
   ]
  },
  {
   "cell_type": "code",
   "execution_count": 34,
   "metadata": {},
   "outputs": [
    {
     "name": "stdout",
     "output_type": "stream",
     "text": [
      "(712, 6)\n",
      "(179, 6)\n",
      "(712,)\n",
      "(179,)\n"
     ]
    }
   ],
   "source": [
    "print(X_train.shape)\n",
    "print(X_test.shape)\n",
    "print(y_train.shape)\n",
    "print(y_test.shape)"
   ]
  },
  {
   "cell_type": "code",
   "execution_count": 35,
   "metadata": {},
   "outputs": [
    {
     "data": {
      "text/html": [
       "<div>\n",
       "<style scoped>\n",
       "    .dataframe tbody tr th:only-of-type {\n",
       "        vertical-align: middle;\n",
       "    }\n",
       "\n",
       "    .dataframe tbody tr th {\n",
       "        vertical-align: top;\n",
       "    }\n",
       "\n",
       "    .dataframe thead th {\n",
       "        text-align: right;\n",
       "    }\n",
       "</style>\n",
       "<table border=\"1\" class=\"dataframe\">\n",
       "  <thead>\n",
       "    <tr style=\"text-align: right;\">\n",
       "      <th></th>\n",
       "      <th>Pclass</th>\n",
       "      <th>is_male</th>\n",
       "      <th>Age</th>\n",
       "      <th>Fare</th>\n",
       "      <th>Embarked</th>\n",
       "      <th>Acompaniantes</th>\n",
       "    </tr>\n",
       "    <tr>\n",
       "      <th>PassengerId</th>\n",
       "      <th></th>\n",
       "      <th></th>\n",
       "      <th></th>\n",
       "      <th></th>\n",
       "      <th></th>\n",
       "      <th></th>\n",
       "    </tr>\n",
       "  </thead>\n",
       "  <tbody>\n",
       "    <tr>\n",
       "      <th>801</th>\n",
       "      <td>2</td>\n",
       "      <td>1</td>\n",
       "      <td>34.0</td>\n",
       "      <td>13.0000</td>\n",
       "      <td>S</td>\n",
       "      <td>0</td>\n",
       "    </tr>\n",
       "    <tr>\n",
       "      <th>381</th>\n",
       "      <td>1</td>\n",
       "      <td>0</td>\n",
       "      <td>42.0</td>\n",
       "      <td>227.5250</td>\n",
       "      <td>C</td>\n",
       "      <td>0</td>\n",
       "    </tr>\n",
       "    <tr>\n",
       "      <th>705</th>\n",
       "      <td>3</td>\n",
       "      <td>1</td>\n",
       "      <td>26.0</td>\n",
       "      <td>7.8542</td>\n",
       "      <td>S</td>\n",
       "      <td>1</td>\n",
       "    </tr>\n",
       "    <tr>\n",
       "      <th>683</th>\n",
       "      <td>3</td>\n",
       "      <td>1</td>\n",
       "      <td>20.0</td>\n",
       "      <td>9.2250</td>\n",
       "      <td>S</td>\n",
       "      <td>0</td>\n",
       "    </tr>\n",
       "    <tr>\n",
       "      <th>514</th>\n",
       "      <td>1</td>\n",
       "      <td>0</td>\n",
       "      <td>54.0</td>\n",
       "      <td>59.4000</td>\n",
       "      <td>C</td>\n",
       "      <td>1</td>\n",
       "    </tr>\n",
       "    <tr>\n",
       "      <th>...</th>\n",
       "      <td>...</td>\n",
       "      <td>...</td>\n",
       "      <td>...</td>\n",
       "      <td>...</td>\n",
       "      <td>...</td>\n",
       "      <td>...</td>\n",
       "    </tr>\n",
       "    <tr>\n",
       "      <th>324</th>\n",
       "      <td>2</td>\n",
       "      <td>0</td>\n",
       "      <td>22.0</td>\n",
       "      <td>29.0000</td>\n",
       "      <td>S</td>\n",
       "      <td>1</td>\n",
       "    </tr>\n",
       "    <tr>\n",
       "      <th>393</th>\n",
       "      <td>3</td>\n",
       "      <td>1</td>\n",
       "      <td>28.0</td>\n",
       "      <td>7.9250</td>\n",
       "      <td>S</td>\n",
       "      <td>1</td>\n",
       "    </tr>\n",
       "    <tr>\n",
       "      <th>785</th>\n",
       "      <td>3</td>\n",
       "      <td>1</td>\n",
       "      <td>25.0</td>\n",
       "      <td>7.0500</td>\n",
       "      <td>S</td>\n",
       "      <td>0</td>\n",
       "    </tr>\n",
       "    <tr>\n",
       "      <th>395</th>\n",
       "      <td>3</td>\n",
       "      <td>0</td>\n",
       "      <td>24.0</td>\n",
       "      <td>16.7000</td>\n",
       "      <td>S</td>\n",
       "      <td>1</td>\n",
       "    </tr>\n",
       "    <tr>\n",
       "      <th>147</th>\n",
       "      <td>3</td>\n",
       "      <td>1</td>\n",
       "      <td>27.0</td>\n",
       "      <td>7.7958</td>\n",
       "      <td>S</td>\n",
       "      <td>0</td>\n",
       "    </tr>\n",
       "  </tbody>\n",
       "</table>\n",
       "<p>712 rows × 6 columns</p>\n",
       "</div>"
      ],
      "text/plain": [
       "             Pclass  is_male   Age      Fare Embarked  Acompaniantes\n",
       "PassengerId                                                         \n",
       "801               2        1  34.0   13.0000        S              0\n",
       "381               1        0  42.0  227.5250        C              0\n",
       "705               3        1  26.0    7.8542        S              1\n",
       "683               3        1  20.0    9.2250        S              0\n",
       "514               1        0  54.0   59.4000        C              1\n",
       "...             ...      ...   ...       ...      ...            ...\n",
       "324               2        0  22.0   29.0000        S              1\n",
       "393               3        1  28.0    7.9250        S              1\n",
       "785               3        1  25.0    7.0500        S              0\n",
       "395               3        0  24.0   16.7000        S              1\n",
       "147               3        1  27.0    7.7958        S              0\n",
       "\n",
       "[712 rows x 6 columns]"
      ]
     },
     "execution_count": 35,
     "metadata": {},
     "output_type": "execute_result"
    }
   ],
   "source": [
    "X_train"
   ]
  },
  {
>>>>>>> upstream/main
   "cell_type": "markdown",
   "metadata": {},
   "source": [
    "## División de Datos"
   ]
  },
  {
   "cell_type": "code",
<<<<<<< HEAD
   "execution_count": 32,
   "metadata": {},
   "outputs": [],
   "source": [
    "# Creación de columnas\n",
    "# Una idea (SibSp - Parch) si es mayor a 1, el pasajero fue acompañado. \n",
    "df['FamilySize'] = np.where(df['SibSp'] + df['Parch'] >= 1, 1, 0)\n",
    "# Crear una columna adicional, adult@/niñ@\n",
    "df['Persona'] = np.where(df['Age'] <= 14, 'niño/a', 'adulto/a')\n",
    "# df['Persona'] = np.where((df['Age'] <= 14) & (df['Sex'] == 'female'), 'niña', \n",
    "#                 np.where((df['Age'] > 14) & (df['Sex'] == 'female'), 'mujer', \n",
    "#                     np.where(df['Age'] <= 14, 'niño', 'hombre')))\n",
    "# df.head(3)"
=======
   "execution_count": 36,
   "metadata": {},
   "outputs": [
    {
     "data": {
      "text/plain": [
       "Index(['Pclass', 'is_male', 'Age', 'Fare', 'Embarked', 'Acompaniantes'], dtype='object')"
      ]
     },
     "execution_count": 36,
     "metadata": {},
     "output_type": "execute_result"
    }
   ],
   "source": [
    "X_train.columns"
>>>>>>> upstream/main
   ]
  },
  {
   "cell_type": "code",
<<<<<<< HEAD
   "execution_count": 33,
   "metadata": {},
   "outputs": [],
   "source": [
    "mapeo = {'male': 0, 'female' : 1}\n",
    "df['Sex'] = df['Sex'].map(mapeo)\n",
    "\n",
    "mapeo = {'niño/a': 0, 'adulto/a' : 1}\n",
    "df['Persona'] = df['Persona'].map(mapeo)"
   ]
  },
  {
   "cell_type": "code",
   "execution_count": 34,
   "metadata": {},
   "outputs": [],
   "source": [
    "X_1 = df.drop(columns=['Name','SibSp','Parch','Survived', 'Age'])\n",
    "y_1 = df['Survived']\n",
    "\n",
    "x_train_1, x_test_1, y_train_1, y_test_1 = train_test_split(X_1, y_1, test_size=0.2, random_state=24)"
=======
   "execution_count": 39,
   "metadata": {},
   "outputs": [
    {
     "name": "stderr",
     "output_type": "stream",
     "text": [
      "c:\\Users\\jamr1\\Documents\\Data_Science\\GITHUB\\DS_PT_09_2023\\.venv\\Lib\\site-packages\\sklearn\\preprocessing\\_encoders.py:975: FutureWarning: `sparse` was renamed to `sparse_output` in version 1.2 and will be removed in 1.4. `sparse_output` is ignored unless you leave `sparse` to its default value.\n",
      "  warnings.warn(\n"
     ]
    }
   ],
   "source": [
    "X_train['Fare'] = np.log(X_train['Fare']+1)\n",
    "X_test['Fare'] = np.log(X_test['Fare']+1)\n",
    "\n",
    "esc = MinMaxScaler()\n",
    "X_train[['Age', 'Fare']] = esc.fit_transform(X_train[['Age', 'Fare']])\n",
    "X_test[['Age', 'Fare']] = esc.transform(X_test[['Age', 'Fare']])\n",
    "\n",
    "ohe = OneHotEncoder(sparse=False, handle_unknown='ignore')\n",
    "\n",
    "ohe.fit(X_train[['Pclass','Embarked']])\n",
    "\n",
    "transformed_X_train = ohe.transform(X_train[['Pclass','Embarked']])\n",
    "transformed_df = pd.DataFrame(transformed_X_train, columns=ohe.get_feature_names_out(['Pclass','Embarked']), index=X_train.index)\n",
    "X_train_sca_ohe = pd.concat([X_train, transformed_df], axis=1).drop(columns=['Pclass','Embarked'])\n",
    "\n",
    "transformed_X_val = ohe.transform(X_test[['Pclass','Embarked']])\n",
    "transformed_df = pd.DataFrame(transformed_X_val, columns=ohe.get_feature_names_out(['Pclass','Embarked']), index=X_test.index)\n",
    "X_test_sca_ohe = pd.concat([X_test, transformed_df], axis=1).drop(columns=['Pclass','Embarked'])\n"
>>>>>>> upstream/main
   ]
  },
  {
   "cell_type": "markdown",
   "metadata": {},
   "source": [
    "## Escalado + Dummies"
   ]
  },
  {
   "cell_type": "code",
<<<<<<< HEAD
   "execution_count": 35,
   "metadata": {},
   "outputs": [],
   "source": [
    "OHE = OneHotEncoder(sparse=False, handle_unknown='ignore')\n",
    "OHE.fit(x_train_1[['Embarked', 'Pclass']])\n",
    "OHE.fit(x_test_1[['Embarked', 'Pclass']])\n",
    "\n",
    "transformed_x_test_1 = OHE.transform(x_test_1[['Embarked', 'Pclass']])\n",
    "transformed_x_train_1 = OHE.transform(x_train_1[['Embarked', 'Pclass']])\n",
    "\n",
    "transformed_x_test_1 = pd.DataFrame(transformed_x_test_1, columns=OHE.get_feature_names_out(['Embarked', 'Pclass']), index=x_test_1.index)\n",
    "transformed_x_train_1 = pd.DataFrame(transformed_x_train_1, columns=OHE.get_feature_names_out(['Embarked', 'Pclass']), index=x_train_1.index)"
   ]
  },
  {
   "cell_type": "code",
   "execution_count": 36,
   "metadata": {},
   "outputs": [],
   "source": [
    "x_train_1 = pd.concat((x_train_1, transformed_x_train_1), axis=1)\n",
    "x_test_1 = pd.concat((x_test_1, transformed_x_test_1), axis=1)"
   ]
  },
  {
   "cell_type": "code",
   "execution_count": 37,
   "metadata": {},
   "outputs": [],
   "source": [
    "x_train_1.drop(columns=['Embarked', 'Pclass'], inplace=True)\n",
    "x_test_1.drop(columns=['Embarked', 'Pclass'], inplace=True)"
   ]
  },
  {
   "cell_type": "code",
   "execution_count": 38,
   "metadata": {},
=======
   "execution_count": 44,
   "metadata": {},
>>>>>>> upstream/main
   "outputs": [
    {
     "data": {
      "text/html": [
       "<div>\n",
       "<style scoped>\n",
       "    .dataframe tbody tr th:only-of-type {\n",
       "        vertical-align: middle;\n",
       "    }\n",
       "\n",
       "    .dataframe tbody tr th {\n",
       "        vertical-align: top;\n",
       "    }\n",
       "\n",
       "    .dataframe thead th {\n",
       "        text-align: right;\n",
       "    }\n",
       "</style>\n",
       "<table border=\"1\" class=\"dataframe\">\n",
       "  <thead>\n",
       "    <tr style=\"text-align: right;\">\n",
       "      <th></th>\n",
<<<<<<< HEAD
       "      <th>Sex</th>\n",
       "      <th>Fare</th>\n",
       "      <th>FamilySize</th>\n",
       "      <th>Persona</th>\n",
       "      <th>Embarked_C</th>\n",
       "      <th>Embarked_Q</th>\n",
       "      <th>Embarked_S</th>\n",
       "      <th>Pclass_1</th>\n",
       "      <th>Pclass_2</th>\n",
       "      <th>Pclass_3</th>\n",
       "    </tr>\n",
       "    <tr>\n",
       "      <th>PassengerId</th>\n",
       "      <th></th>\n",
       "      <th></th>\n",
       "      <th></th>\n",
       "      <th></th>\n",
       "      <th></th>\n",
       "      <th></th>\n",
       "      <th></th>\n",
       "      <th></th>\n",
       "      <th></th>\n",
       "      <th></th>\n",
=======
       "      <th>0</th>\n",
>>>>>>> upstream/main
       "    </tr>\n",
       "  </thead>\n",
       "  <tbody>\n",
       "    <tr>\n",
<<<<<<< HEAD
       "      <th>111</th>\n",
       "      <td>0</td>\n",
       "      <td>52.0000</td>\n",
       "      <td>0</td>\n",
       "      <td>1</td>\n",
       "      <td>0.0</td>\n",
       "      <td>0.0</td>\n",
       "      <td>1.0</td>\n",
       "      <td>1.0</td>\n",
       "      <td>0.0</td>\n",
       "      <td>0.0</td>\n",
       "    </tr>\n",
       "    <tr>\n",
       "      <th>517</th>\n",
       "      <td>1</td>\n",
       "      <td>10.5000</td>\n",
       "      <td>0</td>\n",
       "      <td>1</td>\n",
       "      <td>0.0</td>\n",
       "      <td>0.0</td>\n",
       "      <td>1.0</td>\n",
       "      <td>0.0</td>\n",
       "      <td>1.0</td>\n",
       "      <td>0.0</td>\n",
       "    </tr>\n",
       "    <tr>\n",
       "      <th>382</th>\n",
       "      <td>1</td>\n",
       "      <td>15.7417</td>\n",
       "      <td>1</td>\n",
       "      <td>0</td>\n",
       "      <td>1.0</td>\n",
       "      <td>0.0</td>\n",
       "      <td>0.0</td>\n",
       "      <td>0.0</td>\n",
       "      <td>0.0</td>\n",
       "      <td>1.0</td>\n",
       "    </tr>\n",
       "    <tr>\n",
       "      <th>150</th>\n",
       "      <td>0</td>\n",
       "      <td>13.0000</td>\n",
       "      <td>0</td>\n",
       "      <td>1</td>\n",
       "      <td>0.0</td>\n",
       "      <td>0.0</td>\n",
       "      <td>1.0</td>\n",
       "      <td>0.0</td>\n",
       "      <td>1.0</td>\n",
       "      <td>0.0</td>\n",
       "    </tr>\n",
       "    <tr>\n",
       "      <th>185</th>\n",
       "      <td>1</td>\n",
       "      <td>22.0250</td>\n",
       "      <td>1</td>\n",
       "      <td>0</td>\n",
       "      <td>0.0</td>\n",
       "      <td>0.0</td>\n",
       "      <td>1.0</td>\n",
       "      <td>0.0</td>\n",
       "      <td>0.0</td>\n",
       "      <td>1.0</td>\n",
       "    </tr>\n",
       "    <tr>\n",
       "      <th>...</th>\n",
       "      <td>...</td>\n",
       "      <td>...</td>\n",
       "      <td>...</td>\n",
       "      <td>...</td>\n",
       "      <td>...</td>\n",
       "      <td>...</td>\n",
       "      <td>...</td>\n",
       "      <td>...</td>\n",
       "      <td>...</td>\n",
       "      <td>...</td>\n",
       "    </tr>\n",
       "    <tr>\n",
       "      <th>223</th>\n",
       "      <td>0</td>\n",
       "      <td>8.0500</td>\n",
       "      <td>0</td>\n",
       "      <td>1</td>\n",
       "      <td>0.0</td>\n",
       "      <td>0.0</td>\n",
       "      <td>1.0</td>\n",
       "      <td>0.0</td>\n",
       "      <td>0.0</td>\n",
       "      <td>1.0</td>\n",
       "    </tr>\n",
       "    <tr>\n",
       "      <th>634</th>\n",
       "      <td>0</td>\n",
       "      <td>0.0000</td>\n",
       "      <td>0</td>\n",
       "      <td>0</td>\n",
       "      <td>0.0</td>\n",
       "      <td>0.0</td>\n",
       "      <td>1.0</td>\n",
       "      <td>1.0</td>\n",
       "      <td>0.0</td>\n",
       "      <td>0.0</td>\n",
       "    </tr>\n",
       "    <tr>\n",
       "      <th>550</th>\n",
       "      <td>0</td>\n",
       "      <td>36.7500</td>\n",
       "      <td>1</td>\n",
       "      <td>0</td>\n",
       "      <td>0.0</td>\n",
       "      <td>0.0</td>\n",
       "      <td>1.0</td>\n",
       "      <td>0.0</td>\n",
       "      <td>1.0</td>\n",
       "      <td>0.0</td>\n",
       "    </tr>\n",
       "    <tr>\n",
       "      <th>299</th>\n",
       "      <td>0</td>\n",
       "      <td>30.5000</td>\n",
       "      <td>0</td>\n",
       "      <td>0</td>\n",
       "      <td>0.0</td>\n",
       "      <td>0.0</td>\n",
       "      <td>1.0</td>\n",
       "      <td>1.0</td>\n",
       "      <td>0.0</td>\n",
       "      <td>0.0</td>\n",
       "    </tr>\n",
       "    <tr>\n",
       "      <th>662</th>\n",
       "      <td>0</td>\n",
       "      <td>7.2250</td>\n",
       "      <td>0</td>\n",
       "      <td>1</td>\n",
       "      <td>1.0</td>\n",
       "      <td>0.0</td>\n",
       "      <td>0.0</td>\n",
       "      <td>0.0</td>\n",
       "      <td>0.0</td>\n",
       "      <td>1.0</td>\n",
       "    </tr>\n",
       "  </tbody>\n",
       "</table>\n",
       "<p>712 rows × 10 columns</p>\n",
       "</div>"
      ],
      "text/plain": [
       "             Sex     Fare  FamilySize  Persona  Embarked_C  Embarked_Q  \\\n",
       "PassengerId                                                              \n",
       "111            0  52.0000           0        1         0.0         0.0   \n",
       "517            1  10.5000           0        1         0.0         0.0   \n",
       "382            1  15.7417           1        0         1.0         0.0   \n",
       "150            0  13.0000           0        1         0.0         0.0   \n",
       "185            1  22.0250           1        0         0.0         0.0   \n",
       "...          ...      ...         ...      ...         ...         ...   \n",
       "223            0   8.0500           0        1         0.0         0.0   \n",
       "634            0   0.0000           0        0         0.0         0.0   \n",
       "550            0  36.7500           1        0         0.0         0.0   \n",
       "299            0  30.5000           0        0         0.0         0.0   \n",
       "662            0   7.2250           0        1         1.0         0.0   \n",
       "\n",
       "             Embarked_S  Pclass_1  Pclass_2  Pclass_3  \n",
       "PassengerId                                            \n",
       "111                 1.0       1.0       0.0       0.0  \n",
       "517                 1.0       0.0       1.0       0.0  \n",
       "382                 0.0       0.0       0.0       1.0  \n",
       "150                 1.0       0.0       1.0       0.0  \n",
       "185                 1.0       0.0       0.0       1.0  \n",
       "...                 ...       ...       ...       ...  \n",
       "223                 1.0       0.0       0.0       1.0  \n",
       "634                 1.0       1.0       0.0       0.0  \n",
       "550                 1.0       0.0       1.0       0.0  \n",
       "299                 1.0       1.0       0.0       0.0  \n",
       "662                 0.0       0.0       0.0       1.0  \n",
       "\n",
       "[712 rows x 10 columns]"
      ]
     },
     "execution_count": 38,
     "metadata": {},
     "output_type": "execute_result"
    }
   ],
   "source": [
    "x_train_1 # estandarizar Fare"
   ]
  },
  {
   "cell_type": "code",
   "execution_count": 39,
   "metadata": {},
   "outputs": [
    {
     "data": {
      "text/html": [
       "<div>\n",
       "<style scoped>\n",
       "    .dataframe tbody tr th:only-of-type {\n",
       "        vertical-align: middle;\n",
       "    }\n",
       "\n",
       "    .dataframe tbody tr th {\n",
       "        vertical-align: top;\n",
       "    }\n",
       "\n",
       "    .dataframe thead th {\n",
       "        text-align: right;\n",
       "    }\n",
       "</style>\n",
       "<table border=\"1\" class=\"dataframe\">\n",
       "  <thead>\n",
       "    <tr style=\"text-align: right;\">\n",
       "      <th></th>\n",
       "      <th>Sex</th>\n",
       "      <th>Fare</th>\n",
       "      <th>FamilySize</th>\n",
       "      <th>Persona</th>\n",
       "      <th>Embarked_C</th>\n",
       "      <th>Embarked_Q</th>\n",
       "      <th>Embarked_S</th>\n",
       "      <th>Pclass_1</th>\n",
       "      <th>Pclass_2</th>\n",
       "      <th>Pclass_3</th>\n",
       "    </tr>\n",
       "    <tr>\n",
       "      <th>PassengerId</th>\n",
       "      <th></th>\n",
       "      <th></th>\n",
       "      <th></th>\n",
       "      <th></th>\n",
       "      <th></th>\n",
       "      <th></th>\n",
       "      <th></th>\n",
       "      <th></th>\n",
       "      <th></th>\n",
       "      <th></th>\n",
       "    </tr>\n",
       "  </thead>\n",
       "  <tbody>\n",
       "    <tr>\n",
       "      <th>263</th>\n",
       "      <td>0</td>\n",
       "      <td>79.6500</td>\n",
       "      <td>1</td>\n",
       "      <td>1</td>\n",
       "      <td>0.0</td>\n",
       "      <td>0.0</td>\n",
       "      <td>1.0</td>\n",
       "      <td>1.0</td>\n",
       "      <td>0.0</td>\n",
       "      <td>0.0</td>\n",
       "    </tr>\n",
       "    <tr>\n",
       "      <th>852</th>\n",
       "      <td>0</td>\n",
       "      <td>7.7750</td>\n",
       "      <td>0</td>\n",
       "      <td>1</td>\n",
       "      <td>0.0</td>\n",
       "      <td>0.0</td>\n",
       "      <td>1.0</td>\n",
       "      <td>0.0</td>\n",
       "      <td>0.0</td>\n",
       "      <td>1.0</td>\n",
       "    </tr>\n",
       "    <tr>\n",
       "      <th>333</th>\n",
       "      <td>0</td>\n",
       "      <td>153.4625</td>\n",
       "      <td>1</td>\n",
       "      <td>1</td>\n",
       "      <td>0.0</td>\n",
       "      <td>0.0</td>\n",
       "      <td>1.0</td>\n",
       "      <td>1.0</td>\n",
       "      <td>0.0</td>\n",
       "      <td>0.0</td>\n",
       "    </tr>\n",
       "    <tr>\n",
       "      <th>117</th>\n",
       "      <td>0</td>\n",
       "      <td>7.7500</td>\n",
       "      <td>0</td>\n",
       "      <td>1</td>\n",
       "      <td>0.0</td>\n",
       "      <td>1.0</td>\n",
       "      <td>0.0</td>\n",
       "      <td>0.0</td>\n",
       "      <td>0.0</td>\n",
       "      <td>1.0</td>\n",
       "    </tr>\n",
       "    <tr>\n",
       "      <th>280</th>\n",
       "      <td>1</td>\n",
       "      <td>20.2500</td>\n",
       "      <td>1</td>\n",
       "      <td>1</td>\n",
       "      <td>0.0</td>\n",
       "      <td>0.0</td>\n",
       "      <td>1.0</td>\n",
       "      <td>0.0</td>\n",
       "      <td>0.0</td>\n",
       "      <td>1.0</td>\n",
       "    </tr>\n",
       "    <tr>\n",
       "      <th>...</th>\n",
       "      <td>...</td>\n",
       "      <td>...</td>\n",
       "      <td>...</td>\n",
       "      <td>...</td>\n",
       "      <td>...</td>\n",
       "      <td>...</td>\n",
       "      <td>...</td>\n",
       "      <td>...</td>\n",
       "      <td>...</td>\n",
       "      <td>...</td>\n",
       "    </tr>\n",
       "    <tr>\n",
       "      <th>14</th>\n",
       "      <td>0</td>\n",
       "      <td>31.2750</td>\n",
       "      <td>1</td>\n",
       "      <td>1</td>\n",
       "      <td>0.0</td>\n",
       "      <td>0.0</td>\n",
       "      <td>1.0</td>\n",
       "      <td>0.0</td>\n",
       "      <td>0.0</td>\n",
       "      <td>1.0</td>\n",
       "    </tr>\n",
       "    <tr>\n",
       "      <th>160</th>\n",
       "      <td>0</td>\n",
       "      <td>69.5500</td>\n",
       "      <td>1</td>\n",
       "      <td>0</td>\n",
       "      <td>0.0</td>\n",
       "      <td>0.0</td>\n",
       "      <td>1.0</td>\n",
       "      <td>0.0</td>\n",
       "      <td>0.0</td>\n",
       "      <td>1.0</td>\n",
       "    </tr>\n",
       "    <tr>\n",
       "      <th>527</th>\n",
       "      <td>1</td>\n",
       "      <td>10.5000</td>\n",
       "      <td>0</td>\n",
       "      <td>1</td>\n",
       "      <td>0.0</td>\n",
       "      <td>0.0</td>\n",
       "      <td>1.0</td>\n",
       "      <td>0.0</td>\n",
       "      <td>1.0</td>\n",
       "      <td>0.0</td>\n",
       "    </tr>\n",
       "    <tr>\n",
       "      <th>424</th>\n",
       "      <td>1</td>\n",
       "      <td>14.4000</td>\n",
       "      <td>1</td>\n",
       "      <td>1</td>\n",
       "      <td>0.0</td>\n",
       "      <td>0.0</td>\n",
       "      <td>1.0</td>\n",
       "      <td>0.0</td>\n",
       "      <td>0.0</td>\n",
       "      <td>1.0</td>\n",
       "    </tr>\n",
       "    <tr>\n",
       "      <th>230</th>\n",
       "      <td>1</td>\n",
       "      <td>25.4667</td>\n",
       "      <td>1</td>\n",
       "      <td>1</td>\n",
       "      <td>0.0</td>\n",
       "      <td>0.0</td>\n",
       "      <td>1.0</td>\n",
       "      <td>0.0</td>\n",
       "      <td>0.0</td>\n",
       "      <td>1.0</td>\n",
       "    </tr>\n",
       "  </tbody>\n",
       "</table>\n",
       "<p>179 rows × 10 columns</p>\n",
       "</div>"
      ],
      "text/plain": [
       "             Sex      Fare  FamilySize  Persona  Embarked_C  Embarked_Q  \\\n",
       "PassengerId                                                               \n",
       "263            0   79.6500           1        1         0.0         0.0   \n",
       "852            0    7.7750           0        1         0.0         0.0   \n",
       "333            0  153.4625           1        1         0.0         0.0   \n",
       "117            0    7.7500           0        1         0.0         1.0   \n",
       "280            1   20.2500           1        1         0.0         0.0   \n",
       "...          ...       ...         ...      ...         ...         ...   \n",
       "14             0   31.2750           1        1         0.0         0.0   \n",
       "160            0   69.5500           1        0         0.0         0.0   \n",
       "527            1   10.5000           0        1         0.0         0.0   \n",
       "424            1   14.4000           1        1         0.0         0.0   \n",
       "230            1   25.4667           1        1         0.0         0.0   \n",
       "\n",
       "             Embarked_S  Pclass_1  Pclass_2  Pclass_3  \n",
       "PassengerId                                            \n",
       "263                 1.0       1.0       0.0       0.0  \n",
       "852                 1.0       0.0       0.0       1.0  \n",
       "333                 1.0       1.0       0.0       0.0  \n",
       "117                 0.0       0.0       0.0       1.0  \n",
       "280                 1.0       0.0       0.0       1.0  \n",
       "...                 ...       ...       ...       ...  \n",
       "14                  1.0       0.0       0.0       1.0  \n",
       "160                 1.0       0.0       0.0       1.0  \n",
       "527                 1.0       0.0       1.0       0.0  \n",
       "424                 1.0       0.0       0.0       1.0  \n",
       "230                 1.0       0.0       0.0       1.0  \n",
       "\n",
       "[179 rows x 10 columns]"
      ]
     },
     "execution_count": 39,
     "metadata": {},
     "output_type": "execute_result"
    }
   ],
   "source": [
    "x_test_1"
   ]
  },
  {
   "cell_type": "code",
   "execution_count": 41,
   "metadata": {},
   "outputs": [],
   "source": [
    "# # Aplicando StandardScaler\n",
    "scaler = MinMaxScaler()\n",
    "x_train_1['Fare'] = scaler.fit_transform(x_train_1[['Fare']])\n",
    "# ------------------------------------\n",
    "#TEST_X\n",
    "x_test_1['Fare'] = scaler.transform(x_test_1[['Fare']])"
   ]
  },
  {
   "cell_type": "code",
   "execution_count": 42,
   "metadata": {},
   "outputs": [],
   "source": [
    "x_train_1['Persona'] = scaler.fit_transform(x_train_1[['Persona']])\n",
    "x_test_1['Persona'] = scaler.transform(x_test_1[['Persona']])"
   ]
  },
  {
   "cell_type": "code",
   "execution_count": 43,
   "metadata": {},
   "outputs": [
    {
     "data": {
      "text/html": [
       "<div>\n",
       "<style scoped>\n",
       "    .dataframe tbody tr th:only-of-type {\n",
       "        vertical-align: middle;\n",
       "    }\n",
       "\n",
       "    .dataframe tbody tr th {\n",
       "        vertical-align: top;\n",
       "    }\n",
       "\n",
       "    .dataframe thead th {\n",
       "        text-align: right;\n",
       "    }\n",
       "</style>\n",
       "<table border=\"1\" class=\"dataframe\">\n",
       "  <thead>\n",
       "    <tr style=\"text-align: right;\">\n",
       "      <th></th>\n",
       "      <th>Sex</th>\n",
       "      <th>Fare</th>\n",
       "      <th>FamilySize</th>\n",
       "      <th>Persona</th>\n",
       "      <th>Embarked_C</th>\n",
       "      <th>Embarked_Q</th>\n",
       "      <th>Embarked_S</th>\n",
       "      <th>Pclass_1</th>\n",
       "      <th>Pclass_2</th>\n",
       "      <th>Pclass_3</th>\n",
       "    </tr>\n",
       "  </thead>\n",
       "  <tbody>\n",
       "    <tr>\n",
       "      <th>count</th>\n",
       "      <td>712.000000</td>\n",
       "      <td>712.000000</td>\n",
       "      <td>712.000000</td>\n",
       "      <td>712.000000</td>\n",
       "      <td>712.000000</td>\n",
       "      <td>712.000000</td>\n",
       "      <td>712.000000</td>\n",
       "      <td>712.000000</td>\n",
       "      <td>712.000000</td>\n",
       "      <td>712.000000</td>\n",
       "    </tr>\n",
       "    <tr>\n",
       "      <th>mean</th>\n",
       "      <td>0.356742</td>\n",
       "      <td>0.063496</td>\n",
       "      <td>0.382022</td>\n",
       "      <td>0.773876</td>\n",
       "      <td>0.195225</td>\n",
       "      <td>0.089888</td>\n",
       "      <td>0.714888</td>\n",
       "      <td>0.254213</td>\n",
       "      <td>0.209270</td>\n",
       "      <td>0.536517</td>\n",
       "    </tr>\n",
       "    <tr>\n",
       "      <th>std</th>\n",
       "      <td>0.479374</td>\n",
       "      <td>0.100455</td>\n",
       "      <td>0.486224</td>\n",
       "      <td>0.418614</td>\n",
       "      <td>0.396652</td>\n",
       "      <td>0.286222</td>\n",
       "      <td>0.451785</td>\n",
       "      <td>0.435724</td>\n",
       "      <td>0.407073</td>\n",
       "      <td>0.499015</td>\n",
       "    </tr>\n",
       "    <tr>\n",
       "      <th>min</th>\n",
       "      <td>0.000000</td>\n",
       "      <td>0.000000</td>\n",
       "      <td>0.000000</td>\n",
       "      <td>0.000000</td>\n",
       "      <td>0.000000</td>\n",
       "      <td>0.000000</td>\n",
       "      <td>0.000000</td>\n",
       "      <td>0.000000</td>\n",
       "      <td>0.000000</td>\n",
       "      <td>0.000000</td>\n",
       "    </tr>\n",
       "    <tr>\n",
       "      <th>25%</th>\n",
       "      <td>0.000000</td>\n",
       "      <td>0.015469</td>\n",
       "      <td>0.000000</td>\n",
       "      <td>1.000000</td>\n",
       "      <td>0.000000</td>\n",
       "      <td>0.000000</td>\n",
       "      <td>0.000000</td>\n",
       "      <td>0.000000</td>\n",
       "      <td>0.000000</td>\n",
       "      <td>0.000000</td>\n",
       "    </tr>\n",
       "    <tr>\n",
       "      <th>50%</th>\n",
       "      <td>0.000000</td>\n",
       "      <td>0.028221</td>\n",
       "      <td>0.000000</td>\n",
       "      <td>1.000000</td>\n",
       "      <td>0.000000</td>\n",
       "      <td>0.000000</td>\n",
       "      <td>1.000000</td>\n",
       "      <td>0.000000</td>\n",
       "      <td>0.000000</td>\n",
       "      <td>1.000000</td>\n",
       "    </tr>\n",
       "    <tr>\n",
       "      <th>75%</th>\n",
       "      <td>1.000000</td>\n",
       "      <td>0.060508</td>\n",
       "      <td>1.000000</td>\n",
       "      <td>1.000000</td>\n",
       "      <td>0.000000</td>\n",
       "      <td>0.000000</td>\n",
       "      <td>1.000000</td>\n",
       "      <td>1.000000</td>\n",
       "      <td>0.000000</td>\n",
       "      <td>1.000000</td>\n",
       "    </tr>\n",
       "    <tr>\n",
       "      <th>max</th>\n",
       "      <td>1.000000</td>\n",
       "      <td>1.000000</td>\n",
       "      <td>1.000000</td>\n",
       "      <td>1.000000</td>\n",
       "      <td>1.000000</td>\n",
       "      <td>1.000000</td>\n",
       "      <td>1.000000</td>\n",
       "      <td>1.000000</td>\n",
       "      <td>1.000000</td>\n",
       "      <td>1.000000</td>\n",
=======
       "      <th>Logistic Regression_accuracy</th>\n",
       "      <td>0.783690</td>\n",
       "    </tr>\n",
       "    <tr>\n",
       "      <th>Logistic Regression_f1_macro</th>\n",
       "      <td>0.771432</td>\n",
       "    </tr>\n",
       "    <tr>\n",
       "      <th>Logistic Regression_recall_macro</th>\n",
       "      <td>0.770579</td>\n",
       "    </tr>\n",
       "    <tr>\n",
       "      <th>Logistic Regression_precision_macro</th>\n",
       "      <td>0.775339</td>\n",
       "    </tr>\n",
       "    <tr>\n",
       "      <th>Logistic Regression_roc_auc_ovr</th>\n",
       "      <td>0.844605</td>\n",
       "    </tr>\n",
       "    <tr>\n",
       "      <th>Decision Tree_accuracy</th>\n",
       "      <td>0.758446</td>\n",
       "    </tr>\n",
       "    <tr>\n",
       "      <th>Decision Tree_f1_macro</th>\n",
       "      <td>0.744534</td>\n",
       "    </tr>\n",
       "    <tr>\n",
       "      <th>Decision Tree_recall_macro</th>\n",
       "      <td>0.743558</td>\n",
       "    </tr>\n",
       "    <tr>\n",
       "      <th>Decision Tree_precision_macro</th>\n",
       "      <td>0.750384</td>\n",
       "    </tr>\n",
       "    <tr>\n",
       "      <th>Decision Tree_roc_auc_ovr</th>\n",
       "      <td>0.749338</td>\n",
       "    </tr>\n",
       "    <tr>\n",
       "      <th>RandomForestClassifier_accuracy</th>\n",
       "      <td>0.803398</td>\n",
       "    </tr>\n",
       "    <tr>\n",
       "      <th>RandomForestClassifier_f1_macro</th>\n",
       "      <td>0.790431</td>\n",
       "    </tr>\n",
       "    <tr>\n",
       "      <th>RandomForestClassifier_recall_macro</th>\n",
       "      <td>0.788153</td>\n",
       "    </tr>\n",
       "    <tr>\n",
       "      <th>RandomForestClassifier_precision_macro</th>\n",
       "      <td>0.799228</td>\n",
       "    </tr>\n",
       "    <tr>\n",
       "      <th>RandomForestClassifier_roc_auc_ovr</th>\n",
       "      <td>0.851199</td>\n",
       "    </tr>\n",
       "    <tr>\n",
       "      <th>XGBoost_accuracy</th>\n",
       "      <td>0.808983</td>\n",
       "    </tr>\n",
       "    <tr>\n",
       "      <th>XGBoost_f1_macro</th>\n",
       "      <td>0.796302</td>\n",
       "    </tr>\n",
       "    <tr>\n",
       "      <th>XGBoost_recall_macro</th>\n",
       "      <td>0.792778</td>\n",
       "    </tr>\n",
       "    <tr>\n",
       "      <th>XGBoost_precision_macro</th>\n",
       "      <td>0.804645</td>\n",
       "    </tr>\n",
       "    <tr>\n",
       "      <th>XGBoost_roc_auc_ovr</th>\n",
       "      <td>0.845902</td>\n",
       "    </tr>\n",
       "    <tr>\n",
       "      <th>CatBoost_accuracy</th>\n",
       "      <td>0.824456</td>\n",
       "    </tr>\n",
       "    <tr>\n",
       "      <th>CatBoost_f1_macro</th>\n",
       "      <td>0.811321</td>\n",
       "    </tr>\n",
       "    <tr>\n",
       "      <th>CatBoost_recall_macro</th>\n",
       "      <td>0.806147</td>\n",
       "    </tr>\n",
       "    <tr>\n",
       "      <th>CatBoost_precision_macro</th>\n",
       "      <td>0.824562</td>\n",
       "    </tr>\n",
       "    <tr>\n",
       "      <th>CatBoost_roc_auc_ovr</th>\n",
       "      <td>0.866251</td>\n",
>>>>>>> upstream/main
       "    </tr>\n",
       "  </tbody>\n",
       "</table>\n",
       "</div>"
      ],
      "text/plain": [
<<<<<<< HEAD
       "              Sex        Fare  FamilySize     Persona  Embarked_C  Embarked_Q  \\\n",
       "count  712.000000  712.000000  712.000000  712.000000  712.000000  712.000000   \n",
       "mean     0.356742    0.063496    0.382022    0.773876    0.195225    0.089888   \n",
       "std      0.479374    0.100455    0.486224    0.418614    0.396652    0.286222   \n",
       "min      0.000000    0.000000    0.000000    0.000000    0.000000    0.000000   \n",
       "25%      0.000000    0.015469    0.000000    1.000000    0.000000    0.000000   \n",
       "50%      0.000000    0.028221    0.000000    1.000000    0.000000    0.000000   \n",
       "75%      1.000000    0.060508    1.000000    1.000000    0.000000    0.000000   \n",
       "max      1.000000    1.000000    1.000000    1.000000    1.000000    1.000000   \n",
       "\n",
       "       Embarked_S    Pclass_1    Pclass_2    Pclass_3  \n",
       "count  712.000000  712.000000  712.000000  712.000000  \n",
       "mean     0.714888    0.254213    0.209270    0.536517  \n",
       "std      0.451785    0.435724    0.407073    0.499015  \n",
       "min      0.000000    0.000000    0.000000    0.000000  \n",
       "25%      0.000000    0.000000    0.000000    0.000000  \n",
       "50%      1.000000    0.000000    0.000000    1.000000  \n",
       "75%      1.000000    1.000000    0.000000    1.000000  \n",
       "max      1.000000    1.000000    1.000000    1.000000  "
      ]
     },
     "execution_count": 43,
=======
       "                                               0\n",
       "Logistic Regression_accuracy            0.783690\n",
       "Logistic Regression_f1_macro            0.771432\n",
       "Logistic Regression_recall_macro        0.770579\n",
       "Logistic Regression_precision_macro     0.775339\n",
       "Logistic Regression_roc_auc_ovr         0.844605\n",
       "Decision Tree_accuracy                  0.758446\n",
       "Decision Tree_f1_macro                  0.744534\n",
       "Decision Tree_recall_macro              0.743558\n",
       "Decision Tree_precision_macro           0.750384\n",
       "Decision Tree_roc_auc_ovr               0.749338\n",
       "RandomForestClassifier_accuracy         0.803398\n",
       "RandomForestClassifier_f1_macro         0.790431\n",
       "RandomForestClassifier_recall_macro     0.788153\n",
       "RandomForestClassifier_precision_macro  0.799228\n",
       "RandomForestClassifier_roc_auc_ovr      0.851199\n",
       "XGBoost_accuracy                        0.808983\n",
       "XGBoost_f1_macro                        0.796302\n",
       "XGBoost_recall_macro                    0.792778\n",
       "XGBoost_precision_macro                 0.804645\n",
       "XGBoost_roc_auc_ovr                     0.845902\n",
       "CatBoost_accuracy                       0.824456\n",
       "CatBoost_f1_macro                       0.811321\n",
       "CatBoost_recall_macro                   0.806147\n",
       "CatBoost_precision_macro                0.824562\n",
       "CatBoost_roc_auc_ovr                    0.866251"
      ]
     },
     "execution_count": 44,
>>>>>>> upstream/main
     "metadata": {},
     "output_type": "execute_result"
    }
   ],
   "source": [
<<<<<<< HEAD
    "x_train_1.describe()"
   ]
  },
  {
   "cell_type": "markdown",
   "metadata": {},
   "source": [
    "## Cross-Validation + Base-Lines"
   ]
  },
  {
   "cell_type": "code",
   "execution_count": 44,
   "metadata": {},
   "outputs": [],
   "source": [
    "modelos = {\n",
    "    'lr': LogisticRegression(random_state=24),\n",
    "    'dt': DecisionTreeClassifier(random_state=24),\n",
    "    'rf': RandomForestClassifier(random_state=24),\n",
    "    \"SVC_linear\": SVC(kernel='linear'),\n",
    "    \"voting_clf\" : VotingClassifier(estimators=[('lr', LogisticRegression(random_state=24)),('rf', RandomForestClassifier(random_state=24))])\n",
=======
    "modelos = {\n",
    "    \"Logistic Regression\": LogisticRegression(),\n",
    "    \"Decision Tree\": DecisionTreeClassifier(),\n",
    "    \"RandomForestClassifier\": RandomForestClassifier(),\n",
    "    \"XGBoost\": XGBClassifier(),\n",
    "    \"CatBoost\": CatBoostClassifier(verbose=False)\n",
    "    \n",
>>>>>>> upstream/main
    "}\n",
    "\n",
    "# Define las métricas a usar\n",
    "metricas = [\"accuracy\", \"f1_macro\", \"recall_macro\", \"precision_macro\", \"roc_auc_ovr\"]\n",
    "\n",
    "resultados_dict = {}\n",
    "\n",
    "for nombre_modelo, modelo in modelos.items():\n",
<<<<<<< HEAD
    "    cv_resultados = cross_validate(modelo, x_train_1, y_train_1, cv=5, scoring=metricas)\n",
=======
    "    cv_resultados = cross_validate(modelo, X_train_sca_ohe, y_train, cv=5, scoring=metricas)\n",
>>>>>>> upstream/main
    "    \n",
    "    for metrica in metricas:\n",
    "        clave = f\"{nombre_modelo}_{metrica}\"\n",
    "        resultados_dict[clave] = cv_resultados[f\"test_{metrica}\"].mean()\n",
    "\n",
    "# Convertir el diccionario de resultados en DataFrame\n",
<<<<<<< HEAD
    "resultados_df = pd.DataFrame([resultados_dict])"
=======
    "resultados_df = pd.DataFrame([resultados_dict])\n",
    "\n"
>>>>>>> upstream/main
   ]
  },
  {
   "cell_type": "code",
   "execution_count": 45,
   "metadata": {},
   "outputs": [
    {
     "data": {
      "text/html": [
       "<div>\n",
       "<style scoped>\n",
       "    .dataframe tbody tr th:only-of-type {\n",
       "        vertical-align: middle;\n",
       "    }\n",
       "\n",
       "    .dataframe tbody tr th {\n",
       "        vertical-align: top;\n",
       "    }\n",
       "\n",
       "    .dataframe thead th {\n",
       "        text-align: right;\n",
       "    }\n",
       "</style>\n",
       "<table border=\"1\" class=\"dataframe\">\n",
       "  <thead>\n",
       "    <tr style=\"text-align: right;\">\n",
       "      <th></th>\n",
       "      <th>0</th>\n",
       "    </tr>\n",
       "  </thead>\n",
       "  <tbody>\n",
       "    <tr>\n",
<<<<<<< HEAD
       "      <th>lr_accuracy</th>\n",
       "      <td>0.782320</td>\n",
       "    </tr>\n",
       "    <tr>\n",
       "      <th>lr_f1_macro</th>\n",
       "      <td>0.770157</td>\n",
       "    </tr>\n",
       "    <tr>\n",
       "      <th>lr_recall_macro</th>\n",
       "      <td>0.767806</td>\n",
       "    </tr>\n",
       "    <tr>\n",
       "      <th>lr_precision_macro</th>\n",
       "      <td>0.777999</td>\n",
       "    </tr>\n",
       "    <tr>\n",
       "      <th>lr_roc_auc_ovr</th>\n",
       "      <td>0.839679</td>\n",
       "    </tr>\n",
       "    <tr>\n",
       "      <th>dt_accuracy</th>\n",
       "      <td>0.814597</td>\n",
       "    </tr>\n",
       "    <tr>\n",
       "      <th>dt_f1_macro</th>\n",
       "      <td>0.803575</td>\n",
       "    </tr>\n",
       "    <tr>\n",
       "      <th>dt_recall_macro</th>\n",
       "      <td>0.799393</td>\n",
       "    </tr>\n",
       "    <tr>\n",
       "      <th>dt_precision_macro</th>\n",
       "      <td>0.812415</td>\n",
       "    </tr>\n",
       "    <tr>\n",
       "      <th>dt_roc_auc_ovr</th>\n",
       "      <td>0.802359</td>\n",
       "    </tr>\n",
       "    <tr>\n",
       "      <th>rf_accuracy</th>\n",
       "      <td>0.814646</td>\n",
       "    </tr>\n",
       "    <tr>\n",
       "      <th>rf_f1_macro</th>\n",
       "      <td>0.804546</td>\n",
       "    </tr>\n",
       "    <tr>\n",
       "      <th>rf_recall_macro</th>\n",
       "      <td>0.801167</td>\n",
       "    </tr>\n",
       "    <tr>\n",
       "      <th>rf_precision_macro</th>\n",
       "      <td>0.811440</td>\n",
       "    </tr>\n",
       "    <tr>\n",
       "      <th>rf_roc_auc_ovr</th>\n",
       "      <td>0.854046</td>\n",
       "    </tr>\n",
       "    <tr>\n",
       "      <th>SVC_linear_accuracy</th>\n",
       "      <td>0.790771</td>\n",
       "    </tr>\n",
       "    <tr>\n",
       "      <th>SVC_linear_f1_macro</th>\n",
       "      <td>0.777202</td>\n",
       "    </tr>\n",
       "    <tr>\n",
       "      <th>SVC_linear_recall_macro</th>\n",
       "      <td>0.773118</td>\n",
       "    </tr>\n",
       "    <tr>\n",
       "      <th>SVC_linear_precision_macro</th>\n",
       "      <td>0.788152</td>\n",
       "    </tr>\n",
       "    <tr>\n",
       "      <th>SVC_linear_roc_auc_ovr</th>\n",
       "      <td>NaN</td>\n",
       "    </tr>\n",
       "    <tr>\n",
       "      <th>voting_clf_accuracy</th>\n",
       "      <td>0.809002</td>\n",
       "    </tr>\n",
       "    <tr>\n",
       "      <th>voting_clf_f1_macro</th>\n",
       "      <td>0.787488</td>\n",
       "    </tr>\n",
       "    <tr>\n",
       "      <th>voting_clf_recall_macro</th>\n",
       "      <td>0.777212</td>\n",
       "    </tr>\n",
       "    <tr>\n",
       "      <th>voting_clf_precision_macro</th>\n",
       "      <td>0.831216</td>\n",
       "    </tr>\n",
       "    <tr>\n",
       "      <th>voting_clf_roc_auc_ovr</th>\n",
       "      <td>NaN</td>\n",
=======
       "      <th>CatBoost_roc_auc_ovr</th>\n",
       "      <td>0.866251</td>\n",
       "    </tr>\n",
       "    <tr>\n",
       "      <th>RandomForestClassifier_roc_auc_ovr</th>\n",
       "      <td>0.851199</td>\n",
       "    </tr>\n",
       "    <tr>\n",
       "      <th>XGBoost_roc_auc_ovr</th>\n",
       "      <td>0.845902</td>\n",
       "    </tr>\n",
       "    <tr>\n",
       "      <th>Logistic Regression_roc_auc_ovr</th>\n",
       "      <td>0.844605</td>\n",
       "    </tr>\n",
       "    <tr>\n",
       "      <th>CatBoost_precision_macro</th>\n",
       "      <td>0.824562</td>\n",
       "    </tr>\n",
       "    <tr>\n",
       "      <th>CatBoost_accuracy</th>\n",
       "      <td>0.824456</td>\n",
       "    </tr>\n",
       "    <tr>\n",
       "      <th>CatBoost_f1_macro</th>\n",
       "      <td>0.811321</td>\n",
       "    </tr>\n",
       "    <tr>\n",
       "      <th>XGBoost_accuracy</th>\n",
       "      <td>0.808983</td>\n",
       "    </tr>\n",
       "    <tr>\n",
       "      <th>CatBoost_recall_macro</th>\n",
       "      <td>0.806147</td>\n",
       "    </tr>\n",
       "    <tr>\n",
       "      <th>XGBoost_precision_macro</th>\n",
       "      <td>0.804645</td>\n",
       "    </tr>\n",
       "    <tr>\n",
       "      <th>RandomForestClassifier_accuracy</th>\n",
       "      <td>0.803398</td>\n",
       "    </tr>\n",
       "    <tr>\n",
       "      <th>RandomForestClassifier_precision_macro</th>\n",
       "      <td>0.799228</td>\n",
       "    </tr>\n",
       "    <tr>\n",
       "      <th>XGBoost_f1_macro</th>\n",
       "      <td>0.796302</td>\n",
       "    </tr>\n",
       "    <tr>\n",
       "      <th>XGBoost_recall_macro</th>\n",
       "      <td>0.792778</td>\n",
       "    </tr>\n",
       "    <tr>\n",
       "      <th>RandomForestClassifier_f1_macro</th>\n",
       "      <td>0.790431</td>\n",
       "    </tr>\n",
       "    <tr>\n",
       "      <th>RandomForestClassifier_recall_macro</th>\n",
       "      <td>0.788153</td>\n",
       "    </tr>\n",
       "    <tr>\n",
       "      <th>Logistic Regression_accuracy</th>\n",
       "      <td>0.783690</td>\n",
       "    </tr>\n",
       "    <tr>\n",
       "      <th>Logistic Regression_precision_macro</th>\n",
       "      <td>0.775339</td>\n",
       "    </tr>\n",
       "    <tr>\n",
       "      <th>Logistic Regression_f1_macro</th>\n",
       "      <td>0.771432</td>\n",
       "    </tr>\n",
       "    <tr>\n",
       "      <th>Logistic Regression_recall_macro</th>\n",
       "      <td>0.770579</td>\n",
       "    </tr>\n",
       "    <tr>\n",
       "      <th>Decision Tree_accuracy</th>\n",
       "      <td>0.758446</td>\n",
       "    </tr>\n",
       "    <tr>\n",
       "      <th>Decision Tree_precision_macro</th>\n",
       "      <td>0.750384</td>\n",
       "    </tr>\n",
       "    <tr>\n",
       "      <th>Decision Tree_roc_auc_ovr</th>\n",
       "      <td>0.749338</td>\n",
       "    </tr>\n",
       "    <tr>\n",
       "      <th>Decision Tree_f1_macro</th>\n",
       "      <td>0.744534</td>\n",
       "    </tr>\n",
       "    <tr>\n",
       "      <th>Decision Tree_recall_macro</th>\n",
       "      <td>0.743558</td>\n",
>>>>>>> upstream/main
       "    </tr>\n",
       "  </tbody>\n",
       "</table>\n",
       "</div>"
      ],
      "text/plain": [
<<<<<<< HEAD
       "                                   0\n",
       "lr_accuracy                 0.782320\n",
       "lr_f1_macro                 0.770157\n",
       "lr_recall_macro             0.767806\n",
       "lr_precision_macro          0.777999\n",
       "lr_roc_auc_ovr              0.839679\n",
       "dt_accuracy                 0.814597\n",
       "dt_f1_macro                 0.803575\n",
       "dt_recall_macro             0.799393\n",
       "dt_precision_macro          0.812415\n",
       "dt_roc_auc_ovr              0.802359\n",
       "rf_accuracy                 0.814646\n",
       "rf_f1_macro                 0.804546\n",
       "rf_recall_macro             0.801167\n",
       "rf_precision_macro          0.811440\n",
       "rf_roc_auc_ovr              0.854046\n",
       "SVC_linear_accuracy         0.790771\n",
       "SVC_linear_f1_macro         0.777202\n",
       "SVC_linear_recall_macro     0.773118\n",
       "SVC_linear_precision_macro  0.788152\n",
       "SVC_linear_roc_auc_ovr           NaN\n",
       "voting_clf_accuracy         0.809002\n",
       "voting_clf_f1_macro         0.787488\n",
       "voting_clf_recall_macro     0.777212\n",
       "voting_clf_precision_macro  0.831216\n",
       "voting_clf_roc_auc_ovr           NaN"
=======
       "                                               0\n",
       "CatBoost_roc_auc_ovr                    0.866251\n",
       "RandomForestClassifier_roc_auc_ovr      0.851199\n",
       "XGBoost_roc_auc_ovr                     0.845902\n",
       "Logistic Regression_roc_auc_ovr         0.844605\n",
       "CatBoost_precision_macro                0.824562\n",
       "CatBoost_accuracy                       0.824456\n",
       "CatBoost_f1_macro                       0.811321\n",
       "XGBoost_accuracy                        0.808983\n",
       "CatBoost_recall_macro                   0.806147\n",
       "XGBoost_precision_macro                 0.804645\n",
       "RandomForestClassifier_accuracy         0.803398\n",
       "RandomForestClassifier_precision_macro  0.799228\n",
       "XGBoost_f1_macro                        0.796302\n",
       "XGBoost_recall_macro                    0.792778\n",
       "RandomForestClassifier_f1_macro         0.790431\n",
       "RandomForestClassifier_recall_macro     0.788153\n",
       "Logistic Regression_accuracy            0.783690\n",
       "Logistic Regression_precision_macro     0.775339\n",
       "Logistic Regression_f1_macro            0.771432\n",
       "Logistic Regression_recall_macro        0.770579\n",
       "Decision Tree_accuracy                  0.758446\n",
       "Decision Tree_precision_macro           0.750384\n",
       "Decision Tree_roc_auc_ovr               0.749338\n",
       "Decision Tree_f1_macro                  0.744534\n",
       "Decision Tree_recall_macro              0.743558"
>>>>>>> upstream/main
      ]
     },
     "execution_count": 45,
     "metadata": {},
     "output_type": "execute_result"
    }
   ],
   "source": [
<<<<<<< HEAD
    "resultados_df.T  # El Random Forest por 3 puntos a logisticregression en accuracy"
   ]
  },
  {
   "cell_type": "code",
   "execution_count": 46,
   "metadata": {},
   "outputs": [
    {
     "data": {
      "text/plain": [
       "Index(['Sex', 'Fare', 'FamilySize', 'Persona', 'Embarked_C', 'Embarked_Q',\n",
       "       'Embarked_S', 'Pclass_1', 'Pclass_2', 'Pclass_3'],\n",
       "      dtype='object')"
      ]
     },
     "execution_count": 46,
     "metadata": {},
     "output_type": "execute_result"
    }
   ],
   "source": [
    "x_train_1.columns"
   ]
  },
  {
   "cell_type": "markdown",
   "metadata": {},
   "source": [
    "##### Random forest elegido como mejor modelo con estas features : \n",
    " - 'Sex', 'Fare', 'FamilySize', 'Persona', 'Embarked_C', 'Embarked_Q', 'Embarked_S', 'Pclass_1', 'Pclass_2', 'Pclass_3'\n",
    " \n",
    "Modelo 1\n",
    "\n",
    "| Métrica | Valor |\n",
    "| -----| ------|\n",
    "|rf_accuracy|\t0.814646|\n",
    "|rf_f1_macro|\t0.804546|\n",
    "|rf_recall_macro|\t0.801167|\n",
    "|rf_precision_macro|\t0.811440|\n",
    "|rf_roc_auc_ovr|\t0.854046|\n"
   ]
  },
  {
   "cell_type": "markdown",
   "metadata": {},
   "source": [
    "# Modelo 2"
   ]
  },
  {
   "cell_type": "code",
   "execution_count": 125,
   "metadata": {},
   "outputs": [
    {
     "data": {
      "text/html": [
       "<div>\n",
       "<style scoped>\n",
       "    .dataframe tbody tr th:only-of-type {\n",
       "        vertical-align: middle;\n",
       "    }\n",
       "\n",
       "    .dataframe tbody tr th {\n",
       "        vertical-align: top;\n",
       "    }\n",
       "\n",
       "    .dataframe thead th {\n",
       "        text-align: right;\n",
       "    }\n",
       "</style>\n",
       "<table border=\"1\" class=\"dataframe\">\n",
       "  <thead>\n",
       "    <tr style=\"text-align: right;\">\n",
       "      <th></th>\n",
       "      <th>Survived</th>\n",
       "      <th>Pclass</th>\n",
       "      <th>Name</th>\n",
       "      <th>Sex</th>\n",
       "      <th>Age</th>\n",
       "      <th>SibSp</th>\n",
       "      <th>Parch</th>\n",
       "      <th>Fare</th>\n",
       "      <th>Embarked</th>\n",
       "      <th>FamilySize</th>\n",
       "      <th>Persona</th>\n",
       "    </tr>\n",
       "    <tr>\n",
       "      <th>PassengerId</th>\n",
       "      <th></th>\n",
       "      <th></th>\n",
       "      <th></th>\n",
       "      <th></th>\n",
       "      <th></th>\n",
       "      <th></th>\n",
       "      <th></th>\n",
       "      <th></th>\n",
       "      <th></th>\n",
       "      <th></th>\n",
       "      <th></th>\n",
       "    </tr>\n",
       "  </thead>\n",
       "  <tbody>\n",
       "    <tr>\n",
       "      <th>1</th>\n",
       "      <td>0</td>\n",
       "      <td>3</td>\n",
       "      <td>Braund, Mr. Owen Harris</td>\n",
       "      <td>male</td>\n",
       "      <td>22.0</td>\n",
       "      <td>1</td>\n",
       "      <td>0</td>\n",
       "      <td>7.2500</td>\n",
       "      <td>S</td>\n",
       "      <td>1</td>\n",
       "      <td>hombre</td>\n",
       "    </tr>\n",
       "    <tr>\n",
       "      <th>5</th>\n",
       "      <td>0</td>\n",
       "      <td>3</td>\n",
       "      <td>Allen, Mr. William Henry</td>\n",
       "      <td>male</td>\n",
       "      <td>35.0</td>\n",
       "      <td>0</td>\n",
       "      <td>0</td>\n",
       "      <td>8.0500</td>\n",
       "      <td>S</td>\n",
       "      <td>0</td>\n",
       "      <td>hombre</td>\n",
       "    </tr>\n",
       "    <tr>\n",
       "      <th>6</th>\n",
       "      <td>0</td>\n",
       "      <td>3</td>\n",
       "      <td>Moran, Mr. James</td>\n",
       "      <td>male</td>\n",
       "      <td>4.0</td>\n",
       "      <td>0</td>\n",
       "      <td>0</td>\n",
       "      <td>8.4583</td>\n",
       "      <td>Q</td>\n",
       "      <td>0</td>\n",
       "      <td>niño</td>\n",
       "    </tr>\n",
       "  </tbody>\n",
       "</table>\n",
       "</div>"
      ],
      "text/plain": [
       "             Survived  Pclass                      Name   Sex   Age  SibSp  \\\n",
       "PassengerId                                                                  \n",
       "1                   0       3   Braund, Mr. Owen Harris  male  22.0      1   \n",
       "5                   0       3  Allen, Mr. William Henry  male  35.0      0   \n",
       "6                   0       3          Moran, Mr. James  male   4.0      0   \n",
       "\n",
       "             Parch    Fare Embarked  FamilySize Persona  \n",
       "PassengerId                                              \n",
       "1                0  7.2500        S           1  hombre  \n",
       "5                0  8.0500        S           0  hombre  \n",
       "6                0  8.4583        Q           0    niño  "
      ]
     },
     "execution_count": 125,
     "metadata": {},
     "output_type": "execute_result"
    }
   ],
   "source": [
    "# Creación de columnas\n",
    "# Una idea (SibSp - Parch) si es mayor a 1, el pasajero fue acompañado. \n",
    "df['FamilySize'] = np.where(df['SibSp'] + df['Parch'] >= 1, 1, 0)\n",
    "# Crear una columna adicional, adult@/niñ@\n",
    "# df['Persona'] = np.where(df['Age'] <= 14, 'niño/a', 'adulto/a')\n",
    "df['Persona'] = np.where((df['Age'] <= 14) & (df['Sex'] == 'female'), 'niña', \n",
    "                np.where((df['Age'] > 14) & (df['Sex'] == 'female'), 'mujer', \n",
    "                    np.where(df['Age'] <= 14, 'niño', 'hombre')))\n",
    "df.head(3)"
   ]
  },
  {
   "cell_type": "code",
   "execution_count": 126,
   "metadata": {},
   "outputs": [],
   "source": [
    "mapeo = {'male': 0, 'female' : 1}\n",
    "df['Sex'] = df['Sex'].map(mapeo)\n",
    "\n",
    "mapeo = {'niño': 0, 'niña': 1, 'hombre' : 3, 'mujer': 4}\n",
    "df['Persona'] = df['Persona'].map(mapeo)\n",
    "\n",
    "mapeo = {1 :3, 2: 2, 3: 1}\n",
    "df['Pclass'] = df['Pclass'].map(mapeo)"
   ]
  },
  {
   "cell_type": "code",
   "execution_count": 127,
   "metadata": {},
   "outputs": [],
   "source": [
    "X_2 = df.drop(columns=['Name','SibSp','Parch','Survived', 'Age'])\n",
    "y_2 = df['Survived']\n",
    "\n",
    "x_train_2, x_test_2, y_train_2, y_test_2 = train_test_split(X_2, y_2, test_size=0.2, random_state=24)"
   ]
  },
  {
   "cell_type": "code",
   "execution_count": 128,
   "metadata": {},
   "outputs": [],
   "source": [
    "OHE = OneHotEncoder(sparse=False, handle_unknown='ignore')\n",
    "OHE.fit(x_train_2[['Embarked']])\n",
    "OHE.fit(x_test_2[['Embarked']])\n",
    "\n",
    "transformed_x_test_2 = OHE.transform(x_test_2[['Embarked']])\n",
    "transformed_x_train_2 = OHE.transform(x_train_2[['Embarked']])\n",
    "\n",
    "transformed_x_test_2 = pd.DataFrame(transformed_x_test_2, columns=OHE.get_feature_names_out(['Embarked']), index=x_test_2.index)\n",
    "transformed_x_train_2 = pd.DataFrame(transformed_x_train_2, columns=OHE.get_feature_names_out(['Embarked']), index=x_train_2.index)\n",
    "\n",
    "x_train_2 = pd.concat((x_train_2, transformed_x_train_2), axis=1)\n",
    "x_test_2 = pd.concat((x_test_2, transformed_x_test_2), axis=1)\n",
    "\n",
    "x_train_2.drop(columns=['Embarked'], inplace=True)\n",
    "x_test_2.drop(columns=['Embarked'], inplace=True)"
   ]
  },
  {
   "cell_type": "code",
   "execution_count": 129,
   "metadata": {},
   "outputs": [],
   "source": [
    "# # Aplicando StandardScaler\n",
    "scaler = StandardScaler()\n",
    "x_train_2['Fare'] = scaler.fit_transform(x_train_2[['Fare']])\n",
    "# ------------------------------------\n",
    "#TEST_X\n",
    "x_test_2['Fare'] = scaler.transform(x_test_2[['Fare']])"
   ]
  },
  {
   "cell_type": "code",
   "execution_count": 130,
   "metadata": {},
   "outputs": [],
   "source": [
    "x_train_2['Persona'] = scaler.fit_transform(x_train_2[['Persona']])\n",
    "x_test_2['Persona'] = scaler.transform(x_test_2[['Persona']])"
   ]
  },
  {
   "cell_type": "code",
   "execution_count": 131,
   "metadata": {},
   "outputs": [],
   "source": [
    "modelos = {\n",
    "    'lr': LogisticRegression(random_state=24),\n",
    "    'dt': DecisionTreeClassifier(random_state=24),\n",
    "    'rf': RandomForestClassifier(random_state=24),\n",
    "    \"SVC_linear\": SVC(kernel='linear'),\n",
    "    \"voting_clf\" : VotingClassifier(estimators=[('lr', LogisticRegression(random_state=24)),('rf', RandomForestClassifier(random_state=24))])\n",
    "}\n",
    "\n",
    "# Define las métricas a usar\n",
    "metricas = [\"accuracy\", \"f1_macro\", \"recall_macro\", \"precision_macro\", \"roc_auc_ovr\"]\n",
    "\n",
    "resultados_dict = {}\n",
    "\n",
    "for nombre_modelo, modelo in modelos.items():\n",
    "    cv_resultados = cross_validate(modelo, x_train_2, y_train_2, cv=5, scoring=metricas)\n",
    "    \n",
    "    for metrica in metricas:\n",
    "        clave = f\"{nombre_modelo}_{metrica}\"\n",
    "        resultados_dict[clave] = cv_resultados[f\"test_{metrica}\"].mean()\n",
    "\n",
    "# Convertir el diccionario de resultados en DataFrame\n",
    "resultados_df = pd.DataFrame([resultados_dict])"
   ]
  },
  {
   "cell_type": "code",
   "execution_count": 132,
   "metadata": {},
   "outputs": [
    {
     "data": {
      "text/html": [
       "<div>\n",
       "<style scoped>\n",
       "    .dataframe tbody tr th:only-of-type {\n",
       "        vertical-align: middle;\n",
       "    }\n",
       "\n",
       "    .dataframe tbody tr th {\n",
       "        vertical-align: top;\n",
       "    }\n",
       "\n",
       "    .dataframe thead th {\n",
       "        text-align: right;\n",
       "    }\n",
       "</style>\n",
       "<table border=\"1\" class=\"dataframe\">\n",
       "  <thead>\n",
       "    <tr style=\"text-align: right;\">\n",
       "      <th></th>\n",
       "      <th>0</th>\n",
       "    </tr>\n",
       "  </thead>\n",
       "  <tbody>\n",
       "    <tr>\n",
       "      <th>lr_accuracy</th>\n",
       "      <td>0.776677</td>\n",
       "    </tr>\n",
       "    <tr>\n",
       "      <th>lr_f1_macro</th>\n",
       "      <td>0.765622</td>\n",
       "    </tr>\n",
       "    <tr>\n",
       "      <th>lr_recall_macro</th>\n",
       "      <td>0.764861</td>\n",
       "    </tr>\n",
       "    <tr>\n",
       "      <th>lr_precision_macro</th>\n",
       "      <td>0.771377</td>\n",
       "    </tr>\n",
       "    <tr>\n",
       "      <th>lr_roc_auc_ovr</th>\n",
       "      <td>0.838608</td>\n",
       "    </tr>\n",
       "    <tr>\n",
       "      <th>dt_accuracy</th>\n",
       "      <td>0.818802</td>\n",
       "    </tr>\n",
       "    <tr>\n",
       "      <th>dt_f1_macro</th>\n",
       "      <td>0.808115</td>\n",
       "    </tr>\n",
       "    <tr>\n",
       "      <th>dt_recall_macro</th>\n",
       "      <td>0.804078</td>\n",
       "    </tr>\n",
       "    <tr>\n",
       "      <th>dt_precision_macro</th>\n",
       "      <td>0.817432</td>\n",
       "    </tr>\n",
       "    <tr>\n",
       "      <th>dt_roc_auc_ovr</th>\n",
       "      <td>0.808289</td>\n",
       "    </tr>\n",
       "    <tr>\n",
       "      <th>rf_accuracy</th>\n",
       "      <td>0.816054</td>\n",
       "    </tr>\n",
       "    <tr>\n",
       "      <th>rf_f1_macro</th>\n",
       "      <td>0.805720</td>\n",
       "    </tr>\n",
       "    <tr>\n",
       "      <th>rf_recall_macro</th>\n",
       "      <td>0.801752</td>\n",
       "    </tr>\n",
       "    <tr>\n",
       "      <th>rf_precision_macro</th>\n",
       "      <td>0.814484</td>\n",
       "    </tr>\n",
       "    <tr>\n",
       "      <th>rf_roc_auc_ovr</th>\n",
       "      <td>0.848026</td>\n",
       "    </tr>\n",
       "    <tr>\n",
       "      <th>SVC_linear_accuracy</th>\n",
       "      <td>0.790771</td>\n",
       "    </tr>\n",
       "    <tr>\n",
       "      <th>SVC_linear_f1_macro</th>\n",
       "      <td>0.777202</td>\n",
       "    </tr>\n",
       "    <tr>\n",
       "      <th>SVC_linear_recall_macro</th>\n",
       "      <td>0.773118</td>\n",
       "    </tr>\n",
       "    <tr>\n",
       "      <th>SVC_linear_precision_macro</th>\n",
       "      <td>0.788152</td>\n",
       "    </tr>\n",
       "    <tr>\n",
       "      <th>SVC_linear_roc_auc_ovr</th>\n",
       "      <td>NaN</td>\n",
       "    </tr>\n",
       "    <tr>\n",
       "      <th>voting_clf_accuracy</th>\n",
       "      <td>0.804787</td>\n",
       "    </tr>\n",
       "    <tr>\n",
       "      <th>voting_clf_f1_macro</th>\n",
       "      <td>0.783080</td>\n",
       "    </tr>\n",
       "    <tr>\n",
       "      <th>voting_clf_recall_macro</th>\n",
       "      <td>0.773105</td>\n",
       "    </tr>\n",
       "    <tr>\n",
       "      <th>voting_clf_precision_macro</th>\n",
       "      <td>0.826169</td>\n",
       "    </tr>\n",
       "    <tr>\n",
       "      <th>voting_clf_roc_auc_ovr</th>\n",
       "      <td>NaN</td>\n",
       "    </tr>\n",
       "  </tbody>\n",
       "</table>\n",
       "</div>"
      ],
      "text/plain": [
       "                                   0\n",
       "lr_accuracy                 0.776677\n",
       "lr_f1_macro                 0.765622\n",
       "lr_recall_macro             0.764861\n",
       "lr_precision_macro          0.771377\n",
       "lr_roc_auc_ovr              0.838608\n",
       "dt_accuracy                 0.818802\n",
       "dt_f1_macro                 0.808115\n",
       "dt_recall_macro             0.804078\n",
       "dt_precision_macro          0.817432\n",
       "dt_roc_auc_ovr              0.808289\n",
       "rf_accuracy                 0.816054\n",
       "rf_f1_macro                 0.805720\n",
       "rf_recall_macro             0.801752\n",
       "rf_precision_macro          0.814484\n",
       "rf_roc_auc_ovr              0.848026\n",
       "SVC_linear_accuracy         0.790771\n",
       "SVC_linear_f1_macro         0.777202\n",
       "SVC_linear_recall_macro     0.773118\n",
       "SVC_linear_precision_macro  0.788152\n",
       "SVC_linear_roc_auc_ovr           NaN\n",
       "voting_clf_accuracy         0.804787\n",
       "voting_clf_f1_macro         0.783080\n",
       "voting_clf_recall_macro     0.773105\n",
       "voting_clf_precision_macro  0.826169\n",
       "voting_clf_roc_auc_ovr           NaN"
      ]
     },
     "execution_count": 132,
     "metadata": {},
     "output_type": "execute_result"
    }
   ],
   "source": [
    "resultados_df.T"
   ]
  },
  {
   "cell_type": "code",
   "execution_count": 133,
   "metadata": {},
   "outputs": [
    {
     "data": {
      "text/plain": [
       "Index(['Pclass', 'Sex', 'Fare', 'FamilySize', 'Persona', 'Embarked_C',\n",
       "       'Embarked_Q', 'Embarked_S'],\n",
       "      dtype='object')"
      ]
     },
     "execution_count": 133,
     "metadata": {},
     "output_type": "execute_result"
    }
   ],
   "source": [
    "x_train_2.columns"
   ]
  },
  {
   "cell_type": "markdown",
   "metadata": {},
   "source": [
    "Random Forest con estas features :  \n",
    "\n",
    "- 'Pclass', 'Sex', 'Fare', 'FamilySize', 'Persona', 'Embarked_C', 'Embarked_Q', 'Embarked_S'\n",
    "\n",
    "| Métricas | Valor |\n",
    "| ---|----|\n",
    "| rf_accuracy|\t0.814646|\n",
    "|rf_f1_macro|\t0.804906|\n",
    "|rf_recall_macro|\t0.801745|\n",
    "|rf_precision_macro|\t0.812700|\n",
    "|rf_roc_auc_ovr|\t0.852983|\n"
   ]
  },
  {
   "cell_type": "markdown",
   "metadata": {},
   "source": [
    "# Modelo 3"
   ]
  },
  {
   "cell_type": "code",
   "execution_count": 42,
   "metadata": {},
   "outputs": [
    {
     "data": {
      "text/html": [
       "<div>\n",
       "<style scoped>\n",
       "    .dataframe tbody tr th:only-of-type {\n",
       "        vertical-align: middle;\n",
       "    }\n",
       "\n",
       "    .dataframe tbody tr th {\n",
       "        vertical-align: top;\n",
       "    }\n",
       "\n",
       "    .dataframe thead th {\n",
       "        text-align: right;\n",
       "    }\n",
       "</style>\n",
       "<table border=\"1\" class=\"dataframe\">\n",
       "  <thead>\n",
       "    <tr style=\"text-align: right;\">\n",
       "      <th></th>\n",
       "      <th>Survived</th>\n",
       "      <th>Pclass</th>\n",
       "      <th>Name</th>\n",
       "      <th>Sex</th>\n",
       "      <th>Age</th>\n",
       "      <th>SibSp</th>\n",
       "      <th>Parch</th>\n",
       "      <th>Fare</th>\n",
       "      <th>Embarked</th>\n",
       "      <th>Persona</th>\n",
       "    </tr>\n",
       "    <tr>\n",
       "      <th>PassengerId</th>\n",
       "      <th></th>\n",
       "      <th></th>\n",
       "      <th></th>\n",
       "      <th></th>\n",
       "      <th></th>\n",
       "      <th></th>\n",
       "      <th></th>\n",
       "      <th></th>\n",
       "      <th></th>\n",
       "      <th></th>\n",
       "    </tr>\n",
       "  </thead>\n",
       "  <tbody>\n",
       "    <tr>\n",
       "      <th>1</th>\n",
       "      <td>0</td>\n",
       "      <td>3</td>\n",
       "      <td>Braund, Mr. Owen Harris</td>\n",
       "      <td>male</td>\n",
       "      <td>22.0</td>\n",
       "      <td>1</td>\n",
       "      <td>0</td>\n",
       "      <td>7.2500</td>\n",
       "      <td>S</td>\n",
       "      <td>hombre</td>\n",
       "    </tr>\n",
       "    <tr>\n",
       "      <th>5</th>\n",
       "      <td>0</td>\n",
       "      <td>3</td>\n",
       "      <td>Allen, Mr. William Henry</td>\n",
       "      <td>male</td>\n",
       "      <td>35.0</td>\n",
       "      <td>0</td>\n",
       "      <td>0</td>\n",
       "      <td>8.0500</td>\n",
       "      <td>S</td>\n",
       "      <td>hombre</td>\n",
       "    </tr>\n",
       "    <tr>\n",
       "      <th>6</th>\n",
       "      <td>0</td>\n",
       "      <td>3</td>\n",
       "      <td>Moran, Mr. James</td>\n",
       "      <td>male</td>\n",
       "      <td>4.0</td>\n",
       "      <td>0</td>\n",
       "      <td>0</td>\n",
       "      <td>8.4583</td>\n",
       "      <td>Q</td>\n",
       "      <td>niño</td>\n",
       "    </tr>\n",
       "  </tbody>\n",
       "</table>\n",
       "</div>"
      ],
      "text/plain": [
       "             Survived  Pclass                      Name   Sex   Age  SibSp  \\\n",
       "PassengerId                                                                  \n",
       "1                   0       3   Braund, Mr. Owen Harris  male  22.0      1   \n",
       "5                   0       3  Allen, Mr. William Henry  male  35.0      0   \n",
       "6                   0       3          Moran, Mr. James  male   4.0      0   \n",
       "\n",
       "             Parch    Fare Embarked Persona  \n",
       "PassengerId                                  \n",
       "1                0  7.2500        S  hombre  \n",
       "5                0  8.0500        S  hombre  \n",
       "6                0  8.4583        Q    niño  "
      ]
     },
     "execution_count": 42,
     "metadata": {},
     "output_type": "execute_result"
    }
   ],
   "source": [
    "# Crear una columna adicional, adult@/niñ@\n",
    "df['Persona'] = np.where((df['Age'] <= 14) & (df['Sex'] == 'female'), 'niña', \n",
    "                np.where((df['Age'] > 14) & (df['Sex'] == 'female'), 'mujer', \n",
    "                    np.where(df['Age'] <= 14, 'niño', 'hombre')))\n",
    "df.head(3)"
   ]
  },
  {
   "cell_type": "code",
   "execution_count": 43,
   "metadata": {},
   "outputs": [],
   "source": [
    "mapeo = {'male': 0, 'female' : 1}\n",
    "df['Sex'] = df['Sex'].map(mapeo)\n",
    "\n",
    "mapeo = {'niño': 0, 'niña': 1, 'hombre' : 3, 'mujer': 4}\n",
    "df['Persona'] = df['Persona'].map(mapeo)\n",
    "\n",
    "mapeo = {1 :3, 2: 2, 3: 1}\n",
    "df['Pclass'] = df['Pclass'].map(mapeo)\n",
    "\n",
    "X_3 = df.drop(columns=['Name','Survived', 'SibSp', 'Parch', 'Age'])\n",
    "y_3 = df['Survived']\n",
    "\n",
    "x_train_3, x_test_3, y_train_3, y_test_3 = train_test_split(X_3, y_3, test_size=0.2, random_state=24)\n",
    "\n",
    "OHE = OneHotEncoder(sparse=False, handle_unknown='ignore')\n",
    "OHE.fit(x_train_3[['Embarked']])\n",
    "OHE.fit(x_test_3[['Embarked']])\n",
    "\n",
    "transformed_x_test_3 = OHE.transform(x_test_3[['Embarked']])\n",
    "transformed_x_train_3 = OHE.transform(x_train_3[['Embarked']])\n",
    "\n",
    "transformed_x_test_3 = pd.DataFrame(transformed_x_test_3, columns=OHE.get_feature_names_out(['Embarked']), index=x_test_3.index)\n",
    "transformed_x_train_3 = pd.DataFrame(transformed_x_train_3, columns=OHE.get_feature_names_out(['Embarked']), index=x_train_3.index)\n",
    "\n",
    "x_train_3 = pd.concat((x_train_3, transformed_x_train_3), axis=1)\n",
    "x_test_3 = pd.concat((x_test_3, transformed_x_test_3), axis=1)\n",
    "\n",
    "x_train_3.drop(columns=['Embarked'], inplace=True)\n",
    "x_test_3.drop(columns=['Embarked'], inplace=True)\n",
    "\n",
    "# # Aplicando StandardScaler\n",
    "scaler = StandardScaler()\n",
    "x_train_3['Fare'] = scaler.fit_transform(x_train_3[['Fare']])\n",
    "# ------------------------------------\n",
    "#TEST_X\n",
    "x_test_3['Fare'] = scaler.transform(x_test_3[['Fare']])\n"
   ]
  },
  {
   "cell_type": "code",
   "execution_count": 44,
   "metadata": {},
   "outputs": [],
   "source": [
    "x_train_3['Persona'] = scaler.fit_transform(x_train_3[['Persona']])\n",
    "x_test_3['Persona'] = scaler.transform(x_test_3[['Persona']])"
   ]
  },
  {
   "cell_type": "code",
   "execution_count": 45,
   "metadata": {},
   "outputs": [],
   "source": [
    "modelos = {\n",
    "    'lr': LogisticRegression(random_state=24),\n",
    "    'dt': DecisionTreeClassifier(random_state=24),\n",
    "    'rf': RandomForestClassifier(random_state=24),\n",
    "    \"SVC_linear\": SVC(kernel='linear'),\n",
    "    \"voting_clf\" : VotingClassifier(estimators=[('lr', LogisticRegression(random_state=24)),('rf', RandomForestClassifier(random_state=24))])\n",
    "}\n",
    "\n",
    "# Define las métricas a usar\n",
    "metricas = [\"accuracy\", \"f1_macro\", \"recall_macro\", \"precision_macro\", \"roc_auc_ovr\"]\n",
    "\n",
    "resultados_dict = {}\n",
    "\n",
    "for nombre_modelo, modelo in modelos.items():\n",
    "    cv_resultados = cross_validate(modelo, x_train_3, y_train_3, cv=5, scoring=metricas)\n",
    "    \n",
    "    for metrica in metricas:\n",
    "        clave = f\"{nombre_modelo}_{metrica}\"\n",
    "        resultados_dict[clave] = cv_resultados[f\"test_{metrica}\"].mean()\n",
    "\n",
    "# Convertir el diccionario de resultados en DataFrame\n",
    "resultados_df = pd.DataFrame([resultados_dict])"
   ]
  },
  {
   "cell_type": "code",
   "execution_count": 46,
   "metadata": {},
   "outputs": [
    {
     "data": {
      "text/html": [
       "<div>\n",
       "<style scoped>\n",
       "    .dataframe tbody tr th:only-of-type {\n",
       "        vertical-align: middle;\n",
       "    }\n",
       "\n",
       "    .dataframe tbody tr th {\n",
       "        vertical-align: top;\n",
       "    }\n",
       "\n",
       "    .dataframe thead th {\n",
       "        text-align: right;\n",
       "    }\n",
       "</style>\n",
       "<table border=\"1\" class=\"dataframe\">\n",
       "  <thead>\n",
       "    <tr style=\"text-align: right;\">\n",
       "      <th></th>\n",
       "      <th>0</th>\n",
       "    </tr>\n",
       "  </thead>\n",
       "  <tbody>\n",
       "    <tr>\n",
       "      <th>lr_accuracy</th>\n",
       "      <td>0.778085</td>\n",
       "    </tr>\n",
       "    <tr>\n",
       "      <th>lr_f1_macro</th>\n",
       "      <td>0.766410</td>\n",
       "    </tr>\n",
       "    <tr>\n",
       "      <th>lr_recall_macro</th>\n",
       "      <td>0.764855</td>\n",
       "    </tr>\n",
       "    <tr>\n",
       "      <th>lr_precision_macro</th>\n",
       "      <td>0.772784</td>\n",
       "    </tr>\n",
       "    <tr>\n",
       "      <th>lr_roc_auc_ovr</th>\n",
       "      <td>0.839768</td>\n",
       "    </tr>\n",
       "    <tr>\n",
       "      <th>dt_accuracy</th>\n",
       "      <td>0.815985</td>\n",
       "    </tr>\n",
       "    <tr>\n",
       "      <th>dt_f1_macro</th>\n",
       "      <td>0.805463</td>\n",
       "    </tr>\n",
       "    <tr>\n",
       "      <th>dt_recall_macro</th>\n",
       "      <td>0.801698</td>\n",
       "    </tr>\n",
       "    <tr>\n",
       "      <th>dt_precision_macro</th>\n",
       "      <td>0.813267</td>\n",
       "    </tr>\n",
       "    <tr>\n",
       "      <th>dt_roc_auc_ovr</th>\n",
       "      <td>0.804595</td>\n",
       "    </tr>\n",
       "    <tr>\n",
       "      <th>rf_accuracy</th>\n",
       "      <td>0.813247</td>\n",
       "    </tr>\n",
       "    <tr>\n",
       "      <th>rf_f1_macro</th>\n",
       "      <td>0.803006</td>\n",
       "    </tr>\n",
       "    <tr>\n",
       "      <th>rf_recall_macro</th>\n",
       "      <td>0.799399</td>\n",
       "    </tr>\n",
       "    <tr>\n",
       "      <th>rf_precision_macro</th>\n",
       "      <td>0.811178</td>\n",
       "    </tr>\n",
       "    <tr>\n",
       "      <th>rf_roc_auc_ovr</th>\n",
       "      <td>0.844692</td>\n",
       "    </tr>\n",
       "    <tr>\n",
       "      <th>SVC_linear_accuracy</th>\n",
       "      <td>0.790771</td>\n",
       "    </tr>\n",
       "    <tr>\n",
       "      <th>SVC_linear_f1_macro</th>\n",
       "      <td>0.777202</td>\n",
       "    </tr>\n",
       "    <tr>\n",
       "      <th>SVC_linear_recall_macro</th>\n",
       "      <td>0.773118</td>\n",
       "    </tr>\n",
       "    <tr>\n",
       "      <th>SVC_linear_precision_macro</th>\n",
       "      <td>0.788152</td>\n",
       "    </tr>\n",
       "    <tr>\n",
       "      <th>SVC_linear_roc_auc_ovr</th>\n",
       "      <td>NaN</td>\n",
       "    </tr>\n",
       "    <tr>\n",
       "      <th>voting_clf_accuracy</th>\n",
       "      <td>0.804777</td>\n",
       "    </tr>\n",
       "    <tr>\n",
       "      <th>voting_clf_f1_macro</th>\n",
       "      <td>0.783857</td>\n",
       "    </tr>\n",
       "    <tr>\n",
       "      <th>voting_clf_recall_macro</th>\n",
       "      <td>0.774261</td>\n",
       "    </tr>\n",
       "    <tr>\n",
       "      <th>voting_clf_precision_macro</th>\n",
       "      <td>0.824056</td>\n",
       "    </tr>\n",
       "    <tr>\n",
       "      <th>voting_clf_roc_auc_ovr</th>\n",
       "      <td>NaN</td>\n",
       "    </tr>\n",
       "  </tbody>\n",
       "</table>\n",
       "</div>"
      ],
      "text/plain": [
       "                                   0\n",
       "lr_accuracy                 0.778085\n",
       "lr_f1_macro                 0.766410\n",
       "lr_recall_macro             0.764855\n",
       "lr_precision_macro          0.772784\n",
       "lr_roc_auc_ovr              0.839768\n",
       "dt_accuracy                 0.815985\n",
       "dt_f1_macro                 0.805463\n",
       "dt_recall_macro             0.801698\n",
       "dt_precision_macro          0.813267\n",
       "dt_roc_auc_ovr              0.804595\n",
       "rf_accuracy                 0.813247\n",
       "rf_f1_macro                 0.803006\n",
       "rf_recall_macro             0.799399\n",
       "rf_precision_macro          0.811178\n",
       "rf_roc_auc_ovr              0.844692\n",
       "SVC_linear_accuracy         0.790771\n",
       "SVC_linear_f1_macro         0.777202\n",
       "SVC_linear_recall_macro     0.773118\n",
       "SVC_linear_precision_macro  0.788152\n",
       "SVC_linear_roc_auc_ovr           NaN\n",
       "voting_clf_accuracy         0.804777\n",
       "voting_clf_f1_macro         0.783857\n",
       "voting_clf_recall_macro     0.774261\n",
       "voting_clf_precision_macro  0.824056\n",
       "voting_clf_roc_auc_ovr           NaN"
      ]
     },
     "execution_count": 46,
     "metadata": {},
     "output_type": "execute_result"
    }
   ],
   "source": [
    "resultados_df.T"
   ]
  },
  {
   "cell_type": "code",
   "execution_count": 47,
   "metadata": {},
   "outputs": [
    {
     "data": {
      "text/plain": [
       "Index(['Pclass', 'Sex', 'Fare', 'Persona', 'Embarked_C', 'Embarked_Q',\n",
       "       'Embarked_S'],\n",
       "      dtype='object')"
      ]
     },
     "execution_count": 47,
     "metadata": {},
     "output_type": "execute_result"
    }
   ],
   "source": [
    "x_train_3.columns"
   ]
  },
  {
   "cell_type": "markdown",
   "metadata": {},
   "source": [
    "Random Forest con dichas features:\n",
    "\n",
    "- 'Sex', 'Age', 'SibSp', 'Parch', 'Fare', 'Embarked_C', 'Embarked_Q', 'Embarked_S', 'Pclass_1', 'Pclass_2', 'Pclass_3'\n",
    "\n",
    "Modelo 3\n",
    "\n",
    "| Métricas | Valor |\n",
    "|------|-------|\n",
    "| rf_accuracy|\t0.787935|\n",
    "| rf_f1_macro|\t0.778702|\n",
    "| rf_recall_macro|\t0.778910|\n",
    "| rf_precision_macro|\t0.780641|\n",
    "| rf_roc_auc_ovr|\t0.860072|"
   ]
  },
  {
   "cell_type": "markdown",
   "metadata": {},
   "source": [
    "# Hiperparámetros"
   ]
  },
  {
   "cell_type": "markdown",
   "metadata": {},
   "source": [
    "Modelo 1\n",
    "\n",
    "| Métrica | Valor |\n",
    "| -----| ------|\n",
    "|rf_accuracy|\t0.814646|\n",
    "|rf_f1_macro|\t0.804546|\n",
    "|rf_recall_macro|\t0.801167|\n",
    "|rf_precision_macro|\t0.811440|\n",
    "|rf_roc_auc_ovr|\t0.854046|\n",
    "\n",
    "Modelo 2\n",
    "\n",
    "| Métricas | Valor |\n",
    "| ---|----|\n",
    "| rf_accuracy|\t0.816054|\n",
    "| rf_f1_macro|\t0.805720|\n",
    "| rf_recall_macro|\t0.801752|\n",
    "| rf_precision_macro|\t0.814484|\n",
    "| rf_roc_auc_ovr|\t0.848026|\n",
    "\n",
    "Modelo 3\n",
    "\n",
    "| Métricas | Valor |\n",
    "|------|-------|\n",
    "| rf_accuracy|\t0.787935|\n",
    "| rf_f1_macro|\t0.778702|\n",
    "| rf_recall_macro|\t0.778910|\n",
    "| rf_precision_macro|\t0.780641|\n",
    "| rf_roc_auc_ovr|\t0.860072|"
   ]
  },
  {
   "cell_type": "markdown",
   "metadata": {},
   "source": [
    "- Exactitud (Accuracy):\n",
    "\n",
    "Supongamos que tu modelo predice correctamente 700 pasajeros y equivoca 100.\n",
    "La exactitud sería (700 + 0) / (700 + 100) = 0.875, lo que significa que tu modelo tiene una precisión del 87.5%.\n",
    "\n",
    "- Precisión (Precision):\n",
    "\n",
    "De los 800 pasajeros que tu modelo clasifica como sobrevivientes, 700 realmente sobrevivieron y 100 no.\n",
    "La precisión sería 700 / (700 + 100) = 0.875, lo que indica que el 87.5% de las predicciones de sobrevivientes son correctas.\n",
    "\n",
    "- Recuperación (Recall o Sensibilidad):\n",
    "\n",
    "De los 800 pasajeros que realmente sobrevivieron, tu modelo predice correctamente 700 como sobrevivientes y equivoca 100.\n",
    "La recuperación sería 700 / (700 + 100) = 0.875, lo que significa que el 87.5% de los sobrevivientes fueron identificados correctamente por tu modelo.\n",
    "\n",
    "- Puntuación F1 (F1 Score):\n",
    "\n",
    "La puntuación F1 es la media armónica de precisión y recuperación.\n",
    "Supongamos que la precisión es 0.875 y la recuperación también es 0.875.\n",
    "F1 Score = 2 * (0.875 * 0.875) / (0.875 + 0.875) = 0.875, lo que indica que el modelo tiene una puntuación F1 de 87.5%."
   ]
  },
  {
   "cell_type": "code",
   "execution_count": 48,
   "metadata": {},
   "outputs": [
    {
     "data": {
      "text/html": [
       "<style>#sk-container-id-1 {color: black;}#sk-container-id-1 pre{padding: 0;}#sk-container-id-1 div.sk-toggleable {background-color: white;}#sk-container-id-1 label.sk-toggleable__label {cursor: pointer;display: block;width: 100%;margin-bottom: 0;padding: 0.3em;box-sizing: border-box;text-align: center;}#sk-container-id-1 label.sk-toggleable__label-arrow:before {content: \"▸\";float: left;margin-right: 0.25em;color: #696969;}#sk-container-id-1 label.sk-toggleable__label-arrow:hover:before {color: black;}#sk-container-id-1 div.sk-estimator:hover label.sk-toggleable__label-arrow:before {color: black;}#sk-container-id-1 div.sk-toggleable__content {max-height: 0;max-width: 0;overflow: hidden;text-align: left;background-color: #f0f8ff;}#sk-container-id-1 div.sk-toggleable__content pre {margin: 0.2em;color: black;border-radius: 0.25em;background-color: #f0f8ff;}#sk-container-id-1 input.sk-toggleable__control:checked~div.sk-toggleable__content {max-height: 200px;max-width: 100%;overflow: auto;}#sk-container-id-1 input.sk-toggleable__control:checked~label.sk-toggleable__label-arrow:before {content: \"▾\";}#sk-container-id-1 div.sk-estimator input.sk-toggleable__control:checked~label.sk-toggleable__label {background-color: #d4ebff;}#sk-container-id-1 div.sk-label input.sk-toggleable__control:checked~label.sk-toggleable__label {background-color: #d4ebff;}#sk-container-id-1 input.sk-hidden--visually {border: 0;clip: rect(1px 1px 1px 1px);clip: rect(1px, 1px, 1px, 1px);height: 1px;margin: -1px;overflow: hidden;padding: 0;position: absolute;width: 1px;}#sk-container-id-1 div.sk-estimator {font-family: monospace;background-color: #f0f8ff;border: 1px dotted black;border-radius: 0.25em;box-sizing: border-box;margin-bottom: 0.5em;}#sk-container-id-1 div.sk-estimator:hover {background-color: #d4ebff;}#sk-container-id-1 div.sk-parallel-item::after {content: \"\";width: 100%;border-bottom: 1px solid gray;flex-grow: 1;}#sk-container-id-1 div.sk-label:hover label.sk-toggleable__label {background-color: #d4ebff;}#sk-container-id-1 div.sk-serial::before {content: \"\";position: absolute;border-left: 1px solid gray;box-sizing: border-box;top: 0;bottom: 0;left: 50%;z-index: 0;}#sk-container-id-1 div.sk-serial {display: flex;flex-direction: column;align-items: center;background-color: white;padding-right: 0.2em;padding-left: 0.2em;position: relative;}#sk-container-id-1 div.sk-item {position: relative;z-index: 1;}#sk-container-id-1 div.sk-parallel {display: flex;align-items: stretch;justify-content: center;background-color: white;position: relative;}#sk-container-id-1 div.sk-item::before, #sk-container-id-1 div.sk-parallel-item::before {content: \"\";position: absolute;border-left: 1px solid gray;box-sizing: border-box;top: 0;bottom: 0;left: 50%;z-index: -1;}#sk-container-id-1 div.sk-parallel-item {display: flex;flex-direction: column;z-index: 1;position: relative;background-color: white;}#sk-container-id-1 div.sk-parallel-item:first-child::after {align-self: flex-end;width: 50%;}#sk-container-id-1 div.sk-parallel-item:last-child::after {align-self: flex-start;width: 50%;}#sk-container-id-1 div.sk-parallel-item:only-child::after {width: 0;}#sk-container-id-1 div.sk-dashed-wrapped {border: 1px dashed gray;margin: 0 0.4em 0.5em 0.4em;box-sizing: border-box;padding-bottom: 0.4em;background-color: white;}#sk-container-id-1 div.sk-label label {font-family: monospace;font-weight: bold;display: inline-block;line-height: 1.2em;}#sk-container-id-1 div.sk-label-container {text-align: center;}#sk-container-id-1 div.sk-container {/* jupyter's `normalize.less` sets `[hidden] { display: none; }` but bootstrap.min.css set `[hidden] { display: none !important; }` so we also need the `!important` here to be able to override the default hidden behavior on the sphinx rendered scikit-learn.org. See: https://github.com/scikit-learn/scikit-learn/issues/21755 */display: inline-block !important;position: relative;}#sk-container-id-1 div.sk-text-repr-fallback {display: none;}</style><div id=\"sk-container-id-1\" class=\"sk-top-container\"><div class=\"sk-text-repr-fallback\"><pre>GridSearchCV(cv=5, estimator=RandomForestClassifier(), n_jobs=-1,\n",
       "             param_grid={&#x27;bootstrap&#x27;: [True, False],\n",
       "                         &#x27;class_weight&#x27;: [&#x27;balanced&#x27;, &#x27;balanced_subsample&#x27;],\n",
       "                         &#x27;criterion&#x27;: [&#x27;gini&#x27;, &#x27;entropy&#x27;],\n",
       "                         &#x27;max_depth&#x27;: array([1, 2, 3, 4, 5, 6, 7])},\n",
       "             scoring=&#x27;precision_macro&#x27;)</pre><b>In a Jupyter environment, please rerun this cell to show the HTML representation or trust the notebook. <br />On GitHub, the HTML representation is unable to render, please try loading this page with nbviewer.org.</b></div><div class=\"sk-container\" hidden><div class=\"sk-item sk-dashed-wrapped\"><div class=\"sk-label-container\"><div class=\"sk-label sk-toggleable\"><input class=\"sk-toggleable__control sk-hidden--visually\" id=\"sk-estimator-id-1\" type=\"checkbox\" ><label for=\"sk-estimator-id-1\" class=\"sk-toggleable__label sk-toggleable__label-arrow\">GridSearchCV</label><div class=\"sk-toggleable__content\"><pre>GridSearchCV(cv=5, estimator=RandomForestClassifier(), n_jobs=-1,\n",
       "             param_grid={&#x27;bootstrap&#x27;: [True, False],\n",
       "                         &#x27;class_weight&#x27;: [&#x27;balanced&#x27;, &#x27;balanced_subsample&#x27;],\n",
       "                         &#x27;criterion&#x27;: [&#x27;gini&#x27;, &#x27;entropy&#x27;],\n",
       "                         &#x27;max_depth&#x27;: array([1, 2, 3, 4, 5, 6, 7])},\n",
       "             scoring=&#x27;precision_macro&#x27;)</pre></div></div></div><div class=\"sk-parallel\"><div class=\"sk-parallel-item\"><div class=\"sk-item\"><div class=\"sk-label-container\"><div class=\"sk-label sk-toggleable\"><input class=\"sk-toggleable__control sk-hidden--visually\" id=\"sk-estimator-id-2\" type=\"checkbox\" ><label for=\"sk-estimator-id-2\" class=\"sk-toggleable__label sk-toggleable__label-arrow\">estimator: RandomForestClassifier</label><div class=\"sk-toggleable__content\"><pre>RandomForestClassifier()</pre></div></div></div><div class=\"sk-serial\"><div class=\"sk-item\"><div class=\"sk-estimator sk-toggleable\"><input class=\"sk-toggleable__control sk-hidden--visually\" id=\"sk-estimator-id-3\" type=\"checkbox\" ><label for=\"sk-estimator-id-3\" class=\"sk-toggleable__label sk-toggleable__label-arrow\">RandomForestClassifier</label><div class=\"sk-toggleable__content\"><pre>RandomForestClassifier()</pre></div></div></div></div></div></div></div></div></div></div>"
      ],
      "text/plain": [
       "GridSearchCV(cv=5, estimator=RandomForestClassifier(), n_jobs=-1,\n",
       "             param_grid={'bootstrap': [True, False],\n",
       "                         'class_weight': ['balanced', 'balanced_subsample'],\n",
       "                         'criterion': ['gini', 'entropy'],\n",
       "                         'max_depth': array([1, 2, 3, 4, 5, 6, 7])},\n",
       "             scoring='precision_macro')"
      ]
     },
     "execution_count": 48,
     "metadata": {},
     "output_type": "execute_result"
    }
   ],
   "source": [
    "from sklearn.model_selection import GridSearchCV\n",
    "\n",
    "param_grid = {\n",
    "    'bootstrap': [True, False],\n",
    "    'max_depth': np.arange(1, 8, 1),\n",
    "    'criterion': ['gini', 'entropy'],\n",
    "    'class_weight' : ['balanced', 'balanced_subsample']\n",
    "}\n",
    "\n",
    "rand = RandomForestClassifier()\n",
    "\n",
    "grid_search = GridSearchCV(rand,\n",
    "                           param_grid,\n",
    "                           cv=5,\n",
    "                           scoring='precision_macro',\n",
    "                           n_jobs=-1\n",
    "                          )\n",
    "\n",
    "grid_search.fit(x_train_3, y_train_3)"
   ]
  },
  {
   "cell_type": "code",
   "execution_count": 51,
   "metadata": {},
   "outputs": [
    {
     "data": {
      "text/plain": [
       "{'bootstrap': True,\n",
       " 'class_weight': 'balanced_subsample',\n",
       " 'criterion': 'entropy',\n",
       " 'max_depth': 7}"
      ]
     },
     "execution_count": 51,
     "metadata": {},
     "output_type": "execute_result"
    }
   ],
   "source": [
    "grid_search.best_params_"
=======
    "resultados_df.T.sort_values(by=0, ascending=False)"
>>>>>>> upstream/main
   ]
  },
  {
   "cell_type": "markdown",
   "metadata": {},
   "source": [
    "# Entrenar"
   ]
  },
  {
   "cell_type": "code",
   "execution_count": 52,
   "metadata": {},
<<<<<<< HEAD
   "outputs": [
    {
     "data": {
      "text/html": [
       "<style>#sk-container-id-2 {color: black;}#sk-container-id-2 pre{padding: 0;}#sk-container-id-2 div.sk-toggleable {background-color: white;}#sk-container-id-2 label.sk-toggleable__label {cursor: pointer;display: block;width: 100%;margin-bottom: 0;padding: 0.3em;box-sizing: border-box;text-align: center;}#sk-container-id-2 label.sk-toggleable__label-arrow:before {content: \"▸\";float: left;margin-right: 0.25em;color: #696969;}#sk-container-id-2 label.sk-toggleable__label-arrow:hover:before {color: black;}#sk-container-id-2 div.sk-estimator:hover label.sk-toggleable__label-arrow:before {color: black;}#sk-container-id-2 div.sk-toggleable__content {max-height: 0;max-width: 0;overflow: hidden;text-align: left;background-color: #f0f8ff;}#sk-container-id-2 div.sk-toggleable__content pre {margin: 0.2em;color: black;border-radius: 0.25em;background-color: #f0f8ff;}#sk-container-id-2 input.sk-toggleable__control:checked~div.sk-toggleable__content {max-height: 200px;max-width: 100%;overflow: auto;}#sk-container-id-2 input.sk-toggleable__control:checked~label.sk-toggleable__label-arrow:before {content: \"▾\";}#sk-container-id-2 div.sk-estimator input.sk-toggleable__control:checked~label.sk-toggleable__label {background-color: #d4ebff;}#sk-container-id-2 div.sk-label input.sk-toggleable__control:checked~label.sk-toggleable__label {background-color: #d4ebff;}#sk-container-id-2 input.sk-hidden--visually {border: 0;clip: rect(1px 1px 1px 1px);clip: rect(1px, 1px, 1px, 1px);height: 1px;margin: -1px;overflow: hidden;padding: 0;position: absolute;width: 1px;}#sk-container-id-2 div.sk-estimator {font-family: monospace;background-color: #f0f8ff;border: 1px dotted black;border-radius: 0.25em;box-sizing: border-box;margin-bottom: 0.5em;}#sk-container-id-2 div.sk-estimator:hover {background-color: #d4ebff;}#sk-container-id-2 div.sk-parallel-item::after {content: \"\";width: 100%;border-bottom: 1px solid gray;flex-grow: 1;}#sk-container-id-2 div.sk-label:hover label.sk-toggleable__label {background-color: #d4ebff;}#sk-container-id-2 div.sk-serial::before {content: \"\";position: absolute;border-left: 1px solid gray;box-sizing: border-box;top: 0;bottom: 0;left: 50%;z-index: 0;}#sk-container-id-2 div.sk-serial {display: flex;flex-direction: column;align-items: center;background-color: white;padding-right: 0.2em;padding-left: 0.2em;position: relative;}#sk-container-id-2 div.sk-item {position: relative;z-index: 1;}#sk-container-id-2 div.sk-parallel {display: flex;align-items: stretch;justify-content: center;background-color: white;position: relative;}#sk-container-id-2 div.sk-item::before, #sk-container-id-2 div.sk-parallel-item::before {content: \"\";position: absolute;border-left: 1px solid gray;box-sizing: border-box;top: 0;bottom: 0;left: 50%;z-index: -1;}#sk-container-id-2 div.sk-parallel-item {display: flex;flex-direction: column;z-index: 1;position: relative;background-color: white;}#sk-container-id-2 div.sk-parallel-item:first-child::after {align-self: flex-end;width: 50%;}#sk-container-id-2 div.sk-parallel-item:last-child::after {align-self: flex-start;width: 50%;}#sk-container-id-2 div.sk-parallel-item:only-child::after {width: 0;}#sk-container-id-2 div.sk-dashed-wrapped {border: 1px dashed gray;margin: 0 0.4em 0.5em 0.4em;box-sizing: border-box;padding-bottom: 0.4em;background-color: white;}#sk-container-id-2 div.sk-label label {font-family: monospace;font-weight: bold;display: inline-block;line-height: 1.2em;}#sk-container-id-2 div.sk-label-container {text-align: center;}#sk-container-id-2 div.sk-container {/* jupyter's `normalize.less` sets `[hidden] { display: none; }` but bootstrap.min.css set `[hidden] { display: none !important; }` so we also need the `!important` here to be able to override the default hidden behavior on the sphinx rendered scikit-learn.org. See: https://github.com/scikit-learn/scikit-learn/issues/21755 */display: inline-block !important;position: relative;}#sk-container-id-2 div.sk-text-repr-fallback {display: none;}</style><div id=\"sk-container-id-2\" class=\"sk-top-container\"><div class=\"sk-text-repr-fallback\"><pre>RandomForestClassifier(class_weight=&#x27;balanced_subsample&#x27;, criterion=&#x27;entropy&#x27;,\n",
       "                       max_depth=7, random_state=42)</pre><b>In a Jupyter environment, please rerun this cell to show the HTML representation or trust the notebook. <br />On GitHub, the HTML representation is unable to render, please try loading this page with nbviewer.org.</b></div><div class=\"sk-container\" hidden><div class=\"sk-item\"><div class=\"sk-estimator sk-toggleable\"><input class=\"sk-toggleable__control sk-hidden--visually\" id=\"sk-estimator-id-4\" type=\"checkbox\" checked><label for=\"sk-estimator-id-4\" class=\"sk-toggleable__label sk-toggleable__label-arrow\">RandomForestClassifier</label><div class=\"sk-toggleable__content\"><pre>RandomForestClassifier(class_weight=&#x27;balanced_subsample&#x27;, criterion=&#x27;entropy&#x27;,\n",
       "                       max_depth=7, random_state=42)</pre></div></div></div></div></div>"
      ],
      "text/plain": [
       "RandomForestClassifier(class_weight='balanced_subsample', criterion='entropy',\n",
       "                       max_depth=7, random_state=42)"
      ]
     },
     "execution_count": 52,
     "metadata": {},
     "output_type": "execute_result"
    }
   ],
   "source": [
    "# {'bootstrap': True,\n",
    "#  'class_weight': 'balanced_subsample',\n",
    "#  'criterion': 'entropy',\n",
    "#  'max_depth': 6}\n",
    "rand = RandomForestClassifier(random_state=42, bootstrap=True, class_weight='balanced_subsample', criterion='entropy', max_depth=7)\n",
    "rand.fit(x_train_3, y_train_3)"
   ]
  },
  {
   "cell_type": "code",
   "execution_count": 53,
   "metadata": {},
   "outputs": [
    {
     "data": {
      "text/plain": [
       "array([0.1350543 , 0.2299982 , 0.39941528, 0.19308525, 0.01327103,\n",
       "       0.01282114, 0.0163548 ])"
      ]
     },
     "execution_count": 53,
     "metadata": {},
     "output_type": "execute_result"
    }
   ],
   "source": [
    "rand.feature_importances_"
=======
   "outputs": [],
   "source": [
    "catb = CatBoostClassifier(verbose=False)\n",
    "catb.fit(X_train_sca_ohe, y_train)"
>>>>>>> upstream/main
   ]
  },
  {
   "cell_type": "markdown",
   "metadata": {},
   "source": [
    "# Predicción"
   ]
  },
  {
   "cell_type": "code",
   "execution_count": 54,
   "metadata": {},
<<<<<<< HEAD
   "outputs": [
    {
     "data": {
      "text/plain": [
       "array([0, 0, 1, 0, 0, 1, 1, 0, 0, 0, 1, 0, 0, 0, 1, 1, 0, 0, 0, 0, 1, 1,\n",
       "       0, 1, 0, 0, 0, 0, 0, 0, 0, 0, 1, 1, 1, 0, 0, 1, 0, 0, 0, 0, 0, 0,\n",
       "       1, 0, 0, 0, 0, 0, 0, 1, 0, 1, 1, 0, 1, 0, 0, 1, 0, 0, 0, 0, 0, 1,\n",
       "       1, 0, 1, 0, 0, 0, 0, 0, 0, 0, 0, 1, 0, 0, 0, 1, 0, 0, 0, 1, 0, 0,\n",
       "       0, 0, 0, 1, 1, 1, 0, 0, 1, 0, 0, 0, 0, 0, 0, 0, 0, 0, 0, 0, 0, 0,\n",
       "       0, 1, 1, 1, 1, 0, 1, 1, 0, 0, 1, 1, 1, 0, 1, 1, 1, 1, 1, 0, 0, 0,\n",
       "       0, 0, 0, 1, 0, 0, 0, 0, 1, 0, 0, 0, 1, 0, 0, 0, 1, 0, 0, 1, 0, 0,\n",
       "       0, 0, 0, 1, 0, 0, 0, 0, 0, 1, 0, 0, 0, 1, 0, 0, 0, 0, 0, 0, 0, 0,\n",
       "       1, 1, 0], dtype=int64)"
      ]
     },
     "execution_count": 54,
     "metadata": {},
     "output_type": "execute_result"
    }
   ],
   "source": [
    "pred = rand.predict(x_test_3)\n",
    "pred"
=======
   "outputs": [],
   "source": [
    "y_pred = catb.predict(X_test_sca_ohe)\n",
    "y_pred"
>>>>>>> upstream/main
   ]
  },
  {
   "cell_type": "markdown",
   "metadata": {},
   "source": [
    "# Validación del modelo"
   ]
  },
  {
   "cell_type": "code",
   "execution_count": 55,
   "metadata": {},
<<<<<<< HEAD
   "outputs": [
    {
     "name": "stdout",
     "output_type": "stream",
     "text": [
      "              precision    recall  f1-score   support\n",
      "\n",
      "           0       0.84      0.87      0.85       122\n",
      "           1       0.70      0.65      0.67        57\n",
      "\n",
      "    accuracy                           0.80       179\n",
      "   macro avg       0.77      0.76      0.76       179\n",
      "weighted avg       0.80      0.80      0.80       179\n",
      "\n"
     ]
    }
   ],
   "source": [
    "print(classification_report(y_test_3, pred))"
=======
   "outputs": [],
   "source": [
    "print(classification_report(y_test, y_pred))"
>>>>>>> upstream/main
   ]
  },
  {
   "cell_type": "markdown",
   "metadata": {},
   "source": [
<<<<<<< HEAD
    "                  precision    recall  f1-score   support\n",
    "\n",
    "           0       0.84      0.88      0.86       122\n",
    "           1       0.71      0.65      0.68        57\n",
    "\n",
    "    accuracy                           0.80       179\n",
    "    macro avg       0.78      0.76      0.77       179\n",
    "    weighted avg       0.80      0.80      0.80       179\n"
=======
    "## Optimización del modelo"
>>>>>>> upstream/main
   ]
  },
  {
   "cell_type": "code",
<<<<<<< HEAD
   "execution_count": 56,
   "metadata": {},
   "outputs": [
    {
     "data": {
      "text/plain": [
       "<sklearn.metrics._plot.confusion_matrix.ConfusionMatrixDisplay at 0x23f180d89d0>"
      ]
     },
     "execution_count": 56,
     "metadata": {},
     "output_type": "execute_result"
    },
    {
     "data": {
      "image/png": "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",
      "text/plain": [
       "<Figure size 640x480 with 2 Axes>"
      ]
     },
     "metadata": {},
     "output_type": "display_data"
    }
   ],
   "source": [
    "ConfusionMatrixDisplay(confusion_matrix(y_test_3, pred)).plot()"
=======
   "execution_count": null,
   "metadata": {},
   "outputs": [],
   "source": [
    "param_grid = {\n",
    "    'depth': [6, 8, 10],\n",
    "    'learning_rate': [0.01, 0.05, 0.1],\n",
    "    'iterations': [30, 50, 100]\n",
    "}\n",
    "catb = CatBoostClassifier(verbose=False)\n",
    "\n",
    "grid_search = GridSearchCV(estimator=catb, param_grid=param_grid, cv=3, scoring='accuracy')\n",
    "\n",
    "grid_search.fit(X_train_sca_ohe, y_train)\n",
    "\n",
    "best_parameters = grid_search.best_params_\n",
    "best_model = grid_search.best_estimator_"
   ]
  },
  {
   "cell_type": "code",
   "execution_count": null,
   "metadata": {},
   "outputs": [],
   "source": [
    "print(f\"Best score (Accuracy): {grid_search.best_score_}\")\n",
    "print(f\"Best parameters: {best_parameters}\")"
>>>>>>> upstream/main
   ]
  }
 ],
 "metadata": {
  "kernelspec": {
   "display_name": ".venv",
   "language": "python",
   "name": "python3"
  },
  "language_info": {
   "codemirror_mode": {
    "name": "ipython",
    "version": 3
   },
   "file_extension": ".py",
   "mimetype": "text/x-python",
   "name": "python",
   "nbconvert_exporter": "python",
   "pygments_lexer": "ipython3",
   "version": "3.11.7"
  }
 },
 "nbformat": 4,
 "nbformat_minor": 2
}
