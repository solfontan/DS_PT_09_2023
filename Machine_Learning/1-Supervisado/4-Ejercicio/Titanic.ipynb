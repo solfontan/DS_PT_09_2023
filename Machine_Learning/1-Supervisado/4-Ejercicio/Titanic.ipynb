{
 "cells": [
  {
   "cell_type": "markdown",
   "metadata": {},
   "source": [
    "# Librería"
   ]
  },
  {
   "cell_type": "code",
   "execution_count": 1,
   "metadata": {},
   "outputs": [],
   "source": [
    "# Tratamiento de datos\n",
    "import pandas as pd\n",
    "import numpy as np\n",
    "# Visualización\n",
    "import matplotlib.pyplot as plt\n",
    "import seaborn as sns\n",
    "# Modelos\n",
    "from sklearn.model_selection import train_test_split, cross_val_score, cross_validate\n",
    "from sklearn.preprocessing import OneHotEncoder, StandardScaler, LabelEncoder, MinMaxScaler\n",
    "from sklearn.compose import ColumnTransformer\n",
    "from sklearn.pipeline import make_pipeline\n",
    "from sklearn.linear_model import LogisticRegression\n",
    "from sklearn.svm import SVC\n",
    "from sklearn.ensemble import  RandomForestClassifier, VotingClassifier\n",
    "from sklearn.tree import DecisionTreeClassifier\n",
    "from sklearn.metrics import confusion_matrix, classification_report, accuracy_score, f1_score, precision_score, recall_score, \\\n",
    "roc_curve, roc_auc_score, ConfusionMatrixDisplay, multilabel_confusion_matrix\n",
    "\n",
    "import warnings\n",
    "warnings.filterwarnings('ignore')"
   ]
  },
  {
   "cell_type": "markdown",
   "metadata": {},
   "source": [
    "# Data"
   ]
  },
  {
   "cell_type": "code",
   "execution_count": 2,
   "metadata": {},
   "outputs": [],
   "source": [
    "URL = 'https://raw.githubusercontent.com/datasciencedojo/datasets/master/titanic.csv'\n",
    "titanic = pd.read_csv(URL, index_col='PassengerId')"
   ]
  },
  {
   "cell_type": "markdown",
   "metadata": {},
   "source": [
    "PassengerId -> Muestra el id del Pasajero (solamente es un indicador.) \n",
    "\n",
    "Survived -> Se encuentra en 2 valores 0 si murió en la trajedia y 1 si sobrevivió.\n",
    "\n",
    "Pclass -> Determina la clase del pasajero, 1ra, 2da o 3era clase. \n",
    "\n",
    "Name -> Nombre de los Pasajeros. \n",
    "\n",
    "Sex -> Sexo de los Pasajeros.\n",
    "\n",
    "Age -> Edad de los Pasajeros.\n",
    "\n",
    "SibSp -> Número de parientes como Hermano, Hermana, Hermanastra, Hermanastro, Esposo o Esposa. \n",
    "\n",
    "Parch -> Número de parientes como Madre, Padre, Hijo, Hija, Hijastro, Hijastra.\n",
    "\n",
    "Ticket -> Número del ticket o boleto. \n",
    "\n",
    "Fare -> Tarifa del pasaje. \n",
    "\n",
    "Cabin -> Número de cabina del pasajero. \n",
    "\n",
    "Embarked -> Muestra los datos del puerto de embarcaquedero. (C = Cherbourg, Q = Queenston, S = Southapmtpon)"
   ]
  },
  {
   "cell_type": "markdown",
   "metadata": {},
   "source": [
    "# Primera Exploración"
   ]
  },
  {
   "cell_type": "code",
   "execution_count": 3,
   "metadata": {},
   "outputs": [],
   "source": [
    "df = titanic.copy()"
   ]
  },
  {
   "cell_type": "code",
   "execution_count": 4,
   "metadata": {},
   "outputs": [
    {
     "data": {
      "text/html": [
       "<div>\n",
       "<style scoped>\n",
       "    .dataframe tbody tr th:only-of-type {\n",
       "        vertical-align: middle;\n",
       "    }\n",
       "\n",
       "    .dataframe tbody tr th {\n",
       "        vertical-align: top;\n",
       "    }\n",
       "\n",
       "    .dataframe thead th {\n",
       "        text-align: right;\n",
       "    }\n",
       "</style>\n",
       "<table border=\"1\" class=\"dataframe\">\n",
       "  <thead>\n",
       "    <tr style=\"text-align: right;\">\n",
       "      <th></th>\n",
       "      <th>Survived</th>\n",
       "      <th>Pclass</th>\n",
       "      <th>Name</th>\n",
       "      <th>Sex</th>\n",
       "      <th>Age</th>\n",
       "      <th>SibSp</th>\n",
       "      <th>Parch</th>\n",
       "      <th>Ticket</th>\n",
       "      <th>Fare</th>\n",
       "      <th>Cabin</th>\n",
       "      <th>Embarked</th>\n",
       "    </tr>\n",
       "    <tr>\n",
       "      <th>PassengerId</th>\n",
       "      <th></th>\n",
       "      <th></th>\n",
       "      <th></th>\n",
       "      <th></th>\n",
       "      <th></th>\n",
       "      <th></th>\n",
       "      <th></th>\n",
       "      <th></th>\n",
       "      <th></th>\n",
       "      <th></th>\n",
       "      <th></th>\n",
       "    </tr>\n",
       "  </thead>\n",
       "  <tbody>\n",
       "    <tr>\n",
       "      <th>1</th>\n",
       "      <td>0</td>\n",
       "      <td>3</td>\n",
       "      <td>Braund, Mr. Owen Harris</td>\n",
       "      <td>male</td>\n",
       "      <td>22.0</td>\n",
       "      <td>1</td>\n",
       "      <td>0</td>\n",
       "      <td>A/5 21171</td>\n",
       "      <td>7.2500</td>\n",
       "      <td>NaN</td>\n",
       "      <td>S</td>\n",
       "    </tr>\n",
       "    <tr>\n",
       "      <th>2</th>\n",
       "      <td>1</td>\n",
       "      <td>1</td>\n",
       "      <td>Cumings, Mrs. John Bradley (Florence Briggs Th...</td>\n",
       "      <td>female</td>\n",
       "      <td>38.0</td>\n",
       "      <td>1</td>\n",
       "      <td>0</td>\n",
       "      <td>PC 17599</td>\n",
       "      <td>71.2833</td>\n",
       "      <td>C85</td>\n",
       "      <td>C</td>\n",
       "    </tr>\n",
       "    <tr>\n",
       "      <th>3</th>\n",
       "      <td>1</td>\n",
       "      <td>3</td>\n",
       "      <td>Heikkinen, Miss. Laina</td>\n",
       "      <td>female</td>\n",
       "      <td>26.0</td>\n",
       "      <td>0</td>\n",
       "      <td>0</td>\n",
       "      <td>STON/O2. 3101282</td>\n",
       "      <td>7.9250</td>\n",
       "      <td>NaN</td>\n",
       "      <td>S</td>\n",
       "    </tr>\n",
       "    <tr>\n",
       "      <th>4</th>\n",
       "      <td>1</td>\n",
       "      <td>1</td>\n",
       "      <td>Futrelle, Mrs. Jacques Heath (Lily May Peel)</td>\n",
       "      <td>female</td>\n",
       "      <td>35.0</td>\n",
       "      <td>1</td>\n",
       "      <td>0</td>\n",
       "      <td>113803</td>\n",
       "      <td>53.1000</td>\n",
       "      <td>C123</td>\n",
       "      <td>S</td>\n",
       "    </tr>\n",
       "    <tr>\n",
       "      <th>5</th>\n",
       "      <td>0</td>\n",
       "      <td>3</td>\n",
       "      <td>Allen, Mr. William Henry</td>\n",
       "      <td>male</td>\n",
       "      <td>35.0</td>\n",
       "      <td>0</td>\n",
       "      <td>0</td>\n",
       "      <td>373450</td>\n",
       "      <td>8.0500</td>\n",
       "      <td>NaN</td>\n",
       "      <td>S</td>\n",
       "    </tr>\n",
       "  </tbody>\n",
       "</table>\n",
       "</div>"
      ],
      "text/plain": [
       "             Survived  Pclass  \\\n",
       "PassengerId                     \n",
       "1                   0       3   \n",
       "2                   1       1   \n",
       "3                   1       3   \n",
       "4                   1       1   \n",
       "5                   0       3   \n",
       "\n",
       "                                                          Name     Sex   Age  \\\n",
       "PassengerId                                                                    \n",
       "1                                      Braund, Mr. Owen Harris    male  22.0   \n",
       "2            Cumings, Mrs. John Bradley (Florence Briggs Th...  female  38.0   \n",
       "3                                       Heikkinen, Miss. Laina  female  26.0   \n",
       "4                 Futrelle, Mrs. Jacques Heath (Lily May Peel)  female  35.0   \n",
       "5                                     Allen, Mr. William Henry    male  35.0   \n",
       "\n",
       "             SibSp  Parch            Ticket     Fare Cabin Embarked  \n",
       "PassengerId                                                          \n",
       "1                1      0         A/5 21171   7.2500   NaN        S  \n",
       "2                1      0          PC 17599  71.2833   C85        C  \n",
       "3                0      0  STON/O2. 3101282   7.9250   NaN        S  \n",
       "4                1      0            113803  53.1000  C123        S  \n",
       "5                0      0            373450   8.0500   NaN        S  "
      ]
     },
     "execution_count": 4,
     "metadata": {},
     "output_type": "execute_result"
    }
   ],
   "source": [
    "df.head()"
   ]
  },
  {
   "cell_type": "code",
   "execution_count": 5,
   "metadata": {},
   "outputs": [
    {
     "data": {
      "text/html": [
       "<div>\n",
       "<style scoped>\n",
       "    .dataframe tbody tr th:only-of-type {\n",
       "        vertical-align: middle;\n",
       "    }\n",
       "\n",
       "    .dataframe tbody tr th {\n",
       "        vertical-align: top;\n",
       "    }\n",
       "\n",
       "    .dataframe thead th {\n",
       "        text-align: right;\n",
       "    }\n",
       "</style>\n",
       "<table border=\"1\" class=\"dataframe\">\n",
       "  <thead>\n",
       "    <tr style=\"text-align: right;\">\n",
       "      <th></th>\n",
       "      <th>Survived</th>\n",
       "      <th>Pclass</th>\n",
       "      <th>Name</th>\n",
       "      <th>Sex</th>\n",
       "      <th>Age</th>\n",
       "      <th>SibSp</th>\n",
       "      <th>Parch</th>\n",
       "      <th>Ticket</th>\n",
       "      <th>Fare</th>\n",
       "      <th>Cabin</th>\n",
       "      <th>Embarked</th>\n",
       "    </tr>\n",
       "    <tr>\n",
       "      <th>PassengerId</th>\n",
       "      <th></th>\n",
       "      <th></th>\n",
       "      <th></th>\n",
       "      <th></th>\n",
       "      <th></th>\n",
       "      <th></th>\n",
       "      <th></th>\n",
       "      <th></th>\n",
       "      <th></th>\n",
       "      <th></th>\n",
       "      <th></th>\n",
       "    </tr>\n",
       "  </thead>\n",
       "  <tbody>\n",
       "    <tr>\n",
       "      <th>887</th>\n",
       "      <td>0</td>\n",
       "      <td>2</td>\n",
       "      <td>Montvila, Rev. Juozas</td>\n",
       "      <td>male</td>\n",
       "      <td>27.0</td>\n",
       "      <td>0</td>\n",
       "      <td>0</td>\n",
       "      <td>211536</td>\n",
       "      <td>13.00</td>\n",
       "      <td>NaN</td>\n",
       "      <td>S</td>\n",
       "    </tr>\n",
       "    <tr>\n",
       "      <th>888</th>\n",
       "      <td>1</td>\n",
       "      <td>1</td>\n",
       "      <td>Graham, Miss. Margaret Edith</td>\n",
       "      <td>female</td>\n",
       "      <td>19.0</td>\n",
       "      <td>0</td>\n",
       "      <td>0</td>\n",
       "      <td>112053</td>\n",
       "      <td>30.00</td>\n",
       "      <td>B42</td>\n",
       "      <td>S</td>\n",
       "    </tr>\n",
       "    <tr>\n",
       "      <th>889</th>\n",
       "      <td>0</td>\n",
       "      <td>3</td>\n",
       "      <td>Johnston, Miss. Catherine Helen \"Carrie\"</td>\n",
       "      <td>female</td>\n",
       "      <td>NaN</td>\n",
       "      <td>1</td>\n",
       "      <td>2</td>\n",
       "      <td>W./C. 6607</td>\n",
       "      <td>23.45</td>\n",
       "      <td>NaN</td>\n",
       "      <td>S</td>\n",
       "    </tr>\n",
       "    <tr>\n",
       "      <th>890</th>\n",
       "      <td>1</td>\n",
       "      <td>1</td>\n",
       "      <td>Behr, Mr. Karl Howell</td>\n",
       "      <td>male</td>\n",
       "      <td>26.0</td>\n",
       "      <td>0</td>\n",
       "      <td>0</td>\n",
       "      <td>111369</td>\n",
       "      <td>30.00</td>\n",
       "      <td>C148</td>\n",
       "      <td>C</td>\n",
       "    </tr>\n",
       "    <tr>\n",
       "      <th>891</th>\n",
       "      <td>0</td>\n",
       "      <td>3</td>\n",
       "      <td>Dooley, Mr. Patrick</td>\n",
       "      <td>male</td>\n",
       "      <td>32.0</td>\n",
       "      <td>0</td>\n",
       "      <td>0</td>\n",
       "      <td>370376</td>\n",
       "      <td>7.75</td>\n",
       "      <td>NaN</td>\n",
       "      <td>Q</td>\n",
       "    </tr>\n",
       "  </tbody>\n",
       "</table>\n",
       "</div>"
      ],
      "text/plain": [
       "             Survived  Pclass                                      Name  \\\n",
       "PassengerId                                                               \n",
       "887                 0       2                     Montvila, Rev. Juozas   \n",
       "888                 1       1              Graham, Miss. Margaret Edith   \n",
       "889                 0       3  Johnston, Miss. Catherine Helen \"Carrie\"   \n",
       "890                 1       1                     Behr, Mr. Karl Howell   \n",
       "891                 0       3                       Dooley, Mr. Patrick   \n",
       "\n",
       "                Sex   Age  SibSp  Parch      Ticket   Fare Cabin Embarked  \n",
       "PassengerId                                                                \n",
       "887            male  27.0      0      0      211536  13.00   NaN        S  \n",
       "888          female  19.0      0      0      112053  30.00   B42        S  \n",
       "889          female   NaN      1      2  W./C. 6607  23.45   NaN        S  \n",
       "890            male  26.0      0      0      111369  30.00  C148        C  \n",
       "891            male  32.0      0      0      370376   7.75   NaN        Q  "
      ]
     },
     "execution_count": 5,
     "metadata": {},
     "output_type": "execute_result"
    }
   ],
   "source": [
    "df.tail()"
   ]
  },
  {
   "cell_type": "code",
   "execution_count": 6,
   "metadata": {},
   "outputs": [
    {
     "data": {
      "text/plain": [
       "(891, 11)"
      ]
     },
     "execution_count": 6,
     "metadata": {},
     "output_type": "execute_result"
    }
   ],
   "source": [
    "df.shape"
   ]
  },
  {
   "cell_type": "code",
   "execution_count": 7,
   "metadata": {},
   "outputs": [
    {
     "name": "stdout",
     "output_type": "stream",
     "text": [
      "<class 'pandas.core.frame.DataFrame'>\n",
      "Index: 891 entries, 1 to 891\n",
      "Data columns (total 11 columns):\n",
      " #   Column    Non-Null Count  Dtype  \n",
      "---  ------    --------------  -----  \n",
      " 0   Survived  891 non-null    int64  \n",
      " 1   Pclass    891 non-null    int64  \n",
      " 2   Name      891 non-null    object \n",
      " 3   Sex       891 non-null    object \n",
      " 4   Age       714 non-null    float64\n",
      " 5   SibSp     891 non-null    int64  \n",
      " 6   Parch     891 non-null    int64  \n",
      " 7   Ticket    891 non-null    object \n",
      " 8   Fare      891 non-null    float64\n",
      " 9   Cabin     204 non-null    object \n",
      " 10  Embarked  889 non-null    object \n",
      "dtypes: float64(2), int64(4), object(5)\n",
      "memory usage: 83.5+ KB\n"
     ]
    }
   ],
   "source": [
    "df.info()"
   ]
  },
  {
   "cell_type": "markdown",
   "metadata": {},
   "source": [
    "- Age - Cabin - Embarked poseen nulos\n",
    "- Tenemos 5 columnas de tipo object -> Pasar a datos númericos."
   ]
  },
  {
   "cell_type": "code",
   "execution_count": 8,
   "metadata": {},
   "outputs": [
    {
     "data": {
      "text/html": [
       "<div>\n",
       "<style scoped>\n",
       "    .dataframe tbody tr th:only-of-type {\n",
       "        vertical-align: middle;\n",
       "    }\n",
       "\n",
       "    .dataframe tbody tr th {\n",
       "        vertical-align: top;\n",
       "    }\n",
       "\n",
       "    .dataframe thead th {\n",
       "        text-align: right;\n",
       "    }\n",
       "</style>\n",
       "<table border=\"1\" class=\"dataframe\">\n",
       "  <thead>\n",
       "    <tr style=\"text-align: right;\">\n",
       "      <th></th>\n",
       "      <th>Survived</th>\n",
       "      <th>Pclass</th>\n",
       "      <th>Age</th>\n",
       "      <th>SibSp</th>\n",
       "      <th>Parch</th>\n",
       "      <th>Fare</th>\n",
       "    </tr>\n",
       "  </thead>\n",
       "  <tbody>\n",
       "    <tr>\n",
       "      <th>count</th>\n",
       "      <td>891.000000</td>\n",
       "      <td>891.000000</td>\n",
       "      <td>714.000000</td>\n",
       "      <td>891.000000</td>\n",
       "      <td>891.000000</td>\n",
       "      <td>891.000000</td>\n",
       "    </tr>\n",
       "    <tr>\n",
       "      <th>mean</th>\n",
       "      <td>0.383838</td>\n",
       "      <td>2.308642</td>\n",
       "      <td>29.699118</td>\n",
       "      <td>0.523008</td>\n",
       "      <td>0.381594</td>\n",
       "      <td>32.204208</td>\n",
       "    </tr>\n",
       "    <tr>\n",
       "      <th>std</th>\n",
       "      <td>0.486592</td>\n",
       "      <td>0.836071</td>\n",
       "      <td>14.526497</td>\n",
       "      <td>1.102743</td>\n",
       "      <td>0.806057</td>\n",
       "      <td>49.693429</td>\n",
       "    </tr>\n",
       "    <tr>\n",
       "      <th>min</th>\n",
       "      <td>0.000000</td>\n",
       "      <td>1.000000</td>\n",
       "      <td>0.420000</td>\n",
       "      <td>0.000000</td>\n",
       "      <td>0.000000</td>\n",
       "      <td>0.000000</td>\n",
       "    </tr>\n",
       "    <tr>\n",
       "      <th>25%</th>\n",
       "      <td>0.000000</td>\n",
       "      <td>2.000000</td>\n",
       "      <td>20.125000</td>\n",
       "      <td>0.000000</td>\n",
       "      <td>0.000000</td>\n",
       "      <td>7.910400</td>\n",
       "    </tr>\n",
       "    <tr>\n",
       "      <th>50%</th>\n",
       "      <td>0.000000</td>\n",
       "      <td>3.000000</td>\n",
       "      <td>28.000000</td>\n",
       "      <td>0.000000</td>\n",
       "      <td>0.000000</td>\n",
       "      <td>14.454200</td>\n",
       "    </tr>\n",
       "    <tr>\n",
       "      <th>75%</th>\n",
       "      <td>1.000000</td>\n",
       "      <td>3.000000</td>\n",
       "      <td>38.000000</td>\n",
       "      <td>1.000000</td>\n",
       "      <td>0.000000</td>\n",
       "      <td>31.000000</td>\n",
       "    </tr>\n",
       "    <tr>\n",
       "      <th>max</th>\n",
       "      <td>1.000000</td>\n",
       "      <td>3.000000</td>\n",
       "      <td>80.000000</td>\n",
       "      <td>8.000000</td>\n",
       "      <td>6.000000</td>\n",
       "      <td>512.329200</td>\n",
       "    </tr>\n",
       "  </tbody>\n",
       "</table>\n",
       "</div>"
      ],
      "text/plain": [
       "         Survived      Pclass         Age       SibSp       Parch        Fare\n",
       "count  891.000000  891.000000  714.000000  891.000000  891.000000  891.000000\n",
       "mean     0.383838    2.308642   29.699118    0.523008    0.381594   32.204208\n",
       "std      0.486592    0.836071   14.526497    1.102743    0.806057   49.693429\n",
       "min      0.000000    1.000000    0.420000    0.000000    0.000000    0.000000\n",
       "25%      0.000000    2.000000   20.125000    0.000000    0.000000    7.910400\n",
       "50%      0.000000    3.000000   28.000000    0.000000    0.000000   14.454200\n",
       "75%      1.000000    3.000000   38.000000    1.000000    0.000000   31.000000\n",
       "max      1.000000    3.000000   80.000000    8.000000    6.000000  512.329200"
      ]
     },
     "execution_count": 8,
     "metadata": {},
     "output_type": "execute_result"
    }
   ],
   "source": [
    "df.describe()"
   ]
  },
  {
   "cell_type": "markdown",
   "metadata": {},
   "source": [
    "- Survived es binaria númerica.\n",
    "- Pclass -> podemos observar tres tipos de clases, donde la mayor parte se encuentra en la 3.\n",
    "- Age -> Podemos notar que hiberon niños en el barco.\n",
    "- Fare -> el boleto más caro es de 512."
   ]
  },
  {
   "cell_type": "code",
   "execution_count": 9,
   "metadata": {},
   "outputs": [
    {
     "data": {
      "text/html": [
       "<div>\n",
       "<style scoped>\n",
       "    .dataframe tbody tr th:only-of-type {\n",
       "        vertical-align: middle;\n",
       "    }\n",
       "\n",
       "    .dataframe tbody tr th {\n",
       "        vertical-align: top;\n",
       "    }\n",
       "\n",
       "    .dataframe thead th {\n",
       "        text-align: right;\n",
       "    }\n",
       "</style>\n",
       "<table border=\"1\" class=\"dataframe\">\n",
       "  <thead>\n",
       "    <tr style=\"text-align: right;\">\n",
       "      <th></th>\n",
       "      <th>Name</th>\n",
       "      <th>Sex</th>\n",
       "      <th>Ticket</th>\n",
       "      <th>Cabin</th>\n",
       "      <th>Embarked</th>\n",
       "    </tr>\n",
       "  </thead>\n",
       "  <tbody>\n",
       "    <tr>\n",
       "      <th>count</th>\n",
       "      <td>891</td>\n",
       "      <td>891</td>\n",
       "      <td>891</td>\n",
       "      <td>204</td>\n",
       "      <td>889</td>\n",
       "    </tr>\n",
       "    <tr>\n",
       "      <th>unique</th>\n",
       "      <td>891</td>\n",
       "      <td>2</td>\n",
       "      <td>681</td>\n",
       "      <td>147</td>\n",
       "      <td>3</td>\n",
       "    </tr>\n",
       "    <tr>\n",
       "      <th>top</th>\n",
       "      <td>Braund, Mr. Owen Harris</td>\n",
       "      <td>male</td>\n",
       "      <td>347082</td>\n",
       "      <td>B96 B98</td>\n",
       "      <td>S</td>\n",
       "    </tr>\n",
       "    <tr>\n",
       "      <th>freq</th>\n",
       "      <td>1</td>\n",
       "      <td>577</td>\n",
       "      <td>7</td>\n",
       "      <td>4</td>\n",
       "      <td>644</td>\n",
       "    </tr>\n",
       "  </tbody>\n",
       "</table>\n",
       "</div>"
      ],
      "text/plain": [
       "                           Name   Sex  Ticket    Cabin Embarked\n",
       "count                       891   891     891      204      889\n",
       "unique                      891     2     681      147        3\n",
       "top     Braund, Mr. Owen Harris  male  347082  B96 B98        S\n",
       "freq                          1   577       7        4      644"
      ]
     },
     "execution_count": 9,
     "metadata": {},
     "output_type": "execute_result"
    }
   ],
   "source": [
    "df.describe(include='object')"
   ]
  },
  {
   "cell_type": "markdown",
   "metadata": {},
   "source": [
    "- Name -> no es importante para saber si sobrevivió o no. Corresponde al requisito que son todos únicos.\n",
    "- Ticket -> demasiados únicos, pero hay repetidos por lo que le quita cierto valor.\n",
    "- Cabin -> Posee varios nulos."
   ]
  },
  {
   "cell_type": "code",
   "execution_count": 10,
   "metadata": {},
   "outputs": [
    {
     "data": {
      "text/plain": [
       "<Axes: >"
      ]
     },
     "execution_count": 10,
     "metadata": {},
     "output_type": "execute_result"
    },
    {
     "data": {
      "image/png": "[encoded data removed]",
      "text/plain": [
       "<Figure size 640x480 with 2 Axes>"
      ]
     },
     "metadata": {},
     "output_type": "display_data"
    }
   ],
   "source": [
    "sns.heatmap(df.corr(numeric_only=True), annot=True)"
   ]
  },
  {
   "cell_type": "markdown",
   "metadata": {},
   "source": [
    "# Mini EDA"
   ]
  },
  {
   "cell_type": "code",
   "execution_count": 11,
   "metadata": {},
   "outputs": [],
   "source": [
    "from clases import CategoricalReport, NumericReport"
   ]
  },
  {
   "cell_type": "code",
   "execution_count": 12,
   "metadata": {},
   "outputs": [
    {
     "name": "stdout",
     "output_type": "stream",
     "text": [
      "\n",
      " ************************************************************************************************************** \n",
      "\n",
      "Variable : NAME\n",
      "\n",
      "+---------------------------------------------------+---------------------------+\n",
      "|                   Valores Únicos                  | Frecuencia de Mayor Valor |\n",
      "+---------------------------------------------------+---------------------------+\n",
      "|              Braund, Mr. Owen Harris              |             1             |\n",
      "|           Saundercock, Mr. William Henry          |             1             |\n",
      "|            Andersson, Mr. Anders Johan            |             1             |\n",
      "|               Heikkinen, Miss. Laina              |             1             |\n",
      "|    Futrelle, Mrs. Jacques Heath (Lily May Peel)   |             1             |\n",
      "|              Allen, Mr. William Henry             |             1             |\n",
      "|                  Moran, Mr. James                 |             1             |\n",
      "|              McCarthy, Mr. Timothy J              |             1             |\n",
      "|           Palsson, Master. Gosta Leonard          |             1             |\n",
      "| Johnson, Mrs. Oscar W (Elisabeth Vilhelmina Berg) |             1             |\n",
      "+---------------------------------------------------+---------------------------+\n",
      "\n",
      "Nulos: 0 (0.00%) sobre el total: 891 rows\n",
      "\n",
      "+---------------------+-----------------------+\n",
      "|         Moda        | Frecuencia de la moda |\n",
      "+---------------------+-----------------------+\n",
      "| Abbing, Mr. Anthony |          891          |\n",
      "+---------------------+-----------------------+\n"
     ]
    },
    {
     "data": {
      "image/png": "[encoded data removed]",
      "text/plain": [
       "<Figure size 1000x600 with 1 Axes>"
      ]
     },
     "metadata": {},
     "output_type": "display_data"
    },
    {
     "name": "stdout",
     "output_type": "stream",
     "text": [
      "\n",
      " ************************************************************************************************************** \n",
      "\n",
      "Variable : SEX\n",
      "\n",
      "+----------------+---------------------------+\n",
      "| Valores Únicos | Frecuencia de Mayor Valor |\n",
      "+----------------+---------------------------+\n",
      "|      male      |            577            |\n",
      "|     female     |            314            |\n",
      "+----------------+---------------------------+\n",
      "\n",
      "Nulos: 0 (0.00%) sobre el total: 891 rows\n",
      "\n",
      "+------+-----------------------+\n",
      "| Moda | Frecuencia de la moda |\n",
      "+------+-----------------------+\n",
      "| male |           1           |\n",
      "+------+-----------------------+\n"
     ]
    },
    {
     "data": {
      "image/png": "[encoded data removed]",
      "text/plain": [
       "<Figure size 1000x600 with 1 Axes>"
      ]
     },
     "metadata": {},
     "output_type": "display_data"
    },
    {
     "name": "stdout",
     "output_type": "stream",
     "text": [
      "\n",
      " ************************************************************************************************************** \n",
      "\n",
      "Variable : TICKET\n",
      "\n",
      "+----------------+---------------------------+\n",
      "| Valores Únicos | Frecuencia de Mayor Valor |\n",
      "+----------------+---------------------------+\n",
      "|     347082     |             7             |\n",
      "|      1601      |             7             |\n",
      "|    CA. 2343    |             7             |\n",
      "|    3101295     |             6             |\n",
      "|    CA 2144     |             6             |\n",
      "|     347088     |             6             |\n",
      "|  S.O.C. 14879  |             5             |\n",
      "|     382652     |             5             |\n",
      "|      4133      |             4             |\n",
      "|     347077     |             4             |\n",
      "+----------------+---------------------------+\n",
      "\n",
      "Nulos: 0 (0.00%) sobre el total: 891 rows\n",
      "\n",
      "+------+-----------------------+\n",
      "| Moda | Frecuencia de la moda |\n",
      "+------+-----------------------+\n",
      "| 1601 |           3           |\n",
      "+------+-----------------------+\n"
     ]
    },
    {
     "data": {
      "image/png": "[encoded data removed]",
      "text/plain": [
       "<Figure size 1000x600 with 1 Axes>"
      ]
     },
     "metadata": {},
     "output_type": "display_data"
    },
    {
     "name": "stdout",
     "output_type": "stream",
     "text": [
      "\n",
      " ************************************************************************************************************** \n",
      "\n",
      "Variable : CABIN\n",
      "\n",
      "+----------------+---------------------------+\n",
      "| Valores Únicos | Frecuencia de Mayor Valor |\n",
      "+----------------+---------------------------+\n",
      "|    B96 B98     |             4             |\n",
      "|  C23 C25 C27   |             4             |\n",
      "|       G6       |             4             |\n",
      "|    C22 C26     |             3             |\n",
      "|      F33       |             3             |\n",
      "|       F2       |             3             |\n",
      "|      E101      |             3             |\n",
      "|       D        |             3             |\n",
      "|      D26       |             2             |\n",
      "|       F4       |             2             |\n",
      "+----------------+---------------------------+\n",
      "\n",
      "Nulos: 687 (77.10%) sobre el total: 891 rows\n",
      "\n",
      "+---------+-----------------------+\n",
      "|   Moda  | Frecuencia de la moda |\n",
      "+---------+-----------------------+\n",
      "| B96 B98 |           3           |\n",
      "+---------+-----------------------+\n"
     ]
    },
    {
     "data": {
      "image/png": "[encoded data removed]",
      "text/plain": [
       "<Figure size 1000x600 with 1 Axes>"
      ]
     },
     "metadata": {},
     "output_type": "display_data"
    },
    {
     "name": "stdout",
     "output_type": "stream",
     "text": [
      "\n",
      " ************************************************************************************************************** \n",
      "\n",
      "Variable : EMBARKED\n",
      "\n",
      "+----------------+---------------------------+\n",
      "| Valores Únicos | Frecuencia de Mayor Valor |\n",
      "+----------------+---------------------------+\n",
      "|       S        |            644            |\n",
      "|       C        |            168            |\n",
      "|       Q        |             77            |\n",
      "+----------------+---------------------------+\n",
      "\n",
      "Nulos: 2 (0.22%) sobre el total: 891 rows\n",
      "\n",
      "+------+-----------------------+\n",
      "| Moda | Frecuencia de la moda |\n",
      "+------+-----------------------+\n",
      "|  S   |           1           |\n",
      "+------+-----------------------+\n"
     ]
    },
    {
     "data": {
      "image/png": "[encoded data removed]",
      "text/plain": [
       "<Figure size 1000x600 with 1 Axes>"
      ]
     },
     "metadata": {},
     "output_type": "display_data"
    }
   ],
   "source": [
    "# Crear una instancia de la clase\n",
    "categorical_reporter = CategoricalReport(df)\n",
    "\n",
    "# Generar informe para la columna 'Category'\n",
    "categorical_reporter.generate_report('Name', color= \"orange\")\n",
    "categorical_reporter.generate_report('Sex', color=\"orange\")\n",
    "categorical_reporter.generate_report('Ticket', color=\"orange\")\n",
    "categorical_reporter.generate_report('Cabin', color=\"orange\")\n",
    "categorical_reporter.generate_report('Embarked', color=\"orange\")"
   ]
  },
  {
   "cell_type": "code",
   "execution_count": 13,
   "metadata": {},
   "outputs": [
    {
     "name": "stdout",
     "output_type": "stream",
     "text": [
      "\n",
      " ************************************************************************************************************** \n",
      "\n",
      "Variable : SURVIVED\n",
      "\n",
      "+----------------+------------+\n",
      "| Valores Únicos | Frecuencia |\n",
      "+----------------+------------+\n",
      "|       0        |    549     |\n",
      "|       1        |    342     |\n",
      "+----------------+------------+\n",
      "\n",
      "Nulos: 0 (0.00%) sobre el total: 891 rows\n",
      "\n",
      "+---------------------+-------+\n",
      "|  Medidas Centrales  | Valor |\n",
      "+---------------------+-------+\n",
      "|        Media        |  0.38 |\n",
      "|       Mediana       |  0.00 |\n",
      "| Desviación Estándar |  0.49 |\n",
      "+---------------------+-------+\n",
      "\n",
      "+--------------------------+-------+\n",
      "| Forma de la Distribución | Valor |\n",
      "+--------------------------+-------+\n",
      "|         Curtosis         | -1.78 |\n",
      "|        Asimetría         |  0.48 |\n",
      "+--------------------------+-------+\n",
      "\n",
      " ************************************************************************************************************** \n",
      "\n"
     ]
    },
    {
     "data": {
      "image/png": "[encoded data removed]",
      "text/plain": [
       "<Figure size 1000x600 with 1 Axes>"
      ]
     },
     "metadata": {},
     "output_type": "display_data"
    },
    {
     "name": "stdout",
     "output_type": "stream",
     "text": [
      "\n",
      " ************************************************************************************************************** \n",
      "\n",
      "Variable : PCLASS\n",
      "\n",
      "+----------------+------------+\n",
      "| Valores Únicos | Frecuencia |\n",
      "+----------------+------------+\n",
      "|       3        |    491     |\n",
      "|       1        |    216     |\n",
      "|       2        |    184     |\n",
      "+----------------+------------+\n",
      "\n",
      "Nulos: 0 (0.00%) sobre el total: 891 rows\n",
      "\n",
      "+---------------------+-------+\n",
      "|  Medidas Centrales  | Valor |\n",
      "+---------------------+-------+\n",
      "|        Media        |  2.31 |\n",
      "|       Mediana       |  3.00 |\n",
      "| Desviación Estándar |  0.84 |\n",
      "+---------------------+-------+\n",
      "\n",
      "+--------------------------+-------+\n",
      "| Forma de la Distribución | Valor |\n",
      "+--------------------------+-------+\n",
      "|         Curtosis         | -1.28 |\n",
      "|        Asimetría         | -0.63 |\n",
      "+--------------------------+-------+\n",
      "\n",
      " ************************************************************************************************************** \n",
      "\n"
     ]
    },
    {
     "data": {
      "image/png": "[encoded data removed]",
      "text/plain": [
       "<Figure size 1000x600 with 1 Axes>"
      ]
     },
     "metadata": {},
     "output_type": "display_data"
    },
    {
     "name": "stdout",
     "output_type": "stream",
     "text": [
      "\n",
      " ************************************************************************************************************** \n",
      "\n",
      "Variable : AGE\n",
      "\n",
      "+----------------+------------+\n",
      "| Valores Únicos | Frecuencia |\n",
      "+----------------+------------+\n",
      "|      24.0      |     30     |\n",
      "|      22.0      |     27     |\n",
      "|      18.0      |     26     |\n",
      "|      28.0      |     25     |\n",
      "|      19.0      |     25     |\n",
      "|      30.0      |     25     |\n",
      "|      21.0      |     24     |\n",
      "|      25.0      |     23     |\n",
      "|      36.0      |     22     |\n",
      "|      29.0      |     20     |\n",
      "+----------------+------------+\n",
      "\n",
      "Nulos: 177 (19.87%) sobre el total: 891 rows\n",
      "\n",
      "+---------------------+-------+\n",
      "|  Medidas Centrales  | Valor |\n",
      "+---------------------+-------+\n",
      "|        Media        | 29.70 |\n",
      "|       Mediana       | 28.00 |\n",
      "| Desviación Estándar | 14.53 |\n",
      "+---------------------+-------+\n",
      "\n",
      "+--------------------------+-------+\n",
      "| Forma de la Distribución | Valor |\n",
      "+--------------------------+-------+\n",
      "|         Curtosis         |  0.18 |\n",
      "|        Asimetría         |  0.39 |\n",
      "+--------------------------+-------+\n",
      "\n",
      " ************************************************************************************************************** \n",
      "\n"
     ]
    },
    {
     "data": {
      "image/png": "[encoded data removed]",
      "text/plain": [
       "<Figure size 1000x600 with 1 Axes>"
      ]
     },
     "metadata": {},
     "output_type": "display_data"
    },
    {
     "name": "stdout",
     "output_type": "stream",
     "text": [
      "\n",
      " ************************************************************************************************************** \n",
      "\n",
      "Variable : SIBSP\n",
      "\n",
      "+----------------+------------+\n",
      "| Valores Únicos | Frecuencia |\n",
      "+----------------+------------+\n",
      "|       0        |    608     |\n",
      "|       1        |    209     |\n",
      "|       2        |     28     |\n",
      "|       4        |     18     |\n",
      "|       3        |     16     |\n",
      "|       8        |     7      |\n",
      "|       5        |     5      |\n",
      "+----------------+------------+\n",
      "\n",
      "Nulos: 0 (0.00%) sobre el total: 891 rows\n",
      "\n",
      "+---------------------+-------+\n",
      "|  Medidas Centrales  | Valor |\n",
      "+---------------------+-------+\n",
      "|        Media        |  0.52 |\n",
      "|       Mediana       |  0.00 |\n",
      "| Desviación Estándar |  1.10 |\n",
      "+---------------------+-------+\n",
      "\n",
      "+--------------------------+-------+\n",
      "| Forma de la Distribución | Valor |\n",
      "+--------------------------+-------+\n",
      "|         Curtosis         | 17.88 |\n",
      "|        Asimetría         |  3.70 |\n",
      "+--------------------------+-------+\n",
      "\n",
      " ************************************************************************************************************** \n",
      "\n"
     ]
    },
    {
     "data": {
      "image/png": "[encoded data removed]",
      "text/plain": [
       "<Figure size 1000x600 with 1 Axes>"
      ]
     },
     "metadata": {},
     "output_type": "display_data"
    },
    {
     "name": "stdout",
     "output_type": "stream",
     "text": [
      "\n",
      " ************************************************************************************************************** \n",
      "\n",
      "Variable : PARCH\n",
      "\n",
      "+----------------+------------+\n",
      "| Valores Únicos | Frecuencia |\n",
      "+----------------+------------+\n",
      "|       0        |    678     |\n",
      "|       1        |    118     |\n",
      "|       2        |     80     |\n",
      "|       5        |     5      |\n",
      "|       3        |     5      |\n",
      "|       4        |     4      |\n",
      "|       6        |     1      |\n",
      "+----------------+------------+\n",
      "\n",
      "Nulos: 0 (0.00%) sobre el total: 891 rows\n",
      "\n",
      "+---------------------+-------+\n",
      "|  Medidas Centrales  | Valor |\n",
      "+---------------------+-------+\n",
      "|        Media        |  0.38 |\n",
      "|       Mediana       |  0.00 |\n",
      "| Desviación Estándar |  0.81 |\n",
      "+---------------------+-------+\n",
      "\n",
      "+--------------------------+-------+\n",
      "| Forma de la Distribución | Valor |\n",
      "+--------------------------+-------+\n",
      "|         Curtosis         |  9.78 |\n",
      "|        Asimetría         |  2.75 |\n",
      "+--------------------------+-------+\n",
      "\n",
      " ************************************************************************************************************** \n",
      "\n"
     ]
    },
    {
     "data": {
      "image/png": "[encoded data removed]",
      "text/plain": [
       "<Figure size 1000x600 with 1 Axes>"
      ]
     },
     "metadata": {},
     "output_type": "display_data"
    },
    {
     "name": "stdout",
     "output_type": "stream",
     "text": [
      "\n",
      " ************************************************************************************************************** \n",
      "\n",
      "Variable : FARE\n",
      "\n",
      "+----------------+------------+\n",
      "| Valores Únicos | Frecuencia |\n",
      "+----------------+------------+\n",
      "|      8.05      |     43     |\n",
      "|      13.0      |     42     |\n",
      "|     7.8958     |     38     |\n",
      "|      7.75      |     34     |\n",
      "|      26.0      |     31     |\n",
      "|      10.5      |     24     |\n",
      "|     7.925      |     18     |\n",
      "|     7.775      |     16     |\n",
      "|     26.55      |     15     |\n",
      "|     7.2292     |     15     |\n",
      "+----------------+------------+\n",
      "\n",
      "Nulos: 0 (0.00%) sobre el total: 891 rows\n",
      "\n",
      "+---------------------+-------+\n",
      "|  Medidas Centrales  | Valor |\n",
      "+---------------------+-------+\n",
      "|        Media        | 32.20 |\n",
      "|       Mediana       | 14.45 |\n",
      "| Desviación Estándar | 49.69 |\n",
      "+---------------------+-------+\n",
      "\n",
      "+--------------------------+-------+\n",
      "| Forma de la Distribución | Valor |\n",
      "+--------------------------+-------+\n",
      "|         Curtosis         | 33.40 |\n",
      "|        Asimetría         |  4.79 |\n",
      "+--------------------------+-------+\n",
      "\n",
      " ************************************************************************************************************** \n",
      "\n"
     ]
    },
    {
     "data": {
      "image/png": "[encoded data removed]",
      "text/plain": [
       "<Figure size 1000x600 with 1 Axes>"
      ]
     },
     "metadata": {},
     "output_type": "display_data"
    }
   ],
   "source": [
    "# Crear una instancia de la clase\n",
    "numeric_reporter = NumericReport(df)\n",
    "\n",
    "numeric_reporter.generate_report('Survived', 'histograma', color='orange')\n",
    "numeric_reporter.generate_report('Pclass', 'histograma', color='orange')\n",
    "numeric_reporter.generate_report('Age', 'boxplot', color='orange')\n",
    "numeric_reporter.generate_report('SibSp', 'histograma', color='orange')\n",
    "numeric_reporter.generate_report('Parch', 'histograma', color='orange')\n",
    "numeric_reporter.generate_report('Fare', 'densidad', color='orange')"
   ]
  },
  {
   "cell_type": "markdown",
   "metadata": {},
   "source": [
    "#### análisis bivariante"
   ]
  },
  {
   "cell_type": "markdown",
   "metadata": {},
   "source": [
    "- Para un modelo de clasificación, generalmente se prefiere utilizar medidas de correlación que capturen relaciones monotónicas y no necesariamente lineales. En este caso, las correlaciones de rango, como la correlación de Spearman o Kendall, podrían ser más apropiadas que la correlación de Pearson, que asume una relación lineal."
   ]
  },
  {
   "cell_type": "code",
   "execution_count": 14,
   "metadata": {},
   "outputs": [
    {
     "data": {
      "text/plain": [
       "Index(['Survived', 'Pclass', 'Name', 'Sex', 'Age', 'SibSp', 'Parch', 'Ticket',\n",
       "       'Fare', 'Cabin', 'Embarked'],\n",
       "      dtype='object')"
      ]
     },
     "execution_count": 14,
     "metadata": {},
     "output_type": "execute_result"
    }
   ],
   "source": [
    "df.columns"
   ]
  },
  {
   "cell_type": "code",
   "execution_count": 15,
   "metadata": {},
   "outputs": [
    {
     "data": {
      "text/plain": [
       "<Axes: xlabel='Survived', ylabel='SibSp'>"
      ]
     },
     "execution_count": 15,
     "metadata": {},
     "output_type": "execute_result"
    },
    {
     "data": {
      "image/png": "[encoded data removed]",
      "text/plain": [
       "<Figure size 640x480 with 1 Axes>"
      ]
     },
     "metadata": {},
     "output_type": "display_data"
    }
   ],
   "source": [
    "sns.boxenplot(data=df, x='Survived', y ='SibSp')"
   ]
  },
  {
   "cell_type": "markdown",
   "metadata": {},
   "source": [
    "- Podemos notar que a mayor familiar, menos se sobrevivía."
   ]
  },
  {
   "cell_type": "code",
   "execution_count": 16,
   "metadata": {},
   "outputs": [
    {
     "data": {
      "text/plain": [
       "<Axes: xlabel='Embarked', ylabel='Fare'>"
      ]
     },
     "execution_count": 16,
     "metadata": {},
     "output_type": "execute_result"
    },
    {
     "data": {
      "image/png": "[encoded data removed]",
      "text/plain": [
       "<Figure size 640x480 with 1 Axes>"
      ]
     },
     "metadata": {},
     "output_type": "display_data"
    }
   ],
   "source": [
    "sns.scatterplot(data=df, y='Fare', x ='Embarked')"
   ]
  },
  {
   "cell_type": "code",
   "execution_count": 17,
   "metadata": {},
   "outputs": [
    {
     "data": {
      "text/plain": [
       "<Axes: xlabel='Pclass', ylabel='Fare'>"
      ]
     },
     "execution_count": 17,
     "metadata": {},
     "output_type": "execute_result"
    },
    {
     "data": {
      "image/png": "[encoded data removed]",
      "text/plain": [
       "<Figure size 640x480 with 1 Axes>"
      ]
     },
     "metadata": {},
     "output_type": "display_data"
    }
   ],
   "source": [
    "sns.scatterplot(data=df, y='Fare', x ='Pclass')"
   ]
  },
  {
   "cell_type": "code",
   "execution_count": 18,
   "metadata": {},
   "outputs": [
    {
     "data": {
      "image/png": "[encoded data removed]",
      "text/plain": [
       "<Figure size 581.611x500 with 6 Axes>"
      ]
     },
     "metadata": {},
     "output_type": "display_data"
    }
   ],
   "source": [
    "# Crear el gráfico de matriz de dispersión\n",
    "sns.pairplot(data=df, hue='Embarked', vars=['Fare', 'Pclass'], diag_kind='kde')\n",
    "\n",
    "# Mostrar el gráfico\n",
    "plt.show()\n"
   ]
  },
  {
   "cell_type": "markdown",
   "metadata": {},
   "source": [
    "- C -> se pagaron los Fare más caros, pertenecientes la mayoría a primera clase.\n",
    "- Q -> se pagaron los Fare más baratos, pertenecientes a tercera clase. INCORRECTO"
   ]
  },
  {
   "cell_type": "code",
   "execution_count": 19,
   "metadata": {},
   "outputs": [
    {
     "data": {
      "text/plain": [
       "Pclass  Embarked\n",
       "1       C           78.2667\n",
       "        Q           90.0000\n",
       "        S           52.0000\n",
       "2       C           24.0000\n",
       "        Q           12.3500\n",
       "        S           13.5000\n",
       "3       C            7.8958\n",
       "        Q            7.7500\n",
       "        S            8.0500\n",
       "Name: Fare, dtype: float64"
      ]
     },
     "execution_count": 19,
     "metadata": {},
     "output_type": "execute_result"
    }
   ],
   "source": [
    "df.groupby(['Pclass', 'Embarked'])['Fare'].median()"
   ]
  },
  {
   "cell_type": "markdown",
   "metadata": {},
   "source": [
    "Las tarifas promedio más altas corresponden a los pasajeros de primera clase (Pclass=1), seguidas por la segunda clase (Pclass=2) y luego la tercera clase (Pclass=3). \n",
    "\n",
    "La relación entre la tarifa promedio y el puerto de embarque (Embarked) varía. Por ejemplo:\n",
    "\n",
    "1) Para la primera clase, la tarifa promedio más alta corresponde a los pasajeros que embarcaron desde el puerto de Queenstown (Q), seguida por el puerto de Cherbourg (C) y luego Southampton (S).\n",
    "\n",
    "2) Para la segunda clase, la tarifa promedio más alta también corresponde a los pasajeros que embarcaron desde Queenstown (Q), seguida por Cherbourg (C) y luego Southampton (S).\n",
    "\n",
    "3) Para la tercera clase, la tarifa promedio más alta corresponde a los pasajeros que embarcaron desde Cherbourg (C), seguida por Southampton (S) y luego Queenstown (Q)."
   ]
  },
  {
   "cell_type": "markdown",
   "metadata": {},
   "source": [
    "Supongamos que tenemos los siguientes datos de pasajeros del Titanic:\n",
    "\n",
    "- Pasajero 1: Clase 1, embarcado en C (Cherbourg)\n",
    "- Pasajero 2: Clase 2, embarcado en S (Southampton)\n",
    "- Pasajero 3: Clase 3, embarcado en C (Cherbourg)\n",
    "- Pasajero 4: Clase 1, embarcado en Q (Queenstown)\n",
    "- Pasajero 5: Clase 2, embarcado en S (Southampton)\n",
    "\n",
    "Aquí hay una tabla que muestra estos datos:\n",
    "\n",
    "| Pasajero | Clase | Embarcado |\n",
    "|----------|-------|-----------|\n",
    "| 1        | 1     | C         |\n",
    "| 2        | 2     | S         |\n",
    "| 3        | 3     | C         |\n",
    "| 4        | 1     | Q         |\n",
    "| 5        | 2     | S         |\n",
    "\n",
    "Ahora, vamos a calcular el porcentaje de embarque por clase.\n",
    "\n",
    "1. Primero, agrupamos los datos por clase y puerto de embarque y contamos cuántos pasajeros hay en cada combinación. Entonces, obtenemos algo como esto:\n",
    "\n",
    "```\n",
    "Pclass  Embarked\n",
    "1       C           1\n",
    "        Q           1\n",
    "2       S           2\n",
    "3       C           1\n",
    "dtype: int64\n",
    "```\n",
    "\n",
    "Esto nos dice cuántos pasajeros de cada clase embarcaron desde cada puerto.\n",
    "\n",
    "2. Luego, calculamos el total de pasajeros por clase. En nuestro ejemplo, tenemos:\n",
    "\n",
    "```\n",
    "Pclass\n",
    "1    2\n",
    "2    2\n",
    "3    1\n",
    "dtype: int64\n",
    "```\n",
    "\n",
    "3. Finalmente, dividimos el recuento de embarque por clase y puerto entre el total de pasajeros por clase y lo multiplicamos por 100 para obtener el porcentaje de embarque por clase y puerto. Por ejemplo, para la clase 1:\n",
    "\n",
    "```\n",
    "Porcentaje de embarque para clase 1:\n",
    "C: (1 / 2) * 100 = 50%\n",
    "Q: (1 / 2) * 100 = 50%\n",
    "```\n",
    "\n",
    "Esto significa que el 50% de los pasajeros de clase 1 embarcaron desde el puerto C y el 50% desde el puerto Q.\n"
   ]
  },
  {
   "cell_type": "code",
   "execution_count": 20,
   "metadata": {},
   "outputs": [
    {
     "name": "stdout",
     "output_type": "stream",
     "text": [
      "Porcentaje de embarque por clase y puerto:\n",
      "Pclass  Embarked\n",
      "1       C           39.351852\n",
      "        Q            0.925926\n",
      "        S           58.796296\n",
      "2       C            9.239130\n",
      "        Q            1.630435\n",
      "        S           89.130435\n",
      "3       C           13.441955\n",
      "        Q           14.663951\n",
      "        S           71.894094\n",
      "dtype: float64\n"
     ]
    }
   ],
   "source": [
    "# Agrupar por clase y puerto de embarque y calcular el recuento de pasajeros\n",
    "count_by_class_and_embarked = df.groupby(['Pclass', 'Embarked']).size()\n",
    "\n",
    "# Calcular el total de pasajeros por clase\n",
    "total_passengers_by_class = df.groupby('Pclass').size()\n",
    "\n",
    "# Calcular el porcentaje de embarque por clase\n",
    "percentage_embarked_by_class = (count_by_class_and_embarked / total_passengers_by_class) * 100\n",
    "\n",
    "print(\"Porcentaje de embarque por clase y puerto:\")\n",
    "print(percentage_embarked_by_class)\n"
   ]
  },
  {
   "cell_type": "code",
   "execution_count": 21,
   "metadata": {},
   "outputs": [
    {
     "data": {
      "text/plain": [
       "<Axes: xlabel='Pclass', ylabel='Survived'>"
      ]
     },
     "execution_count": 21,
     "metadata": {},
     "output_type": "execute_result"
    },
    {
     "data": {
      "image/png": "[encoded data removed]",
      "text/plain": [
       "<Figure size 640x480 with 1 Axes>"
      ]
     },
     "metadata": {},
     "output_type": "display_data"
    }
   ],
   "source": [
    "sns.violinplot(data=df, x='Pclass', y ='Survived', hue=\"Sex\")"
   ]
  },
  {
   "cell_type": "code",
   "execution_count": 22,
   "metadata": {},
   "outputs": [
    {
     "data": {
      "text/plain": [
       "<Axes: xlabel='Fare', ylabel='Age'>"
      ]
     },
     "execution_count": 22,
     "metadata": {},
     "output_type": "execute_result"
    },
    {
     "data": {
      "image/png": "[encoded data removed]",
      "text/plain": [
       "<Figure size 640x480 with 1 Axes>"
      ]
     },
     "metadata": {},
     "output_type": "display_data"
    }
   ],
   "source": [
    "sns.scatterplot(data=df, x='Fare', y='Age')"
   ]
  },
  {
   "cell_type": "markdown",
   "metadata": {},
   "source": [
    "# Tratamiento de missing y valores atípicos"
   ]
  },
  {
   "cell_type": "code",
   "execution_count": 36,
   "metadata": {},
   "outputs": [],
   "source": [
    "df = titanic.copy()"
   ]
  },
  {
   "cell_type": "code",
   "execution_count": 37,
   "metadata": {},
   "outputs": [],
   "source": [
    "df.drop(columns=['Cabin', 'Ticket'], inplace=True) # No tiene sentido rellenar la cabina y el ticket"
   ]
  },
  {
   "cell_type": "code",
   "execution_count": 38,
   "metadata": {},
   "outputs": [
    {
     "data": {
      "text/html": [
       "<div>\n",
       "<style scoped>\n",
       "    .dataframe tbody tr th:only-of-type {\n",
       "        vertical-align: middle;\n",
       "    }\n",
       "\n",
       "    .dataframe tbody tr th {\n",
       "        vertical-align: top;\n",
       "    }\n",
       "\n",
       "    .dataframe thead th {\n",
       "        text-align: right;\n",
       "    }\n",
       "</style>\n",
       "<table border=\"1\" class=\"dataframe\">\n",
       "  <thead>\n",
       "    <tr style=\"text-align: right;\">\n",
       "      <th></th>\n",
       "      <th>Survived</th>\n",
       "      <th>Pclass</th>\n",
       "      <th>Name</th>\n",
       "      <th>Sex</th>\n",
       "      <th>Age</th>\n",
       "      <th>SibSp</th>\n",
       "      <th>Parch</th>\n",
       "      <th>Fare</th>\n",
       "      <th>Embarked</th>\n",
       "    </tr>\n",
       "    <tr>\n",
       "      <th>PassengerId</th>\n",
       "      <th></th>\n",
       "      <th></th>\n",
       "      <th></th>\n",
       "      <th></th>\n",
       "      <th></th>\n",
       "      <th></th>\n",
       "      <th></th>\n",
       "      <th></th>\n",
       "      <th></th>\n",
       "    </tr>\n",
       "  </thead>\n",
       "  <tbody>\n",
       "    <tr>\n",
       "      <th>62</th>\n",
       "      <td>1</td>\n",
       "      <td>1</td>\n",
       "      <td>Icard, Miss. Amelie</td>\n",
       "      <td>female</td>\n",
       "      <td>38.0</td>\n",
       "      <td>0</td>\n",
       "      <td>0</td>\n",
       "      <td>80.0</td>\n",
       "      <td>NaN</td>\n",
       "    </tr>\n",
       "    <tr>\n",
       "      <th>830</th>\n",
       "      <td>1</td>\n",
       "      <td>1</td>\n",
       "      <td>Stone, Mrs. George Nelson (Martha Evelyn)</td>\n",
       "      <td>female</td>\n",
       "      <td>62.0</td>\n",
       "      <td>0</td>\n",
       "      <td>0</td>\n",
       "      <td>80.0</td>\n",
       "      <td>NaN</td>\n",
       "    </tr>\n",
       "  </tbody>\n",
       "</table>\n",
       "</div>"
      ],
      "text/plain": [
       "             Survived  Pclass                                       Name  \\\n",
       "PassengerId                                                                \n",
       "62                  1       1                        Icard, Miss. Amelie   \n",
       "830                 1       1  Stone, Mrs. George Nelson (Martha Evelyn)   \n",
       "\n",
       "                Sex   Age  SibSp  Parch  Fare Embarked  \n",
       "PassengerId                                             \n",
       "62           female  38.0      0      0  80.0      NaN  \n",
       "830          female  62.0      0      0  80.0      NaN  "
      ]
     },
     "execution_count": 38,
     "metadata": {},
     "output_type": "execute_result"
    }
   ],
   "source": [
    "df[df['Embarked'].isna()] # -> Pclass = 1 por ende la moda que es S, no sería lo ideal. Luego el Fare, como podemos apreciar"
   ]
  },
  {
   "cell_type": "code",
   "execution_count": 39,
   "metadata": {},
   "outputs": [],
   "source": [
    "df['Embarked'].fillna(df['Embarked'].mode()[0],inplace=True) # Lo llenamos con la métrica central MODA"
   ]
  },
  {
   "cell_type": "code",
   "execution_count": 40,
   "metadata": {},
   "outputs": [],
   "source": [
    "import math\n",
    "df_female = df[df['Sex'] == 'female'] # Según si era niña o mujer rellenamos con la media\n",
    "df_male = df[df['Sex'] == 'male']\n",
    "\n",
    "df_male['Age'].fillna(math.floor( df_male[df_male['Name'].str.contains('Master')]['Age'].mean() ), inplace=True)\n",
    "df_male['Age'].fillna(math.floor( df_male[( (df_male['Name'].str.contains('Mr.')) & (df_male['Sex'] == 'male') )]['Age'].mean() ), inplace=True)\n",
    "\n",
    "df_female['Age'].fillna(math.floor( df_female[df_female['Name'].str.contains('Miss')]['Age'].mean() ), inplace=True)\n",
    "df_female['Age'].fillna(math.floor( df_female[( (df_female['Name'].str.contains('Mrs.'))  &  (df_female['Sex'] == 'female') )]['Age'].mean() ), inplace=True)\n",
    "\n",
    "df = pd.concat((df_male, df_female))"
   ]
  },
  {
   "cell_type": "code",
   "execution_count": 28,
   "metadata": {},
   "outputs": [
    {
     "data": {
      "text/plain": [
       "0"
      ]
     },
     "execution_count": 28,
     "metadata": {},
     "output_type": "execute_result"
    }
   ],
   "source": [
    "df.duplicated().sum()"
   ]
  },
  {
   "cell_type": "code",
   "execution_count": 29,
   "metadata": {},
   "outputs": [
    {
     "data": {
      "text/plain": [
       "(891, 9)"
      ]
     },
     "execution_count": 29,
     "metadata": {},
     "output_type": "execute_result"
    }
   ],
   "source": [
    "df.shape"
   ]
  },
  {
   "cell_type": "code",
   "execution_count": 41,
   "metadata": {},
   "outputs": [
    {
     "data": {
      "text/plain": [
       "Survived    0\n",
       "Pclass      0\n",
       "Name        0\n",
       "Sex         0\n",
       "Age         0\n",
       "SibSp       0\n",
       "Parch       0\n",
       "Fare        0\n",
       "Embarked    0\n",
       "dtype: int64"
      ]
     },
     "execution_count": 41,
     "metadata": {},
     "output_type": "execute_result"
    }
   ],
   "source": [
    "df.isna().sum()"
   ]
  },
  {
   "cell_type": "markdown",
   "metadata": {},
   "source": [
    "# Feature Engineer"
   ]
  },
  {
   "cell_type": "code",
   "execution_count": 31,
   "metadata": {},
   "outputs": [],
   "source": [
    "# # Creación de columnas\n",
    "# # Una idea (SibSp - Parch) si es mayor a 1, el pasajero fue acompañado. \n",
    "# df['FamilySize'] = np.where(df['SibSp'] + df['Parch'] >= 1, 1, 0)\n",
    "# # Crear una columna adicional, adult@/niñ@\n",
    "# # df['Persona'] = np.where(df['Age'] <= 14, 'niño/a', 'adulto/a')\n",
    "# df['Persona'] = np.where((df['Age'] <= 14) & (df['Sex'] == 'female'), 'niña', \n",
    "#                 np.where((df['Age'] > 14) & (df['Sex'] == 'female'), 'mujer', \n",
    "#                     np.where(df['Age'] <= 14, 'niño', 'hombre')))\n",
    "# df.head(3)"
   ]
  },
  {
   "cell_type": "markdown",
   "metadata": {},
   "source": [
    "# Modelo 1"
   ]
  },
  {
   "cell_type": "markdown",
   "metadata": {},
   "source": [
    "## División de Datos"
   ]
  },
  {
   "cell_type": "code",
   "execution_count": 32,
   "metadata": {},
   "outputs": [],
   "source": [
    "# Creación de columnas\n",
    "# Una idea (SibSp - Parch) si es mayor a 1, el pasajero fue acompañado. \n",
    "df['FamilySize'] = np.where(df['SibSp'] + df['Parch'] >= 1, 1, 0)\n",
    "# Crear una columna adicional, adult@/niñ@\n",
    "df['Persona'] = np.where(df['Age'] <= 14, 'niño/a', 'adulto/a')\n",
    "# df['Persona'] = np.where((df['Age'] <= 14) & (df['Sex'] == 'female'), 'niña', \n",
    "#                 np.where((df['Age'] > 14) & (df['Sex'] == 'female'), 'mujer', \n",
    "#                     np.where(df['Age'] <= 14, 'niño', 'hombre')))\n",
    "# df.head(3)"
   ]
  },
  {
   "cell_type": "code",
   "execution_count": 33,
   "metadata": {},
   "outputs": [],
   "source": [
    "mapeo = {'male': 0, 'female' : 1}\n",
    "df['Sex'] = df['Sex'].map(mapeo)\n",
    "\n",
    "mapeo = {'niño/a': 0, 'adulto/a' : 1}\n",
    "df['Persona'] = df['Persona'].map(mapeo)"
   ]
  },
  {
   "cell_type": "code",
   "execution_count": 34,
   "metadata": {},
   "outputs": [],
   "source": [
    "X_1 = df.drop(columns=['Name','SibSp','Parch','Survived', 'Age'])\n",
    "y_1 = df['Survived']\n",
    "\n",
    "x_train_1, x_test_1, y_train_1, y_test_1 = train_test_split(X_1, y_1, test_size=0.2, random_state=24)"
   ]
  },
  {
   "cell_type": "markdown",
   "metadata": {},
   "source": [
    "## Escalado + Dummies"
   ]
  },
  {
   "cell_type": "code",
   "execution_count": 35,
   "metadata": {},
   "outputs": [],
   "source": [
    "OHE = OneHotEncoder(sparse=False, handle_unknown='ignore')\n",
    "OHE.fit(x_train_1[['Embarked', 'Pclass']])\n",
    "OHE.fit(x_test_1[['Embarked', 'Pclass']])\n",
    "\n",
    "transformed_x_test_1 = OHE.transform(x_test_1[['Embarked', 'Pclass']])\n",
    "transformed_x_train_1 = OHE.transform(x_train_1[['Embarked', 'Pclass']])\n",
    "\n",
    "transformed_x_test_1 = pd.DataFrame(transformed_x_test_1, columns=OHE.get_feature_names_out(['Embarked', 'Pclass']), index=x_test_1.index)\n",
    "transformed_x_train_1 = pd.DataFrame(transformed_x_train_1, columns=OHE.get_feature_names_out(['Embarked', 'Pclass']), index=x_train_1.index)"
   ]
  },
  {
   "cell_type": "code",
   "execution_count": 36,
   "metadata": {},
   "outputs": [],
   "source": [
    "x_train_1 = pd.concat((x_train_1, transformed_x_train_1), axis=1)\n",
    "x_test_1 = pd.concat((x_test_1, transformed_x_test_1), axis=1)"
   ]
  },
  {
   "cell_type": "code",
   "execution_count": 37,
   "metadata": {},
   "outputs": [],
   "source": [
    "x_train_1.drop(columns=['Embarked', 'Pclass'], inplace=True)\n",
    "x_test_1.drop(columns=['Embarked', 'Pclass'], inplace=True)"
   ]
  },
  {
   "cell_type": "code",
   "execution_count": 38,
   "metadata": {},
   "outputs": [
    {
     "data": {
      "text/html": [
       "<div>\n",
       "<style scoped>\n",
       "    .dataframe tbody tr th:only-of-type {\n",
       "        vertical-align: middle;\n",
       "    }\n",
       "\n",
       "    .dataframe tbody tr th {\n",
       "        vertical-align: top;\n",
       "    }\n",
       "\n",
       "    .dataframe thead th {\n",
       "        text-align: right;\n",
       "    }\n",
       "</style>\n",
       "<table border=\"1\" class=\"dataframe\">\n",
       "  <thead>\n",
       "    <tr style=\"text-align: right;\">\n",
       "      <th></th>\n",
       "      <th>Sex</th>\n",
       "      <th>Fare</th>\n",
       "      <th>FamilySize</th>\n",
       "      <th>Persona</th>\n",
       "      <th>Embarked_C</th>\n",
       "      <th>Embarked_Q</th>\n",
       "      <th>Embarked_S</th>\n",
       "      <th>Pclass_1</th>\n",
       "      <th>Pclass_2</th>\n",
       "      <th>Pclass_3</th>\n",
       "    </tr>\n",
       "    <tr>\n",
       "      <th>PassengerId</th>\n",
       "      <th></th>\n",
       "      <th></th>\n",
       "      <th></th>\n",
       "      <th></th>\n",
       "      <th></th>\n",
       "      <th></th>\n",
       "      <th></th>\n",
       "      <th></th>\n",
       "      <th></th>\n",
       "      <th></th>\n",
       "    </tr>\n",
       "  </thead>\n",
       "  <tbody>\n",
       "    <tr>\n",
       "      <th>111</th>\n",
       "      <td>0</td>\n",
       "      <td>52.0000</td>\n",
       "      <td>0</td>\n",
       "      <td>1</td>\n",
       "      <td>0.0</td>\n",
       "      <td>0.0</td>\n",
       "      <td>1.0</td>\n",
       "      <td>1.0</td>\n",
       "      <td>0.0</td>\n",
       "      <td>0.0</td>\n",
       "    </tr>\n",
       "    <tr>\n",
       "      <th>517</th>\n",
       "      <td>1</td>\n",
       "      <td>10.5000</td>\n",
       "      <td>0</td>\n",
       "      <td>1</td>\n",
       "      <td>0.0</td>\n",
       "      <td>0.0</td>\n",
       "      <td>1.0</td>\n",
       "      <td>0.0</td>\n",
       "      <td>1.0</td>\n",
       "      <td>0.0</td>\n",
       "    </tr>\n",
       "    <tr>\n",
       "      <th>382</th>\n",
       "      <td>1</td>\n",
       "      <td>15.7417</td>\n",
       "      <td>1</td>\n",
       "      <td>0</td>\n",
       "      <td>1.0</td>\n",
       "      <td>0.0</td>\n",
       "      <td>0.0</td>\n",
       "      <td>0.0</td>\n",
       "      <td>0.0</td>\n",
       "      <td>1.0</td>\n",
       "    </tr>\n",
       "    <tr>\n",
       "      <th>150</th>\n",
       "      <td>0</td>\n",
       "      <td>13.0000</td>\n",
       "      <td>0</td>\n",
       "      <td>1</td>\n",
       "      <td>0.0</td>\n",
       "      <td>0.0</td>\n",
       "      <td>1.0</td>\n",
       "      <td>0.0</td>\n",
       "      <td>1.0</td>\n",
       "      <td>0.0</td>\n",
       "    </tr>\n",
       "    <tr>\n",
       "      <th>185</th>\n",
       "      <td>1</td>\n",
       "      <td>22.0250</td>\n",
       "      <td>1</td>\n",
       "      <td>0</td>\n",
       "      <td>0.0</td>\n",
       "      <td>0.0</td>\n",
       "      <td>1.0</td>\n",
       "      <td>0.0</td>\n",
       "      <td>0.0</td>\n",
       "      <td>1.0</td>\n",
       "    </tr>\n",
       "    <tr>\n",
       "      <th>...</th>\n",
       "      <td>...</td>\n",
       "      <td>...</td>\n",
       "      <td>...</td>\n",
       "      <td>...</td>\n",
       "      <td>...</td>\n",
       "      <td>...</td>\n",
       "      <td>...</td>\n",
       "      <td>...</td>\n",
       "      <td>...</td>\n",
       "      <td>...</td>\n",
       "    </tr>\n",
       "    <tr>\n",
       "      <th>223</th>\n",
       "      <td>0</td>\n",
       "      <td>8.0500</td>\n",
       "      <td>0</td>\n",
       "      <td>1</td>\n",
       "      <td>0.0</td>\n",
       "      <td>0.0</td>\n",
       "      <td>1.0</td>\n",
       "      <td>0.0</td>\n",
       "      <td>0.0</td>\n",
       "      <td>1.0</td>\n",
       "    </tr>\n",
       "    <tr>\n",
       "      <th>634</th>\n",
       "      <td>0</td>\n",
       "      <td>0.0000</td>\n",
       "      <td>0</td>\n",
       "      <td>0</td>\n",
       "      <td>0.0</td>\n",
       "      <td>0.0</td>\n",
       "      <td>1.0</td>\n",
       "      <td>1.0</td>\n",
       "      <td>0.0</td>\n",
       "      <td>0.0</td>\n",
       "    </tr>\n",
       "    <tr>\n",
       "      <th>550</th>\n",
       "      <td>0</td>\n",
       "      <td>36.7500</td>\n",
       "      <td>1</td>\n",
       "      <td>0</td>\n",
       "      <td>0.0</td>\n",
       "      <td>0.0</td>\n",
       "      <td>1.0</td>\n",
       "      <td>0.0</td>\n",
       "      <td>1.0</td>\n",
       "      <td>0.0</td>\n",
       "    </tr>\n",
       "    <tr>\n",
       "      <th>299</th>\n",
       "      <td>0</td>\n",
       "      <td>30.5000</td>\n",
       "      <td>0</td>\n",
       "      <td>0</td>\n",
       "      <td>0.0</td>\n",
       "      <td>0.0</td>\n",
       "      <td>1.0</td>\n",
       "      <td>1.0</td>\n",
       "      <td>0.0</td>\n",
       "      <td>0.0</td>\n",
       "    </tr>\n",
       "    <tr>\n",
       "      <th>662</th>\n",
       "      <td>0</td>\n",
       "      <td>7.2250</td>\n",
       "      <td>0</td>\n",
       "      <td>1</td>\n",
       "      <td>1.0</td>\n",
       "      <td>0.0</td>\n",
       "      <td>0.0</td>\n",
       "      <td>0.0</td>\n",
       "      <td>0.0</td>\n",
       "      <td>1.0</td>\n",
       "    </tr>\n",
       "  </tbody>\n",
       "</table>\n",
       "<p>712 rows × 10 columns</p>\n",
       "</div>"
      ],
      "text/plain": [
       "             Sex     Fare  FamilySize  Persona  Embarked_C  Embarked_Q  \\\n",
       "PassengerId                                                              \n",
       "111            0  52.0000           0        1         0.0         0.0   \n",
       "517            1  10.5000           0        1         0.0         0.0   \n",
       "382            1  15.7417           1        0         1.0         0.0   \n",
       "150            0  13.0000           0        1         0.0         0.0   \n",
       "185            1  22.0250           1        0         0.0         0.0   \n",
       "...          ...      ...         ...      ...         ...         ...   \n",
       "223            0   8.0500           0        1         0.0         0.0   \n",
       "634            0   0.0000           0        0         0.0         0.0   \n",
       "550            0  36.7500           1        0         0.0         0.0   \n",
       "299            0  30.5000           0        0         0.0         0.0   \n",
       "662            0   7.2250           0        1         1.0         0.0   \n",
       "\n",
       "             Embarked_S  Pclass_1  Pclass_2  Pclass_3  \n",
       "PassengerId                                            \n",
       "111                 1.0       1.0       0.0       0.0  \n",
       "517                 1.0       0.0       1.0       0.0  \n",
       "382                 0.0       0.0       0.0       1.0  \n",
       "150                 1.0       0.0       1.0       0.0  \n",
       "185                 1.0       0.0       0.0       1.0  \n",
       "...                 ...       ...       ...       ...  \n",
       "223                 1.0       0.0       0.0       1.0  \n",
       "634                 1.0       1.0       0.0       0.0  \n",
       "550                 1.0       0.0       1.0       0.0  \n",
       "299                 1.0       1.0       0.0       0.0  \n",
       "662                 0.0       0.0       0.0       1.0  \n",
       "\n",
       "[712 rows x 10 columns]"
      ]
     },
     "execution_count": 38,
     "metadata": {},
     "output_type": "execute_result"
    }
   ],
   "source": [
    "x_train_1 # estandarizar Fare"
   ]
  },
  {
   "cell_type": "code",
   "execution_count": 39,
   "metadata": {},
   "outputs": [
    {
     "data": {
      "text/html": [
       "<div>\n",
       "<style scoped>\n",
       "    .dataframe tbody tr th:only-of-type {\n",
       "        vertical-align: middle;\n",
       "    }\n",
       "\n",
       "    .dataframe tbody tr th {\n",
       "        vertical-align: top;\n",
       "    }\n",
       "\n",
       "    .dataframe thead th {\n",
       "        text-align: right;\n",
       "    }\n",
       "</style>\n",
       "<table border=\"1\" class=\"dataframe\">\n",
       "  <thead>\n",
       "    <tr style=\"text-align: right;\">\n",
       "      <th></th>\n",
       "      <th>Sex</th>\n",
       "      <th>Fare</th>\n",
       "      <th>FamilySize</th>\n",
       "      <th>Persona</th>\n",
       "      <th>Embarked_C</th>\n",
       "      <th>Embarked_Q</th>\n",
       "      <th>Embarked_S</th>\n",
       "      <th>Pclass_1</th>\n",
       "      <th>Pclass_2</th>\n",
       "      <th>Pclass_3</th>\n",
       "    </tr>\n",
       "    <tr>\n",
       "      <th>PassengerId</th>\n",
       "      <th></th>\n",
       "      <th></th>\n",
       "      <th></th>\n",
       "      <th></th>\n",
       "      <th></th>\n",
       "      <th></th>\n",
       "      <th></th>\n",
       "      <th></th>\n",
       "      <th></th>\n",
       "      <th></th>\n",
       "    </tr>\n",
       "  </thead>\n",
       "  <tbody>\n",
       "    <tr>\n",
       "      <th>263</th>\n",
       "      <td>0</td>\n",
       "      <td>79.6500</td>\n",
       "      <td>1</td>\n",
       "      <td>1</td>\n",
       "      <td>0.0</td>\n",
       "      <td>0.0</td>\n",
       "      <td>1.0</td>\n",
       "      <td>1.0</td>\n",
       "      <td>0.0</td>\n",
       "      <td>0.0</td>\n",
       "    </tr>\n",
       "    <tr>\n",
       "      <th>852</th>\n",
       "      <td>0</td>\n",
       "      <td>7.7750</td>\n",
       "      <td>0</td>\n",
       "      <td>1</td>\n",
       "      <td>0.0</td>\n",
       "      <td>0.0</td>\n",
       "      <td>1.0</td>\n",
       "      <td>0.0</td>\n",
       "      <td>0.0</td>\n",
       "      <td>1.0</td>\n",
       "    </tr>\n",
       "    <tr>\n",
       "      <th>333</th>\n",
       "      <td>0</td>\n",
       "      <td>153.4625</td>\n",
       "      <td>1</td>\n",
       "      <td>1</td>\n",
       "      <td>0.0</td>\n",
       "      <td>0.0</td>\n",
       "      <td>1.0</td>\n",
       "      <td>1.0</td>\n",
       "      <td>0.0</td>\n",
       "      <td>0.0</td>\n",
       "    </tr>\n",
       "    <tr>\n",
       "      <th>117</th>\n",
       "      <td>0</td>\n",
       "      <td>7.7500</td>\n",
       "      <td>0</td>\n",
       "      <td>1</td>\n",
       "      <td>0.0</td>\n",
       "      <td>1.0</td>\n",
       "      <td>0.0</td>\n",
       "      <td>0.0</td>\n",
       "      <td>0.0</td>\n",
       "      <td>1.0</td>\n",
       "    </tr>\n",
       "    <tr>\n",
       "      <th>280</th>\n",
       "      <td>1</td>\n",
       "      <td>20.2500</td>\n",
       "      <td>1</td>\n",
       "      <td>1</td>\n",
       "      <td>0.0</td>\n",
       "      <td>0.0</td>\n",
       "      <td>1.0</td>\n",
       "      <td>0.0</td>\n",
       "      <td>0.0</td>\n",
       "      <td>1.0</td>\n",
       "    </tr>\n",
       "    <tr>\n",
       "      <th>...</th>\n",
       "      <td>...</td>\n",
       "      <td>...</td>\n",
       "      <td>...</td>\n",
       "      <td>...</td>\n",
       "      <td>...</td>\n",
       "      <td>...</td>\n",
       "      <td>...</td>\n",
       "      <td>...</td>\n",
       "      <td>...</td>\n",
       "      <td>...</td>\n",
       "    </tr>\n",
       "    <tr>\n",
       "      <th>14</th>\n",
       "      <td>0</td>\n",
       "      <td>31.2750</td>\n",
       "      <td>1</td>\n",
       "      <td>1</td>\n",
       "      <td>0.0</td>\n",
       "      <td>0.0</td>\n",
       "      <td>1.0</td>\n",
       "      <td>0.0</td>\n",
       "      <td>0.0</td>\n",
       "      <td>1.0</td>\n",
       "    </tr>\n",
       "    <tr>\n",
       "      <th>160</th>\n",
       "      <td>0</td>\n",
       "      <td>69.5500</td>\n",
       "      <td>1</td>\n",
       "      <td>0</td>\n",
       "      <td>0.0</td>\n",
       "      <td>0.0</td>\n",
       "      <td>1.0</td>\n",
       "      <td>0.0</td>\n",
       "      <td>0.0</td>\n",
       "      <td>1.0</td>\n",
       "    </tr>\n",
       "    <tr>\n",
       "      <th>527</th>\n",
       "      <td>1</td>\n",
       "      <td>10.5000</td>\n",
       "      <td>0</td>\n",
       "      <td>1</td>\n",
       "      <td>0.0</td>\n",
       "      <td>0.0</td>\n",
       "      <td>1.0</td>\n",
       "      <td>0.0</td>\n",
       "      <td>1.0</td>\n",
       "      <td>0.0</td>\n",
       "    </tr>\n",
       "    <tr>\n",
       "      <th>424</th>\n",
       "      <td>1</td>\n",
       "      <td>14.4000</td>\n",
       "      <td>1</td>\n",
       "      <td>1</td>\n",
       "      <td>0.0</td>\n",
       "      <td>0.0</td>\n",
       "      <td>1.0</td>\n",
       "      <td>0.0</td>\n",
       "      <td>0.0</td>\n",
       "      <td>1.0</td>\n",
       "    </tr>\n",
       "    <tr>\n",
       "      <th>230</th>\n",
       "      <td>1</td>\n",
       "      <td>25.4667</td>\n",
       "      <td>1</td>\n",
       "      <td>1</td>\n",
       "      <td>0.0</td>\n",
       "      <td>0.0</td>\n",
       "      <td>1.0</td>\n",
       "      <td>0.0</td>\n",
       "      <td>0.0</td>\n",
       "      <td>1.0</td>\n",
       "    </tr>\n",
       "  </tbody>\n",
       "</table>\n",
       "<p>179 rows × 10 columns</p>\n",
       "</div>"
      ],
      "text/plain": [
       "             Sex      Fare  FamilySize  Persona  Embarked_C  Embarked_Q  \\\n",
       "PassengerId                                                               \n",
       "263            0   79.6500           1        1         0.0         0.0   \n",
       "852            0    7.7750           0        1         0.0         0.0   \n",
       "333            0  153.4625           1        1         0.0         0.0   \n",
       "117            0    7.7500           0        1         0.0         1.0   \n",
       "280            1   20.2500           1        1         0.0         0.0   \n",
       "...          ...       ...         ...      ...         ...         ...   \n",
       "14             0   31.2750           1        1         0.0         0.0   \n",
       "160            0   69.5500           1        0         0.0         0.0   \n",
       "527            1   10.5000           0        1         0.0         0.0   \n",
       "424            1   14.4000           1        1         0.0         0.0   \n",
       "230            1   25.4667           1        1         0.0         0.0   \n",
       "\n",
       "             Embarked_S  Pclass_1  Pclass_2  Pclass_3  \n",
       "PassengerId                                            \n",
       "263                 1.0       1.0       0.0       0.0  \n",
       "852                 1.0       0.0       0.0       1.0  \n",
       "333                 1.0       1.0       0.0       0.0  \n",
       "117                 0.0       0.0       0.0       1.0  \n",
       "280                 1.0       0.0       0.0       1.0  \n",
       "...                 ...       ...       ...       ...  \n",
       "14                  1.0       0.0       0.0       1.0  \n",
       "160                 1.0       0.0       0.0       1.0  \n",
       "527                 1.0       0.0       1.0       0.0  \n",
       "424                 1.0       0.0       0.0       1.0  \n",
       "230                 1.0       0.0       0.0       1.0  \n",
       "\n",
       "[179 rows x 10 columns]"
      ]
     },
     "execution_count": 39,
     "metadata": {},
     "output_type": "execute_result"
    }
   ],
   "source": [
    "x_test_1"
   ]
  },
  {
   "cell_type": "code",
   "execution_count": 41,
   "metadata": {},
   "outputs": [],
   "source": [
    "# # Aplicando StandardScaler\n",
    "scaler = MinMaxScaler()\n",
    "x_train_1['Fare'] = scaler.fit_transform(x_train_1[['Fare']])\n",
    "# ------------------------------------\n",
    "#TEST_X\n",
    "x_test_1['Fare'] = scaler.transform(x_test_1[['Fare']])"
   ]
  },
  {
   "cell_type": "code",
   "execution_count": 42,
   "metadata": {},
   "outputs": [],
   "source": [
    "x_train_1['Persona'] = scaler.fit_transform(x_train_1[['Persona']])\n",
    "x_test_1['Persona'] = scaler.transform(x_test_1[['Persona']])"
   ]
  },
  {
   "cell_type": "code",
   "execution_count": 43,
   "metadata": {},
   "outputs": [
    {
     "data": {
      "text/html": [
       "<div>\n",
       "<style scoped>\n",
       "    .dataframe tbody tr th:only-of-type {\n",
       "        vertical-align: middle;\n",
       "    }\n",
       "\n",
       "    .dataframe tbody tr th {\n",
       "        vertical-align: top;\n",
       "    }\n",
       "\n",
       "    .dataframe thead th {\n",
       "        text-align: right;\n",
       "    }\n",
       "</style>\n",
       "<table border=\"1\" class=\"dataframe\">\n",
       "  <thead>\n",
       "    <tr style=\"text-align: right;\">\n",
       "      <th></th>\n",
       "      <th>Sex</th>\n",
       "      <th>Fare</th>\n",
       "      <th>FamilySize</th>\n",
       "      <th>Persona</th>\n",
       "      <th>Embarked_C</th>\n",
       "      <th>Embarked_Q</th>\n",
       "      <th>Embarked_S</th>\n",
       "      <th>Pclass_1</th>\n",
       "      <th>Pclass_2</th>\n",
       "      <th>Pclass_3</th>\n",
       "    </tr>\n",
       "  </thead>\n",
       "  <tbody>\n",
       "    <tr>\n",
       "      <th>count</th>\n",
       "      <td>712.000000</td>\n",
       "      <td>712.000000</td>\n",
       "      <td>712.000000</td>\n",
       "      <td>712.000000</td>\n",
       "      <td>712.000000</td>\n",
       "      <td>712.000000</td>\n",
       "      <td>712.000000</td>\n",
       "      <td>712.000000</td>\n",
       "      <td>712.000000</td>\n",
       "      <td>712.000000</td>\n",
       "    </tr>\n",
       "    <tr>\n",
       "      <th>mean</th>\n",
       "      <td>0.356742</td>\n",
       "      <td>0.063496</td>\n",
       "      <td>0.382022</td>\n",
       "      <td>0.773876</td>\n",
       "      <td>0.195225</td>\n",
       "      <td>0.089888</td>\n",
       "      <td>0.714888</td>\n",
       "      <td>0.254213</td>\n",
       "      <td>0.209270</td>\n",
       "      <td>0.536517</td>\n",
       "    </tr>\n",
       "    <tr>\n",
       "      <th>std</th>\n",
       "      <td>0.479374</td>\n",
       "      <td>0.100455</td>\n",
       "      <td>0.486224</td>\n",
       "      <td>0.418614</td>\n",
       "      <td>0.396652</td>\n",
       "      <td>0.286222</td>\n",
       "      <td>0.451785</td>\n",
       "      <td>0.435724</td>\n",
       "      <td>0.407073</td>\n",
       "      <td>0.499015</td>\n",
       "    </tr>\n",
       "    <tr>\n",
       "      <th>min</th>\n",
       "      <td>0.000000</td>\n",
       "      <td>0.000000</td>\n",
       "      <td>0.000000</td>\n",
       "      <td>0.000000</td>\n",
       "      <td>0.000000</td>\n",
       "      <td>0.000000</td>\n",
       "      <td>0.000000</td>\n",
       "      <td>0.000000</td>\n",
       "      <td>0.000000</td>\n",
       "      <td>0.000000</td>\n",
       "    </tr>\n",
       "    <tr>\n",
       "      <th>25%</th>\n",
       "      <td>0.000000</td>\n",
       "      <td>0.015469</td>\n",
       "      <td>0.000000</td>\n",
       "      <td>1.000000</td>\n",
       "      <td>0.000000</td>\n",
       "      <td>0.000000</td>\n",
       "      <td>0.000000</td>\n",
       "      <td>0.000000</td>\n",
       "      <td>0.000000</td>\n",
       "      <td>0.000000</td>\n",
       "    </tr>\n",
       "    <tr>\n",
       "      <th>50%</th>\n",
       "      <td>0.000000</td>\n",
       "      <td>0.028221</td>\n",
       "      <td>0.000000</td>\n",
       "      <td>1.000000</td>\n",
       "      <td>0.000000</td>\n",
       "      <td>0.000000</td>\n",
       "      <td>1.000000</td>\n",
       "      <td>0.000000</td>\n",
       "      <td>0.000000</td>\n",
       "      <td>1.000000</td>\n",
       "    </tr>\n",
       "    <tr>\n",
       "      <th>75%</th>\n",
       "      <td>1.000000</td>\n",
       "      <td>0.060508</td>\n",
       "      <td>1.000000</td>\n",
       "      <td>1.000000</td>\n",
       "      <td>0.000000</td>\n",
       "      <td>0.000000</td>\n",
       "      <td>1.000000</td>\n",
       "      <td>1.000000</td>\n",
       "      <td>0.000000</td>\n",
       "      <td>1.000000</td>\n",
       "    </tr>\n",
       "    <tr>\n",
       "      <th>max</th>\n",
       "      <td>1.000000</td>\n",
       "      <td>1.000000</td>\n",
       "      <td>1.000000</td>\n",
       "      <td>1.000000</td>\n",
       "      <td>1.000000</td>\n",
       "      <td>1.000000</td>\n",
       "      <td>1.000000</td>\n",
       "      <td>1.000000</td>\n",
       "      <td>1.000000</td>\n",
       "      <td>1.000000</td>\n",
       "    </tr>\n",
       "  </tbody>\n",
       "</table>\n",
       "</div>"
      ],
      "text/plain": [
       "              Sex        Fare  FamilySize     Persona  Embarked_C  Embarked_Q  \\\n",
       "count  712.000000  712.000000  712.000000  712.000000  712.000000  712.000000   \n",
       "mean     0.356742    0.063496    0.382022    0.773876    0.195225    0.089888   \n",
       "std      0.479374    0.100455    0.486224    0.418614    0.396652    0.286222   \n",
       "min      0.000000    0.000000    0.000000    0.000000    0.000000    0.000000   \n",
       "25%      0.000000    0.015469    0.000000    1.000000    0.000000    0.000000   \n",
       "50%      0.000000    0.028221    0.000000    1.000000    0.000000    0.000000   \n",
       "75%      1.000000    0.060508    1.000000    1.000000    0.000000    0.000000   \n",
       "max      1.000000    1.000000    1.000000    1.000000    1.000000    1.000000   \n",
       "\n",
       "       Embarked_S    Pclass_1    Pclass_2    Pclass_3  \n",
       "count  712.000000  712.000000  712.000000  712.000000  \n",
       "mean     0.714888    0.254213    0.209270    0.536517  \n",
       "std      0.451785    0.435724    0.407073    0.499015  \n",
       "min      0.000000    0.000000    0.000000    0.000000  \n",
       "25%      0.000000    0.000000    0.000000    0.000000  \n",
       "50%      1.000000    0.000000    0.000000    1.000000  \n",
       "75%      1.000000    1.000000    0.000000    1.000000  \n",
       "max      1.000000    1.000000    1.000000    1.000000  "
      ]
     },
     "execution_count": 43,
     "metadata": {},
     "output_type": "execute_result"
    }
   ],
   "source": [
    "x_train_1.describe()"
   ]
  },
  {
   "cell_type": "markdown",
   "metadata": {},
   "source": [
    "## Cross-Validation + Base-Lines"
   ]
  },
  {
   "cell_type": "code",
   "execution_count": 44,
   "metadata": {},
   "outputs": [],
   "source": [
    "modelos = {\n",
    "    'lr': LogisticRegression(random_state=24),\n",
    "    'dt': DecisionTreeClassifier(random_state=24),\n",
    "    'rf': RandomForestClassifier(random_state=24),\n",
    "    \"SVC_linear\": SVC(kernel='linear'),\n",
    "    \"voting_clf\" : VotingClassifier(estimators=[('lr', LogisticRegression(random_state=24)),('rf', RandomForestClassifier(random_state=24))])\n",
    "}\n",
    "\n",
    "# Define las métricas a usar\n",
    "metricas = [\"accuracy\", \"f1_macro\", \"recall_macro\", \"precision_macro\", \"roc_auc_ovr\"]\n",
    "\n",
    "resultados_dict = {}\n",
    "\n",
    "for nombre_modelo, modelo in modelos.items():\n",
    "    cv_resultados = cross_validate(modelo, x_train_1, y_train_1, cv=5, scoring=metricas)\n",
    "    \n",
    "    for metrica in metricas:\n",
    "        clave = f\"{nombre_modelo}_{metrica}\"\n",
    "        resultados_dict[clave] = cv_resultados[f\"test_{metrica}\"].mean()\n",
    "\n",
    "# Convertir el diccionario de resultados en DataFrame\n",
    "resultados_df = pd.DataFrame([resultados_dict])"
   ]
  },
  {
   "cell_type": "code",
   "execution_count": 45,
   "metadata": {},
   "outputs": [
    {
     "data": {
      "text/html": [
       "<div>\n",
       "<style scoped>\n",
       "    .dataframe tbody tr th:only-of-type {\n",
       "        vertical-align: middle;\n",
       "    }\n",
       "\n",
       "    .dataframe tbody tr th {\n",
       "        vertical-align: top;\n",
       "    }\n",
       "\n",
       "    .dataframe thead th {\n",
       "        text-align: right;\n",
       "    }\n",
       "</style>\n",
       "<table border=\"1\" class=\"dataframe\">\n",
       "  <thead>\n",
       "    <tr style=\"text-align: right;\">\n",
       "      <th></th>\n",
       "      <th>0</th>\n",
       "    </tr>\n",
       "  </thead>\n",
       "  <tbody>\n",
       "    <tr>\n",
       "      <th>lr_accuracy</th>\n",
       "      <td>0.782320</td>\n",
       "    </tr>\n",
       "    <tr>\n",
       "      <th>lr_f1_macro</th>\n",
       "      <td>0.770157</td>\n",
       "    </tr>\n",
       "    <tr>\n",
       "      <th>lr_recall_macro</th>\n",
       "      <td>0.767806</td>\n",
       "    </tr>\n",
       "    <tr>\n",
       "      <th>lr_precision_macro</th>\n",
       "      <td>0.777999</td>\n",
       "    </tr>\n",
       "    <tr>\n",
       "      <th>lr_roc_auc_ovr</th>\n",
       "      <td>0.839679</td>\n",
       "    </tr>\n",
       "    <tr>\n",
       "      <th>dt_accuracy</th>\n",
       "      <td>0.814597</td>\n",
       "    </tr>\n",
       "    <tr>\n",
       "      <th>dt_f1_macro</th>\n",
       "      <td>0.803575</td>\n",
       "    </tr>\n",
       "    <tr>\n",
       "      <th>dt_recall_macro</th>\n",
       "      <td>0.799393</td>\n",
       "    </tr>\n",
       "    <tr>\n",
       "      <th>dt_precision_macro</th>\n",
       "      <td>0.812415</td>\n",
       "    </tr>\n",
       "    <tr>\n",
       "      <th>dt_roc_auc_ovr</th>\n",
       "      <td>0.802359</td>\n",
       "    </tr>\n",
       "    <tr>\n",
       "      <th>rf_accuracy</th>\n",
       "      <td>0.814646</td>\n",
       "    </tr>\n",
       "    <tr>\n",
       "      <th>rf_f1_macro</th>\n",
       "      <td>0.804546</td>\n",
       "    </tr>\n",
       "    <tr>\n",
       "      <th>rf_recall_macro</th>\n",
       "      <td>0.801167</td>\n",
       "    </tr>\n",
       "    <tr>\n",
       "      <th>rf_precision_macro</th>\n",
       "      <td>0.811440</td>\n",
       "    </tr>\n",
       "    <tr>\n",
       "      <th>rf_roc_auc_ovr</th>\n",
       "      <td>0.854046</td>\n",
       "    </tr>\n",
       "    <tr>\n",
       "      <th>SVC_linear_accuracy</th>\n",
       "      <td>0.790771</td>\n",
       "    </tr>\n",
       "    <tr>\n",
       "      <th>SVC_linear_f1_macro</th>\n",
       "      <td>0.777202</td>\n",
       "    </tr>\n",
       "    <tr>\n",
       "      <th>SVC_linear_recall_macro</th>\n",
       "      <td>0.773118</td>\n",
       "    </tr>\n",
       "    <tr>\n",
       "      <th>SVC_linear_precision_macro</th>\n",
       "      <td>0.788152</td>\n",
       "    </tr>\n",
       "    <tr>\n",
       "      <th>SVC_linear_roc_auc_ovr</th>\n",
       "      <td>NaN</td>\n",
       "    </tr>\n",
       "    <tr>\n",
       "      <th>voting_clf_accuracy</th>\n",
       "      <td>0.809002</td>\n",
       "    </tr>\n",
       "    <tr>\n",
       "      <th>voting_clf_f1_macro</th>\n",
       "      <td>0.787488</td>\n",
       "    </tr>\n",
       "    <tr>\n",
       "      <th>voting_clf_recall_macro</th>\n",
       "      <td>0.777212</td>\n",
       "    </tr>\n",
       "    <tr>\n",
       "      <th>voting_clf_precision_macro</th>\n",
       "      <td>0.831216</td>\n",
       "    </tr>\n",
       "    <tr>\n",
       "      <th>voting_clf_roc_auc_ovr</th>\n",
       "      <td>NaN</td>\n",
       "    </tr>\n",
       "  </tbody>\n",
       "</table>\n",
       "</div>"
      ],
      "text/plain": [
       "                                   0\n",
       "lr_accuracy                 0.782320\n",
       "lr_f1_macro                 0.770157\n",
       "lr_recall_macro             0.767806\n",
       "lr_precision_macro          0.777999\n",
       "lr_roc_auc_ovr              0.839679\n",
       "dt_accuracy                 0.814597\n",
       "dt_f1_macro                 0.803575\n",
       "dt_recall_macro             0.799393\n",
       "dt_precision_macro          0.812415\n",
       "dt_roc_auc_ovr              0.802359\n",
       "rf_accuracy                 0.814646\n",
       "rf_f1_macro                 0.804546\n",
       "rf_recall_macro             0.801167\n",
       "rf_precision_macro          0.811440\n",
       "rf_roc_auc_ovr              0.854046\n",
       "SVC_linear_accuracy         0.790771\n",
       "SVC_linear_f1_macro         0.777202\n",
       "SVC_linear_recall_macro     0.773118\n",
       "SVC_linear_precision_macro  0.788152\n",
       "SVC_linear_roc_auc_ovr           NaN\n",
       "voting_clf_accuracy         0.809002\n",
       "voting_clf_f1_macro         0.787488\n",
       "voting_clf_recall_macro     0.777212\n",
       "voting_clf_precision_macro  0.831216\n",
       "voting_clf_roc_auc_ovr           NaN"
      ]
     },
     "execution_count": 45,
     "metadata": {},
     "output_type": "execute_result"
    }
   ],
   "source": [
    "resultados_df.T  # El Random Forest por 3 puntos a logisticregression en accuracy"
   ]
  },
  {
   "cell_type": "code",
   "execution_count": 46,
   "metadata": {},
   "outputs": [
    {
     "data": {
      "text/plain": [
       "Index(['Sex', 'Fare', 'FamilySize', 'Persona', 'Embarked_C', 'Embarked_Q',\n",
       "       'Embarked_S', 'Pclass_1', 'Pclass_2', 'Pclass_3'],\n",
       "      dtype='object')"
      ]
     },
     "execution_count": 46,
     "metadata": {},
     "output_type": "execute_result"
    }
   ],
   "source": [
    "x_train_1.columns"
   ]
  },
  {
   "cell_type": "markdown",
   "metadata": {},
   "source": [
    "##### Random forest elegido como mejor modelo con estas features : \n",
    " - 'Sex', 'Fare', 'FamilySize', 'Persona', 'Embarked_C', 'Embarked_Q', 'Embarked_S', 'Pclass_1', 'Pclass_2', 'Pclass_3'\n",
    " \n",
    "Modelo 1\n",
    "\n",
    "| Métrica | Valor |\n",
    "| -----| ------|\n",
    "|rf_accuracy|\t0.814646|\n",
    "|rf_f1_macro|\t0.804546|\n",
    "|rf_recall_macro|\t0.801167|\n",
    "|rf_precision_macro|\t0.811440|\n",
    "|rf_roc_auc_ovr|\t0.854046|\n"
   ]
  },
  {
   "cell_type": "markdown",
   "metadata": {},
   "source": [
    "# Modelo 2"
   ]
  },
  {
   "cell_type": "code",
   "execution_count": 125,
   "metadata": {},
   "outputs": [
    {
     "data": {
      "text/html": [
       "<div>\n",
       "<style scoped>\n",
       "    .dataframe tbody tr th:only-of-type {\n",
       "        vertical-align: middle;\n",
       "    }\n",
       "\n",
       "    .dataframe tbody tr th {\n",
       "        vertical-align: top;\n",
       "    }\n",
       "\n",
       "    .dataframe thead th {\n",
       "        text-align: right;\n",
       "    }\n",
       "</style>\n",
       "<table border=\"1\" class=\"dataframe\">\n",
       "  <thead>\n",
       "    <tr style=\"text-align: right;\">\n",
       "      <th></th>\n",
       "      <th>Survived</th>\n",
       "      <th>Pclass</th>\n",
       "      <th>Name</th>\n",
       "      <th>Sex</th>\n",
       "      <th>Age</th>\n",
       "      <th>SibSp</th>\n",
       "      <th>Parch</th>\n",
       "      <th>Fare</th>\n",
       "      <th>Embarked</th>\n",
       "      <th>FamilySize</th>\n",
       "      <th>Persona</th>\n",
       "    </tr>\n",
       "    <tr>\n",
       "      <th>PassengerId</th>\n",
       "      <th></th>\n",
       "      <th></th>\n",
       "      <th></th>\n",
       "      <th></th>\n",
       "      <th></th>\n",
       "      <th></th>\n",
       "      <th></th>\n",
       "      <th></th>\n",
       "      <th></th>\n",
       "      <th></th>\n",
       "      <th></th>\n",
       "    </tr>\n",
       "  </thead>\n",
       "  <tbody>\n",
       "    <tr>\n",
       "      <th>1</th>\n",
       "      <td>0</td>\n",
       "      <td>3</td>\n",
       "      <td>Braund, Mr. Owen Harris</td>\n",
       "      <td>male</td>\n",
       "      <td>22.0</td>\n",
       "      <td>1</td>\n",
       "      <td>0</td>\n",
       "      <td>7.2500</td>\n",
       "      <td>S</td>\n",
       "      <td>1</td>\n",
       "      <td>hombre</td>\n",
       "    </tr>\n",
       "    <tr>\n",
       "      <th>5</th>\n",
       "      <td>0</td>\n",
       "      <td>3</td>\n",
       "      <td>Allen, Mr. William Henry</td>\n",
       "      <td>male</td>\n",
       "      <td>35.0</td>\n",
       "      <td>0</td>\n",
       "      <td>0</td>\n",
       "      <td>8.0500</td>\n",
       "      <td>S</td>\n",
       "      <td>0</td>\n",
       "      <td>hombre</td>\n",
       "    </tr>\n",
       "    <tr>\n",
       "      <th>6</th>\n",
       "      <td>0</td>\n",
       "      <td>3</td>\n",
       "      <td>Moran, Mr. James</td>\n",
       "      <td>male</td>\n",
       "      <td>4.0</td>\n",
       "      <td>0</td>\n",
       "      <td>0</td>\n",
       "      <td>8.4583</td>\n",
       "      <td>Q</td>\n",
       "      <td>0</td>\n",
       "      <td>niño</td>\n",
       "    </tr>\n",
       "  </tbody>\n",
       "</table>\n",
       "</div>"
      ],
      "text/plain": [
       "             Survived  Pclass                      Name   Sex   Age  SibSp  \\\n",
       "PassengerId                                                                  \n",
       "1                   0       3   Braund, Mr. Owen Harris  male  22.0      1   \n",
       "5                   0       3  Allen, Mr. William Henry  male  35.0      0   \n",
       "6                   0       3          Moran, Mr. James  male   4.0      0   \n",
       "\n",
       "             Parch    Fare Embarked  FamilySize Persona  \n",
       "PassengerId                                              \n",
       "1                0  7.2500        S           1  hombre  \n",
       "5                0  8.0500        S           0  hombre  \n",
       "6                0  8.4583        Q           0    niño  "
      ]
     },
     "execution_count": 125,
     "metadata": {},
     "output_type": "execute_result"
    }
   ],
   "source": [
    "# Creación de columnas\n",
    "# Una idea (SibSp - Parch) si es mayor a 1, el pasajero fue acompañado. \n",
    "df['FamilySize'] = np.where(df['SibSp'] + df['Parch'] >= 1, 1, 0)\n",
    "# Crear una columna adicional, adult@/niñ@\n",
    "# df['Persona'] = np.where(df['Age'] <= 14, 'niño/a', 'adulto/a')\n",
    "df['Persona'] = np.where((df['Age'] <= 14) & (df['Sex'] == 'female'), 'niña', \n",
    "                np.where((df['Age'] > 14) & (df['Sex'] == 'female'), 'mujer', \n",
    "                    np.where(df['Age'] <= 14, 'niño', 'hombre')))\n",
    "df.head(3)"
   ]
  },
  {
   "cell_type": "code",
   "execution_count": 126,
   "metadata": {},
   "outputs": [],
   "source": [
    "mapeo = {'male': 0, 'female' : 1}\n",
    "df['Sex'] = df['Sex'].map(mapeo)\n",
    "\n",
    "mapeo = {'niño': 0, 'niña': 1, 'hombre' : 3, 'mujer': 4}\n",
    "df['Persona'] = df['Persona'].map(mapeo)\n",
    "\n",
    "mapeo = {1 :3, 2: 2, 3: 1}\n",
    "df['Pclass'] = df['Pclass'].map(mapeo)"
   ]
  },
  {
   "cell_type": "code",
   "execution_count": 127,
   "metadata": {},
   "outputs": [],
   "source": [
    "X_2 = df.drop(columns=['Name','SibSp','Parch','Survived', 'Age'])\n",
    "y_2 = df['Survived']\n",
    "\n",
    "x_train_2, x_test_2, y_train_2, y_test_2 = train_test_split(X_2, y_2, test_size=0.2, random_state=24)"
   ]
  },
  {
   "cell_type": "code",
   "execution_count": 128,
   "metadata": {},
   "outputs": [],
   "source": [
    "OHE = OneHotEncoder(sparse=False, handle_unknown='ignore')\n",
    "OHE.fit(x_train_2[['Embarked']])\n",
    "OHE.fit(x_test_2[['Embarked']])\n",
    "\n",
    "transformed_x_test_2 = OHE.transform(x_test_2[['Embarked']])\n",
    "transformed_x_train_2 = OHE.transform(x_train_2[['Embarked']])\n",
    "\n",
    "transformed_x_test_2 = pd.DataFrame(transformed_x_test_2, columns=OHE.get_feature_names_out(['Embarked']), index=x_test_2.index)\n",
    "transformed_x_train_2 = pd.DataFrame(transformed_x_train_2, columns=OHE.get_feature_names_out(['Embarked']), index=x_train_2.index)\n",
    "\n",
    "x_train_2 = pd.concat((x_train_2, transformed_x_train_2), axis=1)\n",
    "x_test_2 = pd.concat((x_test_2, transformed_x_test_2), axis=1)\n",
    "\n",
    "x_train_2.drop(columns=['Embarked'], inplace=True)\n",
    "x_test_2.drop(columns=['Embarked'], inplace=True)"
   ]
  },
  {
   "cell_type": "code",
   "execution_count": 129,
   "metadata": {},
   "outputs": [],
   "source": [
    "# # Aplicando StandardScaler\n",
    "scaler = StandardScaler()\n",
    "x_train_2['Fare'] = scaler.fit_transform(x_train_2[['Fare']])\n",
    "# ------------------------------------\n",
    "#TEST_X\n",
    "x_test_2['Fare'] = scaler.transform(x_test_2[['Fare']])"
   ]
  },
  {
   "cell_type": "code",
   "execution_count": 130,
   "metadata": {},
   "outputs": [],
   "source": [
    "x_train_2['Persona'] = scaler.fit_transform(x_train_2[['Persona']])\n",
    "x_test_2['Persona'] = scaler.transform(x_test_2[['Persona']])"
   ]
  },
  {
   "cell_type": "code",
   "execution_count": 131,
   "metadata": {},
   "outputs": [],
   "source": [
    "modelos = {\n",
    "    'lr': LogisticRegression(random_state=24),\n",
    "    'dt': DecisionTreeClassifier(random_state=24),\n",
    "    'rf': RandomForestClassifier(random_state=24),\n",
    "    \"SVC_linear\": SVC(kernel='linear'),\n",
    "    \"voting_clf\" : VotingClassifier(estimators=[('lr', LogisticRegression(random_state=24)),('rf', RandomForestClassifier(random_state=24))])\n",
    "}\n",
    "\n",
    "# Define las métricas a usar\n",
    "metricas = [\"accuracy\", \"f1_macro\", \"recall_macro\", \"precision_macro\", \"roc_auc_ovr\"]\n",
    "\n",
    "resultados_dict = {}\n",
    "\n",
    "for nombre_modelo, modelo in modelos.items():\n",
    "    cv_resultados = cross_validate(modelo, x_train_2, y_train_2, cv=5, scoring=metricas)\n",
    "    \n",
    "    for metrica in metricas:\n",
    "        clave = f\"{nombre_modelo}_{metrica}\"\n",
    "        resultados_dict[clave] = cv_resultados[f\"test_{metrica}\"].mean()\n",
    "\n",
    "# Convertir el diccionario de resultados en DataFrame\n",
    "resultados_df = pd.DataFrame([resultados_dict])"
   ]
  },
  {
   "cell_type": "code",
   "execution_count": 132,
   "metadata": {},
   "outputs": [
    {
     "data": {
      "text/html": [
       "<div>\n",
       "<style scoped>\n",
       "    .dataframe tbody tr th:only-of-type {\n",
       "        vertical-align: middle;\n",
       "    }\n",
       "\n",
       "    .dataframe tbody tr th {\n",
       "        vertical-align: top;\n",
       "    }\n",
       "\n",
       "    .dataframe thead th {\n",
       "        text-align: right;\n",
       "    }\n",
       "</style>\n",
       "<table border=\"1\" class=\"dataframe\">\n",
       "  <thead>\n",
       "    <tr style=\"text-align: right;\">\n",
       "      <th></th>\n",
       "      <th>0</th>\n",
       "    </tr>\n",
       "  </thead>\n",
       "  <tbody>\n",
       "    <tr>\n",
       "      <th>lr_accuracy</th>\n",
       "      <td>0.776677</td>\n",
       "    </tr>\n",
       "    <tr>\n",
       "      <th>lr_f1_macro</th>\n",
       "      <td>0.765622</td>\n",
       "    </tr>\n",
       "    <tr>\n",
       "      <th>lr_recall_macro</th>\n",
       "      <td>0.764861</td>\n",
       "    </tr>\n",
       "    <tr>\n",
       "      <th>lr_precision_macro</th>\n",
       "      <td>0.771377</td>\n",
       "    </tr>\n",
       "    <tr>\n",
       "      <th>lr_roc_auc_ovr</th>\n",
       "      <td>0.838608</td>\n",
       "    </tr>\n",
       "    <tr>\n",
       "      <th>dt_accuracy</th>\n",
       "      <td>0.818802</td>\n",
       "    </tr>\n",
       "    <tr>\n",
       "      <th>dt_f1_macro</th>\n",
       "      <td>0.808115</td>\n",
       "    </tr>\n",
       "    <tr>\n",
       "      <th>dt_recall_macro</th>\n",
       "      <td>0.804078</td>\n",
       "    </tr>\n",
       "    <tr>\n",
       "      <th>dt_precision_macro</th>\n",
       "      <td>0.817432</td>\n",
       "    </tr>\n",
       "    <tr>\n",
       "      <th>dt_roc_auc_ovr</th>\n",
       "      <td>0.808289</td>\n",
       "    </tr>\n",
       "    <tr>\n",
       "      <th>rf_accuracy</th>\n",
       "      <td>0.816054</td>\n",
       "    </tr>\n",
       "    <tr>\n",
       "      <th>rf_f1_macro</th>\n",
       "      <td>0.805720</td>\n",
       "    </tr>\n",
       "    <tr>\n",
       "      <th>rf_recall_macro</th>\n",
       "      <td>0.801752</td>\n",
       "    </tr>\n",
       "    <tr>\n",
       "      <th>rf_precision_macro</th>\n",
       "      <td>0.814484</td>\n",
       "    </tr>\n",
       "    <tr>\n",
       "      <th>rf_roc_auc_ovr</th>\n",
       "      <td>0.848026</td>\n",
       "    </tr>\n",
       "    <tr>\n",
       "      <th>SVC_linear_accuracy</th>\n",
       "      <td>0.790771</td>\n",
       "    </tr>\n",
       "    <tr>\n",
       "      <th>SVC_linear_f1_macro</th>\n",
       "      <td>0.777202</td>\n",
       "    </tr>\n",
       "    <tr>\n",
       "      <th>SVC_linear_recall_macro</th>\n",
       "      <td>0.773118</td>\n",
       "    </tr>\n",
       "    <tr>\n",
       "      <th>SVC_linear_precision_macro</th>\n",
       "      <td>0.788152</td>\n",
       "    </tr>\n",
       "    <tr>\n",
       "      <th>SVC_linear_roc_auc_ovr</th>\n",
       "      <td>NaN</td>\n",
       "    </tr>\n",
       "    <tr>\n",
       "      <th>voting_clf_accuracy</th>\n",
       "      <td>0.804787</td>\n",
       "    </tr>\n",
       "    <tr>\n",
       "      <th>voting_clf_f1_macro</th>\n",
       "      <td>0.783080</td>\n",
       "    </tr>\n",
       "    <tr>\n",
       "      <th>voting_clf_recall_macro</th>\n",
       "      <td>0.773105</td>\n",
       "    </tr>\n",
       "    <tr>\n",
       "      <th>voting_clf_precision_macro</th>\n",
       "      <td>0.826169</td>\n",
       "    </tr>\n",
       "    <tr>\n",
       "      <th>voting_clf_roc_auc_ovr</th>\n",
       "      <td>NaN</td>\n",
       "    </tr>\n",
       "  </tbody>\n",
       "</table>\n",
       "</div>"
      ],
      "text/plain": [
       "                                   0\n",
       "lr_accuracy                 0.776677\n",
       "lr_f1_macro                 0.765622\n",
       "lr_recall_macro             0.764861\n",
       "lr_precision_macro          0.771377\n",
       "lr_roc_auc_ovr              0.838608\n",
       "dt_accuracy                 0.818802\n",
       "dt_f1_macro                 0.808115\n",
       "dt_recall_macro             0.804078\n",
       "dt_precision_macro          0.817432\n",
       "dt_roc_auc_ovr              0.808289\n",
       "rf_accuracy                 0.816054\n",
       "rf_f1_macro                 0.805720\n",
       "rf_recall_macro             0.801752\n",
       "rf_precision_macro          0.814484\n",
       "rf_roc_auc_ovr              0.848026\n",
       "SVC_linear_accuracy         0.790771\n",
       "SVC_linear_f1_macro         0.777202\n",
       "SVC_linear_recall_macro     0.773118\n",
       "SVC_linear_precision_macro  0.788152\n",
       "SVC_linear_roc_auc_ovr           NaN\n",
       "voting_clf_accuracy         0.804787\n",
       "voting_clf_f1_macro         0.783080\n",
       "voting_clf_recall_macro     0.773105\n",
       "voting_clf_precision_macro  0.826169\n",
       "voting_clf_roc_auc_ovr           NaN"
      ]
     },
     "execution_count": 132,
     "metadata": {},
     "output_type": "execute_result"
    }
   ],
   "source": [
    "resultados_df.T"
   ]
  },
  {
   "cell_type": "code",
   "execution_count": 133,
   "metadata": {},
   "outputs": [
    {
     "data": {
      "text/plain": [
       "Index(['Pclass', 'Sex', 'Fare', 'FamilySize', 'Persona', 'Embarked_C',\n",
       "       'Embarked_Q', 'Embarked_S'],\n",
       "      dtype='object')"
      ]
     },
     "execution_count": 133,
     "metadata": {},
     "output_type": "execute_result"
    }
   ],
   "source": [
    "x_train_2.columns"
   ]
  },
  {
   "cell_type": "markdown",
   "metadata": {},
   "source": [
    "Random Forest con estas features :  \n",
    "\n",
    "- 'Pclass', 'Sex', 'Fare', 'FamilySize', 'Persona', 'Embarked_C', 'Embarked_Q', 'Embarked_S'\n",
    "\n",
    "| Métricas | Valor |\n",
    "| ---|----|\n",
    "| rf_accuracy|\t0.814646|\n",
    "|rf_f1_macro|\t0.804906|\n",
    "|rf_recall_macro|\t0.801745|\n",
    "|rf_precision_macro|\t0.812700|\n",
    "|rf_roc_auc_ovr|\t0.852983|\n"
   ]
  },
  {
   "cell_type": "markdown",
   "metadata": {},
   "source": [
    "# Modelo 3"
   ]
  },
  {
   "cell_type": "code",
   "execution_count": 42,
   "metadata": {},
   "outputs": [
    {
     "data": {
      "text/html": [
       "<div>\n",
       "<style scoped>\n",
       "    .dataframe tbody tr th:only-of-type {\n",
       "        vertical-align: middle;\n",
       "    }\n",
       "\n",
       "    .dataframe tbody tr th {\n",
       "        vertical-align: top;\n",
       "    }\n",
       "\n",
       "    .dataframe thead th {\n",
       "        text-align: right;\n",
       "    }\n",
       "</style>\n",
       "<table border=\"1\" class=\"dataframe\">\n",
       "  <thead>\n",
       "    <tr style=\"text-align: right;\">\n",
       "      <th></th>\n",
       "      <th>Survived</th>\n",
       "      <th>Pclass</th>\n",
       "      <th>Name</th>\n",
       "      <th>Sex</th>\n",
       "      <th>Age</th>\n",
       "      <th>SibSp</th>\n",
       "      <th>Parch</th>\n",
       "      <th>Fare</th>\n",
       "      <th>Embarked</th>\n",
       "      <th>Persona</th>\n",
       "    </tr>\n",
       "    <tr>\n",
       "      <th>PassengerId</th>\n",
       "      <th></th>\n",
       "      <th></th>\n",
       "      <th></th>\n",
       "      <th></th>\n",
       "      <th></th>\n",
       "      <th></th>\n",
       "      <th></th>\n",
       "      <th></th>\n",
       "      <th></th>\n",
       "      <th></th>\n",
       "    </tr>\n",
       "  </thead>\n",
       "  <tbody>\n",
       "    <tr>\n",
       "      <th>1</th>\n",
       "      <td>0</td>\n",
       "      <td>3</td>\n",
       "      <td>Braund, Mr. Owen Harris</td>\n",
       "      <td>male</td>\n",
       "      <td>22.0</td>\n",
       "      <td>1</td>\n",
       "      <td>0</td>\n",
       "      <td>7.2500</td>\n",
       "      <td>S</td>\n",
       "      <td>hombre</td>\n",
       "    </tr>\n",
       "    <tr>\n",
       "      <th>5</th>\n",
       "      <td>0</td>\n",
       "      <td>3</td>\n",
       "      <td>Allen, Mr. William Henry</td>\n",
       "      <td>male</td>\n",
       "      <td>35.0</td>\n",
       "      <td>0</td>\n",
       "      <td>0</td>\n",
       "      <td>8.0500</td>\n",
       "      <td>S</td>\n",
       "      <td>hombre</td>\n",
       "    </tr>\n",
       "    <tr>\n",
       "      <th>6</th>\n",
       "      <td>0</td>\n",
       "      <td>3</td>\n",
       "      <td>Moran, Mr. James</td>\n",
       "      <td>male</td>\n",
       "      <td>4.0</td>\n",
       "      <td>0</td>\n",
       "      <td>0</td>\n",
       "      <td>8.4583</td>\n",
       "      <td>Q</td>\n",
       "      <td>niño</td>\n",
       "    </tr>\n",
       "  </tbody>\n",
       "</table>\n",
       "</div>"
      ],
      "text/plain": [
       "             Survived  Pclass                      Name   Sex   Age  SibSp  \\\n",
       "PassengerId                                                                  \n",
       "1                   0       3   Braund, Mr. Owen Harris  male  22.0      1   \n",
       "5                   0       3  Allen, Mr. William Henry  male  35.0      0   \n",
       "6                   0       3          Moran, Mr. James  male   4.0      0   \n",
       "\n",
       "             Parch    Fare Embarked Persona  \n",
       "PassengerId                                  \n",
       "1                0  7.2500        S  hombre  \n",
       "5                0  8.0500        S  hombre  \n",
       "6                0  8.4583        Q    niño  "
      ]
     },
     "execution_count": 42,
     "metadata": {},
     "output_type": "execute_result"
    }
   ],
   "source": [
    "# Crear una columna adicional, adult@/niñ@\n",
    "df['Persona'] = np.where((df['Age'] <= 14) & (df['Sex'] == 'female'), 'niña', \n",
    "                np.where((df['Age'] > 14) & (df['Sex'] == 'female'), 'mujer', \n",
    "                    np.where(df['Age'] <= 14, 'niño', 'hombre')))\n",
    "df.head(3)"
   ]
  },
  {
   "cell_type": "code",
   "execution_count": 43,
   "metadata": {},
   "outputs": [],
   "source": [
    "mapeo = {'male': 0, 'female' : 1}\n",
    "df['Sex'] = df['Sex'].map(mapeo)\n",
    "\n",
    "mapeo = {'niño': 0, 'niña': 1, 'hombre' : 3, 'mujer': 4}\n",
    "df['Persona'] = df['Persona'].map(mapeo)\n",
    "\n",
    "mapeo = {1 :3, 2: 2, 3: 1}\n",
    "df['Pclass'] = df['Pclass'].map(mapeo)\n",
    "\n",
    "X_3 = df.drop(columns=['Name','Survived', 'SibSp', 'Parch', 'Age'])\n",
    "y_3 = df['Survived']\n",
    "\n",
    "x_train_3, x_test_3, y_train_3, y_test_3 = train_test_split(X_3, y_3, test_size=0.2, random_state=24)\n",
    "\n",
    "OHE = OneHotEncoder(sparse=False, handle_unknown='ignore')\n",
    "OHE.fit(x_train_3[['Embarked']])\n",
    "OHE.fit(x_test_3[['Embarked']])\n",
    "\n",
    "transformed_x_test_3 = OHE.transform(x_test_3[['Embarked']])\n",
    "transformed_x_train_3 = OHE.transform(x_train_3[['Embarked']])\n",
    "\n",
    "transformed_x_test_3 = pd.DataFrame(transformed_x_test_3, columns=OHE.get_feature_names_out(['Embarked']), index=x_test_3.index)\n",
    "transformed_x_train_3 = pd.DataFrame(transformed_x_train_3, columns=OHE.get_feature_names_out(['Embarked']), index=x_train_3.index)\n",
    "\n",
    "x_train_3 = pd.concat((x_train_3, transformed_x_train_3), axis=1)\n",
    "x_test_3 = pd.concat((x_test_3, transformed_x_test_3), axis=1)\n",
    "\n",
    "x_train_3.drop(columns=['Embarked'], inplace=True)\n",
    "x_test_3.drop(columns=['Embarked'], inplace=True)\n",
    "\n",
    "# # Aplicando StandardScaler\n",
    "scaler = StandardScaler()\n",
    "x_train_3['Fare'] = scaler.fit_transform(x_train_3[['Fare']])\n",
    "# ------------------------------------\n",
    "#TEST_X\n",
    "x_test_3['Fare'] = scaler.transform(x_test_3[['Fare']])\n"
   ]
  },
  {
   "cell_type": "code",
   "execution_count": 44,
   "metadata": {},
   "outputs": [],
   "source": [
    "x_train_3['Persona'] = scaler.fit_transform(x_train_3[['Persona']])\n",
    "x_test_3['Persona'] = scaler.transform(x_test_3[['Persona']])"
   ]
  },
  {
   "cell_type": "code",
   "execution_count": 45,
   "metadata": {},
   "outputs": [],
   "source": [
    "modelos = {\n",
    "    'lr': LogisticRegression(random_state=24),\n",
    "    'dt': DecisionTreeClassifier(random_state=24),\n",
    "    'rf': RandomForestClassifier(random_state=24),\n",
    "    \"SVC_linear\": SVC(kernel='linear'),\n",
    "    \"voting_clf\" : VotingClassifier(estimators=[('lr', LogisticRegression(random_state=24)),('rf', RandomForestClassifier(random_state=24))])\n",
    "}\n",
    "\n",
    "# Define las métricas a usar\n",
    "metricas = [\"accuracy\", \"f1_macro\", \"recall_macro\", \"precision_macro\", \"roc_auc_ovr\"]\n",
    "\n",
    "resultados_dict = {}\n",
    "\n",
    "for nombre_modelo, modelo in modelos.items():\n",
    "    cv_resultados = cross_validate(modelo, x_train_3, y_train_3, cv=5, scoring=metricas)\n",
    "    \n",
    "    for metrica in metricas:\n",
    "        clave = f\"{nombre_modelo}_{metrica}\"\n",
    "        resultados_dict[clave] = cv_resultados[f\"test_{metrica}\"].mean()\n",
    "\n",
    "# Convertir el diccionario de resultados en DataFrame\n",
    "resultados_df = pd.DataFrame([resultados_dict])"
   ]
  },
  {
   "cell_type": "code",
   "execution_count": 46,
   "metadata": {},
   "outputs": [
    {
     "data": {
      "text/html": [
       "<div>\n",
       "<style scoped>\n",
       "    .dataframe tbody tr th:only-of-type {\n",
       "        vertical-align: middle;\n",
       "    }\n",
       "\n",
       "    .dataframe tbody tr th {\n",
       "        vertical-align: top;\n",
       "    }\n",
       "\n",
       "    .dataframe thead th {\n",
       "        text-align: right;\n",
       "    }\n",
       "</style>\n",
       "<table border=\"1\" class=\"dataframe\">\n",
       "  <thead>\n",
       "    <tr style=\"text-align: right;\">\n",
       "      <th></th>\n",
       "      <th>0</th>\n",
       "    </tr>\n",
       "  </thead>\n",
       "  <tbody>\n",
       "    <tr>\n",
       "      <th>lr_accuracy</th>\n",
       "      <td>0.778085</td>\n",
       "    </tr>\n",
       "    <tr>\n",
       "      <th>lr_f1_macro</th>\n",
       "      <td>0.766410</td>\n",
       "    </tr>\n",
       "    <tr>\n",
       "      <th>lr_recall_macro</th>\n",
       "      <td>0.764855</td>\n",
       "    </tr>\n",
       "    <tr>\n",
       "      <th>lr_precision_macro</th>\n",
       "      <td>0.772784</td>\n",
       "    </tr>\n",
       "    <tr>\n",
       "      <th>lr_roc_auc_ovr</th>\n",
       "      <td>0.839768</td>\n",
       "    </tr>\n",
       "    <tr>\n",
       "      <th>dt_accuracy</th>\n",
       "      <td>0.815985</td>\n",
       "    </tr>\n",
       "    <tr>\n",
       "      <th>dt_f1_macro</th>\n",
       "      <td>0.805463</td>\n",
       "    </tr>\n",
       "    <tr>\n",
       "      <th>dt_recall_macro</th>\n",
       "      <td>0.801698</td>\n",
       "    </tr>\n",
       "    <tr>\n",
       "      <th>dt_precision_macro</th>\n",
       "      <td>0.813267</td>\n",
       "    </tr>\n",
       "    <tr>\n",
       "      <th>dt_roc_auc_ovr</th>\n",
       "      <td>0.804595</td>\n",
       "    </tr>\n",
       "    <tr>\n",
       "      <th>rf_accuracy</th>\n",
       "      <td>0.813247</td>\n",
       "    </tr>\n",
       "    <tr>\n",
       "      <th>rf_f1_macro</th>\n",
       "      <td>0.803006</td>\n",
       "    </tr>\n",
       "    <tr>\n",
       "      <th>rf_recall_macro</th>\n",
       "      <td>0.799399</td>\n",
       "    </tr>\n",
       "    <tr>\n",
       "      <th>rf_precision_macro</th>\n",
       "      <td>0.811178</td>\n",
       "    </tr>\n",
       "    <tr>\n",
       "      <th>rf_roc_auc_ovr</th>\n",
       "      <td>0.844692</td>\n",
       "    </tr>\n",
       "    <tr>\n",
       "      <th>SVC_linear_accuracy</th>\n",
       "      <td>0.790771</td>\n",
       "    </tr>\n",
       "    <tr>\n",
       "      <th>SVC_linear_f1_macro</th>\n",
       "      <td>0.777202</td>\n",
       "    </tr>\n",
       "    <tr>\n",
       "      <th>SVC_linear_recall_macro</th>\n",
       "      <td>0.773118</td>\n",
       "    </tr>\n",
       "    <tr>\n",
       "      <th>SVC_linear_precision_macro</th>\n",
       "      <td>0.788152</td>\n",
       "    </tr>\n",
       "    <tr>\n",
       "      <th>SVC_linear_roc_auc_ovr</th>\n",
       "      <td>NaN</td>\n",
       "    </tr>\n",
       "    <tr>\n",
       "      <th>voting_clf_accuracy</th>\n",
       "      <td>0.804777</td>\n",
       "    </tr>\n",
       "    <tr>\n",
       "      <th>voting_clf_f1_macro</th>\n",
       "      <td>0.783857</td>\n",
       "    </tr>\n",
       "    <tr>\n",
       "      <th>voting_clf_recall_macro</th>\n",
       "      <td>0.774261</td>\n",
       "    </tr>\n",
       "    <tr>\n",
       "      <th>voting_clf_precision_macro</th>\n",
       "      <td>0.824056</td>\n",
       "    </tr>\n",
       "    <tr>\n",
       "      <th>voting_clf_roc_auc_ovr</th>\n",
       "      <td>NaN</td>\n",
       "    </tr>\n",
       "  </tbody>\n",
       "</table>\n",
       "</div>"
      ],
      "text/plain": [
       "                                   0\n",
       "lr_accuracy                 0.778085\n",
       "lr_f1_macro                 0.766410\n",
       "lr_recall_macro             0.764855\n",
       "lr_precision_macro          0.772784\n",
       "lr_roc_auc_ovr              0.839768\n",
       "dt_accuracy                 0.815985\n",
       "dt_f1_macro                 0.805463\n",
       "dt_recall_macro             0.801698\n",
       "dt_precision_macro          0.813267\n",
       "dt_roc_auc_ovr              0.804595\n",
       "rf_accuracy                 0.813247\n",
       "rf_f1_macro                 0.803006\n",
       "rf_recall_macro             0.799399\n",
       "rf_precision_macro          0.811178\n",
       "rf_roc_auc_ovr              0.844692\n",
       "SVC_linear_accuracy         0.790771\n",
       "SVC_linear_f1_macro         0.777202\n",
       "SVC_linear_recall_macro     0.773118\n",
       "SVC_linear_precision_macro  0.788152\n",
       "SVC_linear_roc_auc_ovr           NaN\n",
       "voting_clf_accuracy         0.804777\n",
       "voting_clf_f1_macro         0.783857\n",
       "voting_clf_recall_macro     0.774261\n",
       "voting_clf_precision_macro  0.824056\n",
       "voting_clf_roc_auc_ovr           NaN"
      ]
     },
     "execution_count": 46,
     "metadata": {},
     "output_type": "execute_result"
    }
   ],
   "source": [
    "resultados_df.T"
   ]
  },
  {
   "cell_type": "code",
   "execution_count": 47,
   "metadata": {},
   "outputs": [
    {
     "data": {
      "text/plain": [
       "Index(['Pclass', 'Sex', 'Fare', 'Persona', 'Embarked_C', 'Embarked_Q',\n",
       "       'Embarked_S'],\n",
       "      dtype='object')"
      ]
     },
     "execution_count": 47,
     "metadata": {},
     "output_type": "execute_result"
    }
   ],
   "source": [
    "x_train_3.columns"
   ]
  },
  {
   "cell_type": "markdown",
   "metadata": {},
   "source": [
    "Random Forest con dichas features:\n",
    "\n",
    "- 'Sex', 'Age', 'SibSp', 'Parch', 'Fare', 'Embarked_C', 'Embarked_Q', 'Embarked_S', 'Pclass_1', 'Pclass_2', 'Pclass_3'\n",
    "\n",
    "Modelo 3\n",
    "\n",
    "| Métricas | Valor |\n",
    "|------|-------|\n",
    "| rf_accuracy|\t0.787935|\n",
    "| rf_f1_macro|\t0.778702|\n",
    "| rf_recall_macro|\t0.778910|\n",
    "| rf_precision_macro|\t0.780641|\n",
    "| rf_roc_auc_ovr|\t0.860072|"
   ]
  },
  {
   "cell_type": "markdown",
   "metadata": {},
   "source": [
    "# Hiperparámetros"
   ]
  },
  {
   "cell_type": "markdown",
   "metadata": {},
   "source": [
    "Modelo 1\n",
    "\n",
    "| Métrica | Valor |\n",
    "| -----| ------|\n",
    "|rf_accuracy|\t0.814646|\n",
    "|rf_f1_macro|\t0.804546|\n",
    "|rf_recall_macro|\t0.801167|\n",
    "|rf_precision_macro|\t0.811440|\n",
    "|rf_roc_auc_ovr|\t0.854046|\n",
    "\n",
    "Modelo 2\n",
    "\n",
    "| Métricas | Valor |\n",
    "| ---|----|\n",
    "| rf_accuracy|\t0.816054|\n",
    "| rf_f1_macro|\t0.805720|\n",
    "| rf_recall_macro|\t0.801752|\n",
    "| rf_precision_macro|\t0.814484|\n",
    "| rf_roc_auc_ovr|\t0.848026|\n",
    "\n",
    "Modelo 3\n",
    "\n",
    "| Métricas | Valor |\n",
    "|------|-------|\n",
    "| rf_accuracy|\t0.787935|\n",
    "| rf_f1_macro|\t0.778702|\n",
    "| rf_recall_macro|\t0.778910|\n",
    "| rf_precision_macro|\t0.780641|\n",
    "| rf_roc_auc_ovr|\t0.860072|"
   ]
  },
  {
   "cell_type": "markdown",
   "metadata": {},
   "source": [
    "- Exactitud (Accuracy):\n",
    "\n",
    "Supongamos que tu modelo predice correctamente 700 pasajeros y equivoca 100.\n",
    "La exactitud sería (700 + 0) / (700 + 100) = 0.875, lo que significa que tu modelo tiene una precisión del 87.5%.\n",
    "\n",
    "- Precisión (Precision):\n",
    "\n",
    "De los 800 pasajeros que tu modelo clasifica como sobrevivientes, 700 realmente sobrevivieron y 100 no.\n",
    "La precisión sería 700 / (700 + 100) = 0.875, lo que indica que el 87.5% de las predicciones de sobrevivientes son correctas.\n",
    "\n",
    "- Recuperación (Recall o Sensibilidad):\n",
    "\n",
    "De los 800 pasajeros que realmente sobrevivieron, tu modelo predice correctamente 700 como sobrevivientes y equivoca 100.\n",
    "La recuperación sería 700 / (700 + 100) = 0.875, lo que significa que el 87.5% de los sobrevivientes fueron identificados correctamente por tu modelo.\n",
    "\n",
    "- Puntuación F1 (F1 Score):\n",
    "\n",
    "La puntuación F1 es la media armónica de precisión y recuperación.\n",
    "Supongamos que la precisión es 0.875 y la recuperación también es 0.875.\n",
    "F1 Score = 2 * (0.875 * 0.875) / (0.875 + 0.875) = 0.875, lo que indica que el modelo tiene una puntuación F1 de 87.5%."
   ]
  },
  {
   "cell_type": "code",
   "execution_count": 48,
   "metadata": {},
   "outputs": [
    {
     "data": {
      "text/html": [
       "<style>#sk-container-id-1 {color: black;}#sk-container-id-1 pre{padding: 0;}#sk-container-id-1 div.sk-toggleable {background-color: white;}#sk-container-id-1 label.sk-toggleable__label {cursor: pointer;display: block;width: 100%;margin-bottom: 0;padding: 0.3em;box-sizing: border-box;text-align: center;}#sk-container-id-1 label.sk-toggleable__label-arrow:before {content: \"▸\";float: left;margin-right: 0.25em;color: #696969;}#sk-container-id-1 label.sk-toggleable__label-arrow:hover:before {color: black;}#sk-container-id-1 div.sk-estimator:hover label.sk-toggleable__label-arrow:before {color: black;}#sk-container-id-1 div.sk-toggleable__content {max-height: 0;max-width: 0;overflow: hidden;text-align: left;background-color: #f0f8ff;}#sk-container-id-1 div.sk-toggleable__content pre {margin: 0.2em;color: black;border-radius: 0.25em;background-color: #f0f8ff;}#sk-container-id-1 input.sk-toggleable__control:checked~div.sk-toggleable__content {max-height: 200px;max-width: 100%;overflow: auto;}#sk-container-id-1 input.sk-toggleable__control:checked~label.sk-toggleable__label-arrow:before {content: \"▾\";}#sk-container-id-1 div.sk-estimator input.sk-toggleable__control:checked~label.sk-toggleable__label {background-color: #d4ebff;}#sk-container-id-1 div.sk-label input.sk-toggleable__control:checked~label.sk-toggleable__label {background-color: #d4ebff;}#sk-container-id-1 input.sk-hidden--visually {border: 0;clip: rect(1px 1px 1px 1px);clip: rect(1px, 1px, 1px, 1px);height: 1px;margin: -1px;overflow: hidden;padding: 0;position: absolute;width: 1px;}#sk-container-id-1 div.sk-estimator {font-family: monospace;background-color: #f0f8ff;border: 1px dotted black;border-radius: 0.25em;box-sizing: border-box;margin-bottom: 0.5em;}#sk-container-id-1 div.sk-estimator:hover {background-color: #d4ebff;}#sk-container-id-1 div.sk-parallel-item::after {content: \"\";width: 100%;border-bottom: 1px solid gray;flex-grow: 1;}#sk-container-id-1 div.sk-label:hover label.sk-toggleable__label {background-color: #d4ebff;}#sk-container-id-1 div.sk-serial::before {content: \"\";position: absolute;border-left: 1px solid gray;box-sizing: border-box;top: 0;bottom: 0;left: 50%;z-index: 0;}#sk-container-id-1 div.sk-serial {display: flex;flex-direction: column;align-items: center;background-color: white;padding-right: 0.2em;padding-left: 0.2em;position: relative;}#sk-container-id-1 div.sk-item {position: relative;z-index: 1;}#sk-container-id-1 div.sk-parallel {display: flex;align-items: stretch;justify-content: center;background-color: white;position: relative;}#sk-container-id-1 div.sk-item::before, #sk-container-id-1 div.sk-parallel-item::before {content: \"\";position: absolute;border-left: 1px solid gray;box-sizing: border-box;top: 0;bottom: 0;left: 50%;z-index: -1;}#sk-container-id-1 div.sk-parallel-item {display: flex;flex-direction: column;z-index: 1;position: relative;background-color: white;}#sk-container-id-1 div.sk-parallel-item:first-child::after {align-self: flex-end;width: 50%;}#sk-container-id-1 div.sk-parallel-item:last-child::after {align-self: flex-start;width: 50%;}#sk-container-id-1 div.sk-parallel-item:only-child::after {width: 0;}#sk-container-id-1 div.sk-dashed-wrapped {border: 1px dashed gray;margin: 0 0.4em 0.5em 0.4em;box-sizing: border-box;padding-bottom: 0.4em;background-color: white;}#sk-container-id-1 div.sk-label label {font-family: monospace;font-weight: bold;display: inline-block;line-height: 1.2em;}#sk-container-id-1 div.sk-label-container {text-align: center;}#sk-container-id-1 div.sk-container {/* jupyter's `normalize.less` sets `[hidden] { display: none; }` but bootstrap.min.css set `[hidden] { display: none !important; }` so we also need the `!important` here to be able to override the default hidden behavior on the sphinx rendered scikit-learn.org. See: https://github.com/scikit-learn/scikit-learn/issues/21755 */display: inline-block !important;position: relative;}#sk-container-id-1 div.sk-text-repr-fallback {display: none;}</style><div id=\"sk-container-id-1\" class=\"sk-top-container\"><div class=\"sk-text-repr-fallback\"><pre>GridSearchCV(cv=5, estimator=RandomForestClassifier(), n_jobs=-1,\n",
       "             param_grid={&#x27;bootstrap&#x27;: [True, False],\n",
       "                         &#x27;class_weight&#x27;: [&#x27;balanced&#x27;, &#x27;balanced_subsample&#x27;],\n",
       "                         &#x27;criterion&#x27;: [&#x27;gini&#x27;, &#x27;entropy&#x27;],\n",
       "                         &#x27;max_depth&#x27;: array([1, 2, 3, 4, 5, 6, 7])},\n",
       "             scoring=&#x27;precision_macro&#x27;)</pre><b>In a Jupyter environment, please rerun this cell to show the HTML representation or trust the notebook. <br />On GitHub, the HTML representation is unable to render, please try loading this page with nbviewer.org.</b></div><div class=\"sk-container\" hidden><div class=\"sk-item sk-dashed-wrapped\"><div class=\"sk-label-container\"><div class=\"sk-label sk-toggleable\"><input class=\"sk-toggleable__control sk-hidden--visually\" id=\"sk-estimator-id-1\" type=\"checkbox\" ><label for=\"sk-estimator-id-1\" class=\"sk-toggleable__label sk-toggleable__label-arrow\">GridSearchCV</label><div class=\"sk-toggleable__content\"><pre>GridSearchCV(cv=5, estimator=RandomForestClassifier(), n_jobs=-1,\n",
       "             param_grid={&#x27;bootstrap&#x27;: [True, False],\n",
       "                         &#x27;class_weight&#x27;: [&#x27;balanced&#x27;, &#x27;balanced_subsample&#x27;],\n",
       "                         &#x27;criterion&#x27;: [&#x27;gini&#x27;, &#x27;entropy&#x27;],\n",
       "                         &#x27;max_depth&#x27;: array([1, 2, 3, 4, 5, 6, 7])},\n",
       "             scoring=&#x27;precision_macro&#x27;)</pre></div></div></div><div class=\"sk-parallel\"><div class=\"sk-parallel-item\"><div class=\"sk-item\"><div class=\"sk-label-container\"><div class=\"sk-label sk-toggleable\"><input class=\"sk-toggleable__control sk-hidden--visually\" id=\"sk-estimator-id-2\" type=\"checkbox\" ><label for=\"sk-estimator-id-2\" class=\"sk-toggleable__label sk-toggleable__label-arrow\">estimator: RandomForestClassifier</label><div class=\"sk-toggleable__content\"><pre>RandomForestClassifier()</pre></div></div></div><div class=\"sk-serial\"><div class=\"sk-item\"><div class=\"sk-estimator sk-toggleable\"><input class=\"sk-toggleable__control sk-hidden--visually\" id=\"sk-estimator-id-3\" type=\"checkbox\" ><label for=\"sk-estimator-id-3\" class=\"sk-toggleable__label sk-toggleable__label-arrow\">RandomForestClassifier</label><div class=\"sk-toggleable__content\"><pre>RandomForestClassifier()</pre></div></div></div></div></div></div></div></div></div></div>"
      ],
      "text/plain": [
       "GridSearchCV(cv=5, estimator=RandomForestClassifier(), n_jobs=-1,\n",
       "             param_grid={'bootstrap': [True, False],\n",
       "                         'class_weight': ['balanced', 'balanced_subsample'],\n",
       "                         'criterion': ['gini', 'entropy'],\n",
       "                         'max_depth': array([1, 2, 3, 4, 5, 6, 7])},\n",
       "             scoring='precision_macro')"
      ]
     },
     "execution_count": 48,
     "metadata": {},
     "output_type": "execute_result"
    }
   ],
   "source": [
    "from sklearn.model_selection import GridSearchCV\n",
    "\n",
    "param_grid = {\n",
    "    'bootstrap': [True, False],\n",
    "    'max_depth': np.arange(1, 8, 1),\n",
    "    'criterion': ['gini', 'entropy'],\n",
    "    'class_weight' : ['balanced', 'balanced_subsample']\n",
    "}\n",
    "\n",
    "rand = RandomForestClassifier()\n",
    "\n",
    "grid_search = GridSearchCV(rand,\n",
    "                           param_grid,\n",
    "                           cv=5,\n",
    "                           scoring='precision_macro',\n",
    "                           n_jobs=-1\n",
    "                          )\n",
    "\n",
    "grid_search.fit(x_train_3, y_train_3)"
   ]
  },
  {
   "cell_type": "code",
   "execution_count": 51,
   "metadata": {},
   "outputs": [
    {
     "data": {
      "text/plain": [
       "{'bootstrap': True,\n",
       " 'class_weight': 'balanced_subsample',\n",
       " 'criterion': 'entropy',\n",
       " 'max_depth': 7}"
      ]
     },
     "execution_count": 51,
     "metadata": {},
     "output_type": "execute_result"
    }
   ],
   "source": [
    "grid_search.best_params_"
   ]
  },
  {
   "cell_type": "markdown",
   "metadata": {},
   "source": [
    "# Entrenar"
   ]
  },
  {
   "cell_type": "code",
   "execution_count": 52,
   "metadata": {},
   "outputs": [
    {
     "data": {
      "text/html": [
       "<style>#sk-container-id-2 {color: black;}#sk-container-id-2 pre{padding: 0;}#sk-container-id-2 div.sk-toggleable {background-color: white;}#sk-container-id-2 label.sk-toggleable__label {cursor: pointer;display: block;width: 100%;margin-bottom: 0;padding: 0.3em;box-sizing: border-box;text-align: center;}#sk-container-id-2 label.sk-toggleable__label-arrow:before {content: \"▸\";float: left;margin-right: 0.25em;color: #696969;}#sk-container-id-2 label.sk-toggleable__label-arrow:hover:before {color: black;}#sk-container-id-2 div.sk-estimator:hover label.sk-toggleable__label-arrow:before {color: black;}#sk-container-id-2 div.sk-toggleable__content {max-height: 0;max-width: 0;overflow: hidden;text-align: left;background-color: #f0f8ff;}#sk-container-id-2 div.sk-toggleable__content pre {margin: 0.2em;color: black;border-radius: 0.25em;background-color: #f0f8ff;}#sk-container-id-2 input.sk-toggleable__control:checked~div.sk-toggleable__content {max-height: 200px;max-width: 100%;overflow: auto;}#sk-container-id-2 input.sk-toggleable__control:checked~label.sk-toggleable__label-arrow:before {content: \"▾\";}#sk-container-id-2 div.sk-estimator input.sk-toggleable__control:checked~label.sk-toggleable__label {background-color: #d4ebff;}#sk-container-id-2 div.sk-label input.sk-toggleable__control:checked~label.sk-toggleable__label {background-color: #d4ebff;}#sk-container-id-2 input.sk-hidden--visually {border: 0;clip: rect(1px 1px 1px 1px);clip: rect(1px, 1px, 1px, 1px);height: 1px;margin: -1px;overflow: hidden;padding: 0;position: absolute;width: 1px;}#sk-container-id-2 div.sk-estimator {font-family: monospace;background-color: #f0f8ff;border: 1px dotted black;border-radius: 0.25em;box-sizing: border-box;margin-bottom: 0.5em;}#sk-container-id-2 div.sk-estimator:hover {background-color: #d4ebff;}#sk-container-id-2 div.sk-parallel-item::after {content: \"\";width: 100%;border-bottom: 1px solid gray;flex-grow: 1;}#sk-container-id-2 div.sk-label:hover label.sk-toggleable__label {background-color: #d4ebff;}#sk-container-id-2 div.sk-serial::before {content: \"\";position: absolute;border-left: 1px solid gray;box-sizing: border-box;top: 0;bottom: 0;left: 50%;z-index: 0;}#sk-container-id-2 div.sk-serial {display: flex;flex-direction: column;align-items: center;background-color: white;padding-right: 0.2em;padding-left: 0.2em;position: relative;}#sk-container-id-2 div.sk-item {position: relative;z-index: 1;}#sk-container-id-2 div.sk-parallel {display: flex;align-items: stretch;justify-content: center;background-color: white;position: relative;}#sk-container-id-2 div.sk-item::before, #sk-container-id-2 div.sk-parallel-item::before {content: \"\";position: absolute;border-left: 1px solid gray;box-sizing: border-box;top: 0;bottom: 0;left: 50%;z-index: -1;}#sk-container-id-2 div.sk-parallel-item {display: flex;flex-direction: column;z-index: 1;position: relative;background-color: white;}#sk-container-id-2 div.sk-parallel-item:first-child::after {align-self: flex-end;width: 50%;}#sk-container-id-2 div.sk-parallel-item:last-child::after {align-self: flex-start;width: 50%;}#sk-container-id-2 div.sk-parallel-item:only-child::after {width: 0;}#sk-container-id-2 div.sk-dashed-wrapped {border: 1px dashed gray;margin: 0 0.4em 0.5em 0.4em;box-sizing: border-box;padding-bottom: 0.4em;background-color: white;}#sk-container-id-2 div.sk-label label {font-family: monospace;font-weight: bold;display: inline-block;line-height: 1.2em;}#sk-container-id-2 div.sk-label-container {text-align: center;}#sk-container-id-2 div.sk-container {/* jupyter's `normalize.less` sets `[hidden] { display: none; }` but bootstrap.min.css set `[hidden] { display: none !important; }` so we also need the `!important` here to be able to override the default hidden behavior on the sphinx rendered scikit-learn.org. See: https://github.com/scikit-learn/scikit-learn/issues/21755 */display: inline-block !important;position: relative;}#sk-container-id-2 div.sk-text-repr-fallback {display: none;}</style><div id=\"sk-container-id-2\" class=\"sk-top-container\"><div class=\"sk-text-repr-fallback\"><pre>RandomForestClassifier(class_weight=&#x27;balanced_subsample&#x27;, criterion=&#x27;entropy&#x27;,\n",
       "                       max_depth=7, random_state=42)</pre><b>In a Jupyter environment, please rerun this cell to show the HTML representation or trust the notebook. <br />On GitHub, the HTML representation is unable to render, please try loading this page with nbviewer.org.</b></div><div class=\"sk-container\" hidden><div class=\"sk-item\"><div class=\"sk-estimator sk-toggleable\"><input class=\"sk-toggleable__control sk-hidden--visually\" id=\"sk-estimator-id-4\" type=\"checkbox\" checked><label for=\"sk-estimator-id-4\" class=\"sk-toggleable__label sk-toggleable__label-arrow\">RandomForestClassifier</label><div class=\"sk-toggleable__content\"><pre>RandomForestClassifier(class_weight=&#x27;balanced_subsample&#x27;, criterion=&#x27;entropy&#x27;,\n",
       "                       max_depth=7, random_state=42)</pre></div></div></div></div></div>"
      ],
      "text/plain": [
       "RandomForestClassifier(class_weight='balanced_subsample', criterion='entropy',\n",
       "                       max_depth=7, random_state=42)"
      ]
     },
     "execution_count": 52,
     "metadata": {},
     "output_type": "execute_result"
    }
   ],
   "source": [
    "# {'bootstrap': True,\n",
    "#  'class_weight': 'balanced_subsample',\n",
    "#  'criterion': 'entropy',\n",
    "#  'max_depth': 6}\n",
    "rand = RandomForestClassifier(random_state=42, bootstrap=True, class_weight='balanced_subsample', criterion='entropy', max_depth=7)\n",
    "rand.fit(x_train_3, y_train_3)"
   ]
  },
  {
   "cell_type": "code",
   "execution_count": 53,
   "metadata": {},
   "outputs": [
    {
     "data": {
      "text/plain": [
       "array([0.1350543 , 0.2299982 , 0.39941528, 0.19308525, 0.01327103,\n",
       "       0.01282114, 0.0163548 ])"
      ]
     },
     "execution_count": 53,
     "metadata": {},
     "output_type": "execute_result"
    }
   ],
   "source": [
    "rand.feature_importances_"
   ]
  },
  {
   "cell_type": "markdown",
   "metadata": {},
   "source": [
    "# Predicción"
   ]
  },
  {
   "cell_type": "code",
   "execution_count": 54,
   "metadata": {},
   "outputs": [
    {
     "data": {
      "text/plain": [
       "array([0, 0, 1, 0, 0, 1, 1, 0, 0, 0, 1, 0, 0, 0, 1, 1, 0, 0, 0, 0, 1, 1,\n",
       "       0, 1, 0, 0, 0, 0, 0, 0, 0, 0, 1, 1, 1, 0, 0, 1, 0, 0, 0, 0, 0, 0,\n",
       "       1, 0, 0, 0, 0, 0, 0, 1, 0, 1, 1, 0, 1, 0, 0, 1, 0, 0, 0, 0, 0, 1,\n",
       "       1, 0, 1, 0, 0, 0, 0, 0, 0, 0, 0, 1, 0, 0, 0, 1, 0, 0, 0, 1, 0, 0,\n",
       "       0, 0, 0, 1, 1, 1, 0, 0, 1, 0, 0, 0, 0, 0, 0, 0, 0, 0, 0, 0, 0, 0,\n",
       "       0, 1, 1, 1, 1, 0, 1, 1, 0, 0, 1, 1, 1, 0, 1, 1, 1, 1, 1, 0, 0, 0,\n",
       "       0, 0, 0, 1, 0, 0, 0, 0, 1, 0, 0, 0, 1, 0, 0, 0, 1, 0, 0, 1, 0, 0,\n",
       "       0, 0, 0, 1, 0, 0, 0, 0, 0, 1, 0, 0, 0, 1, 0, 0, 0, 0, 0, 0, 0, 0,\n",
       "       1, 1, 0], dtype=int64)"
      ]
     },
     "execution_count": 54,
     "metadata": {},
     "output_type": "execute_result"
    }
   ],
   "source": [
    "pred = rand.predict(x_test_3)\n",
    "pred"
   ]
  },
  {
   "cell_type": "markdown",
   "metadata": {},
   "source": [
    "# Validación del modelo"
   ]
  },
  {
   "cell_type": "code",
   "execution_count": 55,
   "metadata": {},
   "outputs": [
    {
     "name": "stdout",
     "output_type": "stream",
     "text": [
      "              precision    recall  f1-score   support\n",
      "\n",
      "           0       0.84      0.87      0.85       122\n",
      "           1       0.70      0.65      0.67        57\n",
      "\n",
      "    accuracy                           0.80       179\n",
      "   macro avg       0.77      0.76      0.76       179\n",
      "weighted avg       0.80      0.80      0.80       179\n",
      "\n"
     ]
    }
   ],
   "source": [
    "print(classification_report(y_test_3, pred))"
   ]
  },
  {
   "cell_type": "markdown",
   "metadata": {},
   "source": [
    "                  precision    recall  f1-score   support\n",
    "\n",
    "           0       0.84      0.88      0.86       122\n",
    "           1       0.71      0.65      0.68        57\n",
    "\n",
    "    accuracy                           0.80       179\n",
    "    macro avg       0.78      0.76      0.77       179\n",
    "    weighted avg       0.80      0.80      0.80       179\n"
   ]
  },
  {
   "cell_type": "code",
   "execution_count": 56,
   "metadata": {},
   "outputs": [
    {
     "data": {
      "text/plain": [
       "<sklearn.metrics._plot.confusion_matrix.ConfusionMatrixDisplay at 0x23f180d89d0>"
      ]
     },
     "execution_count": 56,
     "metadata": {},
     "output_type": "execute_result"
    },
    {
     "data": {
      "image/png": "[encoded data removed]",
      "text/plain": [
       "<Figure size 640x480 with 2 Axes>"
      ]
     },
     "metadata": {},
     "output_type": "display_data"
    }
   ],
   "source": [
    "ConfusionMatrixDisplay(confusion_matrix(y_test_3, pred)).plot()"
   ]
  }
 ],
 "metadata": {
  "kernelspec": {
   "display_name": ".venv",
   "language": "python",
   "name": "python3"
  },
  "language_info": {
   "codemirror_mode": {
    "name": "ipython",
    "version": 3
   },
   "file_extension": ".py",
   "mimetype": "text/x-python",
   "name": "python",
   "nbconvert_exporter": "python",
   "pygments_lexer": "ipython3",
   "version": "3.11.7"
  }
 },
 "nbformat": 4,
 "nbformat_minor": 2
}
