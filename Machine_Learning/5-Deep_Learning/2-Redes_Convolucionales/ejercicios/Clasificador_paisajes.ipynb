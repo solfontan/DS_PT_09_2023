{
 "cells": [
  {
   "attachments": {},
   "cell_type": "markdown",
   "metadata": {},
   "source": [
    "# Clasificador paisajes\n",
    "Para este ejercicio vas a crear un clasificador automático de paisajes. Los datos los encontrarás en el Classroom como `seg_train.zip` y `seg_test.zip`. Se pide:\n",
    "1. Cargar las imágenes. Mira cómo están almacenados los datos. Tendrás que recorrer las carpetas, cargar las imágenes en memoria y etiquetarlas con los nombres de las carpetas. Realiza un reshape de cada imagen (comienza el ejercicio con 32x32, para ir más rápido en las ejecuciones).\n",
    "2. Investiga las imágenes, comprueba con algunas muestras que has cargado bien los datos.\n",
    "3. Normaliza\n",
    "4. Diseña la arquitectura de la red. Recuerda que es un algiritmo de clasificación. Ojo con las dimensiones de la entrada\n",
    "5. Reserva un 20% de los datos del entrenamiento para validar.\n",
    "6. Representa el objeto history\n",
    "7. Evalua el modelo con los datos de test\n",
    "8. Representa algunos de los paisajes donde el modelo comete errores\n",
    "9. Crea una matriz de confusión con los errores del modelo\n",
    "\n",
    "**NOTA apartado 1**: para el apartado 1 tendras que recorre las carpetas/imagenes con `os.listdir()`, e ir cargando todas las imagenes como arrays de numpy\n",
    "\n",
    "**NOTA apartado 4**: empieza con un par de capas Conv2D + MaxPooling2D con activación relu y después la fully connected layer. on softmax como ultima capa"
   ]
  },
  {
   "cell_type": "code",
   "execution_count": 1,
   "metadata": {},
   "outputs": [
    {
     "name": "stderr",
     "output_type": "stream",
     "text": [
      "C:\\Users\\jamr1\\AppData\\Local\\Temp\\ipykernel_16692\\2644636387.py:2: DeprecationWarning: \n",
      "Pyarrow will become a required dependency of pandas in the next major release of pandas (pandas 3.0),\n",
      "(to allow more performant data types, such as the Arrow string type, and better interoperability with other libraries)\n",
      "but was too old on your system - pyarrow 10.0.1 is the current minimum supported version as of this release.\n",
      "If this would cause problems for you,\n",
      "please provide us feedback at https://github.com/pandas-dev/pandas/issues/54466\n",
      "        \n",
      "  import pandas as pd\n"
     ]
    }
   ],
   "source": [
    "import numpy as np\n",
    "import pandas as pd\n",
    "import os\n",
    "import matplotlib.pyplot as plt\n",
    "import cv2\n",
    "import tensorflow as tf"
   ]
  },
  {
   "cell_type": "markdown",
   "metadata": {},
   "source": [
    "### 1)."
   ]
  },
  {
   "cell_type": "code",
   "execution_count": 2,
   "metadata": {},
   "outputs": [],
   "source": [
    "class_names = ['mountain','street','glacier', 'buildings','sea','forest']\n",
    "\n",
    "IMAGE_SIZE = (32,32)"
   ]
  },
  {
   "cell_type": "code",
   "execution_count": 3,
   "metadata": {},
   "outputs": [
    {
     "data": {
      "text/plain": [
       "{'mountain': 0,\n",
       " 'street': 1,\n",
       " 'glacier': 2,\n",
       " 'buildings': 3,\n",
       " 'sea': 4,\n",
       " 'forest': 5}"
      ]
     },
     "execution_count": 3,
     "metadata": {},
     "output_type": "execute_result"
    }
   ],
   "source": [
    "class_names_label = {class_name:i for i ,class_name in enumerate(class_names)}\n",
    "class_names_label"
   ]
  },
  {
   "cell_type": "code",
   "execution_count": 4,
   "metadata": {},
   "outputs": [],
   "source": [
    "ROOT_PATH = os.getcwd()\n",
    "\n",
    "TRAIN_PATH = ROOT_PATH + \"\\\\Prof\\\\seg_train (1)\\\\\" \n",
    "TEST_PATH = ROOT_PATH + \"\\\\Prof\\\\seg_test (1)\\\\seg_test\\\\\""
   ]
  },
  {
   "cell_type": "code",
   "execution_count": 5,
   "metadata": {},
   "outputs": [
    {
     "name": "stdout",
     "output_type": "stream",
     "text": [
      "(14034, 32, 32, 3)\n",
      "(3000, 32, 32, 3)\n"
     ]
    }
   ],
   "source": [
    "def read_data(path, im_size, class_names_label):\n",
    "    X = []\n",
    "    y = []\n",
    "    for folder in os.listdir(path):\n",
    "        label = class_names_label[folder]\n",
    "        folder_path = os.path.join(path,folder)\n",
    "        # Iterar sobre todo lo que haya en path\n",
    "        for file in os.listdir(folder_path):\n",
    "            \n",
    "            image_path = os.path.join(folder_path,file)\n",
    "            image = cv2.imread(image_path)\n",
    "            image = cv2.cvtColor(image, cv2.COLOR_BGR2RGB)\n",
    "            image = cv2.resize(image, im_size) # Ya lo aplicó el resize\n",
    "            \n",
    "            X.append(image)\n",
    "            y.append(label)\n",
    "            \n",
    "    return np.array(X), np.array(y)\n",
    "\n",
    "X_train, y_train = read_data(TRAIN_PATH, IMAGE_SIZE, class_names_label)\n",
    "X_test, y_test = read_data(TEST_PATH, IMAGE_SIZE, class_names_label)\n",
    "\n",
    "print(X_train.shape)\n",
    "print(X_test.shape)"
   ]
  },
  {
   "cell_type": "markdown",
   "metadata": {},
   "source": [
    "### 2)."
   ]
  },
  {
   "cell_type": "code",
   "execution_count": 7,
   "metadata": {},
   "outputs": [
    {
     "name": "stdout",
     "output_type": "stream",
     "text": [
      "(32, 32, 3)\n"
     ]
    },
    {
     "data": {
      "image/png": "[encoded data removed]",
      "text/plain": [
       "<Figure size 640x480 with 1 Axes>"
      ]
     },
     "metadata": {},
     "output_type": "display_data"
    }
   ],
   "source": [
    "print(X_train[2].shape)\n",
    "plt.imshow(X_train[2]);"
   ]
  },
  {
   "cell_type": "markdown",
   "metadata": {},
   "source": [
    "### 3)."
   ]
  },
  {
   "cell_type": "code",
   "execution_count": 8,
   "metadata": {},
   "outputs": [
    {
     "name": "stdout",
     "output_type": "stream",
     "text": [
      "Min: 0.0\n",
      "Max: 1.0\n"
     ]
    }
   ],
   "source": [
    "X_train = X_train / 255.0\n",
    "X_test = X_test / 255.0\n",
    "\n",
    "print(\"Min:\", np.min(X_train))\n",
    "print(\"Max:\", np.max(X_train))"
   ]
  },
  {
   "cell_type": "markdown",
   "metadata": {},
   "source": [
    "### 4)."
   ]
  },
  {
   "cell_type": "code",
   "execution_count": 9,
   "metadata": {},
   "outputs": [
    {
     "data": {
      "text/plain": [
       "array([[[[0.88235294, 0.88235294, 0.88235294],\n",
       "         [0.86666667, 0.8745098 , 0.87058824],\n",
       "         [0.86666667, 0.8745098 , 0.87058824],\n",
       "         ...,\n",
       "         [0.92941176, 0.92941176, 0.92941176],\n",
       "         [0.93333333, 0.93333333, 0.93333333],\n",
       "         [0.94117647, 0.94117647, 0.94117647]],\n",
       "\n",
       "        [[0.90196078, 0.90196078, 0.90196078],\n",
       "         [0.89019608, 0.89019608, 0.89019608],\n",
       "         [0.90980392, 0.90980392, 0.90980392],\n",
       "         ...,\n",
       "         [0.95686275, 0.95686275, 0.95686275],\n",
       "         [0.95686275, 0.95686275, 0.95686275],\n",
       "         [0.96470588, 0.96470588, 0.96470588]],\n",
       "\n",
       "        [[0.21568627, 0.21568627, 0.21568627],\n",
       "         [0.8745098 , 0.8745098 , 0.8745098 ],\n",
       "         [0.34509804, 0.34117647, 0.34509804],\n",
       "         ...,\n",
       "         [0.96078431, 0.96078431, 0.96078431],\n",
       "         [0.96470588, 0.96470588, 0.96470588],\n",
       "         [0.96470588, 0.96470588, 0.96470588]],\n",
       "\n",
       "        ...,\n",
       "\n",
       "        [[0.44705882, 0.43921569, 0.43529412],\n",
       "         [0.38039216, 0.37647059, 0.36862745],\n",
       "         [0.49019608, 0.48235294, 0.48627451],\n",
       "         ...,\n",
       "         [0.35294118, 0.34901961, 0.34117647],\n",
       "         [0.34509804, 0.34117647, 0.33333333],\n",
       "         [0.36078431, 0.35686275, 0.34901961]],\n",
       "\n",
       "        [[0.6       , 0.59607843, 0.58823529],\n",
       "         [0.44313725, 0.43921569, 0.43137255],\n",
       "         [0.48235294, 0.4745098 , 0.47843137],\n",
       "         ...,\n",
       "         [0.3254902 , 0.32156863, 0.30980392],\n",
       "         [0.26666667, 0.2627451 , 0.25490196],\n",
       "         [0.31372549, 0.30980392, 0.30196078]],\n",
       "\n",
       "        [[0.51372549, 0.50980392, 0.50196078],\n",
       "         [0.52156863, 0.51764706, 0.50980392],\n",
       "         [0.50196078, 0.49411765, 0.49019608],\n",
       "         ...,\n",
       "         [0.50196078, 0.49803922, 0.49019608],\n",
       "         [0.54117647, 0.54117647, 0.53333333],\n",
       "         [0.50980392, 0.50196078, 0.50588235]]],\n",
       "\n",
       "\n",
       "       [[[0.36078431, 0.61568627, 0.8745098 ],\n",
       "         [0.36470588, 0.61960784, 0.87843137],\n",
       "         [0.36470588, 0.61960784, 0.87843137],\n",
       "         ...,\n",
       "         [0.57647059, 0.56078431, 0.61568627],\n",
       "         [0.63921569, 0.36470588, 0.17254902],\n",
       "         [0.78823529, 0.63529412, 0.32156863]],\n",
       "\n",
       "        [[0.36862745, 0.63529412, 0.88235294],\n",
       "         [0.36862745, 0.63529412, 0.88235294],\n",
       "         [0.36862745, 0.63529412, 0.88235294],\n",
       "         ...,\n",
       "         [0.58823529, 0.58823529, 0.65490196],\n",
       "         [0.69019608, 0.45490196, 0.27058824],\n",
       "         [0.77647059, 0.58431373, 0.22745098]],\n",
       "\n",
       "        [[0.38823529, 0.64313725, 0.88627451],\n",
       "         [0.39215686, 0.65098039, 0.88627451],\n",
       "         [0.38039216, 0.64705882, 0.88627451],\n",
       "         ...,\n",
       "         [0.6627451 , 0.67843137, 0.8       ],\n",
       "         [0.5372549 , 0.23529412, 0.1372549 ],\n",
       "         [0.67058824, 0.42745098, 0.17254902]],\n",
       "\n",
       "        ...,\n",
       "\n",
       "        [[0.38431373, 0.38823529, 0.40392157],\n",
       "         [0.38039216, 0.38431373, 0.39607843],\n",
       "         [0.41960784, 0.42352941, 0.43137255],\n",
       "         ...,\n",
       "         [0.43921569, 0.37647059, 0.34509804],\n",
       "         [0.44705882, 0.38823529, 0.35686275],\n",
       "         [0.43529412, 0.38039216, 0.32941176]],\n",
       "\n",
       "        [[0.30980392, 0.32941176, 0.34509804],\n",
       "         [0.4       , 0.41568627, 0.42745098],\n",
       "         [0.44313725, 0.44705882, 0.45882353],\n",
       "         ...,\n",
       "         [0.43529412, 0.37647059, 0.3372549 ],\n",
       "         [0.41568627, 0.36078431, 0.32156863],\n",
       "         [0.43529412, 0.36862745, 0.32941176]],\n",
       "\n",
       "        [[0.42352941, 0.43921569, 0.44313725],\n",
       "         [0.42745098, 0.44313725, 0.44705882],\n",
       "         [0.43137255, 0.43529412, 0.43921569],\n",
       "         ...,\n",
       "         [0.43529412, 0.37254902, 0.34117647],\n",
       "         [0.40392157, 0.34901961, 0.30588235],\n",
       "         [0.46666667, 0.41176471, 0.37647059]]],\n",
       "\n",
       "\n",
       "       [[[0.7254902 , 0.49411765, 0.43137255],\n",
       "         [0.73333333, 0.50588235, 0.43529412],\n",
       "         [0.86666667, 0.79215686, 0.76862745],\n",
       "         ...,\n",
       "         [0.67058824, 0.86666667, 0.99607843],\n",
       "         [0.6745098 , 0.86666667, 0.99607843],\n",
       "         [0.68627451, 0.86666667, 0.99607843]],\n",
       "\n",
       "        [[0.7254902 , 0.48627451, 0.46666667],\n",
       "         [0.74117647, 0.51372549, 0.46666667],\n",
       "         [0.79607843, 0.62352941, 0.57647059],\n",
       "         ...,\n",
       "         [0.69411765, 0.87843137, 0.99607843],\n",
       "         [0.69803922, 0.88235294, 0.99607843],\n",
       "         [0.70588235, 0.88627451, 0.98823529]],\n",
       "\n",
       "        [[0.72156863, 0.50196078, 0.45098039],\n",
       "         [0.72941176, 0.49803922, 0.44313725],\n",
       "         [0.68627451, 0.52156863, 0.49411765],\n",
       "         ...,\n",
       "         [0.71764706, 0.89803922, 0.99215686],\n",
       "         [0.7254902 , 0.90588235, 1.        ],\n",
       "         [0.72156863, 0.90588235, 0.99607843]],\n",
       "\n",
       "        ...,\n",
       "\n",
       "        [[0.42352941, 0.30588235, 0.29411765],\n",
       "         [0.40392157, 0.28627451, 0.27843137],\n",
       "         [0.40784314, 0.29019608, 0.28235294],\n",
       "         ...,\n",
       "         [0.59215686, 0.4745098 , 0.47843137],\n",
       "         [0.62352941, 0.50588235, 0.50980392],\n",
       "         [0.65882353, 0.56862745, 0.54509804]],\n",
       "\n",
       "        [[0.39607843, 0.27843137, 0.27058824],\n",
       "         [0.41176471, 0.29411765, 0.28627451],\n",
       "         [0.41568627, 0.29803922, 0.29803922],\n",
       "         ...,\n",
       "         [0.5372549 , 0.44313725, 0.43921569],\n",
       "         [0.55686275, 0.45882353, 0.45882353],\n",
       "         [0.54509804, 0.46666667, 0.4627451 ]],\n",
       "\n",
       "        [[0.42352941, 0.30588235, 0.29803922],\n",
       "         [0.44313725, 0.31764706, 0.31372549],\n",
       "         [0.43529412, 0.30588235, 0.30196078],\n",
       "         ...,\n",
       "         [0.54901961, 0.45098039, 0.43529412],\n",
       "         [0.56078431, 0.45882353, 0.45490196],\n",
       "         [0.55294118, 0.45490196, 0.45098039]]],\n",
       "\n",
       "\n",
       "       ...,\n",
       "\n",
       "\n",
       "       [[[0.61568627, 0.64705882, 0.72156863],\n",
       "         [0.59607843, 0.63921569, 0.70980392],\n",
       "         [0.62745098, 0.65882353, 0.74117647],\n",
       "         ...,\n",
       "         [0.70196078, 0.74901961, 0.81176471],\n",
       "         [0.70588235, 0.75294118, 0.81568627],\n",
       "         [0.71372549, 0.76078431, 0.82352941]],\n",
       "\n",
       "        [[0.63921569, 0.67843137, 0.74901961],\n",
       "         [0.62352941, 0.66666667, 0.7372549 ],\n",
       "         [0.61960784, 0.65098039, 0.7254902 ],\n",
       "         ...,\n",
       "         [0.72941176, 0.77647059, 0.83921569],\n",
       "         [0.71764706, 0.76470588, 0.82745098],\n",
       "         [0.71372549, 0.76470588, 0.82745098]],\n",
       "\n",
       "        [[0.64313725, 0.69019608, 0.75294118],\n",
       "         [0.64313725, 0.69019608, 0.75294118],\n",
       "         [0.63921569, 0.68235294, 0.75294118],\n",
       "         ...,\n",
       "         [0.74117647, 0.78823529, 0.85098039],\n",
       "         [0.72941176, 0.77647059, 0.83921569],\n",
       "         [0.72156863, 0.76862745, 0.83137255]],\n",
       "\n",
       "        ...,\n",
       "\n",
       "        [[0.11372549, 0.27843137, 0.35294118],\n",
       "         [0.26666667, 0.41960784, 0.49019608],\n",
       "         [0.37254902, 0.50588235, 0.55294118],\n",
       "         ...,\n",
       "         [0.45882353, 0.64705882, 0.74117647],\n",
       "         [0.62352941, 0.75686275, 0.79215686],\n",
       "         [0.36078431, 0.5254902 , 0.59215686]],\n",
       "\n",
       "        [[0.34901961, 0.49411765, 0.56078431],\n",
       "         [0.25098039, 0.42745098, 0.49803922],\n",
       "         [0.34901961, 0.50980392, 0.59607843],\n",
       "         ...,\n",
       "         [0.42352941, 0.60784314, 0.69411765],\n",
       "         [0.36862745, 0.58039216, 0.67843137],\n",
       "         [0.5254902 , 0.67843137, 0.74901961]],\n",
       "\n",
       "        [[0.65490196, 0.74901961, 0.78039216],\n",
       "         [0.36078431, 0.50980392, 0.58039216],\n",
       "         [0.29803922, 0.47058824, 0.54117647],\n",
       "         ...,\n",
       "         [0.36078431, 0.5372549 , 0.64313725],\n",
       "         [0.4       , 0.58431373, 0.67843137],\n",
       "         [0.36470588, 0.54509804, 0.63529412]]],\n",
       "\n",
       "\n",
       "       [[[0.38431373, 0.57647059, 0.79607843],\n",
       "         [0.38823529, 0.57254902, 0.79215686],\n",
       "         [0.38431373, 0.56862745, 0.78823529],\n",
       "         ...,\n",
       "         [0.25490196, 0.45490196, 0.70196078],\n",
       "         [0.25490196, 0.45490196, 0.70196078],\n",
       "         [0.25098039, 0.45098039, 0.69803922]],\n",
       "\n",
       "        [[0.39215686, 0.58431373, 0.80392157],\n",
       "         [0.39215686, 0.57647059, 0.79607843],\n",
       "         [0.38823529, 0.57254902, 0.79215686],\n",
       "         ...,\n",
       "         [0.2627451 , 0.4627451 , 0.70980392],\n",
       "         [0.2627451 , 0.4627451 , 0.70980392],\n",
       "         [0.24705882, 0.45882353, 0.70196078]],\n",
       "\n",
       "        [[0.40392157, 0.58823529, 0.80784314],\n",
       "         [0.4       , 0.58431373, 0.80392157],\n",
       "         [0.39215686, 0.57647059, 0.80392157],\n",
       "         ...,\n",
       "         [0.26666667, 0.46666667, 0.72156863],\n",
       "         [0.27058824, 0.47058824, 0.7254902 ],\n",
       "         [0.25882353, 0.47058824, 0.71372549]],\n",
       "\n",
       "        ...,\n",
       "\n",
       "        [[0.25098039, 0.28627451, 0.27843137],\n",
       "         [0.20784314, 0.24705882, 0.23137255],\n",
       "         [0.27843137, 0.31764706, 0.3254902 ],\n",
       "         ...,\n",
       "         [0.38039216, 0.42745098, 0.46666667],\n",
       "         [0.27058824, 0.28235294, 0.3372549 ],\n",
       "         [0.56470588, 0.55294118, 0.58039216]],\n",
       "\n",
       "        [[0.2       , 0.23921569, 0.22352941],\n",
       "         [0.18823529, 0.20392157, 0.17254902],\n",
       "         [0.28235294, 0.31764706, 0.27843137],\n",
       "         ...,\n",
       "         [0.18039216, 0.19607843, 0.23921569],\n",
       "         [0.20784314, 0.21176471, 0.27058824],\n",
       "         [0.21960784, 0.22745098, 0.25098039]],\n",
       "\n",
       "        [[0.35294118, 0.40392157, 0.12941176],\n",
       "         [0.37647059, 0.40784314, 0.15294118],\n",
       "         [0.38823529, 0.42352941, 0.17647059],\n",
       "         ...,\n",
       "         [0.17254902, 0.20784314, 0.24313725],\n",
       "         [0.07058824, 0.06666667, 0.0745098 ],\n",
       "         [0.10588235, 0.10196078, 0.07058824]]],\n",
       "\n",
       "\n",
       "       [[[0.51372549, 0.63137255, 0.78039216],\n",
       "         [0.52156863, 0.63137255, 0.78431373],\n",
       "         [0.52156863, 0.63137255, 0.78431373],\n",
       "         ...,\n",
       "         [0.61568627, 0.69411765, 0.8       ],\n",
       "         [0.58431373, 0.6745098 , 0.8       ],\n",
       "         [0.56862745, 0.66666667, 0.78823529]],\n",
       "\n",
       "        [[0.51372549, 0.63137255, 0.78039216],\n",
       "         [0.52156863, 0.63137255, 0.78431373],\n",
       "         [0.52156863, 0.63137255, 0.78431373],\n",
       "         ...,\n",
       "         [0.61568627, 0.69019608, 0.8       ],\n",
       "         [0.62745098, 0.70196078, 0.82352941],\n",
       "         [0.63137255, 0.70196078, 0.81568627]],\n",
       "\n",
       "        [[0.51372549, 0.63137255, 0.78039216],\n",
       "         [0.52156863, 0.63137255, 0.78431373],\n",
       "         [0.5254902 , 0.63529412, 0.78823529],\n",
       "         ...,\n",
       "         [0.65882353, 0.72156863, 0.81176471],\n",
       "         [0.61568627, 0.68235294, 0.78431373],\n",
       "         [0.59215686, 0.6745098 , 0.79607843]],\n",
       "\n",
       "        ...,\n",
       "\n",
       "        [[0.40784314, 0.47843137, 0.61568627],\n",
       "         [0.40784314, 0.48235294, 0.60784314],\n",
       "         [0.45882353, 0.52941176, 0.64313725],\n",
       "         ...,\n",
       "         [0.54509804, 0.58039216, 0.66666667],\n",
       "         [0.50980392, 0.53333333, 0.63921569],\n",
       "         [0.42745098, 0.47058824, 0.59215686]],\n",
       "\n",
       "        [[0.40392157, 0.46666667, 0.63529412],\n",
       "         [0.4       , 0.47058824, 0.62352941],\n",
       "         [0.42745098, 0.49019608, 0.63921569],\n",
       "         ...,\n",
       "         [0.4627451 , 0.52156863, 0.63529412],\n",
       "         [0.46666667, 0.49411765, 0.62352941],\n",
       "         [0.44313725, 0.4745098 , 0.61568627]],\n",
       "\n",
       "        [[0.35686275, 0.41176471, 0.56470588],\n",
       "         [0.38431373, 0.43529412, 0.58823529],\n",
       "         [0.38431373, 0.43921569, 0.58823529],\n",
       "         ...,\n",
       "         [0.44313725, 0.50196078, 0.61568627],\n",
       "         [0.44705882, 0.50588235, 0.61960784],\n",
       "         [0.44313725, 0.49803922, 0.61568627]]]])"
      ]
     },
     "execution_count": 9,
     "metadata": {},
     "output_type": "execute_result"
    }
   ],
   "source": [
    "from sklearn.utils import shuffle\n",
    "X_train, y_train = shuffle(X_train, y_train, random_state=42)\n",
    "X_train"
   ]
  },
  {
   "cell_type": "code",
   "execution_count": 10,
   "metadata": {},
   "outputs": [],
   "source": [
    "np.savez(ROOT_PATH + '/data.npz',\n",
    "        X_train = X_train,\n",
    "        y_train = y_train,\n",
    "        X_test = X_test,\n",
    "        y_test = y_test)"
   ]
  },
  {
   "cell_type": "code",
   "execution_count": 11,
   "metadata": {},
   "outputs": [],
   "source": [
    "data = np.load(ROOT_PATH + '/data.npz')\n",
    "X_train = data['X_train']\n",
    "X_test = data['X_test']\n",
    "y_train = data['y_train']\n",
    "y_test = data['y_test']"
   ]
  },
  {
   "cell_type": "code",
   "execution_count": 14,
   "metadata": {},
   "outputs": [],
   "source": [
    "from tensorflow import keras\n",
    "\n",
    "IMAGE_SIZE = (32, 32, 1)  # Definir el tamaño de la imagen\n",
    "\n",
    "layers = [\n",
    "    keras.layers.Conv2D(64, (3,3), activation='relu', input_shape=IMAGE_SIZE),\n",
    "    keras.layers.MaxPooling2D(pool_size=(2,2)),\n",
    "    \n",
    "    keras.layers.Conv2D(128, (3,3), activation='relu'),\n",
    "    keras.layers.MaxPooling2D(pool_size=(2,2)),\n",
    "    \n",
    "    keras.layers.Flatten(),\n",
    "    keras.layers.Dense(128, activation='relu'),\n",
    "    keras.layers.Dense(6, activation='softmax')\n",
    "]\n",
    "\n",
    "model = keras.Sequential(layers)\n",
    "\n",
    "model.compile(optimizer='adam',\n",
    "              loss='sparse_categorical_crossentropy',  # Cambiado a sparse_categorical_crossentropy para multiclase\n",
    "              metrics=['accuracy'])\n"
   ]
  },
  {
   "cell_type": "markdown",
   "metadata": {},
   "source": [
    "El error que estabas experimentando, que indicaba que la entrada de la capa `Conv2D` tenía una dimensión incompatible, era probablemente debido a un desajuste entre la forma de `input_shape` especificada y la forma real de tus datos de entrada.\n",
    "\n",
    "Cuando defines un modelo en Keras, la capa de convolución espera recibir datos en un formato específico, que generalmente es `(altura, anchura, canales)`. Si la forma especificada en `input_shape` no coincide con la forma real de tus datos de entrada, Keras lanzará un error.\n",
    "\n",
    "En tu caso, el error se resolvió cuando ajustaste `input_shape` a `(32, 32, 1)` para reflejar el tamaño correcto de tus imágenes en escala de grises. Es importante que esta dimensión sea precisa para garantizar que el modelo pueda procesar correctamente los datos de entrada.\n",
    "\n",
    "En resumen, el error probablemente se debió a una discrepancia entre la forma especificada en `input_shape` y la forma real de tus datos de entrada, y se resolvió ajustando `input_shape` para que coincida con el tamaño y el número de canales de tus imágenes."
   ]
  },
  {
   "cell_type": "code",
   "execution_count": 15,
   "metadata": {},
   "outputs": [
    {
     "name": "stdout",
     "output_type": "stream",
     "text": [
      "Model: \"sequential_2\"\n",
      "_________________________________________________________________\n",
      " Layer (type)                Output Shape              Param #   \n",
      "=================================================================\n",
      " conv2d_4 (Conv2D)           (None, 30, 30, 64)        640       \n",
      "                                                                 \n",
      " max_pooling2d_4 (MaxPooling  (None, 15, 15, 64)       0         \n",
      " 2D)                                                             \n",
      "                                                                 \n",
      " conv2d_5 (Conv2D)           (None, 13, 13, 128)       73856     \n",
      "                                                                 \n",
      " max_pooling2d_5 (MaxPooling  (None, 6, 6, 128)        0         \n",
      " 2D)                                                             \n",
      "                                                                 \n",
      " flatten_2 (Flatten)         (None, 4608)              0         \n",
      "                                                                 \n",
      " dense_4 (Dense)             (None, 128)               589952    \n",
      "                                                                 \n",
      " dense_5 (Dense)             (None, 6)                 774       \n",
      "                                                                 \n",
      "=================================================================\n",
      "Total params: 665,222\n",
      "Trainable params: 665,222\n",
      "Non-trainable params: 0\n",
      "_________________________________________________________________\n"
     ]
    }
   ],
   "source": [
    "model.summary()"
   ]
  },
  {
   "cell_type": "markdown",
   "metadata": {},
   "source": [
    "### 5)."
   ]
  },
  {
   "cell_type": "code",
   "execution_count": null,
   "metadata": {},
   "outputs": [],
   "source": [
    "TRAIN_PATH = os.getcwd() + '\\\\Prof\\\\data\\\\seg_train'\n",
    "TEST_PATH = os.getcwd() + '\\\\Prof\\\\data\\\\seg_test'"
   ]
  },
  {
   "cell_type": "code",
   "execution_count": 8,
   "metadata": {},
   "outputs": [
    {
     "name": "stdout",
     "output_type": "stream",
     "text": [
      "(14034, 32, 32, 3)\n",
      "(3000, 32, 32, 3)\n"
     ]
    }
   ],
   "source": [
    "def read_data(path, im_size, class_names_label):\n",
    "    X = []\n",
    "    y = []\n",
    "\n",
    "    for folder in os.listdir(path):\n",
    "        label = class_names_label[folder]\n",
    "        folder_path = os.path.join(path,folder)\n",
    "        # Iterar sobre todo lo que haya en path\n",
    "        for file in os.listdir(folder_path):\n",
    "            image_path = os.path.join(folder_path,file)\n",
    "            image = cv2.imread(image_path)\n",
    "            image = cv2.cvtColor(image, cv2.COLOR_BGR2RGB)\n",
    "            image = cv2.resize(image, im_size)\n",
    "            X.append(image)\n",
    "            y.append(label)\n",
    "    \n",
    "    \n",
    "    return np.array(X), np.array(y)\n",
    "    \n",
    "\n",
    "X_train, y_train = read_data(TRAIN_PATH, IMAGE_SIZE, class_names_label)\n",
    "X_test, y_test = read_data(TEST_PATH, IMAGE_SIZE, class_names_label)\n",
    "\n",
    "print(X_train.shape)\n",
    "print(X_test.shape)"
   ]
  },
  {
   "cell_type": "code",
   "execution_count": 17,
   "metadata": {},
   "outputs": [],
   "source": [
    "from sklearn.utils import shuffle\n",
    "\n",
    "X_train, y_train = shuffle(X_train, y_train, random_state=42)"
   ]
  },
  {
   "cell_type": "code",
   "execution_count": 18,
   "metadata": {},
   "outputs": [
    {
     "data": {
      "text/plain": [
       "array([3, 1, 1, ..., 2, 3, 0])"
      ]
     },
     "execution_count": 18,
     "metadata": {},
     "output_type": "execute_result"
    }
   ],
   "source": [
    "y_train"
   ]
  },
  {
   "cell_type": "markdown",
   "metadata": {},
   "source": [
    "## 2. Mostrar imágenes"
   ]
  },
  {
   "cell_type": "code",
   "execution_count": 26,
   "metadata": {},
   "outputs": [
    {
     "name": "stdout",
     "output_type": "stream",
     "text": [
      "forest\n"
     ]
    },
    {
     "data": {
      "image/png": "[encoded data removed]",
      "text/plain": [
       "<Figure size 432x288 with 1 Axes>"
      ]
     },
     "metadata": {
      "needs_background": "light"
     },
     "output_type": "display_data"
    }
   ],
   "source": [
    "index = np.random.randint(X_train.shape[0])\n",
    "print(class_names[y_train[index]])\n",
    "plt.imshow(X_train[index]);"
   ]
  },
  {
   "cell_type": "markdown",
   "metadata": {},
   "source": [
    "## 3. Normalización"
   ]
  },
  {
   "cell_type": "code",
   "execution_count": 27,
   "metadata": {},
   "outputs": [],
   "source": [
    "X_train_scal = X_train/255.0\n",
    "X_test_scal = X_test/255.0"
   ]
  },
  {
   "cell_type": "markdown",
   "metadata": {},
   "source": [
    "## 4. Diseñar la RRNN"
   ]
  }
 ],
 "metadata": {
  "interpreter": {
   "hash": "7c77fdb427e7cbc9bc1367dd530fc2b36aacdbbde1ac83c85833b10dfa8b831c"
  },
  "kernelspec": {
   "display_name": "Python 3.7.4 64-bit",
   "language": "python",
   "name": "python3"
  },
  "language_info": {
   "codemirror_mode": {
    "name": "ipython",
    "version": 3
   },
   "file_extension": ".py",
   "mimetype": "text/x-python",
   "name": "python",
   "nbconvert_exporter": "python",
   "pygments_lexer": "ipython3",
   "version": "3.11.8"
  },
  "orig_nbformat": 4
 },
 "nbformat": 4,
 "nbformat_minor": 2
}
