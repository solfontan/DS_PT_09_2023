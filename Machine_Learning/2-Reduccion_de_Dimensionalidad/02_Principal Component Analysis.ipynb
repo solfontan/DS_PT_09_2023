{
 "cells": [
  {
   "cell_type": "markdown",
   "metadata": {},
   "source": [
    "# **Capitulo 3 – Dimensionality Reduction**"
   ]
  },
  {
   "cell_type": "markdown",
   "metadata": {
    "tags": []
   },
   "source": [
    "# Setup"
   ]
  },
  {
   "cell_type": "markdown",
   "metadata": {},
   "source": [
    "Como hicimos en Notebooks anteriores, vamos a definir los tamaños de fuente por defecto para que las figuras queden más bonitas:"
   ]
  },
  {
   "cell_type": "code",
   "execution_count": 3,
   "metadata": {},
   "outputs": [],
   "source": [
    "import matplotlib.pyplot as plt\n",
    "\n",
    "plt.rc('font', size=14)\n",
    "plt.rc('axes', labelsize=14, titlesize=14)\n",
    "plt.rc('legend', fontsize=14)\n",
    "plt.rc('xtick', labelsize=10)\n",
    "plt.rc('ytick', labelsize=10)"
   ]
  },
  {
   "cell_type": "markdown",
   "metadata": {},
   "source": [
    "Y vamos a crear la carpeta `images/dim_reduction` (si no existe ya), y definir la función `save_fig()` que se utiliza a través de este Notebook para guardar las figuras:"
   ]
  },
  {
   "cell_type": "code",
   "execution_count": 4,
   "metadata": {},
   "outputs": [],
   "source": [
    "from pathlib import Path\n",
    "\n",
    "IMAGES_PATH = Path() / \"images\" / \"dim_reduction\"\n",
    "IMAGES_PATH.mkdir(parents=True, exist_ok=True)\n",
    "\n",
    "def save_fig(fig_id, tight_layout=True, fig_extension=\"png\", resolution=300):\n",
    "    path = IMAGES_PATH / f\"{fig_id}.{fig_extension}\"\n",
    "    if tight_layout:\n",
    "        plt.tight_layout()\n",
    "    plt.savefig(path, format=fig_extension, dpi=resolution)"
   ]
  },
  {
   "cell_type": "code",
   "execution_count": 5,
   "metadata": {},
   "outputs": [],
   "source": [
    "import numpy as np\n",
    "from scipy.spatial.transform import Rotation\n",
    "\n",
    "m = 60\n",
    "X = np.zeros((m, 3))  # inicializar el conjunto de datos 3D\n",
    "np.random.seed(42)\n",
    "angles = (np.random.rand(m) ** 3 + 0.5) * 2 * np.pi  # distribución desigual\n",
    "X[:, 0], X[:, 1] = np.cos(angles), np.sin(angles) * 0.5  # oval\n",
    "X += 0.28 * np.random.randn(m, 3)  # añadir más ruido\n",
    "X = Rotation.from_rotvec([np.pi / 29, -np.pi / 20, np.pi / 4]).apply(X)\n",
    "X += [0.2, 0, 0.2]  # cambiar un poco"
   ]
  },
  {
   "cell_type": "code",
   "execution_count": 8,
   "metadata": {},
   "outputs": [],
   "source": [
    "from sklearn.datasets import make_swiss_roll\n",
    "\n",
    "X_swiss, t = make_swiss_roll(n_samples=1000, noise=0.2, random_state=42)"
   ]
  },
  {
   "cell_type": "markdown",
   "metadata": {},
   "source": [
    "# PCA"
   ]
  },
  {
   "cell_type": "markdown",
   "metadata": {},
   "source": [
    "El análisis de componentes principales (PCA) es, con diferencia, el algoritmo de reducción de la dimensionalidad más popular. En primer lugar, identifica el hiperplano más cercano a los datos y, a continuación, proyecta los datos sobre él."
   ]
  },
  {
   "cell_type": "markdown",
   "metadata": {},
   "source": [
    "# Preservar la varianza"
   ]
  },
  {
   "cell_type": "markdown",
   "metadata": {},
   "source": [
    "Antes de poder proyectar el conjunto de entrenamiento en un hiperplano de dimensión inferior, primero hay que elegir el hiperplano adecuado. Por ejemplo, en la Figura siguiente se representa a la izquierda un conjunto de datos 2D simple, junto con tres ejes diferentes (es decir, hiperplanos 1D). A la derecha se muestra el resultado de la proyección del conjunto de datos sobre cada uno de estos ejes. Como puede verse, la proyección sobre la línea continua conserva la varianza máxima (arriba), mientras que la proyección sobre la línea de puntos conserva muy poca varianza (abajo) y la proyección sobre la línea de puntos conserva una cantidad intermedia de varianza (centro)."
   ]
  },
  {
   "cell_type": "code",
   "execution_count": 12,
   "metadata": {},
   "outputs": [
    {
     "data": {
      "image/png": "[encoded data removed]",
      "text/plain": [
       "<Figure size 576x288 with 4 Axes>"
      ]
     },
     "metadata": {
      "needs_background": "light"
     },
     "output_type": "display_data"
    }
   ],
   "source": [
    "angle = np.pi / 5\n",
    "stretch = 5\n",
    "m = 200\n",
    "\n",
    "np.random.seed(3)\n",
    "X_line = np.random.randn(m, 2) / 10\n",
    "X_line = X_line @ np.array([[stretch, 0], [0, 1]])  # estirar\n",
    "X_line = X_line @ [[np.cos(angle), np.sin(angle)],\n",
    "                   [np.sin(angle), np.cos(angle)]]  # rotar\n",
    "\n",
    "u1 = np.array([np.cos(angle), np.sin(angle)])\n",
    "u2 = np.array([np.cos(angle - 2 * np.pi / 6), np.sin(angle - 2 * np.pi / 6)])\n",
    "u3 = np.array([np.cos(angle - np.pi / 2), np.sin(angle - np.pi / 2)])\n",
    "\n",
    "X_proj1 = X_line @ u1.reshape(-1, 1)\n",
    "X_proj2 = X_line @ u2.reshape(-1, 1)\n",
    "X_proj3 = X_line @ u3.reshape(-1, 1)\n",
    "\n",
    "plt.figure(figsize=(8, 4))\n",
    "plt.subplot2grid((3, 2), (0, 0), rowspan=3)\n",
    "plt.plot([-1.4, 1.4], [-1.4 * u1[1] / u1[0], 1.4 * u1[1] / u1[0]], \"k-\",\n",
    "         linewidth=2)\n",
    "plt.plot([-1.4, 1.4], [-1.4 * u2[1] / u2[0], 1.4 * u2[1] / u2[0]], \"k--\",\n",
    "         linewidth=2)\n",
    "plt.plot([-1.4, 1.4], [-1.4 * u3[1] / u3[0], 1.4 * u3[1] / u3[0]], \"k:\",\n",
    "         linewidth=2)\n",
    "plt.plot(X_line[:, 0], X_line[:, 1], \"ro\", alpha=0.5)\n",
    "plt.arrow(0, 0, u1[0], u1[1], head_width=0.1, linewidth=4, alpha=0.9,\n",
    "          length_includes_head=True, head_length=0.1, fc=\"b\", ec=\"b\", zorder=10)\n",
    "plt.arrow(0, 0, u3[0], u3[1], head_width=0.1, linewidth=1, alpha=0.9,\n",
    "          length_includes_head=True, head_length=0.1, fc=\"b\", ec=\"b\", zorder=10)\n",
    "plt.text(u1[0] + 0.1, u1[1] - 0.05, r\"$\\mathbf{c_1}$\", color=\"blue\")\n",
    "plt.text(u3[0] + 0.1, u3[1], r\"$\\mathbf{c_2}$\", color=\"blue\")\n",
    "plt.xlabel(\"$x_1$\")\n",
    "plt.ylabel(\"$x_2$\", rotation=0)\n",
    "plt.axis([-1.4, 1.4, -1.4, 1.4])\n",
    "plt.grid()\n",
    "\n",
    "plt.subplot2grid((3, 2), (0, 1))\n",
    "plt.plot([-2, 2], [0, 0], \"k-\", linewidth=2)\n",
    "plt.plot(X_proj1[:, 0], np.zeros(m), \"ro\", alpha=0.3)\n",
    "plt.gca().get_yaxis().set_ticks([])\n",
    "plt.gca().get_xaxis().set_ticklabels([])\n",
    "plt.axis([-2, 2, -1, 1])\n",
    "plt.grid()\n",
    "\n",
    "plt.subplot2grid((3, 2), (1, 1))\n",
    "plt.plot([-2, 2], [0, 0], \"k--\", linewidth=2)\n",
    "plt.plot(X_proj2[:, 0], np.zeros(m), \"ro\", alpha=0.3)\n",
    "plt.gca().get_yaxis().set_ticks([])\n",
    "plt.gca().get_xaxis().set_ticklabels([])\n",
    "plt.axis([-2, 2, -1, 1])\n",
    "plt.grid()\n",
    "\n",
    "plt.subplot2grid((3, 2), (2, 1))\n",
    "plt.plot([-2, 2], [0, 0], \"k:\", linewidth=2)\n",
    "plt.plot(X_proj3[:, 0], np.zeros(m), \"ro\", alpha=0.3)\n",
    "plt.gca().get_yaxis().set_ticks([])\n",
    "plt.axis([-2, 2, -1, 1])\n",
    "plt.xlabel(\"$z_1$\")\n",
    "plt.grid()\n",
    "\n",
    "save_fig(\"pca_best_projection_plot\")\n",
    "plt.show()"
   ]
  },
  {
   "cell_type": "markdown",
   "metadata": {},
   "source": [
    "Parece razonable seleccionar el eje que conserve la máxima cantidad de varianza, ya que lo más probable es que pierda menos información que las demás proyecciones. Otra forma de justificar esta elección es que se trata del eje que minimiza la distancia cuadrática media entre el conjunto de datos original y su proyección sobre ese eje. Esta es la idea bastante simple que subyace al PCA."
   ]
  },
  {
   "cell_type": "markdown",
   "metadata": {},
   "source": [
    "## Principal Components"
   ]
  },
  {
   "cell_type": "markdown",
   "metadata": {},
   "source": [
    "PCA identifica el eje que representa la mayor cantidad de varianza en el conjunto de entrenamiento. En la Figura anterior, es la línea continua. También encuentra un segundo eje, ortogonal al primero, que representa la mayor parte de la varianza restante. En este ejemplo 2D no hay elección: es la línea de puntos. Si se tratara de un conjunto de datos de mayor dimensión, PCA también encontraría un tercer eje, ortogonal a los dos ejes anteriores, y un cuarto, un quinto, etc., tantos ejes como dimensiones tenga el conjunto de datos. \n",
    "\n",
    "El eje $i^{nesimo}$ se denomina componente principal (CP) $i^{nesimo}$ de los datos. En la Figura anterior, el primer CP es el eje en el que se encuentra el vector $c_1$, y el segundo CP es el eje en el que se encuentra el vector $c_2$. En la primera Figura los dos primeros PC están en el plano de proyección, y el tercer PC es el eje ortogonal a ese plano. Después de la proyección, en la Figura siguiente a esa, el primer PC corresponde al eje $z_1$, y el segundo PC corresponde al eje $z_2$."
   ]
  },
  {
   "cell_type": "markdown",
   "metadata": {},
   "source": [
    "Para cada componente principal, PCA encuentra un vector unitario centrado en cero que apunta en la dirección del CP. Dado que dos vectores unitarios opuestos se encuentran en el mismo eje, la dirección de los vectores unitarios devueltos por PCA no es estable: si perturba ligeramente el conjunto de entrenamiento y ejecuta PCA de nuevo, los vectores unitarios pueden apuntar en la dirección opuesta a los vectores originales. Sin embargo, por lo general seguirán estando en los mismos ejes. En algunos casos, un par de vectores unitarios puede incluso rotar o intercambiarse (si las varianzas a lo largo de estos dos ejes están muy próximas), pero el plano que definen seguirá siendo el mismo.\n"
   ]
  },
  {
   "cell_type": "markdown",
   "metadata": {},
   "source": [
    "The following Python code uses NumPy’s svd() function to obtain all the principal components of the 3D training set represented in Figure 8-2, then it extracts the two unit vectors that define the first two PCs:\n",
    "\n",
    "El siguiente código Python utiliza la función svd() de NumPy para obtener todos los componentes principales del conjunto de entrenamiento 3D representado en la Figura inicial, luego extrae los dos vectores unitarios que definen los dos primeros PC:"
   ]
  },
  {
   "cell_type": "code",
   "execution_count": 13,
   "metadata": {},
   "outputs": [],
   "source": [
    "import numpy as np\n",
    "\n",
    "# X = [...]  # el pequeño conjunto de datos 3D se creó anteriormente en este cuaderno\n",
    "X_centered = X - X.mean(axis=0)\n",
    "U, s, Vt = np.linalg.svd(X_centered)\n",
    "c1 = Vt[0]\n",
    "c2 = Vt[1]"
   ]
  },
  {
   "cell_type": "markdown",
   "metadata": {},
   "source": [
    "Nota: en principio, el algoritmo de factorización SVD devuelve tres matrices, **U**, **Σ** y **V**, tales que **X** = **UΣV**<sup>⊺</sup>, donde **U** es una matriz _m_ × _m_, **Σ** es una matriz _m_ × _n_, y **V** es una matriz _n_ × _n_. Pero la función `svd()` devuelve **U**, **s** y **V**<sup>⊺</sup> en su lugar. **s** es el vector que contiene todos los valores de la diagonal principal de las _n_ filas superiores de **Σ**. Desde **Σ** está lleno de ceros en otros lugares, usted puede reconstruir fácilmente a partir de **s**, de esta manera:"
   ]
  },
  {
   "cell_type": "markdown",
   "metadata": {},
   "source": [
    "Descomposición en Valores Singulares, es una técnica matemática importante en el campo del machine learning. En su forma más básica, SVD es un método para descomponer una matriz en tres matrices distintas. "
   ]
  },
  {
   "cell_type": "code",
   "execution_count": 14,
   "metadata": {},
   "outputs": [],
   "source": [
    "# muestra cómo construir Σ a partir de s\n",
    "m, n = X.shape\n",
    "Σ = np.zeros_like(X_centered)\n",
    "Σ[:n, :n] = np.diag(s)\n",
    "assert np.allclose(X_centered, U @ Σ @ Vt)"
   ]
  },
  {
   "cell_type": "markdown",
   "metadata": {},
   "source": [
    "PCA asume que el conjunto de datos está centrado alrededor del origen. Como verá, las clases PCA de Scikit-Learn se encargan de centrar los datos por usted. Si implementa PCA usted mismo (como en el ejemplo anterior), o si utiliza otras bibliotecas, no olvide centrar los datos primero."
   ]
  },
  {
   "cell_type": "markdown",
   "metadata": {},
   "source": [
    "## Proyección a dimensiones d"
   ]
  },
  {
   "cell_type": "markdown",
   "metadata": {},
   "source": [
    "Una vez identificados todos los componentes principales, puede reducir la dimensionalidad del conjunto de datos a d dimensiones proyectándolo sobre el hiperplano definido por los primeros d componentes principales. La selección de este hiperplano garantiza que la proyección preservará tanta varianza como sea posible. Por ejemplo, en la Figura inicial, el conjunto de datos 3D se proyecta hacia el plano 2D definido por los dos primeros componentes principales, preservando una gran parte de la varianza del conjunto de datos. Como resultado, la proyección 2D se parece mucho al conjunto de datos 3D original.\n",
    "\n",
    "Para proyectar el conjunto de entrenamiento en el hiperplano y obtener un conjunto de datos reducido Xd-proj de dimensionalidad d, calcule la multiplicación matricial de la matriz del conjunto de entrenamiento X por la matriz Wd , definida como la matriz que contiene las primeras d columnas de V, como se muestra en la Ecuación."
   ]
  },
  {
   "cell_type": "markdown",
   "metadata": {},
   "source": [
    "Proyección del conjunto de entrenamiento a d dimensiones\n",
    "\n",
    "$$X_{d-proj} = XW_d$$\n",
    "\n",
    "El siguiente código Python proyecta el conjunto de entrenamiento en el plano definido por los dos primeros componentes principales:"
   ]
  },
  {
   "cell_type": "code",
   "execution_count": 15,
   "metadata": {},
   "outputs": [],
   "source": [
    "W2 = Vt[:2].T\n",
    "X2D = X_centered @ W2"
   ]
  },
  {
   "cell_type": "markdown",
   "metadata": {},
   "source": [
    "Ya está. Ahora ya sabe cómo reducir la dimensionalidad de cualquier conjunto de datos proyectándolo a cualquier número de dimensiones, preservando la mayor varianza posible."
   ]
  },
  {
   "cell_type": "markdown",
   "metadata": {},
   "source": [
    "## Using Scikit-Learn"
   ]
  },
  {
   "cell_type": "markdown",
   "metadata": {},
   "source": [
    "La clase PCA de Scikit-Learn utiliza SVD para implementar PCA, al igual que hicimos anteriormente en este Notebook. El siguiente código aplica PCA para reducir la dimensionalidad del conjunto de datos a dos dimensiones (tenga en cuenta que se encarga automáticamente de centrar los datos):"
   ]
  },
  {
   "cell_type": "code",
   "execution_count": 16,
   "metadata": {},
   "outputs": [],
   "source": [
    "from sklearn.decomposition import PCA\n",
    "\n",
    "pca = PCA(n_components=2)\n",
    "X2D = pca.fit_transform(X)"
   ]
  },
  {
   "cell_type": "markdown",
   "metadata": {},
   "source": [
    "Después de ajustar el transformador PCA al conjunto de datos, su atributo components_ contiene la transposición de $W_d$: contiene una fila para cada uno de los primeros $d$ componentes principales."
   ]
  },
  {
   "cell_type": "code",
   "execution_count": 17,
   "metadata": {},
   "outputs": [
    {
     "data": {
      "text/plain": [
       "array([[ 0.67857588,  0.70073508,  0.22023881],\n",
       "       [ 0.72817329, -0.6811147 , -0.07646185]])"
      ]
     },
     "execution_count": 17,
     "metadata": {},
     "output_type": "execute_result"
    }
   ],
   "source": [
    "pca.components_"
   ]
  },
  {
   "cell_type": "markdown",
   "metadata": {},
   "source": [
    "## Explained Variance Ratio"
   ]
  },
  {
   "cell_type": "markdown",
   "metadata": {},
   "source": [
    "Otra información útil es el ratio de varianza explicada de cada componente principal, disponible a través de la variable explained_variance_ratio_. El ratio indica la proporción de la varianza del conjunto de datos que se encuentra en cada componente principal. Por ejemplo, veamos los ratios de varianza explicada de los dos primeros componentes del conjunto de datos 3D representado en la Figura inicial:\n"
   ]
  },
  {
   "cell_type": "code",
   "execution_count": 18,
   "metadata": {},
   "outputs": [
    {
     "data": {
      "text/plain": [
       "array([0.7578477 , 0.15186921])"
      ]
     },
     "execution_count": 18,
     "metadata": {},
     "output_type": "execute_result"
    }
   ],
   "source": [
    "pca.explained_variance_ratio_"
   ]
  },
  {
   "cell_type": "markdown",
   "metadata": {},
   "source": [
    "La primera dimensión explica alrededor del 76% de la varianza, mientras que la segunda explica alrededor del 15%."
   ]
  },
  {
   "cell_type": "markdown",
   "metadata": {},
   "source": [
    "Al proyectar a 2D, perdimos alrededor del 9% de la varianza:"
   ]
  },
  {
   "cell_type": "code",
   "execution_count": 19,
   "metadata": {},
   "outputs": [
    {
     "data": {
      "text/plain": [
       "0.09028309326742046"
      ]
     },
     "execution_count": 19,
     "metadata": {},
     "output_type": "execute_result"
    }
   ],
   "source": [
    "1 - pca.explained_variance_ratio_.sum()"
   ]
  },
  {
   "cell_type": "markdown",
   "metadata": {},
   "source": [
    "## Elegir el número correcto de dimensiones"
   ]
  },
  {
   "cell_type": "markdown",
   "metadata": {},
   "source": [
    "En lugar de elegir arbitrariamente el número de dimensiones a las que reducir, es más sencillo elegir el número de dimensiones que suman una parte suficientemente grande de la varianza, digamos el 95% (una excepción a esta regla, por supuesto, es si está reduciendo la dimensionalidad para la visualización de datos, en cuyo caso querrá reducir la dimensionalidad a 2 o 3).\n",
    "\n",
    "El siguiente código carga y divide el conjunto de datos MNIST y realiza el PCA sin reducir la dimensionalidad, luego calcula el número mínimo de dimensiones necesarias para preservar el 95% de la varianza del conjunto de entrenamiento:"
   ]
  },
  {
   "cell_type": "code",
   "execution_count": 20,
   "metadata": {},
   "outputs": [],
   "source": [
    "from sklearn.datasets import fetch_openml\n",
    "\n",
    "mnist = fetch_openml('mnist_784', as_frame=False, parser=\"auto\")\n",
    "X_train, y_train = mnist.data[:60_000], mnist.target[:60_000]\n",
    "X_test, y_test = mnist.data[60_000:], mnist.target[60_000:]\n",
    "\n",
    "pca = PCA()\n",
    "pca.fit(X_train)\n",
    "cumsum = np.cumsum(pca.explained_variance_ratio_)\n",
    "d = np.argmax(cumsum >= 0.95) + 1 "
   ]
  },
  {
   "cell_type": "markdown",
   "metadata": {},
   "source": [
    "Nota: Se añadió `parser=\"auto\"` al llamar a `fetch_openml()` para evitar una advertencia sobre el hecho de que el valor por defecto para ese parámetro cambiará en el futuro (es irrelevante en este caso). Puedes consultar la [documentación](https://scikit-learn.org/stable/modules/generated/sklearn.datasets.fetch_openml.html) para más detalles."
   ]
  },
  {
   "cell_type": "code",
   "execution_count": 21,
   "metadata": {},
   "outputs": [
    {
     "data": {
      "text/plain": [
       "154"
      ]
     },
     "execution_count": 21,
     "metadata": {},
     "output_type": "execute_result"
    }
   ],
   "source": [
    "d"
   ]
  },
  {
   "cell_type": "markdown",
   "metadata": {},
   "source": [
    "A continuación, podría establecer n_componentes=d y ejecutar PCA de nuevo, pero hay una opción mejor. En lugar de especificar el número de componentes principales que desea conservar, puede establecer n_componentes como un valor flotante entre 0,0 y 1,0, indicando la proporción de varianza que desea conservar:"
   ]
  },
  {
   "cell_type": "code",
   "execution_count": 22,
   "metadata": {},
   "outputs": [],
   "source": [
    "pca = PCA(n_components=0.95)\n",
    "X_reduced = pca.fit_transform(X_train)"
   ]
  },
  {
   "cell_type": "markdown",
   "metadata": {},
   "source": [
    "El número real de componentes se determina durante el entrenamiento y se almacena en el atributo n_components_:"
   ]
  },
  {
   "cell_type": "code",
   "execution_count": 23,
   "metadata": {},
   "outputs": [
    {
     "data": {
      "text/plain": [
       "154"
      ]
     },
     "execution_count": 23,
     "metadata": {},
     "output_type": "execute_result"
    }
   ],
   "source": [
    "pca.n_components_"
   ]
  },
  {
   "cell_type": "markdown",
   "metadata": {},
   "source": [
    "Otra opción es trazar la varianza explicada en función del número de dimensiones. Normalmente habrá un codo en la curva, donde la varianza explicada deja de crecer rápidamente. En este caso, puede ver que reduciendo la dimensionalidad a unas 100 dimensiones no se perdería demasiada varianza explicada."
   ]
  },
  {
   "cell_type": "code",
   "execution_count": 24,
   "metadata": {},
   "outputs": [
    {
     "data": {
      "text/plain": [
       "0.9501960192613035"
      ]
     },
     "execution_count": 24,
     "metadata": {},
     "output_type": "execute_result"
    }
   ],
   "source": [
    "pca.explained_variance_ratio_.sum()"
   ]
  },
  {
   "cell_type": "code",
   "execution_count": 25,
   "metadata": {},
   "outputs": [
    {
     "data": {
      "image/png": "[encoded data removed]",
      "text/plain": [
       "<Figure size 432x288 with 1 Axes>"
      ]
     },
     "metadata": {
      "needs_background": "light"
     },
     "output_type": "display_data"
    }
   ],
   "source": [
    "plt.figure(figsize=(6, 4))\n",
    "plt.plot(cumsum, linewidth=3)\n",
    "plt.axis([0, 400, 0, 1])\n",
    "plt.xlabel(\"Dimensions\")\n",
    "plt.ylabel(\"Explained Variance\")\n",
    "plt.plot([d, d], [0, 0.95], \"k:\")\n",
    "plt.plot([0, d], [0.95, 0.95], \"k:\")\n",
    "plt.plot(d, 0.95, \"ko\")\n",
    "plt.annotate(\"Elbow\", xy=(65, 0.85), xytext=(70, 0.7),\n",
    "             arrowprops=dict(arrowstyle=\"->\"))\n",
    "plt.grid(True)\n",
    "save_fig(\"explained_variance_plot\")\n",
    "plt.show()"
   ]
  },
  {
   "cell_type": "markdown",
   "metadata": {},
   "source": [
    "Por último, si está utilizando la reducción de la dimensionalidad como un paso de preprocesamiento para una tarea de aprendizaje supervisado (por ejemplo, clasificación), entonces puede ajustar el número de dimensiones como lo haría con cualquier otro hiperparámetro. Por ejemplo, el siguiente código crea un pipeline de dos pasos, primero reduciendo la dimensionalidad usando PCA, luego clasificando usando un Random Forest. A continuación, utiliza RandomizedSearchCV para encontrar una buena combinación de hiperparámetros tanto para PCA como para el clasificador de Random Forest. Este ejemplo realiza una búsqueda rápida, ajustando sólo 2 hiperparámetros, entrenando sólo 1.000 instancias y ejecutando sólo 10 iteraciones, pero si tienes tiempo, puedes realizar una búsqueda más exhaustiva:"
   ]
  },
  {
   "cell_type": "code",
   "execution_count": 26,
   "metadata": {},
   "outputs": [
    {
     "data": {
      "text/plain": [
       "RandomizedSearchCV(cv=3,\n",
       "                   estimator=Pipeline(steps=[('pca', PCA(random_state=42)),\n",
       "                                             ('randomforestclassifier',\n",
       "                                              RandomForestClassifier(random_state=42))]),\n",
       "                   param_distributions={'pca__n_components': array([10, 11, 12, 13, 14, 15, 16, 17, 18, 19, 20, 21, 22, 23, 24, 25, 26,\n",
       "       27, 28, 29, 30, 31, 32, 33, 34, 35, 36, 37, 38, 39, 40, 41, 42, 43,\n",
       "       44, 45, 46, 47, 48, 49, 50, 51, 52, 53, 54, 55, 56, 57, 58, 59, 60,\n",
       "       6...\n",
       "       414, 415, 416, 417, 418, 419, 420, 421, 422, 423, 424, 425, 426,\n",
       "       427, 428, 429, 430, 431, 432, 433, 434, 435, 436, 437, 438, 439,\n",
       "       440, 441, 442, 443, 444, 445, 446, 447, 448, 449, 450, 451, 452,\n",
       "       453, 454, 455, 456, 457, 458, 459, 460, 461, 462, 463, 464, 465,\n",
       "       466, 467, 468, 469, 470, 471, 472, 473, 474, 475, 476, 477, 478,\n",
       "       479, 480, 481, 482, 483, 484, 485, 486, 487, 488, 489, 490, 491,\n",
       "       492, 493, 494, 495, 496, 497, 498, 499])},\n",
       "                   random_state=42)"
      ]
     },
     "execution_count": 26,
     "metadata": {},
     "output_type": "execute_result"
    }
   ],
   "source": [
    "from sklearn.ensemble import RandomForestClassifier\n",
    "from sklearn.model_selection import RandomizedSearchCV\n",
    "from sklearn.pipeline import make_pipeline\n",
    "\n",
    "clf = make_pipeline(PCA(random_state=42),\n",
    "                    RandomForestClassifier(random_state=42))\n",
    "param_distrib = {\n",
    "    \"pca__n_components\": np.arange(10, 80),\n",
    "    \"randomforestclassifier__n_estimators\": np.arange(50, 500)\n",
    "}\n",
    "rnd_search = RandomizedSearchCV(clf, param_distrib, n_iter=10, cv=3,\n",
    "                                random_state=42)\n",
    "rnd_search.fit(X_train[:1000], y_train[:1000])"
   ]
  },
  {
   "cell_type": "code",
   "execution_count": 27,
   "metadata": {},
   "outputs": [
    {
     "name": "stdout",
     "output_type": "stream",
     "text": [
      "{'randomforestclassifier__n_estimators': 465, 'pca__n_components': 23}\n"
     ]
    }
   ],
   "source": [
    "print(rnd_search.best_params_)"
   ]
  },
  {
   "cell_type": "code",
   "execution_count": 28,
   "metadata": {},
   "outputs": [
    {
     "data": {
      "text/plain": [
       "GridSearchCV(cv=3,\n",
       "             estimator=Pipeline(steps=[('pca', PCA(random_state=42)),\n",
       "                                       ('sgdclassifier', SGDClassifier())]),\n",
       "             param_grid={'pca__n_components': array([10, 11, 12, 13, 14, 15, 16, 17, 18, 19, 20, 21, 22, 23, 24, 25, 26,\n",
       "       27, 28, 29, 30, 31, 32, 33, 34, 35, 36, 37, 38, 39, 40, 41, 42, 43,\n",
       "       44, 45, 46, 47, 48, 49, 50, 51, 52, 53, 54, 55, 56, 57, 58, 59, 60,\n",
       "       61, 62, 63, 64, 65, 66, 67, 68, 69, 70, 71, 72, 73, 74, 75, 76, 77,\n",
       "       78, 79])})"
      ]
     },
     "execution_count": 28,
     "metadata": {},
     "output_type": "execute_result"
    }
   ],
   "source": [
    "from sklearn.linear_model import SGDClassifier\n",
    "from sklearn.model_selection import GridSearchCV\n",
    "\n",
    "clf = make_pipeline(PCA(random_state=42), SGDClassifier())\n",
    "param_grid = {\"pca__n_components\": np.arange(10, 80)}\n",
    "grid_search = GridSearchCV(clf, param_grid, cv=3)\n",
    "grid_search.fit(X_train[:1000], y_train[:1000])"
   ]
  },
  {
   "cell_type": "code",
   "execution_count": 29,
   "metadata": {},
   "outputs": [
    {
     "data": {
      "text/plain": [
       "{'pca__n_components': 67}"
      ]
     },
     "execution_count": 29,
     "metadata": {},
     "output_type": "execute_result"
    }
   ],
   "source": [
    "grid_search.best_params_"
   ]
  },
  {
   "cell_type": "markdown",
   "metadata": {},
   "source": [
    "Es interesante observar lo bajo que es el número óptimo de componentes: ¡redujimos un conjunto de datos de 784 dimensiones a sólo 23 dimensiones! Esto se debe a que hemos utilizado un Random Forest, que es un modelo bastante potente. Si en su lugar utilizáramos un modelo lineal, como un SGDClassifier, la búsqueda nos llevaría a la conclusión de que necesitamos preservar más dimensiones (unas 70)."
   ]
  },
  {
   "cell_type": "markdown",
   "metadata": {},
   "source": [
    "## PCA for Compression"
   ]
  },
  {
   "cell_type": "markdown",
   "metadata": {},
   "source": [
    "Tras la reducción de la dimensionalidad, el conjunto de entrenamiento ocupa mucho menos espacio. Por ejemplo, tras aplicar el PCA al conjunto de datos MNIST y conservar el 95% de su varianza, nos quedamos con 154 características, en lugar de las 784 originales. Por tanto, el conjunto de datos tiene ahora menos del 20% de su tamaño original, ¡y sólo hemos perdido el 5% de su varianza! Se trata de una relación de compresión razonable, y es fácil ver cómo una reducción de tamaño de este tipo aceleraría enormemente un algoritmo de clasificación.\n",
    "\n",
    "También es posible descomprimir el conjunto de datos reducido a 784 dimensiones aplicando la transformación inversa de la proyección PCA. Esto no le devolverá los datos originales, ya que la proyección perdió un poco de información (dentro del 5% de varianza que se eliminó), pero probablemente se acercará a los datos originales. La distancia media al cuadrado entre los datos originales y los datos reconstruidos (comprimidos y descomprimidos) se denomina error de reconstrucción.\n",
    "\n",
    "El método inverse_transform() nos permite descomprimir el conjunto de datos MNIST reducido a 784 dimensiones:"
   ]
  },
  {
   "cell_type": "code",
   "execution_count": 30,
   "metadata": {},
   "outputs": [],
   "source": [
    "pca = PCA(0.95)\n",
    "X_reduced = pca.fit_transform(X_train, y_train)"
   ]
  },
  {
   "cell_type": "code",
   "execution_count": 31,
   "metadata": {},
   "outputs": [],
   "source": [
    "X_recovered = pca.inverse_transform(X_reduced)"
   ]
  },
  {
   "cell_type": "markdown",
   "metadata": {},
   "source": [
    "La siguiente Figura muestra algunos dígitos del conjunto de entrenamiento original (a la izquierda), y los dígitos correspondientes tras la compresión y descompresión. Puede verse que hay una ligera pérdida de calidad de imagen, pero los dígitos siguen intactos en su mayor parte."
   ]
  },
  {
   "cell_type": "code",
   "execution_count": 32,
   "metadata": {},
   "outputs": [
    {
     "data": {
      "image/png": "[encoded data removed]",
      "text/plain": [
       "<Figure size 504x288 with 2 Axes>"
      ]
     },
     "metadata": {
      "needs_background": "light"
     },
     "output_type": "display_data"
    }
   ],
   "source": [
    "plt.figure(figsize=(7, 4))\n",
    "for idx, X in enumerate((X_train[::2100], X_recovered[::2100])):\n",
    "    plt.subplot(1, 2, idx + 1)\n",
    "    plt.title([\"Original\", \"Compressed\"][idx])\n",
    "    for row in range(5):\n",
    "        for col in range(5):\n",
    "            plt.imshow(X[row * 5 + col].reshape(28, 28), cmap=\"binary\",\n",
    "                       vmin=0, vmax=255, extent=(row, row + 1, col, col + 1))\n",
    "            plt.axis([0, 5, 0, 5])\n",
    "            plt.axis(\"off\")\n",
    "\n",
    "save_fig(\"mnist_compression_plot\")"
   ]
  },
  {
   "cell_type": "markdown",
   "metadata": {},
   "source": [
    "## Randomized PCA"
   ]
  },
  {
   "cell_type": "markdown",
   "metadata": {},
   "source": [
    "Si establece el hiperparámetro svd_solver en \"aleatorio\", Scikit-Learn utiliza un algoritmo estocástico llamado PCA aleatorio que encuentra rápidamente una aproximación de los primeros d componentes principales. Su complejidad computacional es $O(m \\times d^2 ) + O(d^3)$, en lugar de $O(m \\times n^2 ) + O(n^3)$ para el enfoque SVD completo, por lo que es mucho más rápido que el SVD completo cuando d es mucho menor que n:"
   ]
  },
  {
   "cell_type": "code",
   "execution_count": 33,
   "metadata": {},
   "outputs": [],
   "source": [
    "rnd_pca = PCA(n_components=154, svd_solver=\"randomized\", random_state=42)\n",
    "X_reduced = rnd_pca.fit_transform(X_train)"
   ]
  },
  {
   "cell_type": "markdown",
   "metadata": {},
   "source": [
    "Por defecto, svd_solver se establece en \"auto\": Scikit-Learn utiliza automáticamente el algoritmo PCA aleatorio si max(m, n) > 500 y n_componentes es un número entero menor que el 80% de min(m, n), o de lo contrario utiliza el enfoque SVD completo. Así que el código anterior utilizaría el algoritmo PCA aleatorio incluso si se elimina el argumento svd_solver=\"randomized\", ya que 154 < 0.8 × 784. Si desea forzar a Scikit-Learn a utilizar SVD completo para obtener un resultado ligeramente más preciso, puede establecer el hiperparámetro svd_solver como \"full\"."
   ]
  },
  {
   "cell_type": "markdown",
   "metadata": {},
   "source": [
    "## Incremental PCA"
   ]
  },
  {
   "cell_type": "markdown",
   "metadata": {},
   "source": [
    "Uno de los problemas de las implementaciones anteriores de PCA es que requieren que todo el conjunto de entrenamiento quepa en la memoria para que el algoritmo pueda ejecutarse. Afortunadamente, se han desarrollado algoritmos de PCA incremental (IPCA) que permiten dividir el conjunto de entrenamiento en minilotes y alimentarlos de uno en uno. Esto es útil para grandes conjuntos de entrenamiento y para aplicar el PCA en línea (es decir, sobre la marcha, a medida que llegan nuevas instancias).\n",
    "\n",
    "El siguiente código divide el conjunto de entrenamiento MNIST en 100 mini-lotes (utilizando la función array_split() de NumPy) y los alimenta a la clase IncrementalPCA de Scikit-Learn para reducir la dimensionalidad del conjunto de datos MNIST a 154 dimensiones, igual que antes. Tenga en cuenta que debe llamar al método partial_fit() con cada minilote, en lugar de al método fit() con todo el conjunto de entrenamiento:"
   ]
  },
  {
   "cell_type": "code",
   "execution_count": 34,
   "metadata": {},
   "outputs": [],
   "source": [
    "from sklearn.decomposition import IncrementalPCA\n",
    "\n",
    "n_batches = 100\n",
    "inc_pca = IncrementalPCA(n_components=154)\n",
    "for X_batch in np.array_split(X_train, n_batches):\n",
    "    inc_pca.partial_fit(X_batch)\n",
    "\n",
    "X_reduced = inc_pca.transform(X_train)"
   ]
  },
  {
   "cell_type": "markdown",
   "metadata": {},
   "source": [
    "**Usando la clase `memmap` de NumPy - un mapa de memoria a un array almacenado en un fichero binario en disco.**"
   ]
  },
  {
   "cell_type": "markdown",
   "metadata": {},
   "source": [
    "Creemos la instancia `memmap`, copiemos el conjunto de entrenamiento MNIST en ella, y llamemos a `flush()` que asegura que cualquier dato aún en la caché se guarda en el disco. Esto lo haría típicamente un primer programa:"
   ]
  },
  {
   "cell_type": "code",
   "execution_count": 35,
   "metadata": {},
   "outputs": [],
   "source": [
    "filename = \"my_mnist.mmap\"\n",
    "X_mmap = np.memmap(filename, dtype='float32', mode='write', shape=X_train.shape)\n",
    "X_mmap[:] = X_train  # podría ser un bucle en su lugar, guardando los datos trozo a trozo\n",
    "X_mmap.flush()"
   ]
  },
  {
   "cell_type": "markdown",
   "metadata": {},
   "source": [
    "A continuación, otro programa cargaría los datos y los utilizaría para el entrenamiento:"
   ]
  },
  {
   "cell_type": "code",
   "execution_count": 36,
   "metadata": {},
   "outputs": [
    {
     "data": {
      "text/plain": [
       "IncrementalPCA(batch_size=600, n_components=154)"
      ]
     },
     "execution_count": 36,
     "metadata": {},
     "output_type": "execute_result"
    }
   ],
   "source": [
    "X_mmap = np.memmap(filename, dtype=\"float32\", mode=\"readonly\").reshape(-1, 784)\n",
    "batch_size = X_mmap.shape[0] // n_batches\n",
    "inc_pca = IncrementalPCA(n_components=154, batch_size=batch_size)\n",
    "inc_pca.fit(X_mmap)"
   ]
  },
  {
   "cell_type": "markdown",
   "metadata": {},
   "source": [
    "Sólo se guardan en disco los datos binarios sin procesar, por lo que es necesario especificar el tipo de datos y la forma de la matriz al cargarla. Si omite la forma, np.memmap() devuelve una matriz 1D"
   ]
  },
  {
   "cell_type": "markdown",
   "metadata": {},
   "source": [
    "Para conjuntos de datos de dimensiones muy altas, PCA puede ser demasiado lento. Como ha visto antes, incluso si utiliza PCA aleatorio, su complejidad computacional sigue siendo $O(m \\times d^2) + O(d^3)$, por lo que el número objetivo de dimensiones d no debe ser demasiado grande. Si se trata de un conjunto de datos con decenas de miles de características o más (por ejemplo, imágenes), entonces el entrenamiento puede ser demasiado lento: en este caso, se debe considerar el uso de la proyección aleatoria en su lugar."
   ]
  },
  {
   "cell_type": "markdown",
   "metadata": {},
   "source": [
    "# Random Projection"
   ]
  },
  {
   "cell_type": "markdown",
   "metadata": {},
   "source": [
    "Como su nombre indica, el algoritmo de proyección aleatoria proyecta los datos a un espacio de dimensiones inferiores utilizando una proyección lineal aleatoria. Puede parecer una locura, pero resulta que es muy probable que esa proyección aleatoria preserve bastante bien las distancias, como demostraron matemáticamente William B. Johnson y Joram Lindenstrauss en un famoso lema. \"Dos casos similares seguirán siendo similares después de la proyección, y dos casos muy diferentes seguirán siendo muy diferentes.\"\n",
    "\n",
    "Evidentemente, cuantas más dimensiones se reduzcan, más información se perderá y más se distorsionarán las distancias. Entonces, ¿cómo se puede elegir el número óptimo de dimensiones? Pues bien, Johnson y Lindenstrauss idearon una ecuación que determina el número mínimo de dimensiones que hay que conservar para garantizar -con alta probabilidad- que las distancias no cambien más allá de una tolerancia dada. Por ejemplo, si tenemos un conjunto de datos que contiene m = 5.000 instancias con n = 20.000 características cada una, y no queremos que la distancia al cuadrado entre dos instancias cambie más de $ε = 10%$, entonces debemos proyectar los datos hasta $d$ dimensiones, con $d ≥ 4 log(m) / (½ ε² - ⅓ ε³)$, lo que equivale a 7.300 dimensiones. ¡Es una reducción de dimensionalidad bastante significativa! Observe que la ecuación no utiliza n, sólo se basa en m y ε. Esta ecuación se implementa mediante la función johnson_lindenstrauss_min_dim():"
   ]
  },
  {
   "cell_type": "markdown",
   "metadata": {},
   "source": [
    "**Atención**: esta sección utilizará cerca de 2,5 GB de RAM. Si su ordenador se queda sin memoria, reduzca _m_ y _n_:"
   ]
  },
  {
   "cell_type": "code",
   "execution_count": 37,
   "metadata": {},
   "outputs": [
    {
     "data": {
      "text/plain": [
       "7300"
      ]
     },
     "execution_count": 37,
     "metadata": {},
     "output_type": "execute_result"
    }
   ],
   "source": [
    "from sklearn.random_projection import johnson_lindenstrauss_min_dim\n",
    "\n",
    "m, ε = 5_000, 0.1\n",
    "d = johnson_lindenstrauss_min_dim(m, eps=ε)\n",
    "d"
   ]
  },
  {
   "cell_type": "markdown",
   "metadata": {},
   "source": [
    "Ahora podemos generar una matriz aleatoria P de forma [d, n], en la que cada elemento se muestrea aleatoriamente a partir de una distribución gaussiana con media 0 y varianza 1 / d, y utilizarla para proyectar un conjunto de datos de n dimensiones a d:"
   ]
  },
  {
   "cell_type": "code",
   "execution_count": 39,
   "metadata": {},
   "outputs": [],
   "source": [
    "n = 20_000\n",
    "np.random.seed(42)\n",
    "P = np.random.randn(d, n) / np.sqrt(d)  # std dev = raíz cuadrada de la varianza\n",
    "\n",
    "X = np.random.randn(m, n)  # generar un conjunto de datos falso\n",
    "X_reduced = X @ P.T"
   ]
  },
  {
   "cell_type": "markdown",
   "metadata": {},
   "source": [
    "Eso es todo. Es sencillo y eficaz, y no requiere entrenamiento: lo único que necesita el algoritmo para crear la matriz aleatoria es la forma del conjunto de datos. Los datos en sí no se utilizan para nada.\n",
    "\n",
    "Scikit-Learn ofrece una clase GaussianRandomProjection para hacer exactamente lo que acabamos de hacer: cuando se llama a su método fit(), utiliza johnson_lindenstrauss_min_dim() para determinar la dimensionalidad de salida, luego genera una matriz aleatoria, que almacena en el atributo components_. Luego, cuando se llama a transform(), utiliza esta matriz para realizar la proyección. Al crear el transformador, puede establecer eps si desea ajustar ε (por defecto es 0,1), y n_componentes si desea forzar una dimensionalidad de destino específica d. El siguiente ejemplo de código da el mismo resultado que el código anterior (también puede verificar que gaussian_rnd_proj.components_ es igual a P):"
   ]
  },
  {
   "cell_type": "code",
   "execution_count": 40,
   "metadata": {},
   "outputs": [],
   "source": [
    "from sklearn.random_projection import GaussianRandomProjection\n",
    "\n",
    "gaussian_rnd_proj = GaussianRandomProjection(eps=ε, random_state=42)\n",
    "X_reduced = gaussian_rnd_proj.fit_transform(X)  # same result as above"
   ]
  },
  {
   "cell_type": "markdown",
   "metadata": {},
   "source": [
    "Scikit-Learn también proporciona un segundo transformador de proyección aleatoria, conocido como SparseRandomProjection. Determina la dimensionalidad objetivo del mismo modo, genera una matriz aleatoria de la misma forma y realiza la proyección de forma idéntica. La principal diferencia es que la matriz aleatoria es dispersa. Esto significa que utiliza mucha menos memoria: ¡unos 25 MB en lugar de los casi 1,2 GB del ejemplo anterior! Y también es mucho más rápido, tanto para generar la matriz aleatoria como para reducir la dimensionalidad: aproximadamente un 50% más rápido en este caso. Además, si la entrada es dispersa, la transformación la mantiene dispersa (a menos que se establezca dense_output=True). Por último, disfruta de la misma propiedad de preservación de la distancia que el enfoque anterior, y la calidad de la reducción de la dimensionalidad es comparable. En resumen, suele ser preferible utilizar este transformador en lugar del primero, especialmente para conjuntos de datos grandes o dispersos.\n",
    "\n",
    "La proporción r de elementos distintos de cero en la matriz aleatoria dispersa se denomina densidad. Por defecto, es igual a $\\frac{1}{\\sqrt{n}}$. Con 20.000 características, esto significa que sólo 1 de cada ~141 celdas de la matriz aleatoria es distinta de cero: ¡eso es bastante disperso! Puede establecer la densidad hiperparámetro a otro valor si lo prefiere. Cada celda de la matriz aleatoria dispersa tiene una probabilidad r de ser distinta de cero, y cada valor distinto de cero es -v o +v (ambos igualmente probables), donde $v = \\frac{1}{\\sqrt{dr}}$.\n",
    "\n",
    "Si desea realizar la transformación inversa, primero debe calcular la pseudoinversa de la matriz de componentes mediante la función pinv() de SciPy y, a continuación, multiplicar los datos reducidos por la transposición de la pseudoinversa:"
   ]
  },
  {
   "cell_type": "markdown",
   "metadata": {},
   "source": [
    "**Atención**, la siguiente célula puede tardar varios minutos en ejecutarse:"
   ]
  },
  {
   "cell_type": "code",
   "execution_count": 41,
   "metadata": {},
   "outputs": [],
   "source": [
    "components_pinv = np.linalg.pinv(gaussian_rnd_proj.components_)\n",
    "X_recovered = X_reduced @ components_pinv.T"
   ]
  },
  {
   "cell_type": "markdown",
   "metadata": {},
   "source": [
    "El cálculo del pseudoinverso puede llevar mucho tiempo si la matriz de componentes es grande, ya que la complejidad computacional de pinv() es $O(dn²)$ si d < n, o $O(nd²)$ en caso contrario."
   ]
  },
  {
   "cell_type": "code",
   "execution_count": 42,
   "metadata": {},
   "outputs": [
    {
     "name": "stdout",
     "output_type": "stream",
     "text": [
      "GaussianRandomProjection fit\n",
      "4.05 s ± 327 ms per loop (mean ± std. dev. of 7 runs, 1 loop each)\n",
      "SparseRandomProjection fit\n",
      "3.85 s ± 647 ms per loop (mean ± std. dev. of 7 runs, 1 loop each)\n",
      "GaussianRandomProjection transform\n",
      "11.1 s ± 507 ms per loop (mean ± std. dev. of 7 runs, 1 loop each)\n",
      "SparseRandomProjection transform\n",
      "5.37 s ± 640 ms per loop (mean ± std. dev. of 7 runs, 1 loop each)\n"
     ]
    }
   ],
   "source": [
    "# Comparación de rendimiento entre RP gaussiano y RP disperso\n",
    "\n",
    "from sklearn.random_projection import SparseRandomProjection\n",
    "\n",
    "print(\"GaussianRandomProjection fit\")\n",
    "%timeit GaussianRandomProjection(random_state=42).fit(X)\n",
    "print(\"SparseRandomProjection fit\")\n",
    "%timeit SparseRandomProjection(random_state=42).fit(X)\n",
    "\n",
    "gaussian_rnd_proj = GaussianRandomProjection(random_state=42).fit(X)\n",
    "sparse_rnd_proj = SparseRandomProjection(random_state=42).fit(X)\n",
    "print(\"GaussianRandomProjection transform\")\n",
    "%timeit gaussian_rnd_proj.transform(X)\n",
    "print(\"SparseRandomProjection transform\")\n",
    "%timeit sparse_rnd_proj.transform(X)"
   ]
  },
  {
   "cell_type": "markdown",
   "metadata": {},
   "source": [
    "En resumen, la proyección aleatoria es un algoritmo de reducción de la dimensionalidad sencillo, rápido, eficiente en el uso de la memoria y sorprendentemente potente que debe tener en cuenta, especialmente cuando trabaje con conjuntos de datos de gran dimensión."
   ]
  },
  {
   "cell_type": "code",
   "execution_count": null,
   "metadata": {},
   "outputs": [],
   "source": []
  }
 ],
 "metadata": {
  "kernelspec": {
   "display_name": "Python 3 (ipykernel)",
   "language": "python",
   "name": "python3"
  },
  "language_info": {
   "codemirror_mode": {
    "name": "ipython",
    "version": 3
   },
   "file_extension": ".py",
   "mimetype": "text/x-python",
   "name": "python",
   "nbconvert_exporter": "python",
   "pygments_lexer": "ipython3",
   "version": "3.10.13"
  }
 },
 "nbformat": 4,
 "nbformat_minor": 4
}
