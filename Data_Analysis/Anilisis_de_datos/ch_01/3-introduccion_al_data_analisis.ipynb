{
 "cells": [
  {
   "cell_type": "markdown",
   "metadata": {},
   "source": [
    "# Introducción al análisis de datos\n",
    "\n",
    "## Configuración"
   ]
  },
  {
   "cell_type": "code",
   "execution_count": null,
   "metadata": {},
   "outputs": [],
   "source": [
    "from visual_aids import stats_viz"
   ]
  },
  {
   "cell_type": "markdown",
   "metadata": {},
   "source": [
    "## Fundamentos del análisis de datos\n",
    "Al realizar un análisis de datos, nos moveremos entre cuatro procesos principales:\n",
    "\n",
    "- **Recogida de datos**: Todo análisis comienza con la recopilación de datos. Podemos recopilar datos de diversas fuentes, como bases de datos, API, archivos planos e Internet.\n",
    "- **Gestión de datos**: Una vez que tenemos los datos, tenemos que prepararlos para el análisis. Esto puede implicar remodelarlos, cambiar los tipos de datos, tratar los valores que faltan y/o agregarlos.\n",
    "- **Análisis exploratorio de datos (AED)**: Podemos utilizar visualizaciones para explorar nuestros datos y resumirlos. Durante este tiempo, también comenzaremos a explorar los datos observando su estructura, formato y estadísticas de resumen.\n",
    "- **Extracción de conclusiones**: Después de haber explorado a fondo nuestros datos, podemos intentar sacar conclusiones o modelizarlos.\n",
    "\n",
    "## Fundamentos estadísticos\n",
    "Como éste no es un libro de estadística, discutiremos los conceptos que necesitaremos para trabajar a lo largo del libro, además de algunas vías para seguir explorando. Esto no es en absoluto exhaustivo.\n",
    "\n",
    "### Muestreo\n",
    "Algunas técnicas de remuestreo (muestreo a partir de la muestra) que veremos a lo largo del libro, especialmente en los capítulos sobre aprendizaje automático (9-11):\n",
    "- **muestreo aleatorio simple**: elección con un generador de números aleatorios\n",
    "- **muestreo aleatorio estratificado**: elección aleatoria preservando la proporción de grupos en los datos\n",
    "- muestreo con reemplazo (más información: [vídeo de YouTube](https://www.youtube.com/watch?v=gcPIyeqymOU) y [artículo de Wikipedia](https://en.wikipedia.org/wiki/Bootstrapping_(estadística))\n",
    "\n",
    "### Estadística descriptiva\n",
    "Utilizamos la estadística descriptiva para describir los datos. Los datos con los que trabajamos suelen ser una **muestra** tomada de la **población**. Los estadísticos que discutiremos aquí se denominan **estadísticos muestrales** porque se calculan sobre la muestra y pueden utilizarse como estimadores de los parámetros poblacionales.\n",
    "\n",
    "#### Medidas de centro\n",
    "Tres formas comunes de describir la tendencia central de una distribución son la media, la mediana y la moda.\n",
    "##### Media\n",
    "La media muestral es un estimador de la media poblacional ($\\mu$) y se define como:\n",
    "\n",
    "$$\\bar{x} = \\frac{\\sum_{1}^{n} x_i}{n}$$\n",
    "##### Mediana\n",
    "La mediana representa el percentil 50<sup>ésimo</sup> de nuestros datos; esto significa que el 50% de los valores son mayores que la mediana y el 50% son menores que la mediana. Se calcula tomando el valor medio de una lista ordenada de valores.\n",
    "\n",
    "##### Moda\n",
    "La moda es el valor más común de los datos. Se puede utilizar para describir datos categóricos o, en el caso de datos continuos, la forma de la distribución:"
   ]
  },
  {
   "cell_type": "code",
   "execution_count": null,
   "metadata": {},
   "outputs": [],
   "source": [
    "ax = stats_viz.different_modal_plots()"
   ]
  },
  {
   "cell_type": "markdown",
   "metadata": {},
   "source": [
    "#### Medidas de dispersión\n",
    "Las medidas de dispersión nos indican cómo están dispersos los datos; esto nos indicará lo fina (poca dispersión) o ancha (muy dispersa) que es nuestra distribución.\n",
    "\n",
    "##### Rango\n",
    "El rango es la distancia entre el valor más pequeño (mínimo) y el valor más grande (máximo):\n",
    "\n",
    "$$rango = max(X) - min(X)$$\n",
    "\n",
    "##### Varianza\n",
    "La varianza describe la distancia que separa las observaciones de su valor medio (la media). Al calcular la varianza de la muestra, dividimos por *n - 1* en lugar de *n* para tener en cuenta el uso de la media de la muestra ($\\bar{x}$):\n",
    "\n",
    "$$s^2 = \\frac{\\sum_{1}^{n} (x_i - \\bar{x})^2}{n - 1}$$\n",
    "\n",
    "Se denomina corrección de Bessel y se aplica para obtener un estimador insesgado de la varianza poblacional.\n",
    "\n",
    "*Note that this will be in units-squared of whatever was being measured.*\n",
    "\n",
    "##### Desviación estándar\n",
    "La desviación típica es la raíz cuadrada de la varianza, lo que nos da una medida en las mismas unidades que nuestros datos. La desviación estándar de la muestra se calcula de la siguiente manera:\n",
    "\n",
    "$$s = \\sqrt{\\frac{\\sum_{1}^{n} (x_i - \\bar{x})^2}{n - 1}} = \\sqrt{s^2}$$"
   ]
  },
  {
   "cell_type": "code",
   "execution_count": null,
   "metadata": {},
   "outputs": [],
   "source": [
    "ax = stats_viz.effect_of_std_dev()"
   ]
  },
  {
   "cell_type": "markdown",
   "metadata": {},
   "source": [
    "*Tenga en cuenta que $\\sigma^2$ es la varianza de la población y $\\sigma$ es la desviación estándar de la población.*\n",
    "\n",
    "##### Coeficiente de variación\n",
    "El coeficiente de variación (CV) nos da una relación sin unidades entre la desviación típica y la media. Como no tiene unidades, podemos comparar la dispersión entre conjuntos de datos:\n",
    "\n",
    "$$CV = \\frac{s}{\\bar{x}}$$\n",
    "\n",
    "##### Rango intercuartílico\n",
    "El rango intercuartílico (IQR) nos da la dispersión de los datos alrededor de la mediana y cuantifica cuánta dispersión tenemos en el 50% medio de nuestra distribución:\n",
    "\n",
    "$$IQR = Q_3 - Q_1$$\n",
    "\n",
    "##### Coeficiente de dispersión por cuartiles\n",
    "El coeficiente de dispersión por cuartiles también es una estadística sin unidades para comparar conjuntos de datos. Sin embargo, utiliza la mediana como medida del centro. Se calcula dividiendo el rango semicuartílico (la mitad del IQR) por la mediana (punto medio entre el primer y el tercer cuartil):\n",
    "\n",
    "$$QCD = \\frac{\\frac{Q_3 - Q_1}{2}}{\\frac{Q_1 + Q_3}{2}} = \\frac{Q_3 - Q_1}{Q_3 + Q_1}$$\n",
    "\n",
    "#### Resumen de datos\n",
    "El **resumen de 5 números** proporciona 5 estadísticas descriptivas que resumen nuestros datos:\n",
    "\n",
    "| | Cuartil | Estadistico | Percentil |\n",
    "| --- | --- | --- | --- |\n",
    "|1.|$Q_0$|minimum|$0^{th}$|\n",
    "|2.|$Q_1$|N/A|$25^{th}$|\n",
    "|3.|$Q_2$|median|$50^{th}$|\n",
    "|4.|$Q_3$|N/A|$75^{th}$|\n",
    "|5.|$Q_4$|maximum|$100^{th}$|\n",
    "\n",
    "Este resumen puede visualizarse mediante un **trazado de caja** (también llamado trazado de caja y bigotes). La caja tiene un límite superior de $Q_3$ y un límite inferior de $Q_1$. La mediana será una línea en algún lugar de esta caja. Los bigotes se extienden desde la caja hacia el mínimo/máximo. Para nuestros propósitos, se extenderán hasta $Q_3 + 1,5 \\times IQR$ y $Q_1 - 1,5 \\times IQR$ y todo lo que vaya más allá se representará como puntos individuales para valores atípicos:"
   ]
  },
  {
   "cell_type": "code",
   "execution_count": null,
   "metadata": {},
   "outputs": [],
   "source": [
    "ax = stats_viz.example_boxplot()"
   ]
  },
  {
   "cell_type": "markdown",
   "metadata": {},
   "source": [
    "El diagrama de caja no nos muestra cómo se distribuyen los datos dentro de los cuartiles. Para tener una mejor idea de la distribución, podemos utilizar un **histograma**, que nos mostrará la cantidad de observaciones que caen en intervalos de igual anchura. Podemos variar el número de intervalos a utilizar, pero tenga en cuenta que esto puede cambiar nuestra impresión de lo que parece ser la distribución:"
   ]
  },
  {
   "cell_type": "code",
   "execution_count": null,
   "metadata": {},
   "outputs": [],
   "source": [
    "ax = stats_viz.example_histogram()"
   ]
  },
  {
   "cell_type": "markdown",
   "metadata": {},
   "source": [
    "También podemos visualizar la distribución utilizando una **estimación de la densidad del núcleo (KDE)**. Esto estimará la **función de densidad de probabilidad (PDF)**. Esta función muestra cómo se distribuye la probabilidad sobre los valores. Los valores más altos de la PDF significan mayores probabilidades:"
   ]
  },
  {
   "cell_type": "code",
   "execution_count": null,
   "metadata": {},
   "outputs": [],
   "source": [
    "ax = stats_viz.example_kde()"
   ]
  },
  {
   "cell_type": "markdown",
   "metadata": {},
   "source": [
    "Obsérvese que tanto la KDE como el histograma estiman la distribución:"
   ]
  },
  {
   "cell_type": "code",
   "execution_count": null,
   "metadata": {},
   "outputs": [],
   "source": [
    "ax = stats_viz.hist_and_kde()"
   ]
  },
  {
   "cell_type": "markdown",
   "metadata": {},
   "source": [
    "**Las distribuciones asimétricas** tienen más observaciones en un lado. La media será menor que la mediana con sesgo negativo, mientras que con sesgo positivo ocurre lo contrario:"
   ]
  },
  {
   "cell_type": "code",
   "execution_count": null,
   "metadata": {},
   "outputs": [],
   "source": [
    "ax = stats_viz.skew_examples()"
   ]
  },
  {
   "cell_type": "markdown",
   "metadata": {},
   "source": [
    "Podemos utilizar la **función de distribución acumulativa (FDA)** para hallar probabilidades de obtener valores dentro de un rango determinado. La CDF es la integral de la PDF:\n",
    "\n",
    "$$CDF = F(x) = \\int_{-\\infty}^{x} f(t) dt$$\n",
    " \n",
    "*Nótese que $f(t)$ es la FDP y $\\int_{-\\infty}^{\\infty} f(t) dt = 1$.*\n",
    "\n",
    "La probabilidad de que la variable aleatoria $X$ sea menor o igual que el valor específico de $x$ se denota como $P(X ≤ x)$. Obsérvese que para una variable aleatoria continua la probabilidad de que sea exactamente $x$ es cero.\n",
    "\n",
    "Veamos la estimación de la FDA a partir de los datos de la muestra que utilizamos para el diagrama de caja, denominada **función de distribución acumulativa empírica (FDAE)**:"
   ]
  },
  {
   "cell_type": "code",
   "execution_count": null,
   "metadata": {},
   "outputs": [],
   "source": [
    "ax = stats_viz.cdf_example()"
   ]
  },
  {
   "cell_type": "markdown",
   "metadata": {},
   "source": [
    "*Podemos encontrar cualquier rango que queramos si usamos algo de álgebra como en el subgrupo de la derecha de arriba.*\n",
    "\n",
    "#### Distribuciones comunes\n",
    "- Distribución gaussiana (normal)**: se parece a una campana de Gauss y está parametrizada por su media (μ) y su desviación típica (σ). Muchas cosas en la naturaleza siguen la distribución normal, como las alturas. Tenga en cuenta que comprobar si una distribución es normal no es trivial. Se escribe como $N(\\mu, \\sigma)$.\n",
    "- Distribución de Poisson**: distribución discreta que se utiliza a menudo para modelizar llegadas. Parametrizada por su media, lambda (λ). Se escribe como $Pois(\\lambda)$.\n",
    "- **Distribución exponencial**: puede utilizarse para modelizar el tiempo entre llegadas. Parametrizada por su media, lambda (λ). Se escribe como $Exp(\\lambda)$.\n",
    "- **Distribución uniforme**: asigna la misma probabilidad a cada valor dentro de sus límites (*a* y *b*). Se utiliza a menudo para la generación de números aleatorios. Se escribe como $U(a, b)$.\n",
    "- Distribución Bernoulli**: Cuando elegimos un número aleatorio para simular un único resultado de éxito/fracaso, se denomina ensayo de Bernoulli. Está parametrizado por la probabilidad de éxito (*p*). Se escribe como $Bernoulli(p)$.\n",
    "- **Distribución binomial**: Cuando realizamos el mismo experimento *n* veces, el número total de éxitos es entonces una variable aleatoria binomial. Se escribe como $B(n, p)$.\n",
    "\n",
    "Podemos visualizar tanto distribuciones discretas como continuas; sin embargo, las distribuciones discretas nos dan una **función másica de probabilidad** (**PMF**) en lugar de una PDF:"
   ]
  },
  {
   "cell_type": "code",
   "execution_count": null,
   "metadata": {},
   "outputs": [],
   "source": [
    "ax = stats_viz.common_dists()"
   ]
  },
  {
   "cell_type": "markdown",
   "metadata": {},
   "source": [
    "#### Escalado de datos\n",
    "Para comparar variables de diferentes distribuciones, tendríamos que escalar los datos, lo que podríamos hacer con el rango utilizando **escalado mín-máx**:\n",
    "\n",
    "$$x_{escalado}=\\frac{x - min(X)}{rango(X)}$$\n",
    "\n",
    "Otra forma es utilizar una **puntuación Z** para estandarizar los datos:\n",
    "\n",
    "$$z_i = \\frac{x_i - \\bar{x}}{s}$$\n",
    "\n",
    "#### Cuantificación de las relaciones entre variables\n",
    "La **covarianza** es un estadístico para cuantificar la relación entre variables mostrando cómo cambia una variable con respecto a otra (también denominada su varianza conjunta):\n",
    "\n",
    "$$cov(X, Y) = E[(X-E[X])(Y-E[Y])]$$\n",
    "\n",
    "*E[X] es la expectativa de la variable aleatoria X (su media a largo plazo)*\n",
    "\n",
    "El signo de la covarianza nos da la dirección de la relación, pero también necesitamos la magnitud. Para ello, calculamos el **coeficiente de correlación de Pearson** ($\\rho$):\n",
    "\n",
    "$$\\rho_{X, Y} = \\frac{cov(X, Y)}{s_X s_Y}$$\n",
    "\n",
    "Ejemplos:"
   ]
  },
  {
   "cell_type": "code",
   "execution_count": null,
   "metadata": {},
   "outputs": [],
   "source": [
    "ax = stats_viz.correlation_coefficient_examples()"
   ]
  },
  {
   "cell_type": "markdown",
   "metadata": {},
   "source": [
    "*De izquierda a derecha: sin correlación, correlación negativa débil, correlación positiva fuerte y correlación negativa casi perfecta*\n",
    "\n",
    "A menudo, es más informativo utilizar gráficos de dispersión para comprobar las relaciones entre variables. Esto se debe a que la correlación puede ser fuerte, pero la relación puede no ser lineal:"
   ]
  },
  {
   "cell_type": "code",
   "execution_count": null,
   "metadata": {},
   "outputs": [],
   "source": [
    "ax = stats_viz.non_linear_relationships()"
   ]
  },
  {
   "cell_type": "markdown",
   "metadata": {},
   "source": [
    "Recuerde que **correlación no implica causalidad**. Aunque encontremos una correlación entre X e Y, no significa que X cause Y o Y cause X. Es posible que haya alguna Z que cause ambas cosas o que X cause algún acontecimiento intermedio que cause Y &mdash; incluso podría ser una coincidencia. No deje de consultar el libro de Tyler Vigen [blog Spurious Correlations](https://www.tylervigen.com/spurious-correlations) para ver algunas correlaciones interesantes.\n",
    "\n",
    "#### Escollos de las estadísticas de síntesis\n",
    "No sólo nuestros coeficientes de correlación pueden ser engañosos, sino también las estadísticas de resumen. El cuarteto de Anscombe es una colección de cuatro conjuntos de datos diferentes que tienen estadísticas de resumen y coeficientes de correlación idénticos, sin embargo, cuando se representan gráficamente, es obvio que no son similares:"
   ]
  },
  {
   "cell_type": "code",
   "execution_count": null,
   "metadata": {},
   "outputs": [],
   "source": [
    "ax = stats_viz.anscombes_quartet()"
   ]
  },
  {
   "cell_type": "markdown",
   "metadata": {},
   "source": [
    "Otro ejemplo de ello es el [Datasaurus Dozen](https://www.autodeskresearch.com/publications/samestats):"
   ]
  },
  {
   "cell_type": "code",
   "execution_count": null,
   "metadata": {},
   "outputs": [],
   "source": [
    "ax = stats_viz.datasaurus_dozen()"
   ]
  },
  {
   "cell_type": "markdown",
   "metadata": {},
   "source": [
    "### Predicción y previsión\n",
    "Digamos que nuestra heladería favorita nos ha pedido ayuda para predecir cuántos helados pueden esperar vender un día determinado. Están convencidos de que la temperatura exterior influye mucho en sus ventas, así que han recopilado datos sobre el número de helados vendidos a una temperatura determinada. Aceptamos ayudarles y lo primero que hacemos es hacer un diagrama de dispersión con los datos que nos han dado:"
   ]
  },
  {
   "cell_type": "code",
   "execution_count": null,
   "metadata": {},
   "outputs": [],
   "source": [
    "ax = stats_viz.example_scatter_plot()"
   ]
  },
  {
   "cell_type": "markdown",
   "metadata": {},
   "source": [
    "Podemos observar una tendencia ascendente en el diagrama de dispersión: se venden más helados a temperaturas más altas. Sin embargo, para ayudar a la heladería, tenemos que encontrar una forma de hacer predicciones a partir de estos datos. Podemos utilizar una técnica llamada **regresión** para modelizar la relación entre la temperatura y las ventas de helados con una ecuación:"
   ]
  },
  {
   "cell_type": "code",
   "execution_count": null,
   "metadata": {},
   "outputs": [],
   "source": [
    "ax = stats_viz.example_regression()"
   ]
  },
  {
   "cell_type": "markdown",
   "metadata": {},
   "source": [
    "Podemos utilizar la ecuación resultante para hacer predicciones sobre el número de helados vendidos a distintas temperaturas. Sin embargo, debemos tener en cuenta si estamos interpolando o extrapolando. Si el valor de temperatura que utilizamos para la predicción está dentro del intervalo de los datos originales que utilizamos para construir nuestro modelo de regresión, entonces estamos **interpolando** (parte sólida de la línea roja). En cambio, si la temperatura supera los valores de los datos originales, estamos **extrapolando**, lo cual es muy peligroso, ya que no podemos suponer que el patrón continúe indefinidamente en cada dirección (parte punteada de la línea). Las temperaturas extremadamente altas pueden hacer que la gente se quede en casa, lo que significa que no se venderán helados, mientras que la ecuación indica un récord de ventas.\n",
    "\n",
    "La previsión es un tipo de predicción de series temporales. En un proceso denominado **descomposición de series temporales**, las series temporales se descomponen en un componente de tendencia, un componente de estacionalidad y un componente cíclico. Estos componentes pueden combinarse de forma aditiva o multiplicativa:"
   ]
  },
  {
   "cell_type": "code",
   "execution_count": null,
   "metadata": {},
   "outputs": [],
   "source": [
    "ax = stats_viz.time_series_decomposition_example()"
   ]
  },
  {
   "cell_type": "markdown",
   "metadata": {},
   "source": [
    "El componente **tendencia** describe el comportamiento de la serie temporal a largo plazo sin tener en cuenta los efectos estacionales o cíclicos. Utilizando la tendencia, podemos hacer afirmaciones generales sobre la serie temporal a largo plazo, como: *la población de la Tierra aumenta* o *el valor de una acción se estanca*. La **estacionalidad** de una serie temporal explica los movimientos sistemáticos y relacionados con el calendario de una serie temporal. Por ejemplo, el número de camiones de helados en las calles de Nueva York es elevado en verano y desciende a cero en invierno; este patrón se repite cada año independientemente de que la cantidad real cada verano sea la misma. Por último, el componente **cíclico** tiene en cuenta cualquier otra cosa inexplicable o irregular de la serie temporal; podría ser algo como un huracán que hiciera descender el número de camiones de helados a corto plazo porque no es seguro estar al aire libre. Este componente es difícil de prever debido a su carácter inesperado.\n",
    "\n",
    "A la hora de elaborar modelos para predecir series temporales, algunos métodos habituales son los de la familia ARIMA y el suavizado exponencial. **ARIMA** significa autorregresivo (AR), integrado (I), media móvil (MA). Los modelos autorregresivos aprovechan el hecho de que una observación en el tiempo $t$ está correlacionada con una observación anterior, por ejemplo en el tiempo $t - 1$. Tenga en cuenta que no todas las series temporales son autorregresivas. El componente integrado se refiere a los datos diferenciados, o al cambio en los datos de un momento a otro. Por último, el componente de media móvil utiliza una ventana móvil para calcular la media de las últimas $x$ observaciones, donde $x$ es la longitud de la ventana móvil. Construiremos un modelo ARIMA en el capítulo 7.\n",
    "\n",
    "La media móvil da el mismo peso a cada período de tiempo del pasado que interviene en el cálculo. En la práctica, esto no siempre es una expectativa realista de nuestros datos. A veces, todos los valores del pasado son importantes, pero varían en su influencia sobre los puntos de datos futuros. Para estos casos, podemos utilizar el suavizado exponencial, que nos permite dar más peso a los valores más recientes y menos a los valores más alejados de lo que estamos prediciendo.\n",
    "\n",
    "### Estadística inferencial\n",
    "La estadística inferencial se ocupa de inferir o deducir cosas a partir de los datos de muestra que tenemos para hacer afirmaciones sobre el conjunto de la población. Antes de hacerlo, necesitamos saber si realizamos un estudio observacional o un experimento. Un estudio observacional no puede utilizarse para determinar la causalidad porque no podemos controlarlo todo. En cambio, un experimento está controlado.\n",
    "\n",
    "Recuerde que los estadísticos muestrales de los que hemos hablado antes son estimadores de los parámetros de la población. Nuestros estimadores necesitan **intervalos de confianza**, que proporcionan una estimación puntual y un margen de error en torno a ella. Se trata del intervalo en el que se encontrará el verdadero parámetro poblacional con un determinado **nivel de confianza**. Con un nivel de confianza del 95%, el 95% de los intervalos de confianza calculados a partir de muestras aleatorias de la población contienen el verdadero parámetro poblacional.\n",
    "\n",
    "También tenemos la opción de utilizar la **comprobación de hipótesis**. En primer lugar, definimos una hipótesis nula (digamos que la verdadera media de la población es 0) y, a continuación, determinamos un **nivel de significación** (1 - nivel de confianza), que es la probabilidad de rechazar la hipótesis nula cuando es cierta. Nuestro resultado es estadísticamente significativo si el valor de la hipótesis nula está fuera del intervalo de confianza. [Más información](https://statisticsbyjim.com/hypothesis-testing/hypothesis-tests-confidence-intervals-levels/).\n",
    "\n",
    "<hr>\n",
    "\n",
    "<div style=\"display: flex; justify-content: space-between; margin-bottom: 10px;\">\n",
    "    <div style=\"text-align: left;\">\n",
    "        <a href=\"./checking_your_setup.ipynb\">\n",
    "            <button>Compruebe su configuración</button>\n",
    "        </a>\n",
    "    </div>\n",
    "    <div style=\"text-align: center;\">\n",
    "        <a href=\"./python_101.ipynb\">\n",
    "            <button>Python 101</button>\n",
    "        </a>\n",
    "        <a href=\"./ejercicios.ipynb\">\n",
    "            <button>Ejercicios</button>\n",
    "        </a>\n",
    "    </div>\n",
    "    <div style=\"text-align: right;\">\n",
    "        <a href=\"../ch_02/1-pandas_data_structures.ipynb\">\n",
    "            <button>Capítulo 2 &#8594;</button>\n",
    "        </a>\n",
    "    </div>\n",
    "</div>\n",
    "\n",
    "<hr>\n"
   ]
  }
 ],
 "metadata": {
  "kernelspec": {
   "display_name": "Python 3",
   "language": "python",
   "name": "python3"
  },
  "language_info": {
   "codemirror_mode": {
    "name": "ipython",
    "version": 3
   },
   "file_extension": ".py",
   "mimetype": "text/x-python",
   "name": "python",
   "nbconvert_exporter": "python",
   "pygments_lexer": "ipython3",
   "version": "3.9.7"
  }
 },
 "nbformat": 4,
 "nbformat_minor": 4
}
