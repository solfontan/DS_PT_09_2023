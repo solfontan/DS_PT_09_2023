{
 "cells": [
  {
   "cell_type": "markdown",
   "metadata": {},
   "source": [
    "![imagen](./img/ejercicios.png)"
   ]
  },
  {
   "cell_type": "markdown",
   "metadata": {},
   "source": [
    "## Ejercicio 1\n",
    "1. Crea un array que vaya del 0 al 9 y que se llame `my_array`\n",
    "2. Imprime por pantalla los elementos [9 7 5 3 1] en ese orden."
   ]
  },
  {
   "cell_type": "code",
   "execution_count": null,
   "metadata": {},
   "outputs": [],
   "source": [
    "import numpy as np\n",
    "my_array = np.arange(10)\n",
    "print(my_array)\n",
    "\n",
    "arr_impar = my_array % 2 == 1\n",
    "print(my_array[arr_impar])\n",
    "print(np.flip(my_array[arr_impar]))"
   ]
  },
  {
   "cell_type": "markdown",
   "metadata": {},
   "source": [
    "## Ejercicio 2\n",
    "Imprime por pantalla la secuencia [8 7] del array `my_array`"
   ]
  },
  {
   "cell_type": "code",
   "execution_count": null,
   "metadata": {},
   "outputs": [],
   "source": [
    "print(my_array[8:6:-1])"
   ]
  },
  {
   "cell_type": "markdown",
   "metadata": {},
   "source": [
    "## Ejercicio 3\n",
    "Imprime por pantalla la secuencia [2 1 0] de `my_array`"
   ]
  },
  {
   "cell_type": "code",
   "execution_count": null,
   "metadata": {},
   "outputs": [],
   "source": [
    "print(my_array[2::-1])"
   ]
  },
  {
   "cell_type": "markdown",
   "metadata": {},
   "source": [
    "## Ejercicio 4\n",
    "1. Crea una matriz de 4x5, con una secuencia del 1 al 20\n",
    "2. Invierte totalmente la matriz. Tanto las filas, como las columnas"
   ]
  },
  {
   "cell_type": "code",
   "execution_count": null,
   "metadata": {},
   "outputs": [],
   "source": [
    "arr = np.arange(1,21)\n",
    "a = np.reshape(arr,(4,5))\n",
    "print(a)"
   ]
  },
  {
   "cell_type": "code",
   "execution_count": null,
   "metadata": {},
   "outputs": [],
   "source": [
    "print(np.flip(a))"
   ]
  },
  {
   "cell_type": "markdown",
   "metadata": {},
   "source": [
    "## Ejercicio 5\n",
    "\n",
    "Obtén el siguiente array, partiendo de la matriz del ejercicio 4\n",
    "```Python\n",
    "array([[1, 2],\n",
    "       [6, 7]])\n",
    "```"
   ]
  },
  {
   "cell_type": "code",
   "execution_count": null,
   "metadata": {},
   "outputs": [],
   "source": [
    "print(a[:2, :2]) #las dos primeras filas y columnas"
   ]
  },
  {
   "cell_type": "markdown",
   "metadata": {},
   "source": [
    "## Ejercicio 6\n",
    "Obtén el siguiente array, partiendo de la matriz del ejercicio 4\n",
    "```Python\n",
    "array([[ 1,  3,  5],\n",
    "       [11, 13, 15]])\n",
    "```"
   ]
  },
  {
   "cell_type": "code",
   "execution_count": null,
   "metadata": {},
   "outputs": [],
   "source": [
    "print(a[::2,::2])"
   ]
  },
  {
   "cell_type": "markdown",
   "metadata": {},
   "source": [
    "## Ejercicio 7\n",
    "Obtén el siguiente array, partiendo de la matriz del ejercicio 4\n",
    "```Python\n",
    "array([[ 5,  4,  3,  2,  1],\n",
    "       [10,  9,  8,  7,  6],\n",
    "       [15, 14, 13, 12, 11]])\n",
    "```"
   ]
  },
  {
   "cell_type": "code",
   "execution_count": null,
   "metadata": {},
   "outputs": [],
   "source": [
    "b = a[:3,::]\n",
    "print(b[::,::-1])"
   ]
  },
  {
   "cell_type": "markdown",
   "metadata": {},
   "source": [
    "## Ejercicio 8\n",
    "Dado el siguiente array:\n",
    "\n",
    "```Python\n",
    "x = np.array([\"Loro\", \"Perro\", \"Gato\", \"Loro\", \"Perro\"])\n",
    "```\n",
    "\n",
    "Filtra el array para quedarte únicamente con los loros.\n",
    "\n",
    "Resuélvelo de dos maneras diferentes"
   ]
  },
  {
   "cell_type": "code",
   "execution_count": null,
   "metadata": {},
   "outputs": [],
   "source": [
    "x = np.array([\"Loro\", \"Perro\", \"Gato\", \"Loro\", \"Perro\"])\n",
    "\n",
    "loro_array = np.array(x == 'Loro')\n",
    "print('array de loros booleanos:', loro_array)\n",
    "print('loros:', x[loro_array])"
   ]
  },
  {
   "cell_type": "code",
   "execution_count": null,
   "metadata": {},
   "outputs": [],
   "source": [
    "print([x[0], x[-2]])"
   ]
  },
  {
   "cell_type": "markdown",
   "metadata": {},
   "source": [
    "## Ejercicio 9\n",
    "Crea una secuencia de 20 elementos y transformala en un array compuesto por 2 matrices de 5x2"
   ]
  },
  {
   "cell_type": "code",
   "execution_count": null,
   "metadata": {},
   "outputs": [],
   "source": [
    "ejer_9 = np.arange(20)\n",
    "np.reshape(ejer_9,(2,5,2))"
   ]
  },
  {
   "cell_type": "markdown",
   "metadata": {},
   "source": [
    "## Ejercicio 10\n",
    "Obtén el siguiente array, partiendo de la matriz del ejercicio 4\n",
    "```Python\n",
    "array([[20, 19, 18, 17, 16],\n",
    "       [15, 14, 13, 12, 11],\n",
    "       [10,  9,  8,  7,  6],\n",
    "       [ 5,  4,  3,  2,  1]])\n",
    "```"
   ]
  },
  {
   "cell_type": "code",
   "execution_count": null,
   "metadata": {},
   "outputs": [],
   "source": [
    "print(np.flip(a))"
   ]
  },
  {
   "cell_type": "markdown",
   "metadata": {},
   "source": [
    "## Ejercicio 11\n",
    "Crea un array de 10 0s. ¿Cuánto ocupa en memoria?\n",
    "\n",
    "Sustituye el 4to elemento por 1, e imprime el array por pantalla"
   ]
  },
  {
   "cell_type": "code",
   "execution_count": null,
   "metadata": {},
   "outputs": [],
   "source": [
    "ceros_array = np.zeros(10)\n",
    "print(ceros_array)\n",
    "print(ceros_array.itemsize)\n",
    "print(ceros_array.nbytes)\n",
    "\n",
    "ceros_array[3] = 1\n",
    "\n",
    "print(ceros_array)"
   ]
  },
  {
   "cell_type": "markdown",
   "metadata": {},
   "source": [
    "## Ejercicio 12\n",
    "Crea un vector que vaya del 10 al 49\n",
    "\n",
    "Inviértelo"
   ]
  },
  {
   "cell_type": "code",
   "execution_count": null,
   "metadata": {},
   "outputs": [],
   "source": [
    "ejer_12 = np.arange(10,50)\n",
    "print(ejer_12)\n",
    "\n",
    "print(np.flip(ejer_12))"
   ]
  },
  {
   "cell_type": "markdown",
   "metadata": {},
   "source": [
    "## Ejericio 13\n",
    "Encuentra los indices de los valores que no sean 0 del siguiente vector [1,2,0,0,4,0]. El output sería [0, 1, 4]. [Encuentra el método apropiado en la documentación.](https://numpy.org/doc/)"
   ]
  },
  {
   "cell_type": "code",
   "execution_count": null,
   "metadata": {},
   "outputs": [],
   "source": [
    "ejer_13 = [1,2,0,0,4,0]\n",
    "\n",
    "print(np.nonzero(ejer_13))"
   ]
  },
  {
   "cell_type": "markdown",
   "metadata": {},
   "source": [
    "## Ejercicio 14\n",
    "Crea una matriz de numeros aleatorios 10x10. Encuentra los valores mínimo y máximo."
   ]
  },
  {
   "cell_type": "code",
   "execution_count": null,
   "metadata": {},
   "outputs": [],
   "source": [
    "np.random.seed(1234)\n",
    "ejer_14 = np.random.randint(100, size=(10,10))\n",
    "print(ejer_14)\n",
    "print('max:' , np.max(ejer_14))\n",
    "print('min:' , np.min(ejer_14))"
   ]
  },
  {
   "cell_type": "markdown",
   "metadata": {},
   "source": [
    "## Ejercicio 15\n",
    "Crea un vector aleatorio de tamaño 30 y calcula su media"
   ]
  },
  {
   "cell_type": "code",
   "execution_count": null,
   "metadata": {},
   "outputs": [],
   "source": [
    "np.random.seed(5678)\n",
    "ejer_15 = np.random.rand(30)\n",
    "print(ejer_15)\n",
    "print('media', np.mean(ejer_15))"
   ]
  },
  {
   "cell_type": "markdown",
   "metadata": {},
   "source": [
    "## Ejercicio 16\n",
    "Crea un array cuadrado de 2D, con las dimensiones que quiras, pero que todo el borde esté compuesto por 1s, y el interior por 0s"
   ]
  },
  {
   "cell_type": "code",
   "execution_count": null,
   "metadata": {},
   "outputs": [],
   "source": [
    "arr= np.ones((10, 10))\n",
    "arr[1:-1,1:-1] = 0\n",
    "\n",
    "print(arr)"
   ]
  },
  {
   "cell_type": "markdown",
   "metadata": {},
   "source": [
    "## Ejercicio 17\n",
    "Crea una mtriz de 8x8, y rellénala con 0s y 1s. Tienes que replicar:\n",
    "```Python\n",
    "[[0 1 0 1 0 1 0 1]\n",
    " [1 0 1 0 1 0 1 0]\n",
    " [0 1 0 1 0 1 0 1]\n",
    " [1 0 1 0 1 0 1 0]\n",
    " [0 1 0 1 0 1 0 1]\n",
    " [1 0 1 0 1 0 1 0]\n",
    " [0 1 0 1 0 1 0 1]\n",
    " [1 0 1 0 1 0 1 0]]\n",
    "```"
   ]
  },
  {
   "cell_type": "code",
   "execution_count": null,
   "metadata": {},
   "outputs": [],
   "source": [
    "ejer_17 = [[1,0], \n",
    "           [0,1]] \n",
    "print(ejer_17)\n",
    "\n",
    "print(np.tile(ejer_17,(4,4)))"
   ]
  },
  {
   "cell_type": "markdown",
   "metadata": {},
   "source": [
    "## Ejercicio 18\n",
    "Replica la matriz del apartado anterior, pero en este caso usando [la función `tile`](https://numpy.org/doc/stable/reference/generated/numpy.tile.html)"
   ]
  },
  {
   "cell_type": "code",
   "execution_count": null,
   "metadata": {},
   "outputs": [],
   "source": [
    "ejer_18 = [[1,0], \n",
    "           [0,1]] \n",
    "\n",
    "print(np.tile(ejer_18,(4,4)))"
   ]
  },
  {
   "cell_type": "markdown",
   "metadata": {},
   "source": [
    "## Ejercicio 19\n",
    "Crea una matriz aleatoria de 5x5 y normaliza sus valores. Para normalizar tienes que restar sus valores por la media(`np.mean`) y dividir el resultado por la desviación estándar(`np.std`)."
   ]
  },
  {
   "cell_type": "code",
   "execution_count": null,
   "metadata": {},
   "outputs": [],
   "source": [
    "np.random.seed(0000)\n",
    "ejer_19 = np.random.randint(1,20, size=(5,5))\n",
    "print(ejer_19)\n",
    "print((ejer_19 - np.mean(ejer_19)) / np.std(ejer_19))"
   ]
  },
  {
   "cell_type": "markdown",
   "metadata": {},
   "source": [
    "## Ejercicio 20\n",
    "1. Crea una secuencia de números que vayan del 0 al 10.\n",
    "2. Crea un nuevo array, que parta del anterior, pero sustituya por el valor -1, todos los elementos cuyo valor se encuentre entre el 3 y el 8.\n",
    "3. Crea un nuevo array que niegue todos los elementos entre el 3 y el 8"
   ]
  },
  {
   "cell_type": "code",
   "execution_count": null,
   "metadata": {},
   "outputs": [],
   "source": [
    "ejer = np.arange(11)\n",
    "print('1:', ejer)\n",
    "ejer_2 = ejer[:].copy()\n",
    "ejer_2[4:8] = -1\n",
    "print('2:', ejer_2)\n",
    "ejer_20_3 = np.where(ejer_2 == -1, ejer * ejer_2, ejer)\n",
    "print('3:', ejer_20_3)"
   ]
  },
  {
   "cell_type": "markdown",
   "metadata": {},
   "source": [
    "## Ejercicio 21\n",
    "#### Bonus track. Mini hundir la flota\n",
    "1. Crea un tablero de 10x10 relleno del carácter espacio ( ).\n",
    "2. Posiciona un par de barcos en [(0,1), (1,1)] y [(1,3), (1,4), (1,5), (1,6)]. Los barcos serán Os mayúsculas. Como ves, un barco de dos posiciones de eslora y otro de cuatro.\n",
    "3. Recibe un disparo en uno de los barcos, sustituyendo la O por una X\n",
    "4. Recibe un disparo en agua, sustituyendo uno de los espacios por un guión: -\n",
    "5. Ignorando los disparos recibidos, ahora prueba a posicionar otro barco de 4 posiciones dentro del tablero, pero **de manera ALEATORIA.**\n",
    "\n",
    "**TIP apartado 5**: El barco tendrá una posición inicial aleatoria dentro del tablero, y una orientación también aleatoria (N,S,E,O).\n",
    "\n",
    "Por ejemplo, si tu posicion inicial fuese (5,0) y la orientación O, no podrias ponerlo porque se sale del tablero. Ahora bien, si fuese orientación este, si podrías, y ocuparía las posiciones [(5,0), (5,1), (5,2), (5,3)]. Por tanto tendrás que iterar con un bucle si es posible encajar el barco en el tablero, y el bucle terminará cuando lo consigas encajar. **Ojo con las posiciones donde ya hay barco!!!**\n",
    "\n",
    "Usa `import random` para elegir las coordenadas aleatorias."
   ]
  },
  {
   "cell_type": "code",
   "execution_count": null,
   "metadata": {},
   "outputs": [],
   "source": [
    "import numpy as np\n",
    "\n",
    "tablero = np.full((11,11), fill_value=' ')\n",
    "indice = -1\n",
    "for i in range(len(tablero)):\n",
    "    tablero[0][0] = ' '\n",
    "    indice += 1\n",
    "    tablero[0][i] = indice\n",
    "    tablero[i][0] = indice\n",
    "    \n",
    "print(tablero)"
   ]
  },
  {
   "cell_type": "code",
   "execution_count": null,
   "metadata": {},
   "outputs": [],
   "source": [
    "tablero[(2,1),(1,1)] = 'O'\n",
    "print(tablero)"
   ]
  },
  {
   "cell_type": "code",
   "execution_count": null,
   "metadata": {},
   "outputs": [],
   "source": [
    "tablero[(1,3)] = 'O'\n",
    "tablero[(1,4)] = 'O'\n",
    "tablero[(1,5)] = 'O'\n",
    "tablero[(1,6)] = 'O'\n",
    "print(tablero)"
   ]
  },
  {
   "cell_type": "code",
   "execution_count": null,
   "metadata": {},
   "outputs": [],
   "source": [
    "tablero[(1,3)] = 'X'\n",
    "print(tablero)"
   ]
  },
  {
   "cell_type": "code",
   "execution_count": null,
   "metadata": {},
   "outputs": [],
   "source": [
    "tablero[(8,7)] = '-'\n",
    "print(tablero)"
   ]
  },
  {
   "cell_type": "code",
   "execution_count": null,
   "metadata": {},
   "outputs": [],
   "source": [
    "\n",
    "def barco():\n",
    "    \"\"\"\n",
    "    Coloca un barco de tamaño cuatro, con una orientación (N,S,E,O) \n",
    "    de manera aleatoria dentro del tablero.\n",
    "    \n",
    "    \"\"\"  \n",
    "    cant_ship = 1  # Número total de barcos\n",
    "    rows, columns = tablero.shape\n",
    "        \n",
    "    barcos = []\n",
    "        \n",
    "    while cant_ship > 0:\n",
    "        ship = 4  \n",
    "        row = np.random.randint(1, 11)\n",
    "        column = np.random.randint(1, 11)\n",
    "        position = np.random.choice(['norte', 'sur', 'este', 'oeste'])\n",
    "\n",
    "        if position == 'norte' and all(tablero[row:row-ship:-1,column] != 'X'):    \n",
    "            if row - ship > 0 and row + ship <= rows: # Norte/sur movimiento vertical       \n",
    "                tablero[row:row-ship:-1,column] = 'X' \n",
    "                cant_ship = cant_ship - 1\n",
    "                barco_info = {\n",
    "                    'barco': ship,\n",
    "                    'fila': row,\n",
    "                    'columna': column,\n",
    "                    'dirección': position\n",
    "                }\n",
    "                barcos.append(barco_info)\n",
    "                \n",
    "        elif position == 'sur' and all(tablero[row:row+ship,column] != 'X'): #Comprueba que las casillas siguientes no contengan 'X'           \n",
    "            if row - ship > 0 and row + ship <= rows: \n",
    "                tablero[row:row+ship,column] = 'X' \n",
    "                cant_ship = cant_ship - 1\n",
    "                barco_info = {\n",
    "                    'barco': ship,\n",
    "                    'fila': row,\n",
    "                    'columna': column,\n",
    "                    'dirección': position\n",
    "                }\n",
    "                barcos.append(barco_info)\n",
    "        \n",
    "        elif position == 'oeste' and all(tablero[row,column:column-ship:-1] != 'X'):              \n",
    "            if column - ship > 0 and column + ship <= columns:       \n",
    "                tablero[row,column:column-ship:-1] = 'X' \n",
    "                cant_ship = cant_ship - 1\n",
    "                barco_info = {\n",
    "                    'barco': ship,\n",
    "                    'fila': row,\n",
    "                    'columna': column,\n",
    "                    'dirección': position\n",
    "                }\n",
    "                barcos.append(barco_info)\n",
    "            \n",
    "        elif position == 'este' and all(tablero[row,column:column+ship] != 'X'):   \n",
    "            if column - ship > 0 and column + ship <= columns:\n",
    "                tablero[row,column:column+ship] = 'X' \n",
    "                cant_ship = cant_ship - 1\n",
    "                barco_info = {\n",
    "                    'barco': ship,\n",
    "                    'fila': row,\n",
    "                    'columna': column,\n",
    "                    'dirección': position\n",
    "                }\n",
    "                barcos.append(barco_info)\n",
    "        else:\n",
    "            # mensaje = 'No se pudo agregar el barco'\n",
    "            # barcos.append(mensaje)\n",
    "            cant_ship = cant_ship\n",
    "                \n",
    "    # Imprimir el tablero\n",
    "    print(tablero)\n",
    "    \n",
    "    # Imprimir la información de los barcos\n",
    "    print(\"Información de los barcos:\")\n",
    "    for index, barco_info in enumerate(barcos):\n",
    "        print(f\"Barco {index + 1}: {barco_info}\")\n",
    "    "
   ]
  },
  {
   "cell_type": "code",
   "execution_count": null,
   "metadata": {},
   "outputs": [],
   "source": [
    "barco()"
   ]
  }
 ],
 "metadata": {
  "interpreter": {
   "hash": "7c77fdb427e7cbc9bc1367dd530fc2b36aacdbbde1ac83c85833b10dfa8b831c"
  },
  "kernelspec": {
   "display_name": "Python 3.7.4 64-bit",
   "name": "python3"
  },
  "language_info": {
   "codemirror_mode": {
    "name": "ipython",
    "version": 3
   },
   "file_extension": ".py",
   "mimetype": "text/x-python",
   "name": "python",
   "nbconvert_exporter": "python",
   "pygments_lexer": "ipython3",
   "version": "3.11.6"
  }
 },
 "nbformat": 4,
 "nbformat_minor": 4
}
