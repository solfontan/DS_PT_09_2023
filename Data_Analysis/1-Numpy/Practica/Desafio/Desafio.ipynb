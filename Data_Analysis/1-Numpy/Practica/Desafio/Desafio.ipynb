{
 "cells": [
  {
   "cell_type": "markdown",
   "metadata": {},
   "source": [
    "## Reto 1: Hundir la Flota (Batalla Naval)\n",
    "### Objetivo: Implementar una versión simplificada del juego de Batalla Naval usando Python y Numpy para manejar el tablero del juego.\n",
    "\n",
    "- Crear un tablero 10x10 usando Numpy arrays.\n",
    "- Colocar 5 barcos de diferentes tamaños en posiciones aleatorias en el tablero.\n",
    "- Permitir que el jugador ingrese coordenadas para \"disparar\".\n",
    "- Mostrar un mensaje si el jugador acierta o falla, y actualizar el tablero acorde.\n",
    "- Seguir jugando hasta que todos los barcos sean hundidos.\n",
    "#### Habilidades aplicadas: Uso de arrays de Numpy, generación de números aleatorios, estructuras de control en Python.\n",
    "\n",
    "## Reto 2: Tres en Raya (Tic-Tac-Toe)\n",
    "### Objetivo: Implementar el juego de Tres en Raya.\n",
    "\n",
    "- Crear un tablero 3x3 usando Numpy arrays.\n",
    "- Permitir a dos jugadores ingresar sus movimientos alternadamente.\n",
    "- Verificar después de cada movimiento si alguno de los jugadores ha ganado.\n",
    "- Mostrar el tablero después de cada turno.\n",
    "- Terminar el juego si hay un ganador o si el tablero está lleno.\n",
    "#### Habilidades aplicadas: Manipulación de arrays, estructuras de control, funciones en Python.\n",
    "\n",
    "## Reto 3: Torres de Hanoi\n",
    "### Objetivo: Implementar el juego de las Torres de Hanoi usando Python.\n",
    "\n",
    "- Crear tres pilas para representar los tres postes del juego.\n",
    "- Implementar la lógica para mover un disco de un poste a otro, siguiendo las reglas del juego.\n",
    "- Desarrollar una función recursiva para resolver el juego.\n",
    "- Permitir al usuario elegir el número de discos con los que jugará.\n",
    "#### Habilidades aplicadas: Recursividad, estructuras de datos (pilas), funciones en Python."
   ]
  },
  {
   "cell_type": "markdown",
   "metadata": {},
   "source": [
    "``Deberas hacer por lo menos uno de los tres para de la fecha de entrega, pero antes de terminar el modulo de analisis de datos tendras que entregar todos..``"
   ]
  },
  {
   "cell_type": "markdown",
   "metadata": {},
   "source": [
    "como se cual debo hacer muy simple introduce tu fecha de cumpleaños en la siguiente funcion"
   ]
  },
  {
   "cell_type": "code",
   "execution_count": 3,
   "metadata": {},
   "outputs": [],
   "source": [
    "def cual_es_mi_reto(fecha: str) -> str:\n",
    "    \"\"\"\n",
    "    Args:\n",
    "    ------\n",
    "    fecha: str el formato de la fecha es DD-MM-YYYY\n",
    "    Returns:\n",
    "    -------\n",
    "    str: el numero del reto\n",
    "    \"\"\"\n",
    "    try:\n",
    "        return int(fecha.split('-')[0]) % 3\n",
    "    except:\n",
    "        return 'La fecha tiene que ser en este formato DD-MM-YYYY'"
   ]
  },
  {
   "cell_type": "code",
   "execution_count": 4,
   "metadata": {},
   "outputs": [
    {
     "data": {
      "text/plain": [
       "2"
      ]
     },
     "execution_count": 4,
     "metadata": {},
     "output_type": "execute_result"
    }
   ],
   "source": [
    "cual_es_mi_reto(fecha='08-04-1989')"
   ]
  },
  {
   "cell_type": "markdown",
   "metadata": {},
   "source": [
    "## Reto 1: Hundir la Flota (Batalla Naval)\n",
    "### Objetivo: Implementar una versión simplificada del juego de Batalla Naval usando Python y Numpy para manejar el tablero del juego.\n",
    "\n",
    "- Crear un tablero 10x10 usando Numpy arrays.\n",
    "- Colocar 5 barcos de diferentes tamaños en posiciones aleatorias en el tablero.\n",
    "- Permitir que el jugador ingrese coordenadas para \"disparar\".\n",
    "- Mostrar un mensaje si el jugador acierta o falla, y actualizar el tablero acorde.\n",
    "- Seguir jugando hasta que todos los barcos sean hundidos.\n",
    "#### Habilidades aplicadas: Uso de arrays de Numpy, generación de números aleatorios, estructuras de control en Python."
   ]
  },
  {
   "cell_type": "code",
   "execution_count": 2,
   "metadata": {},
   "outputs": [],
   "source": [
    "import numpy as np"
   ]
  },
  {
   "cell_type": "code",
   "execution_count": 56,
   "metadata": {},
   "outputs": [
    {
     "name": "stdout",
     "output_type": "stream",
     "text": [
      "[[' ' ' ' ' ' ' ' ' ' ' ' ' ' ' ' ' ' ' ']\n",
      " [' ' ' ' ' ' ' ' ' ' ' ' ' ' ' ' ' ' ' ']\n",
      " [' ' ' ' ' ' ' ' ' ' ' ' ' ' ' ' ' ' ' ']\n",
      " [' ' ' ' ' ' ' ' ' ' ' ' ' ' ' ' ' ' ' ']\n",
      " [' ' ' ' ' ' ' ' ' ' ' ' ' ' ' ' ' ' ' ']\n",
      " [' ' ' ' ' ' ' ' ' ' ' ' ' ' ' ' ' ' ' ']\n",
      " [' ' ' ' ' ' ' ' ' ' ' ' ' ' ' ' ' ' ' ']\n",
      " [' ' ' ' ' ' ' ' ' ' ' ' ' ' ' ' ' ' ' ']\n",
      " [' ' ' ' ' ' ' ' ' ' ' ' ' ' ' ' ' ' ' ']\n",
      " [' ' ' ' ' ' ' ' ' ' ' ' ' ' ' ' ' ' ' ']]\n"
     ]
    }
   ],
   "source": []
  },
  {
   "cell_type": "code",
   "execution_count": 16,
   "metadata": {},
   "outputs": [
    {
     "name": "stdout",
     "output_type": "stream",
     "text": [
      "[[' ' ' ' ' ' ' ' ' ' ' ' ' ' ' ' ' ' ' ']\n",
      " [' ' ' ' ' ' ' ' ' ' ' ' ' ' ' ' ' ' ' ']\n",
      " [' ' ' ' ' ' ' ' ' ' ' ' ' ' ' ' ' ' ' ']\n",
      " [' ' ' ' ' ' ' ' ' ' ' ' ' ' ' ' ' ' ' ']\n",
      " [' ' ' ' ' ' ' ' ' ' ' ' ' ' ' ' ' ' ' ']\n",
      " [' ' ' ' ' ' ' ' ' ' ' ' ' ' ' ' ' ' ' ']\n",
      " [' ' ' ' ' ' ' ' ' ' ' ' ' ' ' ' ' ' ' ']\n",
      " [' ' ' ' ' ' ' ' ' ' ' ' ' ' ' ' ' ' ' ']\n",
      " [' ' ' ' ' ' ' ' ' ' ' ' ' ' ' ' ' ' ' ']\n",
      " [' ' ' ' ' ' ' ' ' ' ' ' ' ' ' ' ' ' ' ']]\n"
     ]
    }
   ],
   "source": [
    "\n",
    "tablero = np.full((10,10), fill_value=' ')\n",
    "print(tablero)\n",
    "\n",
    "def barcomaquina():\n",
    "    \n",
    "    ship = np.random.randint(2,5) # Barcos de dos, tres y cuatro\n",
    "    print('medida del barco: ', ship)\n",
    "    row = np.random.randint(1,11) # fila\n",
    "    print('Fila: ',row)\n",
    "    column = np.random.randint(1,11)\n",
    "    print('Columna: ', column)\n",
    "\n",
    "    rows, columns = tablero.shape\n",
    "    print('forma: ', rows, columns)\n",
    "    direccion = np.random.choice(['horizontal','vertical']) \n",
    "    print('posicion:', direccion)\n",
    "\n",
    "    continuar = True\n",
    "\n",
    "    if direccion == 'horizontal':\n",
    "        while continuar:           \n",
    "            if column + ship >= columns:\n",
    "                print('No se puede ubicar el barco')\n",
    "                continuar = False\n",
    "                    \n",
    "            elif column + ship < columns and tablero[row,column] != 'X':              \n",
    "                tablero[row,column] = 'X'\n",
    "                column = column + 1                         \n",
    "                ship = ship - 1\n",
    "                \n",
    "                if ship == 0:\n",
    "                    print(tablero)\n",
    "                    print('Barco ubicado')\n",
    "                    continuar = False\n",
    "            else:\n",
    "                return 'Ya hay un barco'\n",
    "          \n",
    "            if direccion == 'vertical':\n",
    "                if row + ship >= rows:\n",
    "                    print('Nose puede ubicar el barco')\n",
    "                    continuar = False\n",
    "\n",
    "                elif row + ship < rows and tablero[row,column] != 'X':              \n",
    "                    tablero[row,column] = 'X'              \n",
    "                    row = row + 1                         \n",
    "                    ship = ship - 1\n",
    "                \n",
    "                    if ship == 0:\n",
    "                        print(tablero)\n",
    "                        print('Barco ubicado')\n",
    "                        continuar = False\n",
    "                    \n",
    "                else:\n",
    "                    return 'Ya hay un barco'\n",
    "\n",
    "\n",
    "# def atacar(fila: int, columna: int, ship) :\n",
    "#     continuar = True\n",
    "#     while continuar:\n",
    "#         if tablero[fila,columna] == 'X':\n",
    "#             tablero[fila,columna] = '#'\n",
    "        #     columna = columna + 1                         \n",
    "        #     ship = ship - 1           \n",
    "                \n",
    "        #     if ship == 0:\n",
    "        #         print(tablero)\n",
    "        #         print('Barco Hundido')\n",
    "        #         continuar = False\n",
    "            \n",
    "        # elif tablero[fila,columna] == 'X':\n",
    "        #     tablero[fila,columna] = '#'\n",
    "        #     fila = fila + 1                         \n",
    "        #     ship = ship - 1\n",
    "            \n",
    "        #     if ship == 0:\n",
    "        #         print(tablero)\n",
    "        #         print('Barco Hundido')\n",
    "        #         continuar = False\n",
    "\n",
    "                \n",
    "        # if tablero[fila,columna] != 'X':\n",
    "        #     print('Lo siento, fallaste')\n",
    "        #     tablero[fila,columna] = '-'\n",
    "        #     print(tablero)\n",
    "            \n",
    "        # else:\n",
    "        #     print('error')"
   ]
  },
  {
   "cell_type": "code",
   "execution_count": 91,
   "metadata": {},
   "outputs": [
    {
     "name": "stdout",
     "output_type": "stream",
     "text": [
      "[[' ' ' ' ' ' ' ' ' ' ' ' ' ' ' ' ' ' ' ']\n",
      " [' ' ' ' ' ' ' ' ' ' ' ' ' ' ' ' ' ' ' ']\n",
      " [' ' ' ' ' ' ' ' ' ' ' ' ' ' ' ' ' ' ' ']\n",
      " [' ' ' ' ' ' ' ' ' ' ' ' ' ' ' ' ' ' ' ']\n",
      " [' ' ' ' ' ' ' ' ' ' ' ' ' ' ' ' ' ' ' ']\n",
      " [' ' ' ' ' ' ' ' ' ' ' ' ' ' ' ' ' ' ' ']\n",
      " [' ' ' ' ' ' ' ' ' ' ' ' ' ' ' ' ' ' ' ']\n",
      " [' ' ' ' ' ' ' ' ' ' ' ' ' ' ' ' ' ' ' ']\n",
      " [' ' ' ' ' ' ' ' ' ' ' ' ' ' ' ' ' ' ' ']\n",
      " [' ' ' ' ' ' ' ' ' ' ' ' ' ' ' ' ' ' ' ']]\n"
     ]
    }
   ],
   "source": [
    "import numpy as np\n",
    "\n",
    "tablero = np.full((10,10), fill_value=' ')\n",
    "print(tablero)\n",
    "# indice = 0\n",
    "# for i in tablero:\n",
    "#     if i == tablero[0] and i == tablero[0][0]:\n",
    "#         indice = indice + 1\n",
    "#         print(indice)\n",
    "\n",
    "def barcomaquina():\n",
    "    ship = np.random.randint(2,5) # Barcos de dos-tres-cuatro posiciones\n",
    "    row = np.random.randint(1,11) \n",
    "    column = np.random.randint(1,11)\n",
    "    rows, columns = tablero.shape\n",
    "    position = np.random.choice(['horizontal','vertical']) \n",
    "\n",
    "    info_barco = {'barco' : ship,\n",
    "                    'fila' : row,\n",
    "                    'columna' : column,\n",
    "                    'dirección' : position}\n",
    "    \n",
    "    print(info_barco, '\\n')\n",
    "    \n",
    "    continuar = True\n",
    "\n",
    "    if position == 'horizontal':\n",
    "        while continuar:           \n",
    "            if column + ship >= columns:\n",
    "                print('No se puede ubicar el barco')\n",
    "                continuar = False\n",
    "                    \n",
    "            elif column + ship <= columns and all(tablero[row,column:column+ship] != 'X'):  #Comprueba que las casillas siguientes no contengan 'X'           \n",
    "                tablero[row,column:column+ship] = 'X' \n",
    "                print(tablero)\n",
    "                print('Barco ubicado')\n",
    "                continuar = False\n",
    "                #tablero[row,column] = 'X'\n",
    "                #column = column + 1                         \n",
    "                #ship = ship - 1\n",
    "                #     if ship == 0:\n",
    "                #     print(tablero)\n",
    "                #     print('Barco ubicado')\n",
    "                #     continuar = False\n",
    "\n",
    "            else:\n",
    "                return 'Ya hay un barco'\n",
    "          \n",
    "    if position == 'vertical':\n",
    "        while continuar:\n",
    "            if row + ship >= rows:\n",
    "                print('Nose puede ubicar el barco')\n",
    "                continuar = False\n",
    "\n",
    "            elif row + ship <= rows and all(tablero[row:row+ship,column] != 'X'):              \n",
    "                tablero[row:row+ship,column] = 'X'              \n",
    "                print(tablero)\n",
    "                print('Barco ubicado')\n",
    "                continuar = False\n",
    "            else:\n",
    "                return 'Ya hay un barco'\n",
    "            \n",
    "    "
   ]
  },
  {
   "cell_type": "code",
   "execution_count": 95,
   "metadata": {},
   "outputs": [
    {
     "name": "stdout",
     "output_type": "stream",
     "text": [
      "{'barco': 4, 'fila': 5, 'columna': 1, 'dirección': 'vertical'} \n",
      "\n",
      "[[' ' ' ' ' ' ' ' ' ' ' ' ' ' ' ' ' ' ' ']\n",
      " [' ' ' ' ' ' ' ' ' ' ' ' ' ' ' ' ' ' ' ']\n",
      " [' ' ' ' ' ' 'X' ' ' ' ' ' ' ' ' ' ' ' ']\n",
      " [' ' ' ' ' ' 'X' ' ' ' ' ' ' ' ' ' ' ' ']\n",
      " [' ' ' ' ' ' 'X' ' ' 'X' 'X' ' ' ' ' ' ']\n",
      " [' ' 'X' 'X' 'X' ' ' ' ' ' ' ' ' ' ' ' ']\n",
      " [' ' 'X' ' ' ' ' ' ' ' ' ' ' ' ' ' ' ' ']\n",
      " [' ' 'X' ' ' ' ' ' ' ' ' ' ' ' ' ' ' ' ']\n",
      " [' ' 'X' ' ' ' ' ' ' ' ' ' ' ' ' ' ' ' ']\n",
      " [' ' ' ' ' ' ' ' ' ' ' ' ' ' ' ' ' ' ' ']]\n",
      "Barco ubicado\n"
     ]
    }
   ],
   "source": [
    "barcomaquina()"
   ]
  },
  {
   "cell_type": "code",
   "execution_count": 111,
   "metadata": {},
   "outputs": [
    {
     "name": "stdout",
     "output_type": "stream",
     "text": [
      "Lo siento, fallaste\n",
      "[[' ' ' ' ' ' ' ' ' ' ' ' ' ' ' ' ' ' ' ']\n",
      " [' ' ' ' ' ' ' ' ' ' ' ' ' ' ' ' ' ' ' ']\n",
      " [' ' ' ' ' ' 'X' ' ' '-' ' ' ' ' ' ' ' ']\n",
      " [' ' ' ' ' ' 'X' ' ' ' ' ' ' ' ' ' ' ' ']\n",
      " [' ' ' ' ' ' 'X' ' ' 'X' 'X' ' ' ' ' ' ']\n",
      " [' ' '#' '#' 'X' ' ' ' ' ' ' ' ' ' ' ' ']\n",
      " [' ' '#' '#' ' ' ' ' ' ' ' ' ' ' ' ' ' ']\n",
      " [' ' '#' ' ' ' ' ' ' ' ' ' ' ' ' ' ' ' ']\n",
      " [' ' '#' ' ' ' ' ' ' ' ' ' ' ' ' ' ' ' ']\n",
      " [' ' ' ' ' ' ' ' ' ' ' ' ' ' ' ' ' ' ' ']]\n",
      "error\n"
     ]
    }
   ],
   "source": [
    "atacar(2,5,4)"
   ]
  },
  {
   "cell_type": "code",
   "execution_count": 112,
   "metadata": {},
   "outputs": [],
   "source": [
    "def atacar(fila: int, columna: int, barco) :\n",
    "        \n",
    "    continuar = True\n",
    "    while continuar:\n",
    "        if tablero[fila,columna] == 'X':                  \n",
    "            tablero[fila:fila+barco,columna] = ' '.join(['#'] * barco)        \n",
    "            print(tablero)\n",
    "            print('Barco Hundido')\n",
    "            continuar = False\n",
    "    \n",
    "        elif tablero[fila,columna] == ' ':\n",
    "            print('Lo siento, fallaste')\n",
    "            tablero[fila,columna] = '-'\n",
    "            print(tablero)\n",
    "            continuar = False\n",
    "            \n",
    "        elif tablero[fila,columna] == '#':\n",
    "            print('Ya has disparado a esa coordenada')\n",
    "            print(tablero)\n",
    "            continuar = False\n",
    "            \n",
    "        else:\n",
    "            print('error')\n",
    "            break\n",
    "        "
   ]
  }
 ],
 "metadata": {
  "kernelspec": {
   "display_name": "este",
   "language": "python",
   "name": "python3"
  },
  "language_info": {
   "codemirror_mode": {
    "name": "ipython",
    "version": 3
   },
   "file_extension": ".py",
   "mimetype": "text/x-python",
   "name": "python",
   "nbconvert_exporter": "python",
   "pygments_lexer": "ipython3",
   "version": "3.11.6"
  }
 },
 "nbformat": 4,
 "nbformat_minor": 2
}
