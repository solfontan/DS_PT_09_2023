{
 "cells": [
  {
   "cell_type": "markdown",
   "metadata": {},
   "source": [
    "## Reto 1: Hundir la Flota (Batalla Naval)\n",
    "### Objetivo: Implementar una versión simplificada del juego de Batalla Naval usando Python y Numpy para manejar el tablero del juego.\n",
    "\n",
    "- Crear un tablero 10x10 usando Numpy arrays.\n",
    "- Colocar 5 barcos de diferentes tamaños en posiciones aleatorias en el tablero.\n",
    "- Permitir que el jugador ingrese coordenadas para \"disparar\".\n",
    "- Mostrar un mensaje si el jugador acierta o falla, y actualizar el tablero acorde.\n",
    "- Seguir jugando hasta que todos los barcos sean hundidos.\n",
    "#### Habilidades aplicadas: Uso de arrays de Numpy, generación de números aleatorios, estructuras de control en Python.\n",
    "\n",
    "## Reto 2: Tres en Raya (Tic-Tac-Toe)\n",
    "### Objetivo: Implementar el juego de Tres en Raya.\n",
    "\n",
    "- Crear un tablero 3x3 usando Numpy arrays.\n",
    "- Permitir a dos jugadores ingresar sus movimientos alternadamente.\n",
    "- Verificar después de cada movimiento si alguno de los jugadores ha ganado.\n",
    "- Mostrar el tablero después de cada turno.\n",
    "- Terminar el juego si hay un ganador o si el tablero está lleno.\n",
    "#### Habilidades aplicadas: Manipulación de arrays, estructuras de control, funciones en Python.\n",
    "\n",
    "## Reto 3: Torres de Hanoi\n",
    "### Objetivo: Implementar el juego de las Torres de Hanoi usando Python.\n",
    "\n",
    "- Crear tres pilas para representar los tres postes del juego.\n",
    "- Implementar la lógica para mover un disco de un poste a otro, siguiendo las reglas del juego.\n",
    "- Desarrollar una función recursiva para resolver el juego.\n",
    "- Permitir al usuario elegir el número de discos con los que jugará.\n",
    "#### Habilidades aplicadas: Recursividad, estructuras de datos (pilas), funciones en Python."
   ]
  },
  {
   "cell_type": "markdown",
   "metadata": {},
   "source": [
    "``Deberas hacer por lo menos uno de los tres para de la fecha de entrega, pero antes de terminar el modulo de analisis de datos tendras que entregar todos..``"
   ]
  },
  {
   "cell_type": "markdown",
   "metadata": {},
   "source": [
    "como se cual debo hacer muy simple introduce tu fecha de cumpleaños en la siguiente funcion"
   ]
  },
  {
   "cell_type": "code",
   "execution_count": 3,
   "metadata": {},
   "outputs": [],
   "source": [
    "def cual_es_mi_reto(fecha: str) -> str:\n",
    "    \"\"\"\n",
    "    Args:\n",
    "    ------\n",
    "    fecha: str el formato de la fecha es DD-MM-YYYY\n",
    "    Returns:\n",
    "    -------\n",
    "    str: el numero del reto\n",
    "    \"\"\"\n",
    "    try:\n",
    "        return int(fecha.split('-')[0]) % 3\n",
    "    except:\n",
    "        return 'La fecha tiene que ser en este formato DD-MM-YYYY'"
   ]
  },
  {
   "cell_type": "code",
   "execution_count": 4,
   "metadata": {},
   "outputs": [
    {
     "data": {
      "text/plain": [
       "2"
      ]
     },
     "execution_count": 4,
     "metadata": {},
     "output_type": "execute_result"
    }
   ],
   "source": [
    "cual_es_mi_reto(fecha='08-04-1989')"
   ]
  },
  {
   "cell_type": "markdown",
   "metadata": {},
   "source": [
    "## Reto 1: Hundir la Flota (Batalla Naval)\n",
    "### Objetivo: Implementar una versión simplificada del juego de Batalla Naval usando Python y Numpy para manejar el tablero del juego.\n",
    "\n",
    "- Crear un tablero 10x10 usando Numpy arrays.\n",
    "- Colocar 5 barcos de diferentes tamaños en posiciones aleatorias en el tablero.\n",
    "- Permitir que el jugador ingrese coordenadas para \"disparar\".\n",
    "- Mostrar un mensaje si el jugador acierta o falla, y actualizar el tablero acorde.\n",
    "- Seguir jugando hasta que todos los barcos sean hundidos.\n",
    "#### Habilidades aplicadas: Uso de arrays de Numpy, generación de números aleatorios, estructuras de control en Python."
   ]
  },
  {
   "cell_type": "code",
   "execution_count": 1,
   "metadata": {},
   "outputs": [],
   "source": [
    "import numpy as np"
   ]
  },
  {
   "cell_type": "code",
   "execution_count": 20,
   "metadata": {},
   "outputs": [
    {
     "name": "stdout",
     "output_type": "stream",
     "text": [
      "[[' ' ' ' ' ' ' ' ' ' ' ' ' ' ' ' ' ' ' ']\n",
      " [' ' ' ' ' ' ' ' ' ' ' ' ' ' ' ' ' ' ' ']\n",
      " [' ' ' ' ' ' ' ' ' ' ' ' ' ' ' ' ' ' ' ']\n",
      " [' ' ' ' ' ' ' ' ' ' ' ' ' ' ' ' ' ' ' ']\n",
      " [' ' ' ' ' ' ' ' ' ' ' ' ' ' ' ' ' ' ' ']\n",
      " [' ' ' ' ' ' ' ' ' ' ' ' ' ' ' ' ' ' ' ']\n",
      " [' ' ' ' ' ' ' ' ' ' ' ' ' ' ' ' ' ' ' ']\n",
      " [' ' ' ' ' ' ' ' ' ' ' ' ' ' ' ' ' ' ' ']\n",
      " [' ' ' ' ' ' ' ' ' ' ' ' ' ' ' ' ' ' ' ']\n",
      " [' ' ' ' ' ' ' ' ' ' ' ' ' ' ' ' ' ' ' ']]\n"
     ]
    }
   ],
   "source": [
    "tablero = np.full((10,10), fill_value=' ')\n",
    "print(tablero)"
   ]
  },
  {
   "cell_type": "code",
   "execution_count": 22,
   "metadata": {},
   "outputs": [
    {
     "name": "stdout",
     "output_type": "stream",
     "text": [
      "Barco medida:  4\n",
      "Fila:  6\n",
      "Columna:  6\n",
      "forma:  10 10\n",
      "posicion: horizontal\n"
     ]
    }
   ],
   "source": [
    "ship = np.random.randint(2,5) # Barcos de dos, tres y cuatro\n",
    "print('Barco medida: ', ship)\n",
    "row = np.random.randint(1,11) # fila\n",
    "print('Fila: ',row)\n",
    "column = row\n",
    "print('Columna: ', column)\n",
    "\n",
    "rows, columns = tablero.shape\n",
    "print('forma: ', rows, columns)\n",
    "direccion = np.random.choice(['horizontal','vertical']) \n",
    "print('posicion:', direccion)\n",
    "\n",
    "continuar = True\n",
    "\n",
    "if direccion == 'horizontal':\n",
    "    while continuar:\n",
    "        if tablero[row,column] == 'X':\n",
    "            print(\"Ya hay un barco en esa posición\")\n",
    "            continuar = False\n",
    "        \n",
    "        if column + ship > columns:\n",
    "            print(False)\n",
    "            continuar = False\n",
    "                \n",
    "        elif column + ship < columns:              \n",
    "            tablero[row,column] = 'X'\n",
    "            print(tablero)\n",
    "            column = column + 1                         \n",
    "            print('aumento de columnas: ', column)\n",
    "            ship = ship - 1\n",
    "            print('cantidad de barco por ubicar', ship)\n",
    "            if ship == 0:\n",
    "                print('Barco ubicado')\n",
    "                continuar = False\n",
    "                \n",
    "if direccion == 'vertical':\n",
    "    while continuar:\n",
    "        if row + ship > rows:\n",
    "            print(False)\n",
    "            continuar = False\n",
    "\n",
    "        elif row + ship < rows:              \n",
    "            tablero[row,column] = 'X'\n",
    "            print(tablero)\n",
    "            row = row + 1                         \n",
    "            print('aumento de filas: ', row)\n",
    "            ship = ship - 1\n",
    "            print('cantidad de barco por ubicar', ship)\n",
    "            if ship == 0:\n",
    "                print('Barco ubicado')\n",
    "                continuar = False\n",
    "                \n"
   ]
  },
  {
   "cell_type": "code",
   "execution_count": 13,
   "metadata": {},
   "outputs": [
    {
     "data": {
      "text/plain": [
       "array([[' ', ' ', ' ', ' ', ' ', ' ', ' ', ' ', ' ', ' '],\n",
       "       [' ', ' ', ' ', ' ', ' ', ' ', ' ', ' ', ' ', ' '],\n",
       "       [' ', ' ', ' ', ' ', ' ', ' ', ' ', ' ', ' ', ' '],\n",
       "       [' ', ' ', ' ', 'X', ' ', ' ', ' ', ' ', ' ', ' '],\n",
       "       [' ', ' ', ' ', ' ', ' ', ' ', ' ', ' ', ' ', ' '],\n",
       "       [' ', ' ', ' ', ' ', ' ', ' ', ' ', ' ', ' ', ' '],\n",
       "       [' ', ' ', ' ', ' ', ' ', ' ', ' ', ' ', ' ', ' '],\n",
       "       [' ', ' ', ' ', ' ', ' ', ' ', ' ', ' ', ' ', ' '],\n",
       "       [' ', ' ', ' ', ' ', ' ', ' ', ' ', ' ', ' ', ' '],\n",
       "       [' ', ' ', ' ', ' ', ' ', ' ', ' ', ' ', ' ', ' ']], dtype='<U1')"
      ]
     },
     "execution_count": 13,
     "metadata": {},
     "output_type": "execute_result"
    }
   ],
   "source": [
    "tablero"
   ]
  }
 ],
 "metadata": {
  "kernelspec": {
   "display_name": "este",
   "language": "python",
   "name": "python3"
  },
  "language_info": {
   "codemirror_mode": {
    "name": "ipython",
    "version": 3
   },
   "file_extension": ".py",
   "mimetype": "text/x-python",
   "name": "python",
   "nbconvert_exporter": "python",
   "pygments_lexer": "ipython3",
   "version": "3.11.6"
  }
 },
 "nbformat": 4,
 "nbformat_minor": 2
}
