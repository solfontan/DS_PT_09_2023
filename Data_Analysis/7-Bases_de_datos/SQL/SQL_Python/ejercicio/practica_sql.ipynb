{
 "cells": [
  {
   "cell_type": "markdown",
   "metadata": {},
   "source": [
    "## Librerías"
   ]
  },
  {
   "cell_type": "code",
   "execution_count": 6,
   "metadata": {},
   "outputs": [],
   "source": [
    "import pandas as pd\n",
    "import sqlite3"
   ]
  },
  {
   "cell_type": "markdown",
   "metadata": {},
   "source": [
    "## Instancia BBDD"
   ]
  },
  {
   "cell_type": "code",
   "execution_count": 7,
   "metadata": {},
   "outputs": [],
   "source": [
    "# Conectamos con la base de datos chinook.db\n",
    "connection = sqlite3.connect(\"datA/Bar_TB.DB\")\n",
    "\n",
    "# Obtenemos un cursor que utilizaremos para hacer las queries\n",
    "crsr = connection.cursor()"
   ]
  },
  {
   "cell_type": "markdown",
   "metadata": {},
   "source": [
    "## Función para interactuar con la BBDD"
   ]
  },
  {
   "cell_type": "code",
   "execution_count": 8,
   "metadata": {},
   "outputs": [],
   "source": [
    "# Con esta función leemos los datos y lo pasamos a un DataFrame de Pandas\n",
    "def sql_query(query):\n",
    "\n",
    "    # Ejecuta la query\n",
    "    crsr.execute(query)\n",
    "\n",
    "    # Almacena los datos de la query \n",
    "    ans = crsr.fetchall()\n",
    "\n",
    "    # Obtenemos los nombres de las columnas de la tabla\n",
    "    names = [description[0] for description in crsr.description]\n",
    "\n",
    "    return pd.DataFrame(ans,columns=names)"
   ]
  },
  {
   "cell_type": "markdown",
   "metadata": {},
   "source": [
    "## Crear las tablas"
   ]
  },
  {
   "cell_type": "markdown",
   "metadata": {},
   "source": [
    "### Ver si las tablas existen"
   ]
  },
  {
   "cell_type": "code",
   "execution_count": 9,
   "metadata": {},
   "outputs": [
    {
     "name": "stdout",
     "output_type": "stream",
     "text": [
      "cerveza\n",
      "bares\n",
      "empleados\n",
      "reparto\n"
     ]
    }
   ],
   "source": [
    "res = crsr.execute(\"SELECT name FROM sqlite_master WHERE type='table'\")\n",
    "for name in res:\n",
    "    print(name[0])"
   ]
  },
  {
   "cell_type": "markdown",
   "metadata": {},
   "source": [
    "### Tabla Cerveza"
   ]
  },
  {
   "cell_type": "code",
   "execution_count": 14,
   "metadata": {},
   "outputs": [
    {
     "ename": "OperationalError",
     "evalue": "table cerveza already exists",
     "output_type": "error",
     "traceback": [
      "\u001b[1;31m---------------------------------------------------------------------------\u001b[0m",
      "\u001b[1;31mOperationalError\u001b[0m                          Traceback (most recent call last)",
      "\u001b[1;32mc:\\Users\\Sol\\Documents\\GitHub\\DS_PT_09_2023\\Data_Analysis\\7-Bases_de_datos\\SQL\\SQL_Python\\ejercicio\\practica_sql.ipynb Cell 11\u001b[0m line \u001b[0;36m1\n\u001b[0;32m      <a href='vscode-notebook-cell:/c%3A/Users/Sol/Documents/GitHub/DS_PT_09_2023/Data_Analysis/7-Bases_de_datos/SQL/SQL_Python/ejercicio/practica_sql.ipynb#X13sZmlsZQ%3D%3D?line=0'>1</a>\u001b[0m \u001b[39m## Cualquier 0 por delante de un número es de tipo string\u001b[39;00m\n\u001b[0;32m      <a href='vscode-notebook-cell:/c%3A/Users/Sol/Documents/GitHub/DS_PT_09_2023/Data_Analysis/7-Bases_de_datos/SQL/SQL_Python/ejercicio/practica_sql.ipynb#X13sZmlsZQ%3D%3D?line=2'>3</a>\u001b[0m query_cerveza \u001b[39m=\u001b[39m \u001b[39m\"\"\"\u001b[39m\u001b[39m \u001b[39m\n\u001b[0;32m      <a href='vscode-notebook-cell:/c%3A/Users/Sol/Documents/GitHub/DS_PT_09_2023/Data_Analysis/7-Bases_de_datos/SQL/SQL_Python/ejercicio/practica_sql.ipynb#X13sZmlsZQ%3D%3D?line=3'>4</a>\u001b[0m \u001b[39mCREATE TABLE  cerveza (\u001b[39m\n\u001b[0;32m      <a href='vscode-notebook-cell:/c%3A/Users/Sol/Documents/GitHub/DS_PT_09_2023/Data_Analysis/7-Bases_de_datos/SQL/SQL_Python/ejercicio/practica_sql.ipynb#X13sZmlsZQ%3D%3D?line=4'>5</a>\u001b[0m \u001b[39m    CodC VARCHAR(3),\u001b[39m\n\u001b[1;32m   (...)\u001b[0m\n\u001b[0;32m     <a href='vscode-notebook-cell:/c%3A/Users/Sol/Documents/GitHub/DS_PT_09_2023/Data_Analysis/7-Bases_de_datos/SQL/SQL_Python/ejercicio/practica_sql.ipynb#X13sZmlsZQ%3D%3D?line=10'>11</a>\u001b[0m \n\u001b[0;32m     <a href='vscode-notebook-cell:/c%3A/Users/Sol/Documents/GitHub/DS_PT_09_2023/Data_Analysis/7-Bases_de_datos/SQL/SQL_Python/ejercicio/practica_sql.ipynb#X13sZmlsZQ%3D%3D?line=11'>12</a>\u001b[0m \u001b[39m\"\"\"\u001b[39m\n\u001b[1;32m---> <a href='vscode-notebook-cell:/c%3A/Users/Sol/Documents/GitHub/DS_PT_09_2023/Data_Analysis/7-Bases_de_datos/SQL/SQL_Python/ejercicio/practica_sql.ipynb#X13sZmlsZQ%3D%3D?line=12'>13</a>\u001b[0m crsr\u001b[39m.\u001b[39;49mexecute(query_cerveza)\n\u001b[0;32m     <a href='vscode-notebook-cell:/c%3A/Users/Sol/Documents/GitHub/DS_PT_09_2023/Data_Analysis/7-Bases_de_datos/SQL/SQL_Python/ejercicio/practica_sql.ipynb#X13sZmlsZQ%3D%3D?line=13'>14</a>\u001b[0m \u001b[39m# sql_query(query_cerveza) -- > NO FUNCIONA PORQUE ESTA FUNCIÓN EJECUTA Y SELECCIONA LO QUE HAY, PERO NO HAY NADA.\u001b[39;00m\n",
      "\u001b[1;31mOperationalError\u001b[0m: table cerveza already exists"
     ]
    }
   ],
   "source": [
    "## Cualquier 0 por delante de un número es de tipo string\n",
    "\n",
    "query_cerveza = \"\"\" \n",
    "CREATE TABLE  cerveza (\n",
    "    CodC VARCHAR(3),\n",
    "    Envase VARCHAR(50),\n",
    "    Capacidad FLOAT,\n",
    "    Stock INT\n",
    ")\n",
    "\n",
    "\n",
    "\"\"\"\n",
    "crsr.execute(query_cerveza)\n",
    "# sql_query(query_cerveza) -- > NO FUNCIONA PORQUE ESTA FUNCIÓN EJECUTA Y SELECCIONA LO QUE HAY, PERO NO HAY NADA."
   ]
  },
  {
   "cell_type": "markdown",
   "metadata": {},
   "source": [
    "### Tabla Bares"
   ]
  },
  {
   "cell_type": "code",
   "execution_count": null,
   "metadata": {},
   "outputs": [
    {
     "data": {
      "text/plain": [
       "<sqlite3.Cursor at 0x1e6a8c145c0>"
      ]
     },
     "execution_count": 10,
     "metadata": {},
     "output_type": "execute_result"
    }
   ],
   "source": [
    "query_bares = \"\"\" \n",
    "CREATE TABLE  bares (\n",
    "    CodB VARCHAR(4),\n",
    "    Nombre VARCHAR(50),\n",
    "    Cif VARCHAR(10),\n",
    "    Localidad VARCHAR(35)\n",
    ")\n",
    "\n",
    "\"\"\"\n",
    "crsr.execute(query_bares)"
   ]
  },
  {
   "cell_type": "markdown",
   "metadata": {},
   "source": [
    "### Tabla Empleados"
   ]
  },
  {
   "cell_type": "code",
   "execution_count": null,
   "metadata": {},
   "outputs": [
    {
     "data": {
      "text/plain": [
       "<sqlite3.Cursor at 0x1e6a8c145c0>"
      ]
     },
     "execution_count": 11,
     "metadata": {},
     "output_type": "execute_result"
    }
   ],
   "source": [
    "query_empleados = \"\"\" \n",
    "CREATE TABLE  empleados (\n",
    "    CodE VARCHAR(2),\n",
    "    Nombre VARCHAR(50),\n",
    "    Sueldo INT\n",
    ")\n",
    "\n",
    "\"\"\"\n",
    "crsr.execute(query_empleados)"
   ]
  },
  {
   "cell_type": "markdown",
   "metadata": {},
   "source": [
    "### Tabla Reparto"
   ]
  },
  {
   "cell_type": "code",
   "execution_count": null,
   "metadata": {},
   "outputs": [
    {
     "data": {
      "text/plain": [
       "<sqlite3.Cursor at 0x1e6a8c145c0>"
      ]
     },
     "execution_count": 13,
     "metadata": {},
     "output_type": "execute_result"
    }
   ],
   "source": [
    "query_reparto = \"\"\" \n",
    "CREATE TABLE  reparto (\n",
    "    CodE VARCHAR(2),\n",
    "    CodB VARCHAR(4),\n",
    "    CodC VARCHAR(3),\n",
    "    Fecha DATE,\n",
    "    Cantidad INT\n",
    ")\n",
    "\n",
    "\"\"\"\n",
    "crsr.execute(query_reparto)"
   ]
  },
  {
   "cell_type": "markdown",
   "metadata": {},
   "source": [
    "## Insertar datos"
   ]
  },
  {
   "cell_type": "code",
   "execution_count": null,
   "metadata": {},
   "outputs": [
    {
     "data": {
      "text/plain": [
       "<sqlite3.Cursor at 0x1e6a8c145c0>"
      ]
     },
     "execution_count": 16,
     "metadata": {},
     "output_type": "execute_result"
    }
   ],
   "source": [
    "\n",
    "query_insert = \"\"\" INSERT INTO cerveza VALUES\n",
    "('01','Botella',0.2,3600),\n",
    "('02','Botella',0.33,1200),\n",
    "('03','Lata',0.33,2400),\n",
    "('04','Botella',1,288),\n",
    "('05','Barril',60,30)\n",
    "\"\"\"\n",
    "crsr.execute(query_insert)"
   ]
  },
  {
   "cell_type": "code",
   "execution_count": null,
   "metadata": {},
   "outputs": [
    {
     "data": {
      "text/html": [
       "<div>\n",
       "<style scoped>\n",
       "    .dataframe tbody tr th:only-of-type {\n",
       "        vertical-align: middle;\n",
       "    }\n",
       "\n",
       "    .dataframe tbody tr th {\n",
       "        vertical-align: top;\n",
       "    }\n",
       "\n",
       "    .dataframe thead th {\n",
       "        text-align: right;\n",
       "    }\n",
       "</style>\n",
       "<table border=\"1\" class=\"dataframe\">\n",
       "  <thead>\n",
       "    <tr style=\"text-align: right;\">\n",
       "      <th></th>\n",
       "      <th>CodC</th>\n",
       "      <th>Envase</th>\n",
       "      <th>Capacidad</th>\n",
       "      <th>Stock</th>\n",
       "    </tr>\n",
       "  </thead>\n",
       "  <tbody>\n",
       "    <tr>\n",
       "      <th>0</th>\n",
       "      <td>01</td>\n",
       "      <td>Botella</td>\n",
       "      <td>0.20</td>\n",
       "      <td>3600</td>\n",
       "    </tr>\n",
       "    <tr>\n",
       "      <th>1</th>\n",
       "      <td>02</td>\n",
       "      <td>Botella</td>\n",
       "      <td>0.33</td>\n",
       "      <td>1200</td>\n",
       "    </tr>\n",
       "    <tr>\n",
       "      <th>2</th>\n",
       "      <td>03</td>\n",
       "      <td>Lata</td>\n",
       "      <td>0.33</td>\n",
       "      <td>2400</td>\n",
       "    </tr>\n",
       "    <tr>\n",
       "      <th>3</th>\n",
       "      <td>04</td>\n",
       "      <td>Botella</td>\n",
       "      <td>1.00</td>\n",
       "      <td>288</td>\n",
       "    </tr>\n",
       "    <tr>\n",
       "      <th>4</th>\n",
       "      <td>05</td>\n",
       "      <td>Barril</td>\n",
       "      <td>60.00</td>\n",
       "      <td>30</td>\n",
       "    </tr>\n",
       "  </tbody>\n",
       "</table>\n",
       "</div>"
      ],
      "text/plain": [
       "  CodC   Envase  Capacidad  Stock\n",
       "0   01  Botella       0.20   3600\n",
       "1   02  Botella       0.33   1200\n",
       "2   03     Lata       0.33   2400\n",
       "3   04  Botella       1.00    288\n",
       "4   05   Barril      60.00     30"
      ]
     },
     "execution_count": 17,
     "metadata": {},
     "output_type": "execute_result"
    }
   ],
   "source": [
    "pd.read_sql('select * from cerveza', connection)"
   ]
  },
  {
   "cell_type": "code",
   "execution_count": null,
   "metadata": {},
   "outputs": [
    {
     "data": {
      "text/plain": [
       "<sqlite3.Cursor at 0x1e6a8c145c0>"
      ]
     },
     "execution_count": 18,
     "metadata": {},
     "output_type": "execute_result"
    }
   ],
   "source": [
    "query_insert2 = \"\"\" \n",
    "INSERT INTO reparto (CodE, CodB, CodC, Fecha, Cantidad) VALUES\n",
    "('1', '001', '01', '2005-10-21', 240),\n",
    "('1', '001', '02', '2005-10-21', 48),\n",
    "('1', '002', '03', '2005-10-22', 60),\n",
    "('1', '004', '05', '2005-10-22', 4),\n",
    "('2', '002', '03', '2005-10-22', 48),\n",
    "('2', '002', '05', '2005-10-23', 2),\n",
    "('2', '004', '01', '2005-10-23', 480),\n",
    "('2', '004', '02', '2005-10-24', 72),\n",
    "('3', '003', '03', '2005-10-24', 48),\n",
    "('3', '003', '04', '2005-10-25', 20)\n",
    "\n",
    "\"\"\"\n",
    "crsr.execute(query_insert2)"
   ]
  },
  {
   "cell_type": "code",
   "execution_count": null,
   "metadata": {},
   "outputs": [
    {
     "data": {
      "text/plain": [
       "4"
      ]
     },
     "execution_count": 19,
     "metadata": {},
     "output_type": "execute_result"
    }
   ],
   "source": [
    "## Datos en tabla Bares\n",
    "\n",
    "bares = pd.DataFrame(\n",
    "        {  \n",
    "            'CodB' : ['001','002','003','004'],\n",
    "            'Nombre' : [ 'Stop', 'Las Vegas', 'Club Social', 'Otra Ronca'],\n",
    "            'Cif' : [ '11111111X','22222222Y',None,'33333333Z'],\n",
    "            'Localidad' : ['Villa Botijo', 'Villa Botijo','Las Ranas', 'La esponja']\n",
    "        }\n",
    ")\n",
    "\n",
    "bares.to_sql(name='bares', con=connection, if_exists=\"append\",index=False)"
   ]
  },
  {
   "cell_type": "code",
   "execution_count": null,
   "metadata": {},
   "outputs": [
    {
     "data": {
      "text/plain": [
       "3"
      ]
     },
     "execution_count": 21,
     "metadata": {},
     "output_type": "execute_result"
    }
   ],
   "source": [
    "## Datos en tabla empleado\n",
    "\n",
    "empleados = pd.DataFrame(\n",
    "        {  \n",
    "            'CodE' : ['1','2','3'],\n",
    "            'Nombre' : [ 'Prudencio Caminero', 'Vicente Merario', 'Valentin Siempre'],\n",
    "            'Sueldo' : [120000,110000,100000]\n",
    "        }\n",
    ")\n",
    "\n",
    "empleados.to_sql(name='empleados', con=connection, if_exists=\"append\",index=False)"
   ]
  },
  {
   "cell_type": "code",
   "execution_count": null,
   "metadata": {},
   "outputs": [],
   "source": [
    "connection.commit()\n",
    "connection.close()"
   ]
  },
  {
   "cell_type": "markdown",
   "metadata": {},
   "source": [
    "## Respuestas"
   ]
  },
  {
   "cell_type": "code",
   "execution_count": 15,
   "metadata": {},
   "outputs": [],
   "source": [
    "# Conectamos con la base de datos chinook.db\n",
    "connection = sqlite3.connect(\"datA/Bar_TB.DB\")\n",
    "\n",
    "# Obtenemos un cursor que utilizaremos para hacer las queries\n",
    "crsr = connection.cursor()"
   ]
  },
  {
   "cell_type": "code",
   "execution_count": 17,
   "metadata": {},
   "outputs": [
    {
     "data": {
      "text/html": [
       "<div>\n",
       "<style scoped>\n",
       "    .dataframe tbody tr th:only-of-type {\n",
       "        vertical-align: middle;\n",
       "    }\n",
       "\n",
       "    .dataframe tbody tr th {\n",
       "        vertical-align: top;\n",
       "    }\n",
       "\n",
       "    .dataframe thead th {\n",
       "        text-align: right;\n",
       "    }\n",
       "</style>\n",
       "<table border=\"1\" class=\"dataframe\">\n",
       "  <thead>\n",
       "    <tr style=\"text-align: right;\">\n",
       "      <th></th>\n",
       "      <th>CodE</th>\n",
       "      <th>CodB</th>\n",
       "      <th>CodC</th>\n",
       "      <th>Fecha</th>\n",
       "      <th>Cantidad</th>\n",
       "    </tr>\n",
       "  </thead>\n",
       "  <tbody>\n",
       "    <tr>\n",
       "      <th>0</th>\n",
       "      <td>1</td>\n",
       "      <td>001</td>\n",
       "      <td>01</td>\n",
       "      <td>2005-10-21</td>\n",
       "      <td>240</td>\n",
       "    </tr>\n",
       "    <tr>\n",
       "      <th>1</th>\n",
       "      <td>1</td>\n",
       "      <td>001</td>\n",
       "      <td>02</td>\n",
       "      <td>2005-10-21</td>\n",
       "      <td>48</td>\n",
       "    </tr>\n",
       "    <tr>\n",
       "      <th>2</th>\n",
       "      <td>1</td>\n",
       "      <td>002</td>\n",
       "      <td>03</td>\n",
       "      <td>2005-10-22</td>\n",
       "      <td>60</td>\n",
       "    </tr>\n",
       "    <tr>\n",
       "      <th>3</th>\n",
       "      <td>1</td>\n",
       "      <td>004</td>\n",
       "      <td>05</td>\n",
       "      <td>2005-10-22</td>\n",
       "      <td>4</td>\n",
       "    </tr>\n",
       "    <tr>\n",
       "      <th>4</th>\n",
       "      <td>2</td>\n",
       "      <td>002</td>\n",
       "      <td>03</td>\n",
       "      <td>2005-10-22</td>\n",
       "      <td>48</td>\n",
       "    </tr>\n",
       "    <tr>\n",
       "      <th>5</th>\n",
       "      <td>2</td>\n",
       "      <td>002</td>\n",
       "      <td>05</td>\n",
       "      <td>2005-10-23</td>\n",
       "      <td>2</td>\n",
       "    </tr>\n",
       "    <tr>\n",
       "      <th>6</th>\n",
       "      <td>2</td>\n",
       "      <td>004</td>\n",
       "      <td>01</td>\n",
       "      <td>2005-10-23</td>\n",
       "      <td>480</td>\n",
       "    </tr>\n",
       "    <tr>\n",
       "      <th>7</th>\n",
       "      <td>2</td>\n",
       "      <td>004</td>\n",
       "      <td>02</td>\n",
       "      <td>2005-10-24</td>\n",
       "      <td>72</td>\n",
       "    </tr>\n",
       "    <tr>\n",
       "      <th>8</th>\n",
       "      <td>3</td>\n",
       "      <td>003</td>\n",
       "      <td>03</td>\n",
       "      <td>2005-10-24</td>\n",
       "      <td>48</td>\n",
       "    </tr>\n",
       "    <tr>\n",
       "      <th>9</th>\n",
       "      <td>3</td>\n",
       "      <td>003</td>\n",
       "      <td>04</td>\n",
       "      <td>2005-10-25</td>\n",
       "      <td>20</td>\n",
       "    </tr>\n",
       "  </tbody>\n",
       "</table>\n",
       "</div>"
      ],
      "text/plain": [
       "  CodE CodB CodC       Fecha  Cantidad\n",
       "0    1  001   01  2005-10-21       240\n",
       "1    1  001   02  2005-10-21        48\n",
       "2    1  002   03  2005-10-22        60\n",
       "3    1  004   05  2005-10-22         4\n",
       "4    2  002   03  2005-10-22        48\n",
       "5    2  002   05  2005-10-23         2\n",
       "6    2  004   01  2005-10-23       480\n",
       "7    2  004   02  2005-10-24        72\n",
       "8    3  003   03  2005-10-24        48\n",
       "9    3  003   04  2005-10-25        20"
      ]
     },
     "execution_count": 17,
     "metadata": {},
     "output_type": "execute_result"
    }
   ],
   "source": [
    "pd.read_sql('select * from reparto', connection)"
   ]
  },
  {
   "cell_type": "code",
   "execution_count": 25,
   "metadata": {},
   "outputs": [
    {
     "data": {
      "text/html": [
       "<div>\n",
       "<style scoped>\n",
       "    .dataframe tbody tr th:only-of-type {\n",
       "        vertical-align: middle;\n",
       "    }\n",
       "\n",
       "    .dataframe tbody tr th {\n",
       "        vertical-align: top;\n",
       "    }\n",
       "\n",
       "    .dataframe thead th {\n",
       "        text-align: right;\n",
       "    }\n",
       "</style>\n",
       "<table border=\"1\" class=\"dataframe\">\n",
       "  <thead>\n",
       "    <tr style=\"text-align: right;\">\n",
       "      <th></th>\n",
       "      <th>Nombre</th>\n",
       "    </tr>\n",
       "  </thead>\n",
       "  <tbody>\n",
       "    <tr>\n",
       "      <th>0</th>\n",
       "      <td>Prudencio Caminero</td>\n",
       "    </tr>\n",
       "  </tbody>\n",
       "</table>\n",
       "</div>"
      ],
      "text/plain": [
       "               Nombre\n",
       "0  Prudencio Caminero"
      ]
     },
     "execution_count": 25,
     "metadata": {},
     "output_type": "execute_result"
    }
   ],
   "source": [
    "answer1 = \"\"\" \n",
    "select DISTINCT emp.Nombre\n",
    "from empleados as emp \n",
    "inner join reparto as re\n",
    "on re.CodE = emp.CodE\n",
    "inner join bares as ba\n",
    "on ba.CodB = re.CodB\n",
    "where ba.Nombre = \"Stop\"  and re.Fecha between '2005-10-17' and '2005-10-23'\n",
    "\n",
    "\"\"\"\n",
    "sql_query(answer1)"
   ]
  },
  {
   "cell_type": "code",
   "execution_count": null,
   "metadata": {},
   "outputs": [],
   "source": []
  }
 ],
 "metadata": {
  "kernelspec": {
   "display_name": ".venv",
   "language": "python",
   "name": "python3"
  },
  "language_info": {
   "codemirror_mode": {
    "name": "ipython",
    "version": 3
   },
   "file_extension": ".py",
   "mimetype": "text/x-python",
   "name": "python",
   "nbconvert_exporter": "python",
   "pygments_lexer": "ipython3",
   "version": "3.11.6"
  }
 },
 "nbformat": 4,
 "nbformat_minor": 2
}
