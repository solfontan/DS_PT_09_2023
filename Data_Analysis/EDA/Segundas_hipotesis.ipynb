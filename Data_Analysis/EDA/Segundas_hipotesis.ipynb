{
 "cells": [
  {
   "cell_type": "markdown",
   "metadata": {},
   "source": [
    "\n",
    "- ¿Lugares de recogida con mayor popularidad en la ciudad?\n",
    "- ¿Cómo varía la duración media entre los distintos grupos de edad?\n",
    "\n",
    "\n",
    "- ¿Varían los viajes según la estación del año?\n",
    "- ¿Analizo 4 meses o todo el año?. De esos cuatro meses pensaba como 'mediana' de ello.\n",
    "> - Clima de NYC para armar hipótesis.\n",
    "> - Primavera (marzo a mayo): Las temperaturas suelen oscilar entre 5°C a 18°C, \n",
    "> con un aumento gradual de la temperatura a medida que avanza la estación.\n",
    ">\n",
    "> - Verano (junio a agosto): Durante el verano, las temperaturas promedio suelen \n",
    "> estar en el rango de 21°C a 29°C. Pueden haber días más calurosos con temperaturas por encima \n",
    "> de los 30°C.\n",
    ">\n",
    "> - Otoño (septiembre a noviembre): En otoño, las temperaturas bajan gradualmente. \n",
    "> Las temperaturas promedio oscilan entre 13°C a 24°C. Esta es una época en la que \n",
    "> puedes disfrutar de los colores \n",
    "> otoñales de las hojas en los parques de la ciudad.\n",
    ">\n",
    "> - Invierno (diciembre a febrero): Los inviernos en Nueva York pueden ser fríos, con \n",
    "> temperaturas promedio entre -1°C y 7°C. Pueden haber días muy fríos con temperaturas bajo cero, \n",
    "> así como la posibilidad de nevadas.\n",
    "\n",
    "- **¿Con solo un año me es suficiente?**\n",
    "\n",
    "- Si agrego los años entre 2019-2022 ¿Podría analizar un año normal y otro como 'lo mínimo de viajes'\n",
    "que podrían llegar a realizarse?\n",
    "\n",
    "- ¿Serviría expandir un rango más las CitiBike? ¿O no se expanden por el turismo de dicha zona?\n",
    "- Más allá de la gente local, sus estaciones están basadas en ¿Sálidas del metro, estatuas\n",
    "restaurants conocidos? ¿Se basa en el concentración de gente?\n",
    "- ¿Dónde hay más estaciones de biciletas? y ¿Por qué?\n",
    "- ¿Puedo sacar datos a partir de otros? Por ejemplo puedo, según la duración del viaje, y su año de nacimiento, saber su género o no es posible.\n",
    "\n",
    "- ¿Los colores son esos por?\n",
    "- ¿Funciona el número de llamada por si hay problemas? habiendo tanto volumen de gente.\n",
    "\n",
    "- ¿Para que me sirve la latitud y longitud?\n",
    "**Realizar visualizaciones de mapas**\n"
   ]
  },
  {
   "cell_type": "code",
   "execution_count": null,
   "metadata": {},
   "outputs": [],
   "source": []
  }
 ],
 "metadata": {
  "language_info": {
   "name": "python"
  }
 },
 "nbformat": 4,
 "nbformat_minor": 2
}
