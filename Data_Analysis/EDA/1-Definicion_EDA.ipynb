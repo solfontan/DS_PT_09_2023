{
 "cells": [
  {
   "cell_type": "markdown",
   "metadata": {},
   "source": [
    "![imagen](./img/ejercicios.png)"
   ]
  },
  {
   "cell_type": "markdown",
   "metadata": {},
   "source": [
    "# INFORMACIÓN DEL PROYECTO"
   ]
  },
  {
   "cell_type": "markdown",
   "metadata": {},
   "source": [
    "### TÍTULO"
   ]
  },
  {
   "cell_type": "code",
   "execution_count": null,
   "metadata": {},
   "outputs": [],
   "source": [
    "#Escribe el título del proyecto en Markdown\n"
   ]
  },
  {
   "cell_type": "markdown",
   "metadata": {},
   "source": [
    "## Análisis exploratorio de datos sobre Programa Compartido de bicicletas 2011"
   ]
  },
  {
   "cell_type": "markdown",
   "metadata": {},
   "source": [
    "### TEMA"
   ]
  },
  {
   "cell_type": "code",
   "execution_count": null,
   "metadata": {},
   "outputs": [],
   "source": [
    "# Describe brevemente el tema del proyecto en Markdown"
   ]
  },
  {
   "cell_type": "markdown",
   "metadata": {},
   "source": [
    "**El uso de bicicletas como medio de transporte urbano ha experimentado un crecimiento significativo en muchas ciudades en los últimos años. \n",
    "Este proyecto se propone analizar si la estación del año ejerce una influencia o no en los patrones de uso de bicicletas sobre una ubicación geográfica específica. Los datos de la compañia de la Capital/ Washington DC se encuentran divididos por año y sus valores se componen de: fecha, temporada, temperatura ambiente, temperatura corporal, registros casuales/applicación, etc**"
   ]
  },
  {
   "cell_type": "markdown",
   "metadata": {},
   "source": [
    "### HIPÓTESIS"
   ]
  },
  {
   "cell_type": "markdown",
   "metadata": {},
   "source": [
    "Define aquí lo que será la hipótesis de tu proyecto.\n",
    "Puede que tengas más de una, pero tu proyecto lo harás teniendo una principal hipótesis."
   ]
  },
  {
   "cell_type": "code",
   "execution_count": null,
   "metadata": {},
   "outputs": [],
   "source": [
    "# Escribe tu hipótesis principal en Markdown"
   ]
  },
  {
   "cell_type": "markdown",
   "metadata": {},
   "source": [
    "**La hipótesis principal de este proyecto es que la estación del año tiene un \n",
    "impacto en la cantidad de los viajes en bicicleta. Específicamente, \n",
    "se espera que el uso de bicicletas varíe de manera estacional, con picos durante las \n",
    "estaciones más cálidas y una disminución en las estaciones más frías.**\n",
    " "
   ]
  },
  {
   "cell_type": "markdown",
   "metadata": {},
   "source": [
    "Utilización Estacional:\n",
    "- ¿Cómo varía la frecuencia de uso de las bicicletas a lo largo de las estaciones del año?\n",
    "- ¿Hay alguna estación en la que se observa un aumento o disminución significativa en el uso de bicicletas?\n",
    "\n",
    "Diferencias entre Estaciones:\n",
    "- ¿Existen patrones de uso de bicicletas distintos entre estaciones para clientes casuales y registrados?\n",
    "- ¿La duración promedio de los viajes varía en diferentes estaciones del año para estos dos grupos? ´´´#No tengo un tripduration´´´\n",
    "\n",
    "Preferencias Estacionales:\n",
    "- ¿Hay estaciones específicas del año en las que los clientes casuales tienden a usar más bicicletas que los registrados, o viceversa?\n",
    "- ¿Cómo varía la preferencia de estaciones entre los dos grupos de clientes?\n",
    "\n",
    "Patrones Diarios:\n",
    "- ¿Cómo se distribuye el uso de bicicletas a lo largo del día en diferentes estaciones del año?\n",
    "- ¿Existen horas pico o valle que difieran entre estaciones?\n",
    "\n",
    "Impacto del Clima:\n",
    "- ¿El clima en cada estación del año afecta la utilización de bicicletas de manera significativa?\n",
    "- ¿Puedes identificar alguna tendencia en la relación entre las condiciones climáticas y la elección de bicicletas por parte de los clientes?"
   ]
  },
  {
   "cell_type": "code",
   "execution_count": null,
   "metadata": {},
   "outputs": [],
   "source": []
  },
  {
   "cell_type": "markdown",
   "metadata": {},
   "source": [
    "## OBTENCIÓN DE LOS DATOS"
   ]
  },
  {
   "cell_type": "markdown",
   "metadata": {},
   "source": [
    "### DATASETS Y FUENTES ALTERNATIVAS DE DATOS"
   ]
  },
  {
   "cell_type": "markdown",
   "metadata": {},
   "source": [
    "Incluye aquí una breve descripción del dataset o datasets de los que partirás para poder evaluar tu hipótesis. <br>\n",
    "También incluye el origen de estos datos y su fuente."
   ]
  },
  {
   "cell_type": "code",
   "execution_count": null,
   "metadata": {},
   "outputs": [],
   "source": [
    "# describe la fuente de tus datos e incluye los links en Markdown"
   ]
  },
  {
   "cell_type": "markdown",
   "metadata": {},
   "source": [
    "Para llevar a cabo este proyecto, se utilizarán datos recopilados sobre un sistema \n",
    "de alquiler de bicicletas que se encuentra en Washington DC - USA. Los datos:"
   ]
  },
  {
   "cell_type": "markdown",
   "metadata": {},
   "source": [
    "1. **instant**: índice del registro.\n",
    "   - *Explicación*: Este campo simplemente contiene un número de índice que identifica cada registro en el conjunto de datos.\n",
    "\n",
    "\n",
    "2. **dteday**: fecha.\n",
    "   - *Explicación*: Este campo almacena la fecha en la que se registró la información.\n",
    "\n",
    "\n",
    "3. **season**: estación (1: primavera, 2: verano, 3: otoño, 4: invierno).\n",
    "   - *Explicación*: Indica la estación del año en la que se registraron los datos, con valores numéricos que corresponden a las estaciones.\n",
    "\n",
    "\n",
    "4. **yr**: año (0: 2011, 1: 2012).\n",
    "   - *Explicación*: Representa el año en el que se registraron los datos, donde \"0\" se refiere a 2011 y \"1\" a 2012.\n",
    "\n",
    "\n",
    "5. **mnth**: mes (1 a 12).\n",
    "   - *Explicación*: Indica el mes en el que se registraron los datos, con valores numéricos del 1 al 12 correspondientes a los meses.\n",
    "\n",
    "\n",
    "6. **hr**: hora (0 a 23).\n",
    "   - *Explicación*: Muestra la hora del día en la que se registraron los datos, en formato de 24 horas (0 a 23).\n",
    "\n",
    "\n",
    "7. **holiday**: día festivo (si el día es festivo o no).\n",
    "   - *Explicación*: Indica si el día en cuestión es un día festivo (\"1\" si lo es y \"0\" si no lo es). La información se extrae de un calendario de festivos.\n",
    "\n",
    "\n",
    "8. **weekday**: día de la semana.\n",
    "   - *Explicación*: Representa el día de la semana en el que se registraron los datos.\n",
    "\n",
    "\n",
    "9. **workingday**: si el día es laborable (1 si el día no es fin de semana ni festivo, de lo contrario 0).\n",
    "   - *Explicación*: Indica si el día es laborable (día hábil) con un valor de \"1\" si no es un fin de semana ni un día festivo, y \"0\" en caso contrario.\n",
    "\n",
    "\n",
    "10. **weathersit**: situación meteorológica.\n",
    "    - *Explicación*: Describe la situación meteorológica en el momento de la observación, con valores numéricos que representan diferentes condiciones climáticas.\n",
    "\n",
    "    1. Despejado, Pocas nubes, Parcialmente nublado, Parcialmente nublado\n",
    "    **Explicación**: Indica condiciones meteorológicas en las que el cielo está despejado o parcialmente nublado, con pocas nubes visibles.\n",
    "    2. Niebla + Nublado, Niebla + Nubes rotas, Niebla + Pocas nubes, Niebla\n",
    "    **Explicación**: Hace referencia a condiciones de niebla o bruma en combinación con nubes o cielo nublado.\n",
    "    3. Lluvia ligera, Lluvia ligera + Tormenta + Nubes dispersas, Lluvia ligera + Nubes dispersas\n",
    "    **Explicación**: Representa condiciones de lluvia ligera junto con la presencia de tormentas o nubes dispersas en el cielo.\n",
    "    4. Lluvia intensa + Granizo + Tormenta + Niebla, Nieve + Niebl\n",
    "    **Explicación**: Indica condiciones meteorológicas adversas, como lluvia intensa, granizo, tormenta, niebla o nevada con visibilidad reducida debido a la niebla.\n",
    "\n",
    "\n",
    "11. **temp**: temperatura normalizada en Celsius.\n",
    "    - *Explicación*: La temperatura se encuentra normalizada y se expresa en grados Celsius. Los valores se han ajustado y se dividen entre 41, donde 41 es la temperatura máxima posible.\n",
    "\n",
    "\n",
    "12. **atemp**: sensación térmica normalizada en Celsius.\n",
    "    - *Explicación*: Al igual que la temperatura, la sensación térmica se encuentra normalizada y se expresa en grados Celsius. Los valores se han ajustado y se dividen entre 50, donde 50 es la sensación térmica máxima posible.\n",
    "\n",
    "\n",
    "13. **hum**: humedad normalizada.\n",
    "    - *Explicación*: La humedad se encuentra normalizada y los valores se dividen entre 100, donde 100 representa la humedad máxima posible.\n",
    "\n",
    "\n",
    "14. **windspeed**: velocidad del viento normalizada.\n",
    "    - *Explicación*: La velocidad del viento se encuentra normalizada y los valores se dividen entre 67, donde 67 es la velocidad máxima posible del viento.\n",
    "\n",
    "\n",
    "15. **casual**: conteo de usuarios casuales.\n",
    "    - *Explicación*: Muestra la cantidad de usuarios que alquilaron bicicletas de forma casual.\n",
    "\n",
    "\n",
    "16. **registered**: conteo de usuarios registrados.\n",
    "    - *Explicación*: Indica la cantidad de usuarios que están registrados en el sistema y alquilaron bicicletas.\n",
    "\n",
    "\n",
    "17. **cnt**: conteo total de bicicletas alquiladas, incluyendo usuarios casuales y registrados.\n",
    "    - *Explicación*: Representa el total de bicicletas alquiladas en un período determinado, incluyendo tanto a usuarios casuales como a usuarios registrados.\n",
    "\n",
    "\n"
   ]
  },
  {
   "cell_type": "markdown",
   "metadata": {},
   "source": [
    "Muestra mediante un head() los principales datasets con los que vas a trabajar"
   ]
  },
  {
   "cell_type": "code",
   "execution_count": 6,
   "metadata": {},
   "outputs": [
    {
     "data": {
      "text/html": [
       "<div>\n",
       "<style scoped>\n",
       "    .dataframe tbody tr th:only-of-type {\n",
       "        vertical-align: middle;\n",
       "    }\n",
       "\n",
       "    .dataframe tbody tr th {\n",
       "        vertical-align: top;\n",
       "    }\n",
       "\n",
       "    .dataframe thead th {\n",
       "        text-align: right;\n",
       "    }\n",
       "</style>\n",
       "<table border=\"1\" class=\"dataframe\">\n",
       "  <thead>\n",
       "    <tr style=\"text-align: right;\">\n",
       "      <th></th>\n",
       "      <th>instant</th>\n",
       "      <th>dteday</th>\n",
       "      <th>season</th>\n",
       "      <th>yr</th>\n",
       "      <th>mnth</th>\n",
       "      <th>hr</th>\n",
       "      <th>holiday</th>\n",
       "      <th>weekday</th>\n",
       "      <th>workingday</th>\n",
       "      <th>weathersit</th>\n",
       "      <th>temp</th>\n",
       "      <th>atemp</th>\n",
       "      <th>hum</th>\n",
       "      <th>windspeed</th>\n",
       "      <th>casual</th>\n",
       "      <th>registered</th>\n",
       "      <th>cnt</th>\n",
       "    </tr>\n",
       "  </thead>\n",
       "  <tbody>\n",
       "    <tr>\n",
       "      <th>0</th>\n",
       "      <td>1</td>\n",
       "      <td>2011-01-01</td>\n",
       "      <td>1</td>\n",
       "      <td>0</td>\n",
       "      <td>1</td>\n",
       "      <td>0</td>\n",
       "      <td>0</td>\n",
       "      <td>6</td>\n",
       "      <td>0</td>\n",
       "      <td>1</td>\n",
       "      <td>0.24</td>\n",
       "      <td>0.2879</td>\n",
       "      <td>0.81</td>\n",
       "      <td>0.0</td>\n",
       "      <td>3</td>\n",
       "      <td>13</td>\n",
       "      <td>16</td>\n",
       "    </tr>\n",
       "    <tr>\n",
       "      <th>1</th>\n",
       "      <td>2</td>\n",
       "      <td>2011-01-01</td>\n",
       "      <td>1</td>\n",
       "      <td>0</td>\n",
       "      <td>1</td>\n",
       "      <td>1</td>\n",
       "      <td>0</td>\n",
       "      <td>6</td>\n",
       "      <td>0</td>\n",
       "      <td>1</td>\n",
       "      <td>0.22</td>\n",
       "      <td>0.2727</td>\n",
       "      <td>0.80</td>\n",
       "      <td>0.0</td>\n",
       "      <td>8</td>\n",
       "      <td>32</td>\n",
       "      <td>40</td>\n",
       "    </tr>\n",
       "    <tr>\n",
       "      <th>2</th>\n",
       "      <td>3</td>\n",
       "      <td>2011-01-01</td>\n",
       "      <td>1</td>\n",
       "      <td>0</td>\n",
       "      <td>1</td>\n",
       "      <td>2</td>\n",
       "      <td>0</td>\n",
       "      <td>6</td>\n",
       "      <td>0</td>\n",
       "      <td>1</td>\n",
       "      <td>0.22</td>\n",
       "      <td>0.2727</td>\n",
       "      <td>0.80</td>\n",
       "      <td>0.0</td>\n",
       "      <td>5</td>\n",
       "      <td>27</td>\n",
       "      <td>32</td>\n",
       "    </tr>\n",
       "    <tr>\n",
       "      <th>3</th>\n",
       "      <td>4</td>\n",
       "      <td>2011-01-01</td>\n",
       "      <td>1</td>\n",
       "      <td>0</td>\n",
       "      <td>1</td>\n",
       "      <td>3</td>\n",
       "      <td>0</td>\n",
       "      <td>6</td>\n",
       "      <td>0</td>\n",
       "      <td>1</td>\n",
       "      <td>0.24</td>\n",
       "      <td>0.2879</td>\n",
       "      <td>0.75</td>\n",
       "      <td>0.0</td>\n",
       "      <td>3</td>\n",
       "      <td>10</td>\n",
       "      <td>13</td>\n",
       "    </tr>\n",
       "    <tr>\n",
       "      <th>4</th>\n",
       "      <td>5</td>\n",
       "      <td>2011-01-01</td>\n",
       "      <td>1</td>\n",
       "      <td>0</td>\n",
       "      <td>1</td>\n",
       "      <td>4</td>\n",
       "      <td>0</td>\n",
       "      <td>6</td>\n",
       "      <td>0</td>\n",
       "      <td>1</td>\n",
       "      <td>0.24</td>\n",
       "      <td>0.2879</td>\n",
       "      <td>0.75</td>\n",
       "      <td>0.0</td>\n",
       "      <td>0</td>\n",
       "      <td>1</td>\n",
       "      <td>1</td>\n",
       "    </tr>\n",
       "  </tbody>\n",
       "</table>\n",
       "</div>"
      ],
      "text/plain": [
       "   instant      dteday  season  yr  mnth  hr  holiday  weekday  workingday  \\\n",
       "0        1  2011-01-01       1   0     1   0        0        6           0   \n",
       "1        2  2011-01-01       1   0     1   1        0        6           0   \n",
       "2        3  2011-01-01       1   0     1   2        0        6           0   \n",
       "3        4  2011-01-01       1   0     1   3        0        6           0   \n",
       "4        5  2011-01-01       1   0     1   4        0        6           0   \n",
       "\n",
       "   weathersit  temp   atemp   hum  windspeed  casual  registered  cnt  \n",
       "0           1  0.24  0.2879  0.81        0.0       3          13   16  \n",
       "1           1  0.22  0.2727  0.80        0.0       8          32   40  \n",
       "2           1  0.22  0.2727  0.80        0.0       5          27   32  \n",
       "3           1  0.24  0.2879  0.75        0.0       3          10   13  \n",
       "4           1  0.24  0.2879  0.75        0.0       0           1    1  "
      ]
     },
     "execution_count": 6,
     "metadata": {},
     "output_type": "execute_result"
    }
   ],
   "source": [
    "# Primer dataset\n",
    "# https://www.kaggle.com/datasets/lakshmi25npathi/bike-sharing-dataset\n",
    "\n",
    "import pandas as pd\n",
    "\n",
    "df = pd.read_csv('hour.csv', sep=',')\n",
    "df.head()"
   ]
  },
  {
   "cell_type": "code",
   "execution_count": null,
   "metadata": {},
   "outputs": [],
   "source": [
    "# Siguiente dataset...\n"
   ]
  }
 ],
 "metadata": {
  "interpreter": {
   "hash": "7c77fdb427e7cbc9bc1367dd530fc2b36aacdbbde1ac83c85833b10dfa8b831c"
  },
  "kernelspec": {
   "display_name": "Python 3.7.4 64-bit",
   "language": "python",
   "name": "python3"
  },
  "language_info": {
   "codemirror_mode": {
    "name": "ipython",
    "version": 3
   },
   "file_extension": ".py",
   "mimetype": "text/x-python",
   "name": "python",
   "nbconvert_exporter": "python",
   "pygments_lexer": "ipython3",
   "version": "3.11.6"
  },
  "orig_nbformat": 4
 },
 "nbformat": 4,
 "nbformat_minor": 2
}
