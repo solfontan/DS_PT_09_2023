{
 "cells": [
  {
   "cell_type": "markdown",
   "metadata": {},
   "source": [
    "![imagen](./img/ejercicios.png)"
   ]
  },
  {
   "cell_type": "markdown",
   "metadata": {},
   "source": [
    "# INFORMACIÓN DEL PROYECTO"
   ]
  },
  {
   "cell_type": "markdown",
   "metadata": {},
   "source": [
    "### TÍTULO"
   ]
  },
  {
   "cell_type": "code",
   "execution_count": null,
   "metadata": {},
   "outputs": [],
   "source": [
    "#Escribe el título del proyecto en Markdown\n"
   ]
  },
  {
   "cell_type": "markdown",
   "metadata": {},
   "source": [
    "## Análisis exploratorio de datos sobre Citi Bike NYC 2019 - 2020"
   ]
  },
  {
   "cell_type": "markdown",
   "metadata": {},
   "source": [
    "### TEMA"
   ]
  },
  {
   "cell_type": "code",
   "execution_count": null,
   "metadata": {},
   "outputs": [],
   "source": [
    "# Describe brevemente el tema del proyecto en Markdown"
   ]
  },
  {
   "cell_type": "markdown",
   "metadata": {},
   "source": [
    "**El uso de bicicletas como medio de transporte urbano ha experimentado un crecimiento significativo en muchas ciudades en los últimos años. \n",
    "Este proyecto se propone analizar si la estación del año ejerce una influencia o no en los patrones de uso de bicicletas sobre una ubicación geográfica específica. Los datos de la compañia  de CitiBikeNYC se encuentran divididos por mes y sus valores se componen de: duración, fecha, latitud y longitud, año de nacimiento y genéro**"
   ]
  },
  {
   "cell_type": "markdown",
   "metadata": {},
   "source": [
    "### HIPÓTESIS"
   ]
  },
  {
   "cell_type": "markdown",
   "metadata": {},
   "source": [
    "Define aquí lo que será la hipótesis de tu proyecto.\n",
    "Puede que tengas más de una, pero tu proyecto lo harás teniendo una principal hipótesis."
   ]
  },
  {
   "cell_type": "code",
   "execution_count": null,
   "metadata": {},
   "outputs": [],
   "source": [
    "# Escribe tu hipótesis principal en Markdown"
   ]
  },
  {
   "cell_type": "markdown",
   "metadata": {},
   "source": [
    "**La hipótesis principal de este proyecto es que la estación del año tiene un \n",
    "impacto en la cantidad y la duración de los viajes en bicicleta. Específicamente, \n",
    "se espera que el uso de bicicletas varíe de manera estacional, con picos durante las \n",
    "estaciones más cálidas y una disminución en las estaciones más frías.**\n",
    " "
   ]
  },
  {
   "cell_type": "markdown",
   "metadata": {},
   "source": [
    "- ¿En qué temporada suelen realizarse viajes de mayor duración?\n",
    "- ¿Lugares de recogida con mayor popularidad en la ciudad?\n",
    "- ¿Cómo varía la duración media entre los distintos grupos de edad?\n",
    "- Según el grupo de edad ¿Quién alquila más?\n",
    "\n",
    "- ¿Varían los viajes según la estación del año?\n",
    "- ¿Analizo 4 meses o todo el año?. De esos cuatro meses pensaba como 'mediana' de ello.\n",
    "> - Clima de NYC para armar hipótesis.\n",
    "> - Primavera (marzo a mayo): Las temperaturas suelen oscilar entre 5°C a 18°C, \n",
    "> con un aumento gradual de la temperatura a medida que avanza la estación.\n",
    ">\n",
    "> - Verano (junio a agosto): Durante el verano, las temperaturas promedio suelen \n",
    "> estar en el rango de 21°C a 29°C. Pueden haber días más calurosos con temperaturas por encima \n",
    "> de los 30°C.\n",
    ">\n",
    "> - Otoño (septiembre a noviembre): En otoño, las temperaturas bajan gradualmente. \n",
    "> Las temperaturas promedio oscilan entre 13°C a 24°C. Esta es una época en la que \n",
    "> puedes disfrutar de los colores \n",
    "> otoñales de las hojas en los parques de la ciudad.\n",
    ">\n",
    "> - Invierno (diciembre a febrero): Los inviernos en Nueva York pueden ser fríos, con \n",
    "> temperaturas promedio entre -1°C y 7°C. Pueden haber días muy fríos con temperaturas bajo cero, \n",
    "> así como la posibilidad de nevadas.\n",
    "\n",
    "- **¿Con solo un año me es suficiente?**\n",
    "\n",
    "- Si agrego los años entre 2019-2022 ¿Podría analizar un año normal y otro como 'lo mínimo de viajes'\n",
    "que podrían llegar a realizarse?\n",
    "\n",
    "- ¿Serviría expandir un rango más las CitiBike? ¿O no se expanden por el turismo de dicha zona?\n",
    "- Más allá de la gente local, sus estaciones están basadas en ¿Sálidas del metro, estatuas\n",
    "restaurants conocidos? ¿Se basa en el concentración de gente?\n",
    "- ¿Dónde hay más estaciones de biciletas? y ¿Por qué?\n",
    "- ¿Puedo sacar datos a partir de otros? Por ejemplo puedo, según la duración del viaje, y su año de nacimiento, saber su género o no es posible.\n",
    "\n",
    "- ¿Los colores son esos por?\n",
    "- ¿Funciona el número de llamada por si hay problemas? habiendo tanto volumen de gente.\n",
    "\n",
    "- ¿Para que me sirve la latitud y longitud?\n",
    "**Realizar visualizaciones de mapas**\n"
   ]
  },
  {
   "cell_type": "markdown",
   "metadata": {},
   "source": [
    "## OBTENCIÓN DE LOS DATOS"
   ]
  },
  {
   "cell_type": "markdown",
   "metadata": {},
   "source": [
    "### DATASETS Y FUENTES ALTERNATIVAS DE DATOS"
   ]
  },
  {
   "cell_type": "markdown",
   "metadata": {},
   "source": [
    "Incluye aquí una breve descripción del dataset o datasets de los que partirás para poder evaluar tu hipótesis. <br>\n",
    "También incluye el origen de estos datos y su fuente."
   ]
  },
  {
   "cell_type": "code",
   "execution_count": null,
   "metadata": {},
   "outputs": [],
   "source": [
    "# describe la fuente de tus datos e incluye los links en Markdown"
   ]
  },
  {
   "cell_type": "markdown",
   "metadata": {},
   "source": [
    "Para llevar a cabo este proyecto, se utilizarán datos recopilados de un sistema \n",
    "de alquiler de bicicletas CitiBikeNYC en la ciudad de Ney York City - USA. Los datos incluirán información sobre la fecha y hora de \n",
    "inicio y finalización de cada viaje, la ubicación de inicio y destino, tipo de usuario, año de nacimiento, género, etc."
   ]
  },
  {
   "cell_type": "markdown",
   "metadata": {},
   "source": [
    "Muestra mediante un head() los principales datasets con los que vas a trabajar"
   ]
  },
  {
   "cell_type": "code",
   "execution_count": null,
   "metadata": {},
   "outputs": [],
   "source": [
    "# Primer dataset\n",
    "# CitiBike2019\n",
    "#https://www.kaggle.com/datasets/ongks1986/new-york-city-bike-sharing-2019/code"
   ]
  },
  {
   "cell_type": "code",
   "execution_count": null,
   "metadata": {},
   "outputs": [],
   "source": [
    "# Siguiente dataset...\n",
    "#Ver si sirve. Clima de NYC\n",
    "#https://es.weatherspark.com/h/m/23912/2019/5/Tiempo-hist%C3%B3rico-en-mayo-de-2019-en-Nueva-York-Estados-Unidos#Figures-Temperature"
   ]
  },
  {
   "cell_type": "code",
   "execution_count": null,
   "metadata": {},
   "outputs": [],
   "source": []
  }
 ],
 "metadata": {
  "interpreter": {
   "hash": "7c77fdb427e7cbc9bc1367dd530fc2b36aacdbbde1ac83c85833b10dfa8b831c"
  },
  "kernelspec": {
   "display_name": "Python 3.7.4 64-bit",
   "language": "python",
   "name": "python3"
  },
  "language_info": {
   "codemirror_mode": {
    "name": "ipython",
    "version": 3
   },
   "file_extension": ".py",
   "mimetype": "text/x-python",
   "name": "python",
   "nbconvert_exporter": "python",
   "pygments_lexer": "ipython3",
   "version": "3.7.4"
  },
  "orig_nbformat": 4
 },
 "nbformat": 4,
 "nbformat_minor": 2
}
