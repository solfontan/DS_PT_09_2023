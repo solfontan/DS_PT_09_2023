{
 "cells": [
  {
   "cell_type": "markdown",
   "metadata": {},
   "source": [
    "# Ejercicios\n",
    "\n",
    "Crea las siguientes visualizaciones utilizando lo que has aprendido hasta este punto. Utiliza los datos del directorio data/ de este capítulo:\n",
    "\n",
    "1. Traza el mínimo móvil de 20 días del precio de cierre de Facebook usando pandas.\n",
    "2. Crea un histograma y un KDE del cambio desde la apertura hasta el cierre en el precio de las acciones de Facebook.\n",
    "3. Utilizando los datos de terremotos, crea gráficos de caja para las magnitudes de cada magTipo utilizado en Indonesia.\n",
    "4. Haz un gráfico de líneas de la diferencia entre el precio máximo semanal y el precio mínimo semanal de Facebook. Debe ser una sola línea.\n",
    "5. Traza la media móvil de 14 días de la variación diaria de nuevos casos de COVID-19 en Brasil, China, India, Italia, España y EE.UU.:\n",
    "- a) En primer lugar, utilice el método diff() que se introdujo en la sección Trabajar con datos de series temporales del Capítulo 4, Agregación de DataFrames de Pandas, para calcular el cambio día a día en los nuevos casos. A continuación, utilice rolling() para calcular la media móvil de 14 días.\n",
    "- b) Haga tres subplot: una para China; otra para España e Italia; y otra para Brasil, India y EEUU.\n",
    "6. Utilizando matplotlib y pandas, crea dos subplot que muestren el efecto que ha tenido la negociación fuera de horario en los precios de las acciones de Facebook:\n",
    "- a) El primer subplot contendrá un gráfico de líneas de la diferencia diaria entre el precio de apertura de ese día y el precio de cierre del día anterior (asegúrate de revisar la sección Trabajar con datos de series temporales del Capítulo 4, Agregación de DataFrames de Pandas, para ver una forma sencilla de hacerlo).\n",
    "- b) El segundo subgrupo será un gráfico de barras que mostrará el efecto neto mensual, utilizando resample().\n",
    "- c) Bonus #1: Colorea las barras según haya ganancias en el precio de las acciones (verde) o caídas en el precio de las acciones (rojo).\n",
    "- d) Bonus #2: Modifique el eje x del gráfico de barras para mostrar la abreviatura de tres letras del mes."
   ]
  },
  {
   "cell_type": "code",
   "execution_count": null,
   "metadata": {},
   "outputs": [],
   "source": []
  }
 ],
 "metadata": {
  "language_info": {
   "name": "python"
  }
 },
 "nbformat": 4,
 "nbformat_minor": 2
}
