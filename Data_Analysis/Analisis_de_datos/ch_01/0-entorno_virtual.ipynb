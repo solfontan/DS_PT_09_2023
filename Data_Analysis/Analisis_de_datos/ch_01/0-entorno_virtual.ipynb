{
 "cells": [
  {
   "cell_type": "markdown",
   "metadata": {},
   "source": [
    "# Entorno Virtual"
   ]
  },
  {
   "cell_type": "markdown",
   "metadata": {},
   "source": [
    "La mayoría de las veces, cuando queremos instalar software en nuestro ordenador, simplemente lo descargamos, pero la naturaleza de los lenguajes de programación, en los que los paquetes se actualizan constantemente y dependen de versiones específicas de otros, hace que esto pueda causar problemas. Podríamos estar trabajando en un proyecto un día en el que necesitamos una determinada versión de un paquete de Python (digamos 0.9.1), pero al día siguiente estar trabajando en un análisis en el que necesitamos la versión más reciente de ese mismo paquete para acceder a alguna funcionalidad más reciente (1.1.0). Parece que no habría ningún problema, ¿verdad? Pues bien, ¿qué ocurre si esta actualización provoca un cambio de última hora en el primer proyecto o en otro paquete de nuestro proyecto que dependa de éste? Este es un problema tan común que ya existe una solución para evitarlo: los entornos virtuales.\n",
    "\n",
    "\n",
    "Un entorno virtual nos permite crear entornos separados para cada uno de nuestros proyectos. Cada uno de nuestros entornos sólo tendrá instalados los paquetes que necesite. Esto facilita compartir nuestro entorno con otros, tener varias versiones del mismo paquete instaladas en nuestra máquina para distintos proyectos sin que interfieran entre sí, y evitar efectos secundarios inesperados por instalar paquetes que se actualizan o tienen dependencias con otros. Es una buena práctica crear un entorno virtual dedicado para cualquier proyecto en el que trabajemos.\n",
    "\n",
    "Vamos a discutir dos formas comunes de lograr esta configuración, y usted puede decidir cuál se adapta mejor. Ten en cuenta que todo el código de esta sección se ejecutará en la línea de comandos."
   ]
  },
  {
   "cell_type": "markdown",
   "metadata": {},
   "source": [
    "## venv\n",
    "\n",
    "Python 3 viene con el módulo venv, que creará un entorno virtual en la ubicación que elijamos. El proceso de configuración y uso de un entorno de desarrollo es el siguiente (una vez instalado Python):\n",
    "\n",
    "1. Crear una carpeta para el proyecto.\n",
    "2. Utiliza venv para crear un entorno en esta carpeta.\n",
    "3. Active el entorno.\n",
    "4. Instala los paquetes de Python en el entorno con pip.\n",
    "5. Desactiva el entorno cuando hayas terminado.\n",
    "\n",
    "En la práctica, crearemos entornos para cada proyecto en el que trabajemos, por lo que nuestro primer paso será crear un directorio para todos los archivos de nuestro proyecto. Para ello, podemos utilizar el comando mkdir. Una vez creado éste, cambiaremos nuestro directorio actual por el recién creado utilizando el comando cd. Dado que ya hemos obtenido los archivos del proyecto (de las instrucciones en la sección de materiales del capítulo), lo siguiente es sólo para referencia. Para crear un nuevo directorio y movernos a ese directorio, podemos utilizar el siguiente comando:\n",
    "\n",
    "Antes de seguir adelante, utilice cd para navegar hasta el directorio que contiene el repositorio de este libro. Tenga en cuenta que la ruta dependerá de dónde se clonó/descargó:\n",
    "\n",
    "Dado que existen ligeras diferencias en los sistemas operativos para los pasos restantes, repasaremos Windows y Linux/macOS por separado. Ten en cuenta que si tienes Python 2 y Python 3, asegúrate de usar python3 y no python en los siguientes comandos\n",
    "\n"
   ]
  },
  {
   "cell_type": "markdown",
   "metadata": {},
   "source": [
    "## Windows\n",
    "\n",
    "Para crear nuestro entorno para este modulo, utilizaremos el módulo venv de la biblioteca estándar. Tenga en cuenta que debemos proporcionar un nombre para nuestro entorno (.venv). Recuerda, si tu configuración de Windows tiene python asociado con Python 3, entonces usa python en lugar de python3 en el siguiente comando:\n",
    "\n",
    "> C:\\...> python -m venv .venv\n",
    "\n",
    "Ahora, tenemos una carpeta para nuestro entorno virtual llamada data_analisis dentro de la carpeta del repositorio que clonamos/descargamos anteriormente. Para poder utilizar el entorno, necesitamos activarlo:\n",
    "\n",
    "si usamos CDM:\n",
    "\n",
    "> C:> %cd%\\.venv\\Scripts\\activate.bat\n",
    "\n",
    "si utilizamos PS:\n",
    "\n",
    "1. Abrir una consolola PS con permisos de administrador\n",
    "\n",
    "2. Pegar el siguiente codigo\n",
    "\n",
    "    > Set-ExecutionPolicy -Scope LocalMachine -ExecutionPolicy RemoteSigned\n",
    "\n",
    "3. En la terminal de VSCode\n",
    "\n",
    "> C:> %cd%\\.venv\\Scripts\\Activate\n",
    "\n",
    "Tenga en cuenta que después de activar el entorno virtual, podemos ver (data_analisis) delante de nuestro símbolo del sistema en la línea de comandos; esto nos permite saber que estamos en el medio ambiente:\n",
    "\n",
    "> (.venv) C:\\\\...>\n",
    "\n",
    "Cuando hayamos terminado de utilizar el entorno, simplemente lo desactivamos:\n",
    "\n",
    "> (.venv) C:\\...> deactivate\n",
    "\n",
    "Los paquetes instalados en el entorno no existen fuera de él. Observe que ya no tenemos (.venv) delante de nuestro prompt en la línea de comandos.\n",
    "línea de comandos. Puedes leer más sobre venv en la documentación de Python en https://docs. python.org/3/library/venv.html."
   ]
  },
  {
   "cell_type": "markdown",
   "metadata": {},
   "source": [
    "## Linux/macOS\n",
    "\n",
    "Para crear nuestro entorno para este modulo, utilizaremos el módulo venv de la biblioteca estándar. Tenga en cuenta que debemos proporcionar un nombre para nuestro entorno (.venv):\n",
    "\n",
    "> $ python3 -m venv .venv\n",
    "\n",
    "Ahora, tenemos una carpeta para nuestro entorno virtual llamada data_analisis dentro de la carpeta del repositorio que clonamos/descargamos anteriormente. Para poder utilizar el entorno, necesitamos activarlo:\n",
    "\n",
    "> $ source .venv/bin/activate\n",
    "\n",
    "Observa que después de activar el entorno virtual, podemos ver (.venv) delante de nuestro prompt en la línea de comandos; esto nos permite saber que estamos en el entorno:\n",
    "\n",
    "> (.venv) $\n",
    "\n",
    "Cuando hayamos terminado de utilizar el entorno, simplemente lo desactivamos:\n",
    "\n",
    "> (.venv) $ desactivar\n",
    "\n",
    "Los paquetes instalados en el entorno no existen fuera de él. Observe que ya no tenemos (.venv) delante de nuestro prompt en la línea de comandos. Puedes leer más sobre venv en la documentación de Python en https://docs. python.org/3/library/venv.html."
   ]
  },
  {
   "cell_type": "markdown",
   "metadata": {},
   "source": [
    "---------"
   ]
  },
  {
   "cell_type": "markdown",
   "metadata": {},
   "source": [
    "# pyenv para Windows\n",
    "\n",
    "## Introducción\n",
    "pyenv para python es una gran herramienta pero, al igual que rbenv para los desarrolladores de ruby, no soporta directamente Windows. \n",
    "\n",
    "## pyenv\n",
    "pyenv es una sencilla herramienta de gestión de versiones de Python. Te permite cambiar fácilmente entre múltiples versiones de Python. Es simple, discreta, y sigue la tradición UNIX de herramientas de propósito único que hacen bien una cosa.\n",
    "\n",
    "## Inicio rápido\n",
    "\n",
    "1. Instala pyenv-win en PowerShell.\n",
    "\n",
    "> Set-ExecutionPolicy RemoteSigned\n",
    "\n",
    "> Invoke-WebRequest -UseBasicParsing -Uri \"https://raw.githubusercontent.com/pyenv-win/pyenv-win/master/pyenv-win/install-pyenv-win.ps1\" -OutFile \"./install-pyenv-win.ps1\"; &\"./install-pyenv-win.ps1\"\n",
    "\n",
    "2. Vuelva a abrir PowerShell\n",
    "\n",
    "3. Ejecute \n",
    "> pyenv --version \n",
    "para comprobar si la instalación se ha realizado correctamente.\n",
    "\n",
    "4. Ejecute \n",
    "> pyenv install -l \n",
    "para comprobar una lista de versiones de Python soportadas por pyenv-win\n",
    "\n",
    "5. Ejecute \n",
    "> pyenv install <version> \n",
    "para instalar la versión soportada\n",
    "\n",
    "6. Ejecuta \n",
    "pyenv global <version> \n",
    "para establecer una versión de Python como versión global\n",
    "\n",
    "7.Comprueba qué versión de Python estás utilizando y su ruta\n",
    "\n",
    "> python\n",
    "Python <version> (tags/v<version>:<etiqueta>, <fecha>, <hora>) [MSC v.1935 64 bit (AMD64)] on win32\n",
    "Type \"help\", \"copyright\", \"credits\" or \"license\" for more information.\n",
    "\n",
    "comandos de pyenv-win\n",
    "\n",
    "commands     Lista todos los comandos disponibles de pyenv\n",
    "local        Establecer o mostrar la versión local de Python específica de la aplicación\n",
    "global       Establece o muestra la versión global de Python\n",
    "shell        Establecer o mostrar la versión de Python específica del shell\n",
    "install      Instalar 1 o más versiones de Python\n",
    "uninstall    Desinstalar 1 o más versiones de Python\n",
    "update       Actualizar la versión en caché DB\n",
    "rehash       Rehash pyenv shims (ejecutar esto después de cambiar las versiones de Python)\n",
    "vname        Mostrar la versión actual de Python\n",
    "version      Mostrar la versión actual de Python y su origen\n",
    "version-name Mostrar la versión actual de Python\n",
    "versions     Lista todas las versiones de Python disponibles para pyenv\n",
    "exec         Ejecuta un ejecutable preparando primero PATH para que el Python seleccionado\n",
    "which        Muestra la ruta completa a un ejecutable\n",
    "whence       Lista todas las versiones de Python que contienen el ejecutable dado        "
   ]
  }
 ],
 "metadata": {
  "language_info": {
   "name": "python"
  }
 },
 "nbformat": 4,
 "nbformat_minor": 2
}
