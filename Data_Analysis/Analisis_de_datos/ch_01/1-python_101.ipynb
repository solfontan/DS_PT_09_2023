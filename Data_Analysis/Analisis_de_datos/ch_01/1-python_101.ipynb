{
 "cells": [
  {
   "cell_type": "markdown",
   "metadata": {},
   "source": [
    "# Python 101\n",
    "\n",
    "Este es un cuaderno opcional para ponerte al día con Python en caso de que seas nuevo en Python o necesites un repaso. El material aquí es un curso intensivo de Python; recomiendo encarecidamente el [tutorial oficial de Python](https://docs.python.org/3/tutorial/) para una inmersión más profunda. Considera leer [esta página](https://docs.python.org/3/tutorial/appetite.html) en los documentos de Python para obtener más información sobre Python y marcar el [glosario](https://docs.python.org/3/glossary.html#glossary).\n",
    "\n",
    "## Tipos de datos básicos\n",
    "### Números\n",
    "Los números en Python pueden ser representados como enteros (ej. `5`) o flotantes (ej. `5.0`). Podemos realizar operaciones con ellos:"
   ]
  },
  {
   "cell_type": "code",
   "execution_count": null,
   "metadata": {},
   "outputs": [],
   "source": [
    "5 + 6"
   ]
  },
  {
   "cell_type": "code",
   "execution_count": null,
   "metadata": {},
   "outputs": [],
   "source": [
    "2.5 / 3"
   ]
  },
  {
   "cell_type": "markdown",
   "metadata": {},
   "source": [
    "### Booleans\n",
    "\n",
    "Podemos comprobar la igualdad dándonos un booleano:"
   ]
  },
  {
   "cell_type": "code",
   "execution_count": null,
   "metadata": {},
   "outputs": [],
   "source": [
    "5 == 6"
   ]
  },
  {
   "cell_type": "code",
   "execution_count": null,
   "metadata": {},
   "outputs": [],
   "source": [
    "5 < 6"
   ]
  },
  {
   "cell_type": "markdown",
   "metadata": {},
   "source": [
    "Estas sentencias pueden combinarse con operadores lógicos: `not`, `and`, `or`"
   ]
  },
  {
   "cell_type": "code",
   "execution_count": null,
   "metadata": {},
   "outputs": [],
   "source": [
    "(5 < 6) and not (5 == 6)"
   ]
  },
  {
   "cell_type": "code",
   "execution_count": null,
   "metadata": {},
   "outputs": [],
   "source": [
    "False or True"
   ]
  },
  {
   "cell_type": "code",
   "execution_count": null,
   "metadata": {},
   "outputs": [],
   "source": [
    "True or False"
   ]
  },
  {
   "cell_type": "markdown",
   "metadata": {},
   "source": [
    "### Strings\n",
    "Usando cadenas, podemos manejar texto en Python. Estos valores deben ir entre comillas &mdash; single (`'...'`) es el estándar, pero double (`\"...\"`) también funciona:"
   ]
  },
  {
   "cell_type": "code",
   "execution_count": null,
   "metadata": {},
   "outputs": [],
   "source": [
    "'hola'"
   ]
  },
  {
   "cell_type": "markdown",
   "metadata": {},
   "source": [
    "También podemos realizar operaciones con cadenas. Por ejemplo, podemos ver cuánto mide con `len()`:"
   ]
  },
  {
   "cell_type": "code",
   "execution_count": null,
   "metadata": {},
   "outputs": [],
   "source": [
    "len('hola')"
   ]
  },
  {
   "cell_type": "markdown",
   "metadata": {},
   "source": [
    "Podemos seleccionar partes de la cadena especificando el **índice** tenga en cuenta que en Python el carácter 1 <sup>er</sup> está en el índice 0:"
   ]
  },
  {
   "cell_type": "code",
   "execution_count": null,
   "metadata": {},
   "outputs": [],
   "source": [
    "'hola'[0]"
   ]
  },
  {
   "cell_type": "markdown",
   "metadata": {},
   "source": [
    "Podemos concatenar cadenas con `+`:"
   ]
  },
  {
   "cell_type": "code",
   "execution_count": null,
   "metadata": {},
   "outputs": [],
   "source": [
    "'hola' + ' ' + 'mundo!'"
   ]
  },
  {
   "cell_type": "markdown",
   "metadata": {},
   "source": [
    "Podemos comprobar si hay caracteres en la cadena con el operador `in`:"
   ]
  },
  {
   "cell_type": "code",
   "execution_count": null,
   "metadata": {},
   "outputs": [],
   "source": [
    "'h' in 'hola'"
   ]
  },
  {
   "cell_type": "markdown",
   "metadata": {},
   "source": [
    "## Variables\n",
    "Fíjate en que el simple hecho de escribir texto provoca un error. Los errores en Python intentan darnos una pista de lo que ha ido mal en nuestro código. En este caso, tenemos una excepción `NameError` que nos dice que `'hola'` no está definido. Esto significa que [el intérprete de Python](https://docs.python.org/3/tutorial/interpreter.html) buscó una **variable** llamada `hola`, pero no la encontró."
   ]
  },
  {
   "cell_type": "code",
   "execution_count": null,
   "metadata": {},
   "outputs": [],
   "source": [
    "hola"
   ]
  },
  {
   "cell_type": "markdown",
   "metadata": {},
   "source": [
    "Las variables nos permiten almacenar tipos de datos. Definimos una variable utilizando la sintaxis `nombre_variable = valor`:"
   ]
  },
  {
   "cell_type": "code",
   "execution_count": null,
   "metadata": {},
   "outputs": [],
   "source": [
    "x = 5\n",
    "y = 7\n",
    "x + y"
   ]
  },
  {
   "cell_type": "markdown",
   "metadata": {},
   "source": [
    "El nombre de la variable no puede contener espacios; normalmente utilizamos `_` en su lugar. Los mejores nombres de variable son los descriptivos:"
   ]
  },
  {
   "cell_type": "code",
   "execution_count": null,
   "metadata": {},
   "outputs": [],
   "source": [
    "bootcamp_the_bridge = 'Bootcamp Data Science PT 09/23'"
   ]
  },
  {
   "cell_type": "markdown",
   "metadata": {},
   "source": [
    "Las variables pueden ser de cualquier tipo de datos. Podemos comprobar cuál es con `type()`, que es una **función** (más sobre esto más adelante):"
   ]
  },
  {
   "cell_type": "code",
   "execution_count": null,
   "metadata": {},
   "outputs": [],
   "source": [
    "type(x)"
   ]
  },
  {
   "cell_type": "code",
   "execution_count": null,
   "metadata": {},
   "outputs": [],
   "source": [
    "type(bootcamp_the_bridge)"
   ]
  },
  {
   "cell_type": "markdown",
   "metadata": {},
   "source": [
    "Si necesitamos ver el valor de una variable, podemos imprimirlo utilizando la función `print()`:"
   ]
  },
  {
   "cell_type": "code",
   "execution_count": null,
   "metadata": {},
   "outputs": [],
   "source": [
    "print(bootcamp_the_bridge)"
   ]
  },
  {
   "cell_type": "markdown",
   "metadata": {},
   "source": [
    "## Colecciones de items\n",
    "\n",
    "### Listas\n",
    "Podemos almacenar una colección de elementos en una lista:"
   ]
  },
  {
   "cell_type": "code",
   "execution_count": null,
   "metadata": {},
   "outputs": [],
   "source": [
    "['hola', ' ', 'mundo!']"
   ]
  },
  {
   "cell_type": "markdown",
   "metadata": {},
   "source": [
    "La lista puede almacenarse en una variable. Tenga en cuenta que los elementos de la lista pueden ser de distintos tipos:"
   ]
  },
  {
   "cell_type": "code",
   "execution_count": null,
   "metadata": {},
   "outputs": [],
   "source": [
    "mi_lista = ['hola', 3.11, True, 'Python']\n",
    "type(mi_lista)"
   ]
  },
  {
   "cell_type": "markdown",
   "metadata": {},
   "source": [
    "Podemos ver cuántos elementos hay en la lista con `len()`:"
   ]
  },
  {
   "cell_type": "code",
   "execution_count": null,
   "metadata": {},
   "outputs": [],
   "source": [
    "len(mi_lista)"
   ]
  },
  {
   "cell_type": "markdown",
   "metadata": {},
   "source": [
    "También podemos utilizar el operador `in` para comprobar si un valor está en la lista:"
   ]
  },
  {
   "cell_type": "code",
   "execution_count": null,
   "metadata": {},
   "outputs": [],
   "source": [
    "'mundo' in mi_lista"
   ]
  },
  {
   "cell_type": "markdown",
   "metadata": {},
   "source": [
    "Podemos seleccionar elementos de la lista igual que hacíamos con las cadenas, proporcionando el índice a seleccionar:"
   ]
  },
  {
   "cell_type": "code",
   "execution_count": null,
   "metadata": {},
   "outputs": [],
   "source": [
    "mi_lista[1]"
   ]
  },
  {
   "cell_type": "markdown",
   "metadata": {},
   "source": [
    "Python también nos permite utilizar valores negativos, por lo que podemos seleccionar fácilmente el último:"
   ]
  },
  {
   "cell_type": "code",
   "execution_count": null,
   "metadata": {},
   "outputs": [],
   "source": [
    "mi_lista[-1]"
   ]
  },
  {
   "cell_type": "markdown",
   "metadata": {},
   "source": [
    "Otra potente característica de las listas (y de las string) es el **slicing**. Podemos coger los 2 elementos centrales de la lista:"
   ]
  },
  {
   "cell_type": "code",
   "execution_count": null,
   "metadata": {},
   "outputs": [],
   "source": [
    "mi_lista[1:3]"
   ]
  },
  {
   "cell_type": "markdown",
   "metadata": {},
   "source": [
    "... o cualquier otro:"
   ]
  },
  {
   "cell_type": "code",
   "execution_count": null,
   "metadata": {},
   "outputs": [],
   "source": [
    "mi_lista[::2]"
   ]
  },
  {
   "cell_type": "markdown",
   "metadata": {},
   "source": [
    "Incluso podemos seleccionar la lista a la inversa:"
   ]
  },
  {
   "cell_type": "code",
   "execution_count": null,
   "metadata": {},
   "outputs": [],
   "source": [
    "mi_lista[::-1]"
   ]
  },
  {
   "cell_type": "markdown",
   "metadata": {},
   "source": [
    "Nota: Esta sintaxis es `[star:stop:step]` donde la selección incluye el índice de inicio, pero excluye el índice de parada. Si no se indica `start`, se utiliza `0`. Si no se proporciona `stop`, se utiliza el número de elementos (4, en nuestro caso); esto funciona porque `stop` es exclusivo. Si no se proporciona `step`, es 1.\n",
    "\n",
    "Podemos utilizar el método `join()` sobre un objeto string para concatenar todos los elementos de una lista en una sola cadena. La cadena sobre la que llamemos al método `join()` se utilizará como separador, aquí la separamos con una tubería (|):"
   ]
  },
  {
   "cell_type": "code",
   "execution_count": null,
   "metadata": {},
   "outputs": [],
   "source": [
    "'|'.join(['x', 'y', 'z'])"
   ]
  },
  {
   "cell_type": "markdown",
   "metadata": {},
   "source": [
    "### Tuplas\n",
    "Las tuplas son similares a las listas; sin embargo, no pueden modificarse después de su creación, es decir, son **inmutables**. En lugar de corchetes, utilizamos paréntesis para crear tuplas:"
   ]
  },
  {
   "cell_type": "code",
   "execution_count": null,
   "metadata": {},
   "outputs": [],
   "source": [
    "mi_tupla = ('a', 5)\n",
    "type(mi_tupla)"
   ]
  },
  {
   "cell_type": "code",
   "execution_count": null,
   "metadata": {},
   "outputs": [],
   "source": [
    "mi_tupla[0]"
   ]
  },
  {
   "cell_type": "markdown",
   "metadata": {},
   "source": [
    "Los objetos inmutables no se pueden modificar:"
   ]
  },
  {
   "cell_type": "code",
   "execution_count": null,
   "metadata": {},
   "outputs": [],
   "source": [
    "mi_tupla[0] = 'b'"
   ]
  },
  {
   "cell_type": "markdown",
   "metadata": {},
   "source": [
    "### Diccionarios\n",
    "Podemos almacenar mapeos de pares clave-valor utilizando diccionarios:"
   ]
  },
  {
   "cell_type": "code",
   "execution_count": null,
   "metadata": {},
   "outputs": [],
   "source": [
    "lista_compra = {\n",
    "    'vegetales': ['puerro', 'cebolla', 'pimientos'],\n",
    "    'frutas': 'bananas',\n",
    "    'carne': 0    \n",
    "}\n",
    "type(lista_compra)"
   ]
  },
  {
   "cell_type": "markdown",
   "metadata": {},
   "source": [
    "Para acceder a los valores asociados a una clave concreta, volvemos a utilizar la notación de corchetes:"
   ]
  },
  {
   "cell_type": "code",
   "execution_count": null,
   "metadata": {},
   "outputs": [],
   "source": [
    "lista_compra['vegetales']"
   ]
  },
  {
   "cell_type": "markdown",
   "metadata": {},
   "source": [
    "Podemos extraer todas las claves con `keys()`:"
   ]
  },
  {
   "cell_type": "code",
   "execution_count": null,
   "metadata": {},
   "outputs": [],
   "source": [
    "lista_compra.keys()"
   ]
  },
  {
   "cell_type": "markdown",
   "metadata": {},
   "source": [
    "Podemos extraer todos los valores con `values()`:"
   ]
  },
  {
   "cell_type": "code",
   "execution_count": null,
   "metadata": {},
   "outputs": [],
   "source": [
    "lista_compra.values()"
   ]
  },
  {
   "cell_type": "markdown",
   "metadata": {},
   "source": [
    "Por último, podemos llamar a `items()` para recuperar pares de pares (clave, valor):"
   ]
  },
  {
   "cell_type": "code",
   "execution_count": null,
   "metadata": {},
   "outputs": [],
   "source": [
    "lista_compra.items()"
   ]
  },
  {
   "cell_type": "markdown",
   "metadata": {},
   "source": [
    "### Sets\n",
    "Un set es una colección de elementos únicos; un uso común es eliminar duplicados de una lista. También se escriben con llaves, pero no hay asignación clave-valor:"
   ]
  },
  {
   "cell_type": "code",
   "execution_count": null,
   "metadata": {},
   "outputs": [],
   "source": [
    "mi_set = {1, 1, 2, 'a'}\n",
    "type(mi_set)"
   ]
  },
  {
   "cell_type": "markdown",
   "metadata": {},
   "source": [
    "¿Cuántos artículos hay en este set?"
   ]
  },
  {
   "cell_type": "code",
   "execution_count": null,
   "metadata": {},
   "outputs": [],
   "source": [
    "len(mi_set)"
   ]
  },
  {
   "cell_type": "markdown",
   "metadata": {},
   "source": [
    "Ponemos 4 artículos pero el set sólo tiene 3 porque se eliminan los duplicados:"
   ]
  },
  {
   "cell_type": "code",
   "execution_count": null,
   "metadata": {},
   "outputs": [],
   "source": [
    "mi_set"
   ]
  },
  {
   "cell_type": "markdown",
   "metadata": {},
   "source": [
    "Podemos comprobar si un valor está en el set:"
   ]
  },
  {
   "cell_type": "code",
   "execution_count": null,
   "metadata": {},
   "outputs": [],
   "source": [
    "2 in mi_set"
   ]
  },
  {
   "cell_type": "markdown",
   "metadata": {},
   "source": [
    "## Funciones\n",
    "Podemos definir funciones para empaquetar nuestro código y reutilizarlo. Ya hemos visto algunas funciones: `len()`, `type()`, y `print()`. Todas ellas son funciones que toman **argumentos**. Tenga en cuenta que las funciones no necesitan aceptar argumentos, en cuyo caso se llaman sin pasar nada (por ejemplo, `print()` frente a `print(mi_cadena)`).\n",
    "\n",
    "*Además, también podemos crear listas, conjuntos, diccionarios y tuplas con funciones: `list()`, `set()`, `dict()` y `tuple()`*.\n",
    "\n",
    "### Definición de funciones\n",
    "\n",
    "Utilizamos la palabra clave `def` para definir funciones. Vamos a crear una función llamada `add()` con 2 parámetros, `x` y `y`, que serán los nombres que usará el código de la función para referirse a los argumentos que le pasemos al llamarla:"
   ]
  },
  {
   "cell_type": "code",
   "execution_count": null,
   "metadata": {},
   "outputs": [],
   "source": [
    "def add(x, y):\n",
    "    \"\"\"Esto es un docstring. Se utiliza para explicar cómo funciona el código y es opcional (pero recomendable).\"\"\"\n",
    "    # esto es un comentario; nos permite anotar el código\n",
    "    print(\"Interpretar la adición\")\n",
    "    return x + y"
   ]
  },
  {
   "cell_type": "markdown",
   "metadata": {},
   "source": [
    "Una vez que ejecutemos el código anterior, nuestra función estará lista para ser utilizada:"
   ]
  },
  {
   "cell_type": "code",
   "execution_count": null,
   "metadata": {},
   "outputs": [],
   "source": [
    "type(add)"
   ]
  },
  {
   "cell_type": "markdown",
   "metadata": {},
   "source": [
    "Añadamos algunas cifras:"
   ]
  },
  {
   "cell_type": "code",
   "execution_count": null,
   "metadata": {},
   "outputs": [],
   "source": [
    "add(1, 2)"
   ]
  },
  {
   "cell_type": "markdown",
   "metadata": {},
   "source": [
    "### Valores de retorno\n",
    "Podemos almacenar el resultado en una variable para más tarde:"
   ]
  },
  {
   "cell_type": "code",
   "execution_count": null,
   "metadata": {},
   "outputs": [],
   "source": [
    "resultado = add(1, 2)"
   ]
  },
  {
   "cell_type": "markdown",
   "metadata": {},
   "source": [
    "Fíjate que la sentencia print no ha sido capturada en `resultado`. Esta variable sólo tendrá lo que la función **return**. Esto es lo que hizo la línea `return` en la definición de la función:"
   ]
  },
  {
   "cell_type": "code",
   "execution_count": null,
   "metadata": {},
   "outputs": [],
   "source": [
    "resultado"
   ]
  },
  {
   "cell_type": "markdown",
   "metadata": {},
   "source": [
    "Tenga en cuenta que las funciones no tienen por qué devolver nada. Considere `print()`:"
   ]
  },
  {
   "cell_type": "code",
   "execution_count": null,
   "metadata": {},
   "outputs": [],
   "source": [
    "print_resultado = print('hola mundo!')"
   ]
  },
  {
   "cell_type": "markdown",
   "metadata": {},
   "source": [
    "Si echamos un vistazo a lo que recibimos de vuelta, vemos que es un objeto `NoneType`:"
   ]
  },
  {
   "cell_type": "code",
   "execution_count": null,
   "metadata": {},
   "outputs": [],
   "source": [
    "type(print_resultado)"
   ]
  },
  {
   "cell_type": "markdown",
   "metadata": {},
   "source": [
    "En Python, el valor `None` representa valores nulos. Podemos comprobar si nuestra variable es `None`:"
   ]
  },
  {
   "cell_type": "code",
   "execution_count": null,
   "metadata": {},
   "outputs": [],
   "source": [
    "print_resultado is None"
   ]
  },
  {
   "cell_type": "markdown",
   "metadata": {},
   "source": [
    "*Advertencia: asegúrese de utilizar operadores de comparación (p. ej. >, >=, <, <=, ==, !=) para comparar con valores distintos de \"Ninguno\".\n",
    "\n",
    "### Argumentos de la función\n",
    "\n",
    "*Nótese que los argumentos de función pueden ser cualquier cosa, incluso otras funciones. Veremos varios ejemplos de esto en el texto.*\n",
    "\n",
    "La función que hemos definido requiere argumentos. Si no los proporcionamos todos, causará un error:"
   ]
  },
  {
   "cell_type": "code",
   "execution_count": null,
   "metadata": {},
   "outputs": [],
   "source": [
    "add(1)"
   ]
  },
  {
   "cell_type": "markdown",
   "metadata": {},
   "source": [
    "Podemos usar `help()` para comprobar qué argumentos necesita la función (fíjate que el docstring acaba aquí):"
   ]
  },
  {
   "cell_type": "code",
   "execution_count": null,
   "metadata": {},
   "outputs": [],
   "source": [
    "help(add)"
   ]
  },
  {
   "cell_type": "markdown",
   "metadata": {},
   "source": [
    "También obtendremos errores si pasamos tipos de datos con los que `add()` no puede trabajar:"
   ]
  },
  {
   "cell_type": "code",
   "execution_count": null,
   "metadata": {},
   "outputs": [],
   "source": [
    "add(set(), set())"
   ]
  },
  {
   "cell_type": "markdown",
   "metadata": {},
   "source": [
    "## Declaraciones de Flujo de Control\n",
    "A veces queremos variar el camino que toma el código basándonos en algún criterio. Para esto tenemos `if`, `elif`, y `else`. Podemos usar `if` solo:"
   ]
  },
  {
   "cell_type": "code",
   "execution_count": null,
   "metadata": {},
   "outputs": [],
   "source": [
    "def devuelve_positivo(x):\n",
    "    \"\"\"Devuelve un x positivo\"\"\"\n",
    "    if x < 0:\n",
    "        x *= -1\n",
    "    return x"
   ]
  },
  {
   "cell_type": "markdown",
   "metadata": {},
   "source": [
    "Llamar a esta función con una entrada negativa hace que se ejecute el código bajo la sentencia `if`:"
   ]
  },
  {
   "cell_type": "code",
   "execution_count": null,
   "metadata": {},
   "outputs": [],
   "source": [
    "devuelve_positivo(-1)"
   ]
  },
  {
   "cell_type": "markdown",
   "metadata": {},
   "source": [
    "Al llamar a esta función con una entrada positiva se omite el código bajo la sentencia `if`, manteniendo el número positivo:"
   ]
  },
  {
   "cell_type": "code",
   "execution_count": null,
   "metadata": {},
   "outputs": [],
   "source": [
    "devuelve_positivo(2)"
   ]
  },
  {
   "cell_type": "markdown",
   "metadata": {},
   "source": [
    "A veces también necesitamos una sentencia `else`:"
   ]
  },
  {
   "cell_type": "code",
   "execution_count": null,
   "metadata": {},
   "outputs": [],
   "source": [
    "def suma_o_resta(operacion, x, y):\n",
    "    if operacion == 'suma':\n",
    "        return x + y\n",
    "    else:\n",
    "        return x - y"
   ]
  },
  {
   "cell_type": "markdown",
   "metadata": {},
   "source": [
    "Esto activa el código bajo la sentencia `if`:"
   ]
  },
  {
   "cell_type": "code",
   "execution_count": null,
   "metadata": {},
   "outputs": [],
   "source": [
    "suma_o_resta('suma', 1, 2)"
   ]
  },
  {
   "cell_type": "markdown",
   "metadata": {},
   "source": [
    "Dado que la comprobación booleana en la sentencia `if` era `False`, esto activa el código bajo la sentencia `else`:"
   ]
  },
  {
   "cell_type": "code",
   "execution_count": null,
   "metadata": {},
   "outputs": [],
   "source": [
    "suma_o_resta('resta', 1, 2)"
   ]
  },
  {
   "cell_type": "markdown",
   "metadata": {},
   "source": [
    "Para una lógica más complicada, también podemos utilizar `elif`. Podemos tener cualquier número de sentencias `elif`. Opcionalmente, podemos incluir `else`."
   ]
  },
  {
   "cell_type": "code",
   "execution_count": null,
   "metadata": {},
   "outputs": [],
   "source": [
    "def calcular(operacion, x, y):\n",
    "    if operacion == 'suma':\n",
    "        return x + y\n",
    "    elif operacion == 'resta':\n",
    "        return x - y\n",
    "    elif operacion == 'multiplicacion':\n",
    "        return x * y\n",
    "    elif operacion == 'division':\n",
    "        return x / y\n",
    "    else:\n",
    "        print(\"Este caso no ha sido tratado\")"
   ]
  },
  {
   "cell_type": "markdown",
   "metadata": {},
   "source": [
    "El código sigue comprobando las condiciones de las sentencias `if` de arriba a abajo hasta que encuentra `multiplicacion`:"
   ]
  },
  {
   "cell_type": "code",
   "execution_count": null,
   "metadata": {},
   "outputs": [],
   "source": [
    "calcular('multiplicar', 3, 4)"
   ]
  },
  {
   "cell_type": "markdown",
   "metadata": {},
   "source": [
    "The code keeps checking the conditions in the `if` statements from top to bottom until it hits the `else` statement:"
   ]
  },
  {
   "cell_type": "code",
   "execution_count": null,
   "metadata": {},
   "outputs": [],
   "source": [
    "calcular('potencia', 3, 4)"
   ]
  },
  {
   "cell_type": "markdown",
   "metadata": {},
   "source": [
    "## Bucles\n",
    "### Bucles `while`\n",
    "Con los bucles `while`, podemos seguir ejecutando código hasta que se cumpla alguna condición de parada:"
   ]
  },
  {
   "cell_type": "code",
   "execution_count": null,
   "metadata": {},
   "outputs": [],
   "source": [
    "hecho = False\n",
    "valor = 2\n",
    "while not hecho:\n",
    "    print('Still going...', valor)\n",
    "    valor *= 2\n",
    "    if valor > 10:\n",
    "        hecho = True"
   ]
  },
  {
   "cell_type": "markdown",
   "metadata": {},
   "source": [
    "Tenga en cuenta que esto también se puede escribir como, moviendo la condición a la sentencia `while`:\n"
   ]
  },
  {
   "cell_type": "code",
   "execution_count": null,
   "metadata": {},
   "outputs": [],
   "source": [
    "valor = 2\n",
    "while valor < 10:\n",
    "    print('Still going...', valor)\n",
    "    valor+=2"
   ]
  },
  {
   "cell_type": "markdown",
   "metadata": {},
   "source": [
    "### Bucles `for`\n",
    "Con los bucles `for`, podemos ejecutar nuestro código *para cada* elemento de una colección:"
   ]
  },
  {
   "cell_type": "code",
   "execution_count": null,
   "metadata": {},
   "outputs": [],
   "source": [
    "for num in range(5):\n",
    "    print(num)"
   ]
  },
  {
   "cell_type": "markdown",
   "metadata": {},
   "source": [
    "También podemos utilizar bucles `for` con listas, tuplas, conjuntos y diccionarios:"
   ]
  },
  {
   "cell_type": "code",
   "execution_count": null,
   "metadata": {},
   "outputs": [],
   "source": [
    "for elemento in mi_lista:\n",
    "    print(elemento)"
   ]
  },
  {
   "cell_type": "code",
   "execution_count": null,
   "metadata": {},
   "outputs": [],
   "source": [
    "for key, value in lista_compra.items():\n",
    "    print('En', key, 'necesitas comprar', value)"
   ]
  },
  {
   "cell_type": "markdown",
   "metadata": {},
   "source": [
    "Con los bucles `for`, no tenemos que preocuparnos de comprobar si hemos alcanzado la condición de parada. Por el contrario, los bucles `while` pueden provocar bucles infinitos si no nos acordamos de actualizar las variables.\n",
    "\n",
    "## Importaciones\n",
    "Hemos estado trabajando con la parte de Python que está disponible sin importar funcionalidad adicional. La librería estándar de Python que viene con la instalación de Python está dividida en varios **módulos**, pero a menudo sólo necesitamos unos pocos. Podemos importar lo que necesitemos: un módulo de la biblioteca estándar, una biblioteca de terceros o código escrito por nosotros. Esto se hace con una sentencia `import`:"
   ]
  },
  {
   "cell_type": "code",
   "execution_count": null,
   "metadata": {},
   "outputs": [],
   "source": [
    "import math\n",
    "\n",
    "print(math.pi)"
   ]
  },
  {
   "cell_type": "markdown",
   "metadata": {},
   "source": [
    "Si sólo necesitamos una pequeña parte de ese módulo, podemos hacer lo siguiente en su lugar:"
   ]
  },
  {
   "cell_type": "code",
   "execution_count": null,
   "metadata": {},
   "outputs": [],
   "source": [
    "from math import pi\n",
    "\n",
    "print(pi)"
   ]
  },
  {
   "cell_type": "markdown",
   "metadata": {},
   "source": [
    "*Atención: cualquier cosa que importes se añade al espacio de nombres, por lo que si creas una nueva variable/función/etc. con el mismo nombre sobrescribirá el valor anterior. Por esta razón, tenemos que tener cuidado con los nombres de las variables, por ejemplo, si nombras algo `suma`, ya no podrás añadir usando la función incorporada `suma()`. Utilizar cuadernos o un IDE te ayudará a evitar estos problemas con el resaltado de sintaxis.*\n",
    "\n",
    "## Instalación de paquetes de terceros\n",
    "**NOTA: Cubriremos la configuración del entorno en el texto; esto es para referencia.**\n",
    "\n",
    "Podemos usar [`pip`](https://pip.pypa.io/en/stable/reference/) o [`conda`](https://docs.conda.io/projects/conda/en/latest/commands.html) para instalar paquetes, dependiendo de cómo hayamos creado nuestro entorno virtual. El texto recorre los comandos para crear entornos virtuales con `venv` y `conda`. El entorno **DEBE** estar activado antes de instalar los paquetes para este texto; de lo contrario, es posible que interfieran con otros proyectos en tu máquina o viceversa.\n",
    "\n",
    "Para instalar un paquete, podemos usar `pip3 install <nombre_paquete>`. Opcionalmente, podemos proporcionar una versión específica a instalar `pip3 install pandas==0.23.4`. Sin esa especificación, obtendremos la versión más estable. Cuando tenemos muchos paquetes que instalar (como en este bootcamp), normalmente usaremos un fichero `requirements.txt`: `pip3 install -r requisitos.txt`.\n",
    "\n",
    "*Nota: ejecutar `pip3 freeze > requirements.txt` enviará la lista de paquetes instalados en el entorno de activación y sus respectivas versiones al fichero `requirements.txt`.\n",
    "\n",
    "\n",
    "## Clases\n",
    "*NOTA: Discutiremos esto más adelante en el texto en el capítulo 7. Por ahora, es importante ser consciente de la sintaxis en esta sección.*\n",
    "\n",
    "Hasta ahora hemos usado Python como un lenguaje de programación funcional, pero también tenemos la opción de usarlo para **programación orientada a objetos**. Puedes pensar en una `clase` como una forma de agrupar funcionalidades similares. Vamos a crear una clase calculadora que puede manejar operaciones matemáticas para nosotros. Para ello, utilizamos la palabra clave `class` y definimos **métodos** para realizar acciones en la calculadora. Estos métodos son funciones que toman `self` como primer argumento. Al llamarlos, no pasamos nada por ese argumento (ejemplo siguiente):"
   ]
  },
  {
   "cell_type": "code",
   "execution_count": null,
   "metadata": {},
   "outputs": [],
   "source": [
    "class Calculadora:\n",
    "    \"\"\"Este es el docstring de la clase.\"\"\"\n",
    "    \n",
    "    def __init__(self):\n",
    "        \"\"\"Este es un método y es llamado cuando creamos un objeto de tipo `Calculadora`\"\"\"\n",
    "        self.on = False\n",
    "        \n",
    "    def encender(self):\n",
    "        \"\"\"Este método enciende la calculadora.\"\"\"\n",
    "        self.on = True\n",
    "    \n",
    "    def suma(self, x, y):\n",
    "        \"\"\"Realiza la suma si la calculadora está encendida\"\"\"\n",
    "        if self.on:\n",
    "            return x + y\n",
    "        else:\n",
    "            print(\"la calculadora no está encendida\")"
   ]
  },
  {
   "cell_type": "markdown",
   "metadata": {},
   "source": [
    "Para utilizar la calculadora, necesitamos **instanciar** una instancia u objeto de tipo `Calculadora`. Como el método `__init__()` no tiene más parámetros que `self`, no necesitamos proporcionar nada:"
   ]
  },
  {
   "cell_type": "code",
   "execution_count": null,
   "metadata": {},
   "outputs": [],
   "source": [
    "mi_calculadora = Calculadora()"
   ]
  },
  {
   "cell_type": "markdown",
   "metadata": {},
   "source": [
    "Intentemos sumar algunos números:"
   ]
  },
  {
   "cell_type": "code",
   "execution_count": null,
   "metadata": {},
   "outputs": [],
   "source": [
    "mi_calculadora.suma(1, 2)"
   ]
  },
  {
   "cell_type": "markdown",
   "metadata": {},
   "source": [
    "¡Ooops! La calculadora no está encendida. Vamos a encenderla:"
   ]
  },
  {
   "cell_type": "code",
   "execution_count": null,
   "metadata": {},
   "outputs": [],
   "source": [
    "mi_calculadora.encender()"
   ]
  },
  {
   "cell_type": "markdown",
   "metadata": {},
   "source": [
    "Intentémoslo de nuevo:"
   ]
  },
  {
   "cell_type": "code",
   "execution_count": null,
   "metadata": {},
   "outputs": [],
   "source": [
    "mi_calculadora.suma(1, 2)"
   ]
  },
  {
   "cell_type": "markdown",
   "metadata": {},
   "source": [
    "Podemos acceder a **atributos** del objeto con la notación punto. En este ejemplo, el único atributo es `on`, y se establece en el método `__init__()`:"
   ]
  },
  {
   "cell_type": "code",
   "execution_count": null,
   "metadata": {},
   "outputs": [],
   "source": [
    "mi_calculadora.on"
   ]
  },
  {
   "cell_type": "markdown",
   "metadata": {},
   "source": [
    "Tenga en cuenta que también podemos actualizar atributos:"
   ]
  },
  {
   "cell_type": "code",
   "execution_count": null,
   "metadata": {},
   "outputs": [],
   "source": [
    "mi_calculadora.on = False\n",
    "mi_calculadora.suma(1, 2)"
   ]
  },
  {
   "cell_type": "markdown",
   "metadata": {},
   "source": [
    "Por último, podemos utilizar `help()` para obtener más información sobre el objeto:"
   ]
  },
  {
   "cell_type": "code",
   "execution_count": null,
   "metadata": {},
   "outputs": [],
   "source": [
    "help(mi_calculadora)"
   ]
  },
  {
   "cell_type": "markdown",
   "metadata": {},
   "source": [
    "... and also for a method:"
   ]
  },
  {
   "cell_type": "code",
   "execution_count": null,
   "metadata": {},
   "outputs": [],
   "source": [
    "help(mi_calculadora.suma)"
   ]
  },
  {
   "cell_type": "markdown",
   "metadata": {},
   "source": [
    "## Próximos pasos\n",
    "Este ha sido un curso intensivo de Python. De ninguna manera se espera que seas un experto en el lenguaje para empezar a trabajar con el texto. Tómate un tiempo para jugar con este cuaderno antes de intentar [los ejercicios de este capítulo](./ejercicios.ipynb).\n",
    "\n",
    "<hr>\n",
    "\n",
    "<div style=\"display: flex; justify-content: space-between; margin-bottom: 10px;\">\n",
    "    <div style=\"text-align: left;\">\n",
    "        <a href=\"./3-introduccion_al_data_analisis.ipynb\">\n",
    "            <button>&#8592; Introduccion al analisis de datos</button>\n",
    "        </a>\n",
    "    </div>\n",
    "    <div style=\"text-align: center;\">\n",
    "        <a href=\"./2-checking_setup.ipynb\">\n",
    "            <button>Check Setup</button>\n",
    "        </a>\n",
    "    </div>\n",
    "    <div style=\"text-align: right;\">\n",
    "        <a href=\"./ejercicios.ipynb\">\n",
    "            <button>Capitulo 1 Ejercicios &#8594;</button>\n",
    "        </a>\n",
    "    </div>\n",
    "</div>\n",
    "\n",
    "<hr>\n"
   ]
  }
 ],
 "metadata": {
  "kernelspec": {
   "display_name": "Python 3",
   "language": "python",
   "name": "python3"
  },
  "language_info": {
   "codemirror_mode": {
    "name": "ipython",
    "version": 3
   },
   "file_extension": ".py",
   "mimetype": "text/x-python",
   "name": "python",
   "nbconvert_exporter": "python",
   "pygments_lexer": "ipython3",
   "version": "3.9.7"
  }
 },
 "nbformat": 4,
 "nbformat_minor": 4
}
