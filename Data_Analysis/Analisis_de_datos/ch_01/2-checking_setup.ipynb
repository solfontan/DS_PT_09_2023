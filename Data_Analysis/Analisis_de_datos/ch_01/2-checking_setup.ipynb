{
 "cells": [
  {
   "cell_type": "markdown",
   "metadata": {},
   "source": [
    "# Comprobación de la configuración\n",
    "Ejecuta este cuaderno para asegurarte de que tu entorno está correctamente configurado. Asegúrate de iniciar Jupyter desde dentro del entorno virtual."
   ]
  },
  {
   "cell_type": "code",
   "execution_count": null,
   "metadata": {},
   "outputs": [],
   "source": [
    "from check_environment import run_checks\n",
    "run_checks()"
   ]
  },
  {
   "cell_type": "markdown",
   "metadata": {},
   "source": [
    "<hr>\n",
    "\n",
    "<div style=\"display: flex; justify-content: space-between; margin-bottom: 10px;\">\n",
    "    <div style=\"text-align: left;\">\n",
    "        <a href=\"./3-introduccion_al_data_analisis.ipynb\">\n",
    "            <button>&#8592; Introduccion al analisis de datos</button>\n",
    "        </a>\n",
    "    </div>\n",
    "    <div style=\"text-align: center;\">\n",
    "        <a href=\"./1-python_101.ipynb\">\n",
    "            <button>Python 101</button>\n",
    "        </a>\n",
    "    </div>\n",
    "    <div style=\"text-align: right;\">\n",
    "        <a href=\"./ejercicios.ipynb\">\n",
    "            <button>Ejercicios &#8594;</button>\n",
    "        </a>\n",
    "    </div>\n",
    "</div>\n",
    "\n",
    "<hr>"
   ]
  }
 ],
 "metadata": {
  "kernelspec": {
   "display_name": "Python 3",
   "language": "python",
   "name": "python3"
  },
  "language_info": {
   "codemirror_mode": {
    "name": "ipython",
    "version": 3
   },
   "file_extension": ".py",
   "mimetype": "text/x-python",
   "name": "python",
   "nbconvert_exporter": "python",
   "pygments_lexer": "ipython3",
   "version": "3.9.7"
  }
 },
 "nbformat": 4,
 "nbformat_minor": 4
}
