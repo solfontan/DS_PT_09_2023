{
 "cells": [
  {
   "cell_type": "markdown",
   "metadata": {},
   "source": [
    "# Comprender los cálculos de ventana\n",
    "El siguiente código genera un gráfico interactivo para ver cómo son los diferentes cálculos de ventanas.\n",
    "\n",
    "## Acerca de los datos\n",
    "En este cuaderno vamos a trabajar con la cotización de las acciones de Facebook a lo largo de 2018 (obtenida mediante el método [`stock_analysis`](https://github.com/stefmolin/stock-analysis)).\n",
    "\n",
    "## Visualizaciones interactivas\n",
    "Usar el widget backend requiere `ipympl`, que ya instalamos en el capítulo 1. Sin embargo, dependiendo de tu configuración de Jupyter y de tu máquina, puede que también necesites instalar `node.js` y ejecutar algunos comandos desde la línea de comandos. Intenta ejecutar la celda de abajo, y si no funciona sigue las instrucciones de instalación[here](https://github.com/matplotlib/jupyter-matplotlib). Asegúrese de reiniciar el núcleo cuando esté configurado."
   ]
  },
  {
   "cell_type": "code",
   "execution_count": 1,
   "metadata": {},
   "outputs": [
    {
     "data": {
      "application/vnd.jupyter.widget-view+json": {
       "model_id": "2c6b768fceb84258991ef0234b1fa6f2",
       "version_major": 2,
       "version_minor": 0
      },
      "text/plain": [
       "interactive(children=(IntSlider(value=20, description='period', max=200, step=5), Dropdown(description='window…"
      ]
     },
     "metadata": {},
     "output_type": "display_data"
    }
   ],
   "source": [
    "%matplotlib widget\n",
    "from ipywidgets import interact\n",
    "import matplotlib.pyplot as plt\n",
    "import pandas as pd\n",
    "\n",
    "fb = pd.read_csv('data/fb_2018.csv', index_col='date', parse_dates=True)\n",
    "\n",
    "def window_calculations(df):\n",
    "    def plot_viz(period=20, window_type='rolling', agg='mean'):\n",
    "        ax = df.plot(y='close')\n",
    "        window_func = getattr(df.close, window_type)\n",
    "        if window_type == 'rolling':\n",
    "            kwargs = {'window': period}\n",
    "        elif window_type == 'expanding':\n",
    "            kwargs = {'min_periods': period}\n",
    "        elif window_type == 'ewm':\n",
    "            kwargs = {'span': period}\n",
    "            if agg != 'mean':\n",
    "                print('Changing to mean')\n",
    "                agg = 'mean'\n",
    "        window_func(**kwargs).agg(agg).plot(ax=ax, label=f'{window_type} {period}D {agg}')\n",
    "\n",
    "        plt.suptitle('Window Calculations on Facebook Closing Price')\n",
    "        plt.title('(Note: EWM only works with mean)')\n",
    "        plt.ylabel('price ($)')\n",
    "        plt.legend()\n",
    "    \n",
    "    return plot_viz\n",
    "interact(\n",
    "    window_calculations(fb), \n",
    "    period=(0, 200, 5), \n",
    "    window_type=['rolling', 'expanding', 'ewm'], \n",
    "    agg=['sum', 'min', 'max', 'mean']\n",
    ");"
   ]
  },
  {
   "cell_type": "markdown",
   "metadata": {},
   "source": [
    "*Más información sobre la función `interact()` en[here](https://ipywidgets.readthedocs.io/en/stable/examples/Using%20Interact.html).*\n",
    "\n",
    "<hr>\n",
    "\n",
    "<div style=\"display: flex; justify-content: space-between; margin-bottom: 10px;\">\n",
    "    <div style=\"text-align: left;\">\n",
    "        <a href=\"./2-operaciones_con_dataframe.ipynb\">\n",
    "            <button>&#8592; Notebook Anterior</button>\n",
    "        </a>\n",
    "    </div>\n",
    "    <div style=\"text-align: center;\">\n",
    "        <!-- Espacio en el centro -->\n",
    "    </div>\n",
    "    <div style=\"text-align: right;\">\n",
    "        <a href=\"./3-agregaciones.ipynb\">\n",
    "            <button>Proximo Notebook &#8594;</button>\n",
    "        </a>\n",
    "    </div>\n",
    "</div>\n",
    "\n",
    "<hr>"
   ]
  }
 ],
 "metadata": {
  "kernelspec": {
   "display_name": "Python 3",
   "language": "python",
   "name": "python3"
  },
  "language_info": {
   "codemirror_mode": {
    "name": "ipython",
    "version": 3
   },
   "file_extension": ".py",
   "mimetype": "text/x-python",
   "name": "python",
   "nbconvert_exporter": "python",
   "pygments_lexer": "ipython3",
   "version": "3.7.3"
  }
 },
 "nbformat": 4,
 "nbformat_minor": 4
}
