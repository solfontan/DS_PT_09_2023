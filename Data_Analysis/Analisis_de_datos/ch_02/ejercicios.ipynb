{
 "cells": [
  {
   "cell_type": "markdown",
   "metadata": {},
   "source": [
    "# Ejercicios\n",
    "\n",
    "Usando el archivo data/parsed.csv y el material de este capítulo, complete los siguientes ejercicios para practicar sus habilidades con pandas:\n",
    "\n",
    "1. Encuentre el percentil 95 de la magnitud del terremoto en Japón usando el mb tipo de magnitud.\n",
    "2. Encuentra el porcentaje de terremotos en Indonesia que fueron acompañados de tsunamis.\n",
    "3. Calcular las estadísticas resumidas de los terremotos en Nevada.\n",
    "4. Añade una columna indicando si el terremoto ocurrió en un país o estado de EEUU que se encuentre en el Cinturón de Fuego. Utiliza Alaska, Antártida (busca Antarctic), Bolivia,\n",
    "California, Canadá, Chile, Costa Rica, Ecuador, Fiyi, Guatemala, Indonesia, Japón, Islas Kermadec, México (tenga cuidado de no seleccionar Nuevo México), Nueva Zelanda, Perú, Filipinas, Rusia, Taiwán, Tonga y Washington.\n",
    "5. Calcula el número de terremotos en los lugares del Cinturón de Fuego y el número fuera de ellos.\n",
    "6. Calcula el número de tsunamis a lo largo del Cinturón de Fuego."
   ]
  },
  {
   "cell_type": "code",
   "execution_count": null,
   "metadata": {},
   "outputs": [],
   "source": [
    "import numpy as np\n",
    "import pandas as pd\n",
    "\n",
    "df = pd.read_csv('./data/parsed.csv')\n",
    "df.head(2)"
   ]
  },
  {
   "cell_type": "code",
   "execution_count": null,
   "metadata": {},
   "outputs": [],
   "source": [
    "# 1) Encuentre el percentil 95 de la magnitud del terremoto en Japón usando el mb tipo de magnitud.\n",
    "# df[['mag']].describe(percentiles=[0.95])\n",
    "\n",
    "percent_95 = df.loc[\n",
    "    (df.place.str.contains('Japan')) & (df.magType.str.contains('mb')),\n",
    "    ['mag']\n",
    "].describe(percentiles=[0.95])\n",
    "\n",
    "percent_95['mag'][5]"
   ]
  },
  {
   "cell_type": "code",
   "execution_count": null,
   "metadata": {},
   "outputs": [],
   "source": [
    "# 2) Encuentra el porcentaje de terremotos en Indonesia que fueron acompañados de tsunamis.\n",
    "\n",
    "indon = df.loc[\n",
    "    (df.place.str.contains('Indonesia')) & (df.type.str.contains('earthquake')) & (df.tsunami == 1),\n",
    "    ['place','tsunami','type']\n",
    "].size\n",
    "\n",
    "porcentaje = (indon / df['place'].size) * 100 \n",
    "porcentaje"
   ]
  },
  {
   "cell_type": "code",
   "execution_count": null,
   "metadata": {},
   "outputs": [],
   "source": [
    "# 3) Calcular las estadísticas resumidas de los terremotos en Nevada.\n",
    "\n",
    "# df.loc[\n",
    "#     (df.place.str.contains('Nevada')) & (df.type.str.contains('earthquake')),\n",
    "#     ['place','type']\n",
    "# ].agg({'type': ['max', 'min', 'mean']})"
   ]
  },
  {
   "cell_type": "code",
   "execution_count": 125,
   "metadata": {},
   "outputs": [
    {
     "data": {
      "text/html": [
       "<div>\n",
       "<style scoped>\n",
       "    .dataframe tbody tr th:only-of-type {\n",
       "        vertical-align: middle;\n",
       "    }\n",
       "\n",
       "    .dataframe tbody tr th {\n",
       "        vertical-align: top;\n",
       "    }\n",
       "\n",
       "    .dataframe thead th {\n",
       "        text-align: right;\n",
       "    }\n",
       "</style>\n",
       "<table border=\"1\" class=\"dataframe\">\n",
       "  <thead>\n",
       "    <tr style=\"text-align: right;\">\n",
       "      <th></th>\n",
       "      <th>place</th>\n",
       "    </tr>\n",
       "  </thead>\n",
       "  <tbody>\n",
       "    <tr>\n",
       "      <th>0</th>\n",
       "      <td>9km NE of Aguanga, CA</td>\n",
       "    </tr>\n",
       "    <tr>\n",
       "      <th>1</th>\n",
       "      <td>9km NE of Aguanga, CA</td>\n",
       "    </tr>\n",
       "    <tr>\n",
       "      <th>2</th>\n",
       "      <td>8km NE of Aguanga, CA</td>\n",
       "    </tr>\n",
       "    <tr>\n",
       "      <th>3</th>\n",
       "      <td>9km NE of Aguanga, CA</td>\n",
       "    </tr>\n",
       "    <tr>\n",
       "      <th>4</th>\n",
       "      <td>10km NW of Avenal, CA</td>\n",
       "    </tr>\n",
       "    <tr>\n",
       "      <th>...</th>\n",
       "      <td>...</td>\n",
       "    </tr>\n",
       "    <tr>\n",
       "      <th>9327</th>\n",
       "      <td>9km ENE of Mammoth Lakes, CA</td>\n",
       "    </tr>\n",
       "    <tr>\n",
       "      <th>9328</th>\n",
       "      <td>3km W of Julian, CA</td>\n",
       "    </tr>\n",
       "    <tr>\n",
       "      <th>9329</th>\n",
       "      <td>35km NNE of Hatillo, Puerto Rico</td>\n",
       "    </tr>\n",
       "    <tr>\n",
       "      <th>9330</th>\n",
       "      <td>9km NE of Aguanga, CA</td>\n",
       "    </tr>\n",
       "    <tr>\n",
       "      <th>9331</th>\n",
       "      <td>9km NE of Aguanga, CA</td>\n",
       "    </tr>\n",
       "  </tbody>\n",
       "</table>\n",
       "<p>9332 rows × 1 columns</p>\n",
       "</div>"
      ],
      "text/plain": [
       "                                 place\n",
       "0                9km NE of Aguanga, CA\n",
       "1                9km NE of Aguanga, CA\n",
       "2                8km NE of Aguanga, CA\n",
       "3                9km NE of Aguanga, CA\n",
       "4                10km NW of Avenal, CA\n",
       "...                                ...\n",
       "9327      9km ENE of Mammoth Lakes, CA\n",
       "9328               3km W of Julian, CA\n",
       "9329  35km NNE of Hatillo, Puerto Rico\n",
       "9330             9km NE of Aguanga, CA\n",
       "9331             9km NE of Aguanga, CA\n",
       "\n",
       "[9332 rows x 1 columns]"
      ]
     },
     "execution_count": 125,
     "metadata": {},
     "output_type": "execute_result"
    }
   ],
   "source": [
    "# 4) Añade una columna indicando si el terremoto ocurrió en un país o estado de EEUU\n",
    "# que se encuentre en el Cinturón de Fuego. Utiliza Alaska, Antártida (busca Antarctic), Bolivia,\n",
    "# California, Canadá, Chile, Costa Rica, Ecuador, Fiyi, Guatemala, Indonesia, Japón, Islas Kermadec,\n",
    "# México (tenga cuidado de no seleccionar Nuevo México), Nueva Zelanda, Perú, Filipinas, Rusia, Taiwán, Tonga y Washington.\n",
    " #idela almacenar place con los paises y luego filtrar por ellos."
   ]
  },
  {
   "cell_type": "code",
   "execution_count": 129,
   "metadata": {},
   "outputs": [
    {
     "data": {
      "text/html": [
       "<div>\n",
       "<style scoped>\n",
       "    .dataframe tbody tr th:only-of-type {\n",
       "        vertical-align: middle;\n",
       "    }\n",
       "\n",
       "    .dataframe tbody tr th {\n",
       "        vertical-align: top;\n",
       "    }\n",
       "\n",
       "    .dataframe thead th {\n",
       "        text-align: right;\n",
       "    }\n",
       "</style>\n",
       "<table border=\"1\" class=\"dataframe\">\n",
       "  <thead>\n",
       "    <tr style=\"text-align: right;\">\n",
       "      <th></th>\n",
       "      <th>place</th>\n",
       "      <th>type</th>\n",
       "    </tr>\n",
       "  </thead>\n",
       "  <tbody>\n",
       "  </tbody>\n",
       "</table>\n",
       "</div>"
      ],
      "text/plain": [
       "Empty DataFrame\n",
       "Columns: [place, type]\n",
       "Index: []"
      ]
     },
     "execution_count": 129,
     "metadata": {},
     "output_type": "execute_result"
    }
   ],
   "source": [
    "# 5. Calcula el número de terremotos en los lugares del Cinturón de Fuego y el número fuera de ellos.\n",
    "\n",
    "\n",
    "# df.loc[\n",
    "#     (df.place.str.contains('EEUU')) & (df.type.str.contains('earthquake')),\n",
    "#     ['place','type']\n",
    "# ]\n"
   ]
  }
 ],
 "metadata": {
  "kernelspec": {
   "display_name": ".venv",
   "language": "python",
   "name": "python3"
  },
  "language_info": {
   "codemirror_mode": {
    "name": "ipython",
    "version": 3
   },
   "file_extension": ".py",
   "mimetype": "text/x-python",
   "name": "python",
   "nbconvert_exporter": "python",
   "pygments_lexer": "ipython3",
   "version": "3.11.6"
  }
 },
 "nbformat": 4,
 "nbformat_minor": 2
}
