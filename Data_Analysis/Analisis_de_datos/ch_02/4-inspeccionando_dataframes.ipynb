{
 "cells": [
  {
   "cell_type": "markdown",
   "metadata": {},
   "source": [
    "# Inspeccionar un objeto DataFrame\n",
    "\n",
    "## Acerca de los datos\n",
    "En este notebook trabajaremos con datos de terremotos del 18 de septiembre de 2018 al 13 de octubre de 2018 (obtenidos del US Geological Survey (USGS) mediante la [USGS API](https://earthquake.usgs.gov/fdsnws/event/1/))\n",
    "\n",
    "## Configuración\n",
    "Estaremos trabajando con el archivo `data/earthquakes.csv` nuevamente, por lo que necesitamos manejar nuestras importaciones y leerlo."
   ]
  },
  {
   "cell_type": "code",
   "execution_count": null,
   "metadata": {},
   "outputs": [],
   "source": [
    "import numpy as np\n",
    "import pandas as pd\n",
    "\n",
    "df = pd.read_csv('data/earthquakes.csv')"
   ]
  },
  {
   "cell_type": "markdown",
   "metadata": {},
   "source": [
    "## Examining dataframes\n",
    "### ¿Está vacío?"
   ]
  },
  {
   "cell_type": "code",
   "execution_count": null,
   "metadata": {},
   "outputs": [],
   "source": [
    "df.empty"
   ]
  },
  {
   "cell_type": "markdown",
   "metadata": {},
   "source": [
    "### ¿Cuáles son las dimensiones?"
   ]
  },
  {
   "cell_type": "code",
   "execution_count": null,
   "metadata": {},
   "outputs": [],
   "source": [
    "df.shape"
   ]
  },
  {
   "cell_type": "markdown",
   "metadata": {},
   "source": [
    "### ¿Qué columnas tenemos?\n",
    "Sabemos que hay 26 columnas, pero ¿cuáles son? Usemos el atributo `columns` para verlo:"
   ]
  },
  {
   "cell_type": "code",
   "execution_count": null,
   "metadata": {},
   "outputs": [],
   "source": [
    "df.columns"
   ]
  },
  {
   "cell_type": "markdown",
   "metadata": {},
   "source": [
    "### ¿Qué aspecto tienen los datos?\n",
    "Vea las filas desde arriba con `head()`:"
   ]
  },
  {
   "cell_type": "code",
   "execution_count": null,
   "metadata": {},
   "outputs": [],
   "source": [
    "df.head()"
   ]
  },
  {
   "cell_type": "markdown",
   "metadata": {},
   "source": [
    "Visualiza las filas desde abajo con `tail()`. Veamos 2 filas:"
   ]
  },
  {
   "cell_type": "code",
   "execution_count": null,
   "metadata": {},
   "outputs": [],
   "source": [
    "df.tail(2)"
   ]
  },
  {
   "cell_type": "markdown",
   "metadata": {},
   "source": [
    "*Consejo: podemos modificar las opciones de visualización para ver más columnas:*\n",
    "\n",
    "```python\n",
    "# comprueba la configuración de max columnas\n",
    ">>> pd.get_option('display.max_columns')\n",
    "20\n",
    "\n",
    "# establecer el maximo de columnas a mostrar cuando se imprima el marco de datos a 26\n",
    ">>> pd.set_option('display.max_columns', 26)\n",
    "# O\n",
    ">>> pd.options.display.max_columns = 26\n",
    "\n",
    "# restablecer la opción\n",
    ">>> pd.reset_option('display.max_columnas')\n",
    "\n",
    "# obtener información sobre todas las opciones de visualización\n",
    ">>> pd.describe_option('display')\n",
    "```\n",
    "\n",
    "*Puede encontrar más información en la documentación [aquí](https://pandas.pydata.org/pandas-docs/stable/user_guide/options.html).*\n",
    "\n",
    "### ¿Qué tipos de datos tenemos?"
   ]
  },
  {
   "cell_type": "code",
   "execution_count": null,
   "metadata": {},
   "outputs": [],
   "source": [
    "df.dtypes"
   ]
  },
  {
   "cell_type": "markdown",
   "metadata": {},
   "source": [
    "### Obtener información extra y encontrar nulos"
   ]
  },
  {
   "cell_type": "code",
   "execution_count": null,
   "metadata": {},
   "outputs": [],
   "source": [
    "df.info()"
   ]
  },
  {
   "cell_type": "markdown",
   "metadata": {},
   "source": [
    "## Describir y resumir\n",
    "### Obtener estadísticas resumidas"
   ]
  },
  {
   "cell_type": "code",
   "execution_count": null,
   "metadata": {},
   "outputs": [],
   "source": [
    "df.describe()"
   ]
  },
  {
   "cell_type": "markdown",
   "metadata": {},
   "source": [
    "Especificación de los percentiles 5<sup>º</sup> y 95<sup>º</sup>:"
   ]
  },
  {
   "cell_type": "code",
   "execution_count": null,
   "metadata": {},
   "outputs": [],
   "source": [
    "df.describe(percentiles=[0.05, 0.95])"
   ]
  },
  {
   "cell_type": "markdown",
   "metadata": {},
   "source": [
    "Describir tipos de datos específicos:"
   ]
  },
  {
   "cell_type": "code",
   "execution_count": null,
   "metadata": {},
   "outputs": [],
   "source": [
    "df.describe(include=object)"
   ]
  },
  {
   "cell_type": "markdown",
   "metadata": {},
   "source": [
    "O describirlos todos:"
   ]
  },
  {
   "cell_type": "code",
   "execution_count": null,
   "metadata": {},
   "outputs": [],
   "source": [
    "df.describe(include='all')"
   ]
  },
  {
   "cell_type": "markdown",
   "metadata": {},
   "source": [
    "También funciona con columnas:"
   ]
  },
  {
   "cell_type": "code",
   "execution_count": null,
   "metadata": {},
   "outputs": [],
   "source": [
    "df.felt.describe()"
   ]
  },
  {
   "cell_type": "markdown",
   "metadata": {},
   "source": [
    "También existen métodos para estadísticas específicas. He aquí una muestra de ellos:\n",
    "\n",
    "| Método | Descripción | Data types |\n",
    "| --- | --- | --- |\n",
    "| `count()` | Número de observaciones no nulas | Any |\n",
    "| `nunique()` | Número de valores únicos| Any |\n",
    "| `sum()` | El total de los valores | Numerico o Boolean |\n",
    "| `mean()` | La media de los valores | Numerico o Boolean |\n",
    "| `median()` | La mediana de los valores | Numerico |\n",
    "| `min()` | El mínimo de los valores | Numerico |\n",
    "| `idxmin()` | El índice donde se producen los valores mínimos | Numerico |\n",
    "| `max()` | El máximo de los valores | Numerico |\n",
    "| `idxmax()` | El índice donde se produce el valor máximo | Numerico |\n",
    "| `abs()` | Los valores absolutos de los datos | Numerico |\n",
    "| `std()` | La desviación típica | Numerico |\n",
    "| `var()` | La varianza |  Numerico |\n",
    "| `cov()` | La covarianza entre dos `Series`, o una matriz de covarianza para todas las combinaciones de columnas en un `DataFrame`.| Numerico |\n",
    "| `corr()` | La correlación entre dos `Series`, o una matriz de correlación para todas las combinaciones de columnas en un `DataFrame`.| Numerico |\n",
    "| `quantile()` | Calcula un cuantil específico | Numerico |\n",
    "| `cumsum()` | La suma acumulada | Numerico o Boolean |\n",
    "| `cummin()` | El mínimo acumulado | Numerico |\n",
    "| `cummax()` | El máximo acumulado | Numerico |\n",
    "\n",
    "Por ejemplo, encontrar los valores únicos en la columna `alert`:"
   ]
  },
  {
   "cell_type": "code",
   "execution_count": null,
   "metadata": {},
   "outputs": [],
   "source": [
    "df.alert.unique()"
   ]
  },
  {
   "cell_type": "markdown",
   "metadata": {},
   "source": [
    "A continuación, podemos utilizar `value_counts()` para ver cuántos de cada valor único tenemos:"
   ]
  },
  {
   "cell_type": "code",
   "execution_count": null,
   "metadata": {},
   "outputs": [],
   "source": [
    "df.alert.value_counts()"
   ]
  },
  {
   "cell_type": "markdown",
   "metadata": {},
   "source": [
    "Tenga en cuenta que los objetos `Index` también tienen varios métodos para ayudar a describir y resumir nuestros datos:\n",
    "\n",
    "| Método | Descripción |\n",
    "| --- | --- |\n",
    "| `argmax()`/`argmin()` | Encontrar la ubicación del valor máximo/mínimo en el índice |\n",
    "| `equals()` | Compara el índice con otro objeto `Index` para comprobar la igualdad |\n",
    "| `isin()` | Comprueba si los valores del índice están en una lista de valores y devuelve una matriz de booleanos |\n",
    "| `max()`/`min()` | Encontrar el valor máximo/mínimo del índice |\n",
    "| `nunique()` | Obtener el número de valores únicos en el índice |\n",
    "| `to_series()` | Crear un objeto `Series` a partir del índice|\n",
    "| `unique()` | Encontrar los valores únicos del índice |\n",
    "| `value_counts()`| Crear una tabla de frecuencias para los valores únicos del índice |"
   ]
  },
  {
   "cell_type": "markdown",
   "metadata": {},
   "source": [
    "<hr>\n",
    "<div>\n",
    "    <a href=\"./3-creando_dataframe.ipynb\">\n",
    "        <button style=\"float: left;\">&#8592; Notebook Anterior</button>\n",
    "    </a>\n",
    "    <a href=\"./5-subconjunto_datos.ipynb\">\n",
    "        <button style=\"float: right;\">Siguiente Notebook &#8594;</button>\n",
    "    </a>\n",
    "</div>\n",
    "<br>\n",
    "<hr>"
   ]
  }
 ],
 "metadata": {
  "kernelspec": {
   "display_name": "Python 3",
   "language": "python",
   "name": "python3"
  },
  "language_info": {
   "codemirror_mode": {
    "name": "ipython",
    "version": 3
   },
   "file_extension": ".py",
   "mimetype": "text/x-python",
   "name": "python",
   "nbconvert_exporter": "python",
   "pygments_lexer": "ipython3",
   "version": "3.9.7"
  }
 },
 "nbformat": 4,
 "nbformat_minor": 4
}
