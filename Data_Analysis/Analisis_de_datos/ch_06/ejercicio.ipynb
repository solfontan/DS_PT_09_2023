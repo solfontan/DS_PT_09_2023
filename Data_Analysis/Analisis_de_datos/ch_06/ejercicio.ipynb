{
 "cells": [
  {
   "cell_type": "markdown",
   "metadata": {},
   "source": [
    "# Ejercicios\n",
    "\n",
    "Cree las siguientes visualizaciones utilizando lo que hemos aprendido hasta ahora y los datos de este capítulo. Asegúrate de añadir títulos, etiquetas de ejes y leyendas (cuando sea apropiado) a los gráficos:\n",
    "\n",
    "1. Usando seaborn, crea un mapa de calor para visualizar los coeficientes de correlación entre la magnitud del terremoto y si hubo un tsunami para los terremotos medidos con el tipo de magnitud mb.\n",
    "2. Crea un diagrama de cajas del volumen negociado en Facebook y los precios de cierre, y traza líneas de referencia para los límites de una valla de Tukey con un multiplicador de 1,5. Los límites estarán en Q1, Q2 y Q3. Los límites estarán en Q1 - 1,5 × IQR y Q3 + 1,5 × IQR. Asegúrese de utilizar el método quantile() en los datos para facilitar esta tarea. (Elige la orientación que prefieras para el gráfico, pero asegúrate de utilizar subgráficos).\n",
    "3. Trace la evolución de los casos acumulados de COVID-19 en todo el mundo y añada una línea vertical discontinua en la fecha en que se superó el millón. Asegúrate de dar el formato adecuado a las etiquetas del eje Y.\n",
    "4. Utiliza axvspan() para sombrear un rectángulo desde '2018-07-25' hasta '2018-07-31', que marca el gran descenso del precio de Facebook en un gráfico lineal del precio de cierre.\n",
    "5. Utilizando los datos del precio de las acciones de Facebook, anota los tres sucesos siguientes en un gráfico de líneas del precio de cierre:\n",
    "- a) Decepcionante crecimiento de usuarios anunciado tras el cierre el 25 de julio de 2018.\n",
    "- b) La historia de Cambridge Analytica estalla el 19 de marzo de 2018 (cuando afectó al mercado)\n",
    "- c) La FTC inicia una investigación el 20 de marzo de 2018.\n",
    "6. Modifica la función reg_resid_plots() para que utilice un mapa de colores de matplotlib en lugar de alternar entre dos colores. Recuerda, para este caso de uso, debemos elegir un colormap cualitativo o hacer uno propio."
   ]
  },
  {
   "cell_type": "code",
   "execution_count": null,
   "metadata": {},
   "outputs": [],
   "source": []
  }
 ],
 "metadata": {
  "language_info": {
   "name": "python"
  }
 },
 "nbformat": 4,
 "nbformat_minor": 2
}
