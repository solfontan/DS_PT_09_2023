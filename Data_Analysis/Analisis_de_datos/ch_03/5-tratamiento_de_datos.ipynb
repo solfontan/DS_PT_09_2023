{
 "cells": [
  {
   "cell_type": "markdown",
   "metadata": {},
   "source": [
    "# Tratamiento de datos duplicados, ausentes o no válidos\n",
    "\n",
    "## Acerca de los datos\n",
    "En este notebook, utilizaremos datos meteorológicos diarios que fueron tomados de la [National Centers for Environmental Information (NCEI) API](https://www.ncdc.noaa.gov/cdo-web/webservices/v2) y alterados para introducir muchos problemas comunes a los que nos enfrentamos cuando trabajamos con datos.\n",
    "\n",
    "*Nota: El NCEI forma parte de la Administración Nacional Oceánica y Atmosférica (NOAA) y, como se puede ver en la URL de la API, este recurso se creó cuando el NCEI se llamaba NCDC. Si la URL de este recurso cambiara en el futuro, puede buscar \"NCEI weather API\" para encontrar la actualizada.*\n",
    "\n",
    "## Antecedentes de los datos\n",
    "\n",
    "Significado de los datos:\n",
    "- `PRCP`: precipitación en milímetros\n",
    "- `SNOW`: nevadas en milímetros\n",
    "- `SNWD`: profundidad de la nieve en milímetros\n",
    "- `TMAX`: temperatura máxima diaria en grados Celsius\n",
    "- `TMIN`: temperatura mínima diaria en grados Celsius\n",
    "- `TOBS`: temperatura en el momento de la observación en grados Celsius\n",
    "- `WESF`: equivalente en agua de la nieve en milímetros\n",
    "\n",
    "Algunos datos importantes para orientarnos:\n",
    "- Según el Servicio Meteorológico Nacional, la temperatura más fría jamás registrada en Central Park fue de -26,1 °C (-15 °F) el 9 de febrero de 1934: [fuente](https://www.weather.gov/media/okx/Climate/CentralPark/extremes.pdf)\n",
    "- La temperatura de la fotosfera del Sol es de aproximadamente 5.505°C: [fuente](https://en.wikipedia.org/wiki/Sun)\n",
    "\n",
    "## Configuración\n",
    "Necesitamos importar `pandas` y leer los datos sucios para empezar:"
   ]
  },
  {
   "cell_type": "code",
   "execution_count": 4,
   "metadata": {},
   "outputs": [],
   "source": [
    "import pandas as pd\n",
    "\n",
    "df = pd.read_csv('data/dirty_data.csv')"
   ]
  },
  {
   "cell_type": "markdown",
   "metadata": {},
   "source": [
    "## Encontrar datos problemáticos\n",
    "Un buen primer paso es mirar algunas filas:"
   ]
  },
  {
   "cell_type": "code",
   "execution_count": 5,
   "metadata": {},
   "outputs": [
    {
     "data": {
      "text/html": [
       "<div>\n",
       "<style scoped>\n",
       "    .dataframe tbody tr th:only-of-type {\n",
       "        vertical-align: middle;\n",
       "    }\n",
       "\n",
       "    .dataframe tbody tr th {\n",
       "        vertical-align: top;\n",
       "    }\n",
       "\n",
       "    .dataframe thead th {\n",
       "        text-align: right;\n",
       "    }\n",
       "</style>\n",
       "<table border=\"1\" class=\"dataframe\">\n",
       "  <thead>\n",
       "    <tr style=\"text-align: right;\">\n",
       "      <th></th>\n",
       "      <th>date</th>\n",
       "      <th>station</th>\n",
       "      <th>PRCP</th>\n",
       "      <th>SNOW</th>\n",
       "      <th>SNWD</th>\n",
       "      <th>TMAX</th>\n",
       "      <th>TMIN</th>\n",
       "      <th>TOBS</th>\n",
       "      <th>WESF</th>\n",
       "      <th>inclement_weather</th>\n",
       "    </tr>\n",
       "  </thead>\n",
       "  <tbody>\n",
       "    <tr>\n",
       "      <th>0</th>\n",
       "      <td>2018-01-01T00:00:00</td>\n",
       "      <td>?</td>\n",
       "      <td>0.0</td>\n",
       "      <td>0.0</td>\n",
       "      <td>-inf</td>\n",
       "      <td>5505.0</td>\n",
       "      <td>-40.0</td>\n",
       "      <td>NaN</td>\n",
       "      <td>NaN</td>\n",
       "      <td>NaN</td>\n",
       "    </tr>\n",
       "    <tr>\n",
       "      <th>1</th>\n",
       "      <td>2018-01-01T00:00:00</td>\n",
       "      <td>?</td>\n",
       "      <td>0.0</td>\n",
       "      <td>0.0</td>\n",
       "      <td>-inf</td>\n",
       "      <td>5505.0</td>\n",
       "      <td>-40.0</td>\n",
       "      <td>NaN</td>\n",
       "      <td>NaN</td>\n",
       "      <td>NaN</td>\n",
       "    </tr>\n",
       "    <tr>\n",
       "      <th>2</th>\n",
       "      <td>2018-01-01T00:00:00</td>\n",
       "      <td>?</td>\n",
       "      <td>0.0</td>\n",
       "      <td>0.0</td>\n",
       "      <td>-inf</td>\n",
       "      <td>5505.0</td>\n",
       "      <td>-40.0</td>\n",
       "      <td>NaN</td>\n",
       "      <td>NaN</td>\n",
       "      <td>NaN</td>\n",
       "    </tr>\n",
       "    <tr>\n",
       "      <th>3</th>\n",
       "      <td>2018-01-02T00:00:00</td>\n",
       "      <td>GHCND:USC00280907</td>\n",
       "      <td>0.0</td>\n",
       "      <td>0.0</td>\n",
       "      <td>-inf</td>\n",
       "      <td>-8.3</td>\n",
       "      <td>-16.1</td>\n",
       "      <td>-12.2</td>\n",
       "      <td>NaN</td>\n",
       "      <td>False</td>\n",
       "    </tr>\n",
       "    <tr>\n",
       "      <th>4</th>\n",
       "      <td>2018-01-03T00:00:00</td>\n",
       "      <td>GHCND:USC00280907</td>\n",
       "      <td>0.0</td>\n",
       "      <td>0.0</td>\n",
       "      <td>-inf</td>\n",
       "      <td>-4.4</td>\n",
       "      <td>-13.9</td>\n",
       "      <td>-13.3</td>\n",
       "      <td>NaN</td>\n",
       "      <td>False</td>\n",
       "    </tr>\n",
       "  </tbody>\n",
       "</table>\n",
       "</div>"
      ],
      "text/plain": [
       "                  date            station  PRCP  SNOW  SNWD    TMAX  TMIN  \\\n",
       "0  2018-01-01T00:00:00                  ?   0.0   0.0  -inf  5505.0 -40.0   \n",
       "1  2018-01-01T00:00:00                  ?   0.0   0.0  -inf  5505.0 -40.0   \n",
       "2  2018-01-01T00:00:00                  ?   0.0   0.0  -inf  5505.0 -40.0   \n",
       "3  2018-01-02T00:00:00  GHCND:USC00280907   0.0   0.0  -inf    -8.3 -16.1   \n",
       "4  2018-01-03T00:00:00  GHCND:USC00280907   0.0   0.0  -inf    -4.4 -13.9   \n",
       "\n",
       "   TOBS  WESF inclement_weather  \n",
       "0   NaN   NaN               NaN  \n",
       "1   NaN   NaN               NaN  \n",
       "2   NaN   NaN               NaN  \n",
       "3 -12.2   NaN             False  \n",
       "4 -13.3   NaN             False  "
      ]
     },
     "execution_count": 5,
     "metadata": {},
     "output_type": "execute_result"
    }
   ],
   "source": [
    "df.head()"
   ]
  },
  {
   "cell_type": "markdown",
   "metadata": {},
   "source": [
    "El examen de las estadísticas resumidas puede revelar valores extraños o ausentes:"
   ]
  },
  {
   "cell_type": "code",
   "execution_count": 6,
   "metadata": {},
   "outputs": [
    {
     "name": "stderr",
     "output_type": "stream",
     "text": [
      "c:\\Users\\Sol\\Documents\\GitHub\\DS_PT_09_2023\\.venv\\Lib\\site-packages\\numpy\\core\\_methods.py:49: RuntimeWarning: invalid value encountered in reduce\n",
      "  return umr_sum(a, axis, dtype, out, keepdims, initial, where)\n",
      "c:\\Users\\Sol\\Documents\\GitHub\\DS_PT_09_2023\\.venv\\Lib\\site-packages\\numpy\\lib\\function_base.py:4655: RuntimeWarning: invalid value encountered in subtract\n",
      "  diff_b_a = subtract(b, a)\n"
     ]
    },
    {
     "data": {
      "text/html": [
       "<div>\n",
       "<style scoped>\n",
       "    .dataframe tbody tr th:only-of-type {\n",
       "        vertical-align: middle;\n",
       "    }\n",
       "\n",
       "    .dataframe tbody tr th {\n",
       "        vertical-align: top;\n",
       "    }\n",
       "\n",
       "    .dataframe thead th {\n",
       "        text-align: right;\n",
       "    }\n",
       "</style>\n",
       "<table border=\"1\" class=\"dataframe\">\n",
       "  <thead>\n",
       "    <tr style=\"text-align: right;\">\n",
       "      <th></th>\n",
       "      <th>PRCP</th>\n",
       "      <th>SNOW</th>\n",
       "      <th>SNWD</th>\n",
       "      <th>TMAX</th>\n",
       "      <th>TMIN</th>\n",
       "      <th>TOBS</th>\n",
       "      <th>WESF</th>\n",
       "    </tr>\n",
       "  </thead>\n",
       "  <tbody>\n",
       "    <tr>\n",
       "      <th>count</th>\n",
       "      <td>765.000000</td>\n",
       "      <td>577.000000</td>\n",
       "      <td>577.0</td>\n",
       "      <td>765.000000</td>\n",
       "      <td>765.000000</td>\n",
       "      <td>398.000000</td>\n",
       "      <td>11.000000</td>\n",
       "    </tr>\n",
       "    <tr>\n",
       "      <th>mean</th>\n",
       "      <td>5.360392</td>\n",
       "      <td>4.202773</td>\n",
       "      <td>NaN</td>\n",
       "      <td>2649.175294</td>\n",
       "      <td>-15.914379</td>\n",
       "      <td>8.632161</td>\n",
       "      <td>16.290909</td>\n",
       "    </tr>\n",
       "    <tr>\n",
       "      <th>std</th>\n",
       "      <td>10.002138</td>\n",
       "      <td>25.086077</td>\n",
       "      <td>NaN</td>\n",
       "      <td>2744.156281</td>\n",
       "      <td>24.242849</td>\n",
       "      <td>9.815054</td>\n",
       "      <td>9.489832</td>\n",
       "    </tr>\n",
       "    <tr>\n",
       "      <th>min</th>\n",
       "      <td>0.000000</td>\n",
       "      <td>0.000000</td>\n",
       "      <td>-inf</td>\n",
       "      <td>-11.700000</td>\n",
       "      <td>-40.000000</td>\n",
       "      <td>-16.100000</td>\n",
       "      <td>1.800000</td>\n",
       "    </tr>\n",
       "    <tr>\n",
       "      <th>25%</th>\n",
       "      <td>0.000000</td>\n",
       "      <td>0.000000</td>\n",
       "      <td>NaN</td>\n",
       "      <td>13.300000</td>\n",
       "      <td>-40.000000</td>\n",
       "      <td>0.150000</td>\n",
       "      <td>8.600000</td>\n",
       "    </tr>\n",
       "    <tr>\n",
       "      <th>50%</th>\n",
       "      <td>0.000000</td>\n",
       "      <td>0.000000</td>\n",
       "      <td>NaN</td>\n",
       "      <td>32.800000</td>\n",
       "      <td>-11.100000</td>\n",
       "      <td>8.300000</td>\n",
       "      <td>19.300000</td>\n",
       "    </tr>\n",
       "    <tr>\n",
       "      <th>75%</th>\n",
       "      <td>5.800000</td>\n",
       "      <td>0.000000</td>\n",
       "      <td>NaN</td>\n",
       "      <td>5505.000000</td>\n",
       "      <td>6.700000</td>\n",
       "      <td>18.300000</td>\n",
       "      <td>24.900000</td>\n",
       "    </tr>\n",
       "    <tr>\n",
       "      <th>max</th>\n",
       "      <td>61.700000</td>\n",
       "      <td>229.000000</td>\n",
       "      <td>inf</td>\n",
       "      <td>5505.000000</td>\n",
       "      <td>23.900000</td>\n",
       "      <td>26.100000</td>\n",
       "      <td>28.700000</td>\n",
       "    </tr>\n",
       "  </tbody>\n",
       "</table>\n",
       "</div>"
      ],
      "text/plain": [
       "             PRCP        SNOW   SNWD         TMAX        TMIN        TOBS  \\\n",
       "count  765.000000  577.000000  577.0   765.000000  765.000000  398.000000   \n",
       "mean     5.360392    4.202773    NaN  2649.175294  -15.914379    8.632161   \n",
       "std     10.002138   25.086077    NaN  2744.156281   24.242849    9.815054   \n",
       "min      0.000000    0.000000   -inf   -11.700000  -40.000000  -16.100000   \n",
       "25%      0.000000    0.000000    NaN    13.300000  -40.000000    0.150000   \n",
       "50%      0.000000    0.000000    NaN    32.800000  -11.100000    8.300000   \n",
       "75%      5.800000    0.000000    NaN  5505.000000    6.700000   18.300000   \n",
       "max     61.700000  229.000000    inf  5505.000000   23.900000   26.100000   \n",
       "\n",
       "            WESF  \n",
       "count  11.000000  \n",
       "mean   16.290909  \n",
       "std     9.489832  \n",
       "min     1.800000  \n",
       "25%     8.600000  \n",
       "50%    19.300000  \n",
       "75%    24.900000  \n",
       "max    28.700000  "
      ]
     },
     "execution_count": 6,
     "metadata": {},
     "output_type": "execute_result"
    }
   ],
   "source": [
    "df.describe()"
   ]
  },
  {
   "cell_type": "markdown",
   "metadata": {},
   "source": [
    "El método `info()` puede señalar valores omitidos y tipos de datos erróneos:"
   ]
  },
  {
   "cell_type": "code",
   "execution_count": 7,
   "metadata": {},
   "outputs": [
    {
     "name": "stdout",
     "output_type": "stream",
     "text": [
      "<class 'pandas.core.frame.DataFrame'>\n",
      "RangeIndex: 765 entries, 0 to 764\n",
      "Data columns (total 10 columns):\n",
      " #   Column             Non-Null Count  Dtype  \n",
      "---  ------             --------------  -----  \n",
      " 0   date               765 non-null    object \n",
      " 1   station            765 non-null    object \n",
      " 2   PRCP               765 non-null    float64\n",
      " 3   SNOW               577 non-null    float64\n",
      " 4   SNWD               577 non-null    float64\n",
      " 5   TMAX               765 non-null    float64\n",
      " 6   TMIN               765 non-null    float64\n",
      " 7   TOBS               398 non-null    float64\n",
      " 8   WESF               11 non-null     float64\n",
      " 9   inclement_weather  408 non-null    object \n",
      "dtypes: float64(7), object(3)\n",
      "memory usage: 59.9+ KB\n"
     ]
    }
   ],
   "source": [
    "df.info()"
   ]
  },
  {
   "cell_type": "markdown",
   "metadata": {},
   "source": [
    "Podemos utilizar el método `isna()`/`isnull()` de la serie para encontrar nulos:"
   ]
  },
  {
   "cell_type": "code",
   "execution_count": 8,
   "metadata": {},
   "outputs": [
    {
     "data": {
      "text/plain": [
       "765"
      ]
     },
     "execution_count": 8,
     "metadata": {},
     "output_type": "execute_result"
    }
   ],
   "source": [
    "contain_nulls = df[\n",
    "    df.SNOW.isna() | df.SNWD.isna() | df.TOBS.isna()\n",
    "    | df.WESF.isna() | df.inclement_weather.isna()\n",
    "]\n",
    "contain_nulls.shape[0]"
   ]
  },
  {
   "cell_type": "code",
   "execution_count": 9,
   "metadata": {},
   "outputs": [
    {
     "data": {
      "text/html": [
       "<div>\n",
       "<style scoped>\n",
       "    .dataframe tbody tr th:only-of-type {\n",
       "        vertical-align: middle;\n",
       "    }\n",
       "\n",
       "    .dataframe tbody tr th {\n",
       "        vertical-align: top;\n",
       "    }\n",
       "\n",
       "    .dataframe thead th {\n",
       "        text-align: right;\n",
       "    }\n",
       "</style>\n",
       "<table border=\"1\" class=\"dataframe\">\n",
       "  <thead>\n",
       "    <tr style=\"text-align: right;\">\n",
       "      <th></th>\n",
       "      <th>date</th>\n",
       "      <th>station</th>\n",
       "      <th>PRCP</th>\n",
       "      <th>SNOW</th>\n",
       "      <th>SNWD</th>\n",
       "      <th>TMAX</th>\n",
       "      <th>TMIN</th>\n",
       "      <th>TOBS</th>\n",
       "      <th>WESF</th>\n",
       "      <th>inclement_weather</th>\n",
       "    </tr>\n",
       "  </thead>\n",
       "  <tbody>\n",
       "    <tr>\n",
       "      <th>0</th>\n",
       "      <td>2018-01-01T00:00:00</td>\n",
       "      <td>?</td>\n",
       "      <td>0.0</td>\n",
       "      <td>0.0</td>\n",
       "      <td>-inf</td>\n",
       "      <td>5505.0</td>\n",
       "      <td>-40.0</td>\n",
       "      <td>NaN</td>\n",
       "      <td>NaN</td>\n",
       "      <td>NaN</td>\n",
       "    </tr>\n",
       "    <tr>\n",
       "      <th>1</th>\n",
       "      <td>2018-01-01T00:00:00</td>\n",
       "      <td>?</td>\n",
       "      <td>0.0</td>\n",
       "      <td>0.0</td>\n",
       "      <td>-inf</td>\n",
       "      <td>5505.0</td>\n",
       "      <td>-40.0</td>\n",
       "      <td>NaN</td>\n",
       "      <td>NaN</td>\n",
       "      <td>NaN</td>\n",
       "    </tr>\n",
       "    <tr>\n",
       "      <th>2</th>\n",
       "      <td>2018-01-01T00:00:00</td>\n",
       "      <td>?</td>\n",
       "      <td>0.0</td>\n",
       "      <td>0.0</td>\n",
       "      <td>-inf</td>\n",
       "      <td>5505.0</td>\n",
       "      <td>-40.0</td>\n",
       "      <td>NaN</td>\n",
       "      <td>NaN</td>\n",
       "      <td>NaN</td>\n",
       "    </tr>\n",
       "    <tr>\n",
       "      <th>3</th>\n",
       "      <td>2018-01-02T00:00:00</td>\n",
       "      <td>GHCND:USC00280907</td>\n",
       "      <td>0.0</td>\n",
       "      <td>0.0</td>\n",
       "      <td>-inf</td>\n",
       "      <td>-8.3</td>\n",
       "      <td>-16.1</td>\n",
       "      <td>-12.2</td>\n",
       "      <td>NaN</td>\n",
       "      <td>False</td>\n",
       "    </tr>\n",
       "    <tr>\n",
       "      <th>4</th>\n",
       "      <td>2018-01-03T00:00:00</td>\n",
       "      <td>GHCND:USC00280907</td>\n",
       "      <td>0.0</td>\n",
       "      <td>0.0</td>\n",
       "      <td>-inf</td>\n",
       "      <td>-4.4</td>\n",
       "      <td>-13.9</td>\n",
       "      <td>-13.3</td>\n",
       "      <td>NaN</td>\n",
       "      <td>False</td>\n",
       "    </tr>\n",
       "    <tr>\n",
       "      <th>5</th>\n",
       "      <td>2018-01-03T00:00:00</td>\n",
       "      <td>GHCND:USC00280907</td>\n",
       "      <td>0.0</td>\n",
       "      <td>0.0</td>\n",
       "      <td>-inf</td>\n",
       "      <td>-4.4</td>\n",
       "      <td>-13.9</td>\n",
       "      <td>-13.3</td>\n",
       "      <td>NaN</td>\n",
       "      <td>False</td>\n",
       "    </tr>\n",
       "    <tr>\n",
       "      <th>6</th>\n",
       "      <td>2018-01-03T00:00:00</td>\n",
       "      <td>GHCND:USC00280907</td>\n",
       "      <td>0.0</td>\n",
       "      <td>0.0</td>\n",
       "      <td>-inf</td>\n",
       "      <td>-4.4</td>\n",
       "      <td>-13.9</td>\n",
       "      <td>-13.3</td>\n",
       "      <td>NaN</td>\n",
       "      <td>False</td>\n",
       "    </tr>\n",
       "    <tr>\n",
       "      <th>7</th>\n",
       "      <td>2018-01-04T00:00:00</td>\n",
       "      <td>?</td>\n",
       "      <td>20.6</td>\n",
       "      <td>229.0</td>\n",
       "      <td>inf</td>\n",
       "      <td>5505.0</td>\n",
       "      <td>-40.0</td>\n",
       "      <td>NaN</td>\n",
       "      <td>19.3</td>\n",
       "      <td>True</td>\n",
       "    </tr>\n",
       "    <tr>\n",
       "      <th>8</th>\n",
       "      <td>2018-01-04T00:00:00</td>\n",
       "      <td>?</td>\n",
       "      <td>20.6</td>\n",
       "      <td>229.0</td>\n",
       "      <td>inf</td>\n",
       "      <td>5505.0</td>\n",
       "      <td>-40.0</td>\n",
       "      <td>NaN</td>\n",
       "      <td>19.3</td>\n",
       "      <td>True</td>\n",
       "    </tr>\n",
       "    <tr>\n",
       "      <th>9</th>\n",
       "      <td>2018-01-05T00:00:00</td>\n",
       "      <td>?</td>\n",
       "      <td>0.3</td>\n",
       "      <td>NaN</td>\n",
       "      <td>NaN</td>\n",
       "      <td>5505.0</td>\n",
       "      <td>-40.0</td>\n",
       "      <td>NaN</td>\n",
       "      <td>NaN</td>\n",
       "      <td>NaN</td>\n",
       "    </tr>\n",
       "  </tbody>\n",
       "</table>\n",
       "</div>"
      ],
      "text/plain": [
       "                  date            station  PRCP   SNOW  SNWD    TMAX  TMIN  \\\n",
       "0  2018-01-01T00:00:00                  ?   0.0    0.0  -inf  5505.0 -40.0   \n",
       "1  2018-01-01T00:00:00                  ?   0.0    0.0  -inf  5505.0 -40.0   \n",
       "2  2018-01-01T00:00:00                  ?   0.0    0.0  -inf  5505.0 -40.0   \n",
       "3  2018-01-02T00:00:00  GHCND:USC00280907   0.0    0.0  -inf    -8.3 -16.1   \n",
       "4  2018-01-03T00:00:00  GHCND:USC00280907   0.0    0.0  -inf    -4.4 -13.9   \n",
       "5  2018-01-03T00:00:00  GHCND:USC00280907   0.0    0.0  -inf    -4.4 -13.9   \n",
       "6  2018-01-03T00:00:00  GHCND:USC00280907   0.0    0.0  -inf    -4.4 -13.9   \n",
       "7  2018-01-04T00:00:00                  ?  20.6  229.0   inf  5505.0 -40.0   \n",
       "8  2018-01-04T00:00:00                  ?  20.6  229.0   inf  5505.0 -40.0   \n",
       "9  2018-01-05T00:00:00                  ?   0.3    NaN   NaN  5505.0 -40.0   \n",
       "\n",
       "   TOBS  WESF inclement_weather  \n",
       "0   NaN   NaN               NaN  \n",
       "1   NaN   NaN               NaN  \n",
       "2   NaN   NaN               NaN  \n",
       "3 -12.2   NaN             False  \n",
       "4 -13.3   NaN             False  \n",
       "5 -13.3   NaN             False  \n",
       "6 -13.3   NaN             False  \n",
       "7   NaN  19.3              True  \n",
       "8   NaN  19.3              True  \n",
       "9   NaN   NaN               NaN  "
      ]
     },
     "execution_count": 9,
     "metadata": {},
     "output_type": "execute_result"
    }
   ],
   "source": [
    "contain_nulls.head(10)"
   ]
  },
  {
   "cell_type": "markdown",
   "metadata": {},
   "source": [
    "Tenga en cuenta que no podemos comprobar si tenemos `NaN` así:"
   ]
  },
  {
   "cell_type": "code",
   "execution_count": 10,
   "metadata": {},
   "outputs": [
    {
     "data": {
      "text/plain": [
       "0"
      ]
     },
     "execution_count": 10,
     "metadata": {},
     "output_type": "execute_result"
    }
   ],
   "source": [
    "df[df.inclement_weather == 'NaN'].shape[0]"
   ]
  },
  {
   "cell_type": "markdown",
   "metadata": {},
   "source": [
    "Esto se debe a que en realidad es `np.nan`. Sin embargo, observe que esto tampoco funciona:"
   ]
  },
  {
   "cell_type": "code",
   "execution_count": 11,
   "metadata": {},
   "outputs": [
    {
     "data": {
      "text/plain": [
       "0"
      ]
     },
     "execution_count": 11,
     "metadata": {},
     "output_type": "execute_result"
    }
   ],
   "source": [
    "import numpy as np\n",
    "df[df.inclement_weather == np.nan].shape[0]"
   ]
  },
  {
   "cell_type": "markdown",
   "metadata": {},
   "source": [
    "Tenemos que utilizar uno de los métodos comentados anteriormente para que esto funcione:"
   ]
  },
  {
   "cell_type": "code",
   "execution_count": 12,
   "metadata": {},
   "outputs": [
    {
     "data": {
      "text/plain": [
       "357"
      ]
     },
     "execution_count": 12,
     "metadata": {},
     "output_type": "execute_result"
    }
   ],
   "source": [
    "df[df.inclement_weather.isna()].shape[0]"
   ]
  },
  {
   "cell_type": "markdown",
   "metadata": {},
   "source": [
    "Podemos encontrar `-inf`/`inf` comparando con `-np.inf`/`np.inf`:"
   ]
  },
  {
   "cell_type": "code",
   "execution_count": 13,
   "metadata": {},
   "outputs": [
    {
     "data": {
      "text/plain": [
       "577"
      ]
     },
     "execution_count": 13,
     "metadata": {},
     "output_type": "execute_result"
    }
   ],
   "source": [
    "df[df.SNWD.isin([-np.inf, np.inf])].shape[0]"
   ]
  },
  {
   "cell_type": "markdown",
   "metadata": {},
   "source": [
    "En lugar de hacer esto para cada columna, podemos escribir una función que utilice un [diccionario de comprensión](https://www.python.org/dev/peps/pep-0274/) para comprobar todas las columnas por nosotros:"
   ]
  },
  {
   "cell_type": "code",
   "execution_count": 14,
   "metadata": {},
   "outputs": [
    {
     "data": {
      "text/plain": [
       "{'date': 0,\n",
       " 'station': 0,\n",
       " 'PRCP': 0,\n",
       " 'SNOW': 0,\n",
       " 'SNWD': 577,\n",
       " 'TMAX': 0,\n",
       " 'TMIN': 0,\n",
       " 'TOBS': 0,\n",
       " 'WESF': 0,\n",
       " 'inclement_weather': 0}"
      ]
     },
     "execution_count": 14,
     "metadata": {},
     "output_type": "execute_result"
    }
   ],
   "source": [
    "def get_inf_count(df:pd.DataFrame) -> dict:\n",
    "    \"\"\"Encontrar el número de valores inf/inf por columna en el marco de datos\"\"\"\n",
    "    return {\n",
    "        col: df[df[col].isin([np.inf, -np.inf])].shape[0] for col in df.columns\n",
    "    }\n",
    "\n",
    "get_inf_count(df)"
   ]
  },
  {
   "cell_type": "markdown",
   "metadata": {},
   "source": [
    "Antes de decidir cómo tratar los valores infinitos de la profundidad de nieve, debemos examinar las estadísticas de resumen de las nevadas, que constituyen una parte importante en la determinación de la profundidad de nieve:"
   ]
  },
  {
   "cell_type": "code",
   "execution_count": 15,
   "metadata": {},
   "outputs": [
    {
     "data": {
      "text/html": [
       "<div>\n",
       "<style scoped>\n",
       "    .dataframe tbody tr th:only-of-type {\n",
       "        vertical-align: middle;\n",
       "    }\n",
       "\n",
       "    .dataframe tbody tr th {\n",
       "        vertical-align: top;\n",
       "    }\n",
       "\n",
       "    .dataframe thead th {\n",
       "        text-align: right;\n",
       "    }\n",
       "</style>\n",
       "<table border=\"1\" class=\"dataframe\">\n",
       "  <thead>\n",
       "    <tr style=\"text-align: right;\">\n",
       "      <th></th>\n",
       "      <th>count</th>\n",
       "      <th>mean</th>\n",
       "      <th>std</th>\n",
       "      <th>min</th>\n",
       "      <th>25%</th>\n",
       "      <th>50%</th>\n",
       "      <th>75%</th>\n",
       "      <th>max</th>\n",
       "    </tr>\n",
       "  </thead>\n",
       "  <tbody>\n",
       "    <tr>\n",
       "      <th>np.inf Snow Depth</th>\n",
       "      <td>24.0</td>\n",
       "      <td>101.041667</td>\n",
       "      <td>74.498018</td>\n",
       "      <td>13.0</td>\n",
       "      <td>25.0</td>\n",
       "      <td>120.5</td>\n",
       "      <td>152.0</td>\n",
       "      <td>229.0</td>\n",
       "    </tr>\n",
       "    <tr>\n",
       "      <th>-np.inf Snow Depth</th>\n",
       "      <td>553.0</td>\n",
       "      <td>0.000000</td>\n",
       "      <td>0.000000</td>\n",
       "      <td>0.0</td>\n",
       "      <td>0.0</td>\n",
       "      <td>0.0</td>\n",
       "      <td>0.0</td>\n",
       "      <td>0.0</td>\n",
       "    </tr>\n",
       "  </tbody>\n",
       "</table>\n",
       "</div>"
      ],
      "text/plain": [
       "                    count        mean        std   min   25%    50%    75%  \\\n",
       "np.inf Snow Depth    24.0  101.041667  74.498018  13.0  25.0  120.5  152.0   \n",
       "-np.inf Snow Depth  553.0    0.000000   0.000000   0.0   0.0    0.0    0.0   \n",
       "\n",
       "                      max  \n",
       "np.inf Snow Depth   229.0  \n",
       "-np.inf Snow Depth    0.0  "
      ]
     },
     "execution_count": 15,
     "metadata": {},
     "output_type": "execute_result"
    }
   ],
   "source": [
    "pd.DataFrame({\n",
    "    'np.inf Snow Depth': df[df.SNWD == np.inf].SNOW.describe(),\n",
    "    '-np.inf Snow Depth': df[df.SNWD == -np.inf].SNOW.describe()\n",
    "}).T"
   ]
  },
  {
   "cell_type": "markdown",
   "metadata": {},
   "source": [
    "Veamos ahora las columnas `date` y `station`. Antes vimos el valor `?` de estación, así que sabemos que es el otro valor único. Sin embargo, vemos que algunas fechas están presentes 8 veces en los datos y sólo tenemos 324 días, lo que significa que también nos faltan días:"
   ]
  },
  {
   "cell_type": "code",
   "execution_count": 16,
   "metadata": {},
   "outputs": [
    {
     "data": {
      "text/html": [
       "<div>\n",
       "<style scoped>\n",
       "    .dataframe tbody tr th:only-of-type {\n",
       "        vertical-align: middle;\n",
       "    }\n",
       "\n",
       "    .dataframe tbody tr th {\n",
       "        vertical-align: top;\n",
       "    }\n",
       "\n",
       "    .dataframe thead th {\n",
       "        text-align: right;\n",
       "    }\n",
       "</style>\n",
       "<table border=\"1\" class=\"dataframe\">\n",
       "  <thead>\n",
       "    <tr style=\"text-align: right;\">\n",
       "      <th></th>\n",
       "      <th>date</th>\n",
       "      <th>station</th>\n",
       "      <th>inclement_weather</th>\n",
       "    </tr>\n",
       "  </thead>\n",
       "  <tbody>\n",
       "    <tr>\n",
       "      <th>count</th>\n",
       "      <td>765</td>\n",
       "      <td>765</td>\n",
       "      <td>408</td>\n",
       "    </tr>\n",
       "    <tr>\n",
       "      <th>unique</th>\n",
       "      <td>324</td>\n",
       "      <td>2</td>\n",
       "      <td>2</td>\n",
       "    </tr>\n",
       "    <tr>\n",
       "      <th>top</th>\n",
       "      <td>2018-07-05T00:00:00</td>\n",
       "      <td>GHCND:USC00280907</td>\n",
       "      <td>False</td>\n",
       "    </tr>\n",
       "    <tr>\n",
       "      <th>freq</th>\n",
       "      <td>8</td>\n",
       "      <td>398</td>\n",
       "      <td>384</td>\n",
       "    </tr>\n",
       "  </tbody>\n",
       "</table>\n",
       "</div>"
      ],
      "text/plain": [
       "                       date            station inclement_weather\n",
       "count                   765                765               408\n",
       "unique                  324                  2                 2\n",
       "top     2018-07-05T00:00:00  GHCND:USC00280907             False\n",
       "freq                      8                398               384"
      ]
     },
     "execution_count": 16,
     "metadata": {},
     "output_type": "execute_result"
    }
   ],
   "source": [
    "df.describe(include='object')"
   ]
  },
  {
   "cell_type": "markdown",
   "metadata": {},
   "source": [
    "Podemos utilizar el método `duplicated()` para encontrar filas duplicadas:"
   ]
  },
  {
   "cell_type": "code",
   "execution_count": 17,
   "metadata": {},
   "outputs": [
    {
     "data": {
      "text/plain": [
       "284"
      ]
     },
     "execution_count": 17,
     "metadata": {},
     "output_type": "execute_result"
    }
   ],
   "source": [
    "df[df.duplicated()].shape[0]"
   ]
  },
  {
   "cell_type": "markdown",
   "metadata": {},
   "source": [
    "El valor por defecto de `keep` es `'first'`, lo que significa que no mostrará la primera fila en la que se vieron los datos duplicados; sin embargo, podemos pasar `False` para verla:"
   ]
  },
  {
   "cell_type": "code",
   "execution_count": 18,
   "metadata": {},
   "outputs": [
    {
     "data": {
      "text/plain": [
       "482"
      ]
     },
     "execution_count": 18,
     "metadata": {},
     "output_type": "execute_result"
    }
   ],
   "source": [
    "df[df.duplicated(keep=False)].shape[0]"
   ]
  },
  {
   "cell_type": "markdown",
   "metadata": {},
   "source": [
    "También podemos especificar las columnas a utilizar:"
   ]
  },
  {
   "cell_type": "code",
   "execution_count": 19,
   "metadata": {},
   "outputs": [
    {
     "data": {
      "text/plain": [
       "284"
      ]
     },
     "execution_count": 19,
     "metadata": {},
     "output_type": "execute_result"
    }
   ],
   "source": [
    "df[df.duplicated(['date', 'station'])].shape[0]"
   ]
  },
  {
   "cell_type": "markdown",
   "metadata": {},
   "source": [
    "Veamos algunos duplicados. Sólo en los pocos valores que vemos aquí, sabemos que los 4 primeros están realmente en los datos 6 veces porque por defecto no estamos viendo su primera aparición:"
   ]
  },
  {
   "cell_type": "code",
   "execution_count": 20,
   "metadata": {},
   "outputs": [
    {
     "data": {
      "text/html": [
       "<div>\n",
       "<style scoped>\n",
       "    .dataframe tbody tr th:only-of-type {\n",
       "        vertical-align: middle;\n",
       "    }\n",
       "\n",
       "    .dataframe tbody tr th {\n",
       "        vertical-align: top;\n",
       "    }\n",
       "\n",
       "    .dataframe thead th {\n",
       "        text-align: right;\n",
       "    }\n",
       "</style>\n",
       "<table border=\"1\" class=\"dataframe\">\n",
       "  <thead>\n",
       "    <tr style=\"text-align: right;\">\n",
       "      <th></th>\n",
       "      <th>date</th>\n",
       "      <th>station</th>\n",
       "      <th>PRCP</th>\n",
       "      <th>SNOW</th>\n",
       "      <th>SNWD</th>\n",
       "      <th>TMAX</th>\n",
       "      <th>TMIN</th>\n",
       "      <th>TOBS</th>\n",
       "      <th>WESF</th>\n",
       "      <th>inclement_weather</th>\n",
       "    </tr>\n",
       "  </thead>\n",
       "  <tbody>\n",
       "    <tr>\n",
       "      <th>1</th>\n",
       "      <td>2018-01-01T00:00:00</td>\n",
       "      <td>?</td>\n",
       "      <td>0.0</td>\n",
       "      <td>0.0</td>\n",
       "      <td>-inf</td>\n",
       "      <td>5505.0</td>\n",
       "      <td>-40.0</td>\n",
       "      <td>NaN</td>\n",
       "      <td>NaN</td>\n",
       "      <td>NaN</td>\n",
       "    </tr>\n",
       "    <tr>\n",
       "      <th>2</th>\n",
       "      <td>2018-01-01T00:00:00</td>\n",
       "      <td>?</td>\n",
       "      <td>0.0</td>\n",
       "      <td>0.0</td>\n",
       "      <td>-inf</td>\n",
       "      <td>5505.0</td>\n",
       "      <td>-40.0</td>\n",
       "      <td>NaN</td>\n",
       "      <td>NaN</td>\n",
       "      <td>NaN</td>\n",
       "    </tr>\n",
       "    <tr>\n",
       "      <th>5</th>\n",
       "      <td>2018-01-03T00:00:00</td>\n",
       "      <td>GHCND:USC00280907</td>\n",
       "      <td>0.0</td>\n",
       "      <td>0.0</td>\n",
       "      <td>-inf</td>\n",
       "      <td>-4.4</td>\n",
       "      <td>-13.9</td>\n",
       "      <td>-13.3</td>\n",
       "      <td>NaN</td>\n",
       "      <td>False</td>\n",
       "    </tr>\n",
       "    <tr>\n",
       "      <th>6</th>\n",
       "      <td>2018-01-03T00:00:00</td>\n",
       "      <td>GHCND:USC00280907</td>\n",
       "      <td>0.0</td>\n",
       "      <td>0.0</td>\n",
       "      <td>-inf</td>\n",
       "      <td>-4.4</td>\n",
       "      <td>-13.9</td>\n",
       "      <td>-13.3</td>\n",
       "      <td>NaN</td>\n",
       "      <td>False</td>\n",
       "    </tr>\n",
       "    <tr>\n",
       "      <th>8</th>\n",
       "      <td>2018-01-04T00:00:00</td>\n",
       "      <td>?</td>\n",
       "      <td>20.6</td>\n",
       "      <td>229.0</td>\n",
       "      <td>inf</td>\n",
       "      <td>5505.0</td>\n",
       "      <td>-40.0</td>\n",
       "      <td>NaN</td>\n",
       "      <td>19.3</td>\n",
       "      <td>True</td>\n",
       "    </tr>\n",
       "  </tbody>\n",
       "</table>\n",
       "</div>"
      ],
      "text/plain": [
       "                  date            station  PRCP   SNOW  SNWD    TMAX  TMIN  \\\n",
       "1  2018-01-01T00:00:00                  ?   0.0    0.0  -inf  5505.0 -40.0   \n",
       "2  2018-01-01T00:00:00                  ?   0.0    0.0  -inf  5505.0 -40.0   \n",
       "5  2018-01-03T00:00:00  GHCND:USC00280907   0.0    0.0  -inf    -4.4 -13.9   \n",
       "6  2018-01-03T00:00:00  GHCND:USC00280907   0.0    0.0  -inf    -4.4 -13.9   \n",
       "8  2018-01-04T00:00:00                  ?  20.6  229.0   inf  5505.0 -40.0   \n",
       "\n",
       "   TOBS  WESF inclement_weather  \n",
       "1   NaN   NaN               NaN  \n",
       "2   NaN   NaN               NaN  \n",
       "5 -13.3   NaN             False  \n",
       "6 -13.3   NaN             False  \n",
       "8   NaN  19.3              True  "
      ]
     },
     "execution_count": 20,
     "metadata": {},
     "output_type": "execute_result"
    }
   ],
   "source": [
    "df[df.duplicated()].head()"
   ]
  },
  {
   "cell_type": "markdown",
   "metadata": {},
   "source": [
    "## Cuestiones atenuantes\n",
    "\n",
    "### Manejo de datos duplicados\n",
    "Como sabemos que tenemos los datos meteorológicos de NY y nos hemos dado cuenta de que sólo tenemos dos entradas para `estación`, podemos decidir eliminar la columna `estación` porque sólo nos interesan los datos meteorológicos. Sin embargo, cuando tratamos con datos duplicados, tenemos que pensar en las ramificaciones de eliminarlos. Observe que sólo tenemos datos para la columna `WESF` cuando la estación es `?`:"
   ]
  },
  {
   "cell_type": "code",
   "execution_count": 21,
   "metadata": {},
   "outputs": [
    {
     "data": {
      "text/plain": [
       "array(['?'], dtype=object)"
      ]
     },
     "execution_count": 21,
     "metadata": {},
     "output_type": "execute_result"
    }
   ],
   "source": [
    "df[df.WESF.notna()].station.unique()"
   ]
  },
  {
   "cell_type": "markdown",
   "metadata": {},
   "source": [
    "Si determinamos que no afectará a nuestro análisis, podemos utilizar `drop_duplicates()` para eliminarlos:"
   ]
  },
  {
   "cell_type": "code",
   "execution_count": 22,
   "metadata": {},
   "outputs": [
    {
     "data": {
      "text/plain": [
       "(324, 8)"
      ]
     },
     "execution_count": 22,
     "metadata": {},
     "output_type": "execute_result"
    }
   ],
   "source": [
    "# 1. hacer que la fecha sea una fecha-hora\n",
    "df.date = pd.to_datetime(df.date)\n",
    "\n",
    "# 2. guarde esta información para más tarde\n",
    "station_qm_wesf = df[df.station == '?'].drop_duplicates('date').set_index('date').WESF\n",
    "\n",
    "# 3. ordenar al final\n",
    "df.sort_values('station', ascending=False, inplace=True)\n",
    "\n",
    "# 4. elimine los duplicados basándose en la columna de fecha manteniendo la primera ocurrencia\n",
    "# que será la estación válida si tiene datos\n",
    "df_deduped = df.drop_duplicates('date')\n",
    "\n",
    "# 5. eliminar la columna de la estación porque hemos terminado con ella\n",
    "df_deduped = df_deduped.drop(columns='station').set_index('date').sort_index()\n",
    "\n",
    "# 6. tomar el WESF de la estación válida y volver a la estación ? si es nulo\n",
    "df_deduped = df_deduped.assign(\n",
    "    WESF=lambda x: x.WESF.combine_first(station_qm_wesf)\n",
    ")\n",
    "\n",
    "df_deduped.shape"
   ]
  },
  {
   "cell_type": "markdown",
   "metadata": {},
   "source": [
    "Aquí utilizamos el método `combine_first()` para unir los valores a la primera entrada no nula; esto significa que si tuviéramos datos de ambas estaciones, tomaríamos primero el valor proporcionado por la estación nombrada y si (y sólo si) esa estación fuera nula tomaríamos el valor de la estación nombrada `?`. En la tabla siguiente se muestran algunos ejemplos de esta situación:\n",
    "\n",
    "| estación GHCND:USC00280907 | estación ? | resultado de `combine_first()` |\n",
    "| :---: | :---: | :---: |\n",
    "| 1 | 17 | 1 |\n",
    "| 1 | `NaN` | 1 |\n",
    "| `NaN` | 17 | 17 |\n",
    "| `NaN` | `NaN` | `NaN` |\n",
    "\n",
    "Fíjate en la 4ª fila&mdash;tenemos `WESF` en el lugar correcto gracias al índice:"
   ]
  },
  {
   "cell_type": "code",
   "execution_count": 23,
   "metadata": {},
   "outputs": [
    {
     "data": {
      "text/html": [
       "<div>\n",
       "<style scoped>\n",
       "    .dataframe tbody tr th:only-of-type {\n",
       "        vertical-align: middle;\n",
       "    }\n",
       "\n",
       "    .dataframe tbody tr th {\n",
       "        vertical-align: top;\n",
       "    }\n",
       "\n",
       "    .dataframe thead th {\n",
       "        text-align: right;\n",
       "    }\n",
       "</style>\n",
       "<table border=\"1\" class=\"dataframe\">\n",
       "  <thead>\n",
       "    <tr style=\"text-align: right;\">\n",
       "      <th></th>\n",
       "      <th>PRCP</th>\n",
       "      <th>SNOW</th>\n",
       "      <th>SNWD</th>\n",
       "      <th>TMAX</th>\n",
       "      <th>TMIN</th>\n",
       "      <th>TOBS</th>\n",
       "      <th>WESF</th>\n",
       "      <th>inclement_weather</th>\n",
       "    </tr>\n",
       "    <tr>\n",
       "      <th>date</th>\n",
       "      <th></th>\n",
       "      <th></th>\n",
       "      <th></th>\n",
       "      <th></th>\n",
       "      <th></th>\n",
       "      <th></th>\n",
       "      <th></th>\n",
       "      <th></th>\n",
       "    </tr>\n",
       "  </thead>\n",
       "  <tbody>\n",
       "    <tr>\n",
       "      <th>2018-01-01</th>\n",
       "      <td>0.0</td>\n",
       "      <td>0.0</td>\n",
       "      <td>-inf</td>\n",
       "      <td>5505.0</td>\n",
       "      <td>-40.0</td>\n",
       "      <td>NaN</td>\n",
       "      <td>NaN</td>\n",
       "      <td>NaN</td>\n",
       "    </tr>\n",
       "    <tr>\n",
       "      <th>2018-01-02</th>\n",
       "      <td>0.0</td>\n",
       "      <td>0.0</td>\n",
       "      <td>-inf</td>\n",
       "      <td>-8.3</td>\n",
       "      <td>-16.1</td>\n",
       "      <td>-12.2</td>\n",
       "      <td>NaN</td>\n",
       "      <td>False</td>\n",
       "    </tr>\n",
       "    <tr>\n",
       "      <th>2018-01-03</th>\n",
       "      <td>0.0</td>\n",
       "      <td>0.0</td>\n",
       "      <td>-inf</td>\n",
       "      <td>-4.4</td>\n",
       "      <td>-13.9</td>\n",
       "      <td>-13.3</td>\n",
       "      <td>NaN</td>\n",
       "      <td>False</td>\n",
       "    </tr>\n",
       "    <tr>\n",
       "      <th>2018-01-04</th>\n",
       "      <td>20.6</td>\n",
       "      <td>229.0</td>\n",
       "      <td>inf</td>\n",
       "      <td>5505.0</td>\n",
       "      <td>-40.0</td>\n",
       "      <td>NaN</td>\n",
       "      <td>19.3</td>\n",
       "      <td>True</td>\n",
       "    </tr>\n",
       "    <tr>\n",
       "      <th>2018-01-05</th>\n",
       "      <td>14.2</td>\n",
       "      <td>127.0</td>\n",
       "      <td>inf</td>\n",
       "      <td>-4.4</td>\n",
       "      <td>-13.9</td>\n",
       "      <td>-13.9</td>\n",
       "      <td>NaN</td>\n",
       "      <td>True</td>\n",
       "    </tr>\n",
       "  </tbody>\n",
       "</table>\n",
       "</div>"
      ],
      "text/plain": [
       "            PRCP   SNOW  SNWD    TMAX  TMIN  TOBS  WESF inclement_weather\n",
       "date                                                                     \n",
       "2018-01-01   0.0    0.0  -inf  5505.0 -40.0   NaN   NaN               NaN\n",
       "2018-01-02   0.0    0.0  -inf    -8.3 -16.1 -12.2   NaN             False\n",
       "2018-01-03   0.0    0.0  -inf    -4.4 -13.9 -13.3   NaN             False\n",
       "2018-01-04  20.6  229.0   inf  5505.0 -40.0   NaN  19.3              True\n",
       "2018-01-05  14.2  127.0   inf    -4.4 -13.9 -13.9   NaN              True"
      ]
     },
     "execution_count": 23,
     "metadata": {},
     "output_type": "execute_result"
    }
   ],
   "source": [
    "df_deduped.head()"
   ]
  },
  {
   "cell_type": "markdown",
   "metadata": {},
   "source": [
    "### Tratamiento de los nulos\n",
    "Podríamos eliminar los nulos, sustituirlos por algún valor arbitrario o imputarlos utilizando los datos circundantes. Cada una de estas opciones puede tener ramificaciones, por lo que debemos elegir sabiamente.\n",
    "\n",
    "Podemos utilizar `dropna()` para eliminar filas en las que alguna columna tenga un valor nulo. Las opciones por defecto apenas nos dejan datos:"
   ]
  },
  {
   "cell_type": "code",
   "execution_count": 24,
   "metadata": {},
   "outputs": [
    {
     "data": {
      "text/plain": [
       "(4, 8)"
      ]
     },
     "execution_count": 24,
     "metadata": {},
     "output_type": "execute_result"
    }
   ],
   "source": [
    "df_deduped.dropna().shape"
   ]
  },
  {
   "cell_type": "markdown",
   "metadata": {},
   "source": [
    "Si pasamos `how='all'`, podemos elegir que sólo se eliminen las filas en las que todo es nulo, pero esto no elimina nada:"
   ]
  },
  {
   "cell_type": "code",
   "execution_count": 25,
   "metadata": {},
   "outputs": [
    {
     "data": {
      "text/plain": [
       "(324, 8)"
      ]
     },
     "execution_count": 25,
     "metadata": {},
     "output_type": "execute_result"
    }
   ],
   "source": [
    "df_deduped.dropna(how='all').shape"
   ]
  },
  {
   "cell_type": "markdown",
   "metadata": {},
   "source": [
    "Podemos utilizar sólo un subconjunto de columnas para determinar qué eliminar con el argumento `subset`:"
   ]
  },
  {
   "cell_type": "code",
   "execution_count": 26,
   "metadata": {},
   "outputs": [
    {
     "data": {
      "text/plain": [
       "(293, 8)"
      ]
     },
     "execution_count": 26,
     "metadata": {},
     "output_type": "execute_result"
    }
   ],
   "source": [
    "df_deduped.dropna(\n",
    "    how='all', subset=['inclement_weather', 'SNOW', 'SNWD']\n",
    ").shape"
   ]
  },
  {
   "cell_type": "markdown",
   "metadata": {},
   "source": [
    "Esto también se puede realizar a lo largo de las columnas, y también podemos exigir un cierto número de valores nulos antes de eliminar los datos:"
   ]
  },
  {
   "cell_type": "code",
   "execution_count": 27,
   "metadata": {},
   "outputs": [
    {
     "data": {
      "text/plain": [
       "Index(['PRCP', 'SNOW', 'SNWD', 'TMAX', 'TMIN', 'TOBS', 'inclement_weather'], dtype='object')"
      ]
     },
     "execution_count": 27,
     "metadata": {},
     "output_type": "execute_result"
    }
   ],
   "source": [
    "df_deduped.dropna(axis='columns', thresh=df_deduped.shape[0] * .75).columns"
   ]
  },
  {
   "cell_type": "markdown",
   "metadata": {},
   "source": [
    "Podemos elegir rellenar los valores nulos en su lugar con `fillna()`:"
   ]
  },
  {
   "cell_type": "code",
   "execution_count": 28,
   "metadata": {},
   "outputs": [
    {
     "data": {
      "text/html": [
       "<div>\n",
       "<style scoped>\n",
       "    .dataframe tbody tr th:only-of-type {\n",
       "        vertical-align: middle;\n",
       "    }\n",
       "\n",
       "    .dataframe tbody tr th {\n",
       "        vertical-align: top;\n",
       "    }\n",
       "\n",
       "    .dataframe thead th {\n",
       "        text-align: right;\n",
       "    }\n",
       "</style>\n",
       "<table border=\"1\" class=\"dataframe\">\n",
       "  <thead>\n",
       "    <tr style=\"text-align: right;\">\n",
       "      <th></th>\n",
       "      <th>PRCP</th>\n",
       "      <th>SNOW</th>\n",
       "      <th>SNWD</th>\n",
       "      <th>TMAX</th>\n",
       "      <th>TMIN</th>\n",
       "      <th>TOBS</th>\n",
       "      <th>WESF</th>\n",
       "      <th>inclement_weather</th>\n",
       "    </tr>\n",
       "    <tr>\n",
       "      <th>date</th>\n",
       "      <th></th>\n",
       "      <th></th>\n",
       "      <th></th>\n",
       "      <th></th>\n",
       "      <th></th>\n",
       "      <th></th>\n",
       "      <th></th>\n",
       "      <th></th>\n",
       "    </tr>\n",
       "  </thead>\n",
       "  <tbody>\n",
       "    <tr>\n",
       "      <th>2018-01-01</th>\n",
       "      <td>0.0</td>\n",
       "      <td>0.0</td>\n",
       "      <td>-inf</td>\n",
       "      <td>5505.0</td>\n",
       "      <td>-40.0</td>\n",
       "      <td>NaN</td>\n",
       "      <td>0.0</td>\n",
       "      <td>NaN</td>\n",
       "    </tr>\n",
       "    <tr>\n",
       "      <th>2018-01-02</th>\n",
       "      <td>0.0</td>\n",
       "      <td>0.0</td>\n",
       "      <td>-inf</td>\n",
       "      <td>-8.3</td>\n",
       "      <td>-16.1</td>\n",
       "      <td>-12.2</td>\n",
       "      <td>0.0</td>\n",
       "      <td>False</td>\n",
       "    </tr>\n",
       "    <tr>\n",
       "      <th>2018-01-03</th>\n",
       "      <td>0.0</td>\n",
       "      <td>0.0</td>\n",
       "      <td>-inf</td>\n",
       "      <td>-4.4</td>\n",
       "      <td>-13.9</td>\n",
       "      <td>-13.3</td>\n",
       "      <td>0.0</td>\n",
       "      <td>False</td>\n",
       "    </tr>\n",
       "    <tr>\n",
       "      <th>2018-01-04</th>\n",
       "      <td>20.6</td>\n",
       "      <td>229.0</td>\n",
       "      <td>inf</td>\n",
       "      <td>5505.0</td>\n",
       "      <td>-40.0</td>\n",
       "      <td>NaN</td>\n",
       "      <td>19.3</td>\n",
       "      <td>True</td>\n",
       "    </tr>\n",
       "    <tr>\n",
       "      <th>2018-01-05</th>\n",
       "      <td>14.2</td>\n",
       "      <td>127.0</td>\n",
       "      <td>inf</td>\n",
       "      <td>-4.4</td>\n",
       "      <td>-13.9</td>\n",
       "      <td>-13.9</td>\n",
       "      <td>0.0</td>\n",
       "      <td>True</td>\n",
       "    </tr>\n",
       "  </tbody>\n",
       "</table>\n",
       "</div>"
      ],
      "text/plain": [
       "            PRCP   SNOW  SNWD    TMAX  TMIN  TOBS  WESF inclement_weather\n",
       "date                                                                     \n",
       "2018-01-01   0.0    0.0  -inf  5505.0 -40.0   NaN   0.0               NaN\n",
       "2018-01-02   0.0    0.0  -inf    -8.3 -16.1 -12.2   0.0             False\n",
       "2018-01-03   0.0    0.0  -inf    -4.4 -13.9 -13.3   0.0             False\n",
       "2018-01-04  20.6  229.0   inf  5505.0 -40.0   NaN  19.3              True\n",
       "2018-01-05  14.2  127.0   inf    -4.4 -13.9 -13.9   0.0              True"
      ]
     },
     "execution_count": 28,
     "metadata": {},
     "output_type": "execute_result"
    }
   ],
   "source": [
    "df_deduped.loc[:,'WESF'].fillna(0, inplace=True)\n",
    "df_deduped.head()"
   ]
  },
  {
   "cell_type": "markdown",
   "metadata": {},
   "source": [
    "En este punto hemos hecho todo lo posible sin distorsionar los datos. Sabemos que nos faltan fechas, pero si reindexamos, no sabemos cómo rellenar los datos `NaN`. Con los datos meteorológicos, no podemos suponer que porque nevó un día nevará el siguiente o que la temperatura será la misma. Por este motivo, tenga en cuenta que los siguientes ejemplos sólo tienen fines ilustrativos: que podamos hacer algo no significa que debamos hacerlo.\n",
    "\n",
    "Dicho esto, vamos a tratar de resolver algunos de los problemas que quedan con los datos de temperatura. Sabemos que cuando `TMAX` es la temperatura del Sol, debe ser porque no había ningún valor medido, así que vamos a sustituirlo por `NaN`. También lo haremos para `TMIN` que actualmente utiliza -40°C como marcador de posición cuando sabemos que la temperatura más fría jamás registrada en NYC fue de -15°F (-26,1°C) el 9 de febrero de 1934:"
   ]
  },
  {
   "cell_type": "code",
   "execution_count": 29,
   "metadata": {},
   "outputs": [],
   "source": [
    "df_deduped = df_deduped.assign(\n",
    "    TMAX=lambda x: x.TMAX.replace(5505, np.nan),\n",
    "    TMIN=lambda x: x.TMIN.replace(-40, np.nan),\n",
    ")"
   ]
  },
  {
   "cell_type": "markdown",
   "metadata": {},
   "source": [
    "También supondremos que la temperatura no cambiará drásticamente día a día. Tenga en cuenta que esto es en realidad una gran suposición, pero nos permitirá entender cómo funciona `fillna()` cuando proporcionamos una estrategia a través del parámetro `method`. El método `fillna()` nos da 2 opciones para el parámetro `method`:\n",
    "- `'ffill'` para rellenar hacia adelante\n",
    "- bfill para rellenar hacia atrás\n",
    "\n",
    "*Note that `'nearest'` is missing because we are not reindexing.*\n",
    "\n",
    "Aquí usaremos `'ffill'` para mostrar cómo funciona:"
   ]
  },
  {
   "cell_type": "code",
   "execution_count": 30,
   "metadata": {},
   "outputs": [
    {
     "name": "stderr",
     "output_type": "stream",
     "text": [
      "C:\\Users\\Sol\\AppData\\Local\\Temp\\ipykernel_948\\2746109009.py:2: FutureWarning: Series.fillna with 'method' is deprecated and will raise in a future version. Use obj.ffill() or obj.bfill() instead.\n",
      "  TMAX=lambda x: x.TMAX.fillna(method='ffill'),\n",
      "C:\\Users\\Sol\\AppData\\Local\\Temp\\ipykernel_948\\2746109009.py:3: FutureWarning: Series.fillna with 'method' is deprecated and will raise in a future version. Use obj.ffill() or obj.bfill() instead.\n",
      "  TMIN=lambda x: x.TMIN.fillna(method='ffill')\n"
     ]
    },
    {
     "data": {
      "text/html": [
       "<div>\n",
       "<style scoped>\n",
       "    .dataframe tbody tr th:only-of-type {\n",
       "        vertical-align: middle;\n",
       "    }\n",
       "\n",
       "    .dataframe tbody tr th {\n",
       "        vertical-align: top;\n",
       "    }\n",
       "\n",
       "    .dataframe thead th {\n",
       "        text-align: right;\n",
       "    }\n",
       "</style>\n",
       "<table border=\"1\" class=\"dataframe\">\n",
       "  <thead>\n",
       "    <tr style=\"text-align: right;\">\n",
       "      <th></th>\n",
       "      <th>PRCP</th>\n",
       "      <th>SNOW</th>\n",
       "      <th>SNWD</th>\n",
       "      <th>TMAX</th>\n",
       "      <th>TMIN</th>\n",
       "      <th>TOBS</th>\n",
       "      <th>WESF</th>\n",
       "      <th>inclement_weather</th>\n",
       "    </tr>\n",
       "    <tr>\n",
       "      <th>date</th>\n",
       "      <th></th>\n",
       "      <th></th>\n",
       "      <th></th>\n",
       "      <th></th>\n",
       "      <th></th>\n",
       "      <th></th>\n",
       "      <th></th>\n",
       "      <th></th>\n",
       "    </tr>\n",
       "  </thead>\n",
       "  <tbody>\n",
       "    <tr>\n",
       "      <th>2018-01-01</th>\n",
       "      <td>0.0</td>\n",
       "      <td>0.0</td>\n",
       "      <td>-inf</td>\n",
       "      <td>NaN</td>\n",
       "      <td>NaN</td>\n",
       "      <td>NaN</td>\n",
       "      <td>0.0</td>\n",
       "      <td>NaN</td>\n",
       "    </tr>\n",
       "    <tr>\n",
       "      <th>2018-01-02</th>\n",
       "      <td>0.0</td>\n",
       "      <td>0.0</td>\n",
       "      <td>-inf</td>\n",
       "      <td>-8.3</td>\n",
       "      <td>-16.1</td>\n",
       "      <td>-12.2</td>\n",
       "      <td>0.0</td>\n",
       "      <td>False</td>\n",
       "    </tr>\n",
       "    <tr>\n",
       "      <th>2018-01-03</th>\n",
       "      <td>0.0</td>\n",
       "      <td>0.0</td>\n",
       "      <td>-inf</td>\n",
       "      <td>-4.4</td>\n",
       "      <td>-13.9</td>\n",
       "      <td>-13.3</td>\n",
       "      <td>0.0</td>\n",
       "      <td>False</td>\n",
       "    </tr>\n",
       "    <tr>\n",
       "      <th>2018-01-04</th>\n",
       "      <td>20.6</td>\n",
       "      <td>229.0</td>\n",
       "      <td>inf</td>\n",
       "      <td>-4.4</td>\n",
       "      <td>-13.9</td>\n",
       "      <td>NaN</td>\n",
       "      <td>19.3</td>\n",
       "      <td>True</td>\n",
       "    </tr>\n",
       "    <tr>\n",
       "      <th>2018-01-05</th>\n",
       "      <td>14.2</td>\n",
       "      <td>127.0</td>\n",
       "      <td>inf</td>\n",
       "      <td>-4.4</td>\n",
       "      <td>-13.9</td>\n",
       "      <td>-13.9</td>\n",
       "      <td>0.0</td>\n",
       "      <td>True</td>\n",
       "    </tr>\n",
       "  </tbody>\n",
       "</table>\n",
       "</div>"
      ],
      "text/plain": [
       "            PRCP   SNOW  SNWD  TMAX  TMIN  TOBS  WESF inclement_weather\n",
       "date                                                                   \n",
       "2018-01-01   0.0    0.0  -inf   NaN   NaN   NaN   0.0               NaN\n",
       "2018-01-02   0.0    0.0  -inf  -8.3 -16.1 -12.2   0.0             False\n",
       "2018-01-03   0.0    0.0  -inf  -4.4 -13.9 -13.3   0.0             False\n",
       "2018-01-04  20.6  229.0   inf  -4.4 -13.9   NaN  19.3              True\n",
       "2018-01-05  14.2  127.0   inf  -4.4 -13.9 -13.9   0.0              True"
      ]
     },
     "execution_count": 30,
     "metadata": {},
     "output_type": "execute_result"
    }
   ],
   "source": [
    "df_deduped.assign(\n",
    "    TMAX=lambda x: x.TMAX.ffill(),\n",
    "    TMIN=lambda x: x.TMIN.ffill()\n",
    ").head()"
   ]
  },
  {
   "cell_type": "markdown",
   "metadata": {},
   "source": [
    "Podemos utilizar `np.nan_to_num()` para convertir `np.nan` en 0 y `-np.inf`/`np.inf` en números finitos grandes negativos o positivos:"
   ]
  },
  {
   "cell_type": "code",
   "execution_count": 31,
   "metadata": {},
   "outputs": [
    {
     "data": {
      "text/html": [
       "<div>\n",
       "<style scoped>\n",
       "    .dataframe tbody tr th:only-of-type {\n",
       "        vertical-align: middle;\n",
       "    }\n",
       "\n",
       "    .dataframe tbody tr th {\n",
       "        vertical-align: top;\n",
       "    }\n",
       "\n",
       "    .dataframe thead th {\n",
       "        text-align: right;\n",
       "    }\n",
       "</style>\n",
       "<table border=\"1\" class=\"dataframe\">\n",
       "  <thead>\n",
       "    <tr style=\"text-align: right;\">\n",
       "      <th></th>\n",
       "      <th>PRCP</th>\n",
       "      <th>SNOW</th>\n",
       "      <th>SNWD</th>\n",
       "      <th>TMAX</th>\n",
       "      <th>TMIN</th>\n",
       "      <th>TOBS</th>\n",
       "      <th>WESF</th>\n",
       "      <th>inclement_weather</th>\n",
       "    </tr>\n",
       "    <tr>\n",
       "      <th>date</th>\n",
       "      <th></th>\n",
       "      <th></th>\n",
       "      <th></th>\n",
       "      <th></th>\n",
       "      <th></th>\n",
       "      <th></th>\n",
       "      <th></th>\n",
       "      <th></th>\n",
       "    </tr>\n",
       "  </thead>\n",
       "  <tbody>\n",
       "    <tr>\n",
       "      <th>2018-01-01</th>\n",
       "      <td>0.0</td>\n",
       "      <td>0.0</td>\n",
       "      <td>-1.797693e+308</td>\n",
       "      <td>NaN</td>\n",
       "      <td>NaN</td>\n",
       "      <td>NaN</td>\n",
       "      <td>0.0</td>\n",
       "      <td>NaN</td>\n",
       "    </tr>\n",
       "    <tr>\n",
       "      <th>2018-01-02</th>\n",
       "      <td>0.0</td>\n",
       "      <td>0.0</td>\n",
       "      <td>-1.797693e+308</td>\n",
       "      <td>-8.3</td>\n",
       "      <td>-16.1</td>\n",
       "      <td>-12.2</td>\n",
       "      <td>0.0</td>\n",
       "      <td>False</td>\n",
       "    </tr>\n",
       "    <tr>\n",
       "      <th>2018-01-03</th>\n",
       "      <td>0.0</td>\n",
       "      <td>0.0</td>\n",
       "      <td>-1.797693e+308</td>\n",
       "      <td>-4.4</td>\n",
       "      <td>-13.9</td>\n",
       "      <td>-13.3</td>\n",
       "      <td>0.0</td>\n",
       "      <td>False</td>\n",
       "    </tr>\n",
       "    <tr>\n",
       "      <th>2018-01-04</th>\n",
       "      <td>20.6</td>\n",
       "      <td>229.0</td>\n",
       "      <td>1.797693e+308</td>\n",
       "      <td>NaN</td>\n",
       "      <td>NaN</td>\n",
       "      <td>NaN</td>\n",
       "      <td>19.3</td>\n",
       "      <td>True</td>\n",
       "    </tr>\n",
       "    <tr>\n",
       "      <th>2018-01-05</th>\n",
       "      <td>14.2</td>\n",
       "      <td>127.0</td>\n",
       "      <td>1.797693e+308</td>\n",
       "      <td>-4.4</td>\n",
       "      <td>-13.9</td>\n",
       "      <td>-13.9</td>\n",
       "      <td>0.0</td>\n",
       "      <td>True</td>\n",
       "    </tr>\n",
       "  </tbody>\n",
       "</table>\n",
       "</div>"
      ],
      "text/plain": [
       "            PRCP   SNOW           SNWD  TMAX  TMIN  TOBS  WESF  \\\n",
       "date                                                             \n",
       "2018-01-01   0.0    0.0 -1.797693e+308   NaN   NaN   NaN   0.0   \n",
       "2018-01-02   0.0    0.0 -1.797693e+308  -8.3 -16.1 -12.2   0.0   \n",
       "2018-01-03   0.0    0.0 -1.797693e+308  -4.4 -13.9 -13.3   0.0   \n",
       "2018-01-04  20.6  229.0  1.797693e+308   NaN   NaN   NaN  19.3   \n",
       "2018-01-05  14.2  127.0  1.797693e+308  -4.4 -13.9 -13.9   0.0   \n",
       "\n",
       "           inclement_weather  \n",
       "date                          \n",
       "2018-01-01               NaN  \n",
       "2018-01-02             False  \n",
       "2018-01-03             False  \n",
       "2018-01-04              True  \n",
       "2018-01-05              True  "
      ]
     },
     "execution_count": 31,
     "metadata": {},
     "output_type": "execute_result"
    }
   ],
   "source": [
    "df_deduped.assign(\n",
    "    SNWD=lambda x: np.nan_to_num(x.SNWD)\n",
    ").head()"
   ]
  },
  {
   "cell_type": "markdown",
   "metadata": {},
   "source": [
    "Dependiendo de los datos con los que estemos trabajando, podemos utilizar el método `clip()` como alternativa a `np.nan_to_num()`. El método `clip()` permite limitar los valores a un umbral mínimo y/o máximo específico. Como `SNWD` no puede ser negativo, utilicemos `clip()` para imponer un límite inferior de cero. Para mostrar cómo funciona el límite superior, utilicemos el valor de `SNOW`:"
   ]
  },
  {
   "cell_type": "code",
   "execution_count": 32,
   "metadata": {},
   "outputs": [
    {
     "data": {
      "text/html": [
       "<div>\n",
       "<style scoped>\n",
       "    .dataframe tbody tr th:only-of-type {\n",
       "        vertical-align: middle;\n",
       "    }\n",
       "\n",
       "    .dataframe tbody tr th {\n",
       "        vertical-align: top;\n",
       "    }\n",
       "\n",
       "    .dataframe thead th {\n",
       "        text-align: right;\n",
       "    }\n",
       "</style>\n",
       "<table border=\"1\" class=\"dataframe\">\n",
       "  <thead>\n",
       "    <tr style=\"text-align: right;\">\n",
       "      <th></th>\n",
       "      <th>PRCP</th>\n",
       "      <th>SNOW</th>\n",
       "      <th>SNWD</th>\n",
       "      <th>TMAX</th>\n",
       "      <th>TMIN</th>\n",
       "      <th>TOBS</th>\n",
       "      <th>WESF</th>\n",
       "      <th>inclement_weather</th>\n",
       "    </tr>\n",
       "    <tr>\n",
       "      <th>date</th>\n",
       "      <th></th>\n",
       "      <th></th>\n",
       "      <th></th>\n",
       "      <th></th>\n",
       "      <th></th>\n",
       "      <th></th>\n",
       "      <th></th>\n",
       "      <th></th>\n",
       "    </tr>\n",
       "  </thead>\n",
       "  <tbody>\n",
       "    <tr>\n",
       "      <th>2018-01-01</th>\n",
       "      <td>0.0</td>\n",
       "      <td>0.0</td>\n",
       "      <td>0.0</td>\n",
       "      <td>NaN</td>\n",
       "      <td>NaN</td>\n",
       "      <td>NaN</td>\n",
       "      <td>0.0</td>\n",
       "      <td>NaN</td>\n",
       "    </tr>\n",
       "    <tr>\n",
       "      <th>2018-01-02</th>\n",
       "      <td>0.0</td>\n",
       "      <td>0.0</td>\n",
       "      <td>0.0</td>\n",
       "      <td>-8.3</td>\n",
       "      <td>-16.1</td>\n",
       "      <td>-12.2</td>\n",
       "      <td>0.0</td>\n",
       "      <td>False</td>\n",
       "    </tr>\n",
       "    <tr>\n",
       "      <th>2018-01-03</th>\n",
       "      <td>0.0</td>\n",
       "      <td>0.0</td>\n",
       "      <td>0.0</td>\n",
       "      <td>-4.4</td>\n",
       "      <td>-13.9</td>\n",
       "      <td>-13.3</td>\n",
       "      <td>0.0</td>\n",
       "      <td>False</td>\n",
       "    </tr>\n",
       "    <tr>\n",
       "      <th>2018-01-04</th>\n",
       "      <td>20.6</td>\n",
       "      <td>229.0</td>\n",
       "      <td>229.0</td>\n",
       "      <td>NaN</td>\n",
       "      <td>NaN</td>\n",
       "      <td>NaN</td>\n",
       "      <td>19.3</td>\n",
       "      <td>True</td>\n",
       "    </tr>\n",
       "    <tr>\n",
       "      <th>2018-01-05</th>\n",
       "      <td>14.2</td>\n",
       "      <td>127.0</td>\n",
       "      <td>127.0</td>\n",
       "      <td>-4.4</td>\n",
       "      <td>-13.9</td>\n",
       "      <td>-13.9</td>\n",
       "      <td>0.0</td>\n",
       "      <td>True</td>\n",
       "    </tr>\n",
       "  </tbody>\n",
       "</table>\n",
       "</div>"
      ],
      "text/plain": [
       "            PRCP   SNOW   SNWD  TMAX  TMIN  TOBS  WESF inclement_weather\n",
       "date                                                                    \n",
       "2018-01-01   0.0    0.0    0.0   NaN   NaN   NaN   0.0               NaN\n",
       "2018-01-02   0.0    0.0    0.0  -8.3 -16.1 -12.2   0.0             False\n",
       "2018-01-03   0.0    0.0    0.0  -4.4 -13.9 -13.3   0.0             False\n",
       "2018-01-04  20.6  229.0  229.0   NaN   NaN   NaN  19.3              True\n",
       "2018-01-05  14.2  127.0  127.0  -4.4 -13.9 -13.9   0.0              True"
      ]
     },
     "execution_count": 32,
     "metadata": {},
     "output_type": "execute_result"
    }
   ],
   "source": [
    "df_deduped.assign(\n",
    "    SNWD=lambda x: x.SNWD.clip(0, x.SNOW)\n",
    ").head()"
   ]
  },
  {
   "cell_type": "markdown",
   "metadata": {},
   "source": [
    "Podemos combinar `fillna()` con otros tipos de cálculos. Aquí sustituimos los valores perdidos de `TMAX` por la mediana de todos los valores `TMAX`, `TMIN` por la mediana de todos los valores `TMIN` y `TOBS` por la media de los valores `TMAX` y `TMIN`. Como colocamos `TOBS` en último lugar, tenemos acceso a los valores imputados para `TMIN` y `TMAX` en el cálculo:"
   ]
  },
  {
   "cell_type": "code",
   "execution_count": 33,
   "metadata": {},
   "outputs": [
    {
     "data": {
      "text/html": [
       "<div>\n",
       "<style scoped>\n",
       "    .dataframe tbody tr th:only-of-type {\n",
       "        vertical-align: middle;\n",
       "    }\n",
       "\n",
       "    .dataframe tbody tr th {\n",
       "        vertical-align: top;\n",
       "    }\n",
       "\n",
       "    .dataframe thead th {\n",
       "        text-align: right;\n",
       "    }\n",
       "</style>\n",
       "<table border=\"1\" class=\"dataframe\">\n",
       "  <thead>\n",
       "    <tr style=\"text-align: right;\">\n",
       "      <th></th>\n",
       "      <th>PRCP</th>\n",
       "      <th>SNOW</th>\n",
       "      <th>SNWD</th>\n",
       "      <th>TMAX</th>\n",
       "      <th>TMIN</th>\n",
       "      <th>TOBS</th>\n",
       "      <th>WESF</th>\n",
       "      <th>inclement_weather</th>\n",
       "    </tr>\n",
       "    <tr>\n",
       "      <th>date</th>\n",
       "      <th></th>\n",
       "      <th></th>\n",
       "      <th></th>\n",
       "      <th></th>\n",
       "      <th></th>\n",
       "      <th></th>\n",
       "      <th></th>\n",
       "      <th></th>\n",
       "    </tr>\n",
       "  </thead>\n",
       "  <tbody>\n",
       "    <tr>\n",
       "      <th>2018-01-01</th>\n",
       "      <td>0.0</td>\n",
       "      <td>0.0</td>\n",
       "      <td>-inf</td>\n",
       "      <td>14.4</td>\n",
       "      <td>5.6</td>\n",
       "      <td>10.0</td>\n",
       "      <td>0.0</td>\n",
       "      <td>NaN</td>\n",
       "    </tr>\n",
       "    <tr>\n",
       "      <th>2018-01-02</th>\n",
       "      <td>0.0</td>\n",
       "      <td>0.0</td>\n",
       "      <td>-inf</td>\n",
       "      <td>-8.3</td>\n",
       "      <td>-16.1</td>\n",
       "      <td>-12.2</td>\n",
       "      <td>0.0</td>\n",
       "      <td>False</td>\n",
       "    </tr>\n",
       "    <tr>\n",
       "      <th>2018-01-03</th>\n",
       "      <td>0.0</td>\n",
       "      <td>0.0</td>\n",
       "      <td>-inf</td>\n",
       "      <td>-4.4</td>\n",
       "      <td>-13.9</td>\n",
       "      <td>-13.3</td>\n",
       "      <td>0.0</td>\n",
       "      <td>False</td>\n",
       "    </tr>\n",
       "    <tr>\n",
       "      <th>2018-01-04</th>\n",
       "      <td>20.6</td>\n",
       "      <td>229.0</td>\n",
       "      <td>inf</td>\n",
       "      <td>14.4</td>\n",
       "      <td>5.6</td>\n",
       "      <td>10.0</td>\n",
       "      <td>19.3</td>\n",
       "      <td>True</td>\n",
       "    </tr>\n",
       "    <tr>\n",
       "      <th>2018-01-05</th>\n",
       "      <td>14.2</td>\n",
       "      <td>127.0</td>\n",
       "      <td>inf</td>\n",
       "      <td>-4.4</td>\n",
       "      <td>-13.9</td>\n",
       "      <td>-13.9</td>\n",
       "      <td>0.0</td>\n",
       "      <td>True</td>\n",
       "    </tr>\n",
       "  </tbody>\n",
       "</table>\n",
       "</div>"
      ],
      "text/plain": [
       "            PRCP   SNOW  SNWD  TMAX  TMIN  TOBS  WESF inclement_weather\n",
       "date                                                                   \n",
       "2018-01-01   0.0    0.0  -inf  14.4   5.6  10.0   0.0               NaN\n",
       "2018-01-02   0.0    0.0  -inf  -8.3 -16.1 -12.2   0.0             False\n",
       "2018-01-03   0.0    0.0  -inf  -4.4 -13.9 -13.3   0.0             False\n",
       "2018-01-04  20.6  229.0   inf  14.4   5.6  10.0  19.3              True\n",
       "2018-01-05  14.2  127.0   inf  -4.4 -13.9 -13.9   0.0              True"
      ]
     },
     "execution_count": 33,
     "metadata": {},
     "output_type": "execute_result"
    }
   ],
   "source": [
    "df_deduped.assign(\n",
    "    TMAX=lambda x: x.TMAX.fillna(x.TMAX.median()),\n",
    "    TMIN=lambda x: x.TMIN.fillna(x.TMIN.median()),\n",
    "    # average of TMAX and TMIN\n",
    "    TOBS=lambda x: x.TOBS.fillna((x.TMAX + x.TMIN) / 2)\n",
    ").head()"
   ]
  },
  {
   "cell_type": "markdown",
   "metadata": {},
   "source": [
    "También podemos utilizar `apply()` para ejecutar el mismo cálculo en todas las columnas. Por ejemplo, vamos a rellenar todos los valores que faltan con la mediana móvil de 7 días de sus valores, estableciendo el número de periodos necesarios para el cálculo en 0 para asegurarnos de que no introducimos más valores `NaN` adicionales. Los cálculos continuos se tratarán en el capítulo 4, así que esto es un avance:"
   ]
  },
  {
   "cell_type": "code",
   "execution_count": 34,
   "metadata": {},
   "outputs": [
    {
     "data": {
      "text/html": [
       "<div>\n",
       "<style scoped>\n",
       "    .dataframe tbody tr th:only-of-type {\n",
       "        vertical-align: middle;\n",
       "    }\n",
       "\n",
       "    .dataframe tbody tr th {\n",
       "        vertical-align: top;\n",
       "    }\n",
       "\n",
       "    .dataframe thead th {\n",
       "        text-align: right;\n",
       "    }\n",
       "</style>\n",
       "<table border=\"1\" class=\"dataframe\">\n",
       "  <thead>\n",
       "    <tr style=\"text-align: right;\">\n",
       "      <th></th>\n",
       "      <th>PRCP</th>\n",
       "      <th>SNOW</th>\n",
       "      <th>SNWD</th>\n",
       "      <th>TMAX</th>\n",
       "      <th>TMIN</th>\n",
       "      <th>TOBS</th>\n",
       "      <th>WESF</th>\n",
       "      <th>inclement_weather</th>\n",
       "    </tr>\n",
       "    <tr>\n",
       "      <th>date</th>\n",
       "      <th></th>\n",
       "      <th></th>\n",
       "      <th></th>\n",
       "      <th></th>\n",
       "      <th></th>\n",
       "      <th></th>\n",
       "      <th></th>\n",
       "      <th></th>\n",
       "    </tr>\n",
       "  </thead>\n",
       "  <tbody>\n",
       "    <tr>\n",
       "      <th>2018-01-01</th>\n",
       "      <td>0.0</td>\n",
       "      <td>0.0</td>\n",
       "      <td>-inf</td>\n",
       "      <td>NaN</td>\n",
       "      <td>NaN</td>\n",
       "      <td>NaN</td>\n",
       "      <td>0.0</td>\n",
       "      <td>NaN</td>\n",
       "    </tr>\n",
       "    <tr>\n",
       "      <th>2018-01-02</th>\n",
       "      <td>0.0</td>\n",
       "      <td>0.0</td>\n",
       "      <td>-inf</td>\n",
       "      <td>-8.30</td>\n",
       "      <td>-16.1</td>\n",
       "      <td>-12.20</td>\n",
       "      <td>0.0</td>\n",
       "      <td>False</td>\n",
       "    </tr>\n",
       "    <tr>\n",
       "      <th>2018-01-03</th>\n",
       "      <td>0.0</td>\n",
       "      <td>0.0</td>\n",
       "      <td>-inf</td>\n",
       "      <td>-4.40</td>\n",
       "      <td>-13.9</td>\n",
       "      <td>-13.30</td>\n",
       "      <td>0.0</td>\n",
       "      <td>False</td>\n",
       "    </tr>\n",
       "    <tr>\n",
       "      <th>2018-01-04</th>\n",
       "      <td>20.6</td>\n",
       "      <td>229.0</td>\n",
       "      <td>inf</td>\n",
       "      <td>-6.35</td>\n",
       "      <td>-15.0</td>\n",
       "      <td>-12.75</td>\n",
       "      <td>19.3</td>\n",
       "      <td>True</td>\n",
       "    </tr>\n",
       "    <tr>\n",
       "      <th>2018-01-05</th>\n",
       "      <td>14.2</td>\n",
       "      <td>127.0</td>\n",
       "      <td>inf</td>\n",
       "      <td>-4.40</td>\n",
       "      <td>-13.9</td>\n",
       "      <td>-13.90</td>\n",
       "      <td>0.0</td>\n",
       "      <td>True</td>\n",
       "    </tr>\n",
       "    <tr>\n",
       "      <th>2018-01-06</th>\n",
       "      <td>0.0</td>\n",
       "      <td>0.0</td>\n",
       "      <td>-inf</td>\n",
       "      <td>-10.00</td>\n",
       "      <td>-15.6</td>\n",
       "      <td>-15.00</td>\n",
       "      <td>0.0</td>\n",
       "      <td>False</td>\n",
       "    </tr>\n",
       "    <tr>\n",
       "      <th>2018-01-07</th>\n",
       "      <td>0.0</td>\n",
       "      <td>0.0</td>\n",
       "      <td>-inf</td>\n",
       "      <td>-11.70</td>\n",
       "      <td>-17.2</td>\n",
       "      <td>-16.10</td>\n",
       "      <td>0.0</td>\n",
       "      <td>False</td>\n",
       "    </tr>\n",
       "    <tr>\n",
       "      <th>2018-01-08</th>\n",
       "      <td>0.0</td>\n",
       "      <td>0.0</td>\n",
       "      <td>-inf</td>\n",
       "      <td>-7.80</td>\n",
       "      <td>-16.7</td>\n",
       "      <td>-8.30</td>\n",
       "      <td>0.0</td>\n",
       "      <td>False</td>\n",
       "    </tr>\n",
       "    <tr>\n",
       "      <th>2018-01-10</th>\n",
       "      <td>0.0</td>\n",
       "      <td>0.0</td>\n",
       "      <td>-inf</td>\n",
       "      <td>5.00</td>\n",
       "      <td>-7.8</td>\n",
       "      <td>-7.80</td>\n",
       "      <td>0.0</td>\n",
       "      <td>False</td>\n",
       "    </tr>\n",
       "    <tr>\n",
       "      <th>2018-01-11</th>\n",
       "      <td>0.0</td>\n",
       "      <td>0.0</td>\n",
       "      <td>-inf</td>\n",
       "      <td>4.40</td>\n",
       "      <td>-7.8</td>\n",
       "      <td>1.10</td>\n",
       "      <td>0.0</td>\n",
       "      <td>False</td>\n",
       "    </tr>\n",
       "  </tbody>\n",
       "</table>\n",
       "</div>"
      ],
      "text/plain": [
       "            PRCP   SNOW  SNWD   TMAX  TMIN   TOBS  WESF inclement_weather\n",
       "date                                                                     \n",
       "2018-01-01   0.0    0.0  -inf    NaN   NaN    NaN   0.0               NaN\n",
       "2018-01-02   0.0    0.0  -inf  -8.30 -16.1 -12.20   0.0             False\n",
       "2018-01-03   0.0    0.0  -inf  -4.40 -13.9 -13.30   0.0             False\n",
       "2018-01-04  20.6  229.0   inf  -6.35 -15.0 -12.75  19.3              True\n",
       "2018-01-05  14.2  127.0   inf  -4.40 -13.9 -13.90   0.0              True\n",
       "2018-01-06   0.0    0.0  -inf -10.00 -15.6 -15.00   0.0             False\n",
       "2018-01-07   0.0    0.0  -inf -11.70 -17.2 -16.10   0.0             False\n",
       "2018-01-08   0.0    0.0  -inf  -7.80 -16.7  -8.30   0.0             False\n",
       "2018-01-10   0.0    0.0  -inf   5.00  -7.8  -7.80   0.0             False\n",
       "2018-01-11   0.0    0.0  -inf   4.40  -7.8   1.10   0.0             False"
      ]
     },
     "execution_count": 34,
     "metadata": {},
     "output_type": "execute_result"
    }
   ],
   "source": [
    "df_deduped.apply(\n",
    "    # los cálculos continuos se tratarán en el capítulo 4, esta es una mediana continua de 7 días\n",
    "    # fijamos min_periods (# de periodos requeridos para el cálculo) a 0 para que siempre obtengamos un resultado\n",
    "    lambda x: x.fillna(x.rolling(7, min_periods=0).median())\n",
    ").head(10)"
   ]
  },
  {
   "cell_type": "markdown",
   "metadata": {},
   "source": [
    "La última estrategia que podemos probar es la interpolación con el método `interpolate()`. Especificamos el parámetro `method` con la estrategia de interpolación a utilizar. Hay muchas opciones, pero nos quedaremos con la predeterminada `'linear'`, que tratará los valores como espaciados uniformemente y colocará los valores perdidos en medio de los existentes. Tenemos algunos datos que faltan, así que primero reindexaremos. Los valores de `TMAX`, `TMIN` y `TOBS` son la media de los valores del día anterior (8 de enero) y del día posterior (10 de enero):"
   ]
  },
  {
   "cell_type": "code",
   "execution_count": 35,
   "metadata": {},
   "outputs": [
    {
     "name": "stderr",
     "output_type": "stream",
     "text": [
      "C:\\Users\\Sol\\AppData\\Local\\Temp\\ipykernel_948\\1910715606.py:3: FutureWarning: Series.interpolate with object dtype is deprecated and will raise in a future version. Call obj.infer_objects(copy=False) before interpolating instead.\n",
      "  .apply(lambda x: x.interpolate())\\\n"
     ]
    },
    {
     "data": {
      "text/html": [
       "<div>\n",
       "<style scoped>\n",
       "    .dataframe tbody tr th:only-of-type {\n",
       "        vertical-align: middle;\n",
       "    }\n",
       "\n",
       "    .dataframe tbody tr th {\n",
       "        vertical-align: top;\n",
       "    }\n",
       "\n",
       "    .dataframe thead th {\n",
       "        text-align: right;\n",
       "    }\n",
       "</style>\n",
       "<table border=\"1\" class=\"dataframe\">\n",
       "  <thead>\n",
       "    <tr style=\"text-align: right;\">\n",
       "      <th></th>\n",
       "      <th>PRCP</th>\n",
       "      <th>SNOW</th>\n",
       "      <th>SNWD</th>\n",
       "      <th>TMAX</th>\n",
       "      <th>TMIN</th>\n",
       "      <th>TOBS</th>\n",
       "      <th>WESF</th>\n",
       "      <th>inclement_weather</th>\n",
       "    </tr>\n",
       "  </thead>\n",
       "  <tbody>\n",
       "    <tr>\n",
       "      <th>2018-01-01</th>\n",
       "      <td>0.0</td>\n",
       "      <td>0.0</td>\n",
       "      <td>-inf</td>\n",
       "      <td>NaN</td>\n",
       "      <td>NaN</td>\n",
       "      <td>NaN</td>\n",
       "      <td>0.0</td>\n",
       "      <td>NaN</td>\n",
       "    </tr>\n",
       "    <tr>\n",
       "      <th>2018-01-02</th>\n",
       "      <td>0.0</td>\n",
       "      <td>0.0</td>\n",
       "      <td>-inf</td>\n",
       "      <td>-8.3</td>\n",
       "      <td>-16.10</td>\n",
       "      <td>-12.20</td>\n",
       "      <td>0.0</td>\n",
       "      <td>False</td>\n",
       "    </tr>\n",
       "    <tr>\n",
       "      <th>2018-01-03</th>\n",
       "      <td>0.0</td>\n",
       "      <td>0.0</td>\n",
       "      <td>-inf</td>\n",
       "      <td>-4.4</td>\n",
       "      <td>-13.90</td>\n",
       "      <td>-13.30</td>\n",
       "      <td>0.0</td>\n",
       "      <td>False</td>\n",
       "    </tr>\n",
       "    <tr>\n",
       "      <th>2018-01-04</th>\n",
       "      <td>20.6</td>\n",
       "      <td>229.0</td>\n",
       "      <td>inf</td>\n",
       "      <td>-4.4</td>\n",
       "      <td>-13.90</td>\n",
       "      <td>-13.60</td>\n",
       "      <td>19.3</td>\n",
       "      <td>True</td>\n",
       "    </tr>\n",
       "    <tr>\n",
       "      <th>2018-01-05</th>\n",
       "      <td>14.2</td>\n",
       "      <td>127.0</td>\n",
       "      <td>inf</td>\n",
       "      <td>-4.4</td>\n",
       "      <td>-13.90</td>\n",
       "      <td>-13.90</td>\n",
       "      <td>0.0</td>\n",
       "      <td>True</td>\n",
       "    </tr>\n",
       "    <tr>\n",
       "      <th>2018-01-06</th>\n",
       "      <td>0.0</td>\n",
       "      <td>0.0</td>\n",
       "      <td>-inf</td>\n",
       "      <td>-10.0</td>\n",
       "      <td>-15.60</td>\n",
       "      <td>-15.00</td>\n",
       "      <td>0.0</td>\n",
       "      <td>False</td>\n",
       "    </tr>\n",
       "    <tr>\n",
       "      <th>2018-01-07</th>\n",
       "      <td>0.0</td>\n",
       "      <td>0.0</td>\n",
       "      <td>-inf</td>\n",
       "      <td>-11.7</td>\n",
       "      <td>-17.20</td>\n",
       "      <td>-16.10</td>\n",
       "      <td>0.0</td>\n",
       "      <td>False</td>\n",
       "    </tr>\n",
       "    <tr>\n",
       "      <th>2018-01-08</th>\n",
       "      <td>0.0</td>\n",
       "      <td>0.0</td>\n",
       "      <td>-inf</td>\n",
       "      <td>-7.8</td>\n",
       "      <td>-16.70</td>\n",
       "      <td>-8.30</td>\n",
       "      <td>0.0</td>\n",
       "      <td>False</td>\n",
       "    </tr>\n",
       "    <tr>\n",
       "      <th>2018-01-09</th>\n",
       "      <td>0.0</td>\n",
       "      <td>0.0</td>\n",
       "      <td>-inf</td>\n",
       "      <td>-1.4</td>\n",
       "      <td>-12.25</td>\n",
       "      <td>-8.05</td>\n",
       "      <td>0.0</td>\n",
       "      <td>NaN</td>\n",
       "    </tr>\n",
       "    <tr>\n",
       "      <th>2018-01-10</th>\n",
       "      <td>0.0</td>\n",
       "      <td>0.0</td>\n",
       "      <td>-inf</td>\n",
       "      <td>5.0</td>\n",
       "      <td>-7.80</td>\n",
       "      <td>-7.80</td>\n",
       "      <td>0.0</td>\n",
       "      <td>False</td>\n",
       "    </tr>\n",
       "  </tbody>\n",
       "</table>\n",
       "</div>"
      ],
      "text/plain": [
       "            PRCP   SNOW  SNWD  TMAX   TMIN   TOBS  WESF inclement_weather\n",
       "2018-01-01   0.0    0.0  -inf   NaN    NaN    NaN   0.0               NaN\n",
       "2018-01-02   0.0    0.0  -inf  -8.3 -16.10 -12.20   0.0             False\n",
       "2018-01-03   0.0    0.0  -inf  -4.4 -13.90 -13.30   0.0             False\n",
       "2018-01-04  20.6  229.0   inf  -4.4 -13.90 -13.60  19.3              True\n",
       "2018-01-05  14.2  127.0   inf  -4.4 -13.90 -13.90   0.0              True\n",
       "2018-01-06   0.0    0.0  -inf -10.0 -15.60 -15.00   0.0             False\n",
       "2018-01-07   0.0    0.0  -inf -11.7 -17.20 -16.10   0.0             False\n",
       "2018-01-08   0.0    0.0  -inf  -7.8 -16.70  -8.30   0.0             False\n",
       "2018-01-09   0.0    0.0  -inf  -1.4 -12.25  -8.05   0.0               NaN\n",
       "2018-01-10   0.0    0.0  -inf   5.0  -7.80  -7.80   0.0             False"
      ]
     },
     "execution_count": 35,
     "metadata": {},
     "output_type": "execute_result"
    }
   ],
   "source": [
    "df_deduped\\\n",
    "    .reindex(pd.date_range('2018-01-01', '2018-12-31', freq='D'))\\\n",
    "    .apply(lambda x: x.interpolate())\\\n",
    "    .head(10)"
   ]
  },
  {
   "cell_type": "markdown",
   "metadata": {},
   "source": [
    "<hr>\n",
    "\n",
    "<div style=\"display: flex; justify-content: space-between; margin-bottom: 10px;\">\n",
    "    <div style=\"width: 33.33%; text-align: left;\">\n",
    "        <a href=\"./4-reshaping_data.ipynb\">\n",
    "            <button>&#8592; Notebook Anterior</button>\n",
    "        </a>\n",
    "    </div>\n",
    "    <div style=\"width: 33.33%; text-align: center;\">\n",
    "        <a href=\"../solutions/ch_03/solutions.ipynb\">\n",
    "            <button>Soluciones</button>\n",
    "        </a>\n",
    "    </div>\n",
    "    <div style=\"width: 33.33%; text-align: right;\">\n",
    "        <a href=\"../ch_04/1-consulta_y_merge.ipynb\">\n",
    "            <button>Capitulo 4 &#8594;</button>\n",
    "        </a>\n",
    "    </div>\n",
    "</div>\n",
    "\n",
    "<hr>\n"
   ]
  }
 ],
 "metadata": {
  "kernelspec": {
   "display_name": "Python 3",
   "language": "python",
   "name": "python3"
  },
  "language_info": {
   "codemirror_mode": {
    "name": "ipython",
    "version": 3
   },
   "file_extension": ".py",
   "mimetype": "text/x-python",
   "name": "python",
   "nbconvert_exporter": "python",
   "pygments_lexer": "ipython3",
   "version": "3.11.8"
  }
 },
 "nbformat": 4,
 "nbformat_minor": 4
}
