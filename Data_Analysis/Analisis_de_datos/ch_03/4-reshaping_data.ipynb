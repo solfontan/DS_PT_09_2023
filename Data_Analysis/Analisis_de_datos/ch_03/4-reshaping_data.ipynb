{
 "cells": [
  {
   "cell_type": "markdown",
   "metadata": {},
   "source": [
    "# Reshaping Data\n",
    "\n",
    "## Acerca de los datos\n",
    "En este notebook, utilizaremos datos diarios de temperatura de la API [National Centers for Environmental Information (NCEI) API](https://www.ncdc.noaa.gov/cdo-web/webservices/v2). Utilizaremos el conjunto de datos Global Historical Climatology Network - Daily (GHCND); consulte la documentación [aquí](https://www1.ncdc.noaa.gov/pub/data/cdo/documentation/GHCND_documentation.pdf).\n",
    "\n",
    "Estos datos se recopilaron para la ciudad de Nueva York para octubre de 2018, utilizando la estación Boonton 1 (GHCND:USC00280907). Contiene:\n",
    "- la temperatura mínima diaria (`TMIN`)\n",
    "- la temperatura máxima diaria (`TMAX`)\n",
    "- la temperatura diaria en el momento de la observación (`TOBS`)\n",
    "\n",
    "*Nota: El NCEI forma parte de la Administración Nacional Oceánica y Atmosférica (NOAA) y, como puede ver en la URL de la API, este recurso se creó cuando el NCEI se llamaba NCDC. Si la URL de este recurso cambiara en el futuro, puede buscar \"NCEI weather API\" para encontrar la actualizada.*\n",
    "\n",
    "## Configuración\n",
    "Necesitamos importar `pandas` y leer los datos de formato largo para empezar:"
   ]
  },
  {
   "cell_type": "code",
   "execution_count": null,
   "metadata": {},
   "outputs": [],
   "source": [
    "import pandas as pd\n",
    "from datetime import datetime\n",
    "\n",
    "long_df = pd.read_csv(\n",
    "    'data/long_data.csv', usecols=['date', 'datatype', 'value']\n",
    ").rename(\n",
    "    columns={'value': 'temp_C'}\n",
    ").assign(\n",
    "    date=lambda x: pd.to_datetime(x.date),\n",
    "    temp_F=lambda x: (x.temp_C * 9/5) + 32\n",
    ")\n",
    "long_df.head()"
   ]
  },
  {
   "cell_type": "markdown",
   "metadata": {},
   "source": [
    "## Transponer\n",
    "La transposición intercambia las filas y las columnas. Para ello utilizamos el atributo `T`:"
   ]
  },
  {
   "cell_type": "code",
   "execution_count": null,
   "metadata": {},
   "outputs": [],
   "source": [
    "long_df.set_index('date').head(6).T"
   ]
  },
  {
   "cell_type": "markdown",
   "metadata": {},
   "source": [
    "## Pivotar\n",
    "Pasar de formato largo a formato ancho.\n",
    "\n",
    "### `pivot()`\n",
    "Podemos reestructurar nuestros datos eligiendo una columna que irá en el índice (`index`), una columna cuyos valores únicos se convertirán en nombres de columna (`columns`), y los valores a colocar en esas columnas (`values`). El método `pivot()` se puede utilizar cuando no necesitamos realizar ninguna agregación además de nuestra reestructuración (cuando nuestro índice es único); si este no es el caso, necesitamos el método `pivot_table()` que veremos en el capítulo 4."
   ]
  },
  {
   "cell_type": "code",
   "execution_count": null,
   "metadata": {},
   "outputs": [],
   "source": [
    "pivoted_df = long_df.pivot(\n",
    "    index='date', columns='datatype', values='temp_C'\n",
    ")\n",
    "pivoted_df.head()"
   ]
  },
  {
   "cell_type": "markdown",
   "metadata": {},
   "source": [
    "Ahora que los datos están pivotados, tenemos datos de formato ancho con los que podemos obtener estadísticas de resumen:"
   ]
  },
  {
   "cell_type": "code",
   "execution_count": null,
   "metadata": {},
   "outputs": [],
   "source": [
    "pivoted_df.describe()"
   ]
  },
  {
   "cell_type": "markdown",
   "metadata": {},
   "source": [
    "También podemos proporcionar múltiples valores sobre los que pivotar, lo que dará lugar a un índice jerárquico:"
   ]
  },
  {
   "cell_type": "code",
   "execution_count": null,
   "metadata": {},
   "outputs": [],
   "source": [
    "pivoted_df = long_df.pivot(\n",
    "    index='date', columns='datatype', values=['temp_C', 'temp_F']\n",
    ")\n",
    "pivoted_df.head()"
   ]
  },
  {
   "cell_type": "markdown",
   "metadata": {},
   "source": [
    "Con el índice jerárquico, si queremos seleccionar `TMIN` en Fahrenheit, tendremos que seleccionar primero `temp_F` y después `TMIN`:"
   ]
  },
  {
   "cell_type": "code",
   "execution_count": null,
   "metadata": {},
   "outputs": [],
   "source": [
    "pivoted_df['temp_F']['TMIN'].head()"
   ]
  },
  {
   "cell_type": "markdown",
   "metadata": {},
   "source": [
    "### `unstack()`\n",
    "\n",
    "Hemos estado trabajando con un único índice a lo largo de este capítulo; sin embargo, podemos crear un índice a partir de cualquier número de columnas con `set_index()`. Esto nos da un índice de tipo `MultiIndex`, donde el nivel más externo corresponde al primer elemento de la lista proporcionada a `set_index()`:"
   ]
  },
  {
   "cell_type": "code",
   "execution_count": null,
   "metadata": {},
   "outputs": [],
   "source": [
    "multi_index_df = long_df.set_index(['date', 'datatype'])\n",
    "multi_index_df.head().index"
   ]
  },
  {
   "cell_type": "markdown",
   "metadata": {},
   "source": [
    "Observe que ahora hay 2 secciones de índice en el marco de datos:"
   ]
  },
  {
   "cell_type": "code",
   "execution_count": null,
   "metadata": {},
   "outputs": [],
   "source": [
    "multi_index_df.head()"
   ]
  },
  {
   "cell_type": "markdown",
   "metadata": {},
   "source": [
    "Con un índice de tipo `MultiIndex`, ya no podemos utilizar `pivot()`. Ahora debemos utilizar `unstack()`, que por defecto mueve el índice más interno a las columnas:"
   ]
  },
  {
   "cell_type": "code",
   "execution_count": null,
   "metadata": {},
   "outputs": [],
   "source": [
    "unstacked_df = multi_index_df.unstack()\n",
    "unstacked_df.head()"
   ]
  },
  {
   "cell_type": "markdown",
   "metadata": {},
   "source": [
    "El método `unstack()` también proporciona el parámetro `fill_value`, que nos permite rellenar cualquier valor `NaN` que pueda surgir de esta reestructuración de los datos. Consideremos el caso de que tengamos datos para la temperatura media del 1 de octubre de 2018, pero ninguna otra fecha:"
   ]
  },
  {
   "cell_type": "code",
   "execution_count": null,
   "metadata": {},
   "outputs": [],
   "source": [
    "data = pd.DataFrame([{\n",
    "    'datatype': 'TAVG', \n",
    "    'date': datetime(2018, 10, 1), \n",
    "    'temp_C': 10.0, \n",
    "    'temp_F': 50.0\n",
    "}])\n",
    "extra_data = pd.concat([long_df,data]).set_index(['date', 'datatype']).sort_index()\n",
    "\n",
    "extra_data.loc['2018-10-01':'2018-10-02']"
   ]
  },
  {
   "cell_type": "markdown",
   "metadata": {},
   "source": [
    "Si utilizamos `unstack()` en este caso, tendremos `NaN` para las columnas `TAVG` todos los días menos el 1 de octubre de 2018:"
   ]
  },
  {
   "cell_type": "code",
   "execution_count": null,
   "metadata": {},
   "outputs": [],
   "source": [
    "extra_data.unstack().head()"
   ]
  },
  {
   "cell_type": "markdown",
   "metadata": {},
   "source": [
    "Para solucionarlo, podemos introducir un valor de relleno apropiado. Sin embargo, estamos restringidos a pasar un valor para esto, no una estrategia (como vimos con `fillna()`), así que mientras `-40` definitivamente no es el mejor valor, podemos usarlo para ilustrar cómo funciona esto, ya que esta es la temperatura a la que Fahrenheit y Celsius son iguales:"
   ]
  },
  {
   "cell_type": "code",
   "execution_count": null,
   "metadata": {},
   "outputs": [],
   "source": [
    "extra_data.unstack(fill_value=-40).head()"
   ]
  },
  {
   "cell_type": "markdown",
   "metadata": {},
   "source": [
    "## Melting\n",
    "Pasar de formato ancho a formato largo.\n",
    "\n",
    "### Setup"
   ]
  },
  {
   "cell_type": "code",
   "execution_count": null,
   "metadata": {},
   "outputs": [],
   "source": [
    "wide_df = pd.read_csv('data/wide_data.csv')\n",
    "wide_df.head()"
   ]
  },
  {
   "cell_type": "markdown",
   "metadata": {},
   "source": [
    "### `melt()`\n",
    "Para pasar de formato ancho a formato largo, utilizamos el método `melt()`. Tenemos que especificar\n",
    "- `id_vars`: qué columna(s) identifica(n) de forma única una fila en el formato ancho (`date`, aquí)\n",
    "- `value_vars`: la(s) columna(s) que contiene(n) los valores (`TMAX`, `TMIN`, y `TOBS`, aquí)\n",
    "\n",
    "Opcionalmente, también podemos proporcionar\n",
    "- `value_name`: cómo llamar a la columna que contendrá todos los valores una vez fundidos\n",
    "- `var_name`: cómo llamar a la columna que contendrá los nombres de las variables que se miden"
   ]
  },
  {
   "cell_type": "code",
   "execution_count": null,
   "metadata": {},
   "outputs": [],
   "source": [
    "melted_df = wide_df.melt(\n",
    "    id_vars='date',\n",
    "    value_vars=['TMAX', 'TMIN', 'TOBS'],\n",
    "    value_name='temp_C',\n",
    "    var_name='measurement'\n",
    ")\n",
    "melted_df.head()"
   ]
  },
  {
   "cell_type": "markdown",
   "metadata": {},
   "source": [
    "### `stack()`\n",
    "Otra opción es `stack()`, que pivotará las columnas del marco de datos en el nivel más interno del índice (resultando en un índice de tipo `MultiIndex`). Para ilustrar esto, establezcamos nuestro índice en la columna `date`:"
   ]
  },
  {
   "cell_type": "code",
   "execution_count": null,
   "metadata": {},
   "outputs": [],
   "source": [
    "wide_df.set_index('date', inplace=True)\n",
    "wide_df.head()"
   ]
  },
  {
   "cell_type": "markdown",
   "metadata": {},
   "source": [
    "Ejecutando ahora `stack()`, crearemos un segundo nivel en nuestro índice que contendrá los nombres de las columnas de nuestro dataframe (`TMAX`, `TMIN`, `TOBS`). Esto nos dejará con un objeto `Series` que contiene los valores:"
   ]
  },
  {
   "cell_type": "code",
   "execution_count": null,
   "metadata": {},
   "outputs": [],
   "source": [
    "stacked_series = wide_df.stack()\n",
    "stacked_series.head()"
   ]
  },
  {
   "cell_type": "markdown",
   "metadata": {},
   "source": [
    "Podemos utilizar el método `to_frame()` en nuestro objeto `Series` para convertirlo en un objeto `DataFrame`. Como la serie no tiene nombre por el momento, le pasaremos el nombre como argumento:"
   ]
  },
  {
   "cell_type": "code",
   "execution_count": null,
   "metadata": {},
   "outputs": [],
   "source": [
    "stacked_df = stacked_series.to_frame('values')\n",
    "stacked_df.head()"
   ]
  },
  {
   "cell_type": "markdown",
   "metadata": {},
   "source": [
    "Una vez más, tenemos un índice de tipo `MultiIndex`:"
   ]
  },
  {
   "cell_type": "code",
   "execution_count": null,
   "metadata": {},
   "outputs": [],
   "source": [
    "stacked_df.head().index"
   ]
  },
  {
   "cell_type": "markdown",
   "metadata": {},
   "source": [
    "Desgraciadamente, no tenemos un nombre para el nivel `datatype`:"
   ]
  },
  {
   "cell_type": "code",
   "execution_count": null,
   "metadata": {},
   "outputs": [],
   "source": [
    "stacked_df.index.names"
   ]
  },
  {
   "cell_type": "markdown",
   "metadata": {},
   "source": [
    "Sin embargo, podemos utilizar `set_names()` para solucionar este problema:"
   ]
  },
  {
   "cell_type": "code",
   "execution_count": null,
   "metadata": {},
   "outputs": [],
   "source": [
    "stacked_df.index.set_names(['date', 'datatype'], inplace=True)\n",
    "stacked_df.index.names"
   ]
  },
  {
   "cell_type": "markdown",
   "metadata": {},
   "source": [
    "<hr>\n",
    "<div>\n",
    "    <a href=\"./3-cleaning_data.ipynb\">\n",
    "        <button>&#8592; Notebook Anterior</button>\n",
    "    </a>\n",
    "    <a href=\"./5-tratamiento_de_datos.ipynb\">\n",
    "        <button style=\"float: right;\"> Siguiente Notebook &#8594;</button>\n",
    "    </a>\n",
    "</div>\n",
    "<hr>"
   ]
  }
 ],
 "metadata": {
  "kernelspec": {
   "display_name": "Python 3",
   "language": "python",
   "name": "python3"
  },
  "language_info": {
   "codemirror_mode": {
    "name": "ipython",
    "version": 3
   },
   "file_extension": ".py",
   "mimetype": "text/x-python",
   "name": "python",
   "nbconvert_exporter": "python",
   "pygments_lexer": "ipython3",
   "version": "3.9.7"
  }
 },
 "nbformat": 4,
 "nbformat_minor": 4
}
