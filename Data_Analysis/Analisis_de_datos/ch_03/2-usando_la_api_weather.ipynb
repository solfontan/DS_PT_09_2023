{
 "cells": [
  {
   "cell_type": "markdown",
   "metadata": {},
   "source": [
    "# Recopilación de datos de temperatura de una API\n",
    "\n",
    "## Sobre los datos\n",
    "En este notebook, recogeremos datos diarios de temperatura de la API [de los Centros Nacionales de Información Medioambiental (NCEI)](https://www.ncdc.noaa.gov/cdo-web/webservices/v2). Utilizaremos el conjunto de datos Global Historical Climatology Network - Daily (GHCND); consulte la documentación [aquí](https://www1.ncdc.noaa.gov/pub/data/cdo/documentation/GHCND_documentation.pdf).\n",
    "\n",
    "*Nota: El NCEI forma parte de la Administración Nacional Oceánica y Atmosférica (NOAA) y, como se puede ver en la URL de la API, este recurso se creó cuando el NCEI se llamaba NCDC. Si la URL de este recurso cambiara en el futuro, puede buscar \"NCEI weather API\" para encontrar la actualizada.*\n",
    "\n",
    "## Uso de la API del NCEI\n",
    "Solicite su token [aquí](https://www.ncdc.noaa.gov/cdo-web/token) y péguelo a continuación."
   ]
  },
  {
   "cell_type": "code",
   "execution_count": null,
   "metadata": {},
   "outputs": [],
   "source": [
    "import requests\n",
    "import os\n",
    "from dotenv import load_dotenv\n",
    "load_dotenv()\n",
    "NOAA_TOKEN = os.getenv('NOAA_TOKEN')\n",
    "\n",
    "def make_request(endpoint:str, payload=None) -> requests.Response:\n",
    "    \"\"\"\n",
    "    Realizar una solicitud a un punto final específico de la API meteorológica\n",
    "    pasando las cabeceras y la carga útil opcional.\n",
    "    \n",
    "    Parámetros:\n",
    "        - endpoint: El punto final de la API a la que\n",
    "                    realizar una solicitud GET.\n",
    "        - payload: Un diccionario de datos para pasar junto\n",
    "                   con la solicitud.\n",
    "    \n",
    "    Devuelve:\n",
    "        Un objeto de respuesta.\n",
    "    \"\"\"\n",
    "    return requests.get(\n",
    "        f'https://www.ncdc.noaa.gov/cdo-web/api/v2/{endpoint}',\n",
    "        headers={\n",
    "            'token': NOAA_TOKEN\n",
    "        },\n",
    "        params=payload\n",
    "    )"
   ]
  },
  {
   "cell_type": "markdown",
   "metadata": {},
   "source": [
    "**Nota: la API nos limita a 5 solicitudes por segundo y 10.000 solicitudes al día.\n",
    "\n",
    "## Ver qué conjuntos de datos están disponibles\n",
    "Podemos realizar peticiones al punto final `datasets` para ver qué conjuntos de datos están disponibles. También pasamos un diccionario para la carga útil para obtener conjuntos de datos que tengan datos posteriores a la fecha de inicio del 1 de octubre de 2018."
   ]
  },
  {
   "cell_type": "code",
   "execution_count": null,
   "metadata": {},
   "outputs": [],
   "source": [
    "response = make_request('datasets', {'startdate': '2018-10-01'})"
   ]
  },
  {
   "cell_type": "markdown",
   "metadata": {},
   "source": [
    "El código de estado `200` significa que todo va bien. Puede encontrar más códigos [aquí](https://en.wikipedia.org/wiki/List_of_HTTP_status_codes)."
   ]
  },
  {
   "cell_type": "code",
   "execution_count": null,
   "metadata": {},
   "outputs": [],
   "source": [
    "response.status_code"
   ]
  },
  {
   "cell_type": "markdown",
   "metadata": {},
   "source": [
    "Alternativamente, podemos comprobar el atributo `ok`:"
   ]
  },
  {
   "cell_type": "code",
   "execution_count": null,
   "metadata": {},
   "outputs": [],
   "source": [
    "response.ok"
   ]
  },
  {
   "cell_type": "markdown",
   "metadata": {},
   "source": [
    "### Obtener las claves del resultado\n",
    "El resultado es una carga JSON, a la que podemos acceder con el método `json()` de nuestro objeto respuesta. Los objetos JSON pueden ser tratados como diccionarios, por lo que podemos acceder a las claves como lo haríamos con un diccionario:"
   ]
  },
  {
   "cell_type": "code",
   "execution_count": null,
   "metadata": {},
   "outputs": [],
   "source": [
    "payload = response.json()\n",
    "payload.keys()"
   ]
  },
  {
   "cell_type": "markdown",
   "metadata": {},
   "source": [
    "Los metadatos de la respuesta nos darán información sobre la solicitud y los datos que recibimos de vuelta:"
   ]
  },
  {
   "cell_type": "code",
   "execution_count": null,
   "metadata": {},
   "outputs": [],
   "source": [
    "payload['metadata']"
   ]
  },
  {
   "cell_type": "markdown",
   "metadata": {},
   "source": [
    "### Averiguar qué datos hay en el resultado\n",
    "La clave `results` contiene los datos que hemos solicitado. Se trata de una lista de lo que serían las filas de nuestro marco de datos. Cada entrada de la lista es un diccionario, por lo que podemos consultar las claves para obtener los campos:"
   ]
  },
  {
   "cell_type": "code",
   "execution_count": null,
   "metadata": {},
   "outputs": [],
   "source": [
    "payload['results'][0].keys()"
   ]
  },
  {
   "cell_type": "markdown",
   "metadata": {},
   "source": [
    "### Parsear el resultado\n",
    "No queremos todos esos campos, así que usaremos una comphrensión de lista para sacar sólo los campos `id` y `name`:"
   ]
  },
  {
   "cell_type": "code",
   "execution_count": null,
   "metadata": {},
   "outputs": [],
   "source": [
    "[(data['id'], data['name']) for data in payload['results']]"
   ]
  },
  {
   "cell_type": "markdown",
   "metadata": {},
   "source": [
    "## Averiguar qué categoría de datos queremos\n",
    "Los datos `GHCND` que contienen resúmenes diarios son los que queremos. Ahora tenemos que hacer otra petición para averiguar qué categorías de datos queremos recoger. Este es el endpoint `datacategories`. Tenemos que pasar el `datasetid` de `GHCND` como carga útil para que la API sepa sobre qué conjunto de datos estamos preguntando:"
   ]
  },
  {
   "cell_type": "code",
   "execution_count": null,
   "metadata": {},
   "outputs": [],
   "source": [
    "# obtener id de categoría de datos\n",
    "response = make_request(\n",
    "    'datacategories', payload={'datasetid': 'GHCND'}\n",
    ")\n",
    "response.status_code"
   ]
  },
  {
   "cell_type": "markdown",
   "metadata": {},
   "source": [
    "Como sabemos que la API nos da una clave `metadata` y otra `results` en cada respuesta, podemos ver qué hay en la parte `results` de la carga JSON:"
   ]
  },
  {
   "cell_type": "code",
   "execution_count": null,
   "metadata": {},
   "outputs": [],
   "source": [
    "response.json()['results']"
   ]
  },
  {
   "cell_type": "markdown",
   "metadata": {},
   "source": [
    "## Obtener el tipo de datos ID para la categoría de temperatura\n",
    "Vamos a trabajar con temperaturas, así que queremos la categoría de datos `TEMP`. Ahora, tenemos que encontrar los `datatypes` a recoger. Para ello, utilizamos el endpoint `datatypes` y proporcionamos el `datacategoryid`, que es `TEMP`. También especificamos un límite para el número de `datatypes` a devolver con la carga. Si hay más que esto podemos hacer otra solicitud más tarde, pero por ahora, sólo queremos elegir unos pocos:"
   ]
  },
  {
   "cell_type": "code",
   "execution_count": null,
   "metadata": {},
   "outputs": [],
   "source": [
    "# obtener id de tipo de datos\n",
    "response = make_request(\n",
    "    'datatypes',\n",
    "    payload={\n",
    "        'datacategoryid': 'TEMP', \n",
    "        'limit': 100\n",
    "    }\n",
    ")\n",
    "response.status_code"
   ]
  },
  {
   "cell_type": "markdown",
   "metadata": {},
   "source": [
    "Podemos obtener los campos `id` y `name` de cada una de las entradas de la parte de datos `results`. Los campos que nos interesan están en la parte inferior:"
   ]
  },
  {
   "cell_type": "code",
   "execution_count": null,
   "metadata": {},
   "outputs": [],
   "source": [
    "[(datatype['id'], datatype['name']) for datatype in response.json()['results']][-5:] # mira los últimos 5"
   ]
  },
  {
   "cell_type": "markdown",
   "metadata": {},
   "source": [
    "## Determinar qué categoría de ubicación queremos\n",
    "Ahora que sabemos qué `datatypes` vamos a recoger, tenemos que encontrar la ubicación a utilizar. En primer lugar, tenemos que averiguar la categoría de ubicación. Esto se obtiene del endpoint `locationcategories` pasando el `datasetid`:"
   ]
  },
  {
   "cell_type": "code",
   "execution_count": null,
   "metadata": {},
   "outputs": [],
   "source": [
    "# obtener id de categoría de ubicación\n",
    "response = make_request(\n",
    "    'locationcategories', \n",
    "    payload={'datasetid': 'GHCND'}\n",
    ")\n",
    "response.status_code"
   ]
  },
  {
   "cell_type": "markdown",
   "metadata": {},
   "source": [
    "Podemos utilizar `pprint` para imprimir los diccionarios en un formato más fácil de leer. Después de hacerlo, podemos ver que hay 12 categorías de ubicación diferentes, pero sólo nos interesa `CITY`:"
   ]
  },
  {
   "cell_type": "code",
   "execution_count": null,
   "metadata": {},
   "outputs": [],
   "source": [
    "import pprint\n",
    "pprint.pprint(response.json())"
   ]
  },
  {
   "cell_type": "markdown",
   "metadata": {},
   "source": [
    "## Obtener el ID de localización de NYC\n",
    "Para encontrar el ID de ubicación de Nueva York, tenemos que buscar en todas las ciudades disponibles. Como podemos pedir a la API que nos devuelva las ciudades ordenadas, podemos usar la búsqueda binaria para encontrar Nueva York rápidamente sin tener que hacer muchas peticiones o solicitar muchos datos a la vez. La siguiente función realiza la primera petición para ver el tamaño de la lista y busca el primer valor. A partir de ahí decide si tiene que moverse hacia el principio o el final de la lista comparando el elemento que buscamos con los demás alfabéticamente. Cada vez que hace una petición puede descartar la mitad de los datos que quedan por buscar."
   ]
  },
  {
   "cell_type": "code",
   "execution_count": null,
   "metadata": {},
   "outputs": [],
   "source": [
    "def get_item(name:str, what:dict, endpoint:str, start=1, end=None) -> dict:\n",
    "    \"\"\"\n",
    "    Obtiene la carga útil JSON de un campo dado por su nombre utilizando la búsqueda binaria.\n",
    "\n",
    "    Parámetros:\n",
    "        - name: El elemento a buscar.\n",
    "        - what: Diccionario que especifica cuál es el elemento en `name`.\n",
    "        - endpoint: Dónde buscar el elemento.\n",
    "        - inicio: La posición en la que empezar. No necesitamos tocar esto, pero la función\n",
    "                 manipulará esto con la recursión.\n",
    "        - fin: La última posición de los elementos. Se usa para encontrar el punto medio, pero\n",
    "               como `start` no es algo de lo que tengamos que preocuparnos.\n",
    "\n",
    "    Devuelve:\n",
    "        Diccionario con la información del ítem si se encuentra de lo contrario\n",
    "        un diccionario vacío.\n",
    "    \"\"\"\n",
    "    # encontrar el punto medio que utilizamos para cortar los datos por la mitad cada vez\n",
    "    mid = (start + (end or 1)) // 2\n",
    "    \n",
    "    # escribe el nombre en minúsculas para que no se distinga entre mayúsculas y minúsculas\n",
    "    name = name.lower()\n",
    "    \n",
    "    # define el payload que enviaremos con cada petición\n",
    "    payload = {\n",
    "        'datasetid': 'GHCND',\n",
    "        'sortfield': 'name',\n",
    "        'offset': mid, # cambiaremos el offset cada vez\n",
    "        'limit': 1 # sólo queremos un valor de vuelta\n",
    "    }\n",
    "    \n",
    "    # realiza nuestra petición añadiendo cualquier parámetro de filtro adicional de `what`.\n",
    "    response = make_request(endpoint, {**payload, **what})\n",
    "    \n",
    "    if response.ok:\n",
    "        payload = response.json()\n",
    "\n",
    "        # si la respuesta es correcta, tomar el índice final de los metadatos de respuesta la primera vez\n",
    "        end = end or payload['metadata']['resultset']['count']\n",
    "        \n",
    "        # toma la versión en minúsculas del nombre actual\n",
    "        current_name = payload['results'][0]['name'].lower()\n",
    "        \n",
    "        # si lo que buscamos está en el nombre actual, hemos encontrado nuestro artículo\n",
    "        if name in current_name:\n",
    "            return payload['results'][0] # devolver el elemento encontrado\n",
    "        else:\n",
    "            if start >= end: \n",
    "                # si nuestro índice de inicio es mayor o igual que nuestro final, no pudimos encontrarlo\n",
    "                return {}\n",
    "            elif name < current_name:\n",
    "                # nuestro nombre viene antes del nombre actual en el alfabeto, así que buscamos más a la izquierda\n",
    "                return get_item(name, what, endpoint, start, mid - 1)\n",
    "            elif name > current_name:\n",
    "                # nuestro nombre viene después del nombre actual en el alfabeto, así que buscamos más a la derecha\n",
    "                return get_item(name, what, endpoint, mid + 1, end)    \n",
    "    else:\n",
    "        # la respuesta no era correcta, usa el código para determinar por qué\n",
    "        print(f'Respuesta no OK, estado: {response.status_code}')"
   ]
  },
  {
   "cell_type": "markdown",
   "metadata": {},
   "source": [
    "Cuando utilizamos la búsqueda binaria para encontrar Nueva York, la encontramos en sólo 8 peticiones a pesar de estar cerca de la mitad de las 1.983 entradas:"
   ]
  },
  {
   "cell_type": "code",
   "execution_count": null,
   "metadata": {},
   "outputs": [],
   "source": [
    "# obtener id NYC\n",
    "nyc = get_item('New York', {'locationcategoryid': 'CITY'}, 'locations')\n",
    "nyc"
   ]
  },
  {
   "cell_type": "markdown",
   "metadata": {},
   "source": [
    "## Obtener el ID de estación para Central Park\n",
    "Los datos más detallados se encuentran a nivel de estación:"
   ]
  },
  {
   "cell_type": "code",
   "execution_count": null,
   "metadata": {},
   "outputs": [],
   "source": [
    "central_park = get_item('NY City Central Park', {'locationid': nyc['id']}, 'stations')\n",
    "central_park"
   ]
  },
  {
   "cell_type": "markdown",
   "metadata": {},
   "source": [
    "## Solicitar los datos de temperatura\n",
    "Por fin tenemos todo lo que necesitamos para solicitar los datos de temperatura de Nueva York. Para ello, utilizamos el endpoint `data` y proporcionamos todos los parámetros que hemos ido recogiendo a lo largo de nuestra exploración de la API:"
   ]
  },
  {
   "cell_type": "code",
   "execution_count": null,
   "metadata": {},
   "outputs": [],
   "source": [
    "# obtenga los datos de los resúmenes diarios de NYC \n",
    "response = make_request(\n",
    "    'data', \n",
    "    {\n",
    "        'datasetid': 'GHCND',\n",
    "        'stationid': central_park['id'],\n",
    "        'locationid': nyc['id'],\n",
    "        'startdate': '2018-10-01',\n",
    "        'enddate': '2018-10-31',\n",
    "        'datatypeid': ['TAVG', 'TMAX', 'TMIN'], # temperatura media, máxima y mínima\n",
    "        'units': 'metric',\n",
    "        'limit': 1000\n",
    "    }\n",
    ")\n",
    "response.status_code"
   ]
  },
  {
   "cell_type": "markdown",
   "metadata": {},
   "source": [
    "## Crear un DataFrame\n",
    "La estación de Central Park sólo tiene las temperaturas mínimas y máximas diarias."
   ]
  },
  {
   "cell_type": "code",
   "execution_count": null,
   "metadata": {},
   "outputs": [],
   "source": [
    "import pandas as pd\n",
    "\n",
    "df = pd.DataFrame(response.json()['results'])\n",
    "df.head()"
   ]
  },
  {
   "cell_type": "markdown",
   "metadata": {},
   "source": [
    "No conseguimos `TAVG` porque la estación no mide eso:"
   ]
  },
  {
   "cell_type": "code",
   "execution_count": null,
   "metadata": {},
   "outputs": [],
   "source": [
    "df.datatype.unique()"
   ]
  },
  {
   "cell_type": "markdown",
   "metadata": {},
   "source": [
    "A pesar de aparecer en los datos como medición... ¡Los datos del mundo real están sucios!"
   ]
  },
  {
   "cell_type": "code",
   "execution_count": null,
   "metadata": {},
   "outputs": [],
   "source": [
    "if get_item(\n",
    "    'NY City Central Park', {'locationid': nyc['id'], 'datatypeid': 'TAVG'}, 'stations'\n",
    "):\n",
    "    print('Found!')"
   ]
  },
  {
   "cell_type": "markdown",
   "metadata": {},
   "source": [
    "## Usando una estación diferente\n",
    "Usemos en su lugar el aeropuerto de LaGuardia. Contiene `TAVG` (temperatura media diaria):"
   ]
  },
  {
   "cell_type": "code",
   "execution_count": null,
   "metadata": {},
   "outputs": [],
   "source": [
    "laguardia = get_item(\n",
    "    'LaGuardia', {'locationid': nyc['id']}, 'stations'\n",
    ")\n",
    "laguardia"
   ]
  },
  {
   "cell_type": "markdown",
   "metadata": {},
   "source": [
    "Esta vez hacemos nuestra solicitud utilizando la estación del aeropuerto de LaGuardia."
   ]
  },
  {
   "cell_type": "code",
   "execution_count": null,
   "metadata": {},
   "outputs": [],
   "source": [
    "# obtenga los datos de los resúmenes diarios de NYC\n",
    "response = make_request(\n",
    "    'data', \n",
    "    {\n",
    "        'datasetid': 'GHCND',\n",
    "        'stationid': laguardia['id'],\n",
    "        'locationid': nyc['id'],\n",
    "        'startdate': '2018-10-01',\n",
    "        'enddate': '2018-10-31',\n",
    "        'datatypeid': ['TAVG', 'TMAX', 'TMIN'], # temperatura en el momento de la observación, mín. y máx.\n",
    "        'units': 'metric',\n",
    "        'limit': 1000\n",
    "    }\n",
    ")\n",
    "response.status_code"
   ]
  },
  {
   "cell_type": "markdown",
   "metadata": {},
   "source": [
    "La solicitud se ha realizado correctamente, así que vamos a crear un marco de datos:"
   ]
  },
  {
   "cell_type": "code",
   "execution_count": null,
   "metadata": {},
   "outputs": [],
   "source": [
    "df = pd.DataFrame(response.json()['results'])\n",
    "df.head()"
   ]
  },
  {
   "cell_type": "markdown",
   "metadata": {},
   "source": [
    "Debemos comprobar que hemos obtenido lo que queríamos: 31 entradas para TAVG, TMAX y TMIN (1 por día):"
   ]
  },
  {
   "cell_type": "code",
   "execution_count": null,
   "metadata": {},
   "outputs": [],
   "source": [
    "df.datatype.value_counts()"
   ]
  },
  {
   "cell_type": "markdown",
   "metadata": {},
   "source": [
    "Escribe los datos en un archivo CSV para utilizarlos en otros cuadernos."
   ]
  },
  {
   "cell_type": "code",
   "execution_count": null,
   "metadata": {},
   "outputs": [],
   "source": [
    "df.to_csv('data/nyc_temperatures.csv', index=False)"
   ]
  },
  {
   "cell_type": "markdown",
   "metadata": {},
   "source": [
    "<hr>\n",
    "<div>\n",
    "    <a href=\"./1-ancho_vs_largo.ipynb\">\n",
    "        <button>&#8592; Notebook Anterior</button>\n",
    "    </a>\n",
    "    <a href=\"./3-cleaning_data.ipynb\">\n",
    "        <button style=\"float: right;\"> Siguiente Notebook &#8594;</button>\n",
    "    </a>\n",
    "</div>\n",
    "<hr>"
   ]
  }
 ],
 "metadata": {
  "kernelspec": {
   "display_name": "Python 3",
   "language": "python",
   "name": "python3"
  },
  "language_info": {
   "codemirror_mode": {
    "name": "ipython",
    "version": 3
   },
   "file_extension": ".py",
   "mimetype": "text/x-python",
   "name": "python",
   "nbconvert_exporter": "python",
   "pygments_lexer": "ipython3",
   "version": "3.9.7"
  }
 },
 "nbformat": 4,
 "nbformat_minor": 4
}
