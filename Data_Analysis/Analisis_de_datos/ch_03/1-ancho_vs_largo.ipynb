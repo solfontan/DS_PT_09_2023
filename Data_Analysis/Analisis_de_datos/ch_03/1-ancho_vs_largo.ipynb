{
 "cells": [
  {
   "cell_type": "markdown",
   "metadata": {},
   "source": [
    "# Formato ancho frente a formato largo\n",
    "\n",
    "## Acerca de los datos\n",
    "En este notebook utilizaremos datos diarios de temperatura de la API [National Centers for Environmental Information (NCEI) API](https://www.ncdc.noaa.gov/cdo-web/webservices/v2). Utilizaremos el conjunto de datos Global Historical Climatology Network - Daily (GHCND) para la estación Boonton 1 (GHCND:USC00280907); consulte la documentación [aquí](https://www1.ncdc.noaa.gov/pub/data/cdo/documentation/GHCND_documentation.pdf).\n",
    "\n",
    "*Nota: El NCEI forma parte de la Administración Nacional Oceánica y Atmosférica (NOAA) y, como puede verse en la URL de la API, este recurso se creó cuando el NCEI se llamaba NCDC. Si la URL de este recurso cambiara en el futuro, puede buscar \"NCEI weather API\" para encontrar la actualizada.*\n",
    "\n",
    "## Configuración"
   ]
  },
  {
   "cell_type": "code",
   "execution_count": null,
   "metadata": {},
   "outputs": [],
   "source": [
    "import matplotlib.pyplot as plt\n",
    "import pandas as pd\n",
    "\n",
    "wide_df = pd.read_csv('data/wide_data.csv', parse_dates=['date'])\n",
    "long_df = pd.read_csv(\n",
    "    'data/long_data.csv', \n",
    "    usecols=['date', 'datatype', 'value'], \n",
    "    parse_dates=['date']\n",
    ")[['date', 'datatype', 'value']] # ordenar columnas"
   ]
  },
  {
   "cell_type": "markdown",
   "metadata": {},
   "source": [
    "## Formato ancho\n",
    "Cada una de nuestras variables tiene su propia columna:"
   ]
  },
  {
   "cell_type": "code",
   "execution_count": null,
   "metadata": {},
   "outputs": [],
   "source": [
    "wide_df.head(6)"
   ]
  },
  {
   "cell_type": "markdown",
   "metadata": {},
   "source": [
    "Describir todas las columnas es fácil:"
   ]
  },
  {
   "cell_type": "code",
   "execution_count": null,
   "metadata": {},
   "outputs": [],
   "source": [
    "wide_df.describe(include='all')"
   ]
  },
  {
   "cell_type": "markdown",
   "metadata": {},
   "source": [
    "Es fácil de graficar con `pandas` (tratadas en el capítulo 5):"
   ]
  },
  {
   "cell_type": "code",
   "execution_count": null,
   "metadata": {},
   "outputs": [],
   "source": [
    "wide_df.plot(\n",
    "    x='date', y=['TMAX', 'TMIN', 'TOBS'], figsize=(15, 5), \n",
    "    title='Temperatura en la ciudad de Nueva York en octubre de 2018'\n",
    ").set_ylabel('Temperatura en grados Celsius')\n",
    "plt.show()"
   ]
  },
  {
   "cell_type": "markdown",
   "metadata": {},
   "source": [
    "## Formato largo\n",
    "Los nombres de nuestras variables están ahora en la columna `datatype` y sus valores en la columna `value`. Ahora tenemos 3 filas para cada fecha, ya que tenemos 3 `datatypes` diferentes:"
   ]
  },
  {
   "cell_type": "code",
   "execution_count": null,
   "metadata": {},
   "outputs": [],
   "source": [
    "long_df.head(6)"
   ]
  },
  {
   "cell_type": "markdown",
   "metadata": {},
   "source": [
    "Dado que tenemos muchas filas para la misma fecha, utilizar `describe()` no es muy útil:"
   ]
  },
  {
   "cell_type": "code",
   "execution_count": null,
   "metadata": {},
   "outputs": [],
   "source": [
    "long_df.describe(include='all')"
   ]
  },
  {
   "cell_type": "markdown",
   "metadata": {},
   "source": [
    "Trazar datos de formato largo en `pandas` puede ser bastante complicado. En su lugar se utiliza `seaborn` (tratado en [`ch_06/1-introduccion_a_seaborn.ipynb`](../ch_06/1-introduccion_a_seaborn.ipynb)):"
   ]
  },
  {
   "cell_type": "code",
   "execution_count": null,
   "metadata": {},
   "outputs": [],
   "source": [
    "import seaborn as sns\n",
    "\n",
    "sns.set(rc={'figure.figsize': (15, 5)}, style='white')\n",
    "\n",
    "ax = sns.lineplot(\n",
    "    data=long_df, x='date', y='value', hue='datatype'\n",
    ")\n",
    "ax.set_ylabel('Temperatura en grados Celsius')\n",
    "ax.set_title('Temperatura en la ciudad de Nueva York en octubre de 2018')\n",
    "plt.show()"
   ]
  },
  {
   "cell_type": "markdown",
   "metadata": {},
   "source": [
    "Con datos largos y `seaborn`, podemos facetar fácilmente nuestros gráficos:"
   ]
  },
  {
   "cell_type": "code",
   "execution_count": null,
   "metadata": {},
   "outputs": [],
   "source": [
    "sns.set(\n",
    "    rc={'figure.figsize': (20, 10)}, style='white', font_scale=2\n",
    ")\n",
    "\n",
    "g = sns.FacetGrid(long_df, col='datatype', height=10)\n",
    "g = g.map(plt.plot, 'date', 'value')\n",
    "g.set_titles(size=25)\n",
    "g.set_xticklabels(rotation=45)\n",
    "plt.show()"
   ]
  },
  {
   "cell_type": "markdown",
   "metadata": {},
   "source": [
    "<hr>\n",
    "<div>\n",
    "    <a href=\"../ch_02/6-anadiendo_y_eliminando_data.ipynb\">\n",
    "        <button style=\"float: left;\">&#8592; Capitulo 2</button>\n",
    "    </a>\n",
    "    <a href=\"./2-usando_la_api_weather.ipynb\">\n",
    "        <button style=\"float: right;\">Sigueinte Notebook &#8594;</button>\n",
    "    </a>\n",
    "</div>\n",
    "<br>\n",
    "<hr>"
   ]
  }
 ],
 "metadata": {
  "kernelspec": {
   "display_name": "Python 3",
   "language": "python",
   "name": "python3"
  },
  "language_info": {
   "codemirror_mode": {
    "name": "ipython",
    "version": 3
   },
   "file_extension": ".py",
   "mimetype": "text/x-python",
   "name": "python",
   "nbconvert_exporter": "python",
   "pygments_lexer": "ipython3",
   "version": "3.9.7"
  }
 },
 "nbformat": 4,
 "nbformat_minor": 4
}
