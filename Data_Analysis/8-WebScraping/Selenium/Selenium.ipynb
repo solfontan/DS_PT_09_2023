{
 "cells": [
  {
   "cell_type": "markdown",
   "metadata": {},
   "source": [
    "# Web Scraping: Selenium"
   ]
  },
  {
   "cell_type": "markdown",
   "metadata": {},
   "source": [
    "A menudo, los datos están disponibles públicamente para nosotros, pero no en una forma que sea fácilmente utilizable. Ahí es donde entra en juego el web scraping, podemos usar web scraping para obtener nuestros datos deseados en un formato conveniente que luego se puede usar. a continuación, mostraré cómo se puede extraer información de interés de un sitio web usando el paquete Selenium en Python. Selenium nos permite manejar una ventana del navegador e interactuar con el sitio web mediante programación. \n",
    "\n",
    "Selenium también tiene varios métodos que facilitan la extracción de datos.\n",
    "En este Jupyter Notebook vamos a usar Python 3 en Windows.\n",
    "\n",
    "En primer lugar, tendremos que descargar un controlador.\n",
    "\n",
    "Usaremos ChromeDriver para Google Chrome. Para obtener una lista completa de controladores y plataformas compatibles, consulte [Selenium](https://www.selenium.dev/downloads/). Si desea utilizar Google Chrome, diríjase a [chrome](https://chromedriver.chromium.org/) y descargue el controlador que corresponde a su versión actual de Google Chrome.\n",
    "\n",
    "Como saber cual es la version de chrome que utilizo simple utilizamos pegamos el siguiente enlace en la barra de chrome chrome://settings/help\n",
    "\n",
    "Antes de comenzar se preguntaran si ya se BeautifulSoup cual es la diferencia con Selenium.\n",
    "\n",
    "A diferencia BeautifulSoup, Selenium no trabaja con el texto fuente en HTML de la web en cuestión, sino que carga la página en un navegador sin interfaz de usuario. El navegador interpreta entonces el código fuente de la página y crea, a partir de él, un Document Object Model (modelo de objetos de documento o DOM). Esta interfaz estandarizada permite poner a prueba las interacciones de los usuarios. De esta forma se consigue, por ejemplo, simular clics y rellenar formularios automáticamente. Los cambios en la web que resultan de dichas acciones se reflejan en el DOM. La estructura del proceso de web scraping con Selenium es la siguiente:\n",
    "\n",
    "URL → Solicitud HTTP → HTML → Selenium → DOM\n",
    "\n"
   ]
  },
  {
   "cell_type": "markdown",
   "metadata": {},
   "source": [
    "## Comencemos importando las bibliotecas que usaremos:"
   ]
  },
  {
   "cell_type": "code",
   "execution_count": 5,
   "metadata": {
    "ExecuteTime": {
     "end_time": "2021-02-26T12:16:59.303652Z",
     "start_time": "2021-02-26T12:16:59.300657Z"
    }
   },
   "outputs": [],
   "source": [
    "from selenium import webdriver\n",
    "from selenium.webdriver.common.by import By\n",
    "from selenium.webdriver.chrome.options import Options\n",
    "from selenium.webdriver.chrome.service import Service\n",
    "import urllib3 # urllib3 es un cliente HTTP potente y fácil de usar para Python.\n",
    "import re # Expresiones regulares \n",
    "import time\n",
    "import pandas as pd"
   ]
  },
  {
   "cell_type": "markdown",
   "metadata": {},
   "source": [
    "El objeto driver es con el que trabajaremos a partir de ahora"
   ]
  },
  {
   "cell_type": "code",
   "execution_count": 6,
   "metadata": {
    "ExecuteTime": {
     "end_time": "2021-02-26T10:22:46.333679Z",
     "start_time": "2021-02-26T10:22:45.178780Z"
    }
   },
   "outputs": [],
   "source": [
    "# especificamos el path hasta nuestro driver recién descargado:\n",
    "chrome_driver_path = 'chromedriver.exe'\n",
    "service = Service(chrome_driver_path)\n",
    "options = Options()"
   ]
  },
  {
   "cell_type": "code",
   "execution_count": 9,
   "metadata": {},
   "outputs": [],
   "source": [
    "# Creamos el driver con el que nos vamos a manejar en la sesión de scrapeo:\n",
    "driver = webdriver.Chrome(service=service, options = options)"
   ]
  },
  {
   "cell_type": "code",
   "execution_count": 10,
   "metadata": {},
   "outputs": [],
   "source": [
    "# indicamos la URL de la página web a la que queremos acceder:\n",
    "url = r'https://insolvencyinsider.ca/t/Recent%20filings'\n",
    "# el objeto driver nos va a permitir alterar el estado del la página\n",
    "driver.get(url)"
   ]
  },
  {
   "cell_type": "markdown",
   "metadata": {},
   "source": [
    "Ahora si queremos hacer click en el boton de \"Load more\".."
   ]
  },
  {
   "cell_type": "markdown",
   "metadata": {},
   "source": [
    "Selenium proporciona varios métodos para localizar elementos en la página web. Usaremos el método find_element_by_xpath() para crear un objeto de botón, con el que luego podremos interactuar:"
   ]
  },
  {
   "cell_type": "markdown",
   "metadata": {},
   "source": [
    "/html/body/div/main/div/div/div/div[2]/div/button"
   ]
  },
  {
   "cell_type": "code",
   "execution_count": null,
   "metadata": {},
   "outputs": [],
   "source": [
    "loadMore = driver.find_element(By.XPATH,\"\")"
   ]
  },
  {
   "cell_type": "markdown",
   "metadata": {},
   "source": [
    "Antes de continuar, necesitaremos saber cuántas páginas hay para saber cuántas veces debemos hacer clic en el botón. Necesitaremos una forma de extraer el código fuente del sitio web. Afortunadamente, este proceso es relativamente sencillo con las bibliotecas urllib3 y re."
   ]
  },
  {
   "cell_type": "code",
   "execution_count": 12,
   "metadata": {},
   "outputs": [],
   "source": [
    "http = urllib3.PoolManager()\n",
    "r = http.request(\"GET\", url)\n",
    "text = str(r.data)\n"
   ]
  },
  {
   "cell_type": "code",
   "execution_count": 14,
   "metadata": {},
   "outputs": [
    {
     "data": {
      "text/plain": [
       "'b\\'<!DOCTYPE html><html lang=\"en\" class=\"h-full antialiased\"><head><meta charSet=\"utf-8\" /><title>beehiiv</title><meta content=\"The newsletter platform built for growth.\" name=\"description\" /><meta content=\"Newsletter, Email, Growth, Platofrm, SaaS, Creator\" name=\"keywords\" /><meta content=\"width=device-width,initial-scale=1\" name=\"viewport\" /><style></style><link rel=\"stylesheet\" href=\"/build/_assets/app-C45DRX32.css\" /><link rel=\"preconnect\" href=\"https://fonts.googleapis.com\" /><link rel=\"preconnect\" href=\"https://fonts.gstatic.com\" /></head><body class=\"flex h-full flex-col\"><script>window.ENV = undefined</script><div class><div class=\"mx-auto flex min-h-screen max-w-3xl items-center justify-center bg-white px-4 py-24\"><div class=\"mx-auto max-w-max\"><main class=\"sm:flex\"><p class=\"text-4xl font-extrabold text-gray-600 sm:text-5xl\">404</p><div class=\"sm:ml-6\"><div class=\"sm:border-l sm:border-gray-200 sm:pl-6\"><h1 class=\"text-4xl font-extrabold tracking-tight text-gray-900 sm:text-5xl\">This page doesn&#x27;t exist</h1><p class=\"mt-2 mb-2 text-base text-gray-500\">Please check the URL in the address bar and try again.</p></div></div></main></div></div></div><script>(STORAGE_KEY => {\\\\n    if (!window.history.state || !window.history.state.key) {\\\\n      let key = Math.random().toString(32).slice(2);\\\\n      window.history.replaceState({\\\\n        key\\\\n      }, \"\");\\\\n    }\\\\n\\\\n    try {\\\\n      let positions = JSON.parse(sessionStorage.getItem(STORAGE_KEY) || \"{}\");\\\\n      let storedY = positions[window.history.state.key];\\\\n\\\\n      if (typeof storedY === \"number\") {\\\\n        window.scrollTo(0, storedY);\\\\n      }\\\\n    } catch (error) {\\\\n      console.error(error);\\\\n      sessionStorage.removeItem(STORAGE_KEY);\\\\n    }\\\\n  })(\"positions\")</script><link rel=\"modulepreload\" href=\"/build/_shared/chunk-V6NKCLQD.js\" /><link rel=\"modulepreload\" href=\"/build/_shared/chunk-LR2TDZQ6.js\" /><link rel=\"modulepreload\" href=\"/build/_shared/chunk-PUUNJBCK.js\" /><link rel=\"modulepreload\" href=\"/build/_shared/chunk-NUTN2VOP.js\" /><link rel=\"modulepreload\" href=\"/build/_shared/chunk-G6CDRCV7.js\" /><link rel=\"modulepreload\" href=\"/build/_shared/chunk-T234WKJI.js\" /><link rel=\"modulepreload\" href=\"/build/_shared/chunk-PFR53PPK.js\" /><link rel=\"modulepreload\" href=\"/build/_shared/chunk-BQCUINC5.js\" /><link rel=\"modulepreload\" href=\"/build/_shared/chunk-HWCJ5IMC.js\" /><link rel=\"modulepreload\" href=\"/build/_shared/chunk-QRUEPZP6.js\" /><link rel=\"modulepreload\" href=\"/build/_shared/chunk-FILXGU67.js\" /><link rel=\"modulepreload\" href=\"/build/_shared/chunk-2CKNLSXU.js\" /><link rel=\"modulepreload\" href=\"/build/_shared/chunk-DZOMEGBC.js\" /><link rel=\"modulepreload\" href=\"/build/_shared/chunk-XRDJMVWN.js\" /><link rel=\"modulepreload\" href=\"/build/_shared/chunk-56WYO72P.js\" /><link rel=\"modulepreload\" href=\"/build/_shared/chunk-YIWO2KNY.js\" /><link rel=\"modulepreload\" href=\"/build/_shared/chunk-FR37HS7Q.js\" /><link rel=\"modulepreload\" href=\"/build/_shared/chunk-4LERBS4F.js\" /><link rel=\"modulepreload\" href=\"/build/_shared/chunk-RTBTGTO6.js\" /><link rel=\"modulepreload\" href=\"/build/_shared/chunk-GQBVVNMN.js\" /><link rel=\"modulepreload\" href=\"/build/_shared/chunk-YOAGUUN6.js\" /><link rel=\"modulepreload\" href=\"/build/_shared/chunk-G44LSF5L.js\" /><link rel=\"modulepreload\" href=\"/build/_shared/chunk-MCDM46WR.js\" /><link rel=\"modulepreload\" href=\"/build/_shared/chunk-LMUMY6YR.js\" /><link rel=\"modulepreload\" href=\"/build/_shared/chunk-CY5473SF.js\" /><link rel=\"modulepreload\" href=\"/build/_shared/chunk-OQ5IMCIA.js\" /><link rel=\"modulepreload\" href=\"/build/_shared/chunk-IQQMIK5T.js\" /><link rel=\"modulepreload\" href=\"/build/_shared/chunk-HBA2H4UX.js\" /><link rel=\"modulepreload\" href=\"/build/_shared/chunk-CBL76MW4.js\" /><link rel=\"modulepreload\" href=\"/build/_shared/chunk-IN4LG46O.js\" /><link rel=\"modulepreload\" href=\"/build/_shared/chunk-IGCHGWVU.js\" /><link rel=\"modulepreload\" href=\"/build/_shared/chunk-J24LMM7T.js\" /><link rel=\"modulepreload\" href=\"/build/_shared/chunk-BCUQWPWE.js\" /><link rel=\"modulepreload\" href=\"/build/_shared/chunk-IBQC2RF5.js\" /><link rel=\"modulepreload\" href=\"/build/_shared/chunk-5DCFALQ2.js\" /><link rel=\"modulepreload\" href=\"/build/_shared/chunk-MRY5SXDL.js\" /><link rel=\"modulepreload\" href=\"/build/_shared/chunk-JR3LCQKS.js\" /><link rel=\"modulepreload\" href=\"/build/_shared/chunk-CKAJJNIC.js\" /><link rel=\"modulepreload\" href=\"/build/_shared/chunk-YC5RDNB2.js\" /><link rel=\"modulepreload\" href=\"/build/_shared/chunk-6HFKSBJV.js\" /><link rel=\"modulepreload\" href=\"/build/_shared/chunk-YPLOXXDM.js\" /><link rel=\"modulepreload\" href=\"/build/_shared/chunk-UJHLW63H.js\" /><link rel=\"modulepreload\" href=\"/build/_shared/chunk-7WF6TP4S.js\" /><link rel=\"modulepreload\" href=\"/build/root-5L3F4GPR.js\" /><script>window.__remixContext = {\\\\\\'actionData\\\\\\':undefined,\\\\\\'appState\\\\\\':{\\\\\\'trackBoundaries\\\\\\':true,\\\\\\'trackCatchBoundaries\\\\\\':false,\\\\\\'catchBoundaryRouteId\\\\\\':\\\\\\'root\\\\\\',\\\\\\'renderBoundaryRouteId\\\\\\':null,\\\\\\'loaderBoundaryRouteId\\\\\\':null,\\\\\\'error\\\\\\':undefined,\\\\\\'catch\\\\\\':{\\\\\\'data\\\\\\':null,\\\\\\'status\\\\\\':404,\\\\\\'statusText\\\\\\':\\\\\\'Not Found\\\\\\'}},\\\\\\'matches\\\\\\':[{\\\\\\'params\\\\\\':{},\\\\\\'pathname\\\\\\':\\\\\\'\\\\\\',\\\\\\'route\\\\\\':{\\\\\\'id\\\\\\':\\\\\\'root\\\\\\',\\\\\\'parentId\\\\\\':undefined,\\\\\\'path\\\\\\':\\\\\\'\\\\\\',\\\\\\'index\\\\\\':undefined,\\\\\\'caseSensitive\\\\\\':undefined,\\\\\\'module\\\\\\':\\\\\\'/build/root-5L3F4GPR.js\\\\\\',\\\\\\'imports\\\\\\':[\\\\\\'/build/_shared/chunk-HWCJ5IMC.js\\\\\\',\\\\\\'/build/_shared/chunk-QRUEPZP6.js\\\\\\',\\\\\\'/build/_shared/chunk-FILXGU67.js\\\\\\',\\\\\\'/build/_shared/chunk-2CKNLSXU.js\\\\\\',\\\\\\'/build/_shared/chunk-DZOMEGBC.js\\\\\\',\\\\\\'/build/_shared/chunk-XRDJMVWN.js\\\\\\',\\\\\\'/build/_shared/chunk-56WYO72P.js\\\\\\',\\\\\\'/build/_shared/chunk-YIWO2KNY.js\\\\\\',\\\\\\'/build/_shared/chunk-FR37HS7Q.js\\\\\\',\\\\\\'/build/_shared/chunk-4LERBS4F.js\\\\\\',\\\\\\'/build/_shared/chunk-RTBTGTO6.js\\\\\\',\\\\\\'/build/_shared/chunk-GQBVVNMN.js\\\\\\',\\\\\\'/build/_shared/chunk-YOAGUUN6.js\\\\\\',\\\\\\'/build/_shared/chunk-G44LSF5L.js\\\\\\',\\\\\\'/build/_shared/chunk-MCDM46WR.js\\\\\\',\\\\\\'/build/_shared/chunk-LMUMY6YR.js\\\\\\',\\\\\\'/build/_shared/chunk-CY5473SF.js\\\\\\',\\\\\\'/build/_shared/chunk-OQ5IMCIA.js\\\\\\',\\\\\\'/build/_shared/chunk-IQQMIK5T.js\\\\\\',\\\\\\'/build/_shared/chunk-HBA2H4UX.js\\\\\\',\\\\\\'/build/_shared/chunk-CBL76MW4.js\\\\\\',\\\\\\'/build/_shared/chunk-IN4LG46O.js\\\\\\',\\\\\\'/build/_shared/chunk-IGCHGWVU.js\\\\\\',\\\\\\'/build/_shared/chunk-J24LMM7T.js\\\\\\',\\\\\\'/build/_shared/chunk-BCUQWPWE.js\\\\\\',\\\\\\'/build/_shared/chunk-IBQC2RF5.js\\\\\\',\\\\\\'/build/_shared/chunk-5DCFALQ2.js\\\\\\',\\\\\\'/build/_shared/chunk-MRY5SXDL.js\\\\\\',\\\\\\'/build/_shared/chunk-JR3LCQKS.js\\\\\\',\\\\\\'/build/_shared/chunk-CKAJJNIC.js\\\\\\',\\\\\\'/build/_shared/chunk-YC5RDNB2.js\\\\\\',\\\\\\'/build/_shared/chunk-6HFKSBJV.js\\\\\\',\\\\\\'/build/_shared/chunk-YPLOXXDM.js\\\\\\',\\\\\\'/build/_shared/chunk-UJHLW63H.js\\\\\\',\\\\\\'/build/_shared/chunk-7WF6TP4S.js\\\\\\'],\\\\\\'hasAction\\\\\\':false,\\\\\\'hasLoader\\\\\\':true,\\\\\\'hasCatchBoundary\\\\\\':true,\\\\\\'hasErrorBoundary\\\\\\':true}}],\\\\\\'routeData\\\\\\':{}};</script><script src=\"/build/manifest-85F18D16.js\"></script><script type=\"module\">import * as route0 from \"/build/root-5L3F4GPR.js\";\\\\nwindow.__remixRouteModules = {\"root\":route0};</script><script src=\"/build/entry.client-ABGQPYHB.js\" type=\"module\"></script><script>(function(){var js = \"window[\\\\\\'__CF$cv$params\\\\\\']={r:\\\\\\'8305b8ef6b346fb2\\\\\\',t:\\\\\\'MTcwMTcxMDQ1MS4yNDYwMDA=\\\\\\'};_cpo=document.createElement(\\\\\\'script\\\\\\');_cpo.nonce=\\\\\\'\\\\\\',_cpo.src=\\\\\\'/cdn-cgi/challenge-platform/scripts/jsd/main.js\\\\\\',document.getElementsByTagName(\\\\\\'head\\\\\\')[0].appendChild(_cpo);\";var _0xh = document.createElement(\\\\\\'iframe\\\\\\');_0xh.height = 1;_0xh.width = 1;_0xh.style.position = \\\\\\'absolute\\\\\\';_0xh.style.top = 0;_0xh.style.left = 0;_0xh.style.border = \\\\\\'none\\\\\\';_0xh.style.visibility = \\\\\\'hidden\\\\\\';document.body.appendChild(_0xh);function handler() {var _0xi = _0xh.contentDocument || _0xh.contentWindow.document;if (_0xi) {var _0xj = _0xi.createElement(\\\\\\'script\\\\\\');_0xj.innerHTML = js;_0xi.getElementsByTagName(\\\\\\'head\\\\\\')[0].appendChild(_0xj);}}if (document.readyState !== \\\\\\'loading\\\\\\') {handler();} else if (window.addEventListener) {document.addEventListener(\\\\\\'DOMContentLoaded\\\\\\', handler);} else {var prev = document.onreadystatechange || function () {};document.onreadystatechange = function (e) {prev(e);if (document.readyState !== \\\\\\'loading\\\\\\') {document.onreadystatechange = prev;handler();}};}})();</script></body></html>\\''"
      ]
     },
     "execution_count": 14,
     "metadata": {},
     "output_type": "execute_result"
    }
   ],
   "source": [
    "text"
   ]
  },
  {
   "cell_type": "markdown",
   "metadata": {},
   "source": [
    "```text``` ahora es una cadena. Ahora, necesitamos una forma de extraer total_pages de nuestra cadena de texto. Imprima texto para ver cómo podemos extraerlo usando RegEx con el paquete re. Podemos totalizar_páginas así:"
   ]
  },
  {
   "cell_type": "code",
   "execution_count": 13,
   "metadata": {},
   "outputs": [
    {
     "ename": "AttributeError",
     "evalue": "'NoneType' object has no attribute 'group'",
     "output_type": "error",
     "traceback": [
      "\u001b[1;31m---------------------------------------------------------------------------\u001b[0m",
      "\u001b[1;31mAttributeError\u001b[0m                            Traceback (most recent call last)",
      "\u001b[1;32mc:\\Users\\jamr1\\Documents\\Data_Science\\GITHUB\\DS_PT_09_2023\\Data_Analysis\\8-WebScraping\\Selenium\\Selenium.ipynb Cell 16\u001b[0m line \u001b[0;36m2\n\u001b[0;32m      <a href='vscode-notebook-cell:/c%3A/Users/jamr1/Documents/Data_Science/GITHUB/DS_PT_09_2023/Data_Analysis/8-WebScraping/Selenium/Selenium.ipynb#X21sZmlsZQ%3D%3D?line=0'>1</a>\u001b[0m totalPagesObj \u001b[39m=\u001b[39m re\u001b[39m.\u001b[39msearch(pattern\u001b[39m=\u001b[39m\u001b[39m'\u001b[39m\u001b[39m\"\u001b[39m\u001b[39mtotal_pages\u001b[39m\u001b[39m\"\u001b[39m\u001b[39m:\u001b[39m\u001b[39m\\\u001b[39m\u001b[39md+\u001b[39m\u001b[39m'\u001b[39m, string\u001b[39m=\u001b[39mtext)\n\u001b[1;32m----> <a href='vscode-notebook-cell:/c%3A/Users/jamr1/Documents/Data_Science/GITHUB/DS_PT_09_2023/Data_Analysis/8-WebScraping/Selenium/Selenium.ipynb#X21sZmlsZQ%3D%3D?line=1'>2</a>\u001b[0m totalPagesStr \u001b[39m=\u001b[39m totalPagesObj\u001b[39m.\u001b[39;49mgroup(\u001b[39m0\u001b[39m)\n\u001b[0;32m      <a href='vscode-notebook-cell:/c%3A/Users/jamr1/Documents/Data_Science/GITHUB/DS_PT_09_2023/Data_Analysis/8-WebScraping/Selenium/Selenium.ipynb#X21sZmlsZQ%3D%3D?line=2'>3</a>\u001b[0m totalPages \u001b[39m=\u001b[39m \u001b[39mint\u001b[39m((re\u001b[39m.\u001b[39msearch(pattern\u001b[39m=\u001b[39m\u001b[39m\"\u001b[39m\u001b[39m\\\u001b[39m\u001b[39md+\u001b[39m\u001b[39m\"\u001b[39m, string\u001b[39m=\u001b[39mtotalPagesStr))\u001b[39m.\u001b[39mgroup(\u001b[39m0\u001b[39m))\n",
      "\u001b[1;31mAttributeError\u001b[0m: 'NoneType' object has no attribute 'group'"
     ]
    }
   ],
   "source": [
    "totalPagesObj = re.search(pattern='\"total_pages\":\\d+', string=text)\n",
    "totalPagesStr = totalPagesObj.group(0)\n",
    "totalPages = int((re.search(pattern=\"\\d+\", string=totalPagesStr)).group(0))"
   ]
  },
  {
   "cell_type": "markdown",
   "metadata": {},
   "source": [
    "El método de búsqueda toma un patrón y una cadena. En este caso nuestro patrón es '\"total_pages\":\\d+' . Si no está familiarizado con RegEx, todo esto significa que estamos buscando la cadena \"total_pages\": con dos o más dígitos después de los dos puntos. \\d se refiere a un dígito entre 0 y 9, mientras que + indica que Python debe buscar una o más de las expresiones regulares anteriores. Puedes leer más sobre el paquete re aquí. El método search() devuelve un objeto Match. re proporciona el método group() que devuelve uno o más subgrupos de la coincidencia. Pasamos 0 como argumento para indicar que queremos el parche completo. La tercera línea simplemente extrae el entero correspondiente a total_pages de la cadena."
   ]
  },
  {
   "cell_type": "code",
   "execution_count": null,
   "metadata": {},
   "outputs": [],
   "source": [
    "print(totalPagesObj)\n",
    "print(totalPagesStr)\n",
    "print(totalPages)"
   ]
  },
  {
   "cell_type": "markdown",
   "metadata": {},
   "source": [
    "Con eso completo, ahora podemos cargar todas las páginas de Insolvency Insider. Podemos hacer clic en el botón Cargar más accediendo al método click() del objeto. Esperamos tres segundos entre clics para no sobrecargar el sitio web."
   ]
  },
  {
   "cell_type": "markdown",
   "metadata": {},
   "source": [
    "Recuerde que el total de las páginas son 88 pero comenzamos en 0 asi que es 88-1"
   ]
  },
  {
   "cell_type": "code",
   "execution_count": null,
   "metadata": {},
   "outputs": [],
   "source": [
    "for i in range(totalPages-1):\n",
    "    loadMore.click()\n",
    "    time.sleep(3)"
   ]
  },
  {
   "cell_type": "markdown",
   "metadata": {},
   "source": [
    "Una vez que ejecute esto, debería ver que se hace clic en el botón Cargar más y que se cargan las páginas restantes.\n",
    "Una vez que se carga cada página, podemos comenzar a raspar el contenido. Ahora, eliminar ciertos elementos como el nombre de presentación, la fecha y la hiperreferencia es bastante sencillo. Podemos usar los métodos find_elements_by_class_name() y find_elements_by_xpath() de Selenium (importante la ```s``` extra después de element):"
   ]
  },
  {
   "cell_type": "markdown",
   "metadata": {},
   "source": [
    "filing-name\n",
    "filing-date\n",
    "//*[@id='content']/div[2]/div/div[1]/h3/a"
   ]
  },
  {
   "cell_type": "code",
   "execution_count": null,
   "metadata": {},
   "outputs": [],
   "source": [
    "filingNamesElements = driver.find_element(By.CLASS_NAME,\"\")\n",
    "\n",
    "filingDateElements = driver.find_element(By.CLASS_NAME,\"\")\n",
    "\n",
    "filingHrefElements = driver.find_element(By.XPATH,\"\")"
   ]
  },
  {
   "cell_type": "markdown",
   "metadata": {},
   "source": [
    "También nos gustaría conocer los metadatos de presentación, es decir, el tipo de archivo, el sector de la empresa y el lugar en la que operan. Extraer estos datos requiere un poco más de trabajo."
   ]
  },
  {
   "cell_type": "markdown",
   "metadata": {},
   "source": [
    "//*[@id='content']/div[2]/div[%d]/div[2]/div[1]"
   ]
  },
  {
   "cell_type": "code",
   "execution_count": null,
   "metadata": {},
   "outputs": [],
   "source": [
    "filingMetas = []\n",
    "for i in range(len(filingNamesElements) + 1):\n",
    "    filingMetai = driver.find_element(By.XPATH,\"\" %(i)))\n",
    "    for element in filingMetai:\n",
    "        filingMetaTexti = element.text\n",
    "        filingMetas.append(filingMetaTexti)"
   ]
  },
  {
   "cell_type": "markdown",
   "metadata": {},
   "source": [
    "De cada elemento de la presentación de Metas podemos extraer el tipo de presentación, la industria y la provincia, así:"
   ]
  },
  {
   "cell_type": "markdown",
   "metadata": {},
   "source": [
    "********"
   ]
  },
  {
   "cell_type": "code",
   "execution_count": null,
   "metadata": {},
   "outputs": [],
   "source": [
    "metaDict = {\"Filing Type\": [], \"Industry\": [], \"Province\": []}\n",
    "for filing in filingMetas:\n",
    "    filingSplit = filing.split(\"\\n\")\n",
    "  \n",
    "    for item in filingSplit:\n",
    "        itemSplit = item.split(\":\")\n",
    "\n",
    "        \n",
    "        if itemSplit[0] == \"Filing Type\":\n",
    "            metaDict[\"Filing Type\"].append(itemSplit[1])\n",
    "        elif itemSplit[0] == \"Industry\":\n",
    "            metaDict[\"Industry\"].append(itemSplit[1])\n",
    "        elif itemSplit[0] == \"Province\":\n",
    "            metaDict[\"Province\"].append(itemSplit[1])\n",
    "            \n",
    "    if \"Filing Type\" not in filing:\n",
    "        metaDict[\"Filing Type\"].append(\"NA\")\n",
    "    elif \"Industry\" not in filing:\n",
    "        metaDict[\"Industry\"].append(\"NA\")\n",
    "    elif \"Province\" not in filing:\n",
    "        metaDict[\"Province\"].append(\"NA\")"
   ]
  },
  {
   "cell_type": "code",
   "execution_count": null,
   "metadata": {},
   "outputs": [],
   "source": [
    "for key in metaDict:\n",
    "    print(len(metaDict[key]))"
   ]
  },
  {
   "cell_type": "markdown",
   "metadata": {},
   "source": [
    "*********"
   ]
  },
  {
   "cell_type": "markdown",
   "metadata": {},
   "source": [
    "Ahora, todavía tenemos que poner nuestros nombres y fechas de presentación en las listas. Hacemos esto agregando el texto de cada elemento a una lista usando el método text() de antes:"
   ]
  },
  {
   "cell_type": "code",
   "execution_count": null,
   "metadata": {},
   "outputs": [],
   "source": [
    "filingName = []\n",
    "filingDate = []\n",
    "filingLink = []\n",
    "# para cada elemento en la lista de elementos de nombre de archivo, agrega el\n",
    "# texto del elemento a la lista de nombres de archivo.\n",
    "for element in filingNamesElements:\n",
    "    filingName.append(element.text)\n",
    "# para cada elemento en la lista de elementos de la fecha de presentación, agrega el\n",
    "# texto del elemento a la lista de fechas de presentación.\n",
    "for element in filingDateElements:\n",
    "    filingDate.append(element.text)\n",
    "for link in filingHrefElements:\n",
    "    if link.get_attribute(\"href\"):\n",
    "        filingLink.append(link.get_attribute(\"href\"))"
   ]
  },
  {
   "cell_type": "markdown",
   "metadata": {},
   "source": [
    "Una vez que tengamos eso, estamos listos para poner todo en un diccionario y luego crear un DataFrame de pandas:"
   ]
  },
  {
   "cell_type": "code",
   "execution_count": null,
   "metadata": {},
   "outputs": [],
   "source": [
    "# Crea un diccionario final con nombres y fechas de archivo.\n",
    "fullDict = {\n",
    "    \"Filing Name\": filingName,\n",
    "    \"Filing Date\": filingDate, \n",
    "    \"Filing Type\": metaDict[\"Filing Type\"],\n",
    "    \"Industry\": metaDict[\"Industry\"],\n",
    "    \"Province\": metaDict[\"Province\"],\n",
    "    \"Link\": filingLink\n",
    "}\n",
    "# Crea un DataFrame.\n",
    "df = pd.DataFrame(fullDict)\n",
    "df[\"Filing Date\"] = pd.to_datetime(df[\"Filing Date\"], infer_datetime_format=True)"
   ]
  },
  {
   "cell_type": "code",
   "execution_count": null,
   "metadata": {},
   "outputs": [],
   "source": [
    "df"
   ]
  },
  {
   "cell_type": "markdown",
   "metadata": {},
   "source": [
    "------------------------"
   ]
  },
  {
   "cell_type": "markdown",
   "metadata": {},
   "source": [
    "# Ahora algo más visual"
   ]
  },
  {
   "cell_type": "code",
   "execution_count": 17,
   "metadata": {},
   "outputs": [],
   "source": [
    "driver = webdriver.Chrome(service=service, options = options)"
   ]
  },
  {
   "cell_type": "code",
   "execution_count": 18,
   "metadata": {},
   "outputs": [],
   "source": [
    "# indicamos la URL de la página web a la que queremos acceder:\n",
    "url = 'https://www.filmaffinity.com/es/main.html'\n",
    "# el objeto driver nos va a permitir alterar el estado del la página\n",
    "driver.get(url)"
   ]
  },
  {
   "cell_type": "markdown",
   "metadata": {},
   "source": [
    "La página de Filmaffinity se ha abierto"
   ]
  },
  {
   "cell_type": "markdown",
   "metadata": {},
   "source": [
    "Pero...."
   ]
  },
  {
   "cell_type": "markdown",
   "metadata": {},
   "source": [
    "Nos hemos encontrado con un pop-up que nos pide aceptar cookies"
   ]
  },
  {
   "cell_type": "markdown",
   "metadata": {},
   "source": [
    "1. Buscamos el botón\n",
    "2. Hacemos click en el botón"
   ]
  },
  {
   "cell_type": "markdown",
   "metadata": {},
   "source": [
    "Vamos a quitar el boton para seguir"
   ]
  },
  {
   "cell_type": "code",
   "execution_count": 19,
   "metadata": {
    "ExecuteTime": {
     "end_time": "2021-02-26T10:22:48.546287Z",
     "start_time": "2021-02-26T10:22:48.489040Z"
    }
   },
   "outputs": [],
   "source": [
    "elements_by_tag = driver.find_elements(By.TAG_NAME,'button')\n",
    "elements_by_class_name = driver.find_elements(By.CLASS_NAME,'css-v43ltw')\n",
    "element_by_xpath =  driver.find_element(By.XPATH,'/html/body/div[1]/div/div/div/div[2]/div/button[2]')"
   ]
  },
  {
   "cell_type": "markdown",
   "metadata": {},
   "source": [
    "Una vez tenemos los elementos podemos hacer varias cosas con ellos"
   ]
  },
  {
   "cell_type": "markdown",
   "metadata": {},
   "source": [
    "Podemos extraer todos los atributos que tenga"
   ]
  },
  {
   "cell_type": "code",
   "execution_count": 20,
   "metadata": {
    "ExecuteTime": {
     "end_time": "2021-02-26T10:22:51.542538Z",
     "start_time": "2021-02-26T10:22:51.508077Z"
    }
   },
   "outputs": [
    {
     "data": {
      "text/plain": [
       "['__abstractmethods__',\n",
       " '__class__',\n",
       " '__delattr__',\n",
       " '__dict__',\n",
       " '__dir__',\n",
       " '__doc__',\n",
       " '__eq__',\n",
       " '__format__',\n",
       " '__ge__',\n",
       " '__getattribute__',\n",
       " '__getstate__',\n",
       " '__gt__',\n",
       " '__hash__',\n",
       " '__init__',\n",
       " '__init_subclass__',\n",
       " '__le__',\n",
       " '__lt__',\n",
       " '__module__',\n",
       " '__ne__',\n",
       " '__new__',\n",
       " '__reduce__',\n",
       " '__reduce_ex__',\n",
       " '__repr__',\n",
       " '__setattr__',\n",
       " '__sizeof__',\n",
       " '__str__',\n",
       " '__subclasshook__',\n",
       " '__weakref__',\n",
       " '_abc_impl',\n",
       " '_execute',\n",
       " '_id',\n",
       " '_parent',\n",
       " '_upload',\n",
       " 'accessible_name',\n",
       " 'aria_role',\n",
       " 'clear',\n",
       " 'click',\n",
       " 'find_element',\n",
       " 'find_elements',\n",
       " 'get_attribute',\n",
       " 'get_dom_attribute',\n",
       " 'get_property',\n",
       " 'id',\n",
       " 'is_displayed',\n",
       " 'is_enabled',\n",
       " 'is_selected',\n",
       " 'location',\n",
       " 'location_once_scrolled_into_view',\n",
       " 'parent',\n",
       " 'rect',\n",
       " 'screenshot',\n",
       " 'screenshot_as_base64',\n",
       " 'screenshot_as_png',\n",
       " 'send_keys',\n",
       " 'shadow_root',\n",
       " 'size',\n",
       " 'submit',\n",
       " 'tag_name',\n",
       " 'text',\n",
       " 'value_of_css_property']"
      ]
     },
     "execution_count": 20,
     "metadata": {},
     "output_type": "execute_result"
    }
   ],
   "source": [
    "dir(element_by_xpath)\n",
    "# obtenemos todos sus métodos y atributos:"
   ]
  },
  {
   "cell_type": "markdown",
   "metadata": {},
   "source": [
    "Podemos evaluar que tipo de elemento es (tag)"
   ]
  },
  {
   "cell_type": "code",
   "execution_count": 21,
   "metadata": {
    "ExecuteTime": {
     "end_time": "2021-02-26T10:22:53.325430Z",
     "start_time": "2021-02-26T10:22:53.306520Z"
    }
   },
   "outputs": [
    {
     "data": {
      "text/plain": [
       "'button'"
      ]
     },
     "execution_count": 21,
     "metadata": {},
     "output_type": "execute_result"
    }
   ],
   "source": [
    "element_by_xpath.tag_name"
   ]
  },
  {
   "cell_type": "markdown",
   "metadata": {},
   "source": [
    "Podemos sacar el valor que tiene (el texto)"
   ]
  },
  {
   "cell_type": "code",
   "execution_count": 22,
   "metadata": {
    "ExecuteTime": {
     "end_time": "2021-02-26T10:22:54.583190Z",
     "start_time": "2021-02-26T10:22:54.553596Z"
    }
   },
   "outputs": [
    {
     "data": {
      "text/plain": [
       "'ACEPTO'"
      ]
     },
     "execution_count": 22,
     "metadata": {},
     "output_type": "execute_result"
    }
   ],
   "source": [
    "element_by_xpath.text"
   ]
  },
  {
   "cell_type": "code",
   "execution_count": 23,
   "metadata": {},
   "outputs": [
    {
     "name": "stdout",
     "output_type": "stream",
     "text": [
      "socios\n",
      "MÁS OPCIONES\n",
      "ACEPTO\n"
     ]
    }
   ],
   "source": [
    "for i in range(0,len(elements_by_tag)):\n",
    "    print(elements_by_tag[i].text)"
   ]
  },
  {
   "cell_type": "markdown",
   "metadata": {},
   "source": [
    "Incluso podemos guardar una imagen del elemento"
   ]
  },
  {
   "cell_type": "code",
   "execution_count": 24,
   "metadata": {},
   "outputs": [
    {
     "data": {
      "text/plain": [
       "selenium.webdriver.remote.webelement.WebElement"
      ]
     },
     "execution_count": 24,
     "metadata": {},
     "output_type": "execute_result"
    }
   ],
   "source": [
    "type(element_by_xpath)\n",
    "# Vemos que es tipo 'WebElement' y en la documentación podremos encontrar sus métodos"
   ]
  },
  {
   "cell_type": "code",
   "execution_count": null,
   "metadata": {
    "ExecuteTime": {
     "end_time": "2021-02-26T10:24:41.830050Z",
     "start_time": "2021-02-26T10:24:41.510086Z"
    }
   },
   "outputs": [],
   "source": [
    "# guardamos como 'mi_imagen.png' la imagen asociada al xpath\n",
    "element_by_xpath.screenshot('mi_imagen.png')"
   ]
  },
  {
   "cell_type": "markdown",
   "metadata": {
    "ExecuteTime": {
     "end_time": "2021-02-25T09:56:21.322475Z",
     "start_time": "2021-02-25T09:56:21.318715Z"
    }
   },
   "source": [
    "Evaluamos que elementos hemos encontrado por el tag:"
   ]
  },
  {
   "cell_type": "code",
   "execution_count": null,
   "metadata": {
    "ExecuteTime": {
     "end_time": "2021-02-25T10:40:47.561469Z",
     "start_time": "2021-02-25T10:40:46.812684Z"
    }
   },
   "outputs": [],
   "source": [
    "for index, element in enumerate(elements_by_tag):\n",
    "    print('Elemento:', index)\n",
    "    print('Texto del elemento',index, 'es', element.text)\n",
    "    print('El tag del elemento',index, 'es', element.tag_name)\n",
    "    element.screenshot('mi_imagen'+str(index)+'.png')"
   ]
  },
  {
   "cell_type": "markdown",
   "metadata": {},
   "source": [
    "Basta de tonterias seguimos"
   ]
  },
  {
   "cell_type": "markdown",
   "metadata": {},
   "source": [
    "Instanciamos el elemento del tag [2] en la variable boton aceptar"
   ]
  },
  {
   "cell_type": "code",
   "execution_count": 25,
   "metadata": {
    "ExecuteTime": {
     "end_time": "2021-02-26T10:24:47.302978Z",
     "start_time": "2021-02-26T10:24:47.291261Z"
    }
   },
   "outputs": [],
   "source": [
    "boton_aceptar = elements_by_tag[2]"
   ]
  },
  {
   "cell_type": "markdown",
   "metadata": {},
   "source": [
    "Si el elemento es interactivo podremos hacer más cosas además de las anteriores. Por ejemplo: hacer click"
   ]
  },
  {
   "cell_type": "code",
   "execution_count": 26,
   "metadata": {
    "ExecuteTime": {
     "end_time": "2021-02-26T10:24:48.611716Z",
     "start_time": "2021-02-26T10:24:48.390430Z"
    }
   },
   "outputs": [],
   "source": [
    "boton_aceptar.click()"
   ]
  },
  {
   "cell_type": "markdown",
   "metadata": {},
   "source": [
    "Buscamos una película por título"
   ]
  },
  {
   "cell_type": "code",
   "execution_count": 27,
   "metadata": {},
   "outputs": [],
   "source": [
    "from selenium.webdriver.common.keys import Keys"
   ]
  },
  {
   "cell_type": "markdown",
   "metadata": {},
   "source": [
    "/html/body/div[2]/div[1]/div/div[2]/form/div/input"
   ]
  },
  {
   "cell_type": "code",
   "execution_count": null,
   "metadata": {
    "ExecuteTime": {
     "end_time": "2021-02-26T10:28:14.592155Z",
     "start_time": "2021-02-26T10:28:13.509998Z"
    }
   },
   "outputs": [],
   "source": [
    "buscador =  driver.find_element(By.XPATH,\"\")"
   ]
  },
  {
   "cell_type": "code",
   "execution_count": null,
   "metadata": {},
   "outputs": [],
   "source": [
    "buscador.send_keys('')"
   ]
  },
  {
   "cell_type": "code",
   "execution_count": null,
   "metadata": {},
   "outputs": [],
   "source": [
    "buscador.clear()"
   ]
  },
  {
   "cell_type": "code",
   "execution_count": null,
   "metadata": {},
   "outputs": [],
   "source": [
    "# una vez escrita la búsqueda deberíamos poder activarla:\n",
    "buscador.send_keys(Keys.ENTER)"
   ]
  },
  {
   "cell_type": "code",
   "execution_count": null,
   "metadata": {},
   "outputs": [],
   "source": [
    "# volvemos a la página anterior\n",
    "driver.back()"
   ]
  },
  {
   "cell_type": "markdown",
   "metadata": {
    "ExecuteTime": {
     "end_time": "2021-02-25T10:09:19.308961Z",
     "start_time": "2021-02-25T10:09:19.299983Z"
    }
   },
   "source": [
    "### Vamos a buscar todas las películas que se estrenan el próximo viernes"
   ]
  },
  {
   "cell_type": "markdown",
   "metadata": {},
   "source": [
    "1. Cogemos los containers que hay en la zona lateral"
   ]
  },
  {
   "cell_type": "code",
   "execution_count": null,
   "metadata": {
    "ExecuteTime": {
     "end_time": "2021-02-25T10:40:53.961145Z",
     "start_time": "2021-02-25T10:40:53.793388Z"
    }
   },
   "outputs": [],
   "source": [
    "menu_lateral = driver.find_element(By.ID,lsmenu')\n",
    "menu_lateral"
   ]
  },
  {
   "cell_type": "code",
   "execution_count": null,
   "metadata": {},
   "outputs": [],
   "source": [
    "mis_secciones = menu_lateral.find_elements(By.TAG_NAME,'a')"
   ]
  },
  {
   "cell_type": "markdown",
   "metadata": {},
   "source": [
    "2. Vemos con cuál nos tenemos que quedar"
   ]
  },
  {
   "cell_type": "code",
   "execution_count": null,
   "metadata": {
    "ExecuteTime": {
     "end_time": "2021-02-25T10:40:55.130681Z",
     "start_time": "2021-02-25T10:40:54.930234Z"
    }
   },
   "outputs": [],
   "source": [
    "for a in mis_secciones:\n",
    "    if a.text == 'Próximos estrenos':\n",
    "        a.click()\n",
    "        break"
   ]
  },
  {
   "cell_type": "markdown",
   "metadata": {},
   "source": [
    "Accedemos al container central, en el que aparecen los estrenos por semana que queremos ver, exactamente igual que hemos hecho antes"
   ]
  },
  {
   "cell_type": "code",
   "execution_count": null,
   "metadata": {
    "ExecuteTime": {
     "end_time": "2021-02-25T10:43:53.772471Z",
     "start_time": "2021-02-25T10:43:53.757510Z"
    }
   },
   "outputs": [],
   "source": [
    "cajon_central = driver.find_element(By.ID,'main-wrapper-rdcat')"
   ]
  },
  {
   "cell_type": "code",
   "execution_count": null,
   "metadata": {},
   "outputs": [],
   "source": [
    "type(cajon_central)"
   ]
  },
  {
   "cell_type": "code",
   "execution_count": null,
   "metadata": {
    "ExecuteTime": {
     "end_time": "2021-02-25T11:04:59.734561Z",
     "start_time": "2021-02-25T11:04:59.617626Z"
    }
   },
   "outputs": [],
   "source": [
    "for semana in cajon_central:\n",
    "    print(semana.find_elements(By.TAG_NAME,'div').text)\n",
    "    print(semana.find_elements(By.TAG_NAME,'div').get_attribute('id'))"
   ]
  },
  {
   "cell_type": "code",
   "execution_count": null,
   "metadata": {},
   "outputs": [],
   "source": [
    "for semana in cajon_central:\n",
    "    fecha = semana.find_elements(By.TAG_NAME,'div').get_attribute('id')\n",
    "    if fecha == '2023-04-05':\n",
    "        break"
   ]
  },
  {
   "cell_type": "markdown",
   "metadata": {
    "ExecuteTime": {
     "end_time": "2021-02-25T11:04:08.219853Z",
     "start_time": "2021-02-25T11:04:08.215863Z"
    }
   },
   "source": [
    "Buscamos cómo acceder a las películas"
   ]
  },
  {
   "cell_type": "code",
   "execution_count": null,
   "metadata": {
    "ExecuteTime": {
     "end_time": "2021-02-25T11:10:28.294864Z",
     "start_time": "2021-02-25T11:10:28.174126Z"
    }
   },
   "outputs": [],
   "source": [
    "caratulas = semana.find_elements(By.CLASS_NAME,'')\n",
    "lista_pelis = []\n",
    "for peli in caratulas:\n",
    "    lista_pelis.append(peli.find_elements(By.TAG_NAME,'a').get_attribute('href'))"
   ]
  },
  {
   "cell_type": "code",
   "execution_count": null,
   "metadata": {},
   "outputs": [],
   "source": [
    "lista_pelis"
   ]
  },
  {
   "cell_type": "markdown",
   "metadata": {},
   "source": [
    "Una vez tenemos todas las urls vamos a ver qué hacemos con cada una de ellas"
   ]
  },
  {
   "cell_type": "code",
   "execution_count": null,
   "metadata": {
    "ExecuteTime": {
     "end_time": "2021-02-25T11:15:40.003059Z",
     "start_time": "2021-02-25T11:15:39.091047Z"
    }
   },
   "outputs": [],
   "source": [
    "# Accedemos a la página de la primera pelicula\n",
    "driver.get(lista_pelis[0])"
   ]
  },
  {
   "cell_type": "markdown",
   "metadata": {
    "ExecuteTime": {
     "end_time": "2021-02-25T11:21:51.020248Z",
     "start_time": "2021-02-25T11:21:50.381138Z"
    }
   },
   "source": [
    "Vamos a ver el proceso que deberíamos hacer con cada una de las películas:"
   ]
  },
  {
   "cell_type": "markdown",
   "metadata": {},
   "source": [
    "1. Sacamos toda la información que nos interesa"
   ]
  },
  {
   "cell_type": "code",
   "execution_count": null,
   "metadata": {
    "ExecuteTime": {
     "end_time": "2021-02-25T11:36:58.487622Z",
     "start_time": "2021-02-25T11:36:58.420292Z"
    }
   },
   "outputs": [],
   "source": [
    "# titulo, nota, numero de votos y ficha técnica\n",
    "titulo = driver.find_element(By.XPATH,'/html/body/div[4]/table/tbody/tr/td[2]/div[1]/div[4]/h1/span').text\n",
    "nota = driver.find_element(By.XPATH,'/html/body/div[4]/table/tbody/tr/td[2]/div[1]/div[4]/div/div[2]/div[2]/div[1]/div[2]/div[1]').text\n",
    "votos = driver.find_element(By.XPATH,'/html/body/div[4]/table/tbody/tr/td[2]/div[1]/div[4]/div/div[2]/div[2]/div[1]/div[2]/div[2]/span').text\n",
    "ficha = driver.find_element(By.XPATH,'/html/body/div[4]/table/tbody/tr/td[2]/div[1]/div[4]/div/div[3]/dl[1]')"
   ]
  },
  {
   "cell_type": "code",
   "execution_count": null,
   "metadata": {},
   "outputs": [],
   "source": [
    "titulo"
   ]
  },
  {
   "cell_type": "markdown",
   "metadata": {},
   "source": [
    "2. Creamos una lista a partir de la ficha técnica"
   ]
  },
  {
   "cell_type": "code",
   "execution_count": null,
   "metadata": {
    "ExecuteTime": {
     "end_time": "2021-02-25T11:34:54.218938Z",
     "start_time": "2021-02-25T11:34:53.923558Z"
    }
   },
   "outputs": [],
   "source": [
    "# Los nombres estan con tag  = 'dt' y los valores con 'dd'\n",
    "ficha_names = []\n",
    "ficha_values = []\n",
    "\n",
    "for name in ficha.find_elements(By.TAG_NAME,'dt'):\n",
    "    ficha_names.append(name.text)\n",
    "for value in ficha.find_elements(By.TAG_NAME,'dd'):\n",
    "    ficha_values.append(value.text)"
   ]
  },
  {
   "cell_type": "code",
   "execution_count": null,
   "metadata": {},
   "outputs": [],
   "source": [
    "ficha_values"
   ]
  },
  {
   "cell_type": "markdown",
   "metadata": {},
   "source": [
    "3. Creamos un dataframe con la info"
   ]
  },
  {
   "cell_type": "code",
   "execution_count": null,
   "metadata": {
    "ExecuteTime": {
     "end_time": "2021-02-25T11:38:19.916044Z",
     "start_time": "2021-02-25T11:38:19.899094Z"
    }
   },
   "outputs": [],
   "source": [
    "columns = ['Titulo', 'Nota', 'Votos']\n",
    "columns.extend(ficha_names)\n",
    "len(columns)"
   ]
  },
  {
   "cell_type": "code",
   "execution_count": null,
   "metadata": {},
   "outputs": [],
   "source": [
    "values = [titulo, nota, votos]\n",
    "values.extend(ficha_values)\n",
    "len(values)"
   ]
  },
  {
   "cell_type": "code",
   "execution_count": null,
   "metadata": {},
   "outputs": [],
   "source": [
    "pd.DataFrame([values],columns=columns)"
   ]
  },
  {
   "cell_type": "markdown",
   "metadata": {},
   "source": [
    "Ahora vamos a crear una función que nos haga todo esto para cada una de las películas:"
   ]
  },
  {
   "cell_type": "code",
   "execution_count": null,
   "metadata": {
    "ExecuteTime": {
     "end_time": "2021-02-25T11:58:39.349919Z",
     "start_time": "2021-02-25T11:58:39.052802Z"
    }
   },
   "outputs": [],
   "source": [
    "def sacar_info(driver):\n",
    "    \n",
    "    titulo = driver.find_element(By.XPATH,'/html/body/div[4]/table/tbody/tr/td[2]/div[1]/div[4]/h1/span').text\n",
    "    try:\n",
    "        nota = driver.find_element(By.XPATH,'/html/body/div[4]/table/tbody/tr/td[2]/div[1]/div[4]/div/div[2]/div[2]/div[1]/div[2]').text\n",
    "        votos = driver.find_element(By.XPATH,'/html/body/div[4]/table/tbody/tr/td[2]/div[1]/div[4]/div/div[2]/div[2]/div[1]/div[2]/div[2]').text\n",
    "    except:\n",
    "        nota = None\n",
    "        votos = None\n",
    "    ficha = driver.find_element(By.XPATH,'/html/body/div[4]/table/tbody/tr/td[2]/div[1]/div[4]/div/div[3]/dl[1]')\n",
    "    \n",
    "    return titulo, nota, votos, ficha\n",
    "\n",
    "def sacar_ficha(ficha):\n",
    "    \n",
    "    ficha_names = []\n",
    "    ficha_values = []\n",
    "\n",
    "    for name in ficha.find_elements(By.TAG_NAME,'dt'):\n",
    "        ficha_names.append(name.text)\n",
    "    for value in ficha.find_elements(By.TAG_NAME,'dd'):\n",
    "        ficha_values.append(value.text)\n",
    "        \n",
    "    return ficha_names, ficha_values\n",
    "\n",
    "def montar_df(ficha_names, ficha_values, titulo, nota, votos):\n",
    "    \n",
    "    columns = ['Titulo', 'Nota', 'Votos']\n",
    "    columns.extend(ficha_names)\n",
    "    values = [titulo, nota, votos]\n",
    "    values.extend(ficha_values)\n",
    "    \n",
    "    return pd.DataFrame([values], columns = columns)\n",
    "    \n",
    "def nueva_pelicula(driver):\n",
    "    \n",
    "    titulo, nota, votos, ficha = sacar_info(driver)\n",
    "    ficha_names, ficha_values = sacar_ficha(ficha)\n",
    "    df_peli = montar_df(ficha_names, ficha_values, titulo, nota, votos)\n",
    "    \n",
    "    return df_peli\n"
   ]
  },
  {
   "cell_type": "markdown",
   "metadata": {},
   "source": [
    "Vamos a ver cómo nos podemos mover entre ventanas del navegador\n",
    "\n",
    "Abrir nueva ventana:"
   ]
  },
  {
   "cell_type": "code",
   "execution_count": null,
   "metadata": {},
   "outputs": [],
   "source": [
    "driver.execute_script('window.open(\"\");')"
   ]
  },
  {
   "cell_type": "markdown",
   "metadata": {},
   "source": [
    "Movernos a otra ventana"
   ]
  },
  {
   "cell_type": "code",
   "execution_count": null,
   "metadata": {},
   "outputs": [],
   "source": [
    "driver.switch_to.window(driver.window_handles[0])"
   ]
  },
  {
   "cell_type": "markdown",
   "metadata": {},
   "source": [
    "Cerrar ventana"
   ]
  },
  {
   "cell_type": "code",
   "execution_count": null,
   "metadata": {
    "ExecuteTime": {
     "end_time": "2021-02-25T12:04:17.177986Z",
     "start_time": "2021-02-25T12:04:17.160442Z"
    }
   },
   "outputs": [],
   "source": [
    "driver.close()"
   ]
  },
  {
   "cell_type": "markdown",
   "metadata": {},
   "source": [
    "Una vez cerramos la ventana tenemos que indicarle a qué ventana tiene que ir"
   ]
  },
  {
   "cell_type": "code",
   "execution_count": null,
   "metadata": {
    "ExecuteTime": {
     "end_time": "2021-02-25T12:05:01.711952Z",
     "start_time": "2021-02-25T12:05:01.583709Z"
    }
   },
   "outputs": [],
   "source": [
    "driver.switch_to.window(driver.window_handles[-1])"
   ]
  },
  {
   "cell_type": "markdown",
   "metadata": {},
   "source": [
    "Sabiendo cómo podemos movernos por entre las ventanas y sabiendo cómo extraer de cada página toda la información que necesitamos vamos a crear nuestro dataframe:"
   ]
  },
  {
   "cell_type": "code",
   "execution_count": null,
   "metadata": {},
   "outputs": [],
   "source": [
    "# para abrir todos los links en lista_pelis\n",
    "for link in lista_pelis:\n",
    "    driver.execute_script('window.open(\"'+link+'\");')\n",
    "    driver.switch_to.window(driver.window_handles[-1])\n",
    "    driver.get(link)"
   ]
  },
  {
   "cell_type": "code",
   "execution_count": null,
   "metadata": {
    "ExecuteTime": {
     "end_time": "2021-02-25T12:00:27.038323Z",
     "start_time": "2021-02-25T11:59:37.219902Z"
    }
   },
   "outputs": [],
   "source": [
    "# Creamos un dataframe con todas las pelis que se estrenan la próxima semana:\n",
    "df_peliculas = pd.DataFrame()\n",
    "\n",
    "for link in lista_pelis:\n",
    "    driver.execute_script('window.open(\"\");')\n",
    "    driver.switch_to.window(driver.window_handles[-1])\n",
    "    driver.get(link)\n",
    "    nueva_peli = nueva_pelicula(driver)\n",
    "    df_peliculas = df_peliculas.append(nueva_peli)"
   ]
  },
  {
   "cell_type": "code",
   "execution_count": null,
   "metadata": {
    "ExecuteTime": {
     "end_time": "2021-02-25T12:00:36.221987Z",
     "start_time": "2021-02-25T12:00:36.207006Z"
    }
   },
   "outputs": [],
   "source": [
    "df_peliculas.info()"
   ]
  },
  {
   "cell_type": "code",
   "execution_count": null,
   "metadata": {},
   "outputs": [],
   "source": [
    "df_peliculas"
   ]
  },
  {
   "cell_type": "markdown",
   "metadata": {},
   "source": [
    "Ya tenemos un dataframe con todas las películas que se van a estrenar el próximo viernes"
   ]
  }
 ],
 "metadata": {
  "hide_input": false,
  "interpreter": {
   "hash": "7c77fdb427e7cbc9bc1367dd530fc2b36aacdbbde1ac83c85833b10dfa8b831c"
  },
  "kernelspec": {
   "display_name": "Python 3.7.4 64-bit",
   "name": "python3"
  },
  "language_info": {
   "codemirror_mode": {
    "name": "ipython",
    "version": 3
   },
   "file_extension": ".py",
   "mimetype": "text/x-python",
   "name": "python",
   "nbconvert_exporter": "python",
   "pygments_lexer": "ipython3",
   "version": "3.11.6"
  },
  "nbTranslate": {
   "displayLangs": [
    "*"
   ],
   "hotkey": "alt-t",
   "langInMainMenu": true,
   "sourceLang": "en",
   "targetLang": "fr",
   "useGoogleTranslate": true
  },
  "varInspector": {
   "cols": {
    "lenName": 16,
    "lenType": 16,
    "lenVar": 40
   },
   "kernels_config": {
    "python": {
     "delete_cmd_postfix": "",
     "delete_cmd_prefix": "del ",
     "library": "var_list.py",
     "varRefreshCmd": "print(var_dic_list())"
    },
    "r": {
     "delete_cmd_postfix": ") ",
     "delete_cmd_prefix": "rm(",
     "library": "var_list.r",
     "varRefreshCmd": "cat(var_dic_list()) "
    }
   },
   "types_to_exclude": [
    "module",
    "function",
    "builtin_function_or_method",
    "instance",
    "_Feature"
   ],
   "window_display": false
  }
 },
 "nbformat": 4,
 "nbformat_minor": 2
}
