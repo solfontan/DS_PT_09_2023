{
 "cells": [
  {
   "attachments": {},
   "cell_type": "markdown",
   "metadata": {},
   "source": [
    "# Despliegue de su primera aplicación web"
   ]
  },
  {
   "attachments": {},
   "cell_type": "markdown",
   "metadata": {},
   "source": [
    "![](https://media.makeameme.org/created/lets-deploy.jpg)"
   ]
  },
  {
   "attachments": {},
   "cell_type": "markdown",
   "metadata": {},
   "source": [
    "## Preparación para el despliegue:\n",
    "\n",
    "Desplegar es incluso tan fácil como crear una aplicación. Todo lo que necesitas es una cuenta de GitHub y un archivo requirements.txt.\n",
    "\n",
    "Empieza por crear un archivo requirements.txt. Para ello, mira tu sección #imports en tu código.\n",
    "\n",
    "En nuestro caso de ejemplo, necesito las versiones utilizadas para estas 5 bibliotecas."
   ]
  },
  {
   "attachments": {},
   "cell_type": "markdown",
   "metadata": {},
   "source": [
    "```\n",
    "seaborn\n",
    "numpy\n",
    "pandas\n",
    "streamlit\n",
    "plotly.express\n",
    "```"
   ]
  },
  {
   "attachments": {},
   "cell_type": "markdown",
   "metadata": {},
   "source": [
    "El siguiente paso es crear un nuevo repositorio en GitHub y colocar allí tu archivo app.py y el archivo requirements.txt."
   ]
  },
  {
   "attachments": {},
   "cell_type": "markdown",
   "metadata": {},
   "source": [
    "## Invitación para Share Streamlit\n",
    "\n",
    "Para utilizar su servidor (gratuito) debes solicitar una invitación.\n",
    "\n",
    "Primero, ve a esta página: https://forms.streamlit.io/community-sign-up\n",
    "\n",
    "Después, rellena el formulario y espera a que te llegue la invitación a tu correo electrónico suscrito."
   ]
  },
  {
   "attachments": {},
   "cell_type": "markdown",
   "metadata": {},
   "source": [
    "## Despliega\n",
    "\n",
    "Después de recibir el correo electrónico con la confirmación, sigue su enlace a https://share.streamlit.io/, permite la conexión con GitHub.\n",
    "\n",
    "Haz clic en \"Nueva App\".\n",
    "\n",
    "Rellena la información solicitada con el repositorio de GitHub y pulsa Deploy."
   ]
  },
  {
   "attachments": {},
   "cell_type": "markdown",
   "metadata": {},
   "source": [
    "## Errores\n",
    "![](https://i0.wp.com/charity.wtf/wp-content/uploads/2018/08/when-people-ask-how-the-deployment-is-going-i39m-fine-everthing-is-under-control-meme-48041.jpg?fit=600%2C423&ssl=1)\n",
    "\n",
    "Se ha producido un error. \n",
    "\n",
    "Normalmente los mensajes de error son bastante sencillos. \n",
    "\n",
    "- Versión no encontrada.\n",
    "- etc."
   ]
  },
  {
   "attachments": {},
   "cell_type": "markdown",
   "metadata": {},
   "source": [
    "## Done!\n",
    "![](https://media.makeameme.org/created/deploy-done.jpg)"
   ]
  },
  {
   "attachments": {},
   "cell_type": "markdown",
   "metadata": {},
   "source": [
    "## En resumen\n",
    "\n",
    "Para desplegar, solo necesitas:\n",
    "\n",
    "- Una cuenta en GitHub\n",
    "- Un archivo \"app.py\"\n",
    "- Un archivo requirement.txt\n",
    "- Una invitación a Streamlit Share\n",
    "- Documentación de Streamlit"
   ]
  }
 ],
 "metadata": {
  "kernelspec": {
   "display_name": "este",
   "language": "python",
   "name": "python3"
  },
  "language_info": {
   "name": "python",
   "version": "3.9.5"
  },
  "orig_nbformat": 4
 },
 "nbformat": 4,
 "nbformat_minor": 2
}
