{
 "cells": [
  {
   "attachments": {},
   "cell_type": "markdown",
   "metadata": {},
   "source": [
    "!['streamlit'](https://streamlit.io/images/brand/streamlit-logo-secondary-colormark-darktext.png)"
   ]
  },
  {
   "attachments": {},
   "cell_type": "markdown",
   "metadata": {},
   "source": [
    "Streamlit (https://streamlit.io/) fue lanzada en octubre de 2019 por los antiguos empleados de Google y Zoox, Adrien Treuille, Thiago Teixeira y Amanda Kelly.\n",
    "\n",
    "Su idea era ayudar a los científicos de datos e ingenieros de datos a poder crear rápidamente una aplicación web para mostrar el resultado de su trabajo. La oportunidad surgió porque los fundadores se dieron cuenta de que muchos no podían dedicar mucho tiempo a construir algo a veces en un lenguaje de programación diferente al del proyecto. En palabras de Adrien\n",
    "\n",
    "\"(...) estamos dando a los ingenieros esta especie de bloques de Lego para que construyan lo que quieran\"."
   ]
  },
  {
   "attachments": {},
   "cell_type": "markdown",
   "metadata": {},
   "source": [
    "## Qué puede hacer Streamlit\n",
    "\n",
    "Streamlit puede ser tu herramienta para construir una aplicación web de gran apariencia que puede contener gráficos, imágenes, texto, tablas, mapas y también modelos de aprendizaje automático, lo que le permite crear una presentación elegante y dinámica de tus datos.\n",
    "\n",
    "Además, recientemente lanzaron su función de despliegue, por lo que es muy fácil de poner su  dashboard / web site / web app en vivo en un par de minutos."
   ]
  },
  {
   "attachments": {},
   "cell_type": "markdown",
   "metadata": {},
   "source": [
    "## Empecemos"
   ]
  },
  {
   "attachments": {},
   "cell_type": "markdown",
   "metadata": {},
   "source": [
    "Esta librería funciona mejor usando un IDE, ya que necesitarás abrir un servidor local en tu máquina para poder ver el resultado. Pero que no cunda el pánico. Esto es muy fácil.\n",
    "\n",
    "Abra un símbolo del sistema o terminal y escriba ``pip install streamlit`` para instalar la biblioteca.\n",
    "\n",
    "Usa cualquier IDE de Python (Spyder, Pycharm, VSCode)\n",
    "\n",
    "Importa Streamlit y escribe tu primera línea de código."
   ]
  },
  {
   "attachments": {},
   "cell_type": "markdown",
   "metadata": {},
   "source": [
    "[Streamlit 101](app/app.py)"
   ]
  },
  {
   "attachments": {},
   "cell_type": "markdown",
   "metadata": {},
   "source": [
    "Otra forma de iniciar nuestra app de Streamlit es desde la terminal usar el comando\n",
    ">> streamlit run <nombre app>.py"
   ]
  },
  {
   "attachments": {},
   "cell_type": "markdown",
   "metadata": {},
   "source": [
    "## Texto"
   ]
  },
  {
   "attachments": {},
   "cell_type": "markdown",
   "metadata": {},
   "source": [
    "Podemos añadir texto utilizando la notación [markdown](https://www.markdownguide.org/basic-syntax/) como podemos ver [aquí](./app/app2.py)"
   ]
  },
  {
   "attachments": {},
   "cell_type": "markdown",
   "metadata": {},
   "source": [
    "## Comandos Útiles"
   ]
  },
  {
   "attachments": {},
   "cell_type": "markdown",
   "metadata": {},
   "source": [
    "#### ``st.write()``"
   ]
  },
  {
   "attachments": {},
   "cell_type": "markdown",
   "metadata": {},
   "source": [
    "Según la documentación de Streamlit, ``st.write()`` es la \"navaja suiza de los comandos\". Se puede utilizar para escribir texto, imprimir cálculos y muchas otras cosas que usted encontrará en la documentación, [aquí](https://docs.streamlit.io/en/stable/api.html?highlight=st.write#streamlit.write)."
   ]
  },
  {
   "attachments": {},
   "cell_type": "markdown",
   "metadata": {},
   "source": [
    "[Este es un ejemplo](./app/app3.py)"
   ]
  },
  {
   "attachments": {},
   "cell_type": "markdown",
   "metadata": {},
   "source": [
    "#### ``st.image()``"
   ]
  },
  {
   "attachments": {},
   "cell_type": "markdown",
   "metadata": {},
   "source": [
    "[Asi se inserta una imagen](./app/app4.py)"
   ]
  },
  {
   "attachments": {},
   "cell_type": "markdown",
   "metadata": {},
   "source": [
    "#### ``st.map()``"
   ]
  },
  {
   "attachments": {},
   "cell_type": "markdown",
   "metadata": {},
   "source": [
    "La función de mapa geográfico es siempre un buen complemento para un dashboard. Causa un buen impacto y aquí podemos insertar un mapa con una sola línea de código, utilizando ``st.map()`` , siempre que tenga información de latitud y longitud en su dataframe. Ten en cuenta que la información de latitud y longitud deben ser columnas separadas y nombrarse como 'lat' y 'lon' o 'latitude' y 'longitude'."
   ]
  },
  {
   "attachments": {},
   "cell_type": "markdown",
   "metadata": {},
   "source": [
    "[![Mapa](.\\img\\2781304.jpg \"meme\")](./app/app5.py)"
   ]
  },
  {
   "attachments": {},
   "cell_type": "markdown",
   "metadata": {},
   "source": [
    "## Gadgets"
   ]
  },
  {
   "attachments": {},
   "cell_type": "markdown",
   "metadata": {},
   "source": [
    "También podemos añadir algunos gadgets, como controles deslizantes, botones de radio, cuadros de texto de entrada, cuadros de selección... ¡muchas cosas que harán que nuestra aplicación cobre vida!"
   ]
  },
  {
   "attachments": {},
   "cell_type": "markdown",
   "metadata": {},
   "source": [
    "[![Mapa](.\\img\\521209.jpg \"Meme\")](./app/app6.py)"
   ]
  },
  {
   "attachments": {},
   "cell_type": "markdown",
   "metadata": {},
   "source": [
    "# Mi primera App en Streamlit"
   ]
  },
  {
   "attachments": {},
   "cell_type": "markdown",
   "metadata": {},
   "source": [
    "[![Mapa](.\\img\\descarga.jpg \"Meme\")](./app/app7.py)"
   ]
  },
  {
   "attachments": {},
   "cell_type": "markdown",
   "metadata": {},
   "source": [
    "## Desplegar Streamlit"
   ]
  },
  {
   "attachments": {},
   "cell_type": "markdown",
   "metadata": {},
   "source": [
    "[![Mapa](.\\img\\one-does-not-2aj0ro.jpg \"Meme\")](Despliege.ipynb)"
   ]
  }
 ],
 "metadata": {
  "kernelspec": {
   "display_name": "este",
   "language": "python",
   "name": "python3"
  },
  "language_info": {
   "codemirror_mode": {
    "name": "ipython",
    "version": 3
   },
   "file_extension": ".py",
   "mimetype": "text/x-python",
   "name": "python",
   "nbconvert_exporter": "python",
   "pygments_lexer": "ipython3",
   "version": "3.9.5"
  },
  "orig_nbformat": 4
 },
 "nbformat": 4,
 "nbformat_minor": 2
}
