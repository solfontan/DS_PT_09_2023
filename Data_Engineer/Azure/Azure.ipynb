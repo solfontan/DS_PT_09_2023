{
 "cells": [
  {
   "attachments": {},
   "cell_type": "markdown",
   "metadata": {},
   "source": [
    "![](https://upload.wikimedia.org/wikipedia/commons/thumb/a/a8/Microsoft_Azure_Logo.svg/2560px-Microsoft_Azure_Logo.svg.png)"
   ]
  },
  {
   "attachments": {},
   "cell_type": "markdown",
   "metadata": {},
   "source": [
    "# Introducción a Azure para Ciencia de Datos\n",
    "\n",
    "Bienvenidos a esta clase, hoy vamos a explorar las capacidades de Microsoft Azure para la Ciencia de Datos."
   ]
  },
  {
   "attachments": {},
   "cell_type": "markdown",
   "metadata": {},
   "source": [
    "## ¿Qué es Azure?\n",
    "\n",
    "Azure es un conjunto de servicios en la nube ofrecidos por Microsoft que se utilizan para construir, implementar y administrar aplicaciones a través de los centros de datos propios de Microsoft. Azure proporciona una amplia gama de soluciones aptas para todo tipo de industrias, ofreciendo herramientas de computación, almacenamiento, bases de datos, análisis, inteligencia artificial, entre otros, todas accesibles a través de Internet.\n",
    "\n",
    "Para entender mejor Azure, es importante comprender la idea de \"la nube\". La nube, o cloud computing, se refiere a la prestación de servicios a través de internet, incluyendo el almacenamiento de datos, servidores, bases de datos, software, análisis y más. En lugar de mantener físicamente los recursos de computación en las instalaciones de una organización, los servicios en la nube ofrecen acceso a la demanda a una variedad de recursos informáticos a través de un proveedor de la nube.\n",
    "\n",
    "Los servicios en la nube, como Azure, ofrecen una alternativa flexible y escalable a la propiedad y gestión de hardware físico. Con la computación en la nube, las empresas pueden escalar sus operaciones y capacidades de cómputo en función de sus necesidades, sin necesidad de invertir en hardware adicional. Esto permite a las empresas adaptarse rápidamente a las demandas cambiantes, mejorando la eficiencia y reduciendo los costos operativos.\n",
    "\n",
    "En resumen, Azure es una solución integral para las necesidades de la nube que ofrece flexibilidad, escalabilidad y una amplia gama de servicios que pueden ayudar a las empresas a prosperar en la era digital."
   ]
  },
  {
   "attachments": {},
   "cell_type": "markdown",
   "metadata": {},
   "source": [
    "## Modelos de servicio en la nube: IaaS, PaaS, SaaS\n",
    "\n",
    "La computación en la nube ofrece diferentes niveles de control, flexibilidad y gestión a través de tres modelos de servicio fundamentales: Infraestructura como Servicio (IaaS), Plataforma como Servicio (PaaS) y Software como Servicio (SaaS). Cada uno de estos modelos tiene un enfoque y uso distinto, dependiendo de las necesidades de la empresa.\n",
    "\n",
    "Infraestructura como Servicio (IaaS): Este modelo proporciona a los usuarios acceso a recursos de infraestructura como servidores, redes y almacenamiento, todos alojados en la nube. IaaS otorga a las empresas un alto nivel de flexibilidad y control sobre su infraestructura, ya que les permite gestionar sus recursos como si estuvieran en sus propios centros de datos, pero sin la necesidad de mantener físicamente ese hardware. Un ejemplo de IaaS en Azure son las Máquinas Virtuales de Azure, que permiten a los usuarios tener servidores virtualizados en la nube para alojar y ejecutar sus aplicaciones.\n",
    "\n",
    "Plataforma como Servicio (PaaS): PaaS es un modelo de servicio en la nube que proporciona a los desarrolladores un entorno en el que pueden desarrollar, probar e implementar aplicaciones sin tener que preocuparse por la gestión de la infraestructura subyacente. Esto incluye servidores, redes, bases de datos y sistemas operativos. PaaS permite a los desarrolladores centrarse más en la codificación y menos en la administración de la infraestructura. Un ejemplo de PaaS en Azure es el Azure App Service, que permite a los desarrolladores crear, alojar y escalar aplicaciones web sin tener que gestionar la infraestructura subyacente.\n",
    "\n",
    "Software como Servicio (SaaS): SaaS es un modelo de servicio que ofrece a los usuarios acceso a aplicaciones de software a través de internet en un modelo de suscripción. El proveedor de la nube gestiona la infraestructura, la plataforma y el software, y el usuario simplemente accede a las aplicaciones a través de un navegador web. Un ejemplo de SaaS en el contexto de Microsoft es Microsoft 365, que proporciona acceso a una suite de aplicaciones de productividad como Word, Excel, PowerPoint, entre otras, a través de internet.\n",
    "\n",
    "Cada uno de estos modelos de servicio proporciona diferentes niveles de gestión y control, y las empresas pueden elegir el modelo que mejor se adapte a sus necesidades."
   ]
  },
  {
   "attachments": {},
   "cell_type": "markdown",
   "metadata": {},
   "source": [
    "Recursos y Grupos de Recursos\n",
    "En Azure, un recurso se refiere a una entidad que forma parte de la solución que estás desarrollando en la nube. Un recurso puede ser una entidad individual dentro de la infraestructura de Azure, como una máquina virtual (VM), una base de datos SQL, una cuenta de almacenamiento, una red virtual, una aplicación web, entre otros. Cada recurso tiene un tipo y características propias, y se puede interactuar con ellos a través de la interfaz de usuario de Azure, Azure CLI, Azure PowerShell, o APIs.\n",
    "\n",
    "Por otro lado, los Grupos de Recursos son una característica clave para la gestión eficiente de los recursos de Azure. Un Grupo de Recursos es un contenedor lógico para recursos que se despliegan dentro de una suscripción de Azure. Los Grupos de Recursos te permiten agrupar y administrar recursos relacionados de forma colectiva, lo que facilita la organización, la gestión del control de acceso, la facturación y el seguimiento del uso.\n",
    "\n",
    "Por ejemplo, si estás desarrollando una solución que incluye varias máquinas virtuales, bases de datos y una red virtual, puedes agrupar todos estos recursos en un Grupo de Recursos. Esto te permite administrar y monitorear todos estos recursos como una sola entidad, lo que puede simplificar la gestión y el mantenimiento de tu solución en la nube. Además, puedes aplicar políticas y permisos a nivel del Grupo de Recursos para controlar el acceso y la configuración de todos los recursos dentro del grupo.\n",
    "\n",
    "En resumen, los recursos son las entidades individuales que componen tu solución en Azure, y los Grupos de Recursos proporcionan una forma eficiente de organizar, administrar y controlar estos recursos."
   ]
  },
  {
   "attachments": {},
   "cell_type": "markdown",
   "metadata": {},
   "source": [
    "## Regiones y Zonas de Disponibilidad\n",
    "\n",
    "Azure se encuentra dividido geográficamente en múltiples \"regiones\", cada una de las cuales representa un área geográfica específica en el mundo. Cada región es un conjunto de centros de datos que están conectados entre sí a través de una red de baja latencia. Estas regiones de Azure permiten a los clientes alojar y replicar sus aplicaciones y datos en ubicaciones específicas, de acuerdo a sus necesidades comerciales o a los requisitos de cumplimiento y normativas locales.\n",
    "\n",
    "Por ejemplo, si una empresa tiene la mayoría de sus usuarios en Europa, puede optar por alojar sus aplicaciones y datos en una región de Azure en Europa para minimizar la latencia y mejorar la experiencia del usuario. Asimismo, si la empresa necesita cumplir con las regulaciones de protección de datos que requieren que los datos se almacenen localmente, puede seleccionar una región que cumpla con esos requisitos.\n",
    "\n",
    "Por otro lado, las Zonas de Disponibilidad son centros de datos únicos dentro de una región de Azure, que están físicamente separados entre sí y están equipados con su propia energía, refrigeración y redes independientes. Este diseño permite que, en caso de una falla en una zona, las otras puedan continuar funcionando de manera independiente, garantizando así la alta disponibilidad y la continuidad del servicio.\n",
    "\n",
    "Con las Zonas de Disponibilidad, puedes diseñar y desplegar aplicaciones y datos a través de múltiples zonas dentro de una región para proteger tus aplicaciones y datos de la falla de un único punto. Esto proporciona resistencia y alta disponibilidad, garantizando que las aplicaciones y los datos estén siempre accesibles cuando se necesiten.\n",
    "\n",
    "En resumen, las regiones y zonas de disponibilidad de Azure ofrecen una estructura geográfica y operativa que te permite alojar y proteger tus aplicaciones y datos en la nube, asegurando su disponibilidad y resiliencia."
   ]
  },
  {
   "attachments": {},
   "cell_type": "markdown",
   "metadata": {},
   "source": [
    "## Servicios básicos de Azure\n",
    "\n",
    "Azure ofrece una amplia gama de servicios para responder a las necesidades de diversas aplicaciones y cargas de trabajo. Aquí te presento algunos de los servicios más fundamentales que ofrece Azure:\n",
    "\n",
    "Azure Compute: Este es un conjunto de servicios que permiten ejecutar y gestionar aplicaciones en la nube de Azure. Incluye servicios como las Máquinas Virtuales de Azure, que ofrecen recursos de computación en la nube escalables; Azure Functions, que permiten crear y ejecutar pequeñas piezas de código (funciones) en la nube sin tener que preocuparte por la infraestructura subyacente; y Azure Kubernetes Service (AKS), que es un servicio de orquestación de contenedores para aplicaciones en la nube.\n",
    "\n",
    "Azure Storage: Este servicio proporciona una solución de almacenamiento en la nube altamente escalable y duradera. Azure Storage incluye servicios como Blob Storage para almacenar grandes cantidades de datos no estructurados, File Storage para proporcionar almacenamiento de archivos en la nube accesible a través del protocolo SMB, y Queue Storage para almacenar y recuperar mensajes de la cola.\n",
    "\n",
    "Azure SQL: Este es un servicio de base de datos relacional basado en la tecnología SQL Server de Microsoft. Azure SQL proporciona una plataforma de base de datos totalmente gestionada para la ejecución de aplicaciones en la nube, y ofrece características como escalabilidad automática, copias de seguridad automatizadas y alta disponibilidad.\n",
    "\n",
    "Azure Networking: Este conjunto de servicios proporciona capacidades de red para conectar, proteger y supervisar tus recursos de Azure. Incluye servicios como Azure Virtual Network para crear redes privadas en la nube, Azure Load Balancer para equilibrar el tráfico de red entre recursos de Azure, y Azure VPN Gateway para crear conexiones seguras entre tu red local y la red virtual de Azure.\n",
    "\n",
    "Estos son solo algunos de los muchos servicios que Azure ofrece. Cada uno de estos servicios desempeña un papel crucial en la construcción y administración de aplicaciones y cargas de trabajo en la nube de Azure."
   ]
  },
  {
   "attachments": {},
   "cell_type": "markdown",
   "metadata": {},
   "source": [
    "## Seguridad en Azure\n",
    "\n",
    "Azure Active Directory (Azure AD) es un servicio de gestión de identidades y accesos basado en la nube de Microsoft. Permite a los usuarios y organizaciones gestionar el acceso a las aplicaciones y los recursos en la nube de Azure, así como en otros servicios de Microsoft, como Microsoft 365.\n",
    "\n",
    "Azure AD proporciona una variedad de capacidades de gestión de identidades, incluyendo la autenticación de usuarios, la asignación de roles y permisos, la gestión de contraseñas, la autenticación multifactorial (MFA), y más. También admite protocolos de autenticación y autorización estándar, como SAML, OAuth y OpenID Connect.\n",
    "\n",
    "El uso de Azure AD para la gestión de identidades permite a las organizaciones implementar controles de acceso sólidos y seguros para sus aplicaciones y datos en Azure, lo que es esencial para mantener la seguridad de sus recursos en la nube."
   ]
  },
  {
   "attachments": {},
   "cell_type": "markdown",
   "metadata": {},
   "source": [
    "## Facturación y administración de costos\n",
    "\n",
    "Azure utiliza un modelo de precios basado en el consumo, lo que significa que se te cobra según los recursos y los servicios de Azure que utilices. Diferentes servicios pueden tener diferentes modelos de precios. Algunos se facturan en función del tiempo de uso (por ejemplo, las máquinas virtuales se facturan por hora), mientras que otros pueden cobrarse en función del volumen de datos que procesan o almacenan.\n",
    "\n",
    "Es importante destacar que cada servicio de Azure puede contribuir a los costos de diferentes maneras. Por ejemplo, el costo de ejecutar una máquina virtual en Azure no solo depende del tiempo de ejecución de la VM, sino también del tamaño de la VM (es decir, la cantidad de vCPU y memoria RAM que se asignan a la VM), el tipo de disco utilizado, el ancho de banda de red y muchos otros factores.\n",
    "\n",
    "Asimismo, el almacenamiento de datos en Azure Storage se cobra en función del volumen de datos almacenados, el tipo de redundancia seleccionado, las operaciones de lectura y escritura realizadas y el ancho de banda de red utilizado para transferir datos hacia y desde Azure Storage."
   ]
  },
  {
   "attachments": {},
   "cell_type": "markdown",
   "metadata": {},
   "source": [
    "## Redes en Azure\n",
    "\n",
    "En Azure, una Red Virtual (VNet) es una representación de tu propia red en la nube. Es un aislamiento lógico de la nube pública de Azure que te permite definir y controlar tu espacio de red privado en Azure. Cada VNet que crees tiene su propio espacio de direcciones IP privado, que puedes segmentar en subredes para organizar y separar tus recursos de Azure.\n",
    "\n",
    "Las redes virtuales te permiten comunicar de manera segura y eficiente tus recursos de Azure entre sí, con tu red local y con el internet. Puedes configurar la conectividad entre las máquinas virtuales dentro de una red virtual, entre redes virtuales, o entre una red virtual y una red local."
   ]
  },
  {
   "attachments": {},
   "cell_type": "markdown",
   "metadata": {},
   "source": [
    "## 1. Crear un Grupo de Recursos en Azure\n",
    "\n",
    "Los Grupos de Recursos en Azure son una forma de organizar y administrar recursos en tu suscripción de Azure.\n",
    "\n",
    "Aquí están los pasos para crear un Grupo de Recursos:\n",
    "\n",
    "Inicia sesión en el portal de Azure.\n",
    "\n",
    "En el menú de la izquierda, haz clic en \"Grupos de recursos\".\n",
    "\n",
    "Haz clic en el botón \"Agregar\".\n",
    "\n",
    "Rellena los detalles necesarios.\n",
    "\n",
    "Suscripción: Selecciona tu suscripción.\n",
    "Nombre del grupo de recursos: Proporciona un nombre para tu grupo.\n",
    "Región: Selecciona la ubicación geográfica en la que se almacenarán tus recursos.\n",
    "Haz clic en \"Revisar + Crear\" y luego en \"Crear\"."
   ]
  },
  {
   "attachments": {},
   "cell_type": "markdown",
   "metadata": {},
   "source": [
    "## 2. Crear una Máquina Virtual (VM) en Azure\n",
    "\n",
    "En el menú de la izquierda del portal de Azure, haz clic en \"Máquinas virtuales\" y luego en \"Agregar\".\n",
    "\n",
    "Rellena los detalles requeridos.\n",
    "\n",
    "Suscripción: Selecciona tu suscripción.\n",
    "Grupo de recursos: Selecciona el grupo de recursos que has creado.\n",
    "Nombre de la VM: Proporciona un nombre para tu VM.\n",
    "Región: Selecciona la ubicación geográfica.\n",
    "Imagen del sistema operativo: Selecciona el sistema operativo de tu elección.\n",
    "Tamaño: Selecciona el tamaño de tu VM (dependiendo de tus necesidades de CPU, RAM, etc.).\n",
    "Proporciona los detalles para la cuenta de administrador.\n",
    "\n",
    "En la pestaña \"Administración\", puedes habilitar o deshabilitar las opciones de supervisión y diagnóstico, y luego hacer clic en \"Revisar + Crear\".\n",
    "\n",
    "Finalmente, haz clic en \"Crear\" para crear la VM."
   ]
  },
  {
   "attachments": {},
   "cell_type": "markdown",
   "metadata": {},
   "source": [
    "## 3. Crear una Base de Datos en Azure\n",
    "\n",
    "Existen varios tipos de bases de datos que puedes crear en Azure, como SQL Database, Cosmos DB, MySQL, y más. A continuación, te proporciono los pasos para crear una base de datos SQL:\n",
    "\n",
    "En el portal de Azure, haz clic en \"Crear un recurso\" en la esquina superior izquierda.\n",
    "\n",
    "En el menú \"Nuevo\", busca \"Base de datos SQL\" y haz clic en el resultado.\n",
    "\n",
    "Rellena los detalles requeridos en la pestaña \"Base de datos SQL\".\n",
    "\n",
    "Suscripción: Selecciona tu suscripción.\n",
    "Grupo de recursos: Selecciona tu grupo de recursos.\n",
    "Nombre de la base de datos: Proporciona un nombre para tu base de datos.\n",
    "Servidor: Selecciona un servidor existente o crea uno nuevo proporcionando los detalles requeridos.\n",
    "Haz clic en \"Revisar + Crear\" y luego en \"Crear\".\n"
   ]
  },
  {
   "attachments": {},
   "cell_type": "markdown",
   "metadata": {},
   "source": [
    "## 4. Crear una Azure Function\n",
    "\n",
    "Las Azure Functions son componentes de ejecución de código sin servidor en Azure. Aquí están los pasos para crear una:\n",
    "\n",
    "En el portal de Azure, haz clic en \"Crear un recurso\".\n",
    "\n",
    "Busca \"Function App\" y selecciona el servicio \"Function App\".\n",
    "\n",
    "Haz clic en \"Crear\" para iniciar el proceso de creación.\n",
    "\n",
    "Rellena los detalles requeridos.\n",
    "\n",
    "Suscripción: Selecciona tu suscripción.\n",
    "Grupo de recursos: Selecciona tu grupo de recursos.\n",
    "Nombre de la aplicación de funciones: Proporciona un nombre único.\n",
    "Publicar: Elige entre \"Código\" o \"Docker Container\".\n",
    "Pila de ejecución: Elige la pila de tecnología (como .NET, Node.js, Python, etc.).\n",
    "Región: Selecciona la ubicación geográfica.\n",
    "Haz clic en \"Revisar + Crear\" y luego en \"Crear\"."
   ]
  },
  {
   "attachments": {},
   "cell_type": "markdown",
   "metadata": {},
   "source": [
    "## 5. Desplegar un Contenedor Docker en Azure\n",
    "\n",
    "Azure Container Instances (ACI) permite ejecutar contenedores Docker en la nube sin tener que aprovisionar servidores ni administrar infraestructuras de orquestación.\n",
    "\n",
    "En el portal de Azure, haz clic en \"Crear un recurso\".\n",
    "\n",
    "Busca \"Container Instances\" y haz clic en \"Crear\".\n",
    "\n",
    "Rellena los detalles requeridos.\n",
    "\n",
    "Suscripción: Selecciona tu suscripción.\n",
    "Grupo de recursos: Selecciona tu grupo de recursos.\n",
    "Nombre del contenedor: Proporciona un nombre único.\n",
    "Región: Selecciona la ubicación geográfica.\n",
    "Tipo de imagen: Selecciona \"Pública\" o \"Privada\".\n",
    "Imagen del contenedor: Proporciona la URL de la imagen del contenedor Docker.\n",
    "Configura las opciones adicionales como se requiera, y luego haz clic en \"Revisar + Crear\".\n",
    "\n",
    "Haz clic en \"Crear\" para desplegar el contenedor."
   ]
  },
  {
   "attachments": {},
   "cell_type": "markdown",
   "metadata": {},
   "source": [
    "## 6. Desplegar una Web App FastAPI\n",
    "\n",
    "Azure App Service es un servicio HTTP completamente administrado para alojar aplicaciones web, móviles y RESTful. Puedes usarlo para desplegar una aplicación FastAPI.\n",
    "\n",
    "En el portal de Azure, haz clic en \"Crear un recurso\".\n",
    "\n",
    "Busca \"App Service\" y selecciona \"App Service\" en los resultados de la búsqueda.\n",
    "\n",
    "Haz clic en \"Crear\" para iniciar el proceso de creación.\n",
    "\n",
    "Rellena los detalles requeridos.\n",
    "\n",
    "Suscripción: Selecciona tu suscripción.\n",
    "Grupo de recursos: Selecciona tu grupo de recursos.\n",
    "Nombre de la aplicación: Proporciona un nombre único.\n",
    "Publicar: Elige \"Código\".\n",
    "Pila de ejecución: Selecciona \"Python\".\n",
    "Sistema operativo: Elige \"Linux\".\n",
    "Región: Selecciona la ubicación geográfica.\n",
    "Haz clic en \"Revisar + Crear\" y luego en \"Crear\".\n",
    "\n",
    "Una vez que la App Service esté creada, puedes desplegar tu aplicación FastAPI utilizando Git, FTP, o GitHub Actions."
   ]
  }
 ],
 "metadata": {
  "language_info": {
   "name": "python"
  },
  "orig_nbformat": 4
 },
 "nbformat": 4,
 "nbformat_minor": 2
}
