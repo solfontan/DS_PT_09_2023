{
 "cells": [
  {
   "attachments": {},
   "cell_type": "markdown",
   "metadata": {},
   "source": [
    "![](./img/deploy.png)"
   ]
  },
  {
   "attachments": {},
   "cell_type": "markdown",
   "metadata": {},
   "source": [
    "# Cómo crear rápidamente un microservicio con Azure WebApp, FastAPI y Docker"
   ]
  },
  {
   "attachments": {},
   "cell_type": "markdown",
   "metadata": {},
   "source": [
    "Hoy en día, con el SaaS, las API son comunes y a menudo se utilizan en proyectos de microservicios. Además, el desarrollador necesita construir y exponer sus API muy rápidamente. En esta clase se va a describir cómo desplegar tu API a través de una aplicación web en Azure, en unos pocos minutos."
   ]
  },
  {
   "attachments": {},
   "cell_type": "markdown",
   "metadata": {},
   "source": [
    "Requisitos\n",
    "Obviamente necesitas algunos conocimientos en desarrollo y Azure para hacerlo. Lista de requisitos:\n",
    "\n",
    "- Python\n",
    "- Docker\n",
    "- Acceso a Azure CLI & Azure portal\n",
    "- Visual Studio Code\n",
    "- Algunos conocimientos en Azure y desarrollo\n",
    "- Fast API"
   ]
  },
  {
   "attachments": {},
   "cell_type": "markdown",
   "metadata": {},
   "source": [
    "Pasos:\n",
    "\n",
    "- Crear la API con FastAPI:"
   ]
  },
  {
   "attachments": {},
   "cell_type": "markdown",
   "metadata": {},
   "source": [
    "- Crear el Dockerfile:\n",
    "\n",
    "        Un Dockerfile es un archivo de texto que Docker puede usar para automatizar la construcción de imágenes de Docker. En tu Dockerfile, debes definir lo que quieres que ocurra en el entorno de tu Docker. Por ejemplo, en tu Dockerfile puedes definir el sistema operativo base de la imagen, los archivos que deseas agregar al contenedor y los comandos que deseas ejecutar."
   ]
  },
  {
   "attachments": {},
   "cell_type": "markdown",
   "metadata": {},
   "source": [
    "- Crear la imagen de Docker:\n"
   ]
  },
  {
   "attachments": {},
   "cell_type": "markdown",
   "metadata": {},
   "source": [
    "> docker build -t <nombre> ."
   ]
  },
  {
   "attachments": {},
   "cell_type": "markdown",
   "metadata": {},
   "source": [
    "- Crear un container registry:\n",
    "\n",
    "        Azure Container Registry (ACR) es un servicio administrado que almacena y gestiona imágenes de Docker y artefactos de OCI en Azure. \n"
   ]
  },
  {
   "attachments": {},
   "cell_type": "markdown",
   "metadata": {},
   "source": [
    "- Hacer tag a la imagen con el nombre del Container Registry en VS Code utilizando la extensión de Docker:\n",
    "\n",
    "            Antes de que puedas subir tu imagen a Azure, necesitas etiquetarla con el nombre de registro de tu contenedor. Puedes hacerlo con el comando docker tag. Aquí está el comando que necesitas usar:"
   ]
  },
  {
   "attachments": {},
   "cell_type": "markdown",
   "metadata": {},
   "source": [
    "> docker tag myapp myContainerRegistry123.azurecr.io/myapp:v1"
   ]
  },
  {
   "attachments": {},
   "cell_type": "markdown",
   "metadata": {},
   "source": [
    "- Hacer push de la imagen tag con la extensión de Docker en VS Code:\n",
    "\n",
    "        Después de etiquetar tu imagen, puedes subirla a Azure Container Registry con el comando docker push. Aquí está el comando que necesitas usar:"
   ]
  },
  {
   "attachments": {},
   "cell_type": "markdown",
   "metadata": {},
   "source": [
    "> docker push myContainerRegistry123.azurecr.io/myapp:v1"
   ]
  },
  {
   "attachments": {},
   "cell_type": "markdown",
   "metadata": {},
   "source": [
    "- Crear un Container Instances en Azure:\n",
    "\n",
    "        Azure Container Instances (ACI) es un servicio que permite ejecutar contenedores en la nube sin tener que gestionar la infraestructura de servidor. "
   ]
  }
 ],
 "metadata": {
  "language_info": {
   "name": "python"
  },
  "orig_nbformat": 4
 },
 "nbformat": 4,
 "nbformat_minor": 2
}
