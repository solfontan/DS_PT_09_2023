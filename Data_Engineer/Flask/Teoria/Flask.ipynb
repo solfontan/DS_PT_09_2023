{
 "cells": [
  {
   "attachments": {},
   "cell_type": "markdown",
   "metadata": {},
   "source": [
    "![Flask](https://cdn.freebiesupply.com/logos/large/2x/flask-logo-png-transparent.png)"
   ]
  },
  {
   "attachments": {},
   "cell_type": "markdown",
   "metadata": {},
   "source": [
    "## Flask, el microframework con el que hacer grandes proyectos"
   ]
  },
  {
   "attachments": {},
   "cell_type": "markdown",
   "metadata": {},
   "source": [
    "Flask es un microframework para Python basado en [Werkzeug](https://werkzeug.palletsprojects.com/en/2.3.x/) complemento de [WSGI](https://entrenamiento-frameworks-web-python.readthedocs.io/es/latest/leccion4/introduccion_wsgi.html) que permite crear aplicaciones web de todo tipo rápidamente."
   ]
  },
  {
   "attachments": {},
   "cell_type": "markdown",
   "metadata": {},
   "source": [
    "Flask es muy versátil y se pueden hacer prototipos y APIs muy, muy rápido (en función de tus conocimientos de Python) asi como proyectos mas complejos."
   ]
  },
  {
   "attachments": {},
   "cell_type": "markdown",
   "metadata": {},
   "source": [
    "## Indice"
   ]
  },
  {
   "attachments": {},
   "cell_type": "markdown",
   "metadata": {},
   "source": [
    "- [NB 1: Mi primera aplicación Flask](./Lecciones/NB01.ipynb)\n",
    "- [NB 2: Plantillas para las páginas HTML](./Lecciones/NB02.ipynb)\n",
    "- [NB 3: Formularios en Flask](./Lecciones/NB03.ipynb)\n",
    "- [NB 4: Login en Flask](./Lecciones/NB04.ipynb)\n",
    "- [NB 5: Base de datos: SQLAlchemy](./Lecciones/NB05.ipynb)\n",
    "- [NB 6: Estructura de un proyecto con Flask. Blueprints](./Lecciones/NB06.ipynb)\n",
    "- [NB 7: Parámetros de configuración Flask](./Lecciones/NB07.ipynb)\n",
    "- [NB 8: Manejo de errores y excepciones](./Lecciones/NB08.ipynb)\n",
    "- [NB 9: Logs en Flask](./Lecciones/NB09.ipynb)\n",
    "- [NB 10: Seguridad en las vistas](./Lecciones/NB10.ipynb)\n",
    "- [NB 11: Actualizar BBDD SQLAlchemy](./Lecciones/NB11.ipynb)\n",
    "- [NB 12: Test con Flask](./Lecciones/NB12.ipynb)\n",
    "- [NB 13: Las consultas de BBDD](./Lecciones/NB13.ipynb)\n",
    "- [NB 14: Emails con Flask](./Lecciones/NB14.ipynb)\n",
    "- [NB 15: Fechas en Flask](./Lecciones/NB15.ipynb)\n",
    "- [NB 16: Ficheros en Flask](./Lecciones/NB16.ipynb)\n",
    "- [NB 17: Desplegar una aplicación Flask en producción con Nginx + Gunicorn](./Lecciones/NB17.ipynb)"
   ]
  }
 ],
 "metadata": {
  "language_info": {
   "name": "python"
  },
  "orig_nbformat": 4
 },
 "nbformat": 4,
 "nbformat_minor": 2
}
