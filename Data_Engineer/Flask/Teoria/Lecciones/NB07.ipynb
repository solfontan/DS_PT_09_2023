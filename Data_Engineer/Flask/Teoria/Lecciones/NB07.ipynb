{
 "cells": [
  {
   "attachments": {},
   "cell_type": "markdown",
   "metadata": {},
   "source": [
    "# EL MOTOR DE PLANTILLAS JINJA2"
   ]
  },
  {
   "attachments": {},
   "cell_type": "markdown",
   "metadata": {},
   "source": [
    "Jinja2 es un motor de plantillas Python. Se puede utilizar en lugar de la interpolación de cadenas estándar de Python, es decir, agregar datos a cadenas. Flask puede leer fácilmente las plantillas Jinja2, que son más fáciles de escribir que el código Python típico. Las plantillas Jinja2 tienen un formato de lenguaje más natural.\n",
    "\n",
    "Las plantillas Jinja2 se escriben en HTML o XML y luego se convierten en bytecode \"jinja\", que el entorno Jinja puede leer y utilizar. El módulo compilador de Python convierte las plantillas en bytecode, que luego es ejecutado por un intérprete que analiza y ejecuta scripts jinja construidos a partir de plantillas HTML o XML.\n",
    "\n",
    "Las plantillas son archivos que contienen marcadores de posición de datos estáticos y dinámicos. Para crear un documento final, se renderiza una plantilla con datos precisos. Flask utiliza la biblioteca de plantillas Jinja para renderizar plantillas. Las plantillas se utilizarán en tu aplicación para renderizar el HTML mostrado en el navegador del usuario.\n",
    "\n",
    "Tenemos que colocar el archivo de plantilla en la carpeta de plantillas. Las plantillas se encuentran en la carpeta raíz del proyecto.\n",
    "\n",
    "Por ejemplo, nuestro home.html podría ser:"
   ]
  },
  {
   "cell_type": "code",
   "execution_count": null,
   "metadata": {
    "vscode": {
     "languageId": "html"
    }
   },
   "outputs": [],
   "source": [
    "<!DOCTYPE html>\n",
    "<html>\n",
    "<h1>Hello {{ name }} </h1>\n",
    "<h1>This is where we say FLASK! :)</h1>\n",
    "</html>"
   ]
  },
  {
   "attachments": {},
   "cell_type": "markdown",
   "metadata": {},
   "source": [
    "Ahora escribiremos la función de vista como el siguiente código:"
   ]
  },
  {
   "cell_type": "code",
   "execution_count": null,
   "metadata": {},
   "outputs": [],
   "source": [
    "@app.route(\"/user/<name>\")\n",
    "def index(name):\n",
    "    return render_template(\"home.html\", name=name)"
   ]
  },
  {
   "attachments": {},
   "cell_type": "markdown",
   "metadata": {},
   "source": [
    "El motor de plantillas Jinja2 está integrado en la aplicación por la función Flask render_template(). El nombre del archivo de la plantilla es el primer argumento para la función render_template(). El resto de los argumentos son pares clave-valor que muestran los valores reales de las variables en la plantilla."
   ]
  },
  {
   "attachments": {},
   "cell_type": "markdown",
   "metadata": {},
   "source": [
    "## Variables\n",
    "Un archivo de plantilla es solo un archivo de texto normal. La parte a ser reemplazada está marcada con dobles llaves ({{ }} ), en las que se escribe el nombre de la variable a ser reemplazada. Esta variable admite tipos de datos básicos, listas, diccionarios, objetos y tuplas. Lo mismo que en template.html:"
   ]
  },
  {
   "cell_type": "code",
   "execution_count": null,
   "metadata": {
    "vscode": {
     "languageId": "html"
    }
   },
   "outputs": [],
   "source": [
    "{% raw %}\n",
    "<p> Un valor de una cadena: {{ name }}. </p>\n",
    "<p> Un valor de un entero: {{ myindex }}. </p>\n",
    "<p> Un valor de una lista: {{ mylist[3] }}. </p>\n",
    "<p> Un valor de una lista, con un índice variable: {{ mylist[myindex] }}. </p>\n",
    "<p> Un valor de un diccionario: {{ mydict['key'] }}. </p>\n",
    "<p> Un valor de una tupla: {{ mytuple }}. </p>\n",
    "<p> Un valor de una tupla por índice: {{ mytuple[myindex] }}. </p>\n",
    "{% endraw %}"
   ]
  },
  {
   "attachments": {},
   "cell_type": "markdown",
   "metadata": {},
   "source": [
    "## Filtros\n",
    "Al escribir tus aplicaciones, es posible que quieras cambiar algunas partes de tus valores en la plantilla cuando aparezcan. Por ejemplo, puedes configurar el código para capitalizar la primera letra en una cadena, eliminar espacios, etc. En Flask, una forma de hacerlo es usando un filtro."
   ]
  },
  {
   "attachments": {},
   "cell_type": "markdown",
   "metadata": {},
   "source": [
    "Los filtros en el motor de plantillas Jinjia2 funcionan como tuberías en comandos de Linux. Por ejemplo, pueden capitalizar la primera letra de una variable de cadena."
   ]
  },
  {
   "cell_type": "code",
   "execution_count": null,
   "metadata": {
    "vscode": {
     "languageId": "html"
    }
   },
   "outputs": [],
   "source": [
    "{% raw %}\n",
    "<h1>{{ name | capitalize}}</h1>\n",
    "{% endraw %}"
   ]
  },
  {
   "attachments": {},
   "cell_type": "markdown",
   "metadata": {},
   "source": [
    "Tanto los filtros como el comando de tubería de Linux pueden ser empalmados. Por ejemplo, puedes escribir una línea para hacer dos cosas a la vez. Vamos a escribir una línea para capitalizar los valores y eliminar los espacios en blanco antes y después."
   ]
  },
  {
   "cell_type": "code",
   "execution_count": null,
   "metadata": {
    "vscode": {
     "languageId": "html"
    }
   },
   "outputs": [],
   "source": [
    "{% raw %}\n",
    "<h1>{{ name | upper | trim }}</h1>\n",
    "{% endraw %}"
   ]
  },
  {
   "attachments": {},
   "cell_type": "markdown",
   "metadata": {},
   "source": [
    "Como ves en el código, conectamos el filtro y la variable con el símbolo de tubería |. Eso es lo mismo que procesar el valor de la variable."
   ]
  },
  {
   "attachments": {},
   "cell_type": "markdown",
   "metadata": {},
   "source": [
    "Aquí hay algunos filtros estándar que usan los desarrolladores web:"
   ]
  },
  {
   "attachments": {},
   "cell_type": "markdown",
   "metadata": {},
   "source": [
    "| Filtro     | Descripción                                                       |\n",
    "|------------|-------------------------------------------------------------------|\n",
    "| safe       | El renderizado no se escapa                                       |\n",
    "| capitalize | Capitalización inicial                                            |\n",
    "| lower      | Todas las letras en minúsculas                                    |\n",
    "| upper      | Todas las letras en mayúsculas                                    |\n",
    "| title      | Capitaliza la primera letra de cada palabra en el valor           |\n",
    "| trim       | Elimina el primer carácter en blanco                              |\n",
    "| stripttags | Elimina todas las etiquetas HTML del valor al renderizar          |\n"
   ]
  },
  {
   "attachments": {},
   "cell_type": "markdown",
   "metadata": {},
   "source": [
    "## Estructura de control\n",
    "Jinja2 tiene una serie de estructuras de control que se pueden usar para cambiar cómo se ejecuta la plantilla. Esta sección repasa algunos de los más útiles y te muestra cómo usarlos.\n",
    "\n",
    "Muchas veces, se necesita un renderizado de plantillas más inteligente, lo que significa poder programar el renderizado, como tener un estilo para los niños y el mismo estilo para las niñas. Las instrucciones de estructura de control necesitan ser especificadas con marcadores de comando, y algunas estructuras de control simples se explican a continuación."
   ]
  },
  {
   "attachments": {},
   "cell_type": "markdown",
   "metadata": {},
   "source": [
    "## Condiciones\n",
    "Este tipo de estructura es cuando usas una declaración condicional, es decir, una estructura if-else en la plantilla.\n",
    "\n",
    "Aquí tienes un ejemplo de cómo puedes añadir una declaración condicional a una plantilla:"
   ]
  },
  {
   "cell_type": "code",
   "execution_count": null,
   "metadata": {
    "vscode": {
     "languageId": "html"
    }
   },
   "outputs": [],
   "source": [
    "{% raw %}\n",
    "{% if genero=='male' %}\n",
    "Hola, Sr {{ name }}\n",
    "{% else %}\n",
    "Hola, Sra {{ name }}\n",
    "{% endif %}\n",
    "{% endraw %}"
   ]
  },
  {
   "attachments": {},
   "cell_type": "markdown",
   "metadata": {},
   "source": [
    "La función de vista será:"
   ]
  },
  {
   "cell_type": "code",
   "execution_count": null,
   "metadata": {},
   "outputs": [],
   "source": [
    "@app.route(\"/hello2/<name>/<gender>\")\n",
    "    def hello2(name, gender):\n",
    "        return render_template(\"hello2.html\", name=name, gender=gender)    "
   ]
  },
  {
   "attachments": {},
   "cell_type": "markdown",
   "metadata": {},
   "source": [
    "Esto no es diferente de la estructura típica del código python."
   ]
  },
  {
   "attachments": {},
   "cell_type": "markdown",
   "metadata": {},
   "source": [
    "## Bucle\n",
    "Si tu página web tiene listas, por ejemplo, una estructura de control que querrás usar es bucles. Los bucles for son más adecuados. Por ejemplo, vamos a mostrar una lista con ul."
   ]
  },
  {
   "cell_type": "code",
   "execution_count": null,
   "metadata": {
    "vscode": {
     "languageId": "html"
    }
   },
   "outputs": [],
   "source": [
    "{% raw %}\n",
    "<ul>\n",
    "{% for name in names %}\n",
    "<li>{{ name }} </li>\n",
    "{% endfor %}\n",
    "</ul>\n",
    "{% endraw %}"
   ]
  },
  {
   "attachments": {},
   "cell_type": "markdown",
   "metadata": {},
   "source": [
    "<div>\n",
    "    <a href=\"../Flask.py\">\n",
    "        <img src=\"../img/return.png\" alt=\"return\" title=\"return\" width=\"75\" style=\"float: left;\" />\n",
    "    </a>\n",
    "    <a href=\"./NB08.ipynb\">\n",
    "        <img src=\"../img/forward.png\" alt=\"forward\" title=\"forward\" width=\"75\" style=\"float: right;\" />\n",
    "  </a>\n",
    "</div>"
   ]
  }
 ],
 "metadata": {
  "language_info": {
   "name": "python"
  },
  "orig_nbformat": 4
 },
 "nbformat": 4,
 "nbformat_minor": 2
}
