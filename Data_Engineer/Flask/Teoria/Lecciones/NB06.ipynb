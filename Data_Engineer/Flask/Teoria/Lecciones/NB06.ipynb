{
 "cells": [
  {
   "attachments": {},
   "cell_type": "markdown",
   "metadata": {},
   "source": [
    "# STATIC TEMPLATES"
   ]
  },
  {
   "attachments": {},
   "cell_type": "markdown",
   "metadata": {},
   "source": [
    "Este capítulo te enseñará cómo crear e implementar plantillas estáticas y HTML. También aprenderás estrategias de estructura de archivos.\n",
    "El código limpio y bien estructurado es esencial para desarrollar aplicaciones que sean fáciles de mantener. Las funciones de vista de Flask tienen dos trabajos diferentes, y esto puede causar confusión.\n",
    "\n",
    "Como podemos ver, el propósito obvio de una función de vista es responder a una solicitud de un navegador web. El estado de la aplicación, determinado por la función de vista, también puede ser alterado por la solicitud.\n",
    "\n",
    "Imagina a un usuario registrándose por primera vez en tu sitio web. Antes de hacer clic en el botón de enviar, rellena un formulario en línea con su dirección de correo electrónico y contraseña.\n",
    "\n",
    "El método de vista, que gestiona las solicitudes de registro, recibe la solicitud de Flask en el servidor que contiene los datos del usuario. La función de vista interactúa con la base de datos para agregar al nuevo usuario y proporcionar una respuesta para mostrar en el navegador. Estas dos responsabilidades se denominan formalmente lógica de negocio y lógica de presentación, respectivamente.\n",
    "\n",
    "El código complejo se produce cuando la lógica de negocio y de presentación se combinan. Imagina tener que combinar datos de una base de datos con las literales de cadena HTML requeridas para crear el código HTML para una tabla grande. La mantenibilidad de la aplicación se mejora al colocar la lógica de presentación en las plantillas.\n",
    "\n",
    "Por eso es necesaria una plantilla. Una plantilla es un archivo que contiene variables de marcador de posición para las partes dinámicas de una respuesta que sólo se conocen en relación con el contexto de una solicitud. El proceso conocido como renderizado es lo que da a las variables sus valores reales a cambio de la cadena de respuesta final. Flask renderiza las plantillas utilizando el potente motor de plantillas Jinja2."
   ]
  },
  {
   "attachments": {},
   "cell_type": "markdown",
   "metadata": {},
   "source": [
    "## Renderizando Plantillas HTML\n",
    "Flask espera encontrar archivos de plantilla en el subdirectorio de plantillas del directorio principal de la aplicación. Estas plantillas son en realidad archivos HTML.\n",
    "Flask puede renderizar HTML usando dos métodos:\n",
    "como cadena\n",
    "usando la función render_template\n",
    "Una cadena\n",
    "Puedes usar HTML como una cadena para la función.\n",
    "Aquí tienes un ejemplo:"
   ]
  },
  {
   "cell_type": "code",
   "execution_count": null,
   "metadata": {},
   "outputs": [],
   "source": [
    "from flask import Flask\n",
    "app = Flask(__name__)\n",
    "@app.route(\"/\")\n",
    "def home():\n",
    "    return \"<h1>¡Hay algo acerca de Flask!</h1>\"\n",
    "if __name__ == \"__main__\":\n",
    "    app.run(debug=True, host=\"0.0.0.0\", port=5000)"
   ]
  },
  {
   "attachments": {},
   "cell_type": "markdown",
   "metadata": {},
   "source": [
    "## Función render_template()\n",
    "Ahora bien, la cadena es adecuada para sitios web simples de una sola página. Para aplicaciones grandes, debes añadir tus plantillas como archivos separados.\n",
    "En este caso, creas el código HTML y guardas el archivo por separado en la carpeta. Luego llamarás al archivo en la función de vistas por los nombres de los archivos.\n",
    "\n",
    "Flask usará la función render_template() para renderizar las plantillas HTML.\n",
    "Esta función usa los siguientes parámetros:\n",
    "\n",
    "- template_name_or_list: es el nombre o los nombres del archivo de plantilla si hay más de uno\n",
    "\n",
    "- context: estas son las variables que están en el script de la plantilla.\n",
    "La función render_template() devuelve la salida usando la vista en lugar de una cadena.\n",
    "\n",
    "Aquí tienes un ejemplo:"
   ]
  },
  {
   "cell_type": "code",
   "execution_count": null,
   "metadata": {},
   "outputs": [],
   "source": [
    "def view_name():\n",
    "    return render_template(template_name)"
   ]
  },
  {
   "attachments": {},
   "cell_type": "markdown",
   "metadata": {},
   "source": [
    "En este caso, ya tendríamos una plantilla guardada, quizás como home.html o index.html, con el código HTML en ella. Cuando ejecutes la aplicación, Flask ejecutará todos los códigos HTML incluidos en el script, y la vista los mostrará en el navegador web."
   ]
  },
  {
   "attachments": {},
   "cell_type": "markdown",
   "metadata": {},
   "source": [
    "## Estrategias de estructura de archivos\n",
    "Cuando ejecutes el programa, Flask ejecutará el script y recorrerá tu carpeta \\templates para encontrar los archivos HTML a los que haces referencia en el script. Debes colocar la carpeta correctamente para que no haya errores. Estas son las estructuras de archivos correctas que Flask puede leer:"
   ]
  },
  {
   "attachments": {},
   "cell_type": "markdown",
   "metadata": {},
   "source": [
    "## Estructura de archivos de módulo\n",
    "Esta es una estructura muy simple y directa donde toda la lógica de la aplicación está en un solo archivo .py. La carpeta templates estará en la misma carpeta que el archivo .py donde el desarrollador guarda los archivos HTML."
   ]
  },
  {
   "attachments": {},
   "cell_type": "markdown",
   "metadata": {},
   "source": [
    "```\n",
    "templates/\n",
    "    home.html\n",
    "app.py\n",
    "```"
   ]
  },
  {
   "attachments": {},
   "cell_type": "markdown",
   "metadata": {},
   "source": [
    "## Estructura de archivos de paquete\n",
    "En muchas aplicaciones complejas, el script se divide en varios archivos .py. En este caso, debes presentar todos los archivos .py en el mismo paquete. Un paquete es una carpeta que contiene un archivo init.py."
   ]
  },
  {
   "attachments": {},
   "cell_type": "markdown",
   "metadata": {},
   "source": [
    "Debes crear la carpeta de plantillas en el paquete de la aplicación principal para utilizar esta estructura en tu aplicación."
   ]
  },
  {
   "attachments": {},
   "cell_type": "markdown",
   "metadata": {},
   "source": [
    "```\n",
    "application/\n",
    "    templates/\n",
    "        home.html\n",
    "    __init__.py\n",
    "```"
   ]
  },
  {
   "attachments": {},
   "cell_type": "markdown",
   "metadata": {},
   "source": [
    "Así que, hagámoslo juntos. Primero, debes saber lo que quieres hacer: queremos renderizar una plantilla home.html con la función render_template() en nuestra aplicación web, app.py.\n",
    "\n",
    "Crearás una carpeta templates y luego crearás un archivo dentro de la nueva carpeta y lo llamarás home.html."
   ]
  },
  {
   "attachments": {},
   "cell_type": "markdown",
   "metadata": {},
   "source": [
    "Rellena home.html con este código:"
   ]
  },
  {
   "cell_type": "code",
   "execution_count": null,
   "metadata": {},
   "outputs": [],
   "source": [
    "<!DOCTYPE html>\n",
    "<html>\n",
    "<h1>¡Este es el lugar donde decimos FLASK! :)</h1>\n",
    "</html>"
   ]
  },
  {
   "attachments": {},
   "cell_type": "markdown",
   "metadata": {},
   "source": [
    "Ahora, podemos cambiar nuestro código de app.py para llamar al código HTML."
   ]
  },
  {
   "cell_type": "code",
   "execution_count": null,
   "metadata": {},
   "outputs": [],
   "source": [
    "from flask import Flask, render_template\n",
    "app = Flask(__name__)\n",
    "@app.route(\"/\")\n",
    "def home():\n",
    "    return render_template(\"home.html\")\n",
    "if __name__ == \"__main__\":\n",
    "    app.run(debug=True, host=\"0.0.0.0\", port=5000)"
   ]
  },
  {
   "attachments": {},
   "cell_type": "markdown",
   "metadata": {},
   "source": [
    "<div>\n",
    "    <a href=\"../Flask.py\">\n",
    "        <img src=\"../img/return.png\" alt=\"return\" title=\"return\" width=\"75\" style=\"float: left;\" />\n",
    "    </a>\n",
    "    <a href=\"./NB07.ipynb\">\n",
    "        <img src=\"../img/forward.png\" alt=\"forward\" title=\"forward\" width=\"75\" style=\"float: right;\" />\n",
    "  </a>\n",
    "</div>"
   ]
  }
 ],
 "metadata": {
  "language_info": {
   "name": "python"
  },
  "orig_nbformat": 4
 },
 "nbformat": 4,
 "nbformat_minor": 2
}
