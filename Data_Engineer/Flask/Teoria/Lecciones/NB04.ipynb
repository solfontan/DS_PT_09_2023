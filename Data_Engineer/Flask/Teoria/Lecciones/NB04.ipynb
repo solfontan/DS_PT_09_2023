{
 "cells": [
  {
   "attachments": {},
   "cell_type": "markdown",
   "metadata": {},
   "source": [
    "# CREAR UNA APLICACIÓN SENCILLA"
   ]
  },
  {
   "attachments": {},
   "cell_type": "markdown",
   "metadata": {},
   "source": [
    "Entendiste las diversas partes y configuraciones de una aplicación web Flask en las secciones anteriores. Ahora es el momento de escribir tu primera aplicación. En el ejemplo a continuación, el script de la aplicación define una instancia de aplicación, una única ruta y una única función de vista, como ya hemos mencionado.\n",
    "Yo estaré usando Visual Studio Code, que tiene instalada la extensión de Python.\n",
    "El primer paso es crear una carpeta de proyecto. La mía se llama App. Nómbrala como quieras.\n",
    "\n",
    "Después de haber accedido a esa carpeta, crea un entorno virtual. Yo llamaré al mío env."
   ]
  },
  {
   "attachments": {},
   "cell_type": "markdown",
   "metadata": {},
   "source": [
    "> python -m venv env"
   ]
  },
  {
   "attachments": {},
   "cell_type": "markdown",
   "metadata": {},
   "source": [
    "Ahora, escribe \"code\" en la Terminal y ejecútalo. Visual Studio Code se abrirá en una nueva ventana. Ahora, abre la carpeta de la aplicación en la nueva ventana de esta forma:\n",
    "A continuación, abre la Paleta de Comandos. Ve a View y haz clic en Command Palette (o presiona Ctrl+Shift+P). Selecciona el comando Python: Select the Interpreter.\n",
    "Esto significa que quieres ver los intérpretes que están disponibles y que VS puede localizar.\n",
    "\n",
    "Vuelve a la Paleta de Comandos y busca Terminal. Haz clic en Terminal: Create New Terminal\n",
    "¿Puedes ver el nombre de tu entorno virtual en la esquina inferior izquierda? El mío tiene \"env\" como el nombre de mi entorno virtual.\n",
    "\n",
    "Ahora que el entorno virtual está activo, instala Flask en el entorno virtual ejecutando pip install Flask en la Terminal.\n",
    "\n",
    "Cuando inicies un comando separado, ejecuta env\\Scripts\\activate para activar el entorno. Debería comenzar con (env), indicando que está activado."
   ]
  },
  {
   "attachments": {},
   "cell_type": "markdown",
   "metadata": {},
   "source": [
    "## La aplicación real\n",
    "Ahora, crearemos un nuevo archivo llamado app.py dentro de la carpeta App.\n",
    "En app.py, añadiremos un código para importar Flask y construir una instancia del objeto Flask. Este objeto servirá como la aplicación WSGI."
   ]
  },
  {
   "attachments": {},
   "cell_type": "markdown",
   "metadata": {},
   "source": [
    "[\"miapp.py\"](../App/app.py)"
   ]
  },
  {
   "cell_type": "code",
   "execution_count": null,
   "metadata": {},
   "outputs": [],
   "source": [
    "from flask import Flask\n",
    "app = Flask(__name__)"
   ]
  },
  {
   "attachments": {},
   "cell_type": "markdown",
   "metadata": {},
   "source": [
    "Ahora llamaremos a la nueva función run() del objeto de la aplicación para ejecutar la aplicación principal."
   ]
  },
  {
   "cell_type": "code",
   "execution_count": null,
   "metadata": {},
   "outputs": [],
   "source": [
    "if __name__ == \"__main__\":\n",
    "    app.run()"
   ]
  },
  {
   "attachments": {},
   "cell_type": "markdown",
   "metadata": {},
   "source": [
    "Desarrollaremos una función de vista para nuestra aplicación para mostrar algo en la ventana del navegador. Construiremos una función llamada hello() que devuelva \"Hello, World!"
   ]
  },
  {
   "cell_type": "code",
   "execution_count": null,
   "metadata": {},
   "outputs": [],
   "source": [
    "def hello():\n",
    "    return \"<h1>Hello World!</h1>\""
   ]
  },
  {
   "attachments": {},
   "cell_type": "markdown",
   "metadata": {},
   "source": [
    "Ahora, asignaremos una ruta URL para que la nueva aplicación Flask sepa cuándo llamar a la función de vista hello(). Asociamos la ruta URL con cada función de vista. Esto se hace con el decorador route() delante de cada función de vista de esta manera."
   ]
  },
  {
   "cell_type": "code",
   "execution_count": null,
   "metadata": {},
   "outputs": [],
   "source": [
    "@app.route(\"/\")\n",
    "def hello():\n",
    "    return \"<h1>Hello World!</h1>\""
   ]
  },
  {
   "attachments": {},
   "cell_type": "markdown",
   "metadata": {},
   "source": [
    "El script completo de app.py es como este:"
   ]
  },
  {
   "cell_type": "code",
   "execution_count": null,
   "metadata": {},
   "outputs": [],
   "source": [
    "from flask import Flask\n",
    "app = Flask(__name__)\n",
    "@app.route(\"/\")\n",
    "def hello():\n",
    "    return \"Hello World!\"\n",
    "if __name__ == \"__main__\":\n",
    "    app.run(debug=True, host=\"0.0.0.0\", port=5000)"
   ]
  },
  {
   "attachments": {},
   "cell_type": "markdown",
   "metadata": {},
   "source": [
    "## Servidor Web de Desarrollo\n",
    "Usando el comando flask run, puedes iniciar un servidor web de desarrollo para aplicaciones Flask. Este comando busca en la variable de entorno FLASK_APP el nombre del script de Python que incluye la instancia de la aplicación.\n",
    "Para ejecutar la aplicación app.py, primero, asegúrate de que el entorno virtual que configuraste antes está en funcionamiento y que Flask está instalado en él."
   ]
  },
  {
   "attachments": {},
   "cell_type": "markdown",
   "metadata": {},
   "source": [
    "> python -m flask run"
   ]
  },
  {
   "attachments": {},
   "cell_type": "markdown",
   "metadata": {},
   "source": [
    "Cuando el servidor se encienda, entrará en un bucle que recibe solicitudes y las maneja. Este bucle seguirá hasta que presiones Ctrl+C para detener el programa.\n",
    "Abre tu navegador web y escribe http://localhost:5000/ en la barra de url mientras el servidor está en funcionamiento. La captura de pantalla a continuación muestra lo que verás una vez que estés conectado a la aplicación.\n",
    "\n",
    "Ahora esa es la url base a la que establecimos una ruta. Agregar cualquier otra cosa a la URL significará que tu aplicación no sabrá cómo manejarlo y enviará un código de error 404 al navegador.\n",
    "\n",
    "El método app.run() también se puede usar para iniciar programáticamente el servidor web de desarrollo de Flask. En versiones anteriores de Flask que no tenían el comando flask, el servidor tenía que ser iniciado ejecutando el script principal de la aplicación, que tenía que terminar con el siguiente código:"
   ]
  },
  {
   "cell_type": "code",
   "execution_count": null,
   "metadata": {},
   "outputs": [],
   "source": [
    "if __name__ == \"__main__\":\n",
    "    app.run()"
   ]
  },
  {
   "attachments": {},
   "cell_type": "markdown",
   "metadata": {},
   "source": [
    "Esto ya no es necesario debido al comando flask run. Sin embargo, la función app.run() todavía puede ser útil en algunas situaciones, como las pruebas unitarias."
   ]
  },
  {
   "attachments": {},
   "cell_type": "markdown",
   "metadata": {},
   "source": [
    "<div>\n",
    "    <a href=\"../Flask.py\">\n",
    "        <img src=\"../img/return.png\" alt=\"return\" title=\"return\" width=\"75\" style=\"float: left;\" />\n",
    "    </a>\n",
    "    <a href=\"./NB05.ipynb\">\n",
    "        <img src=\"../img/forward.png\" alt=\"forward\" title=\"forward\" width=\"75\" style=\"float: right;\" />\n",
    "  </a>\n",
    "</div>"
   ]
  }
 ],
 "metadata": {
  "language_info": {
   "name": "python"
  },
  "orig_nbformat": 4
 },
 "nbformat": 4,
 "nbformat_minor": 2
}
