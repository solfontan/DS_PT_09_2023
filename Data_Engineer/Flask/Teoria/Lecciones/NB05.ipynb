{
 "cells": [
  {
   "attachments": {},
   "cell_type": "markdown",
   "metadata": {},
   "source": [
    "## DYNAMIC ROUTES"
   ]
  },
  {
   "attachments": {},
   "cell_type": "markdown",
   "metadata": {},
   "source": [
    "Ahora consideremos un método alternativo de enrutamiento. La próxima ilustración demuestra cómo una implementación alternativa del programa agrega una segunda ruta dinámica. Tu nombre aparece como un saludo personalizado cuando visitas la URL activa en tu navegador.\n",
    "\n",
    "En este capítulo, describiré las reglas variables, los convertidores y un ejemplo de enrutamiento dinámico.\n",
    "\n",
    "Hemos discutido sobre rutas, vistas y enrutamiento estático cuando el parámetro de la regla del decorador de ruta era una cadena."
   ]
  },
  {
   "cell_type": "code",
   "execution_count": null,
   "metadata": {},
   "outputs": [],
   "source": [
    "@app.route(\"/about\")\n",
    "def learn():\n",
    "    return \"Flask for web developers!\""
   ]
  },
  {
   "attachments": {},
   "cell_type": "markdown",
   "metadata": {},
   "source": [
    "Si quieres utilizar el enrutamiento dinámico, el argumento de la regla no será una cadena constante como /about. En su lugar, es una regla variable que pasaste a la ruta().\n",
    "\n",
    "Hemos aprendido acerca de las reglas variables. Sin embargo, lee este script para tener una mejor idea de la regla variable:"
   ]
  },
  {
   "cell_type": "code",
   "execution_count": null,
   "metadata": {},
   "outputs": [],
   "source": [
    "\"\"\"Una aplicación para mostrar reglas variables en el enrutamiento\"\"\"\n",
    "from flask import Flask\n",
    "app = Flask(__name__)\n",
    "@app.route(\"/\")\n",
    "def home():\n",
    "    \"\"\"Vista para la página de inicio de tu sitio web.\"\"\"\n",
    "    return \"Esta es tu página de inicio :)\"\n",
    "@app.route(\"/<your_name>\")\n",
    "def greetings(your_name):\n",
    "    \"\"\"Función de vista para saludar al usuario por su nombre.\"\"\"\n",
    "    return \"¡Bienvenido \" + your_name + \"!\"\n",
    "if __name__ == \"__main__\":\n",
    "    app.run(debug=True, host=\"0.0.0.0\", port=5000)"
   ]
  },
  {
   "attachments": {},
   "cell_type": "markdown",
   "metadata": {},
   "source": [
    "¡Como magia! ¿Cómo puedes hacer esto? Bastante fácil. Sígueme.\n",
    "\n",
    "La primera cosa que encontrarás diferente en el nuevo código es la segunda función de vista, greetings(). Ahí está la regla variable: /<your_name>.\n",
    "\n",
    "Eso significa que la variable es your_name (lo que sea que escribas después del /). Luego pasamos esta variable como un parámetro a la función greetings(). Por eso se llama para devolver un saludo a cualquier nombre que se le pase. Facebook no es tan elegante ahora, ¿verdad?"
   ]
  },
  {
   "attachments": {},
   "cell_type": "markdown",
   "metadata": {},
   "source": [
    "## Convertidor\n",
    "El ejemplo anterior utilizó la URL para extraer la variable your_name. Flask ahora convirtió esa variable en una cadena y la pasó a la función greetings(). Así es como funcionan los convertidores.\n",
    "\n",
    "Aquí están los tipos de datos que los convertidores de Flask pueden convertir:\n",
    "\n",
    "- string: esto se da por sentado\n",
    "- int: ellos convierten esto sólo para cuando pasas enteros positivos\n",
    "- float: también sólo funciona para flotantes positivos\n",
    "- path: esto significa cadenas con barras\n",
    "- uuid: las cadenas UUID significan cadenas de Identificador Único Universal utilizadas para identificar información que necesita ser única dentro de un sistema o red.\n",
    "\n",
    "Aprendamos acerca de otra característica para aplicaciones web."
   ]
  },
  {
   "attachments": {},
   "cell_type": "markdown",
   "metadata": {},
   "source": [
    "<div>\n",
    "    <a href=\"../Flask.py\">\n",
    "        <img src=\"../img/return.png\" alt=\"return\" title=\"return\" width=\"75\" style=\"float: left;\" />\n",
    "    </a>\n",
    "    <a href=\"./NB06.ipynb\">\n",
    "        <img src=\"../img/forward.png\" alt=\"forward\" title=\"forward\" width=\"75\" style=\"float: right;\" />\n",
    "  </a>\n",
    "</div>"
   ]
  }
 ],
 "metadata": {
  "language_info": {
   "name": "python"
  },
  "orig_nbformat": 4
 },
 "nbformat": 4,
 "nbformat_minor": 2
}
