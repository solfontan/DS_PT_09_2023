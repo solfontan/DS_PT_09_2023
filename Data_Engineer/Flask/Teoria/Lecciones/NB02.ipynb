{
 "cells": [
  {
   "attachments": {},
   "cell_type": "markdown",
   "metadata": {},
   "source": [
    "# Organización del Proyecto"
   ]
  },
  {
   "attachments": {},
   "cell_type": "markdown",
   "metadata": {},
   "source": [
    "Flask no proporciona una estructura específica para organizar los archivos de tu aplicación. Todo el código puede estar contenido en una sola carpeta o distribuido entre varios paquetes. Sin embargo, puedes agilizar el desarrollo y el despliegue de tu software siguiendo algunos patrones de organización.\n",
    "\n",
    "Aquí hay algunas palabras clave que se utilizarán en este capítulo:\n",
    "\n",
    "- Repositorio: Es la carpeta principal de tu programa en el servidor. Puede ser gestionada por sistemas de control de versiones.\n",
    "- Paquete: Se refiere a una librería de Python que contiene el código de tu aplicación. La creación de un paquete para tu proyecto se cubrirá en más detalle más adelante en este capítulo. Un paquete es simplemente un subdirectorio dentro de tu repositorio.\n",
    "- Módulo: Es un archivo Python que otros archivos Python pueden importar. Un paquete no es más que una colección de módulos relacionados.\n",
    "Recuerda que Flask no impone una estructura rígida para organizar tus archivos, pero es recomendable seguir ciertos patrones para facilitar el mantenimiento y desarrollo de tu aplicación.\n"
   ]
  },
  {
   "attachments": {},
   "cell_type": "markdown",
   "metadata": {},
   "source": [
    "## Patrones de organización\n",
    "La mayoría de los ejemplos de Flask suelen tener todo el código en un solo archivo, generalmente llamado \"app.py\". Esto funciona bien para proyectos pequeños con un número limitado de rutas y menos de algunas cientos de líneas de código de aplicación, como los utilizados en tutoriales.\n",
    "\n",
    "Sin embargo, a medida que tu aplicación Flask crece en tamaño y complejidad, es recomendable considerar una estructura de archivos más organizada. Esto puede implicar dividir el código en módulos y paquetes, para separar las responsabilidades y mejorar la mantenibilidad del proyecto.\n",
    "\n",
    "Recuerda que no hay una estructura única y obligatoria para organizar tu aplicación Flask, pero es una buena práctica modularizar el código y separar las diferentes funcionalidades en archivos y carpetas apropiadas."
   ]
  },
  {
   "attachments": {},
   "cell_type": "markdown",
   "metadata": {},
   "source": [
    "```\n",
    "app.py\n",
    "config.py\n",
    "requirements.txt\n",
    "static/\n",
    "templates/\n",
    "```"
   ]
  },
  {
   "attachments": {},
   "cell_type": "markdown",
   "metadata": {},
   "source": [
    "Cuando trabajas en un proyecto que se vuelve un poco más complicado, tener todo el código en un solo archivo puede volverse complejo. Se deben definir clases para modelos y formularios, y se mezclarán con las secuencias de comandos para las rutas y la configuración. Todo esto puede ralentizar el progreso. Para solucionar este problema, podemos separar las diferentes partes de nuestra aplicación en un conjunto de módulos que trabajan juntos. A esto se le llama paquete.\n",
    "\n",
    "Al crear un paquete, puedes organizar y estructurar tu código de manera más clara y modular. Puedes tener archivos separados para los modelos, los formularios, las rutas y otras partes de tu aplicación. Esto facilita la comprensión, el mantenimiento y el desarrollo de tu proyecto.\n",
    "\n",
    "Utilizando un enfoque basado en paquetes, puedes dividir tu aplicación en módulos relacionados y luego importar y utilizar esos módulos según sea necesario en tu archivo principal. Esto ayuda a mantener un código más organizado y permite una mejor separación de responsabilidades.\n",
    "\n",
    "Recuerda que la creación de un paquete para tu aplicación Flask se abordará con más detalle más adelante en este capítulo."
   ]
  },
  {
   "attachments": {},
   "cell_type": "markdown",
   "metadata": {},
   "source": [
    "```\n",
    "config.py\n",
    "requirements.txt\n",
    "run.py\n",
    "instance/\n",
    "    config.py\n",
    "yourapp/\n",
    "    __init__.py\n",
    "    views.py\n",
    "    models.py\n",
    "    forms.py\n",
    "    static/\n",
    "    templates/\n",
    "```"
   ]
  },
  {
   "attachments": {},
   "cell_type": "markdown",
   "metadata": {},
   "source": [
    "La estructura que se muestra a continuación te permite agrupar las diferentes partes de tu aplicación de manera coherente. Las definiciones de las clases modelo se agrupan en el archivo \"models.py\". Las definiciones de las rutas se encuentran en el archivo \"views.py\" y las definiciones de los formularios se encuentran en el archivo \"forms.py\" (ten en cuenta que hay un capítulo completo dedicado a los formularios más adelante).\n",
    "\n",
    "Esta lista ofrece un desglose de las partes incluidas en la mayoría de los proyectos de Flask. Es probable que tengas muchos otros archivos adicionales en tu repositorio, específicos de tu aplicación Flask."
   ]
  },
  {
   "attachments": {},
   "cell_type": "markdown",
   "metadata": {},
   "source": [
    "| Archivo | Descripción |\n",
    "| ------- | ----------- |\n",
    "| run.py  | Este archivo se ejecuta para lanzar un servidor de desarrollo. Obtiene una copia de la aplicación del paquete y la ejecuta. No se utilizará en producción, pero se utiliza mucho durante la fase de desarrollo. |\n",
    "| requirements.txt | Este archivo enumera todos los paquetes de Python de los que depende su aplicación. Usted puede tener archivos diferentes para desarrollo y producción. |\n",
    "| config.py | Este archivo contiene la mayoría de las variables que su proyecto necesita para configuración. |\n",
    "| /instance/config.py | Este archivo incluye variables de configuración de configuración que no deben ser por el control de versiones. Esto incluye API y URIs de bases de datos con contraseñas incrustadas. Además, esto contiene variables únicas para esta instancia de su programa. Para ejemplo, puede tener DEBUG = False en config.py pero DEBUG = True en instance/config.py en su sistema de desarrollo local. Porque este archivo será |\n",
    "| /yourapp/ | Este es el paquete que contiene su aplicación. |\n",
    "| /yourapp/__init__.py | Este archivo inicializa su aplicación y ensambla sus diversos componentes. |\n",
    "| /yourapp/views.py | Aquí es donde se definen las rutas se realizan. Puede separarse en su paquete (yourapp/views/), con vistas relacionadas organizadas en módulos. |\n",
    "| /yourapp/models.py | Aquí es donde se definen los los modelos de la aplicación. De forma similar a views.py, esto puede separarse en muchos modules.py. |\n",
    "| /yourapp/static/ | Este directorio contiene CSS, JavaScript, imágenes y otros archivos que desea hacer públicos a través de su aplicación. Es accesible desde yourapp.com/static/ por defecto. |\n",
    "| /yourapp/templates/ | Aquí es donde pondrá las plantillas Jinja2 para su aplicación. |"
   ]
  },
  {
   "attachments": {},
   "cell_type": "markdown",
   "metadata": {},
   "source": [
    "## Inicialización "
   ]
  },
  {
   "attachments": {},
   "cell_type": "markdown",
   "metadata": {},
   "source": [
    "Todas las aplicaciones Flask necesitan crear una instancia de la aplicación. Utilizando el protocolo WSGI (que se pronuncia \"wiz-ghee\"), el servidor web envía todas las solicitudes de los clientes a este objeto para que pueda manejarlas. La instancia de la aplicación es un objeto de la clase Flask. Normalmente, los objetos de esta clase se crean de la siguiente manera:"
   ]
  },
  {
   "cell_type": "code",
   "execution_count": null,
   "metadata": {},
   "outputs": [],
   "source": [
    "from flask import Flask\n",
    "\n",
    "app = Flask(__name__)"
   ]
  },
  {
   "attachments": {},
   "cell_type": "markdown",
   "metadata": {},
   "source": [
    "El único argumento que debemos proporcionar al constructor de la clase Flask es el nombre del módulo o paquete principal de la aplicación. En la mayoría de los casos, la variable __name__ de Python es la respuesta correcta para este argumento.\n",
    "\n",
    "Los nuevos desarrolladores de Flask a menudo se confunden al pasar el argumento __name__ al constructor de la aplicación. Flask utiliza este argumento para determinar la ubicación de la aplicación, lo que le permite encontrar otros archivos que forman parte de la aplicación, como imágenes y plantillas."
   ]
  },
  {
   "attachments": {},
   "cell_type": "markdown",
   "metadata": {},
   "source": [
    "## Blueprints"
   ]
  },
  {
   "attachments": {},
   "cell_type": "markdown",
   "metadata": {},
   "source": [
    "En algún momento, es posible que descubras que tienes muchas rutas en tu aplicación. Si eres como yo, tu primera inclinación será dividirlas en diferentes módulos dentro de un paquete. En esta etapa, puedes considerar la incorporación de blueprints en tu aplicación. Los blueprints son definiciones autocontenidas de partes de tu aplicación. Funcionan como aplicaciones dentro de tu aplicación principal. Por ejemplo, puedes tener un blueprint para el panel de administración, otro para el frontend y otro para el panel de usuarios. Esto te permite agrupar vistas, archivos estáticos y plantillas por componente, al tiempo que compartes modelos, formularios y otras características de tu aplicación entre ellos. Pronto discutiremos cómo organizar tu aplicación utilizando blueprints.\n",
    "\n",
    "Utilizar blueprints te ayuda a mantener tu código más modular y escalable, ya que puedes separar lógicamente diferentes componentes de tu aplicación. Esto facilita el mantenimiento y el desarrollo continuo, ya que cada blueprint se ocupa de un conjunto específico de funcionalidades.\n",
    "\n",
    "¡Continuaremos hablando sobre cómo organizar tu aplicación utilizando blueprints más adelante!"
   ]
  },
  {
   "attachments": {},
   "cell_type": "markdown",
   "metadata": {},
   "source": [
    "<div>\n",
    "    <a href=\"../Flask.py\">\n",
    "        <img src=\"../img/return.png\" alt=\"return\" title=\"return\" width=\"75\" style=\"float: left;\" />\n",
    "    </a>\n",
    "    <a href=\"./NB03.ipynb\">\n",
    "        <img src=\"../img/forward.png\" alt=\"forward\" title=\"forward\" width=\"75\" style=\"float: right;\" />\n",
    "    </a>\n",
    "</div>"
   ]
  }
 ],
 "metadata": {
  "language_info": {
   "name": "python"
  },
  "orig_nbformat": 4
 },
 "nbformat": 4,
 "nbformat_minor": 2
}
