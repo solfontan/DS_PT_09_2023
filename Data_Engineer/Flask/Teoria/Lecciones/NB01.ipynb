{
 "cells": [
  {
   "attachments": {},
   "cell_type": "markdown",
   "metadata": {},
   "source": [
    "# Entorno Virtual"
   ]
  },
  {
   "attachments": {},
   "cell_type": "markdown",
   "metadata": {},
   "source": [
    "El entorno de tu programa es todo aquello que debe estar accesible para que se ejecute correctamente. Existen diversas acciones que podemos llevar a cabo para configurar y mantener el entorno de nuestra aplicación. Este capítulo se enfoca en ese aspecto.\n",
    "\n",
    "Al instalar paquetes de forma privada sin afectar al intérprete de Python ya instalado en tu sistema, puedes hacerlo dentro de un entorno virtual, el cual es una duplicación del intérprete de Python.\n",
    "\n",
    "Los entornos virtuales resultan muy útiles, ya que evitan que el intérprete de Python del sistema se vea sobrecargado con paquetes y versiones que no coinciden. Mediante la configuración de un entorno virtual para cada proyecto, puedes asegurarte de que las aplicaciones solo tengan acceso a los paquetes que necesitan. Esto te permite crear múltiples entornos virtuales y mantener el intérprete global limpio. Además, dado que los entornos virtuales pueden ser creados y operados sin necesidad de privilegios de administrador, superan al intérprete Python del sistema en su funcionalidad."
   ]
  },
  {
   "attachments": {},
   "cell_type": "markdown",
   "metadata": {},
   "source": [
    "## Utilice virtualenv para gestionar su entorno"
   ]
  },
  {
   "attachments": {},
   "cell_type": "markdown",
   "metadata": {},
   "source": [
    "Virtualenv es un programa que aísla cualquier aplicación que estés desarrollando en un entorno virtual. Un entorno virtual implica que todo el software en el que tu programa depende se almacena en una única carpeta. Esto significa que el software solo es utilizable por tu aplicación.\n",
    "\n",
    "El intérprete de Python es un tipo de entorno virtual, una copia. Al instalar paquetes en un entorno virtual, no tiene ningún impacto en el intérprete de Python utilizado por todo el sistema, solo afecta a la copia. Por lo tanto, crear una máquina virtual separada para cada aplicación es la mejor manera de asegurar que puedas instalar cualquier versión de tus paquetes. Además, los entornos virtuales no requieren una cuenta de administrador, ya que son propiedad del usuario que los crea.\n",
    "\n",
    "En lugar de utilizar directorios de paquetes para todo el sistema o para todo el usuario, podemos descargarlos en una carpeta independiente y dedicada a nuestra aplicación. Para cada proyecto, podemos elegir la versión de Python que deseamos utilizar y qué dependencias queremos tener disponibles. Con Virtualenv, es posible cambiar entre varias versiones del mismo paquete.\n",
    "\n",
    "Este tipo de escalabilidad puede ser crucial cuando se trabaja en un sistema antiguo con múltiples proyectos que requieren diferentes versiones de software. Como resultado de usar virtualenv, estarás limitado a un número reducido de paquetes Python en tu máquina, y virtualenv será uno de ellos. Pip se puede utilizar para instalar virtualenv.\n",
    "\n",
    "Los entornos virtuales pueden crearse tan pronto como tengas virtualenv instalado en tu ordenador. Ejecuta el comando virtualenv en el directorio de tu proyecto para comenzar. El único parámetro requerido es el directorio de destino del entorno virtual."
   ]
  },
  {
   "attachments": {},
   "cell_type": "markdown",
   "metadata": {},
   "source": [
    ">pip install vitualenv"
   ]
  },
  {
   "attachments": {},
   "cell_type": "markdown",
   "metadata": {},
   "source": [
    "Sí esto te genera algún problema podemos utilizar también la librería venv de python"
   ]
  },
  {
   "attachments": {},
   "cell_type": "markdown",
   "metadata": {},
   "source": [
    "## Install virtualenvwrapper"
   ]
  },
  {
   "attachments": {},
   "cell_type": "markdown",
   "metadata": {},
   "source": [
    "Virtualenvwrapper es un paquete que te permite gestionar los entornos virtuales creados con virtualenv. Para instalar el wrapper virtual y utilizarlo en tus proyectos Flask, puedes ejecutar la siguiente línea:"
   ]
  },
  {
   "attachments": {},
   "cell_type": "markdown",
   "metadata": {},
   "source": [
    ">pip install virtualenvwrapper-win"
   ]
  },
  {
   "attachments": {},
   "cell_type": "markdown",
   "metadata": {},
   "source": [
    "Linux/Mac"
   ]
  },
  {
   "attachments": {},
   "cell_type": "markdown",
   "metadata": {},
   "source": [
    "> pip install virtualenvwrapper"
   ]
  },
  {
   "attachments": {},
   "cell_type": "markdown",
   "metadata": {},
   "source": [
    "## Crea el Entorno Virutal"
   ]
  },
  {
   "attachments": {},
   "cell_type": "markdown",
   "metadata": {},
   "source": [
    "La estructura del comando para crear un entorno virtual es la siguiente:"
   ]
  },
  {
   "attachments": {},
   "cell_type": "markdown",
   "metadata": {},
   "source": [
    "python -m venv nombre-del-entorno"
   ]
  },
  {
   "attachments": {},
   "cell_type": "markdown",
   "metadata": {},
   "source": [
    "Donde \"nombre_del_entorno\" es el nombre que deseas darle a tu entorno virtual. Al ejecutar este comando, se creará una carpeta con el nombre proporcionado, la cual contendrá todos los componentes necesarios para tu entorno virtual, incluyendo una copia del intérprete de Python y las bibliotecas asociadas."
   ]
  },
  {
   "attachments": {},
   "cell_type": "markdown",
   "metadata": {},
   "source": [
    "El comando \"-m venv\" se utiliza para ejecutar el paquete \"venv\" desde el archivo fuente como un script independiente, utilizando el nombre proporcionado como argumento. Dentro del directorio \"microblog\", ahora crearás un entorno virtual. La mayoría de las personas suelen llamar a los entornos virtuales \"venv\", pero puedes elegir otro nombre si así lo deseas. Asegúrate de que estás ubicado en el directorio \"microblog\" y ejecuta el siguiente comando:"
   ]
  },
  {
   "attachments": {},
   "cell_type": "markdown",
   "metadata": {},
   "source": [
    "python -m venv venv"
   ]
  },
  {
   "attachments": {},
   "cell_type": "markdown",
   "metadata": {},
   "source": [
    "Este subdirectorio contendrá un nuevo entorno virtual con un intérprete de Python dedicado exclusivamente a este proyecto."
   ]
  },
  {
   "attachments": {},
   "cell_type": "markdown",
   "metadata": {},
   "source": [
    "```\n",
    "env/\n",
    "    Include/\n",
    "    Lib/\n",
    "    Scripts/\n",
    "    pyvenv.cfg\n",
    "```"
   ]
  },
  {
   "attachments": {},
   "cell_type": "markdown",
   "metadata": {},
   "source": [
    "Para activar el entorno virtual se utiliza la siguiente línea:"
   ]
  },
  {
   "attachments": {},
   "cell_type": "markdown",
   "metadata": {},
   "source": [
    ">env\\Scripts\\activate.bat"
   ]
  },
  {
   "attachments": {},
   "cell_type": "markdown",
   "metadata": {},
   "source": [
    "## Instalación de Paquetes Python"
   ]
  },
  {
   "attachments": {},
   "cell_type": "markdown",
   "metadata": {},
   "source": [
    "Todos los entornos virtuales incluyen el gestor de paquetes pip, el cual se utiliza para instalar paquetes de Python. De manera similar al comando \"python\", al ingresar \"pip\" en la línea de comandos se ejecutará la versión de este programa que esté asociada al entorno virtual activo.\n",
    "\n",
    "Asegúrate de que el entorno virtual esté activo antes de ejecutar el siguiente comando para instalar Flask en él:"
   ]
  },
  {
   "attachments": {},
   "cell_type": "markdown",
   "metadata": {},
   "source": [
    "> pip install Flask"
   ]
  },
  {
   "attachments": {},
   "cell_type": "markdown",
   "metadata": {},
   "source": [
    "<div>\n",
    "    <a href=\"../Flask.py\">\n",
    "        <img src=\"../img/return.png\" alt=\"return\" title=\"return\" width=\"75\" style=\"float: left;\" />\n",
    "    </a>\n",
    "    <a href=\"./NB02.ipynb\">\n",
    "        <img src=\"../img/forward.png\" alt=\"forward\" title=\"forward\" width=\"75\" style=\"float: right;\" />\n",
    "    </a>\n",
    "</div>"
   ]
  }
 ],
 "metadata": {
  "language_info": {
   "name": "python"
  },
  "orig_nbformat": 4
 },
 "nbformat": 4,
 "nbformat_minor": 2
}
