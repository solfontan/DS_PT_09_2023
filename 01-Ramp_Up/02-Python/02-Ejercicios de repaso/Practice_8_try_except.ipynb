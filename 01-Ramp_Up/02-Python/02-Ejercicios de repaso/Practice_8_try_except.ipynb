{
 "cells": [
  {
   "cell_type": "markdown",
   "metadata": {},
   "source": [
    "# Python | day 8 | try&except"
   ]
  },
  {
   "cell_type": "markdown",
   "metadata": {},
   "source": [
    "Python utiliza try y except para manejar los errores con gracia. Una salida graceful (o manejo graceful) de errores es un simple modismo de programación - un programa detecta una condición de error grave y \"sale gracefully\", de una manera controlada como resultado. A menudo el programa imprime un mensaje de error descriptivo en un terminal o registro como parte de la salida graceful, esto hace que nuestra aplicación sea más robusta. La causa de una excepción es a menudo externa al propio programa. Un ejemplo de excepciones podría ser una entrada incorrecta, un nombre de fichero erróneo, la imposibilidad de encontrar un fichero, un mal funcionamiento del dispositivo IO. El manejo adecuado de los errores evita que nuestras aplicaciones se bloqueen."
   ]
  },
  {
   "cell_type": "markdown",
   "metadata": {},
   "source": [
    "```python\n",
    "try:\n",
    "    code in this block if things go well\n",
    "except:\n",
    "    code in this block run if things go wrong\n",
    "```"
   ]
  },
  {
   "cell_type": "markdown",
   "metadata": {},
   "source": [
    "### Ejercicio 1.\n"
   ]
  },
  {
   "cell_type": "markdown",
   "metadata": {},
   "source": [
    "1. En las 4 celdas de abajo, modifica el código para atrapar el error e imprimir un mensaje significativo que alerte al usuario de lo que salió mal. Puede capturar el error utilizando una excepción general o una excepción específica para el error causado por el código."
   ]
  },
  {
   "cell_type": "code",
   "execution_count": 2,
   "metadata": {},
   "outputs": [
    {
     "name": "stdout",
     "output_type": "stream",
     "text": [
      "name 'some_string' is not defined\n"
     ]
    }
   ],
   "source": [
    "# Modifica el código de abajo:\n",
    "try:\n",
    "    print(some_string)\n",
    "except Exception as e:\n",
    "    print(e)"
   ]
  },
  {
   "cell_type": "code",
   "execution_count": 5,
   "metadata": {},
   "outputs": [
    {
     "name": "stdout",
     "output_type": "stream",
     "text": [
      "unsupported operand type(s) for ** or pow(): 'str' and 'int' \n",
      " Recuerda convertir los strings a integer\n"
     ]
    }
   ],
   "source": [
    "# Modifica el código de abajo:\n",
    "try:\n",
    "    for i in ['a','b','c']:\n",
    "        print (i**2)\n",
    "except Exception as e:\n",
    "    print(e ,'\\n Recuerda convertir los strings a integer')"
   ]
  },
  {
   "cell_type": "code",
   "execution_count": 6,
   "metadata": {},
   "outputs": [
    {
     "name": "stdout",
     "output_type": "stream",
     "text": [
      "division by zero\n"
     ]
    }
   ],
   "source": [
    "# Modifica el código de abajo:\n",
    "try:\n",
    "    x = 5\n",
    "    y = 0\n",
    "\n",
    "    z = x/y\n",
    "except Exception as e:\n",
    "    print(e) # Imprime la excepción que se ha producido."
   ]
  },
  {
   "cell_type": "code",
   "execution_count": 7,
   "metadata": {},
   "outputs": [
    {
     "name": "stdout",
     "output_type": "stream",
     "text": [
      "Ocurrió una excepción\n"
     ]
    }
   ],
   "source": [
    "# Modifica el código de abajo:\n",
    "try:\n",
    "    abc=[10,20,20]\n",
    "    print(abc[3])\n",
    "except Exception as e:\n",
    "    print(\"Ocurrió una excepción\")"
   ]
  },
  {
   "cell_type": "markdown",
   "metadata": {},
   "source": [
    "### Ejercicio 2."
   ]
  },
  {
   "cell_type": "markdown",
   "metadata": {},
   "source": [
    "En las 3 celdas de abajo, agrega una declaración if que maneje ambos tipos de entrada permitidos en las funciones."
   ]
  },
  {
   "cell_type": "code",
   "execution_count": 10,
   "metadata": {},
   "outputs": [
    {
     "name": "stdout",
     "output_type": "stream",
     "text": [
      "Error en el cálculo\n"
     ]
    }
   ],
   "source": [
    "import math # importar una biblioteca llamada math con funciones, como sqrt()\n",
    "# Modifica el código de abajo para manejar números positivos y negativos añadiendo una sentencia if y realizando una transformación:\n",
    "\n",
    "def sqrt_for_all(x):\n",
    "    # Esta función tomará cualquier número real y devolverá la raíz cuadrada de su magnitud\n",
    "    # Input: real number\n",
    "    # Output: real number\n",
    "    # Sample Input: -4\n",
    "    # Sample Output: 2.0\n",
    "    try:\n",
    "        return math.sqrt(x)\n",
    "    except:\n",
    "        print(\"Error en el cálculo\")\n",
    "\n",
    "sqrt_for_all(-1)"
   ]
  },
  {
   "cell_type": "code",
   "execution_count": 11,
   "metadata": {},
   "outputs": [
    {
     "name": "stdout",
     "output_type": "stream",
     "text": [
      "0\n"
     ]
    }
   ],
   "source": [
    "# Modificar el código de abajo para manejar cero también. En el caso de cero, devolver cero\n",
    "\n",
    "def divide(x, y):\n",
    "    # Esta función tomará dos números reales cualesquiera y devolverá su cociente. Si el denominador es cero, devolvemos cero\n",
    "    # Input: real number\n",
    "    # Output: real number\n",
    "    \n",
    "    # Sample Input: 5, 1\n",
    "    # Sample Output: 5.0\n",
    "    try:\n",
    "        return x / y\n",
    "    except ZeroDivisionError:\n",
    "        print(0)\n",
    "\n",
    "divide(5, 0)"
   ]
  },
  {
   "cell_type": "code",
   "execution_count": 13,
   "metadata": {},
   "outputs": [
    {
     "data": {
      "text/plain": [
       "[11]"
      ]
     },
     "execution_count": 13,
     "metadata": {},
     "output_type": "execute_result"
    }
   ],
   "source": [
    "# Modifica la función de abajo para que tome un número y una lista o dos números.\n",
    "# Si tomamos dos números, los suma y devuelve una lista de longitud 1.\n",
    "# En caso contrario, suma el número a cada elemento de la lista y devuelve la lista resultante.\n",
    "\n",
    "def add_elements(a, l):\n",
    "    # Esta función toma dos números o una lista y un número y suma el número a todos los elementos de la lista\n",
    "    # Si la función sólo toma dos números, devuelve una lista de longitud uno que es la suma de los números\n",
    "    \n",
    "    # Input: number and list or two numbers\n",
    "    # Output: list\n",
    "    \n",
    "    # Sample Input: 5, 6\n",
    "    # Sample Output: [11]\n",
    "    try:\n",
    "        return [a + element for element in l]\n",
    "    except Exception as e:\n",
    "        return [a + l]\n",
    "        \n",
    "add_elements(5, 6)"
   ]
  },
  {
   "cell_type": "markdown",
   "metadata": {},
   "source": [
    "### Ejercicio 3.\n",
    "\n",
    "Escribe una función que pida un entero e imprima el cuadrado del mismo. Sigue comprobando mientras la función obtiene un entero.\n",
    "\n",
    "Usa un bucle `while` con un bloque `try/except` para tener en cuenta entradas incorrectas."
   ]
  },
  {
   "cell_type": "code",
   "execution_count": 15,
   "metadata": {},
   "outputs": [
    {
     "name": "stdout",
     "output_type": "stream",
     "text": [
      "math domain error\n"
     ]
    }
   ],
   "source": [
    "continuar = True\n",
    "x = int(input('Escriba un número: '))\n",
    "\n",
    "while continuar:\n",
    "    try:\n",
    "        num = math.sqrt(x)\n",
    "        print(f'La raiz cuadrada de {x}  es de {num}')\n",
    "        continuar = False\n",
    "    except Exception as e:\n",
    "        print(e)\n",
    "        continuar = False"
   ]
  },
  {
   "cell_type": "code",
   "execution_count": null,
   "metadata": {},
   "outputs": [],
   "source": []
  },
  {
   "cell_type": "markdown",
   "metadata": {},
   "source": [
    "### Bonus track.\n",
    "1. Haz un programa usando `while` que genere una **mazo de cartas** de 4 palos diferentes. La baraja debe tener 40 cartas.\n",
    "\n",
    "   Desarrolla el programa en un fichero `.py` que se ejecutará a través del terminal.\n",
    " \n",
    "   Desde la carpeta que contiene el `.py` correspondiente, se ejecutará con el siguiente comando:` python3 nombre_del_programa.py`\n",
    "   A veces debería funcionar con `python nombre_del_programa.py`."
   ]
  },
  {
   "cell_type": "markdown",
   "metadata": {},
   "source": [
    "![\"lol\"](https://i.pinimg.com/originals/34/b2/ad/34b2ad1c370539fba5ed9422711cad7b.png)"
   ]
  },
  {
   "cell_type": "code",
   "execution_count": null,
   "metadata": {},
   "outputs": [],
   "source": []
  }
 ],
 "metadata": {
  "kernelspec": {
   "display_name": "Python 3",
   "language": "python",
   "name": "python3"
  },
  "language_info": {
   "codemirror_mode": {
    "name": "ipython",
    "version": 3
   },
   "file_extension": ".py",
   "mimetype": "text/x-python",
   "name": "python",
   "nbconvert_exporter": "python",
   "pygments_lexer": "ipython3",
   "version": "3.11.6"
  }
 },
 "nbformat": 4,
 "nbformat_minor": 4
}
