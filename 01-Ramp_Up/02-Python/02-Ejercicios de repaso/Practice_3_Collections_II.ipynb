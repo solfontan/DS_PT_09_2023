{
 "cells": [
  {
   "cell_type": "markdown",
   "metadata": {},
   "source": [
    "# Python | day 3 | collections & if/else"
   ]
  },
  {
   "cell_type": "markdown",
   "metadata": {},
   "source": [
    "### Ejercicio 1."
   ]
  },
  {
   "cell_type": "markdown",
   "metadata": {},
   "source": [
    "1. Crea una variable llamada **num_bridge** con un valor de 15."
   ]
  },
  {
   "cell_type": "code",
   "execution_count": 7,
   "metadata": {},
   "outputs": [],
   "source": [
    "num_bridge = 15"
   ]
  },
  {
   "cell_type": "markdown",
   "metadata": {},
   "source": [
    "2. Crea una variable llamada **nombre_calle** con el valor \"Recoletos\".\n",
    "\n"
   ]
  },
  {
   "cell_type": "code",
   "execution_count": 8,
   "metadata": {},
   "outputs": [],
   "source": [
    "calle = 'Recoletos'"
   ]
  },
  {
   "cell_type": "markdown",
   "metadata": {},
   "source": [
    "3. Crea una variable llamada **gusto_personal** que debe ser `Verdadero` si te gusta más la playa o `Falso` si prefieres la montaña."
   ]
  },
  {
   "cell_type": "code",
   "execution_count": 9,
   "metadata": {},
   "outputs": [],
   "source": [
    "personal = True"
   ]
  },
  {
   "cell_type": "markdown",
   "metadata": {},
   "source": [
    "4. Crea una variable llamada **nothing** como sigue: `nothing = None`. `None` no representa ningún valor, algo que debes tener en cuenta si haces `if nothing:` entonces `nothing` actúa como un booleano `False`."
   ]
  },
  {
   "cell_type": "code",
   "execution_count": 12,
   "metadata": {},
   "outputs": [],
   "source": [
    "nothing = None #nothing actúa como valor FALSE"
   ]
  },
  {
   "cell_type": "markdown",
   "metadata": {},
   "source": [
    "5. Crea una variable llamada **lista_direcciones**. Debe ser una lista que contenga lo siguiente: primer elemento **nombre_calle** y segundo elemento **número_puente**."
   ]
  },
  {
   "cell_type": "code",
   "execution_count": 14,
   "metadata": {},
   "outputs": [],
   "source": [
    "lista_direcciones = [calle, num_bridge]"
   ]
  },
  {
   "cell_type": "markdown",
   "metadata": {},
   "source": [
    "6. Crea una variable llamada **horas_dormidas** que debe contener, en forma de cadena, las horas que has dormido hoy."
   ]
  },
  {
   "cell_type": "code",
   "execution_count": 15,
   "metadata": {},
   "outputs": [],
   "source": [
    "horas_dormidas = '9'"
   ]
  },
  {
   "cell_type": "markdown",
   "metadata": {},
   "source": [
    "7. Crea una lista llamada **info_list** que contenga todas las variables que acabas de crear en el orden en que lo has hecho.\n",
    "\n",
    "```python\n",
    "len(info_list) == 6\n",
    "True\n",
    "```\n",
    "\n",
    "**IMPORTANTE: utilizarás `info_list` en algún momento de la próxima semana**."
   ]
  },
  {
   "cell_type": "code",
   "execution_count": 16,
   "metadata": {},
   "outputs": [],
   "source": [
    "info_list = [num_bridge,calle,personal,nothing, lista_direcciones, horas_dormidas]"
   ]
  },
  {
   "cell_type": "markdown",
   "metadata": {},
   "source": [
    "8. Ejecuta la siguiente celda para borrar todas las variables que acabas de crear y quédate sólo con **info_list**.\n",
    "Imprime **info_list** una vez lo hayas hecho para comprobar que la lista sigue existiendo."
   ]
  },
  {
   "cell_type": "code",
   "execution_count": 17,
   "metadata": {},
   "outputs": [],
   "source": [
    "#ejecuta esto\n",
    "del num_bridge\n",
    "del calle\n",
    "del personal\n",
    "del nothing\n",
    "del lista_direcciones\n",
    "del horas_dormidas"
   ]
  },
  {
   "cell_type": "code",
   "execution_count": null,
   "metadata": {},
   "outputs": [],
   "source": []
  },
  {
   "cell_type": "markdown",
   "metadata": {},
   "source": [
    "### Ejercicio 2."
   ]
  },
  {
   "cell_type": "markdown",
   "metadata": {},
   "source": [
    "Necesitarás `info_list` para continuar con este ejercicio. Recuerda no usar ninguna variable excepto `info_list`.\n",
    "\n",
    "Imprime lo siguiente. No uses funciones y/o bucles."
   ]
  },
  {
   "cell_type": "markdown",
   "metadata": {},
   "source": [
    " 1. Suma el número de El Puente y las horas que dormiste anoche."
   ]
  },
  {
   "cell_type": "code",
   "execution_count": 22,
   "metadata": {},
   "outputs": [
    {
     "name": "stdout",
     "output_type": "stream",
     "text": [
      "[15, 'Recoletos', True, None, ['Recoletos', 15], '9']\n",
      "La suma es de:  24\n"
     ]
    }
   ],
   "source": [
    "print(info_list)\n",
    "\n",
    "print('La suma es de: ', info_list[0] + int(info_list[-1]))"
   ]
  },
  {
   "cell_type": "markdown",
   "metadata": {},
   "source": [
    "2. Concatena el número de El Puente, el nombre de la calle, tus gustos personales y las horas que has dormido. Todos ellos deben ir separados por `\" --> \"`."
   ]
  },
  {
   "cell_type": "code",
   "execution_count": 43,
   "metadata": {},
   "outputs": [
    {
     "data": {
      "text/plain": [
       "'15 --> Recoletos --> True --> 9'"
      ]
     },
     "execution_count": 43,
     "metadata": {},
     "output_type": "execute_result"
    }
   ],
   "source": [
    "str(info_list[0]) + \" --> \" + str(info_list[1]) + \" --> \" +str(info_list[2]) + \" --> \" + info_list[-1]"
   ]
  },
  {
   "cell_type": "markdown",
   "metadata": {},
   "source": [
    "3. Acceder a la lista que se encuentra en la cuarta posición de **info_list** e imprimir el resultado de:\n",
    "     - La concatenación de los dos elementos contenidos en la lista que se encuentra en la cuarta posición de **info_list**.\n",
    "     - La multiplicación de la longitud de la lista y la longitud del nombre de la calle.\n",
    "    \n",
    "   Si en la cuarta posición de **info_list** no encuentras ninguna lista, vuelve al Ejercicio 1, por favor."
   ]
  },
  {
   "cell_type": "code",
   "execution_count": 42,
   "metadata": {},
   "outputs": [
    {
     "data": {
      "text/plain": [
       "'Recoletos 15'"
      ]
     },
     "execution_count": 42,
     "metadata": {},
     "output_type": "execute_result"
    }
   ],
   "source": [
    "info_list[4][0] + ' ' + str(info_list[4][1])\n"
   ]
  },
  {
   "cell_type": "markdown",
   "metadata": {},
   "source": [
    "### Ejercicio 3."
   ]
  },
  {
   "cell_type": "markdown",
   "metadata": {},
   "source": [
    "1. Obtenga la entrada del usuario utilizando input(\"Introduzca su edad: \"). 2. Si el usuario tiene 18 años o más, dar respuesta: Tiene edad suficiente para conducir. Si es menor de 18, se le pide que espere los años que le faltan."
   ]
  },
  {
   "cell_type": "code",
   "execution_count": 46,
   "metadata": {},
   "outputs": [
    {
     "name": "stdout",
     "output_type": "stream",
     "text": [
      "Usted tiene edad suficiente para conducir\n"
     ]
    }
   ],
   "source": [
    "age = int(input('Escriba su edad: '))\n",
    "\n",
    "if age >= 18:\n",
    "    print(\"Usted tiene edad suficiente para conducir\")\n",
    "else:\n",
    "    print (\"No puede conducir, todavia le faltan \", (18 - age), 'años')"
   ]
  },
  {
   "cell_type": "markdown",
   "metadata": {},
   "source": [
    "2. Compara los valores de **mi_edad** y **tu_edad** utilizando if/else. ¿Quién es mayor (tú o yo)? Utiliza input(\"Introduce tu edad: \") para obtener **tu_edad** como entrada. **Mi_edad** es siempre tu edad, porque eres tú quien codifica el programa."
   ]
  },
  {
   "cell_type": "code",
   "execution_count": 49,
   "metadata": {},
   "outputs": [
    {
     "name": "stdout",
     "output_type": "stream",
     "text": [
      "Usted es mayor por:  6 años\n"
     ]
    }
   ],
   "source": [
    "mi_edad = 19\n",
    "\n",
    "user_age = int(input('Escriba su edad: '))\n",
    "\n",
    "if mi_edad == user_age:\n",
    "    print(\"Tenemos la misma edad\")\n",
    "elif mi_edad > user_age:\n",
    "    print('Yo soy mayor por:', (mi_edad - user_age), 'años')\n",
    "else:\n",
    "    print('Usted es mayor por:', (user_age - mi_edad), 'años')"
   ]
  },
  {
   "cell_type": "markdown",
   "metadata": {},
   "source": [
    "3. Obtenga dos números del usuario utilizando el prompt de entrada. Si a es mayor que b devuelve \"a es mayor que b\", si a es menor que b devuelve \"a es menor que b\", si no \"a es igual a b\"."
   ]
  },
  {
   "cell_type": "code",
   "execution_count": 52,
   "metadata": {},
   "outputs": [
    {
     "name": "stdout",
     "output_type": "stream",
     "text": [
      "b : 5 es mayor que a : 3\n"
     ]
    }
   ],
   "source": [
    "a = int(input('Escriba su primer valor : '))\n",
    "b = int(input('Escriba su segundo valor : '))\n",
    "\n",
    "if a == b:\n",
    "    print(\"Son iguales\")\n",
    "elif a > b:\n",
    "    print(f'a: {a} es mayor que b: {b}')\n",
    "else:\n",
    "    print(f'b : {b} es mayor que a : {a}')"
   ]
  },
  {
   "cell_type": "markdown",
   "metadata": {},
   "source": [
    "### Bonus track. "
   ]
  },
  {
   "cell_type": "markdown",
   "metadata": {},
   "source": [
    "Declare cuatro variables:\n",
    "- Una variable de cadena que contiene tu apellido.\n",
    "- Dos variables enteras: una, con el número de la calle en la que vives, y dos, con la edad del compañero de clase sentado a tu derecha.\n",
    "    Si estás en el extremo derecho de la mesa, busca a tu compañero de clase a tu izquierda.\n",
    "    Si estás a distancia, elige a uno de tus compañeros que también esté a distancia.\n",
    "- Una lista con las variables que acabas de declarar."
   ]
  },
  {
   "cell_type": "code",
   "execution_count": 55,
   "metadata": {},
   "outputs": [],
   "source": [
    "last_name = 'Fontan'\n",
    "num_stret = 200\n",
    "partner_age = 20\n",
    "\n",
    "lista = [last_name,num_stret,partner_age]"
   ]
  },
  {
   "cell_type": "markdown",
   "metadata": {},
   "source": [
    "Utilizando un bucle **for** imprime cada elemento de la lista que acabas de crear.\n",
    "    \n"
   ]
  },
  {
   "cell_type": "code",
   "execution_count": 61,
   "metadata": {},
   "outputs": [
    {
     "name": "stdout",
     "output_type": "stream",
     "text": [
      "1 Fontan\n",
      "2 200\n",
      "3 20\n"
     ]
    }
   ],
   "source": [
    "for indice, valor_lista in enumerate(lista,1):\n",
    "    print(indice, valor_lista)"
   ]
  },
  {
   "cell_type": "markdown",
   "metadata": {},
   "source": [
    "Utilizando un **bucle for** y un **if** asegúrate de que sólo imprimes el elemento de la lista que es una cadena\n",
    "(Tu apellido)."
   ]
  },
  {
   "cell_type": "code",
   "execution_count": 70,
   "metadata": {},
   "outputs": [
    {
     "name": "stdout",
     "output_type": "stream",
     "text": [
      "Fontan\n"
     ]
    }
   ],
   "source": [
    "for i in lista:\n",
    "    if type(i) == str:\n",
    "        print(i)"
   ]
  },
  {
   "cell_type": "markdown",
   "metadata": {},
   "source": [
    "**Well done!**"
   ]
  },
  {
   "cell_type": "markdown",
   "metadata": {},
   "source": [
    "### Bonus track of the bonus track.\n",
    "\n",
    "La siguiente lista contiene algunas frutas:\n",
    "    \n",
    "`fruits = ['banana', 'orange', 'mango', 'lemon']`\n",
    "\n",
    "Si una fruta no existe en la lista añade la fruta a la lista e imprime la lista modificada. Si la fruta existe print('Esa fruta ya existe en la lista')"
   ]
  },
  {
   "cell_type": "code",
   "execution_count": 72,
   "metadata": {},
   "outputs": [
    {
     "data": {
      "text/plain": [
       "['banana', 'orange', 'mango', 'lemon', 'platano']"
      ]
     },
     "execution_count": 72,
     "metadata": {},
     "output_type": "execute_result"
    }
   ],
   "source": [
    "fruits = ['banana', 'orange', 'mango', 'lemon']\n",
    "\n",
    "fruta = input('Escriba una frutinga: ')\n",
    "\n",
    "if fruta in fruits:\n",
    "    print(f'La frutita {fruta} ya existe')\n",
    "else:\n",
    "    fruits.append(fruta)\n",
    "    \n",
    "fruits"
   ]
  },
  {
   "cell_type": "markdown",
   "metadata": {},
   "source": [
    "![\"hola\"](https://preview.redd.it/wk843smkri441.jpg?width=960&crop=smart&auto=webp&s=1a4d7a5ddeef38c03334d275afe3a9dd33866ce8)"
   ]
  },
  {
   "cell_type": "code",
   "execution_count": null,
   "metadata": {},
   "outputs": [],
   "source": []
  }
 ],
 "metadata": {
  "kernelspec": {
   "display_name": "Python 3",
   "language": "python",
   "name": "python3"
  },
  "language_info": {
   "codemirror_mode": {
    "name": "ipython",
    "version": 3
   },
   "file_extension": ".py",
   "mimetype": "text/x-python",
   "name": "python",
   "nbconvert_exporter": "python",
   "pygments_lexer": "ipython3",
   "version": "3.11.6"
  }
 },
 "nbformat": 4,
 "nbformat_minor": 4
}
