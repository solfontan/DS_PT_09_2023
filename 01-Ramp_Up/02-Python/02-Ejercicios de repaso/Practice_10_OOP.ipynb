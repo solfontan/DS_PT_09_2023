{
 "cells": [
  {
   "cell_type": "markdown",
   "metadata": {},
   "source": [
    "# Python | day 11 | object oriented programming"
   ]
  },
  {
   "cell_type": "markdown",
   "metadata": {},
   "source": [
    "#### ¡Practica lo que ya sabes y sigue aprendiendo!"
   ]
  },
  {
   "cell_type": "markdown",
   "metadata": {},
   "source": [
    "![\"con_clase\"](https://cdn.ttgtmedia.com/rms/onlineimages/whatis-object_oriented_programming_half_column_mobile.png)"
   ]
  },
  {
   "cell_type": "markdown",
   "metadata": {},
   "source": [
    "## Exercise 1. "
   ]
  },
  {
   "cell_type": "markdown",
   "metadata": {},
   "source": [
    "Un amigo tuyo te ha pedido que definas una clase para poder utilizarla en el Museo de Historia Natural de Londres con el fin de describir dinosaurios.\n",
    "\n",
    "Como no tienes ni idea de dinosaurios, te ha dado un par de instrucciones:\n",
    "\n",
    "   - Los dinosaurios tienen cuatro atributos a lo largo de toda la clase:\n",
    "        - Todos tienen dientes, aunque cada uno de ellos tiene un número diferente de ellos.\n",
    "        - Habilidades especiales que serán una lista vacía\n",
    "        - Le parece interesante especificar si son peligrosos con un booleano, también le ha dicho que lo ponga Falso ya que normalmente son muy simpáticos\n",
    "        - Todos tienen una única cabeza\n",
    "        \n",
    "        \n",
    "   - Define también un par de métodos:\n",
    "   \n",
    "       - `many_teeth` --> el número de dientes te da una pista de la edad de los dinosaurios, por eso podría ser interesante poder cambiar el número de dientes que tienen.\n",
    "       - `add_skill` --> este método añade habilidades a cada instancia de dinosaurio.\n",
    "       - `is_dangerous` --> no todos los dinosaurios son buenos, algunos de ellos son un poco peligrosos y podrían atacarte, con este método deberías ser capaz de cambiar el conjunto booleano. Asegúrate, usando `if`, que el argumento es siempre un booleano, si no imprime algo como \"Recuerda que debes dar un booleano, ¿Verdadero o Falso?\"\n"
   ]
  },
  {
   "cell_type": "code",
   "execution_count": null,
   "metadata": {},
   "outputs": [],
   "source": [
    "# define a class Dinosaur\n",
    "class Dinosaur():\n",
    "    pass"
   ]
  },
  {
   "cell_type": "markdown",
   "metadata": {},
   "source": [
    "Una vez que tengas definida la clase Dinosaurio y sus métodos, crea una instancia **tirannosaurio**. Tu amigo te ha dicho que el Tyrannosaurus rex tenía entre 50 y 60 dientes macizos en forma de cono tan grandes como plátanos. Establece el número de dientes en 60 ya que tendrás la oportunidad de cambiarlo más tarde utilizando el método `many_teeth`."
   ]
  },
  {
   "cell_type": "code",
   "execution_count": 59,
   "metadata": {},
   "outputs": [],
   "source": [
    "# crea un Tyrannosaurus rex con 60 dientes\n"
   ]
  },
  {
   "cell_type": "markdown",
   "metadata": {},
   "source": [
    "Los tiranosaurios rex son los dinosaurios más peligrosos así que, por favor, utiliza el método `is_dangerous` con el argumento \"yes, it is dangerous\", para configurar esto. Debería devolver un mensaje diciéndote que le des un booleano, True o False, en lugar de la cadena que usaste como argumento."
   ]
  },
  {
   "cell_type": "code",
   "execution_count": 60,
   "metadata": {},
   "outputs": [],
   "source": [
    "# llama al método es_peligroso diciendo \"sí, es peligroso\"\n"
   ]
  },
  {
   "cell_type": "markdown",
   "metadata": {},
   "source": [
    "Buen intento. Pero usted necesita para establecer esto con un booleano. Dado que los tiranosaurios rex son peligrosos dale True como argumento al método `is_dangerous`."
   ]
  },
  {
   "cell_type": "code",
   "execution_count": 61,
   "metadata": {},
   "outputs": [],
   "source": [
    "# llamar al método is_dangerous con True como argumento\n"
   ]
  },
  {
   "cell_type": "markdown",
   "metadata": {},
   "source": [
    "Establece \"letalidad\" como habilidad especial del tiranosaurio rex usando el método `add_skill`. "
   ]
  },
  {
   "cell_type": "code",
   "execution_count": null,
   "metadata": {},
   "outputs": [],
   "source": [
    "# dar letalidad como argumento al método add_skill\n"
   ]
  },
  {
   "cell_type": "markdown",
   "metadata": {},
   "source": [
    "Muestra su `special_skill` para asegurarte de que añades la habilidad como se espera."
   ]
  },
  {
   "cell_type": "code",
   "execution_count": null,
   "metadata": {},
   "outputs": [],
   "source": [
    "# muestra su habilidad_especial\n"
   ]
  },
  {
   "cell_type": "markdown",
   "metadata": {},
   "source": [
    "Si se podía añadir \"letalidad\" a las habilidades especiales del tiranosaurio, probemos ahora añadiendo \"fuerza\"."
   ]
  },
  {
   "cell_type": "code",
   "execution_count": 64,
   "metadata": {},
   "outputs": [],
   "source": [
    "# añadir fuerza a la lista de special_skill\n"
   ]
  },
  {
   "cell_type": "markdown",
   "metadata": {},
   "source": [
    "Ahora, usted sabe mucho sobre el tiranosaurio rex y se enteró de la mayoría de ellos pierden algunos dientes debido a su dieta durante su vida, por lo que 50 dientes debe ser más realista. Utiliza el método `muchos_dientes`. "
   ]
  },
  {
   "cell_type": "code",
   "execution_count": 65,
   "metadata": {},
   "outputs": [],
   "source": [
    "# fijar 50 dientes como número de dientes\n"
   ]
  },
  {
   "cell_type": "markdown",
   "metadata": {},
   "source": [
    "Mostrar los atributos del tiranosaurio rex definiendo un diccionario llamado `tyrannosaurus_data`. Las claves deben ser los atributos `dientes`, `peligro`, `cabeza`, `habilidad_especial`, y los valores los dados a los atributos durante el ejercicio.\n",
    "\n",
    "*Pista: Podrías resolver este ejercicio usando una función. Prueba con google.*"
   ]
  },
  {
   "cell_type": "code",
   "execution_count": 66,
   "metadata": {},
   "outputs": [],
   "source": [
    "# crear el diccionario tyrannosaurus_data\n"
   ]
  },
  {
   "cell_type": "markdown",
   "metadata": {},
   "source": [
    "### Bonus\n",
    "\n",
    "Trate de definir una función llamada `if_danger` que compruebe si **Dinosaurio** es peligroso y si lo es, entonces devuelve algo así como \"CORRE POR TU VIDA, ESTE TIO TIENE HAMBRE Y COME PERSONAS\", en caso de que el dinosaurio no sea peligroso devuelve \"todo bien, nada que temer\".\n",
    "\n",
    "Llama a la función usando como argumento el atributo `peligro` del **tyrannosaurus**."
   ]
  },
  {
   "cell_type": "code",
   "execution_count": null,
   "metadata": {},
   "outputs": [],
   "source": [
    "# define if_danger con un parámetro\n"
   ]
  },
  {
   "cell_type": "code",
   "execution_count": null,
   "metadata": {},
   "outputs": [],
   "source": [
    "# invoca la función if_danger\n"
   ]
  },
  {
   "cell_type": "markdown",
   "metadata": {},
   "source": [
    "## Exercise 2. "
   ]
  },
  {
   "cell_type": "markdown",
   "metadata": {},
   "source": [
    "Una empresa va a abrir un banco, pero el programador que está diseñando la clase de usuario ha cometido algunos errores. Necesitan que les ayudes.\n",
    "\n",
    "Debes incluir lo siguiente:\n",
    "\n",
    "**Un método de retirada**\n",
    "- Resta dinero del saldo\n",
    "- Un parámetro, dinero a retirar\n",
    "- Lanza ValueError si no hay suficiente dinero para retirar\n",
    "- Devuelve una cadena con nombre y saldo(ver ejemplos)\n",
    "\n",
    "**Un método de comprobación\n",
    "- Añade dinero al saldo\n",
    "- Dos parámetros, otro usuario y dinero\n",
    "- El otro usuario siempre será válido\n",
    "- Genera un ValueError si el otro usuario no tiene suficiente dinero\n",
    "- Genera un ValueError si checking_account no es verdadero para el otro usuario\n",
    "- Devuelve una cadena con nombre y saldo más otro nombre y otro saldo(ver ejemplos)\n",
    "\n",
    "**Un método add_cash**\n",
    "- Añade dinero al saldo\n",
    "- Un parámetro, dinero a añadir\n",
    "- Devuelve una cadena con nombre y saldo(ver ejemplos)\n",
    "\n",
    "**Notas adicionales:**\n",
    "\n",
    "- Checking_account debe ser almacenado como un booleano\n",
    "- Ningún número de entrada será negativo\n",
    "- La salida debe terminar con un punto\n",
    "- No se utilizarán números flotantes, por lo que el saldo debe ser entero.\n",
    "- No se utilizarán divisas"
   ]
  },
  {
   "cell_type": "markdown",
   "metadata": {},
   "source": [
    "**Si te atreves a intentar resolver este problema, necesitarás esto:** https://www.w3schools.com/python/gloss_python_raise.asp"
   ]
  },
  {
   "cell_type": "code",
   "execution_count": 69,
   "metadata": {},
   "outputs": [],
   "source": [
    "#your code here\n",
    "class User(object):\n",
    "    pass\n"
   ]
  }
 ],
 "metadata": {
  "kernelspec": {
   "display_name": "Python 3",
   "language": "python",
   "name": "python3"
  },
  "language_info": {
   "codemirror_mode": {
    "name": "ipython",
    "version": 3
   },
   "file_extension": ".py",
   "mimetype": "text/x-python",
   "name": "python",
   "nbconvert_exporter": "python",
   "pygments_lexer": "ipython3",
   "version": "3.8.3"
  }
 },
 "nbformat": 4,
 "nbformat_minor": 4
}
