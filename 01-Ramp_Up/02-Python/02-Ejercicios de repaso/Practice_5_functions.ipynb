{
 "cells": [
  {
   "cell_type": "markdown",
   "metadata": {},
   "source": [
    "# Python | day 5 | functions"
   ]
  },
  {
   "cell_type": "markdown",
   "metadata": {},
   "source": [
    "En Python, una función es un grupo de sentencias relacionadas que realizan una tarea específica."
   ]
  },
  {
   "cell_type": "markdown",
   "metadata": {},
   "source": [
    "#### Diferencia entre `return` e `print`.\n",
    "\n",
    "Tómate unos minutos para entender la diferencia entre `return` e `print`, parece que son lo mismo, pero no lo son y es importante que entiendas la diferencia."
   ]
  },
  {
   "cell_type": "code",
   "execution_count": null,
   "metadata": {},
   "outputs": [],
   "source": [
    "def suma(a,b):\n",
    "    print(a)\n",
    "    return a+b\n",
    "\n",
    "print(suma(suma(2,2),4))"
   ]
  },
  {
   "cell_type": "markdown",
   "metadata": {},
   "source": [
    "#### Comentarios en una función."
   ]
  },
  {
   "cell_type": "code",
   "execution_count": null,
   "metadata": {},
   "outputs": [],
   "source": [
    "def say_hello(name):\n",
    "    \"\"\"\n",
    "    Given a name as an argument, \n",
    "    the function return a string greeting\n",
    "    the name given. \n",
    "    \"\"\"\n",
    "    return f\"hello {name}\""
   ]
  },
  {
   "cell_type": "code",
   "execution_count": null,
   "metadata": {},
   "outputs": [],
   "source": [
    "print(say_hello(\"Clara\"))"
   ]
  },
  {
   "cell_type": "code",
   "execution_count": null,
   "metadata": {},
   "outputs": [],
   "source": [
    "help(say_hello)"
   ]
  },
  {
   "cell_type": "markdown",
   "metadata": {},
   "source": [
    "### Ejercicio 1."
   ]
  },
  {
   "cell_type": "markdown",
   "metadata": {},
   "source": [
    "Para resolver los siguientes ejercicios será necesario definir una función para cada apartado. Elige el nombre de esas funciones a menos que se especifique, pero asegúrate de definir un único parámetro `cualquiera_lista`, al llamar a la función corresponderá a la variable `info_lista`.\n"
   ]
  },
  {
   "cell_type": "code",
   "execution_count": null,
   "metadata": {},
   "outputs": [],
   "source": [
    "# puedes utilizar esta lista o tomar la tuya de la Práctica 3\n",
    "info_list = [15, 'Recoletos', True, ['Recoletos', 15],  None, '8'] "
   ]
  },
  {
   "cell_type": "markdown",
   "metadata": {},
   "source": [
    "1. Muestra en pantalla `\"Me gusta la tranquilidad\"` si te gusta más la montaña y `\"Me encantaría vivir en Málaga\"` si te gusta más la playa.\n",
    "\n",
    "**Recuerda que debes definir una función que haga exactamente eso pero para una lista llamada `cualquira_lista`.\n",
    "Una vez hecho esto, llama a la función con `info_list` como argumento."
   ]
  },
  {
   "cell_type": "code",
   "execution_count": null,
   "metadata": {},
   "outputs": [],
   "source": [
    "def playa_o_montania(cualquier_lista : list)-> bool:\n",
    "    \"\"\" retorna si le gusta más la playa o montania, previamente dada en la lista\"\"\"\n",
    "    if cualquier_lista[2] == True:\n",
    "        return 'M encantaría vivir en Málaga'\n",
    "    else:\n",
    "        return 'M gusta la tranquilidad'\n",
    "    \n",
    "playa_o_montania(info_list)"
   ]
  },
  {
   "cell_type": "markdown",
   "metadata": {},
   "source": [
    "2. Imprime **\"Hoy estoy cansado\"** si has dormido menos de 7 horas o **\"Hoy conquisto el mundo\"** si has dormido más de 7 horas."
   ]
  },
  {
   "cell_type": "code",
   "execution_count": null,
   "metadata": {},
   "outputs": [],
   "source": [
    "def suenio(horas : float) -> str:\n",
    "    if horas <= 7:\n",
    "        return 'Hoy estoy cansado'\n",
    "    else:\n",
    "        return 'Hoy conquisto el mundo'\n",
    "    \n",
    "suenio(4)"
   ]
  },
  {
   "cell_type": "markdown",
   "metadata": {},
   "source": [
    "3. Recorrer `cualquira_lista` para imprimir todos los elementos que contiene. Esta función debe devolver la lista convertida en tupla."
   ]
  },
  {
   "cell_type": "code",
   "execution_count": null,
   "metadata": {},
   "outputs": [],
   "source": [
    "def list_tupla(cualquier_lista : list) ->tuple:        \n",
    "        return tuple(cualquier_lista)\n",
    "    \n",
    "list_tupla(info_list)"
   ]
  },
  {
   "cell_type": "markdown",
   "metadata": {},
   "source": [
    "4. Recorrer `cualquira_lista` para imprimir todos los elementos que contiene concatenados con la cadena `\"--> OK\"`. Esta función debe devolver un mensaje diciendo, `\"everything will be ok\"`.\n"
   ]
  },
  {
   "cell_type": "code",
   "execution_count": null,
   "metadata": {},
   "outputs": [],
   "source": [
    "def concatenar(cualquier_lista: list) -> str:\n",
    "    for i in cualquier_lista:\n",
    "        print(i, end=' --> OK ')\n",
    "        \n",
    "    return 'everithing will be ok'\n",
    "\n",
    "concatenar(info_list)"
   ]
  },
  {
   "cell_type": "markdown",
   "metadata": {},
   "source": [
    "5. Recorrer `cualquira_lista` para mostrar todos los elementos que contiene excepto el primero. Esta función debe devolver el primer elemento de la lista."
   ]
  },
  {
   "cell_type": "code",
   "execution_count": null,
   "metadata": {},
   "outputs": [],
   "source": [
    "def primer_out(cualquier_lista: list) -> list:  \n",
    "    posicion=0\n",
    "    listaaa = list()\n",
    "    \n",
    "    while posicion < len(cualquier_lista):\n",
    "        if cualquier_lista[posicion] == 0:\n",
    "            cualquier_lista.pop(posicion)\n",
    "        else:\n",
    "            posicion=posicion+1\n",
    "            listaaa.append(cualquier_lista[posicion])\n",
    "        return listaaa\n",
    "            \n",
    "primer_out(info_list)"
   ]
  },
  {
   "cell_type": "markdown",
   "metadata": {},
   "source": [
    "6. Recorrer `cualquira_lista` para mostrar todos los elementos que contiene excepto el último. Esta función debe devolver el último elemento de la lista."
   ]
  },
  {
   "cell_type": "code",
   "execution_count": null,
   "metadata": {},
   "outputs": [],
   "source": []
  },
  {
   "cell_type": "markdown",
   "metadata": {},
   "source": [
    "7. Recorre `cualquira_lista` para mostrar todos los elementos que contiene excepto el número de la calle y las horas que has dormido."
   ]
  },
  {
   "cell_type": "code",
   "execution_count": null,
   "metadata": {},
   "outputs": [],
   "source": []
  },
  {
   "cell_type": "markdown",
   "metadata": {},
   "source": [
    "8. Recorrer `cualquira_lista` para imprimir todos los elementos que contiene excepto el primer elemento de la lista que está en cuarta posición (`'Recoletos`). Esta función debe devolver la longitud de ese elemento."
   ]
  },
  {
   "cell_type": "code",
   "execution_count": null,
   "metadata": {},
   "outputs": [],
   "source": []
  },
  {
   "cell_type": "markdown",
   "metadata": {},
   "source": [
    "9. Haz un bucle sobre `cualquira_lista` para mostrar todos los elementos que contiene excepto el que contiene la información sobre si te gusta la montaña o la playa. La función debe devolver un mensaje que diga `\"Me encanta la playa\"` si prefieres la playa y un mensaje que diga `\"Me encanta la montaña\"` en caso contrario. "
   ]
  },
  {
   "cell_type": "code",
   "execution_count": null,
   "metadata": {},
   "outputs": [],
   "source": []
  },
  {
   "cell_type": "code",
   "execution_count": null,
   "metadata": {},
   "outputs": [],
   "source": []
  },
  {
   "cell_type": "markdown",
   "metadata": {},
   "source": [
    "### Ejercicio 2.\n",
    "\n",
    "En caso de no poder resolver una pregunta que contenga el código de una función, intenta hacerlo sin definir ninguna."
   ]
  },
  {
   "cell_type": "markdown",
   "metadata": {},
   "source": [
    "1. Crea una variable llamada `zone` y dale el valor **None**. 2. Recorre `cualquira_lista` y actualiza `zona` a **True** si y sólo si, has dormido más de 7 horas, te gusta la playa y la suma de las horas que has dormido más el número de El Puente es menor de 24. Para cualquier otro caso, `zone` será **False**. Esta función debe devolver el valor de `zone` y se llamará `zone_function`.\n"
   ]
  },
  {
   "cell_type": "code",
   "execution_count": null,
   "metadata": {},
   "outputs": [],
   "source": [
    "zone = None\n",
    "info = {\n",
    "    'puente': 15, \n",
    "    'ubicacion' : 'Recoletos',\n",
    "    'playa': True, \n",
    "    'lista' : ['Recoletos', 15], \n",
    "    'horas' : 8\n",
    "    }"
   ]
  },
  {
   "cell_type": "code",
   "execution_count": null,
   "metadata": {},
   "outputs": [],
   "source": [
    "def zone_function(dicc: dict) -> bool:\n",
    "    if dicc['horas'] > 7 and dicc['playa'] == True and dicc['horas'] + dicc['puente'] < 24:\n",
    "        zone = True\n",
    "        return zone, 'Aguante la playa'\n",
    "    else:\n",
    "        zone = False\n",
    "        return zone\n",
    "    \n",
    "zone_function(info)"
   ]
  },
  {
   "cell_type": "markdown",
   "metadata": {},
   "source": [
    "2. Define una función llamada `test_function` que reciba un único parámetro llamado `zone_value` y que devuelva el valor de `zone_value` si es **True**. Una vez definida `test_function` deberás llamarla con el valor devuelto por `zone_function` como argumento."
   ]
  },
  {
   "cell_type": "code",
   "execution_count": null,
   "metadata": {},
   "outputs": [],
   "source": [
    "def test_function(zone_value):\n",
    "    if zone_value == True:\n",
    "        return zone_value \n",
    "    \n",
    "test_function(zone_function(info))"
   ]
  },
  {
   "cell_type": "markdown",
   "metadata": {},
   "source": [
    "3. Define una función que pregunte al usuario si le gusta la montaña y, en caso negativo, llame a la función `zone_function`."
   ]
  },
  {
   "cell_type": "code",
   "execution_count": null,
   "metadata": {},
   "outputs": [],
   "source": [
    "def montania(value):\n",
    "    if value == True:\n",
    "        return 'Le gusta la montania'\n",
    "    else:\n",
    "        return zone_function(info)\n",
    "\n",
    "montania(True)"
   ]
  },
  {
   "cell_type": "markdown",
   "metadata": {},
   "source": [
    "### Bonus Track.\n",
    "\n",
    "**Este Bonus Track puede llevarte varios días, no pasa nada, a veces la codificación es cuestión de tiempo.**"
   ]
  },
  {
   "cell_type": "markdown",
   "metadata": {},
   "source": [
    "1. Programa **una calculadora** que pida en pantalla dos números y dos operadores. Primero debe realizarse una operación y luego otra. Intenta definir el mayor número posible de funciones."
   ]
  },
  {
   "cell_type": "code",
   "execution_count": null,
   "metadata": {},
   "outputs": [],
   "source": []
  },
  {
   "cell_type": "markdown",
   "metadata": {},
   "source": [
    "!['ha'](https://i.pinimg.com/originals/c6/4e/fc/c64efc9adaedbf446f328698e8b67388.jpg)"
   ]
  },
  {
   "cell_type": "code",
   "execution_count": null,
   "metadata": {},
   "outputs": [],
   "source": []
  }
 ],
 "metadata": {
  "kernelspec": {
   "display_name": "Python 3.9.0 64-bit",
   "metadata": {
    "interpreter": {
     "hash": "2475d6245a592878725d4384023842617923001cc03e07ab60580c5fb01fa30c"
    }
   },
   "name": "python3"
  },
  "language_info": {
   "codemirror_mode": {
    "name": "ipython",
    "version": 3
   },
   "file_extension": ".py",
   "mimetype": "text/x-python",
   "name": "python",
   "nbconvert_exporter": "python",
   "pygments_lexer": "ipython3",
   "version": "3.11.6"
  }
 },
 "nbformat": 4,
 "nbformat_minor": 4
}
